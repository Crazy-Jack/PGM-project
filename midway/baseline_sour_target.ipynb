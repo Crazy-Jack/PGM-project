{
 "cells": [
  {
   "cell_type": "code",
   "execution_count": 22,
   "metadata": {},
   "outputs": [],
   "source": [
    "import torch\n",
    "import torchvision\n",
    "import torchvision.datasets as datasets\n",
    "from tqdm import tqdm\n",
    "import argparse\n",
    "from torch.utils.data import Dataset, DataLoader\n",
    "import torch.nn as nn\n",
    "import torch.nn.functional as F\n",
    "import torch.optim as optim\n",
    "import numpy as np\n",
    "import matplotlib.pyplot as plt\n",
    "import torch.backends.cudnn as cudnn\n",
    "import os\n",
    "import sys\n",
    "import logging\n",
    "import logging.handlers\n",
    "from PIL import Image"
   ]
  },
  {
   "cell_type": "markdown",
   "metadata": {},
   "source": [
    "# Parser"
   ]
  },
  {
   "cell_type": "code",
   "execution_count": 23,
   "metadata": {},
   "outputs": [
    {
     "name": "stderr",
     "output_type": "stream",
     "text": [
      "usage: ipykernel_launcher.py [-h] [--batch_size BATCH_SIZE]\n",
      "                             [--learning_rate LEARNING_RATE]\n",
      "                             [--momentum MOMENTUM] [--gpu_num GPU_NUM]\n",
      "                             [--seed SEED] [--save_path SAVE_PATH]\n",
      "                             [--subfolder SUBFOLDER] [--wtarget WTARGET]\n",
      "                             [--model_save_period MODEL_SAVE_PERIOD]\n",
      "ipykernel_launcher.py: error: unrecognized arguments: -f C:\\Users\\Tianqin Li\\AppData\\Roaming\\jupyter\\runtime\\kernel-3eb47440-93ae-4825-af98-1a8a400b12f6.json\n"
     ]
    },
    {
     "ename": "SystemExit",
     "evalue": "2",
     "output_type": "error",
     "traceback": [
      "An exception has occurred, use %tb to see the full traceback.\n",
      "\u001b[1;31mSystemExit\u001b[0m\u001b[1;31m:\u001b[0m 2\n"
     ]
    },
    {
     "name": "stderr",
     "output_type": "stream",
     "text": [
      "C:\\Users\\Tianqin Li\\anaconda3\\envs\\russ-local\\lib\\site-packages\\IPython\\core\\interactiveshell.py:3339: UserWarning: To exit: use 'exit', 'quit', or Ctrl-D.\n",
      "  warn(\"To exit: use 'exit', 'quit', or Ctrl-D.\", stacklevel=1)\n"
     ]
    }
   ],
   "source": [
    "parser = argparse.ArgumentParser(description='Domain adaptation')\n",
    "parser.add_argument(\"--batch_size\", type=int, default=\"100\", help=\"batch size\")\n",
    "parser.add_argument(\"--learning_rate\", type=float, default=1e-2, help=\"learning rate\")\n",
    "parser.add_argument(\"--momentum\", type=float, default=0.5, help=\"momentum\")\n",
    "parser.add_argument(\"--gpu_num\", type=int, default=0, help=\"gpu num\")\n",
    "parser.add_argument(\"--seed\", type=int, default=123, help=\"munually set seed\")\n",
    "parser.add_argument(\"--save_path\", type=str, default=r\"C:\\Users\\Tianqin Li\\Code\\PGM-project\\train_related\", help=\"save path\")\n",
    "parser.add_argument(\"--subfolder\", type=str, default=r'\\baseline_st', help=\"subfolder name\")\n",
    "parser.add_argument(\"--wtarget\", type=float, default=0.7, help=\"target weight\")\n",
    "parser.add_argument(\"--model_save_period\", type=int, default=2, help=\"save period\")\n",
    "\n",
    "\n",
    "args = parser.parse_args()"
   ]
  },
  {
   "cell_type": "markdown",
   "metadata": {},
   "source": [
    "# local only"
   ]
  },
  {
   "cell_type": "code",
   "execution_count": 24,
   "metadata": {},
   "outputs": [],
   "source": [
    "# local only\n",
    "class local_args:\n",
    "    def __init__(self, **entries):\n",
    "        self.__dict__.update(entries)\n",
    "        \n",
    "args = local_args(**{\n",
    "    'batch_size': 400,\n",
    "    'learning_rate': 1e-2,\n",
    "    'momentum': 0.5,\n",
    "    'gpu_num': 0,\n",
    "    'seed': 123,\n",
    "    'save_path': r\"C:\\Users\\Tianqin Li\\Code\\PGM-project\\train_related\",\n",
    "    'epochs': 200,\n",
    "    'subfolder': r'\\BBBAseline_source_target_notdann',\n",
    "    'wtarget': 0.7,\n",
    "    'dann_weight': 1e-2,\n",
    "    'model_save_period': 2,\n",
    "})"
   ]
  },
  {
   "cell_type": "code",
   "execution_count": 5,
   "metadata": {},
   "outputs": [],
   "source": [
    "\n",
    "device = torch.device('cuda:{}'.format(args.gpu_num) if torch.cuda.is_available() else 'cpu')\n",
    "# seed\n",
    "torch.manual_seed(args.seed)\n",
    "torch.cuda.manual_seed(args.seed)\n",
    "np.random.seed(args.seed)\n",
    "cudnn.deterministic = True\n",
    "torch.backends.cudnn.deterministic = True\n",
    "\n",
    "\n",
    "\n",
    "device = torch.device('cuda:{}'.format(args.gpu_num) if torch.cuda.is_available() else 'cpu')\n",
    "\n",
    " \n",
    "model_sub_folder = args.subfolder + '\\wtarget_%f_dann_weight_%f'%(args.wtarget, args.dann_weight)\n",
    "\n",
    "if not os.path.exists(args.save_path+model_sub_folder):\n",
    "    os.makedirs(args.save_path+model_sub_folder)"
   ]
  },
  {
   "cell_type": "code",
   "execution_count": 6,
   "metadata": {},
   "outputs": [
    {
     "name": "stdout",
     "output_type": "stream",
     "text": [
      "batch_size: 400\n",
      "learning_rate: 0.01\n",
      "momentum: 0.5\n",
      "gpu_num: 0\n",
      "seed: 123\n",
      "save_path: C:\\Users\\Tianqin Li\\Code\\PGM-project\\train_related\n",
      "epochs: 200\n",
      "subfolder: \\BBBAseline_source_target_notdann\n",
      "wtarget: 0.7\n",
      "dann_weight: 0.01\n",
      "model_save_period: 2\n"
     ]
    }
   ],
   "source": [
    "\n",
    "logger = logging.getLogger()\n",
    "logger.setLevel(logging.INFO)\n",
    "\n",
    "if os.path.isfile(args.save_path+model_sub_folder+ '\\logfile.log'):\n",
    "    os.remove(args.save_path+model_sub_folder+ '\\logfile.log')\n",
    "    \n",
    "file_log_handler = logging.FileHandler(args.save_path+model_sub_folder+ '\\logfile.log')\n",
    "logger.addHandler(file_log_handler)\n",
    "\n",
    "stdout_log_handler = logging.StreamHandler(sys.stdout)\n",
    "logger.addHandler(stdout_log_handler)\n",
    "\n",
    "attrs = vars(args)\n",
    "for item in attrs.items():\n",
    "    logger.info(\"%s: %s\"%item)\n"
   ]
  },
  {
   "cell_type": "markdown",
   "metadata": {},
   "source": [
    "# Data loader"
   ]
  },
  {
   "cell_type": "code",
   "execution_count": 7,
   "metadata": {},
   "outputs": [],
   "source": [
    "mnist_trainset = datasets.MNIST(root='./data', train=True, download=True, transform=torchvision.transforms.Compose([\n",
    "                               torchvision.transforms.ToTensor(),\n",
    "                               torchvision.transforms.Normalize(\n",
    "                                 (0.1307,), (0.3081,))\n",
    "                             ]))"
   ]
  },
  {
   "cell_type": "code",
   "execution_count": 8,
   "metadata": {},
   "outputs": [],
   "source": [
    "mnist_testset = datasets.MNIST(root='./data', train=False, download=True, transform=torchvision.transforms.Compose([\n",
    "                               torchvision.transforms.ToTensor(),\n",
    "                               torchvision.transforms.Normalize(\n",
    "                                 (0.1307,), (0.3081,))\n",
    "                             ]))"
   ]
  },
  {
   "cell_type": "code",
   "execution_count": 9,
   "metadata": {},
   "outputs": [
    {
     "name": "stdout",
     "output_type": "stream",
     "text": [
      "Using downloaded and verified file: ./data\\train_32x32.mat\n"
     ]
    }
   ],
   "source": [
    "svhn_trainset = datasets.SVHN(root='./data', split='train', download=True, transform=torchvision.transforms.Compose([\n",
    "                    torchvision.transforms.Resize((28, 28)),\n",
    "                    torchvision.transforms.Grayscale(num_output_channels=1),\n",
    "                    torchvision.transforms.ToTensor(),\n",
    "                    torchvision.transforms.Normalize([0.5], [0.5])]))"
   ]
  },
  {
   "cell_type": "code",
   "execution_count": 10,
   "metadata": {},
   "outputs": [
    {
     "name": "stdout",
     "output_type": "stream",
     "text": [
      "Using downloaded and verified file: ./data\\test_32x32.mat\n"
     ]
    }
   ],
   "source": [
    "svhn_testset = datasets.SVHN(root='./data', split='test', download=True, transform=torchvision.transforms.Compose([\n",
    "                    torchvision.transforms.Resize((28, 28)),\n",
    "                    torchvision.transforms.Grayscale(num_output_channels=1),\n",
    "                    torchvision.transforms.ToTensor(),\n",
    "                    torchvision.transforms.Normalize([0.5], [0.5])]))"
   ]
  },
  {
   "cell_type": "code",
   "execution_count": 11,
   "metadata": {},
   "outputs": [],
   "source": [
    "# # mnist\n",
    "# train_mnist_loader = DataLoader(mnist_trainset, batch_size=args.batch_size, shuffle=True)\n",
    "# test_mnist_loader = DataLoader(mnist_testset, batch_size=args.batch_size, shuffle=True)\n",
    "# examples = enumerate(test_mnist_loader)\n",
    "# batch_idx, (example_data, example_targets) = next(examples)\n",
    "\n",
    "\n",
    "# fig = plt.figure()\n",
    "# for i in range(6):\n",
    "#   plt.subplot(2,3,i+1)\n",
    "#   plt.tight_layout()\n",
    "#   plt.imshow(example_data[i][0], cmap='gray', interpolation='none')\n",
    "#   plt.title(\"Ground Truth: {}\".format(example_targets[i]))\n",
    "#   plt.xticks([])\n",
    "#   plt.yticks([])"
   ]
  },
  {
   "cell_type": "code",
   "execution_count": 12,
   "metadata": {},
   "outputs": [],
   "source": [
    "# # svhn\n",
    "# train_svhn_loader = DataLoader(svhn_trainset, batch_size=args.batch_size, shuffle=True)\n",
    "# test_svhn_loader = DataLoader(svhn_trainset, batch_size=args.batch_size, shuffle=True)\n",
    "# examples = enumerate(train_svhn_loader)\n",
    "# batch_idx, (example_data, example_targets) = next(examples)\n",
    "\n",
    "\n",
    "# fig = plt.figure()\n",
    "# for i in range(6):\n",
    "#   plt.subplot(2,3,i+1)\n",
    "#   plt.tight_layout()\n",
    "#   plt.imshow(example_data[i][0], cmap='gray', interpolation='none')\n",
    "#   plt.title(\"Ground Truth: {}\".format(example_targets[i]))\n",
    "#   plt.xticks([])\n",
    "#   plt.yticks([])"
   ]
  },
  {
   "cell_type": "code",
   "execution_count": 13,
   "metadata": {},
   "outputs": [],
   "source": [
    "# reload data\n",
    "train_mnist_loader = DataLoader(mnist_trainset, batch_size=args.batch_size, shuffle=True)\n",
    "test_mnist_loader = DataLoader(mnist_testset, batch_size=args.batch_size, shuffle=True)\n",
    "train_svhn_loader = DataLoader(svhn_trainset, batch_size=args.batch_size, shuffle=True)\n",
    "test_svhn_loader = DataLoader(svhn_trainset, batch_size=args.batch_size, shuffle=True)"
   ]
  },
  {
   "cell_type": "markdown",
   "metadata": {},
   "source": [
    "## Process data for cancat with source and target label"
   ]
  },
  {
   "cell_type": "code",
   "execution_count": 14,
   "metadata": {},
   "outputs": [],
   "source": [
    "class ConcatDataset(Dataset):\n",
    "    def __init__(self, x, y, mode='mnist'):\n",
    "        self.x = x\n",
    "        self.y = y\n",
    "        self.len = self.x.shape[0]\n",
    "        self.mode = mode\n",
    "        if self.mode == 'mnist':\n",
    "            self.transform = torchvision.transforms.Compose([\n",
    "                               torchvision.transforms.ToTensor(),\n",
    "                               torchvision.transforms.Normalize(\n",
    "                                 (0.1307,), (0.3081,))\n",
    "                             ])\n",
    "        elif self.mode == 'svhn':\n",
    "            self.transform = torchvision.transforms.Compose([\n",
    "                    torchvision.transforms.Resize((28, 28)),\n",
    "                    torchvision.transforms.Grayscale(num_output_channels=1),\n",
    "                    torchvision.transforms.ToTensor(),\n",
    "                    torchvision.transforms.Normalize([0.5], [0.5])])\n",
    "\n",
    "    def __len__(self):\n",
    "        return self.len\n",
    "    \n",
    "    def __getitem__(self, index):\n",
    "        if self.mode == 'mnist':\n",
    "            img = Image.fromarray(self.x[index].numpy(), mode='L')\n",
    "            img = self.transform(img)\n",
    "        elif self.mode == 'svhn':\n",
    "            img = Image.fromarray(np.transpose(self.x[index], (1, 2, 0)))\n",
    "            img = self.transform(img)\n",
    "    \n",
    "        return img, self.y[index]"
   ]
  },
  {
   "cell_type": "code",
   "execution_count": 15,
   "metadata": {},
   "outputs": [],
   "source": [
    "\n",
    "concat_mnist_train = ConcatDataset(mnist_trainset.data, torch.randint(0,2,(mnist_trainset.data.shape[0],)), mode = 'mnist')\n",
    "concat_svhn_train = ConcatDataset(svhn_trainset.data, torch.randint(0,2,(svhn_trainset.data.shape[0],)), mode = 'svhn')\n",
    "\n",
    "\n",
    "adverial_dataset = torch.utils.data.ConcatDataset([concat_mnist_train, concat_svhn_train])\n",
    "# [i[1] for i in [adverial_dataset[m] for m in torch.randint(0, len(adverial_dataset), (100,))]]\n",
    "adverial_loader = DataLoader(adverial_dataset, batch_size=args.batch_size, shuffle=True)"
   ]
  },
  {
   "cell_type": "code",
   "execution_count": null,
   "metadata": {},
   "outputs": [],
   "source": []
  },
  {
   "cell_type": "markdown",
   "metadata": {},
   "source": [
    "# Model"
   ]
  },
  {
   "cell_type": "code",
   "execution_count": 16,
   "metadata": {},
   "outputs": [],
   "source": [
    "class Encoder(nn.Module):\n",
    "    def __init__(self):\n",
    "        super(Encoder, self).__init__()\n",
    "        self.conv1 = nn.Conv2d(1, 10, kernel_size=5)\n",
    "        self.conv2 = nn.Conv2d(10, 20, kernel_size=5)\n",
    "        self.conv2_drop = nn.Dropout2d()\n",
    "        self.fc1 = nn.Linear(320, 50)\n",
    "        self.fc2 = nn.Linear(50, 30)\n",
    "\n",
    "    def forward(self, x):\n",
    "        x = F.relu(F.max_pool2d(self.conv1(x), 2))\n",
    "        x = F.relu(F.max_pool2d(self.conv2_drop(self.conv2(x)), 2))\n",
    "        x = x.view(-1, 320)\n",
    "        x = F.relu(self.fc1(x))\n",
    "        x = F.dropout(x, training=self.training)\n",
    "        x = self.fc2(x)\n",
    "        return x"
   ]
  },
  {
   "cell_type": "code",
   "execution_count": 17,
   "metadata": {},
   "outputs": [],
   "source": [
    "class FNN(nn.Module):\n",
    "    def __init__(self, d_in, d_h1, d_h2, d_out, dp=0.2):\n",
    "        super(FNN, self).__init__()\n",
    "        self.fc1 = nn.Linear(d_in, d_h1)\n",
    "        self.ln1 = nn.LayerNorm(d_h1)\n",
    "        self.relu1 = nn.ReLU(inplace=True)\n",
    "        self.dropout1 = nn.Dropout(dp)\n",
    "        self.fc2 = nn.Linear(d_h1, d_h2)\n",
    "        self.ln2 = nn.LayerNorm(d_h2)\n",
    "        self.relu2 = nn.ReLU(inplace=True)\n",
    "        self.dropout2 = nn.Dropout(dp)\n",
    "        self.fc3 = nn.Linear(d_h2, d_out)\n",
    "\n",
    "    def forward(self, x):\n",
    "        x = self.fc1(x)\n",
    "        x = self.ln1(x)\n",
    "        x = self.relu1(x)\n",
    "        x = self.dropout1(x)\n",
    "        x = self.fc2(x)\n",
    "        x = self.ln2(x)\n",
    "        x = self.relu2(x)\n",
    "        x = self.dropout2(x)\n",
    "        x = self.fc3(x)\n",
    "\n",
    "        return x"
   ]
  },
  {
   "cell_type": "code",
   "execution_count": 18,
   "metadata": {},
   "outputs": [],
   "source": [
    "class Adversial_loss(nn.Module):\n",
    "    def __init__(self):\n",
    "        super(Adversial_loss, self).__init__()\n",
    "    \n",
    "    def forward(self):\n",
    "        pass"
   ]
  },
  {
   "cell_type": "code",
   "execution_count": 19,
   "metadata": {},
   "outputs": [],
   "source": [
    "def weights_init(m):\n",
    "    if type(m) == nn.Linear:\n",
    "        torch.nn.init.xavier_uniform_(m.weight)\n",
    "    elif type(m) == nn.LayerNorm:\n",
    "        torch.nn.init.normal_(m.weight, 1.0, 0.02)\n",
    "        torch.nn.init.constant_(m.bias, 0)\n"
   ]
  },
  {
   "cell_type": "code",
   "execution_count": 20,
   "metadata": {},
   "outputs": [
    {
     "name": "stdout",
     "output_type": "stream",
     "text": [
      "cuda:0\n"
     ]
    },
    {
     "data": {
      "text/plain": [
       "FNN(\n",
       "  (fc1): Linear(in_features=30, out_features=100, bias=True)\n",
       "  (ln1): LayerNorm((100,), eps=1e-05, elementwise_affine=True)\n",
       "  (relu1): ReLU(inplace=True)\n",
       "  (dropout1): Dropout(p=0.2, inplace=False)\n",
       "  (fc2): Linear(in_features=100, out_features=100, bias=True)\n",
       "  (ln2): LayerNorm((100,), eps=1e-05, elementwise_affine=True)\n",
       "  (relu2): ReLU(inplace=True)\n",
       "  (dropout2): Dropout(p=0.2, inplace=False)\n",
       "  (fc3): Linear(in_features=100, out_features=2, bias=True)\n",
       ")"
      ]
     },
     "execution_count": 20,
     "metadata": {},
     "output_type": "execute_result"
    }
   ],
   "source": [
    "\n",
    "device = torch.device('cuda:{}'.format(args.gpu_num) if torch.cuda.is_available() else 'cpu')\n",
    "print(device)\n",
    "torch.manual_seed(args.seed)\n",
    "torch.cuda.manual_seed(args.seed)\n",
    "np.random.seed(args.seed)\n",
    "\n",
    "encoder = Encoder().to(device)\n",
    "CNet = FNN(d_in=30, d_h1=100, d_h2=100, d_out=10, dp=0.2).to(device)\n",
    "DomainCNet = FNN(d_in=30, d_h1=100, d_h2=100, d_out=2, dp=0.2).to(device)\n",
    "\n",
    "\n",
    "\n",
    "\n",
    "optimizerEncoder = optim.Adam(encoder.parameters(), lr=args.learning_rate)\n",
    "optimizerCNet = optim.Adam(CNet.parameters(), lr=args.learning_rate)\n",
    "optimizerDomainCNet = optim.Adam(DomainCNet.parameters(), lr=args.learning_rate)\n",
    "\n",
    "criterion_classifier = nn.CrossEntropyLoss().to(device)\n",
    "# criterion_adverisal = \n",
    "\n",
    "encoder.apply(weights_init)\n",
    "CNet.apply(weights_init)\n",
    "DomainCNet.apply(weights_init)"
   ]
  },
  {
   "cell_type": "markdown",
   "metadata": {},
   "source": [
    "# Train"
   ]
  },
  {
   "cell_type": "code",
   "execution_count": 21,
   "metadata": {},
   "outputs": [
    {
     "name": "stdout",
     "output_type": "stream",
     "text": [
      "Started Training\n"
     ]
    },
    {
     "name": "stderr",
     "output_type": "stream",
     "text": [
      "100%|██████████| 150/150 [00:10<00:00, 13.84it/s]\n",
      "100%|██████████| 184/184 [00:15<00:00, 11.73it/s]\n"
     ]
    },
    {
     "name": "stdout",
     "output_type": "stream",
     "text": [
      "Epochs 1: source train acc: 0.606250; source test acc: 0.637300; target train acc: 0.361727; target test acc: 0.656688\n"
     ]
    },
    {
     "name": "stderr",
     "output_type": "stream",
     "text": [
      "100%|██████████| 150/150 [00:10<00:00, 14.80it/s]\n",
      "100%|██████████| 184/184 [00:16<00:00, 11.50it/s]\n"
     ]
    },
    {
     "name": "stdout",
     "output_type": "stream",
     "text": [
      "Epochs 2: source train acc: 0.839150; source test acc: 0.767700; target train acc: 0.569420; target test acc: 0.770425\n"
     ]
    },
    {
     "name": "stderr",
     "output_type": "stream",
     "text": [
      "100%|██████████| 150/150 [00:10<00:00, 14.87it/s]\n",
      "100%|██████████| 184/184 [00:15<00:00, 11.63it/s]\n"
     ]
    },
    {
     "name": "stdout",
     "output_type": "stream",
     "text": [
      "Epochs 3: source train acc: 0.873400; source test acc: 0.795100; target train acc: 0.633250; target test acc: 0.797726\n"
     ]
    },
    {
     "name": "stderr",
     "output_type": "stream",
     "text": [
      "100%|██████████| 150/150 [00:10<00:00, 14.68it/s]\n",
      "100%|██████████| 184/184 [00:15<00:00, 11.52it/s]\n"
     ]
    },
    {
     "name": "stdout",
     "output_type": "stream",
     "text": [
      "Epochs 4: source train acc: 0.884733; source test acc: 0.805200; target train acc: 0.667049; target test acc: 0.808264\n"
     ]
    },
    {
     "name": "stderr",
     "output_type": "stream",
     "text": [
      "100%|██████████| 150/150 [00:10<00:00, 14.87it/s]\n",
      "100%|██████████| 184/184 [00:15<00:00, 11.63it/s]\n"
     ]
    },
    {
     "name": "stdout",
     "output_type": "stream",
     "text": [
      "Epochs 5: source train acc: 0.892000; source test acc: 0.823900; target train acc: 0.683320; target test acc: 0.807131\n"
     ]
    },
    {
     "name": "stderr",
     "output_type": "stream",
     "text": [
      "100%|██████████| 150/150 [00:10<00:00, 14.65it/s]\n",
      "100%|██████████| 184/184 [00:15<00:00, 11.71it/s]\n"
     ]
    },
    {
     "name": "stdout",
     "output_type": "stream",
     "text": [
      "Epochs 6: source train acc: 0.897200; source test acc: 0.815800; target train acc: 0.691661; target test acc: 0.819048\n"
     ]
    },
    {
     "name": "stderr",
     "output_type": "stream",
     "text": [
      "100%|██████████| 150/150 [00:09<00:00, 15.01it/s]\n",
      "100%|██████████| 184/184 [00:15<00:00, 11.61it/s]\n"
     ]
    },
    {
     "name": "stdout",
     "output_type": "stream",
     "text": [
      "Epochs 7: source train acc: 0.899700; source test acc: 0.821000; target train acc: 0.698131; target test acc: 0.827184\n"
     ]
    },
    {
     "name": "stderr",
     "output_type": "stream",
     "text": [
      "100%|██████████| 150/150 [00:10<00:00, 14.98it/s]\n",
      "100%|██████████| 184/184 [00:15<00:00, 11.67it/s]\n"
     ]
    },
    {
     "name": "stdout",
     "output_type": "stream",
     "text": [
      "Epochs 8: source train acc: 0.903067; source test acc: 0.843500; target train acc: 0.709843; target test acc: 0.830228\n"
     ]
    },
    {
     "name": "stderr",
     "output_type": "stream",
     "text": [
      "100%|██████████| 150/150 [00:10<00:00, 14.73it/s]\n",
      "100%|██████████| 184/184 [00:15<00:00, 11.68it/s]\n"
     ]
    },
    {
     "name": "stdout",
     "output_type": "stream",
     "text": [
      "Epochs 9: source train acc: 0.906917; source test acc: 0.876100; target train acc: 0.711249; target test acc: 0.825082\n"
     ]
    },
    {
     "name": "stderr",
     "output_type": "stream",
     "text": [
      "100%|██████████| 150/150 [00:10<00:00, 14.83it/s]\n",
      "100%|██████████| 184/184 [00:16<00:00, 11.45it/s]\n"
     ]
    },
    {
     "name": "stdout",
     "output_type": "stream",
     "text": [
      "Epochs 10: source train acc: 0.911100; source test acc: 0.879200; target train acc: 0.719604; target test acc: 0.826542\n"
     ]
    },
    {
     "name": "stderr",
     "output_type": "stream",
     "text": [
      "100%|██████████| 150/150 [00:10<00:00, 14.97it/s]\n",
      "100%|██████████| 184/184 [00:15<00:00, 11.84it/s]\n"
     ]
    },
    {
     "name": "stdout",
     "output_type": "stream",
     "text": [
      "Epochs 11: source train acc: 0.912400; source test acc: 0.882200; target train acc: 0.723180; target test acc: 0.838923\n"
     ]
    },
    {
     "name": "stderr",
     "output_type": "stream",
     "text": [
      "100%|██████████| 150/150 [00:10<00:00, 14.69it/s]\n",
      "100%|██████████| 184/184 [00:15<00:00, 11.54it/s]\n"
     ]
    },
    {
     "name": "stdout",
     "output_type": "stream",
     "text": [
      "Epochs 12: source train acc: 0.912333; source test acc: 0.903200; target train acc: 0.724327; target test acc: 0.834268\n"
     ]
    },
    {
     "name": "stderr",
     "output_type": "stream",
     "text": [
      "100%|██████████| 150/150 [00:10<00:00, 14.79it/s]\n",
      "100%|██████████| 184/184 [00:15<00:00, 11.69it/s]\n"
     ]
    },
    {
     "name": "stdout",
     "output_type": "stream",
     "text": [
      "Epochs 13: source train acc: 0.915550; source test acc: 0.907100; target train acc: 0.731630; target test acc: 0.834692\n"
     ]
    },
    {
     "name": "stderr",
     "output_type": "stream",
     "text": [
      "100%|██████████| 150/150 [00:10<00:00, 14.58it/s]\n",
      "100%|██████████| 184/184 [00:15<00:00, 11.56it/s]\n"
     ]
    },
    {
     "name": "stdout",
     "output_type": "stream",
     "text": [
      "Epochs 14: source train acc: 0.918300; source test acc: 0.905500; target train acc: 0.733445; target test acc: 0.836371\n"
     ]
    },
    {
     "name": "stderr",
     "output_type": "stream",
     "text": [
      "100%|██████████| 150/150 [00:10<00:00, 14.96it/s]\n",
      "100%|██████████| 184/184 [00:16<00:00, 11.42it/s]\n"
     ]
    },
    {
     "name": "stdout",
     "output_type": "stream",
     "text": [
      "Epochs 15: source train acc: 0.916600; source test acc: 0.912200; target train acc: 0.736285; target test acc: 0.838882\n"
     ]
    },
    {
     "name": "stderr",
     "output_type": "stream",
     "text": [
      "100%|██████████| 150/150 [00:10<00:00, 14.79it/s]\n",
      "100%|██████████| 184/184 [00:15<00:00, 11.52it/s]\n"
     ]
    },
    {
     "name": "stdout",
     "output_type": "stream",
     "text": [
      "Epochs 16: source train acc: 0.918367; source test acc: 0.918300; target train acc: 0.741431; target test acc: 0.835360\n"
     ]
    },
    {
     "name": "stderr",
     "output_type": "stream",
     "text": [
      "100%|██████████| 150/150 [00:10<00:00, 14.61it/s]\n",
      "100%|██████████| 184/184 [00:15<00:00, 11.55it/s]\n"
     ]
    },
    {
     "name": "stdout",
     "output_type": "stream",
     "text": [
      "Epochs 17: source train acc: 0.917417; source test acc: 0.916100; target train acc: 0.737595; target test acc: 0.843537\n"
     ]
    },
    {
     "name": "stderr",
     "output_type": "stream",
     "text": [
      "100%|██████████| 150/150 [00:10<00:00, 14.39it/s]\n",
      "100%|██████████| 184/184 [00:15<00:00, 11.56it/s]\n"
     ]
    },
    {
     "name": "stdout",
     "output_type": "stream",
     "text": [
      "Epochs 18: source train acc: 0.918783; source test acc: 0.937300; target train acc: 0.739561; target test acc: 0.838200\n"
     ]
    },
    {
     "name": "stderr",
     "output_type": "stream",
     "text": [
      "100%|██████████| 150/150 [00:10<00:00, 14.30it/s]\n",
      "100%|██████████| 184/184 [00:15<00:00, 11.51it/s]\n"
     ]
    },
    {
     "name": "stdout",
     "output_type": "stream",
     "text": [
      "Epochs 19: source train acc: 0.921000; source test acc: 0.934400; target train acc: 0.744625; target test acc: 0.847646\n"
     ]
    },
    {
     "name": "stderr",
     "output_type": "stream",
     "text": [
      "100%|██████████| 150/150 [00:10<00:00, 14.60it/s]\n",
      "100%|██████████| 184/184 [00:16<00:00, 11.41it/s]\n"
     ]
    },
    {
     "name": "stdout",
     "output_type": "stream",
     "text": [
      "Epochs 20: source train acc: 0.920933; source test acc: 0.927900; target train acc: 0.741431; target test acc: 0.844110\n"
     ]
    },
    {
     "name": "stderr",
     "output_type": "stream",
     "text": [
      "100%|██████████| 150/150 [00:10<00:00, 14.90it/s]\n",
      "100%|██████████| 184/184 [00:16<00:00, 11.49it/s]\n"
     ]
    },
    {
     "name": "stdout",
     "output_type": "stream",
     "text": [
      "Epochs 21: source train acc: 0.922333; source test acc: 0.927900; target train acc: 0.742332; target test acc: 0.845789\n"
     ]
    },
    {
     "name": "stderr",
     "output_type": "stream",
     "text": [
      "100%|██████████| 150/150 [00:10<00:00, 14.51it/s]\n",
      "100%|██████████| 184/184 [00:16<00:00, 11.46it/s]\n"
     ]
    },
    {
     "name": "stdout",
     "output_type": "stream",
     "text": [
      "Epochs 22: source train acc: 0.922817; source test acc: 0.938500; target train acc: 0.747301; target test acc: 0.846035\n"
     ]
    },
    {
     "name": "stderr",
     "output_type": "stream",
     "text": [
      "100%|██████████| 150/150 [00:10<00:00, 14.39it/s]\n",
      "100%|██████████| 184/184 [00:16<00:00, 11.46it/s]\n"
     ]
    },
    {
     "name": "stdout",
     "output_type": "stream",
     "text": [
      "Epochs 23: source train acc: 0.923983; source test acc: 0.940900; target train acc: 0.749280; target test acc: 0.847701\n"
     ]
    },
    {
     "name": "stderr",
     "output_type": "stream",
     "text": [
      "100%|██████████| 150/150 [00:10<00:00, 14.47it/s]\n",
      "100%|██████████| 184/184 [00:15<00:00, 11.54it/s]\n"
     ]
    },
    {
     "name": "stdout",
     "output_type": "stream",
     "text": [
      "Epochs 24: source train acc: 0.923350; source test acc: 0.931600; target train acc: 0.747000; target test acc: 0.844752\n"
     ]
    },
    {
     "name": "stderr",
     "output_type": "stream",
     "text": [
      "100%|██████████| 150/150 [00:10<00:00, 14.58it/s]\n",
      "100%|██████████| 184/184 [00:16<00:00, 11.30it/s]\n"
     ]
    },
    {
     "name": "stdout",
     "output_type": "stream",
     "text": [
      "Epochs 25: source train acc: 0.923833; source test acc: 0.934600; target train acc: 0.748502; target test acc: 0.850758\n"
     ]
    },
    {
     "name": "stderr",
     "output_type": "stream",
     "text": [
      "100%|██████████| 150/150 [00:10<00:00, 14.77it/s]\n",
      "100%|██████████| 184/184 [00:15<00:00, 11.51it/s]\n"
     ]
    },
    {
     "name": "stdout",
     "output_type": "stream",
     "text": [
      "Epochs 26: source train acc: 0.924583; source test acc: 0.943800; target train acc: 0.754836; target test acc: 0.833954\n"
     ]
    },
    {
     "name": "stderr",
     "output_type": "stream",
     "text": [
      "100%|██████████| 150/150 [00:10<00:00, 14.66it/s]\n",
      "100%|██████████| 184/184 [00:15<00:00, 11.68it/s]\n"
     ]
    },
    {
     "name": "stdout",
     "output_type": "stream",
     "text": [
      "Epochs 27: source train acc: 0.925633; source test acc: 0.942600; target train acc: 0.752092; target test acc: 0.847264\n"
     ]
    },
    {
     "name": "stderr",
     "output_type": "stream",
     "text": [
      "100%|██████████| 150/150 [00:10<00:00, 14.68it/s]\n",
      "100%|██████████| 184/184 [00:15<00:00, 11.53it/s]\n"
     ]
    },
    {
     "name": "stdout",
     "output_type": "stream",
     "text": [
      "Epochs 28: source train acc: 0.924517; source test acc: 0.929000; target train acc: 0.754918; target test acc: 0.848506\n"
     ]
    },
    {
     "name": "stderr",
     "output_type": "stream",
     "text": [
      "100%|██████████| 150/150 [00:10<00:00, 14.83it/s]\n",
      "100%|██████████| 184/184 [00:15<00:00, 11.51it/s]\n"
     ]
    },
    {
     "name": "stdout",
     "output_type": "stream",
     "text": [
      "Epochs 29: source train acc: 0.925483; source test acc: 0.953900; target train acc: 0.754781; target test acc: 0.850008\n"
     ]
    },
    {
     "name": "stderr",
     "output_type": "stream",
     "text": [
      "100%|██████████| 150/150 [00:10<00:00, 14.54it/s]\n",
      "100%|██████████| 184/184 [00:16<00:00, 11.32it/s]\n"
     ]
    },
    {
     "name": "stdout",
     "output_type": "stream",
     "text": [
      "Epochs 30: source train acc: 0.928050; source test acc: 0.944800; target train acc: 0.752638; target test acc: 0.852669\n"
     ]
    },
    {
     "name": "stderr",
     "output_type": "stream",
     "text": [
      "100%|██████████| 150/150 [00:10<00:00, 14.64it/s]\n",
      "100%|██████████| 184/184 [00:16<00:00, 11.50it/s]\n"
     ]
    },
    {
     "name": "stdout",
     "output_type": "stream",
     "text": [
      "Epochs 31: source train acc: 0.927917; source test acc: 0.953000; target train acc: 0.756474; target test acc: 0.850704\n"
     ]
    },
    {
     "name": "stderr",
     "output_type": "stream",
     "text": [
      "100%|██████████| 150/150 [00:10<00:00, 14.64it/s]\n",
      "100%|██████████| 184/184 [00:15<00:00, 11.64it/s]\n"
     ]
    },
    {
     "name": "stdout",
     "output_type": "stream",
     "text": [
      "Epochs 32: source train acc: 0.926767; source test acc: 0.948700; target train acc: 0.755750; target test acc: 0.853488\n"
     ]
    },
    {
     "name": "stderr",
     "output_type": "stream",
     "text": [
      "100%|██████████| 150/150 [00:10<00:00, 14.67it/s]\n",
      "100%|██████████| 184/184 [00:16<00:00, 11.45it/s]\n"
     ]
    },
    {
     "name": "stdout",
     "output_type": "stream",
     "text": [
      "Epochs 33: source train acc: 0.926467; source test acc: 0.945000; target train acc: 0.758740; target test acc: 0.849052\n"
     ]
    },
    {
     "name": "stderr",
     "output_type": "stream",
     "text": [
      "100%|██████████| 150/150 [00:10<00:00, 14.59it/s]\n",
      "100%|██████████| 184/184 [00:15<00:00, 11.58it/s]\n"
     ]
    },
    {
     "name": "stdout",
     "output_type": "stream",
     "text": [
      "Epochs 34: source train acc: 0.927050; source test acc: 0.947400; target train acc: 0.754918; target test acc: 0.851823\n"
     ]
    },
    {
     "name": "stderr",
     "output_type": "stream",
     "text": [
      "100%|██████████| 150/150 [00:10<00:00, 14.95it/s]\n",
      "100%|██████████| 184/184 [00:16<00:00, 11.44it/s]\n"
     ]
    },
    {
     "name": "stdout",
     "output_type": "stream",
     "text": [
      "Epochs 35: source train acc: 0.926000; source test acc: 0.951200; target train acc: 0.757634; target test acc: 0.850977\n"
     ]
    },
    {
     "name": "stderr",
     "output_type": "stream",
     "text": [
      "100%|██████████| 150/150 [00:10<00:00, 14.83it/s]\n",
      "100%|██████████| 184/184 [00:16<00:00, 11.45it/s]\n"
     ]
    },
    {
     "name": "stdout",
     "output_type": "stream",
     "text": [
      "Epochs 36: source train acc: 0.928200; source test acc: 0.936400; target train acc: 0.760105; target test acc: 0.851577\n"
     ]
    },
    {
     "name": "stderr",
     "output_type": "stream",
     "text": [
      "100%|██████████| 150/150 [00:10<00:00, 14.70it/s]\n",
      "100%|██████████| 184/184 [00:15<00:00, 11.68it/s]\n"
     ]
    },
    {
     "name": "stdout",
     "output_type": "stream",
     "text": [
      "Epochs 37: source train acc: 0.927150; source test acc: 0.944800; target train acc: 0.759504; target test acc: 0.852301\n"
     ]
    },
    {
     "name": "stderr",
     "output_type": "stream",
     "text": [
      "100%|██████████| 150/150 [00:10<00:00, 14.54it/s]\n",
      "100%|██████████| 184/184 [00:16<00:00, 11.31it/s]\n"
     ]
    },
    {
     "name": "stdout",
     "output_type": "stream",
     "text": [
      "Epochs 38: source train acc: 0.929033; source test acc: 0.941900; target train acc: 0.760624; target test acc: 0.852424\n"
     ]
    },
    {
     "name": "stderr",
     "output_type": "stream",
     "text": [
      "100%|██████████| 150/150 [00:10<00:00, 14.35it/s]\n",
      "100%|██████████| 184/184 [00:16<00:00, 11.45it/s]\n"
     ]
    },
    {
     "name": "stdout",
     "output_type": "stream",
     "text": [
      "Epochs 39: source train acc: 0.929300; source test acc: 0.946500; target train acc: 0.761975; target test acc: 0.849202\n"
     ]
    },
    {
     "name": "stderr",
     "output_type": "stream",
     "text": [
      "100%|██████████| 150/150 [00:10<00:00, 14.66it/s]\n",
      "100%|██████████| 184/184 [00:16<00:00, 11.48it/s]\n"
     ]
    },
    {
     "name": "stdout",
     "output_type": "stream",
     "text": [
      "Epochs 40: source train acc: 0.928517; source test acc: 0.957700; target train acc: 0.759491; target test acc: 0.846513\n"
     ]
    },
    {
     "name": "stderr",
     "output_type": "stream",
     "text": [
      "100%|██████████| 150/150 [00:10<00:00, 14.56it/s]\n",
      "100%|██████████| 184/184 [00:16<00:00, 11.37it/s]\n"
     ]
    },
    {
     "name": "stdout",
     "output_type": "stream",
     "text": [
      "Epochs 41: source train acc: 0.930283; source test acc: 0.961600; target train acc: 0.761347; target test acc: 0.857051\n"
     ]
    },
    {
     "name": "stderr",
     "output_type": "stream",
     "text": [
      "100%|██████████| 150/150 [00:10<00:00, 14.54it/s]\n",
      "100%|██████████| 184/184 [00:15<00:00, 11.61it/s]\n"
     ]
    },
    {
     "name": "stdout",
     "output_type": "stream",
     "text": [
      "Epochs 42: source train acc: 0.929667; source test acc: 0.961100; target train acc: 0.763627; target test acc: 0.854799\n"
     ]
    },
    {
     "name": "stderr",
     "output_type": "stream",
     "text": [
      "100%|██████████| 150/150 [00:10<00:00, 14.85it/s]\n",
      "100%|██████████| 184/184 [00:16<00:00, 11.35it/s]\n"
     ]
    },
    {
     "name": "stdout",
     "output_type": "stream",
     "text": [
      "Epochs 43: source train acc: 0.930433; source test acc: 0.962800; target train acc: 0.763408; target test acc: 0.857652\n"
     ]
    },
    {
     "name": "stderr",
     "output_type": "stream",
     "text": [
      "100%|██████████| 150/150 [00:10<00:00, 14.46it/s]\n",
      "100%|██████████| 184/184 [00:16<00:00, 11.28it/s]\n"
     ]
    },
    {
     "name": "stdout",
     "output_type": "stream",
     "text": [
      "Epochs 44: source train acc: 0.929650; source test acc: 0.963000; target train acc: 0.760255; target test acc: 0.858348\n"
     ]
    },
    {
     "name": "stderr",
     "output_type": "stream",
     "text": [
      "100%|██████████| 150/150 [00:10<00:00, 14.49it/s]\n",
      "100%|██████████| 184/184 [00:16<00:00, 11.40it/s]\n"
     ]
    },
    {
     "name": "stdout",
     "output_type": "stream",
     "text": [
      "Epochs 45: source train acc: 0.930200; source test acc: 0.955000; target train acc: 0.765429; target test acc: 0.855304\n"
     ]
    },
    {
     "name": "stderr",
     "output_type": "stream",
     "text": [
      "100%|██████████| 150/150 [00:10<00:00, 14.66it/s]\n",
      "100%|██████████| 184/184 [00:16<00:00, 11.30it/s]\n"
     ]
    },
    {
     "name": "stdout",
     "output_type": "stream",
     "text": [
      "Epochs 46: source train acc: 0.931050; source test acc: 0.953600; target train acc: 0.761060; target test acc: 0.855263\n"
     ]
    },
    {
     "name": "stderr",
     "output_type": "stream",
     "text": [
      "100%|██████████| 150/150 [00:10<00:00, 14.55it/s]\n",
      "100%|██████████| 184/184 [00:15<00:00, 11.60it/s]\n"
     ]
    },
    {
     "name": "stdout",
     "output_type": "stream",
     "text": [
      "Epochs 47: source train acc: 0.931600; source test acc: 0.961600; target train acc: 0.766343; target test acc: 0.856915\n"
     ]
    },
    {
     "name": "stderr",
     "output_type": "stream",
     "text": [
      "100%|██████████| 150/150 [00:10<00:00, 14.34it/s]\n",
      "100%|██████████| 184/184 [00:15<00:00, 11.55it/s]\n"
     ]
    },
    {
     "name": "stdout",
     "output_type": "stream",
     "text": [
      "Epochs 48: source train acc: 0.930183; source test acc: 0.960200; target train acc: 0.764746; target test acc: 0.857979\n"
     ]
    },
    {
     "name": "stderr",
     "output_type": "stream",
     "text": [
      "100%|██████████| 150/150 [00:10<00:00, 14.49it/s]\n",
      "100%|██████████| 184/184 [00:16<00:00, 11.36it/s]\n"
     ]
    },
    {
     "name": "stdout",
     "output_type": "stream",
     "text": [
      "Epochs 49: source train acc: 0.930717; source test acc: 0.965400; target train acc: 0.763285; target test acc: 0.858130\n"
     ]
    },
    {
     "name": "stderr",
     "output_type": "stream",
     "text": [
      "100%|██████████| 150/150 [00:10<00:00, 14.35it/s]\n",
      "100%|██████████| 184/184 [00:15<00:00, 11.52it/s]\n"
     ]
    },
    {
     "name": "stdout",
     "output_type": "stream",
     "text": [
      "Epochs 50: source train acc: 0.930867; source test acc: 0.956600; target train acc: 0.766944; target test acc: 0.855045\n"
     ]
    },
    {
     "name": "stderr",
     "output_type": "stream",
     "text": [
      "100%|██████████| 150/150 [00:10<00:00, 14.52it/s]\n",
      "100%|██████████| 184/184 [00:16<00:00, 11.32it/s]\n"
     ]
    },
    {
     "name": "stdout",
     "output_type": "stream",
     "text": [
      "Epochs 51: source train acc: 0.928933; source test acc: 0.959200; target train acc: 0.765743; target test acc: 0.852506\n"
     ]
    },
    {
     "name": "stderr",
     "output_type": "stream",
     "text": [
      "100%|██████████| 150/150 [00:10<00:00, 14.54it/s]\n",
      "100%|██████████| 184/184 [00:16<00:00, 11.46it/s]\n"
     ]
    },
    {
     "name": "stdout",
     "output_type": "stream",
     "text": [
      "Epochs 52: source train acc: 0.931433; source test acc: 0.966300; target train acc: 0.766084; target test acc: 0.856696\n"
     ]
    },
    {
     "name": "stderr",
     "output_type": "stream",
     "text": [
      "100%|██████████| 150/150 [00:10<00:00, 14.25it/s]\n",
      "100%|██████████| 184/184 [00:15<00:00, 11.52it/s]\n"
     ]
    },
    {
     "name": "stdout",
     "output_type": "stream",
     "text": [
      "Epochs 53: source train acc: 0.931450; source test acc: 0.960700; target train acc: 0.765715; target test acc: 0.846527\n"
     ]
    },
    {
     "name": "stderr",
     "output_type": "stream",
     "text": [
      "100%|██████████| 150/150 [00:10<00:00, 14.45it/s]\n",
      "100%|██████████| 184/184 [00:16<00:00, 11.20it/s]\n"
     ]
    },
    {
     "name": "stdout",
     "output_type": "stream",
     "text": [
      "Epochs 54: source train acc: 0.930367; source test acc: 0.960600; target train acc: 0.764842; target test acc: 0.857420\n"
     ]
    },
    {
     "name": "stderr",
     "output_type": "stream",
     "text": [
      "100%|██████████| 150/150 [00:10<00:00, 14.41it/s]\n",
      "100%|██████████| 184/184 [00:15<00:00, 11.61it/s]\n"
     ]
    },
    {
     "name": "stdout",
     "output_type": "stream",
     "text": [
      "Epochs 55: source train acc: 0.930750; source test acc: 0.962100; target train acc: 0.767381; target test acc: 0.855577\n"
     ]
    },
    {
     "name": "stderr",
     "output_type": "stream",
     "text": [
      "100%|██████████| 150/150 [00:10<00:00, 14.87it/s]\n",
      "100%|██████████| 184/184 [00:15<00:00, 11.52it/s]\n"
     ]
    },
    {
     "name": "stdout",
     "output_type": "stream",
     "text": [
      "Epochs 56: source train acc: 0.932617; source test acc: 0.964100; target train acc: 0.768322; target test acc: 0.856191\n"
     ]
    },
    {
     "name": "stderr",
     "output_type": "stream",
     "text": [
      "100%|██████████| 150/150 [00:10<00:00, 14.91it/s]\n",
      "100%|██████████| 184/184 [00:15<00:00, 11.50it/s]\n"
     ]
    },
    {
     "name": "stdout",
     "output_type": "stream",
     "text": [
      "Epochs 57: source train acc: 0.932367; source test acc: 0.964900; target train acc: 0.766097; target test acc: 0.856601\n"
     ]
    },
    {
     "name": "stderr",
     "output_type": "stream",
     "text": [
      "100%|██████████| 150/150 [00:10<00:00, 14.51it/s]\n",
      "100%|██████████| 184/184 [00:15<00:00, 11.53it/s]\n"
     ]
    },
    {
     "name": "stdout",
     "output_type": "stream",
     "text": [
      "Epochs 58: source train acc: 0.932400; source test acc: 0.960200; target train acc: 0.766179; target test acc: 0.859631\n"
     ]
    },
    {
     "name": "stderr",
     "output_type": "stream",
     "text": [
      "100%|██████████| 150/150 [00:10<00:00, 14.33it/s]\n",
      "100%|██████████| 184/184 [00:16<00:00, 11.31it/s]\n"
     ]
    },
    {
     "name": "stdout",
     "output_type": "stream",
     "text": [
      "Epochs 59: source train acc: 0.934333; source test acc: 0.962000; target train acc: 0.768486; target test acc: 0.858116\n"
     ]
    },
    {
     "name": "stderr",
     "output_type": "stream",
     "text": [
      "100%|██████████| 150/150 [00:10<00:00, 14.54it/s]\n",
      "100%|██████████| 184/184 [00:15<00:00, 11.57it/s]\n"
     ]
    },
    {
     "name": "stdout",
     "output_type": "stream",
     "text": [
      "Epochs 60: source train acc: 0.930917; source test acc: 0.963400; target train acc: 0.766207; target test acc: 0.853884\n"
     ]
    },
    {
     "name": "stderr",
     "output_type": "stream",
     "text": [
      "100%|██████████| 150/150 [00:10<00:00, 14.57it/s]\n",
      "100%|██████████| 184/184 [00:16<00:00, 11.33it/s]\n"
     ]
    },
    {
     "name": "stdout",
     "output_type": "stream",
     "text": [
      "Epochs 61: source train acc: 0.932433; source test acc: 0.964300; target train acc: 0.766316; target test acc: 0.856027\n"
     ]
    },
    {
     "name": "stderr",
     "output_type": "stream",
     "text": [
      "100%|██████████| 150/150 [00:10<00:00, 14.66it/s]\n",
      "100%|██████████| 184/184 [00:16<00:00, 11.40it/s]\n"
     ]
    },
    {
     "name": "stdout",
     "output_type": "stream",
     "text": [
      "Epochs 62: source train acc: 0.932967; source test acc: 0.965400; target train acc: 0.767244; target test acc: 0.859986\n"
     ]
    },
    {
     "name": "stderr",
     "output_type": "stream",
     "text": [
      "100%|██████████| 150/150 [00:10<00:00, 14.33it/s]\n",
      "100%|██████████| 184/184 [00:15<00:00, 11.63it/s]\n"
     ]
    },
    {
     "name": "stdout",
     "output_type": "stream",
     "text": [
      "Epochs 63: source train acc: 0.933550; source test acc: 0.962000; target train acc: 0.764282; target test acc: 0.859058\n"
     ]
    },
    {
     "name": "stderr",
     "output_type": "stream",
     "text": [
      "100%|██████████| 150/150 [00:10<00:00, 14.26it/s]\n",
      "100%|██████████| 184/184 [00:16<00:00, 11.31it/s]\n"
     ]
    },
    {
     "name": "stdout",
     "output_type": "stream",
     "text": [
      "Epochs 64: source train acc: 0.934333; source test acc: 0.968200; target train acc: 0.765688; target test acc: 0.861365\n"
     ]
    },
    {
     "name": "stderr",
     "output_type": "stream",
     "text": [
      "100%|██████████| 150/150 [00:10<00:00, 14.70it/s]\n",
      "100%|██████████| 184/184 [00:16<00:00, 11.38it/s]\n"
     ]
    },
    {
     "name": "stdout",
     "output_type": "stream",
     "text": [
      "Epochs 65: source train acc: 0.932283; source test acc: 0.966300; target train acc: 0.770752; target test acc: 0.857966\n"
     ]
    },
    {
     "name": "stderr",
     "output_type": "stream",
     "text": [
      "100%|██████████| 150/150 [00:10<00:00, 14.52it/s]\n",
      "100%|██████████| 184/184 [00:16<00:00, 11.40it/s]\n"
     ]
    },
    {
     "name": "stdout",
     "output_type": "stream",
     "text": [
      "Epochs 66: source train acc: 0.934383; source test acc: 0.962900; target train acc: 0.767831; target test acc: 0.859372\n"
     ]
    },
    {
     "name": "stderr",
     "output_type": "stream",
     "text": [
      "100%|██████████| 150/150 [00:10<00:00, 14.62it/s]\n",
      "100%|██████████| 184/184 [00:16<00:00, 11.36it/s]\n"
     ]
    },
    {
     "name": "stdout",
     "output_type": "stream",
     "text": [
      "Epochs 67: source train acc: 0.932733; source test acc: 0.961700; target train acc: 0.767572; target test acc: 0.858403\n"
     ]
    },
    {
     "name": "stderr",
     "output_type": "stream",
     "text": [
      "100%|██████████| 150/150 [00:10<00:00, 14.27it/s]\n",
      "100%|██████████| 184/184 [00:15<00:00, 11.55it/s]\n"
     ]
    },
    {
     "name": "stdout",
     "output_type": "stream",
     "text": [
      "Epochs 68: source train acc: 0.933833; source test acc: 0.963800; target train acc: 0.767544; target test acc: 0.860082\n"
     ]
    },
    {
     "name": "stderr",
     "output_type": "stream",
     "text": [
      "100%|██████████| 150/150 [00:10<00:00, 14.42it/s]\n",
      "100%|██████████| 184/184 [00:16<00:00, 11.30it/s]\n"
     ]
    },
    {
     "name": "stdout",
     "output_type": "stream",
     "text": [
      "Epochs 69: source train acc: 0.933600; source test acc: 0.969200; target train acc: 0.770793; target test acc: 0.858962\n"
     ]
    },
    {
     "name": "stderr",
     "output_type": "stream",
     "text": [
      "100%|██████████| 150/150 [00:10<00:00, 14.51it/s]\n",
      "100%|██████████| 184/184 [00:16<00:00, 11.37it/s]\n"
     ]
    },
    {
     "name": "stdout",
     "output_type": "stream",
     "text": [
      "Epochs 70: source train acc: 0.934583; source test acc: 0.965400; target train acc: 0.774124; target test acc: 0.859194\n"
     ]
    },
    {
     "name": "stderr",
     "output_type": "stream",
     "text": [
      "100%|██████████| 150/150 [00:10<00:00, 14.45it/s]\n",
      "100%|██████████| 184/184 [00:16<00:00, 11.41it/s]\n"
     ]
    },
    {
     "name": "stdout",
     "output_type": "stream",
     "text": [
      "Epochs 71: source train acc: 0.934550; source test acc: 0.967800; target train acc: 0.770493; target test acc: 0.860368\n"
     ]
    },
    {
     "name": "stderr",
     "output_type": "stream",
     "text": [
      "100%|██████████| 150/150 [00:10<00:00, 14.68it/s]\n",
      "100%|██████████| 184/184 [00:16<00:00, 11.39it/s]\n"
     ]
    },
    {
     "name": "stdout",
     "output_type": "stream",
     "text": [
      "Epochs 72: source train acc: 0.933983; source test acc: 0.966000; target train acc: 0.771012; target test acc: 0.858553\n"
     ]
    },
    {
     "name": "stderr",
     "output_type": "stream",
     "text": [
      "100%|██████████| 150/150 [00:10<00:00, 14.27it/s]\n",
      "100%|██████████| 184/184 [00:15<00:00, 11.52it/s]\n"
     ]
    },
    {
     "name": "stdout",
     "output_type": "stream",
     "text": [
      "Epochs 73: source train acc: 0.933267; source test acc: 0.964200; target train acc: 0.767899; target test acc: 0.857884\n"
     ]
    },
    {
     "name": "stderr",
     "output_type": "stream",
     "text": [
      "100%|██████████| 150/150 [00:10<00:00, 14.20it/s]\n",
      "100%|██████████| 184/184 [00:15<00:00, 11.55it/s]\n"
     ]
    },
    {
     "name": "stdout",
     "output_type": "stream",
     "text": [
      "Epochs 74: source train acc: 0.934333; source test acc: 0.967500; target train acc: 0.771107; target test acc: 0.855222\n"
     ]
    },
    {
     "name": "stderr",
     "output_type": "stream",
     "text": [
      "100%|██████████| 150/150 [00:10<00:00, 14.57it/s]\n",
      "100%|██████████| 184/184 [00:16<00:00, 11.32it/s]\n"
     ]
    },
    {
     "name": "stdout",
     "output_type": "stream",
     "text": [
      "Epochs 75: source train acc: 0.932967; source test acc: 0.967100; target train acc: 0.769278; target test acc: 0.860232\n"
     ]
    },
    {
     "name": "stderr",
     "output_type": "stream",
     "text": [
      "100%|██████████| 150/150 [00:10<00:00, 14.55it/s]\n",
      "100%|██████████| 184/184 [00:16<00:00, 11.50it/s]\n"
     ]
    },
    {
     "name": "stdout",
     "output_type": "stream",
     "text": [
      "Epochs 76: source train acc: 0.935000; source test acc: 0.969900; target train acc: 0.770561; target test acc: 0.860300\n"
     ]
    },
    {
     "name": "stderr",
     "output_type": "stream",
     "text": [
      "100%|██████████| 150/150 [00:10<00:00, 14.58it/s]\n",
      "100%|██████████| 184/184 [00:16<00:00, 11.41it/s]\n"
     ]
    },
    {
     "name": "stdout",
     "output_type": "stream",
     "text": [
      "Epochs 77: source train acc: 0.933500; source test acc: 0.967700; target train acc: 0.771858; target test acc: 0.856369\n"
     ]
    },
    {
     "name": "stderr",
     "output_type": "stream",
     "text": [
      "100%|██████████| 150/150 [00:10<00:00, 14.47it/s]\n",
      "100%|██████████| 184/184 [00:15<00:00, 11.56it/s]\n"
     ]
    },
    {
     "name": "stdout",
     "output_type": "stream",
     "text": [
      "Epochs 78: source train acc: 0.935600; source test acc: 0.964400; target train acc: 0.769005; target test acc: 0.858525\n"
     ]
    },
    {
     "name": "stderr",
     "output_type": "stream",
     "text": [
      "100%|██████████| 150/150 [00:10<00:00, 14.38it/s]\n",
      "100%|██████████| 184/184 [00:15<00:00, 11.51it/s]\n"
     ]
    },
    {
     "name": "stdout",
     "output_type": "stream",
     "text": [
      "Epochs 79: source train acc: 0.934717; source test acc: 0.966600; target train acc: 0.772267; target test acc: 0.858949\n"
     ]
    },
    {
     "name": "stderr",
     "output_type": "stream",
     "text": [
      "100%|██████████| 150/150 [00:10<00:00, 14.85it/s]\n",
      "100%|██████████| 184/184 [00:16<00:00, 11.41it/s]\n"
     ]
    },
    {
     "name": "stdout",
     "output_type": "stream",
     "text": [
      "Epochs 80: source train acc: 0.936033; source test acc: 0.970500; target train acc: 0.771681; target test acc: 0.859972\n"
     ]
    },
    {
     "name": "stderr",
     "output_type": "stream",
     "text": [
      "100%|██████████| 150/150 [00:10<00:00, 14.53it/s]\n",
      "100%|██████████| 184/184 [00:16<00:00, 11.47it/s]\n"
     ]
    },
    {
     "name": "stdout",
     "output_type": "stream",
     "text": [
      "Epochs 81: source train acc: 0.935067; source test acc: 0.967000; target train acc: 0.774670; target test acc: 0.857775\n"
     ]
    },
    {
     "name": "stderr",
     "output_type": "stream",
     "text": [
      "100%|██████████| 150/150 [00:10<00:00, 14.65it/s]\n",
      "100%|██████████| 184/184 [00:15<00:00, 11.51it/s]\n"
     ]
    },
    {
     "name": "stdout",
     "output_type": "stream",
     "text": [
      "Epochs 82: source train acc: 0.934517; source test acc: 0.967500; target train acc: 0.773209; target test acc: 0.861570\n"
     ]
    },
    {
     "name": "stderr",
     "output_type": "stream",
     "text": [
      "100%|██████████| 150/150 [00:10<00:00, 14.78it/s]\n",
      "100%|██████████| 184/184 [00:15<00:00, 11.52it/s]\n"
     ]
    },
    {
     "name": "stdout",
     "output_type": "stream",
     "text": [
      "Epochs 83: source train acc: 0.934367; source test acc: 0.965600; target train acc: 0.773674; target test acc: 0.861884\n"
     ]
    },
    {
     "name": "stderr",
     "output_type": "stream",
     "text": [
      "100%|██████████| 150/150 [00:10<00:00, 14.35it/s]\n",
      "100%|██████████| 184/184 [00:15<00:00, 11.54it/s]\n"
     ]
    },
    {
     "name": "stdout",
     "output_type": "stream",
     "text": [
      "Epochs 84: source train acc: 0.934133; source test acc: 0.964400; target train acc: 0.771735; target test acc: 0.861297\n"
     ]
    },
    {
     "name": "stderr",
     "output_type": "stream",
     "text": [
      "100%|██████████| 150/150 [00:10<00:00, 14.44it/s]\n",
      "100%|██████████| 184/184 [00:16<00:00, 11.34it/s]\n"
     ]
    },
    {
     "name": "stdout",
     "output_type": "stream",
     "text": [
      "Epochs 85: source train acc: 0.933917; source test acc: 0.967700; target train acc: 0.774725; target test acc: 0.859194\n"
     ]
    },
    {
     "name": "stderr",
     "output_type": "stream",
     "text": [
      "100%|██████████| 150/150 [00:10<00:00, 14.62it/s]\n",
      "100%|██████████| 184/184 [00:16<00:00, 11.48it/s]\n"
     ]
    },
    {
     "name": "stdout",
     "output_type": "stream",
     "text": [
      "Epochs 86: source train acc: 0.935700; source test acc: 0.968500; target train acc: 0.771367; target test acc: 0.859071\n"
     ]
    },
    {
     "name": "stderr",
     "output_type": "stream",
     "text": [
      "100%|██████████| 150/150 [00:10<00:00, 14.60it/s]\n",
      "100%|██████████| 184/184 [00:16<00:00, 11.39it/s]\n"
     ]
    },
    {
     "name": "stdout",
     "output_type": "stream",
     "text": [
      "Epochs 87: source train acc: 0.936783; source test acc: 0.971600; target train acc: 0.775284; target test acc: 0.863139\n"
     ]
    },
    {
     "name": "stderr",
     "output_type": "stream",
     "text": [
      "100%|██████████| 150/150 [00:10<00:00, 14.57it/s]\n",
      "100%|██████████| 184/184 [00:16<00:00, 11.45it/s]\n"
     ]
    },
    {
     "name": "stdout",
     "output_type": "stream",
     "text": [
      "Epochs 88: source train acc: 0.935583; source test acc: 0.965900; target train acc: 0.774643; target test acc: 0.862034\n"
     ]
    },
    {
     "name": "stderr",
     "output_type": "stream",
     "text": [
      "100%|██████████| 150/150 [00:10<00:00, 14.30it/s]\n",
      "100%|██████████| 184/184 [00:15<00:00, 11.53it/s]\n"
     ]
    },
    {
     "name": "stdout",
     "output_type": "stream",
     "text": [
      "Epochs 89: source train acc: 0.935467; source test acc: 0.973500; target train acc: 0.775039; target test acc: 0.863658\n"
     ]
    },
    {
     "name": "stderr",
     "output_type": "stream",
     "text": [
      "100%|██████████| 150/150 [00:10<00:00, 14.47it/s]\n",
      "100%|██████████| 184/184 [00:16<00:00, 11.46it/s]\n"
     ]
    },
    {
     "name": "stdout",
     "output_type": "stream",
     "text": [
      "Epochs 90: source train acc: 0.936783; source test acc: 0.965700; target train acc: 0.773933; target test acc: 0.861269\n"
     ]
    },
    {
     "name": "stderr",
     "output_type": "stream",
     "text": [
      "100%|██████████| 150/150 [00:10<00:00, 14.62it/s]\n",
      "100%|██████████| 184/184 [00:16<00:00, 11.37it/s]\n"
     ]
    },
    {
     "name": "stdout",
     "output_type": "stream",
     "text": [
      "Epochs 91: source train acc: 0.937333; source test acc: 0.970400; target train acc: 0.773087; target test acc: 0.862252\n"
     ]
    },
    {
     "name": "stderr",
     "output_type": "stream",
     "text": [
      "100%|██████████| 150/150 [00:10<00:00, 14.59it/s]\n",
      "100%|██████████| 184/184 [00:16<00:00, 11.41it/s]\n"
     ]
    },
    {
     "name": "stdout",
     "output_type": "stream",
     "text": [
      "Epochs 92: source train acc: 0.936967; source test acc: 0.970700; target train acc: 0.772636; target test acc: 0.858375\n"
     ]
    },
    {
     "name": "stderr",
     "output_type": "stream",
     "text": [
      "100%|██████████| 150/150 [00:10<00:00, 14.89it/s]\n",
      "100%|██████████| 184/184 [00:15<00:00, 11.98it/s]\n"
     ]
    },
    {
     "name": "stdout",
     "output_type": "stream",
     "text": [
      "Epochs 93: source train acc: 0.936717; source test acc: 0.968300; target train acc: 0.778342; target test acc: 0.862470\n"
     ]
    },
    {
     "name": "stderr",
     "output_type": "stream",
     "text": [
      "100%|██████████| 150/150 [00:09<00:00, 15.19it/s]\n",
      "100%|██████████| 184/184 [00:15<00:00, 12.19it/s]\n"
     ]
    },
    {
     "name": "stdout",
     "output_type": "stream",
     "text": [
      "Epochs 94: source train acc: 0.937267; source test acc: 0.968600; target train acc: 0.776540; target test acc: 0.862170\n"
     ]
    },
    {
     "name": "stderr",
     "output_type": "stream",
     "text": [
      "100%|██████████| 150/150 [00:09<00:00, 15.07it/s]\n",
      "100%|██████████| 184/184 [00:15<00:00, 11.98it/s]\n"
     ]
    },
    {
     "name": "stdout",
     "output_type": "stream",
     "text": [
      "Epochs 95: source train acc: 0.937383; source test acc: 0.970700; target train acc: 0.778042; target test acc: 0.861051\n"
     ]
    },
    {
     "name": "stderr",
     "output_type": "stream",
     "text": [
      "100%|██████████| 150/150 [00:09<00:00, 15.56it/s]\n",
      "100%|██████████| 184/184 [00:15<00:00, 12.03it/s]\n"
     ]
    },
    {
     "name": "stdout",
     "output_type": "stream",
     "text": [
      "Epochs 96: source train acc: 0.938933; source test acc: 0.969200; target train acc: 0.779393; target test acc: 0.857147\n"
     ]
    },
    {
     "name": "stderr",
     "output_type": "stream",
     "text": [
      "100%|██████████| 150/150 [00:09<00:00, 15.25it/s]\n",
      "100%|██████████| 184/184 [00:15<00:00, 12.12it/s]\n"
     ]
    },
    {
     "name": "stdout",
     "output_type": "stream",
     "text": [
      "Epochs 97: source train acc: 0.937617; source test acc: 0.966400; target train acc: 0.777400; target test acc: 0.858061\n"
     ]
    },
    {
     "name": "stderr",
     "output_type": "stream",
     "text": [
      "100%|██████████| 150/150 [00:09<00:00, 15.49it/s]\n",
      "100%|██████████| 184/184 [00:15<00:00, 12.10it/s]\n"
     ]
    },
    {
     "name": "stdout",
     "output_type": "stream",
     "text": [
      "Epochs 98: source train acc: 0.937100; source test acc: 0.970400; target train acc: 0.775899; target test acc: 0.857911\n"
     ]
    },
    {
     "name": "stderr",
     "output_type": "stream",
     "text": [
      "100%|██████████| 150/150 [00:09<00:00, 15.34it/s]\n",
      "100%|██████████| 184/184 [00:15<00:00, 12.20it/s]\n"
     ]
    },
    {
     "name": "stdout",
     "output_type": "stream",
     "text": [
      "Epochs 99: source train acc: 0.937583; source test acc: 0.972000; target train acc: 0.776294; target test acc: 0.863344\n"
     ]
    },
    {
     "name": "stderr",
     "output_type": "stream",
     "text": [
      "100%|██████████| 150/150 [00:09<00:00, 15.22it/s]\n",
      "100%|██████████| 184/184 [00:15<00:00, 12.03it/s]\n"
     ]
    },
    {
     "name": "stdout",
     "output_type": "stream",
     "text": [
      "Epochs 100: source train acc: 0.938717; source test acc: 0.971300; target train acc: 0.779448; target test acc: 0.857474\n"
     ]
    },
    {
     "name": "stderr",
     "output_type": "stream",
     "text": [
      "100%|██████████| 150/150 [00:09<00:00, 15.49it/s]\n",
      "100%|██████████| 184/184 [00:15<00:00, 12.09it/s]\n"
     ]
    },
    {
     "name": "stdout",
     "output_type": "stream",
     "text": [
      "Epochs 101: source train acc: 0.937333; source test acc: 0.971800; target train acc: 0.776199; target test acc: 0.863235\n"
     ]
    },
    {
     "name": "stderr",
     "output_type": "stream",
     "text": [
      "100%|██████████| 150/150 [00:09<00:00, 15.34it/s]\n",
      "100%|██████████| 184/184 [00:15<00:00, 12.18it/s]\n"
     ]
    },
    {
     "name": "stdout",
     "output_type": "stream",
     "text": [
      "Epochs 102: source train acc: 0.936500; source test acc: 0.967500; target train acc: 0.777113; target test acc: 0.864259\n"
     ]
    },
    {
     "name": "stderr",
     "output_type": "stream",
     "text": [
      "100%|██████████| 150/150 [00:09<00:00, 15.33it/s]\n",
      "100%|██████████| 184/184 [00:15<00:00, 12.04it/s]\n"
     ]
    },
    {
     "name": "stdout",
     "output_type": "stream",
     "text": [
      "Epochs 103: source train acc: 0.938233; source test acc: 0.972100; target train acc: 0.775871; target test acc: 0.865487\n"
     ]
    },
    {
     "name": "stderr",
     "output_type": "stream",
     "text": [
      "100%|██████████| 150/150 [00:09<00:00, 15.44it/s]\n",
      "100%|██████████| 184/184 [00:15<00:00, 12.15it/s]\n"
     ]
    },
    {
     "name": "stdout",
     "output_type": "stream",
     "text": [
      "Epochs 104: source train acc: 0.938417; source test acc: 0.971300; target train acc: 0.774670; target test acc: 0.861993\n"
     ]
    },
    {
     "name": "stderr",
     "output_type": "stream",
     "text": [
      "100%|██████████| 150/150 [00:09<00:00, 15.38it/s]\n",
      "100%|██████████| 184/184 [00:15<00:00, 12.14it/s]\n"
     ]
    },
    {
     "name": "stdout",
     "output_type": "stream",
     "text": [
      "Epochs 105: source train acc: 0.938050; source test acc: 0.969000; target train acc: 0.777195; target test acc: 0.862443\n"
     ]
    },
    {
     "name": "stderr",
     "output_type": "stream",
     "text": [
      "100%|██████████| 150/150 [00:09<00:00, 15.60it/s]\n",
      "100%|██████████| 184/184 [00:15<00:00, 12.08it/s]\n"
     ]
    },
    {
     "name": "stdout",
     "output_type": "stream",
     "text": [
      "Epochs 106: source train acc: 0.938883; source test acc: 0.971600; target train acc: 0.777878; target test acc: 0.865255\n"
     ]
    },
    {
     "name": "stderr",
     "output_type": "stream",
     "text": [
      "100%|██████████| 150/150 [00:09<00:00, 15.38it/s]\n",
      "100%|██████████| 184/184 [00:15<00:00, 12.19it/s]\n"
     ]
    },
    {
     "name": "stdout",
     "output_type": "stream",
     "text": [
      "Epochs 107: source train acc: 0.939033; source test acc: 0.972100; target train acc: 0.775161; target test acc: 0.858525\n"
     ]
    },
    {
     "name": "stderr",
     "output_type": "stream",
     "text": [
      "100%|██████████| 150/150 [00:09<00:00, 15.28it/s]\n",
      "100%|██████████| 184/184 [00:15<00:00, 12.14it/s]\n"
     ]
    },
    {
     "name": "stdout",
     "output_type": "stream",
     "text": [
      "Epochs 108: source train acc: 0.938917; source test acc: 0.969900; target train acc: 0.778506; target test acc: 0.863249\n"
     ]
    },
    {
     "name": "stderr",
     "output_type": "stream",
     "text": [
      "100%|██████████| 150/150 [00:09<00:00, 15.53it/s]\n",
      "100%|██████████| 184/184 [00:15<00:00, 12.13it/s]\n"
     ]
    },
    {
     "name": "stdout",
     "output_type": "stream",
     "text": [
      "Epochs 109: source train acc: 0.940933; source test acc: 0.970200; target train acc: 0.776431; target test acc: 0.862320\n"
     ]
    },
    {
     "name": "stderr",
     "output_type": "stream",
     "text": [
      "100%|██████████| 150/150 [00:09<00:00, 15.18it/s]\n",
      "100%|██████████| 184/184 [00:15<00:00, 12.18it/s]\n"
     ]
    },
    {
     "name": "stdout",
     "output_type": "stream",
     "text": [
      "Epochs 110: source train acc: 0.938717; source test acc: 0.971900; target train acc: 0.779598; target test acc: 0.864013\n"
     ]
    },
    {
     "name": "stderr",
     "output_type": "stream",
     "text": [
      "100%|██████████| 150/150 [00:09<00:00, 15.41it/s]\n",
      "100%|██████████| 184/184 [00:15<00:00, 11.99it/s]\n"
     ]
    },
    {
     "name": "stdout",
     "output_type": "stream",
     "text": [
      "Epochs 111: source train acc: 0.938167; source test acc: 0.971100; target train acc: 0.777741; target test acc: 0.864354\n"
     ]
    },
    {
     "name": "stderr",
     "output_type": "stream",
     "text": [
      "100%|██████████| 150/150 [00:09<00:00, 15.61it/s]\n",
      "100%|██████████| 184/184 [00:15<00:00, 12.19it/s]\n"
     ]
    },
    {
     "name": "stdout",
     "output_type": "stream",
     "text": [
      "Epochs 112: source train acc: 0.938750; source test acc: 0.969300; target train acc: 0.779366; target test acc: 0.863699\n"
     ]
    },
    {
     "name": "stderr",
     "output_type": "stream",
     "text": [
      "100%|██████████| 150/150 [00:09<00:00, 15.38it/s]\n",
      "100%|██████████| 184/184 [00:15<00:00, 12.15it/s]\n"
     ]
    },
    {
     "name": "stdout",
     "output_type": "stream",
     "text": [
      "Epochs 113: source train acc: 0.938750; source test acc: 0.967300; target train acc: 0.776376; target test acc: 0.864791\n"
     ]
    },
    {
     "name": "stderr",
     "output_type": "stream",
     "text": [
      "100%|██████████| 150/150 [00:09<00:00, 15.50it/s]\n",
      "100%|██████████| 184/184 [00:15<00:00, 12.13it/s]\n"
     ]
    },
    {
     "name": "stdout",
     "output_type": "stream",
     "text": [
      "Epochs 114: source train acc: 0.937067; source test acc: 0.971400; target train acc: 0.777236; target test acc: 0.863590\n"
     ]
    },
    {
     "name": "stderr",
     "output_type": "stream",
     "text": [
      "100%|██████████| 150/150 [00:09<00:00, 15.24it/s]\n",
      "100%|██████████| 184/184 [00:14<00:00, 12.36it/s]\n"
     ]
    },
    {
     "name": "stdout",
     "output_type": "stream",
     "text": [
      "Epochs 115: source train acc: 0.939200; source test acc: 0.972900; target train acc: 0.778451; target test acc: 0.863412\n"
     ]
    },
    {
     "name": "stderr",
     "output_type": "stream",
     "text": [
      "100%|██████████| 150/150 [00:08<00:00, 16.69it/s]\n",
      "100%|██████████| 184/184 [00:14<00:00, 13.12it/s]\n"
     ]
    },
    {
     "name": "stdout",
     "output_type": "stream",
     "text": [
      "Epochs 116: source train acc: 0.937133; source test acc: 0.968000; target train acc: 0.776677; target test acc: 0.862430\n"
     ]
    },
    {
     "name": "stderr",
     "output_type": "stream",
     "text": [
      "100%|██████████| 150/150 [00:08<00:00, 17.06it/s]\n",
      "100%|██████████| 184/184 [00:14<00:00, 13.11it/s]\n"
     ]
    },
    {
     "name": "stdout",
     "output_type": "stream",
     "text": [
      "Epochs 117: source train acc: 0.937533; source test acc: 0.970100; target train acc: 0.780826; target test acc: 0.864859\n"
     ]
    },
    {
     "name": "stderr",
     "output_type": "stream",
     "text": [
      "100%|██████████| 150/150 [00:09<00:00, 16.54it/s]\n",
      "100%|██████████| 184/184 [00:13<00:00, 13.21it/s]\n"
     ]
    },
    {
     "name": "stdout",
     "output_type": "stream",
     "text": [
      "Epochs 118: source train acc: 0.938950; source test acc: 0.971300; target train acc: 0.779789; target test acc: 0.865378\n"
     ]
    },
    {
     "name": "stderr",
     "output_type": "stream",
     "text": [
      "100%|██████████| 150/150 [00:09<00:00, 16.61it/s]\n",
      "100%|██████████| 184/184 [00:13<00:00, 13.38it/s]\n"
     ]
    },
    {
     "name": "stdout",
     "output_type": "stream",
     "text": [
      "Epochs 119: source train acc: 0.939233; source test acc: 0.967000; target train acc: 0.780431; target test acc: 0.865242\n"
     ]
    },
    {
     "name": "stderr",
     "output_type": "stream",
     "text": [
      "100%|██████████| 150/150 [00:08<00:00, 16.68it/s]\n",
      "100%|██████████| 184/184 [00:13<00:00, 13.28it/s]\n"
     ]
    },
    {
     "name": "stdout",
     "output_type": "stream",
     "text": [
      "Epochs 120: source train acc: 0.938150; source test acc: 0.971900; target train acc: 0.778301; target test acc: 0.862894\n"
     ]
    },
    {
     "name": "stderr",
     "output_type": "stream",
     "text": [
      "100%|██████████| 150/150 [00:09<00:00, 16.66it/s]\n",
      "100%|██████████| 184/184 [00:14<00:00, 13.13it/s]\n"
     ]
    },
    {
     "name": "stdout",
     "output_type": "stream",
     "text": [
      "Epochs 121: source train acc: 0.940167; source test acc: 0.974500; target train acc: 0.778519; target test acc: 0.865337\n"
     ]
    },
    {
     "name": "stderr",
     "output_type": "stream",
     "text": [
      "100%|██████████| 150/150 [00:08<00:00, 17.24it/s]\n",
      "100%|██████████| 184/184 [00:13<00:00, 13.17it/s]\n"
     ]
    },
    {
     "name": "stdout",
     "output_type": "stream",
     "text": [
      "Epochs 122: source train acc: 0.940700; source test acc: 0.968500; target train acc: 0.780936; target test acc: 0.864136\n"
     ]
    },
    {
     "name": "stderr",
     "output_type": "stream",
     "text": [
      "100%|██████████| 150/150 [00:08<00:00, 16.76it/s]\n",
      "100%|██████████| 184/184 [00:13<00:00, 13.29it/s]\n"
     ]
    },
    {
     "name": "stdout",
     "output_type": "stream",
     "text": [
      "Epochs 123: source train acc: 0.940250; source test acc: 0.972700; target train acc: 0.779147; target test acc: 0.865337\n"
     ]
    },
    {
     "name": "stderr",
     "output_type": "stream",
     "text": [
      "100%|██████████| 150/150 [00:09<00:00, 16.52it/s]\n",
      "100%|██████████| 184/184 [00:13<00:00, 13.32it/s]\n"
     ]
    },
    {
     "name": "stdout",
     "output_type": "stream",
     "text": [
      "Epochs 124: source train acc: 0.937883; source test acc: 0.970900; target train acc: 0.779202; target test acc: 0.862948\n"
     ]
    },
    {
     "name": "stderr",
     "output_type": "stream",
     "text": [
      "100%|██████████| 150/150 [00:08<00:00, 16.89it/s]\n",
      "100%|██████████| 184/184 [00:13<00:00, 13.35it/s]\n"
     ]
    },
    {
     "name": "stdout",
     "output_type": "stream",
     "text": [
      "Epochs 125: source train acc: 0.938567; source test acc: 0.972800; target train acc: 0.779120; target test acc: 0.865829\n"
     ]
    },
    {
     "name": "stderr",
     "output_type": "stream",
     "text": [
      "100%|██████████| 150/150 [00:08<00:00, 16.79it/s]\n",
      "100%|██████████| 184/184 [00:14<00:00, 13.14it/s]\n"
     ]
    },
    {
     "name": "stdout",
     "output_type": "stream",
     "text": [
      "Epochs 126: source train acc: 0.940467; source test acc: 0.972600; target train acc: 0.780048; target test acc: 0.863726\n"
     ]
    },
    {
     "name": "stderr",
     "output_type": "stream",
     "text": [
      "100%|██████████| 150/150 [00:08<00:00, 17.02it/s]\n",
      "100%|██████████| 184/184 [00:13<00:00, 13.17it/s]\n"
     ]
    },
    {
     "name": "stdout",
     "output_type": "stream",
     "text": [
      "Epochs 127: source train acc: 0.940283; source test acc: 0.972800; target train acc: 0.781591; target test acc: 0.864382\n"
     ]
    },
    {
     "name": "stderr",
     "output_type": "stream",
     "text": [
      "100%|██████████| 150/150 [00:08<00:00, 16.73it/s]\n",
      "100%|██████████| 184/184 [00:13<00:00, 13.40it/s]\n"
     ]
    },
    {
     "name": "stdout",
     "output_type": "stream",
     "text": [
      "Epochs 128: source train acc: 0.941583; source test acc: 0.966400; target train acc: 0.782601; target test acc: 0.866088\n"
     ]
    },
    {
     "name": "stderr",
     "output_type": "stream",
     "text": [
      "100%|██████████| 150/150 [00:09<00:00, 16.61it/s]\n",
      "100%|██████████| 184/184 [00:13<00:00, 13.31it/s]\n"
     ]
    },
    {
     "name": "stdout",
     "output_type": "stream",
     "text": [
      "Epochs 129: source train acc: 0.939367; source test acc: 0.973600; target train acc: 0.779243; target test acc: 0.865433\n"
     ]
    },
    {
     "name": "stderr",
     "output_type": "stream",
     "text": [
      "100%|██████████| 150/150 [00:08<00:00, 16.95it/s]\n",
      "100%|██████████| 184/184 [00:13<00:00, 13.25it/s]\n"
     ]
    },
    {
     "name": "stdout",
     "output_type": "stream",
     "text": [
      "Epochs 130: source train acc: 0.941050; source test acc: 0.972900; target train acc: 0.782970; target test acc: 0.866784\n"
     ]
    },
    {
     "name": "stderr",
     "output_type": "stream",
     "text": [
      "100%|██████████| 150/150 [00:08<00:00, 16.73it/s]\n",
      "100%|██████████| 184/184 [00:13<00:00, 13.18it/s]\n"
     ]
    },
    {
     "name": "stdout",
     "output_type": "stream",
     "text": [
      "Epochs 131: source train acc: 0.938033; source test acc: 0.971500; target train acc: 0.779011; target test acc: 0.865419\n"
     ]
    },
    {
     "name": "stderr",
     "output_type": "stream",
     "text": [
      "100%|██████████| 150/150 [00:08<00:00, 17.05it/s]\n",
      "100%|██████████| 184/184 [00:13<00:00, 13.20it/s]\n"
     ]
    },
    {
     "name": "stdout",
     "output_type": "stream",
     "text": [
      "Epochs 132: source train acc: 0.939850; source test acc: 0.972100; target train acc: 0.779434; target test acc: 0.864982\n"
     ]
    },
    {
     "name": "stderr",
     "output_type": "stream",
     "text": [
      "100%|██████████| 150/150 [00:08<00:00, 16.85it/s]\n",
      "100%|██████████| 184/184 [00:13<00:00, 13.28it/s]\n"
     ]
    },
    {
     "name": "stdout",
     "output_type": "stream",
     "text": [
      "Epochs 133: source train acc: 0.940617; source test acc: 0.971900; target train acc: 0.779721; target test acc: 0.865542\n"
     ]
    },
    {
     "name": "stderr",
     "output_type": "stream",
     "text": [
      "100%|██████████| 150/150 [00:09<00:00, 16.60it/s]\n",
      "100%|██████████| 184/184 [00:13<00:00, 13.31it/s]\n"
     ]
    },
    {
     "name": "stdout",
     "output_type": "stream",
     "text": [
      "Epochs 134: source train acc: 0.940467; source test acc: 0.970500; target train acc: 0.783447; target test acc: 0.865910\n"
     ]
    },
    {
     "name": "stderr",
     "output_type": "stream",
     "text": [
      "100%|██████████| 150/150 [00:08<00:00, 16.79it/s]\n",
      "100%|██████████| 184/184 [00:13<00:00, 13.26it/s]\n"
     ]
    },
    {
     "name": "stdout",
     "output_type": "stream",
     "text": [
      "Epochs 135: source train acc: 0.940383; source test acc: 0.971700; target train acc: 0.781523; target test acc: 0.865009\n"
     ]
    },
    {
     "name": "stderr",
     "output_type": "stream",
     "text": [
      "100%|██████████| 150/150 [00:08<00:00, 16.74it/s]\n",
      "100%|██████████| 184/184 [00:13<00:00, 13.40it/s]\n"
     ]
    },
    {
     "name": "stdout",
     "output_type": "stream",
     "text": [
      "Epochs 136: source train acc: 0.939883; source test acc: 0.971800; target train acc: 0.779025; target test acc: 0.866347\n"
     ]
    },
    {
     "name": "stderr",
     "output_type": "stream",
     "text": [
      "100%|██████████| 150/150 [00:08<00:00, 16.75it/s]\n",
      "100%|██████████| 184/184 [00:13<00:00, 13.16it/s]\n"
     ]
    },
    {
     "name": "stdout",
     "output_type": "stream",
     "text": [
      "Epochs 137: source train acc: 0.939467; source test acc: 0.966600; target train acc: 0.782424; target test acc: 0.862566\n"
     ]
    },
    {
     "name": "stderr",
     "output_type": "stream",
     "text": [
      "100%|██████████| 150/150 [00:08<00:00, 16.90it/s]\n",
      "100%|██████████| 184/184 [00:13<00:00, 13.17it/s]\n"
     ]
    },
    {
     "name": "stdout",
     "output_type": "stream",
     "text": [
      "Epochs 138: source train acc: 0.941217; source test acc: 0.972600; target train acc: 0.782615; target test acc: 0.864900\n"
     ]
    },
    {
     "name": "stderr",
     "output_type": "stream",
     "text": [
      "100%|██████████| 150/150 [00:08<00:00, 16.72it/s]\n",
      "100%|██████████| 184/184 [00:13<00:00, 13.30it/s]\n"
     ]
    },
    {
     "name": "stdout",
     "output_type": "stream",
     "text": [
      "Epochs 139: source train acc: 0.940850; source test acc: 0.973500; target train acc: 0.782519; target test acc: 0.863371\n"
     ]
    },
    {
     "name": "stderr",
     "output_type": "stream",
     "text": [
      "100%|██████████| 150/150 [00:08<00:00, 16.81it/s]\n",
      "100%|██████████| 184/184 [00:13<00:00, 13.36it/s]\n"
     ]
    },
    {
     "name": "stdout",
     "output_type": "stream",
     "text": [
      "Epochs 140: source train acc: 0.941600; source test acc: 0.973500; target train acc: 0.782000; target test acc: 0.867385\n"
     ]
    },
    {
     "name": "stderr",
     "output_type": "stream",
     "text": [
      "100%|██████████| 150/150 [00:09<00:00, 16.53it/s]\n",
      "100%|██████████| 184/184 [00:13<00:00, 13.39it/s]\n"
     ]
    },
    {
     "name": "stdout",
     "output_type": "stream",
     "text": [
      "Epochs 141: source train acc: 0.941217; source test acc: 0.972300; target train acc: 0.782437; target test acc: 0.865132\n"
     ]
    },
    {
     "name": "stderr",
     "output_type": "stream",
     "text": [
      "100%|██████████| 150/150 [00:08<00:00, 16.74it/s]\n",
      "100%|██████████| 184/184 [00:13<00:00, 13.16it/s]\n"
     ]
    },
    {
     "name": "stdout",
     "output_type": "stream",
     "text": [
      "Epochs 142: source train acc: 0.942150; source test acc: 0.974200; target train acc: 0.780840; target test acc: 0.866648\n"
     ]
    },
    {
     "name": "stderr",
     "output_type": "stream",
     "text": [
      "100%|██████████| 150/150 [00:08<00:00, 17.18it/s]\n",
      "100%|██████████| 184/184 [00:13<00:00, 13.22it/s]\n"
     ]
    },
    {
     "name": "stdout",
     "output_type": "stream",
     "text": [
      "Epochs 143: source train acc: 0.940683; source test acc: 0.972700; target train acc: 0.780308; target test acc: 0.864627\n"
     ]
    },
    {
     "name": "stderr",
     "output_type": "stream",
     "text": [
      "100%|██████████| 150/150 [00:08<00:00, 16.77it/s]\n",
      "100%|██████████| 184/184 [00:13<00:00, 13.42it/s]\n"
     ]
    },
    {
     "name": "stdout",
     "output_type": "stream",
     "text": [
      "Epochs 144: source train acc: 0.940800; source test acc: 0.972000; target train acc: 0.781727; target test acc: 0.864518\n"
     ]
    },
    {
     "name": "stderr",
     "output_type": "stream",
     "text": [
      "100%|██████████| 150/150 [00:09<00:00, 16.55it/s]\n",
      "100%|██████████| 184/184 [00:13<00:00, 13.32it/s]\n"
     ]
    },
    {
     "name": "stdout",
     "output_type": "stream",
     "text": [
      "Epochs 145: source train acc: 0.942017; source test acc: 0.973500; target train acc: 0.781018; target test acc: 0.867030\n"
     ]
    },
    {
     "name": "stderr",
     "output_type": "stream",
     "text": [
      "100%|██████████| 150/150 [00:08<00:00, 16.69it/s]\n",
      "100%|██████████| 184/184 [00:13<00:00, 13.27it/s]\n"
     ]
    },
    {
     "name": "stdout",
     "output_type": "stream",
     "text": [
      "Epochs 146: source train acc: 0.940917; source test acc: 0.971700; target train acc: 0.781959; target test acc: 0.865460\n"
     ]
    },
    {
     "name": "stderr",
     "output_type": "stream",
     "text": [
      "100%|██████████| 150/150 [00:08<00:00, 17.01it/s]\n",
      "100%|██████████| 184/184 [00:13<00:00, 13.22it/s]\n"
     ]
    },
    {
     "name": "stdout",
     "output_type": "stream",
     "text": [
      "Epochs 147: source train acc: 0.939633; source test acc: 0.976500; target train acc: 0.781727; target test acc: 0.866716\n"
     ]
    },
    {
     "name": "stderr",
     "output_type": "stream",
     "text": [
      "100%|██████████| 150/150 [00:08<00:00, 17.06it/s]\n",
      "100%|██████████| 184/184 [00:13<00:00, 13.20it/s]\n"
     ]
    },
    {
     "name": "stdout",
     "output_type": "stream",
     "text": [
      "Epochs 148: source train acc: 0.941250; source test acc: 0.969900; target train acc: 0.779475; target test acc: 0.864354\n"
     ]
    },
    {
     "name": "stderr",
     "output_type": "stream",
     "text": [
      "100%|██████████| 150/150 [00:09<00:00, 16.52it/s]\n",
      "100%|██████████| 184/184 [00:13<00:00, 13.37it/s]\n"
     ]
    },
    {
     "name": "stdout",
     "output_type": "stream",
     "text": [
      "Epochs 149: source train acc: 0.939850; source test acc: 0.974600; target train acc: 0.780813; target test acc: 0.866361\n"
     ]
    },
    {
     "name": "stderr",
     "output_type": "stream",
     "text": [
      "100%|██████████| 150/150 [00:09<00:00, 16.50it/s]\n",
      "100%|██████████| 184/184 [00:13<00:00, 13.21it/s]\n"
     ]
    },
    {
     "name": "stdout",
     "output_type": "stream",
     "text": [
      "Epochs 150: source train acc: 0.941450; source test acc: 0.973200; target train acc: 0.782724; target test acc: 0.867480\n"
     ]
    },
    {
     "name": "stderr",
     "output_type": "stream",
     "text": [
      "100%|██████████| 150/150 [00:08<00:00, 16.71it/s]\n",
      "100%|██████████| 184/184 [00:13<00:00, 13.24it/s]\n"
     ]
    },
    {
     "name": "stdout",
     "output_type": "stream",
     "text": [
      "Epochs 151: source train acc: 0.940650; source test acc: 0.974100; target train acc: 0.781509; target test acc: 0.867180\n"
     ]
    },
    {
     "name": "stderr",
     "output_type": "stream",
     "text": [
      "100%|██████████| 150/150 [00:08<00:00, 16.72it/s]\n",
      "100%|██████████| 184/184 [00:13<00:00, 13.17it/s]\n"
     ]
    },
    {
     "name": "stdout",
     "output_type": "stream",
     "text": [
      "Epochs 152: source train acc: 0.939867; source test acc: 0.975000; target train acc: 0.783666; target test acc: 0.866948\n"
     ]
    },
    {
     "name": "stderr",
     "output_type": "stream",
     "text": [
      "100%|██████████| 150/150 [00:08<00:00, 17.20it/s]\n",
      "100%|██████████| 184/184 [00:13<00:00, 13.17it/s]\n"
     ]
    },
    {
     "name": "stdout",
     "output_type": "stream",
     "text": [
      "Epochs 153: source train acc: 0.943317; source test acc: 0.973800; target train acc: 0.780581; target test acc: 0.866566\n"
     ]
    },
    {
     "name": "stderr",
     "output_type": "stream",
     "text": [
      "100%|██████████| 150/150 [00:08<00:00, 16.87it/s]\n",
      "100%|██████████| 184/184 [00:13<00:00, 13.34it/s]\n"
     ]
    },
    {
     "name": "stdout",
     "output_type": "stream",
     "text": [
      "Epochs 154: source train acc: 0.942200; source test acc: 0.976600; target train acc: 0.783256; target test acc: 0.867944\n"
     ]
    },
    {
     "name": "stderr",
     "output_type": "stream",
     "text": [
      "100%|██████████| 150/150 [00:09<00:00, 16.61it/s]\n",
      "100%|██████████| 184/184 [00:13<00:00, 13.27it/s]\n"
     ]
    },
    {
     "name": "stdout",
     "output_type": "stream",
     "text": [
      "Epochs 155: source train acc: 0.940683; source test acc: 0.972900; target train acc: 0.782915; target test acc: 0.865637\n"
     ]
    },
    {
     "name": "stderr",
     "output_type": "stream",
     "text": [
      "100%|██████████| 150/150 [00:08<00:00, 16.74it/s]\n",
      "100%|██████████| 184/184 [00:13<00:00, 13.17it/s]\n"
     ]
    },
    {
     "name": "stdout",
     "output_type": "stream",
     "text": [
      "Epochs 156: source train acc: 0.941850; source test acc: 0.975700; target train acc: 0.782301; target test acc: 0.867644\n"
     ]
    },
    {
     "name": "stderr",
     "output_type": "stream",
     "text": [
      "100%|██████████| 150/150 [00:08<00:00, 16.85it/s]\n",
      "100%|██████████| 184/184 [00:13<00:00, 13.20it/s]\n"
     ]
    },
    {
     "name": "stdout",
     "output_type": "stream",
     "text": [
      "Epochs 157: source train acc: 0.942050; source test acc: 0.976000; target train acc: 0.782205; target test acc: 0.867112\n"
     ]
    },
    {
     "name": "stderr",
     "output_type": "stream",
     "text": [
      "100%|██████████| 150/150 [00:08<00:00, 16.96it/s]\n",
      "100%|██████████| 184/184 [00:13<00:00, 13.18it/s]\n"
     ]
    },
    {
     "name": "stdout",
     "output_type": "stream",
     "text": [
      "Epochs 158: source train acc: 0.942167; source test acc: 0.972400; target train acc: 0.784157; target test acc: 0.866197\n"
     ]
    },
    {
     "name": "stderr",
     "output_type": "stream",
     "text": [
      "100%|██████████| 150/150 [00:08<00:00, 16.76it/s]\n",
      "100%|██████████| 184/184 [00:13<00:00, 13.42it/s]\n"
     ]
    },
    {
     "name": "stdout",
     "output_type": "stream",
     "text": [
      "Epochs 159: source train acc: 0.940617; source test acc: 0.973100; target train acc: 0.782929; target test acc: 0.866006\n"
     ]
    },
    {
     "name": "stderr",
     "output_type": "stream",
     "text": [
      "100%|██████████| 150/150 [00:09<00:00, 16.54it/s]\n",
      "100%|██████████| 184/184 [00:13<00:00, 13.27it/s]\n"
     ]
    },
    {
     "name": "stdout",
     "output_type": "stream",
     "text": [
      "Epochs 160: source train acc: 0.942650; source test acc: 0.972800; target train acc: 0.783284; target test acc: 0.865678\n"
     ]
    },
    {
     "name": "stderr",
     "output_type": "stream",
     "text": [
      "100%|██████████| 150/150 [00:08<00:00, 16.82it/s]\n",
      "100%|██████████| 184/184 [00:13<00:00, 13.32it/s]\n"
     ]
    },
    {
     "name": "stdout",
     "output_type": "stream",
     "text": [
      "Epochs 161: source train acc: 0.941500; source test acc: 0.972500; target train acc: 0.785713; target test acc: 0.864982\n"
     ]
    },
    {
     "name": "stderr",
     "output_type": "stream",
     "text": [
      "100%|██████████| 150/150 [00:08<00:00, 16.74it/s]\n",
      "100%|██████████| 184/184 [00:13<00:00, 13.30it/s]\n"
     ]
    },
    {
     "name": "stdout",
     "output_type": "stream",
     "text": [
      "Epochs 162: source train acc: 0.938750; source test acc: 0.971600; target train acc: 0.781140; target test acc: 0.868600\n"
     ]
    },
    {
     "name": "stderr",
     "output_type": "stream",
     "text": [
      "100%|██████████| 150/150 [00:08<00:00, 16.84it/s]\n",
      "100%|██████████| 184/184 [00:13<00:00, 13.29it/s]\n"
     ]
    },
    {
     "name": "stdout",
     "output_type": "stream",
     "text": [
      "Epochs 163: source train acc: 0.943200; source test acc: 0.967600; target train acc: 0.781304; target test acc: 0.866839\n"
     ]
    },
    {
     "name": "stderr",
     "output_type": "stream",
     "text": [
      "100%|██████████| 150/150 [00:08<00:00, 17.03it/s]\n",
      "100%|██████████| 184/184 [00:13<00:00, 13.34it/s]\n"
     ]
    },
    {
     "name": "stdout",
     "output_type": "stream",
     "text": [
      "Epochs 164: source train acc: 0.941917; source test acc: 0.972500; target train acc: 0.783161; target test acc: 0.864122\n"
     ]
    },
    {
     "name": "stderr",
     "output_type": "stream",
     "text": [
      "100%|██████████| 150/150 [00:08<00:00, 16.78it/s]\n",
      "100%|██████████| 184/184 [00:13<00:00, 13.32it/s]\n"
     ]
    },
    {
     "name": "stdout",
     "output_type": "stream",
     "text": [
      "Epochs 165: source train acc: 0.940967; source test acc: 0.973500; target train acc: 0.781209; target test acc: 0.865433\n"
     ]
    },
    {
     "name": "stderr",
     "output_type": "stream",
     "text": [
      "100%|██████████| 150/150 [00:08<00:00, 16.85it/s]\n",
      "100%|██████████| 184/184 [00:13<00:00, 13.29it/s]\n"
     ]
    },
    {
     "name": "stdout",
     "output_type": "stream",
     "text": [
      "Epochs 166: source train acc: 0.942583; source test acc: 0.974900; target train acc: 0.782778; target test acc: 0.868490\n"
     ]
    },
    {
     "name": "stderr",
     "output_type": "stream",
     "text": [
      "100%|██████████| 150/150 [00:08<00:00, 16.75it/s]\n",
      "100%|██████████| 184/184 [00:13<00:00, 13.26it/s]\n"
     ]
    },
    {
     "name": "stdout",
     "output_type": "stream",
     "text": [
      "Epochs 167: source train acc: 0.941433; source test acc: 0.973800; target train acc: 0.782383; target test acc: 0.867767\n"
     ]
    },
    {
     "name": "stderr",
     "output_type": "stream",
     "text": [
      "100%|██████████| 150/150 [00:08<00:00, 16.92it/s]\n",
      "100%|██████████| 184/184 [00:13<00:00, 13.23it/s]\n"
     ]
    },
    {
     "name": "stdout",
     "output_type": "stream",
     "text": [
      "Epochs 168: source train acc: 0.941350; source test acc: 0.969900; target train acc: 0.781918; target test acc: 0.865556\n"
     ]
    },
    {
     "name": "stderr",
     "output_type": "stream",
     "text": [
      "100%|██████████| 150/150 [00:08<00:00, 17.09it/s]\n",
      "100%|██████████| 184/184 [00:13<00:00, 13.32it/s]\n"
     ]
    },
    {
     "name": "stdout",
     "output_type": "stream",
     "text": [
      "Epochs 169: source train acc: 0.940717; source test acc: 0.972000; target train acc: 0.783597; target test acc: 0.868245\n"
     ]
    },
    {
     "name": "stderr",
     "output_type": "stream",
     "text": [
      "100%|██████████| 150/150 [00:08<00:00, 16.72it/s]\n",
      "100%|██████████| 184/184 [00:13<00:00, 13.37it/s]\n"
     ]
    },
    {
     "name": "stdout",
     "output_type": "stream",
     "text": [
      "Epochs 170: source train acc: 0.942033; source test acc: 0.973800; target train acc: 0.783393; target test acc: 0.866074\n"
     ]
    },
    {
     "name": "stderr",
     "output_type": "stream",
     "text": [
      "100%|██████████| 150/150 [00:09<00:00, 16.63it/s]\n",
      "100%|██████████| 184/184 [00:13<00:00, 13.28it/s]\n"
     ]
    },
    {
     "name": "stdout",
     "output_type": "stream",
     "text": [
      "Epochs 171: source train acc: 0.941700; source test acc: 0.972400; target train acc: 0.783529; target test acc: 0.865487\n"
     ]
    },
    {
     "name": "stderr",
     "output_type": "stream",
     "text": [
      "100%|██████████| 150/150 [00:08<00:00, 16.73it/s]\n",
      "100%|██████████| 184/184 [00:13<00:00, 13.31it/s]\n"
     ]
    },
    {
     "name": "stdout",
     "output_type": "stream",
     "text": [
      "Epochs 172: source train acc: 0.942083; source test acc: 0.976400; target train acc: 0.785167; target test acc: 0.868381\n"
     ]
    },
    {
     "name": "stderr",
     "output_type": "stream",
     "text": [
      "100%|██████████| 150/150 [00:08<00:00, 16.77it/s]\n",
      "100%|██████████| 184/184 [00:13<00:00, 13.24it/s]\n"
     ]
    },
    {
     "name": "stdout",
     "output_type": "stream",
     "text": [
      "Epochs 173: source train acc: 0.941783; source test acc: 0.971800; target train acc: 0.782833; target test acc: 0.869282\n"
     ]
    },
    {
     "name": "stderr",
     "output_type": "stream",
     "text": [
      "100%|██████████| 150/150 [00:08<00:00, 16.99it/s]\n",
      "100%|██████████| 184/184 [00:13<00:00, 13.37it/s]\n"
     ]
    },
    {
     "name": "stdout",
     "output_type": "stream",
     "text": [
      "Epochs 174: source train acc: 0.941067; source test acc: 0.972300; target train acc: 0.782232; target test acc: 0.867316\n"
     ]
    },
    {
     "name": "stderr",
     "output_type": "stream",
     "text": [
      "100%|██████████| 150/150 [00:09<00:00, 16.50it/s]\n",
      "100%|██████████| 184/184 [00:13<00:00, 13.43it/s]\n"
     ]
    },
    {
     "name": "stdout",
     "output_type": "stream",
     "text": [
      "Epochs 175: source train acc: 0.941733; source test acc: 0.975600; target train acc: 0.783051; target test acc: 0.865829\n"
     ]
    },
    {
     "name": "stderr",
     "output_type": "stream",
     "text": [
      "100%|██████████| 150/150 [00:08<00:00, 16.93it/s]\n",
      "100%|██████████| 184/184 [00:13<00:00, 13.32it/s]\n"
     ]
    },
    {
     "name": "stdout",
     "output_type": "stream",
     "text": [
      "Epochs 176: source train acc: 0.942150; source test acc: 0.973900; target train acc: 0.785113; target test acc: 0.866361\n"
     ]
    },
    {
     "name": "stderr",
     "output_type": "stream",
     "text": [
      "100%|██████████| 150/150 [00:08<00:00, 17.10it/s]\n",
      "100%|██████████| 184/184 [00:13<00:00, 13.21it/s]\n"
     ]
    },
    {
     "name": "stdout",
     "output_type": "stream",
     "text": [
      "Epochs 177: source train acc: 0.942883; source test acc: 0.975400; target train acc: 0.786587; target test acc: 0.866334\n"
     ]
    },
    {
     "name": "stderr",
     "output_type": "stream",
     "text": [
      "100%|██████████| 150/150 [00:08<00:00, 16.71it/s]\n",
      "100%|██████████| 184/184 [00:13<00:00, 13.19it/s]\n"
     ]
    },
    {
     "name": "stdout",
     "output_type": "stream",
     "text": [
      "Epochs 178: source train acc: 0.941683; source test acc: 0.973900; target train acc: 0.783652; target test acc: 0.867235\n"
     ]
    },
    {
     "name": "stderr",
     "output_type": "stream",
     "text": [
      "100%|██████████| 150/150 [00:08<00:00, 17.24it/s]\n",
      "100%|██████████| 184/184 [00:13<00:00, 13.24it/s]\n"
     ]
    },
    {
     "name": "stdout",
     "output_type": "stream",
     "text": [
      "Epochs 179: source train acc: 0.942967; source test acc: 0.973200; target train acc: 0.783038; target test acc: 0.867194\n"
     ]
    },
    {
     "name": "stderr",
     "output_type": "stream",
     "text": [
      "100%|██████████| 150/150 [00:09<00:00, 16.48it/s]\n",
      "100%|██████████| 184/184 [00:13<00:00, 13.49it/s]\n"
     ]
    },
    {
     "name": "stdout",
     "output_type": "stream",
     "text": [
      "Epochs 180: source train acc: 0.941383; source test acc: 0.973800; target train acc: 0.784307; target test acc: 0.865801\n"
     ]
    },
    {
     "name": "stderr",
     "output_type": "stream",
     "text": [
      "100%|██████████| 150/150 [00:09<00:00, 16.61it/s]\n",
      "100%|██████████| 184/184 [00:13<00:00, 13.30it/s]\n"
     ]
    },
    {
     "name": "stdout",
     "output_type": "stream",
     "text": [
      "Epochs 181: source train acc: 0.942467; source test acc: 0.972800; target train acc: 0.783188; target test acc: 0.870456\n"
     ]
    },
    {
     "name": "stderr",
     "output_type": "stream",
     "text": [
      "100%|██████████| 150/150 [00:08<00:00, 17.05it/s]\n",
      "100%|██████████| 184/184 [00:14<00:00, 13.06it/s]\n"
     ]
    },
    {
     "name": "stdout",
     "output_type": "stream",
     "text": [
      "Epochs 182: source train acc: 0.943167; source test acc: 0.975000; target train acc: 0.785823; target test acc: 0.868067\n"
     ]
    },
    {
     "name": "stderr",
     "output_type": "stream",
     "text": [
      "100%|██████████| 150/150 [00:08<00:00, 16.70it/s]\n",
      "100%|██████████| 184/184 [00:14<00:00, 13.13it/s]\n"
     ]
    },
    {
     "name": "stdout",
     "output_type": "stream",
     "text": [
      "Epochs 183: source train acc: 0.941883; source test acc: 0.973700; target train acc: 0.783297; target test acc: 0.867030\n"
     ]
    },
    {
     "name": "stderr",
     "output_type": "stream",
     "text": [
      "100%|██████████| 150/150 [00:08<00:00, 16.96it/s]\n",
      "100%|██████████| 184/184 [00:13<00:00, 13.25it/s]\n"
     ]
    },
    {
     "name": "stdout",
     "output_type": "stream",
     "text": [
      "Epochs 184: source train acc: 0.943183; source test acc: 0.975100; target train acc: 0.785877; target test acc: 0.867794\n"
     ]
    },
    {
     "name": "stderr",
     "output_type": "stream",
     "text": [
      "100%|██████████| 150/150 [00:08<00:00, 17.06it/s]\n",
      "100%|██████████| 184/184 [00:13<00:00, 13.50it/s]\n"
     ]
    },
    {
     "name": "stdout",
     "output_type": "stream",
     "text": [
      "Epochs 185: source train acc: 0.942133; source test acc: 0.974200; target train acc: 0.783092; target test acc: 0.867917\n"
     ]
    },
    {
     "name": "stderr",
     "output_type": "stream",
     "text": [
      "100%|██████████| 150/150 [00:09<00:00, 16.31it/s]\n",
      "100%|██████████| 184/184 [00:13<00:00, 13.39it/s]\n"
     ]
    },
    {
     "name": "stdout",
     "output_type": "stream",
     "text": [
      "Epochs 186: source train acc: 0.942217; source test acc: 0.975500; target train acc: 0.784717; target test acc: 0.867890\n"
     ]
    },
    {
     "name": "stderr",
     "output_type": "stream",
     "text": [
      "100%|██████████| 150/150 [00:08<00:00, 16.98it/s]\n",
      "100%|██████████| 184/184 [00:13<00:00, 13.15it/s]\n"
     ]
    },
    {
     "name": "stdout",
     "output_type": "stream",
     "text": [
      "Epochs 187: source train acc: 0.944333; source test acc: 0.973900; target train acc: 0.785836; target test acc: 0.867521\n"
     ]
    },
    {
     "name": "stderr",
     "output_type": "stream",
     "text": [
      "100%|██████████| 150/150 [00:08<00:00, 16.96it/s]\n",
      "100%|██████████| 184/184 [00:13<00:00, 13.17it/s]\n"
     ]
    },
    {
     "name": "stdout",
     "output_type": "stream",
     "text": [
      "Epochs 188: source train acc: 0.942033; source test acc: 0.972100; target train acc: 0.786355; target test acc: 0.869268\n"
     ]
    },
    {
     "name": "stderr",
     "output_type": "stream",
     "text": [
      "100%|██████████| 150/150 [00:08<00:00, 17.00it/s]\n",
      "100%|██████████| 184/184 [00:13<00:00, 13.26it/s]\n"
     ]
    },
    {
     "name": "stdout",
     "output_type": "stream",
     "text": [
      "Epochs 189: source train acc: 0.941967; source test acc: 0.973500; target train acc: 0.786737; target test acc: 0.869173\n"
     ]
    },
    {
     "name": "stderr",
     "output_type": "stream",
     "text": [
      "100%|██████████| 150/150 [00:08<00:00, 16.84it/s]\n",
      "100%|██████████| 184/184 [00:13<00:00, 13.36it/s]\n"
     ]
    },
    {
     "name": "stdout",
     "output_type": "stream",
     "text": [
      "Epochs 190: source train acc: 0.942633; source test acc: 0.974100; target train acc: 0.783297; target test acc: 0.868163\n"
     ]
    },
    {
     "name": "stderr",
     "output_type": "stream",
     "text": [
      "100%|██████████| 150/150 [00:08<00:00, 16.68it/s]\n",
      "100%|██████████| 184/184 [00:13<00:00, 13.38it/s]\n"
     ]
    },
    {
     "name": "stdout",
     "output_type": "stream",
     "text": [
      "Epochs 191: source train acc: 0.942033; source test acc: 0.972000; target train acc: 0.784881; target test acc: 0.866033\n"
     ]
    },
    {
     "name": "stderr",
     "output_type": "stream",
     "text": [
      "100%|██████████| 150/150 [00:08<00:00, 17.17it/s]\n",
      "100%|██████████| 184/184 [00:13<00:00, 13.27it/s]\n"
     ]
    },
    {
     "name": "stdout",
     "output_type": "stream",
     "text": [
      "Epochs 192: source train acc: 0.943467; source test acc: 0.975600; target train acc: 0.786109; target test acc: 0.867084\n"
     ]
    },
    {
     "name": "stderr",
     "output_type": "stream",
     "text": [
      "100%|██████████| 150/150 [00:08<00:00, 17.02it/s]\n",
      "100%|██████████| 184/184 [00:13<00:00, 13.38it/s]\n"
     ]
    },
    {
     "name": "stdout",
     "output_type": "stream",
     "text": [
      "Epochs 193: source train acc: 0.942783; source test acc: 0.974400; target train acc: 0.780294; target test acc: 0.867890\n"
     ]
    },
    {
     "name": "stderr",
     "output_type": "stream",
     "text": [
      "100%|██████████| 150/150 [00:08<00:00, 17.17it/s]\n",
      "100%|██████████| 184/184 [00:13<00:00, 13.30it/s]\n"
     ]
    },
    {
     "name": "stdout",
     "output_type": "stream",
     "text": [
      "Epochs 194: source train acc: 0.940933; source test acc: 0.974000; target train acc: 0.783516; target test acc: 0.866866\n"
     ]
    },
    {
     "name": "stderr",
     "output_type": "stream",
     "text": [
      "100%|██████████| 150/150 [00:08<00:00, 17.18it/s]\n",
      "100%|██████████| 184/184 [00:13<00:00, 13.45it/s]\n"
     ]
    },
    {
     "name": "stdout",
     "output_type": "stream",
     "text": [
      "Epochs 195: source train acc: 0.941700; source test acc: 0.972700; target train acc: 0.784417; target test acc: 0.867985\n"
     ]
    },
    {
     "name": "stderr",
     "output_type": "stream",
     "text": [
      "100%|██████████| 150/150 [00:08<00:00, 16.95it/s]\n",
      "100%|██████████| 184/184 [00:13<00:00, 13.24it/s]\n"
     ]
    },
    {
     "name": "stdout",
     "output_type": "stream",
     "text": [
      "Epochs 196: source train acc: 0.942833; source test acc: 0.975900; target train acc: 0.784812; target test acc: 0.868013\n"
     ]
    },
    {
     "name": "stderr",
     "output_type": "stream",
     "text": [
      "100%|██████████| 150/150 [00:08<00:00, 16.68it/s]\n",
      "100%|██████████| 184/184 [00:13<00:00, 13.30it/s]\n"
     ]
    },
    {
     "name": "stdout",
     "output_type": "stream",
     "text": [
      "Epochs 197: source train acc: 0.943517; source test acc: 0.973000; target train acc: 0.782069; target test acc: 0.868845\n"
     ]
    },
    {
     "name": "stderr",
     "output_type": "stream",
     "text": [
      "100%|██████████| 150/150 [00:08<00:00, 16.87it/s]\n",
      "100%|██████████| 184/184 [00:13<00:00, 13.31it/s]\n"
     ]
    },
    {
     "name": "stdout",
     "output_type": "stream",
     "text": [
      "Epochs 198: source train acc: 0.942133; source test acc: 0.974000; target train acc: 0.787611; target test acc: 0.868518\n"
     ]
    },
    {
     "name": "stderr",
     "output_type": "stream",
     "text": [
      "100%|██████████| 150/150 [00:08<00:00, 17.25it/s]\n",
      "100%|██████████| 184/184 [00:13<00:00, 13.21it/s]\n"
     ]
    },
    {
     "name": "stdout",
     "output_type": "stream",
     "text": [
      "Epochs 199: source train acc: 0.942467; source test acc: 0.976200; target train acc: 0.786136; target test acc: 0.869555\n"
     ]
    },
    {
     "name": "stderr",
     "output_type": "stream",
     "text": [
      "100%|██████████| 150/150 [00:08<00:00, 16.90it/s]\n",
      "100%|██████████| 184/184 [00:13<00:00, 13.26it/s]\n"
     ]
    },
    {
     "name": "stdout",
     "output_type": "stream",
     "text": [
      "Epochs 200: source train acc: 0.943417; source test acc: 0.976100; target train acc: 0.785468; target test acc: 0.869473\n"
     ]
    }
   ],
   "source": [
    "target_acc_label_ = []\n",
    "source_acc_ = []\n",
    "source_test_acc_ = []\n",
    "target_test_acc_ = []\n",
    "\n",
    "logger.info('Started Training')\n",
    "\n",
    "\n",
    "for epoch in range(args.epochs):\n",
    "    # update classifier\n",
    "    # on source domain mnist\n",
    "    CNet.train()\n",
    "    encoder.train()\n",
    "    source_acc = 0.0\n",
    "    num_datas = 0.0\n",
    "    for batch_id, (source_x, source_y) in tqdm(enumerate(train_mnist_loader), total=len(train_mnist_loader)):\n",
    "        optimizerCNet.zero_grad()\n",
    "        optimizerEncoder.zero_grad()\n",
    "        source_x = source_x.to(device).float()\n",
    "        source_y = source_y.to(device)\n",
    "        num_datas += source_x.size(0)\n",
    "        source_x_embedding = encoder(source_x)\n",
    "        pred = CNet(source_x_embedding)\n",
    "        source_acc += (pred.argmax(-1) == source_y).sum().item()\n",
    "        loss = criterion_classifier(pred, source_y)\n",
    "        loss.backward()\n",
    "        optimizerCNet.step()\n",
    "        optimizerEncoder.step()\n",
    "        \n",
    "        \n",
    "    source_acc = source_acc / num_datas\n",
    "    source_acc_.append(source_acc)\n",
    "    \n",
    "    \n",
    "    \n",
    "    # on target domain svhn\n",
    "    target_acc = 0.0\n",
    "    num_datas = 0.0\n",
    "    CNet.train()\n",
    "    encoder.train()\n",
    "\n",
    "    for batch_id, (target_x, target_y) in tqdm(enumerate(train_svhn_loader), total=len(train_svhn_loader)):\n",
    "        optimizerCNet.zero_grad()\n",
    "        optimizerEncoder.zero_grad()\n",
    "        target_x = target_x.to(device).float()\n",
    "        target_y = target_y.to(device)\n",
    "        num_datas += target_x.size(0)\n",
    "        target_x_embedding = encoder(target_x)\n",
    "        pred = CNet(target_x_embedding)\n",
    "        target_acc += (pred.argmax(-1) == target_y).sum().item()\n",
    "        loss = criterion_classifier(pred, target_y)\n",
    "        loss.backward()\n",
    "        optimizerCNet.step()\n",
    "        optimizerEncoder.step()\n",
    "        \n",
    "    \n",
    "    target_acc = target_acc / num_datas\n",
    "    target_acc_label_.append(target_acc)\n",
    "    \n",
    "    \n",
    "    # DANN\n",
    "#     DomainCNet.train()\n",
    "#     encoder.train()\n",
    "#     num_datas = 0.0\n",
    "#     for batch_id, (adv_x, adv_y) in tqdm(enumerate(adverial_loader), total=len(adverial_loader)):\n",
    "#         optimizerCNet.zero_grad()\n",
    "#         optimizerEncoder.zero_grad()\n",
    "#         adv_x = adv_x.to(device).float()\n",
    "#         adv_y = adv_y.to(device)\n",
    "#         num_datas += adv_x.size(0)\n",
    "#         adv_x_embedding = encoder(adv_x)\n",
    "#         pred = DomainCNet(adv_x_embedding)\n",
    "#         # adv_acc += (pred.argmax(-1) == adv_y).sum().item()\n",
    "#         loss = args.dann_weight * criterion_classifier(pred, adv_y)\n",
    "#         loss.backward()\n",
    "#         optimizerEncoder.step()\n",
    "#         optimizerDomainCNet.step()\n",
    "    \n",
    "    \n",
    "    \n",
    "    \n",
    "    \n",
    "    # eval on source   \n",
    "    source_test_acc = 0.0\n",
    "    num_datas = 0.0\n",
    "    CNet.eval()\n",
    "    encoder.eval()\n",
    "    \n",
    "    for batch_id, (source_x, source_y) in enumerate(test_mnist_loader):\n",
    "        optimizerCNet.zero_grad()\n",
    "        optimizerEncoder.zero_grad()\n",
    "        source_x = source_x.to(device).float()\n",
    "        source_y = source_y.to(device)\n",
    "        num_datas += source_x.size(0)\n",
    "        source_x_embedding = encoder(source_x)\n",
    "        pred = CNet(source_x_embedding)\n",
    "        source_test_acc += (pred.argmax(-1) == source_y).sum().item()\n",
    "        \n",
    "    source_test_acc = source_test_acc / num_datas\n",
    "    source_test_acc_.append(source_test_acc)\n",
    "    \n",
    "    # eval on target \n",
    "    num_datas = 0.0\n",
    "    target_test_acc = 0.0\n",
    "    for batch_id, (target_x, target_y) in enumerate(test_svhn_loader):\n",
    "        optimizerCNet.zero_grad()\n",
    "        optimizerEncoder.zero_grad()\n",
    "        target_x = target_x.to(device).float()\n",
    "        target_y = target_y.to(device)\n",
    "        num_datas += target_x.size(0)\n",
    "        target_x_embedding = encoder(target_x)\n",
    "        pred = CNet(target_x_embedding)\n",
    "        target_test_acc += (pred.argmax(-1) == target_y).sum().item()\n",
    "    \n",
    "    target_test_acc = target_test_acc / num_datas\n",
    "    target_test_acc_.append(source_test_acc)\n",
    "    \n",
    "    if epoch % args.model_save_period == 0:\n",
    "        torch.save(DomainCNet.state_dict(), args.save_path+model_sub_folder+ '/DomainCNet_%i.t7'%(epoch+1))\n",
    "        torch.save(encoder.state_dict(), args.save_path+model_sub_folder+ '/encoder_%i.t7'%(epoch+1))\n",
    "        torch.save(CNet.state_dict(), args.save_path+model_sub_folder+ '/CNet_%i.t7'%(epoch+1))\n",
    "\n",
    "    \n",
    "    logger.info('Epochs %i: source train acc: %f; source test acc: %f; target train acc: %f; target test acc: %f'%(epoch+1, source_acc, source_test_acc, target_acc, target_test_acc))\n",
    "       "
   ]
  },
  {
   "cell_type": "code",
   "execution_count": null,
   "metadata": {},
   "outputs": [],
   "source": []
  }
 ],
 "metadata": {
  "kernelspec": {
   "display_name": "Python 3",
   "language": "python",
   "name": "python3"
  },
  "language_info": {
   "codemirror_mode": {
    "name": "ipython",
    "version": 3
   },
   "file_extension": ".py",
   "mimetype": "text/x-python",
   "name": "python",
   "nbconvert_exporter": "python",
   "pygments_lexer": "ipython3",
   "version": "3.7.7"
  }
 },
 "nbformat": 4,
 "nbformat_minor": 4
}
