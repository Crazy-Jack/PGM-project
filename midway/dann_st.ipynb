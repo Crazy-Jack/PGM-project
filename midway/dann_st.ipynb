{
 "cells": [
  {
   "cell_type": "code",
   "execution_count": 146,
   "metadata": {},
   "outputs": [],
   "source": [
    "import torch\n",
    "import torchvision\n",
    "import torchvision.datasets as datasets\n",
    "from tqdm import tqdm\n",
    "import argparse\n",
    "from torch.utils.data import Dataset, DataLoader\n",
    "import torch.nn as nn\n",
    "import torch.nn.functional as F\n",
    "import torch.optim as optim\n",
    "import numpy as np\n",
    "import matplotlib.pyplot as plt\n",
    "import torch.backends.cudnn as cudnn\n",
    "import os\n",
    "import sys\n",
    "import logging\n",
    "import logging.handlers\n",
    "from PIL import Image"
   ]
  },
  {
   "cell_type": "markdown",
   "metadata": {},
   "source": [
    "# Parser"
   ]
  },
  {
   "cell_type": "code",
   "execution_count": 240,
   "metadata": {},
   "outputs": [
    {
     "name": "stderr",
     "output_type": "stream",
     "text": [
      "usage: ipykernel_launcher.py [-h] [--batch_size BATCH_SIZE]\n",
      "                             [--learning_rate LEARNING_RATE]\n",
      "                             [--momentum MOMENTUM] [--gpu_num GPU_NUM]\n",
      "                             [--seed SEED] [--save_path SAVE_PATH]\n",
      "                             [--subfolder SUBFOLDER] [--wtarget WTARGET]\n",
      "                             [--model_save_period MODEL_SAVE_PERIOD]\n",
      "ipykernel_launcher.py: error: unrecognized arguments: -f C:\\Users\\Tianqin Li\\AppData\\Roaming\\jupyter\\runtime\\kernel-2c7b5274-f363-40d8-9c4b-ce24c168232c.json\n"
     ]
    },
    {
     "ename": "SystemExit",
     "evalue": "2",
     "output_type": "error",
     "traceback": [
      "An exception has occurred, use %tb to see the full traceback.\n",
      "\u001b[1;31mSystemExit\u001b[0m\u001b[1;31m:\u001b[0m 2\n"
     ]
    }
   ],
   "source": [
    "parser = argparse.ArgumentParser(description='Domain adaptation')\n",
    "parser.add_argument(\"--batch_size\", type=int, default=\"100\", help=\"batch size\")\n",
    "parser.add_argument(\"--learning_rate\", type=float, default=1e-2, help=\"learning rate\")\n",
    "parser.add_argument(\"--momentum\", type=float, default=0.5, help=\"momentum\")\n",
    "parser.add_argument(\"--gpu_num\", type=int, default=0, help=\"gpu num\")\n",
    "parser.add_argument(\"--seed\", type=int, default=123, help=\"munually set seed\")\n",
    "parser.add_argument(\"--save_path\", type=str, default=r\"C:\\Users\\Tianqin Li\\Code\\PGM-project\\train_related\", help=\"save path\")\n",
    "parser.add_argument(\"--subfolder\", type=str, default=r'\\baseline_st', help=\"subfolder name\")\n",
    "parser.add_argument(\"--wtarget\", type=float, default=0.7, help=\"target weight\")\n",
    "parser.add_argument(\"--model_save_period\", type=int, default=2, help=\"save period\")\n",
    "\n",
    "\n",
    "args = parser.parse_args()"
   ]
  },
  {
   "cell_type": "markdown",
   "metadata": {},
   "source": [
    "# local only"
   ]
  },
  {
   "cell_type": "code",
   "execution_count": 243,
   "metadata": {},
   "outputs": [],
   "source": [
    "# local only\n",
    "class local_args:\n",
    "    def __init__(self, **entries):\n",
    "        self.__dict__.update(entries)\n",
    "        \n",
    "args = local_args(**{\n",
    "    'batch_size': 400,\n",
    "    'learning_rate': 1e-2,\n",
    "    'momentum': 0.5,\n",
    "    'gpu_num': 0,\n",
    "    'seed': 123,\n",
    "    'save_path': r\"C:\\Users\\Tianqin Li\\Code\\PGM-project\\train_related\",\n",
    "    'epochs': 200,\n",
    "    'subfolder': r'\\dann_shffle',\n",
    "    'wtarget': 0.7,\n",
    "    'dann_weight': 1e-2,\n",
    "    'model_save_period': 2,\n",
    "})"
   ]
  },
  {
   "cell_type": "code",
   "execution_count": 244,
   "metadata": {},
   "outputs": [],
   "source": [
    "\n",
    "device = torch.device('cuda:{}'.format(args.gpu_num) if torch.cuda.is_available() else 'cpu')\n",
    "# seed\n",
    "torch.manual_seed(args.seed)\n",
    "torch.cuda.manual_seed(args.seed)\n",
    "np.random.seed(args.seed)\n",
    "cudnn.deterministic = True\n",
    "torch.backends.cudnn.deterministic = True\n",
    "\n",
    "\n",
    "\n",
    "device = torch.device('cuda:{}'.format(args.gpu_num) if torch.cuda.is_available() else 'cpu')\n",
    "\n",
    " \n",
    "model_sub_folder = args.subfolder + '\\wtarget_%f_dann_weight_%f'%(args.wtarget, args.dann_weight)\n",
    "\n",
    "if not os.path.exists(args.save_path+model_sub_folder):\n",
    "    os.makedirs(args.save_path+model_sub_folder)"
   ]
  },
  {
   "cell_type": "code",
   "execution_count": 245,
   "metadata": {},
   "outputs": [
    {
     "name": "stdout",
     "output_type": "stream",
     "text": [
      "batch_size: 400\n",
      "batch_size: 400\n",
      "batch_size: 400\n",
      "batch_size: 400\n",
      "batch_size: 400\n",
      "batch_size: 400\n",
      "learning_rate: 0.01\n",
      "learning_rate: 0.01\n",
      "learning_rate: 0.01\n",
      "learning_rate: 0.01\n",
      "learning_rate: 0.01\n",
      "learning_rate: 0.01\n",
      "momentum: 0.5\n",
      "momentum: 0.5\n",
      "momentum: 0.5\n",
      "momentum: 0.5\n",
      "momentum: 0.5\n",
      "momentum: 0.5\n",
      "gpu_num: 0\n",
      "gpu_num: 0\n",
      "gpu_num: 0\n",
      "gpu_num: 0\n",
      "gpu_num: 0\n",
      "gpu_num: 0\n",
      "seed: 123\n",
      "seed: 123\n",
      "seed: 123\n",
      "seed: 123\n",
      "seed: 123\n",
      "seed: 123\n",
      "save_path: C:\\Users\\Tianqin Li\\Code\\PGM-project\\train_related\n",
      "save_path: C:\\Users\\Tianqin Li\\Code\\PGM-project\\train_related\n",
      "save_path: C:\\Users\\Tianqin Li\\Code\\PGM-project\\train_related\n",
      "save_path: C:\\Users\\Tianqin Li\\Code\\PGM-project\\train_related\n",
      "save_path: C:\\Users\\Tianqin Li\\Code\\PGM-project\\train_related\n",
      "save_path: C:\\Users\\Tianqin Li\\Code\\PGM-project\\train_related\n",
      "epochs: 200\n",
      "epochs: 200\n",
      "epochs: 200\n",
      "epochs: 200\n",
      "epochs: 200\n",
      "epochs: 200\n",
      "subfolder: \\dann_shffle\n",
      "subfolder: \\dann_shffle\n",
      "subfolder: \\dann_shffle\n",
      "subfolder: \\dann_shffle\n",
      "subfolder: \\dann_shffle\n",
      "subfolder: \\dann_shffle\n",
      "wtarget: 0.7\n",
      "wtarget: 0.7\n",
      "wtarget: 0.7\n",
      "wtarget: 0.7\n",
      "wtarget: 0.7\n",
      "wtarget: 0.7\n",
      "dann_weight: 0.01\n",
      "dann_weight: 0.01\n",
      "dann_weight: 0.01\n",
      "dann_weight: 0.01\n",
      "dann_weight: 0.01\n",
      "dann_weight: 0.01\n",
      "model_save_period: 2\n",
      "model_save_period: 2\n",
      "model_save_period: 2\n",
      "model_save_period: 2\n",
      "model_save_period: 2\n",
      "model_save_period: 2\n"
     ]
    }
   ],
   "source": [
    "\n",
    "logger = logging.getLogger()\n",
    "logger.setLevel(logging.INFO)\n",
    "\n",
    "if os.path.isfile(args.save_path+model_sub_folder+ '\\logfile.log'):\n",
    "    os.remove(args.save_path+model_sub_folder+ '\\logfile.log')\n",
    "    \n",
    "file_log_handler = logging.FileHandler(args.save_path+model_sub_folder+ '\\logfile.log')\n",
    "logger.addHandler(file_log_handler)\n",
    "\n",
    "stdout_log_handler = logging.StreamHandler(sys.stdout)\n",
    "logger.addHandler(stdout_log_handler)\n",
    "\n",
    "attrs = vars(args)\n",
    "for item in attrs.items():\n",
    "    logger.info(\"%s: %s\"%item)\n"
   ]
  },
  {
   "cell_type": "markdown",
   "metadata": {},
   "source": [
    "# Data loader"
   ]
  },
  {
   "cell_type": "code",
   "execution_count": 246,
   "metadata": {},
   "outputs": [],
   "source": [
    "mnist_trainset = datasets.MNIST(root='./data', train=True, download=True, transform=torchvision.transforms.Compose([\n",
    "                               torchvision.transforms.ToTensor(),\n",
    "                               torchvision.transforms.Normalize(\n",
    "                                 (0.1307,), (0.3081,))\n",
    "                             ]))"
   ]
  },
  {
   "cell_type": "code",
   "execution_count": 247,
   "metadata": {},
   "outputs": [],
   "source": [
    "mnist_testset = datasets.MNIST(root='./data', train=False, download=True, transform=torchvision.transforms.Compose([\n",
    "                               torchvision.transforms.ToTensor(),\n",
    "                               torchvision.transforms.Normalize(\n",
    "                                 (0.1307,), (0.3081,))\n",
    "                             ]))"
   ]
  },
  {
   "cell_type": "code",
   "execution_count": 248,
   "metadata": {},
   "outputs": [
    {
     "name": "stdout",
     "output_type": "stream",
     "text": [
      "Using downloaded and verified file: ./data\\train_32x32.mat\n"
     ]
    }
   ],
   "source": [
    "svhn_trainset = datasets.SVHN(root='./data', split='train', download=True, transform=torchvision.transforms.Compose([\n",
    "                    torchvision.transforms.Resize((28, 28)),\n",
    "                    torchvision.transforms.Grayscale(num_output_channels=1),\n",
    "                    torchvision.transforms.ToTensor(),\n",
    "                    torchvision.transforms.Normalize([0.5], [0.5])]))"
   ]
  },
  {
   "cell_type": "code",
   "execution_count": 249,
   "metadata": {},
   "outputs": [
    {
     "name": "stdout",
     "output_type": "stream",
     "text": [
      "Using downloaded and verified file: ./data\\test_32x32.mat\n"
     ]
    }
   ],
   "source": [
    "svhn_testset = datasets.SVHN(root='./data', split='test', download=True, transform=torchvision.transforms.Compose([\n",
    "                    torchvision.transforms.Resize((28, 28)),\n",
    "                    torchvision.transforms.Grayscale(num_output_channels=1),\n",
    "                    torchvision.transforms.ToTensor(),\n",
    "                    torchvision.transforms.Normalize([0.5], [0.5])]))"
   ]
  },
  {
   "cell_type": "code",
   "execution_count": 250,
   "metadata": {},
   "outputs": [],
   "source": [
    "# # mnist\n",
    "# train_mnist_loader = DataLoader(mnist_trainset, batch_size=args.batch_size, shuffle=True)\n",
    "# test_mnist_loader = DataLoader(mnist_testset, batch_size=args.batch_size, shuffle=True)\n",
    "# examples = enumerate(test_mnist_loader)\n",
    "# batch_idx, (example_data, example_targets) = next(examples)\n",
    "\n",
    "\n",
    "# fig = plt.figure()\n",
    "# for i in range(6):\n",
    "#   plt.subplot(2,3,i+1)\n",
    "#   plt.tight_layout()\n",
    "#   plt.imshow(example_data[i][0], cmap='gray', interpolation='none')\n",
    "#   plt.title(\"Ground Truth: {}\".format(example_targets[i]))\n",
    "#   plt.xticks([])\n",
    "#   plt.yticks([])"
   ]
  },
  {
   "cell_type": "code",
   "execution_count": 251,
   "metadata": {},
   "outputs": [],
   "source": [
    "# # svhn\n",
    "# train_svhn_loader = DataLoader(svhn_trainset, batch_size=args.batch_size, shuffle=True)\n",
    "# test_svhn_loader = DataLoader(svhn_trainset, batch_size=args.batch_size, shuffle=True)\n",
    "# examples = enumerate(train_svhn_loader)\n",
    "# batch_idx, (example_data, example_targets) = next(examples)\n",
    "\n",
    "\n",
    "# fig = plt.figure()\n",
    "# for i in range(6):\n",
    "#   plt.subplot(2,3,i+1)\n",
    "#   plt.tight_layout()\n",
    "#   plt.imshow(example_data[i][0], cmap='gray', interpolation='none')\n",
    "#   plt.title(\"Ground Truth: {}\".format(example_targets[i]))\n",
    "#   plt.xticks([])\n",
    "#   plt.yticks([])"
   ]
  },
  {
   "cell_type": "code",
   "execution_count": 252,
   "metadata": {},
   "outputs": [],
   "source": [
    "# reload data\n",
    "train_mnist_loader = DataLoader(mnist_trainset, batch_size=args.batch_size, shuffle=True)\n",
    "test_mnist_loader = DataLoader(mnist_testset, batch_size=args.batch_size, shuffle=True)\n",
    "train_svhn_loader = DataLoader(svhn_trainset, batch_size=args.batch_size, shuffle=True)\n",
    "test_svhn_loader = DataLoader(svhn_trainset, batch_size=args.batch_size, shuffle=True)"
   ]
  },
  {
   "cell_type": "markdown",
   "metadata": {},
   "source": [
    "## Process data for cancat with source and target label"
   ]
  },
  {
   "cell_type": "code",
   "execution_count": 253,
   "metadata": {},
   "outputs": [],
   "source": [
    "class ConcatDataset(Dataset):\n",
    "    def __init__(self, x, y, mode='mnist'):\n",
    "        self.x = x\n",
    "        self.y = y\n",
    "        self.len = self.x.shape[0]\n",
    "        self.mode = mode\n",
    "        if self.mode == 'mnist':\n",
    "            self.transform = torchvision.transforms.Compose([\n",
    "                               torchvision.transforms.ToTensor(),\n",
    "                               torchvision.transforms.Normalize(\n",
    "                                 (0.1307,), (0.3081,))\n",
    "                             ])\n",
    "        elif self.mode == 'svhn':\n",
    "            self.transform = torchvision.transforms.Compose([\n",
    "                    torchvision.transforms.Resize((28, 28)),\n",
    "                    torchvision.transforms.Grayscale(num_output_channels=1),\n",
    "                    torchvision.transforms.ToTensor(),\n",
    "                    torchvision.transforms.Normalize([0.5], [0.5])])\n",
    "\n",
    "    def __len__(self):\n",
    "        return self.len\n",
    "    \n",
    "    def __getitem__(self, index):\n",
    "        if self.mode == 'mnist':\n",
    "            img = Image.fromarray(self.x[index].numpy(), mode='L')\n",
    "            img = self.transform(img)\n",
    "        elif self.mode == 'svhn':\n",
    "            img = Image.fromarray(np.transpose(self.x[index], (1, 2, 0)))\n",
    "            img = self.transform(img)\n",
    "    \n",
    "        return img, self.y[index]"
   ]
  },
  {
   "cell_type": "code",
   "execution_count": 254,
   "metadata": {},
   "outputs": [],
   "source": [
    "\n",
    "concat_mnist_train = ConcatDataset(mnist_trainset.data, torch.randint(0,2,(mnist_trainset.data.shape[0],)), mode = 'mnist')\n",
    "concat_svhn_train = ConcatDataset(svhn_trainset.data, torch.randint(0,2,(svhn_trainset.data.shape[0],)), mode = 'svhn')\n",
    "\n",
    "\n",
    "adverial_dataset = torch.utils.data.ConcatDataset([concat_mnist_train, concat_svhn_train])\n",
    "# [i[1] for i in [adverial_dataset[m] for m in torch.randint(0, len(adverial_dataset), (100,))]]\n",
    "adverial_loader = DataLoader(adverial_dataset, batch_size=args.batch_size, shuffle=True)"
   ]
  },
  {
   "cell_type": "code",
   "execution_count": null,
   "metadata": {},
   "outputs": [],
   "source": []
  },
  {
   "cell_type": "markdown",
   "metadata": {},
   "source": [
    "# Model"
   ]
  },
  {
   "cell_type": "code",
   "execution_count": 255,
   "metadata": {},
   "outputs": [],
   "source": [
    "class Encoder(nn.Module):\n",
    "    def __init__(self):\n",
    "        super(Encoder, self).__init__()\n",
    "        self.conv1 = nn.Conv2d(1, 10, kernel_size=5)\n",
    "        self.conv2 = nn.Conv2d(10, 20, kernel_size=5)\n",
    "        self.conv2_drop = nn.Dropout2d()\n",
    "        self.fc1 = nn.Linear(320, 50)\n",
    "        self.fc2 = nn.Linear(50, 30)\n",
    "\n",
    "    def forward(self, x):\n",
    "        x = F.relu(F.max_pool2d(self.conv1(x), 2))\n",
    "        x = F.relu(F.max_pool2d(self.conv2_drop(self.conv2(x)), 2))\n",
    "        x = x.view(-1, 320)\n",
    "        x = F.relu(self.fc1(x))\n",
    "        x = F.dropout(x, training=self.training)\n",
    "        x = self.fc2(x)\n",
    "        return x"
   ]
  },
  {
   "cell_type": "code",
   "execution_count": 256,
   "metadata": {},
   "outputs": [],
   "source": [
    "class FNN(nn.Module):\n",
    "    def __init__(self, d_in, d_h1, d_h2, d_out, dp=0.2):\n",
    "        super(FNN, self).__init__()\n",
    "        self.fc1 = nn.Linear(d_in, d_h1)\n",
    "        self.ln1 = nn.LayerNorm(d_h1)\n",
    "        self.relu1 = nn.ReLU(inplace=True)\n",
    "        self.dropout1 = nn.Dropout(dp)\n",
    "        self.fc2 = nn.Linear(d_h1, d_h2)\n",
    "        self.ln2 = nn.LayerNorm(d_h2)\n",
    "        self.relu2 = nn.ReLU(inplace=True)\n",
    "        self.dropout2 = nn.Dropout(dp)\n",
    "        self.fc3 = nn.Linear(d_h2, d_out)\n",
    "\n",
    "    def forward(self, x):\n",
    "        x = self.fc1(x)\n",
    "        x = self.ln1(x)\n",
    "        x = self.relu1(x)\n",
    "        x = self.dropout1(x)\n",
    "        x = self.fc2(x)\n",
    "        x = self.ln2(x)\n",
    "        x = self.relu2(x)\n",
    "        x = self.dropout2(x)\n",
    "        x = self.fc3(x)\n",
    "\n",
    "        return x"
   ]
  },
  {
   "cell_type": "code",
   "execution_count": 257,
   "metadata": {},
   "outputs": [],
   "source": [
    "class Adversial_loss(nn.Module):\n",
    "    def __init__(self):\n",
    "        super(Adversial_loss, self).__init__()\n",
    "    \n",
    "    def forward(self):\n",
    "        pass"
   ]
  },
  {
   "cell_type": "code",
   "execution_count": 258,
   "metadata": {},
   "outputs": [],
   "source": [
    "def weights_init(m):\n",
    "    if type(m) == nn.Linear:\n",
    "        torch.nn.init.xavier_uniform_(m.weight)\n",
    "    elif type(m) == nn.LayerNorm:\n",
    "        torch.nn.init.normal_(m.weight, 1.0, 0.02)\n",
    "        torch.nn.init.constant_(m.bias, 0)\n"
   ]
  },
  {
   "cell_type": "code",
   "execution_count": 259,
   "metadata": {},
   "outputs": [
    {
     "name": "stdout",
     "output_type": "stream",
     "text": [
      "cuda:0\n"
     ]
    },
    {
     "data": {
      "text/plain": [
       "FNN(\n",
       "  (fc1): Linear(in_features=30, out_features=100, bias=True)\n",
       "  (ln1): LayerNorm((100,), eps=1e-05, elementwise_affine=True)\n",
       "  (relu1): ReLU(inplace=True)\n",
       "  (dropout1): Dropout(p=0.2, inplace=False)\n",
       "  (fc2): Linear(in_features=100, out_features=100, bias=True)\n",
       "  (ln2): LayerNorm((100,), eps=1e-05, elementwise_affine=True)\n",
       "  (relu2): ReLU(inplace=True)\n",
       "  (dropout2): Dropout(p=0.2, inplace=False)\n",
       "  (fc3): Linear(in_features=100, out_features=2, bias=True)\n",
       ")"
      ]
     },
     "execution_count": 259,
     "metadata": {},
     "output_type": "execute_result"
    }
   ],
   "source": [
    "\n",
    "device = torch.device('cuda:{}'.format(args.gpu_num) if torch.cuda.is_available() else 'cpu')\n",
    "print(device)\n",
    "torch.manual_seed(args.seed)\n",
    "torch.cuda.manual_seed(args.seed)\n",
    "np.random.seed(args.seed)\n",
    "\n",
    "encoder = Encoder().to(device)\n",
    "CNet = FNN(d_in=30, d_h1=100, d_h2=100, d_out=10, dp=0.2).to(device)\n",
    "DomainCNet = FNN(d_in=30, d_h1=100, d_h2=100, d_out=2, dp=0.2).to(device)\n",
    "\n",
    "\n",
    "\n",
    "\n",
    "optimizerEncoder = optim.Adam(encoder.parameters(), lr=args.learning_rate)\n",
    "optimizerCNet = optim.Adam(CNet.parameters(), lr=args.learning_rate)\n",
    "optimizerDomainCNet = optim.Adam(DomainCNet.parameters(), lr=args.learning_rate)\n",
    "\n",
    "criterion_classifier = nn.CrossEntropyLoss().to(device)\n",
    "# criterion_adverisal = \n",
    "\n",
    "encoder.apply(weights_init)\n",
    "CNet.apply(weights_init)\n",
    "DomainCNet.apply(weights_init)"
   ]
  },
  {
   "cell_type": "markdown",
   "metadata": {},
   "source": [
    "# Train"
   ]
  },
  {
   "cell_type": "code",
   "execution_count": 260,
   "metadata": {},
   "outputs": [
    {
     "name": "stdout",
     "output_type": "stream",
     "text": [
      "Started Training\n",
      "Started Training\n",
      "Started Training\n",
      "Started Training\n",
      "Started Training\n",
      "Started Training\n"
     ]
    },
    {
     "name": "stderr",
     "output_type": "stream",
     "text": [
      "100%|██████████| 150/150 [00:07<00:00, 19.26it/s]\n",
      "100%|██████████| 184/184 [00:12<00:00, 15.20it/s]\n",
      "100%|██████████| 334/334 [00:20<00:00, 16.54it/s]\n"
     ]
    },
    {
     "name": "stdout",
     "output_type": "stream",
     "text": [
      "Epochs 1: source train acc: 0.606250; source test acc: 0.555700; target train acc: 0.361727; target test acc: 0.506109\n",
      "Epochs 1: source train acc: 0.606250; source test acc: 0.555700; target train acc: 0.361727; target test acc: 0.506109\n",
      "Epochs 1: source train acc: 0.606250; source test acc: 0.555700; target train acc: 0.361727; target test acc: 0.506109\n",
      "Epochs 1: source train acc: 0.606250; source test acc: 0.555700; target train acc: 0.361727; target test acc: 0.506109\n",
      "Epochs 1: source train acc: 0.606250; source test acc: 0.555700; target train acc: 0.361727; target test acc: 0.506109\n",
      "Epochs 1: source train acc: 0.606250; source test acc: 0.555700; target train acc: 0.361727; target test acc: 0.506109\n"
     ]
    },
    {
     "name": "stderr",
     "output_type": "stream",
     "text": [
      "100%|██████████| 150/150 [00:07<00:00, 19.48it/s]\n",
      "100%|██████████| 184/184 [00:11<00:00, 15.33it/s]\n",
      "100%|██████████| 334/334 [00:20<00:00, 16.67it/s]\n"
     ]
    },
    {
     "name": "stdout",
     "output_type": "stream",
     "text": [
      "Epochs 2: source train acc: 0.842917; source test acc: 0.687600; target train acc: 0.547211; target test acc: 0.639038\n",
      "Epochs 2: source train acc: 0.842917; source test acc: 0.687600; target train acc: 0.547211; target test acc: 0.639038\n",
      "Epochs 2: source train acc: 0.842917; source test acc: 0.687600; target train acc: 0.547211; target test acc: 0.639038\n",
      "Epochs 2: source train acc: 0.842917; source test acc: 0.687600; target train acc: 0.547211; target test acc: 0.639038\n",
      "Epochs 2: source train acc: 0.842917; source test acc: 0.687600; target train acc: 0.547211; target test acc: 0.639038\n",
      "Epochs 2: source train acc: 0.842917; source test acc: 0.687600; target train acc: 0.547211; target test acc: 0.639038\n"
     ]
    },
    {
     "name": "stderr",
     "output_type": "stream",
     "text": [
      "100%|██████████| 150/150 [00:07<00:00, 19.77it/s]\n",
      "100%|██████████| 184/184 [00:11<00:00, 15.47it/s]\n",
      "100%|██████████| 334/334 [00:20<00:00, 16.69it/s]\n"
     ]
    },
    {
     "name": "stdout",
     "output_type": "stream",
     "text": [
      "Epochs 3: source train acc: 0.875467; source test acc: 0.726700; target train acc: 0.619668; target test acc: 0.668223\n",
      "Epochs 3: source train acc: 0.875467; source test acc: 0.726700; target train acc: 0.619668; target test acc: 0.668223\n",
      "Epochs 3: source train acc: 0.875467; source test acc: 0.726700; target train acc: 0.619668; target test acc: 0.668223\n",
      "Epochs 3: source train acc: 0.875467; source test acc: 0.726700; target train acc: 0.619668; target test acc: 0.668223\n",
      "Epochs 3: source train acc: 0.875467; source test acc: 0.726700; target train acc: 0.619668; target test acc: 0.668223\n",
      "Epochs 3: source train acc: 0.875467; source test acc: 0.726700; target train acc: 0.619668; target test acc: 0.668223\n"
     ]
    },
    {
     "name": "stderr",
     "output_type": "stream",
     "text": [
      "100%|██████████| 150/150 [00:07<00:00, 19.71it/s]\n",
      "100%|██████████| 184/184 [00:11<00:00, 15.47it/s]\n",
      "100%|██████████| 334/334 [00:19<00:00, 16.72it/s]\n"
     ]
    },
    {
     "name": "stdout",
     "output_type": "stream",
     "text": [
      "Epochs 4: source train acc: 0.884367; source test acc: 0.781600; target train acc: 0.649822; target test acc: 0.723071\n",
      "Epochs 4: source train acc: 0.884367; source test acc: 0.781600; target train acc: 0.649822; target test acc: 0.723071\n",
      "Epochs 4: source train acc: 0.884367; source test acc: 0.781600; target train acc: 0.649822; target test acc: 0.723071\n",
      "Epochs 4: source train acc: 0.884367; source test acc: 0.781600; target train acc: 0.649822; target test acc: 0.723071\n",
      "Epochs 4: source train acc: 0.884367; source test acc: 0.781600; target train acc: 0.649822; target test acc: 0.723071\n",
      "Epochs 4: source train acc: 0.884367; source test acc: 0.781600; target train acc: 0.649822; target test acc: 0.723071\n"
     ]
    },
    {
     "name": "stderr",
     "output_type": "stream",
     "text": [
      "100%|██████████| 150/150 [00:07<00:00, 19.64it/s]\n",
      "100%|██████████| 184/184 [00:11<00:00, 15.35it/s]\n",
      "100%|██████████| 334/334 [00:20<00:00, 16.59it/s]\n"
     ]
    },
    {
     "name": "stdout",
     "output_type": "stream",
     "text": [
      "Epochs 5: source train acc: 0.893817; source test acc: 0.700700; target train acc: 0.672796; target test acc: 0.678993\n",
      "Epochs 5: source train acc: 0.893817; source test acc: 0.700700; target train acc: 0.672796; target test acc: 0.678993\n",
      "Epochs 5: source train acc: 0.893817; source test acc: 0.700700; target train acc: 0.672796; target test acc: 0.678993\n",
      "Epochs 5: source train acc: 0.893817; source test acc: 0.700700; target train acc: 0.672796; target test acc: 0.678993\n",
      "Epochs 5: source train acc: 0.893817; source test acc: 0.700700; target train acc: 0.672796; target test acc: 0.678993\n",
      "Epochs 5: source train acc: 0.893817; source test acc: 0.700700; target train acc: 0.672796; target test acc: 0.678993\n"
     ]
    },
    {
     "name": "stderr",
     "output_type": "stream",
     "text": [
      "100%|██████████| 150/150 [00:07<00:00, 19.66it/s]\n",
      "100%|██████████| 184/184 [00:11<00:00, 15.40it/s]\n",
      "100%|██████████| 334/334 [00:20<00:00, 16.57it/s]\n"
     ]
    },
    {
     "name": "stdout",
     "output_type": "stream",
     "text": [
      "Epochs 6: source train acc: 0.895917; source test acc: 0.750000; target train acc: 0.686201; target test acc: 0.648743\n",
      "Epochs 6: source train acc: 0.895917; source test acc: 0.750000; target train acc: 0.686201; target test acc: 0.648743\n",
      "Epochs 6: source train acc: 0.895917; source test acc: 0.750000; target train acc: 0.686201; target test acc: 0.648743\n",
      "Epochs 6: source train acc: 0.895917; source test acc: 0.750000; target train acc: 0.686201; target test acc: 0.648743\n",
      "Epochs 6: source train acc: 0.895917; source test acc: 0.750000; target train acc: 0.686201; target test acc: 0.648743\n",
      "Epochs 6: source train acc: 0.895917; source test acc: 0.750000; target train acc: 0.686201; target test acc: 0.648743\n"
     ]
    },
    {
     "name": "stderr",
     "output_type": "stream",
     "text": [
      "100%|██████████| 150/150 [00:07<00:00, 19.61it/s]\n",
      "100%|██████████| 184/184 [00:11<00:00, 15.42it/s]\n",
      "100%|██████████| 334/334 [00:20<00:00, 16.41it/s]\n"
     ]
    },
    {
     "name": "stdout",
     "output_type": "stream",
     "text": [
      "Epochs 7: source train acc: 0.899367; source test acc: 0.809000; target train acc: 0.697271; target test acc: 0.784335\n",
      "Epochs 7: source train acc: 0.899367; source test acc: 0.809000; target train acc: 0.697271; target test acc: 0.784335\n",
      "Epochs 7: source train acc: 0.899367; source test acc: 0.809000; target train acc: 0.697271; target test acc: 0.784335\n",
      "Epochs 7: source train acc: 0.899367; source test acc: 0.809000; target train acc: 0.697271; target test acc: 0.784335\n",
      "Epochs 7: source train acc: 0.899367; source test acc: 0.809000; target train acc: 0.697271; target test acc: 0.784335\n",
      "Epochs 7: source train acc: 0.899367; source test acc: 0.809000; target train acc: 0.697271; target test acc: 0.784335\n"
     ]
    },
    {
     "name": "stderr",
     "output_type": "stream",
     "text": [
      "100%|██████████| 150/150 [00:07<00:00, 19.53it/s]\n",
      "100%|██████████| 184/184 [00:12<00:00, 15.33it/s]\n",
      "100%|██████████| 334/334 [00:20<00:00, 16.54it/s]\n"
     ]
    },
    {
     "name": "stdout",
     "output_type": "stream",
     "text": [
      "Epochs 8: source train acc: 0.903883; source test acc: 0.816900; target train acc: 0.699237; target test acc: 0.676782\n",
      "Epochs 8: source train acc: 0.903883; source test acc: 0.816900; target train acc: 0.699237; target test acc: 0.676782\n",
      "Epochs 8: source train acc: 0.903883; source test acc: 0.816900; target train acc: 0.699237; target test acc: 0.676782\n",
      "Epochs 8: source train acc: 0.903883; source test acc: 0.816900; target train acc: 0.699237; target test acc: 0.676782\n",
      "Epochs 8: source train acc: 0.903883; source test acc: 0.816900; target train acc: 0.699237; target test acc: 0.676782\n",
      "Epochs 8: source train acc: 0.903883; source test acc: 0.816900; target train acc: 0.699237; target test acc: 0.676782\n"
     ]
    },
    {
     "name": "stderr",
     "output_type": "stream",
     "text": [
      "100%|██████████| 150/150 [00:07<00:00, 19.70it/s]\n",
      "100%|██████████| 184/184 [00:11<00:00, 15.37it/s]\n",
      "100%|██████████| 334/334 [00:20<00:00, 16.58it/s]\n"
     ]
    },
    {
     "name": "stdout",
     "output_type": "stream",
     "text": [
      "Epochs 9: source train acc: 0.905050; source test acc: 0.825000; target train acc: 0.710581; target test acc: 0.680290\n",
      "Epochs 9: source train acc: 0.905050; source test acc: 0.825000; target train acc: 0.710581; target test acc: 0.680290\n",
      "Epochs 9: source train acc: 0.905050; source test acc: 0.825000; target train acc: 0.710581; target test acc: 0.680290\n",
      "Epochs 9: source train acc: 0.905050; source test acc: 0.825000; target train acc: 0.710581; target test acc: 0.680290\n",
      "Epochs 9: source train acc: 0.905050; source test acc: 0.825000; target train acc: 0.710581; target test acc: 0.680290\n",
      "Epochs 9: source train acc: 0.905050; source test acc: 0.825000; target train acc: 0.710581; target test acc: 0.680290\n"
     ]
    },
    {
     "name": "stderr",
     "output_type": "stream",
     "text": [
      "100%|██████████| 150/150 [00:07<00:00, 19.60it/s]\n",
      "100%|██████████| 184/184 [00:11<00:00, 15.42it/s]\n",
      "100%|██████████| 334/334 [00:20<00:00, 16.60it/s]\n"
     ]
    },
    {
     "name": "stdout",
     "output_type": "stream",
     "text": [
      "Epochs 10: source train acc: 0.909067; source test acc: 0.868400; target train acc: 0.713925; target test acc: 0.717993\n",
      "Epochs 10: source train acc: 0.909067; source test acc: 0.868400; target train acc: 0.713925; target test acc: 0.717993\n",
      "Epochs 10: source train acc: 0.909067; source test acc: 0.868400; target train acc: 0.713925; target test acc: 0.717993\n",
      "Epochs 10: source train acc: 0.909067; source test acc: 0.868400; target train acc: 0.713925; target test acc: 0.717993\n",
      "Epochs 10: source train acc: 0.909067; source test acc: 0.868400; target train acc: 0.713925; target test acc: 0.717993\n",
      "Epochs 10: source train acc: 0.909067; source test acc: 0.868400; target train acc: 0.713925; target test acc: 0.717993\n"
     ]
    },
    {
     "name": "stderr",
     "output_type": "stream",
     "text": [
      "100%|██████████| 150/150 [00:07<00:00, 19.63it/s]\n",
      "100%|██████████| 184/184 [00:11<00:00, 15.36it/s]\n",
      "100%|██████████| 334/334 [00:20<00:00, 16.58it/s]\n"
     ]
    },
    {
     "name": "stdout",
     "output_type": "stream",
     "text": [
      "Epochs 11: source train acc: 0.911483; source test acc: 0.804300; target train acc: 0.717474; target test acc: 0.660729\n",
      "Epochs 11: source train acc: 0.911483; source test acc: 0.804300; target train acc: 0.717474; target test acc: 0.660729\n",
      "Epochs 11: source train acc: 0.911483; source test acc: 0.804300; target train acc: 0.717474; target test acc: 0.660729\n",
      "Epochs 11: source train acc: 0.911483; source test acc: 0.804300; target train acc: 0.717474; target test acc: 0.660729\n",
      "Epochs 11: source train acc: 0.911483; source test acc: 0.804300; target train acc: 0.717474; target test acc: 0.660729\n",
      "Epochs 11: source train acc: 0.911483; source test acc: 0.804300; target train acc: 0.717474; target test acc: 0.660729\n"
     ]
    },
    {
     "name": "stderr",
     "output_type": "stream",
     "text": [
      "100%|██████████| 150/150 [00:07<00:00, 19.61it/s]\n",
      "100%|██████████| 184/184 [00:12<00:00, 15.30it/s]\n",
      "100%|██████████| 334/334 [00:20<00:00, 16.48it/s]\n"
     ]
    },
    {
     "name": "stdout",
     "output_type": "stream",
     "text": [
      "Epochs 12: source train acc: 0.910350; source test acc: 0.867400; target train acc: 0.726593; target test acc: 0.729350\n",
      "Epochs 12: source train acc: 0.910350; source test acc: 0.867400; target train acc: 0.726593; target test acc: 0.729350\n",
      "Epochs 12: source train acc: 0.910350; source test acc: 0.867400; target train acc: 0.726593; target test acc: 0.729350\n",
      "Epochs 12: source train acc: 0.910350; source test acc: 0.867400; target train acc: 0.726593; target test acc: 0.729350\n",
      "Epochs 12: source train acc: 0.910350; source test acc: 0.867400; target train acc: 0.726593; target test acc: 0.729350\n",
      "Epochs 12: source train acc: 0.910350; source test acc: 0.867400; target train acc: 0.726593; target test acc: 0.729350\n"
     ]
    },
    {
     "name": "stderr",
     "output_type": "stream",
     "text": [
      "100%|██████████| 150/150 [00:07<00:00, 19.40it/s]\n",
      "100%|██████████| 184/184 [00:12<00:00, 15.25it/s]\n",
      "100%|██████████| 334/334 [00:20<00:00, 16.46it/s]\n"
     ]
    },
    {
     "name": "stdout",
     "output_type": "stream",
     "text": [
      "Epochs 13: source train acc: 0.915250; source test acc: 0.896000; target train acc: 0.726470; target test acc: 0.733254\n",
      "Epochs 13: source train acc: 0.915250; source test acc: 0.896000; target train acc: 0.726470; target test acc: 0.733254\n",
      "Epochs 13: source train acc: 0.915250; source test acc: 0.896000; target train acc: 0.726470; target test acc: 0.733254\n",
      "Epochs 13: source train acc: 0.915250; source test acc: 0.896000; target train acc: 0.726470; target test acc: 0.733254\n",
      "Epochs 13: source train acc: 0.915250; source test acc: 0.896000; target train acc: 0.726470; target test acc: 0.733254\n",
      "Epochs 13: source train acc: 0.915250; source test acc: 0.896000; target train acc: 0.726470; target test acc: 0.733254\n"
     ]
    },
    {
     "name": "stderr",
     "output_type": "stream",
     "text": [
      "100%|██████████| 150/150 [00:07<00:00, 19.48it/s]\n",
      "100%|██████████| 184/184 [00:12<00:00, 15.27it/s]\n",
      "100%|██████████| 334/334 [00:20<00:00, 16.45it/s]\n"
     ]
    },
    {
     "name": "stdout",
     "output_type": "stream",
     "text": [
      "Epochs 14: source train acc: 0.916283; source test acc: 0.901900; target train acc: 0.730579; target test acc: 0.794996\n",
      "Epochs 14: source train acc: 0.916283; source test acc: 0.901900; target train acc: 0.730579; target test acc: 0.794996\n",
      "Epochs 14: source train acc: 0.916283; source test acc: 0.901900; target train acc: 0.730579; target test acc: 0.794996\n",
      "Epochs 14: source train acc: 0.916283; source test acc: 0.901900; target train acc: 0.730579; target test acc: 0.794996\n",
      "Epochs 14: source train acc: 0.916283; source test acc: 0.901900; target train acc: 0.730579; target test acc: 0.794996\n",
      "Epochs 14: source train acc: 0.916283; source test acc: 0.901900; target train acc: 0.730579; target test acc: 0.794996\n"
     ]
    },
    {
     "name": "stderr",
     "output_type": "stream",
     "text": [
      "100%|██████████| 150/150 [00:08<00:00, 18.67it/s]\n",
      "100%|██████████| 184/184 [00:12<00:00, 14.54it/s]\n",
      "100%|██████████| 334/334 [00:21<00:00, 15.69it/s]\n"
     ]
    },
    {
     "name": "stdout",
     "output_type": "stream",
     "text": [
      "Epochs 15: source train acc: 0.919483; source test acc: 0.937000; target train acc: 0.734182; target test acc: 0.743492\n",
      "Epochs 15: source train acc: 0.919483; source test acc: 0.937000; target train acc: 0.734182; target test acc: 0.743492\n",
      "Epochs 15: source train acc: 0.919483; source test acc: 0.937000; target train acc: 0.734182; target test acc: 0.743492\n",
      "Epochs 15: source train acc: 0.919483; source test acc: 0.937000; target train acc: 0.734182; target test acc: 0.743492\n",
      "Epochs 15: source train acc: 0.919483; source test acc: 0.937000; target train acc: 0.734182; target test acc: 0.743492\n",
      "Epochs 15: source train acc: 0.919483; source test acc: 0.937000; target train acc: 0.734182; target test acc: 0.743492\n"
     ]
    },
    {
     "name": "stderr",
     "output_type": "stream",
     "text": [
      "100%|██████████| 150/150 [00:08<00:00, 18.26it/s]\n",
      "100%|██████████| 184/184 [00:12<00:00, 14.43it/s]\n",
      "100%|██████████| 334/334 [00:22<00:00, 14.71it/s]\n"
     ]
    },
    {
     "name": "stdout",
     "output_type": "stream",
     "text": [
      "Epochs 16: source train acc: 0.920983; source test acc: 0.924400; target train acc: 0.731835; target test acc: 0.690337\n",
      "Epochs 16: source train acc: 0.920983; source test acc: 0.924400; target train acc: 0.731835; target test acc: 0.690337\n",
      "Epochs 16: source train acc: 0.920983; source test acc: 0.924400; target train acc: 0.731835; target test acc: 0.690337\n",
      "Epochs 16: source train acc: 0.920983; source test acc: 0.924400; target train acc: 0.731835; target test acc: 0.690337\n",
      "Epochs 16: source train acc: 0.920983; source test acc: 0.924400; target train acc: 0.731835; target test acc: 0.690337\n",
      "Epochs 16: source train acc: 0.920983; source test acc: 0.924400; target train acc: 0.731835; target test acc: 0.690337\n"
     ]
    },
    {
     "name": "stderr",
     "output_type": "stream",
     "text": [
      "100%|██████████| 150/150 [00:08<00:00, 18.40it/s]\n",
      "100%|██████████| 184/184 [00:13<00:00, 13.87it/s]\n",
      "100%|██████████| 334/334 [00:22<00:00, 15.13it/s]\n"
     ]
    },
    {
     "name": "stdout",
     "output_type": "stream",
     "text": [
      "Epochs 17: source train acc: 0.919217; source test acc: 0.913100; target train acc: 0.736776; target test acc: 0.820017\n",
      "Epochs 17: source train acc: 0.919217; source test acc: 0.913100; target train acc: 0.736776; target test acc: 0.820017\n",
      "Epochs 17: source train acc: 0.919217; source test acc: 0.913100; target train acc: 0.736776; target test acc: 0.820017\n",
      "Epochs 17: source train acc: 0.919217; source test acc: 0.913100; target train acc: 0.736776; target test acc: 0.820017\n",
      "Epochs 17: source train acc: 0.919217; source test acc: 0.913100; target train acc: 0.736776; target test acc: 0.820017\n",
      "Epochs 17: source train acc: 0.919217; source test acc: 0.913100; target train acc: 0.736776; target test acc: 0.820017\n"
     ]
    },
    {
     "name": "stderr",
     "output_type": "stream",
     "text": [
      "100%|██████████| 150/150 [00:08<00:00, 18.07it/s]\n",
      "100%|██████████| 184/184 [00:13<00:00, 13.78it/s]\n",
      "100%|██████████| 334/334 [00:22<00:00, 15.17it/s]\n"
     ]
    },
    {
     "name": "stdout",
     "output_type": "stream",
     "text": [
      "Epochs 18: source train acc: 0.920917; source test acc: 0.934700; target train acc: 0.739315; target test acc: 0.775080\n",
      "Epochs 18: source train acc: 0.920917; source test acc: 0.934700; target train acc: 0.739315; target test acc: 0.775080\n",
      "Epochs 18: source train acc: 0.920917; source test acc: 0.934700; target train acc: 0.739315; target test acc: 0.775080\n",
      "Epochs 18: source train acc: 0.920917; source test acc: 0.934700; target train acc: 0.739315; target test acc: 0.775080\n",
      "Epochs 18: source train acc: 0.920917; source test acc: 0.934700; target train acc: 0.739315; target test acc: 0.775080\n",
      "Epochs 18: source train acc: 0.920917; source test acc: 0.934700; target train acc: 0.739315; target test acc: 0.775080\n"
     ]
    },
    {
     "name": "stderr",
     "output_type": "stream",
     "text": [
      "100%|██████████| 150/150 [00:09<00:00, 16.45it/s]\n",
      "100%|██████████| 184/184 [00:14<00:00, 12.96it/s]\n",
      "100%|██████████| 334/334 [00:23<00:00, 14.04it/s]\n"
     ]
    },
    {
     "name": "stdout",
     "output_type": "stream",
     "text": [
      "Epochs 19: source train acc: 0.923533; source test acc: 0.906300; target train acc: 0.742796; target test acc: 0.652279\n",
      "Epochs 19: source train acc: 0.923533; source test acc: 0.906300; target train acc: 0.742796; target test acc: 0.652279\n",
      "Epochs 19: source train acc: 0.923533; source test acc: 0.906300; target train acc: 0.742796; target test acc: 0.652279\n",
      "Epochs 19: source train acc: 0.923533; source test acc: 0.906300; target train acc: 0.742796; target test acc: 0.652279\n",
      "Epochs 19: source train acc: 0.923533; source test acc: 0.906300; target train acc: 0.742796; target test acc: 0.652279\n",
      "Epochs 19: source train acc: 0.923533; source test acc: 0.906300; target train acc: 0.742796; target test acc: 0.652279\n"
     ]
    },
    {
     "name": "stderr",
     "output_type": "stream",
     "text": [
      "100%|██████████| 150/150 [00:08<00:00, 17.00it/s]\n",
      "100%|██████████| 184/184 [00:14<00:00, 12.83it/s]\n",
      "100%|██████████| 334/334 [00:24<00:00, 13.91it/s]\n"
     ]
    },
    {
     "name": "stdout",
     "output_type": "stream",
     "text": [
      "Epochs 20: source train acc: 0.923300; source test acc: 0.930300; target train acc: 0.745403; target test acc: 0.687143\n",
      "Epochs 20: source train acc: 0.923300; source test acc: 0.930300; target train acc: 0.745403; target test acc: 0.687143\n",
      "Epochs 20: source train acc: 0.923300; source test acc: 0.930300; target train acc: 0.745403; target test acc: 0.687143\n",
      "Epochs 20: source train acc: 0.923300; source test acc: 0.930300; target train acc: 0.745403; target test acc: 0.687143\n",
      "Epochs 20: source train acc: 0.923300; source test acc: 0.930300; target train acc: 0.745403; target test acc: 0.687143\n",
      "Epochs 20: source train acc: 0.923300; source test acc: 0.930300; target train acc: 0.745403; target test acc: 0.687143\n"
     ]
    },
    {
     "name": "stderr",
     "output_type": "stream",
     "text": [
      "100%|██████████| 150/150 [00:09<00:00, 16.52it/s]\n",
      "100%|██████████| 184/184 [00:14<00:00, 12.79it/s]\n",
      "100%|██████████| 334/334 [00:24<00:00, 13.64it/s]\n"
     ]
    },
    {
     "name": "stdout",
     "output_type": "stream",
     "text": [
      "Epochs 21: source train acc: 0.924167; source test acc: 0.926200; target train acc: 0.743683; target test acc: 0.700889\n",
      "Epochs 21: source train acc: 0.924167; source test acc: 0.926200; target train acc: 0.743683; target test acc: 0.700889\n",
      "Epochs 21: source train acc: 0.924167; source test acc: 0.926200; target train acc: 0.743683; target test acc: 0.700889\n",
      "Epochs 21: source train acc: 0.924167; source test acc: 0.926200; target train acc: 0.743683; target test acc: 0.700889\n",
      "Epochs 21: source train acc: 0.924167; source test acc: 0.926200; target train acc: 0.743683; target test acc: 0.700889\n",
      "Epochs 21: source train acc: 0.924167; source test acc: 0.926200; target train acc: 0.743683; target test acc: 0.700889\n"
     ]
    },
    {
     "name": "stderr",
     "output_type": "stream",
     "text": [
      "100%|██████████| 150/150 [00:09<00:00, 16.36it/s]\n",
      "100%|██████████| 184/184 [00:14<00:00, 12.79it/s]\n",
      "100%|██████████| 334/334 [00:24<00:00, 13.79it/s]\n"
     ]
    },
    {
     "name": "stdout",
     "output_type": "stream",
     "text": [
      "Epochs 22: source train acc: 0.925567; source test acc: 0.940100; target train acc: 0.746632; target test acc: 0.700547\n",
      "Epochs 22: source train acc: 0.925567; source test acc: 0.940100; target train acc: 0.746632; target test acc: 0.700547\n",
      "Epochs 22: source train acc: 0.925567; source test acc: 0.940100; target train acc: 0.746632; target test acc: 0.700547\n",
      "Epochs 22: source train acc: 0.925567; source test acc: 0.940100; target train acc: 0.746632; target test acc: 0.700547\n",
      "Epochs 22: source train acc: 0.925567; source test acc: 0.940100; target train acc: 0.746632; target test acc: 0.700547\n",
      "Epochs 22: source train acc: 0.925567; source test acc: 0.940100; target train acc: 0.746632; target test acc: 0.700547\n"
     ]
    },
    {
     "name": "stderr",
     "output_type": "stream",
     "text": [
      "100%|██████████| 150/150 [00:09<00:00, 16.53it/s]\n",
      "100%|██████████| 184/184 [00:14<00:00, 12.62it/s]\n",
      "100%|██████████| 334/334 [00:24<00:00, 13.56it/s]\n"
     ]
    },
    {
     "name": "stdout",
     "output_type": "stream",
     "text": [
      "Epochs 23: source train acc: 0.927417; source test acc: 0.948000; target train acc: 0.745990; target test acc: 0.598728\n",
      "Epochs 23: source train acc: 0.927417; source test acc: 0.948000; target train acc: 0.745990; target test acc: 0.598728\n",
      "Epochs 23: source train acc: 0.927417; source test acc: 0.948000; target train acc: 0.745990; target test acc: 0.598728\n",
      "Epochs 23: source train acc: 0.927417; source test acc: 0.948000; target train acc: 0.745990; target test acc: 0.598728\n",
      "Epochs 23: source train acc: 0.927417; source test acc: 0.948000; target train acc: 0.745990; target test acc: 0.598728\n",
      "Epochs 23: source train acc: 0.927417; source test acc: 0.948000; target train acc: 0.745990; target test acc: 0.598728\n"
     ]
    },
    {
     "name": "stderr",
     "output_type": "stream",
     "text": [
      "100%|██████████| 150/150 [00:09<00:00, 16.37it/s]\n",
      "100%|██████████| 184/184 [00:14<00:00, 12.57it/s]\n",
      "100%|██████████| 334/334 [00:25<00:00, 13.28it/s]\n"
     ]
    },
    {
     "name": "stdout",
     "output_type": "stream",
     "text": [
      "Epochs 24: source train acc: 0.925967; source test acc: 0.947500; target train acc: 0.742523; target test acc: 0.799255\n",
      "Epochs 24: source train acc: 0.925967; source test acc: 0.947500; target train acc: 0.742523; target test acc: 0.799255\n",
      "Epochs 24: source train acc: 0.925967; source test acc: 0.947500; target train acc: 0.742523; target test acc: 0.799255\n",
      "Epochs 24: source train acc: 0.925967; source test acc: 0.947500; target train acc: 0.742523; target test acc: 0.799255\n",
      "Epochs 24: source train acc: 0.925967; source test acc: 0.947500; target train acc: 0.742523; target test acc: 0.799255\n",
      "Epochs 24: source train acc: 0.925967; source test acc: 0.947500; target train acc: 0.742523; target test acc: 0.799255\n"
     ]
    },
    {
     "name": "stderr",
     "output_type": "stream",
     "text": [
      "100%|██████████| 150/150 [00:10<00:00, 14.88it/s]\n",
      "100%|██████████| 184/184 [00:15<00:00, 11.50it/s]\n",
      "100%|██████████| 334/334 [00:26<00:00, 12.55it/s]\n"
     ]
    },
    {
     "name": "stdout",
     "output_type": "stream",
     "text": [
      "Epochs 25: source train acc: 0.926750; source test acc: 0.940800; target train acc: 0.748311; target test acc: 0.689163\n",
      "Epochs 25: source train acc: 0.926750; source test acc: 0.940800; target train acc: 0.748311; target test acc: 0.689163\n",
      "Epochs 25: source train acc: 0.926750; source test acc: 0.940800; target train acc: 0.748311; target test acc: 0.689163\n",
      "Epochs 25: source train acc: 0.926750; source test acc: 0.940800; target train acc: 0.748311; target test acc: 0.689163\n",
      "Epochs 25: source train acc: 0.926750; source test acc: 0.940800; target train acc: 0.748311; target test acc: 0.689163\n",
      "Epochs 25: source train acc: 0.926750; source test acc: 0.940800; target train acc: 0.748311; target test acc: 0.689163\n"
     ]
    },
    {
     "name": "stderr",
     "output_type": "stream",
     "text": [
      "100%|██████████| 150/150 [00:10<00:00, 14.55it/s]\n",
      "100%|██████████| 184/184 [00:15<00:00, 11.61it/s]\n",
      "100%|██████████| 334/334 [00:26<00:00, 12.38it/s]\n"
     ]
    },
    {
     "name": "stdout",
     "output_type": "stream",
     "text": [
      "Epochs 26: source train acc: 0.929067; source test acc: 0.958500; target train acc: 0.751641; target test acc: 0.798463\n",
      "Epochs 26: source train acc: 0.929067; source test acc: 0.958500; target train acc: 0.751641; target test acc: 0.798463\n",
      "Epochs 26: source train acc: 0.929067; source test acc: 0.958500; target train acc: 0.751641; target test acc: 0.798463\n",
      "Epochs 26: source train acc: 0.929067; source test acc: 0.958500; target train acc: 0.751641; target test acc: 0.798463\n",
      "Epochs 26: source train acc: 0.929067; source test acc: 0.958500; target train acc: 0.751641; target test acc: 0.798463\n",
      "Epochs 26: source train acc: 0.929067; source test acc: 0.958500; target train acc: 0.751641; target test acc: 0.798463\n"
     ]
    },
    {
     "name": "stderr",
     "output_type": "stream",
     "text": [
      "100%|██████████| 150/150 [00:10<00:00, 14.93it/s]\n",
      "100%|██████████| 184/184 [00:15<00:00, 11.56it/s]\n",
      "100%|██████████| 334/334 [00:26<00:00, 12.55it/s]\n"
     ]
    },
    {
     "name": "stdout",
     "output_type": "stream",
     "text": [
      "Epochs 27: source train acc: 0.929317; source test acc: 0.930900; target train acc: 0.749266; target test acc: 0.813533\n",
      "Epochs 27: source train acc: 0.929317; source test acc: 0.930900; target train acc: 0.749266; target test acc: 0.813533\n",
      "Epochs 27: source train acc: 0.929317; source test acc: 0.930900; target train acc: 0.749266; target test acc: 0.813533\n",
      "Epochs 27: source train acc: 0.929317; source test acc: 0.930900; target train acc: 0.749266; target test acc: 0.813533\n",
      "Epochs 27: source train acc: 0.929317; source test acc: 0.930900; target train acc: 0.749266; target test acc: 0.813533\n",
      "Epochs 27: source train acc: 0.929317; source test acc: 0.930900; target train acc: 0.749266; target test acc: 0.813533\n"
     ]
    },
    {
     "name": "stderr",
     "output_type": "stream",
     "text": [
      "100%|██████████| 150/150 [00:10<00:00, 14.87it/s]\n",
      "100%|██████████| 184/184 [00:15<00:00, 11.59it/s]\n",
      "100%|██████████| 334/334 [00:26<00:00, 12.61it/s]\n"
     ]
    },
    {
     "name": "stdout",
     "output_type": "stream",
     "text": [
      "Epochs 28: source train acc: 0.928800; source test acc: 0.955000; target train acc: 0.750358; target test acc: 0.715945\n",
      "Epochs 28: source train acc: 0.928800; source test acc: 0.955000; target train acc: 0.750358; target test acc: 0.715945\n",
      "Epochs 28: source train acc: 0.928800; source test acc: 0.955000; target train acc: 0.750358; target test acc: 0.715945\n",
      "Epochs 28: source train acc: 0.928800; source test acc: 0.955000; target train acc: 0.750358; target test acc: 0.715945\n",
      "Epochs 28: source train acc: 0.928800; source test acc: 0.955000; target train acc: 0.750358; target test acc: 0.715945\n",
      "Epochs 28: source train acc: 0.928800; source test acc: 0.955000; target train acc: 0.750358; target test acc: 0.715945\n"
     ]
    },
    {
     "name": "stderr",
     "output_type": "stream",
     "text": [
      "100%|██████████| 150/150 [00:10<00:00, 14.85it/s]\n",
      "100%|██████████| 184/184 [00:15<00:00, 11.72it/s]\n",
      "100%|██████████| 334/334 [00:26<00:00, 12.47it/s]\n"
     ]
    },
    {
     "name": "stdout",
     "output_type": "stream",
     "text": [
      "Epochs 29: source train acc: 0.929267; source test acc: 0.960600; target train acc: 0.754030; target test acc: 0.766985\n",
      "Epochs 29: source train acc: 0.929267; source test acc: 0.960600; target train acc: 0.754030; target test acc: 0.766985\n",
      "Epochs 29: source train acc: 0.929267; source test acc: 0.960600; target train acc: 0.754030; target test acc: 0.766985\n",
      "Epochs 29: source train acc: 0.929267; source test acc: 0.960600; target train acc: 0.754030; target test acc: 0.766985\n",
      "Epochs 29: source train acc: 0.929267; source test acc: 0.960600; target train acc: 0.754030; target test acc: 0.766985\n",
      "Epochs 29: source train acc: 0.929267; source test acc: 0.960600; target train acc: 0.754030; target test acc: 0.766985\n"
     ]
    },
    {
     "name": "stderr",
     "output_type": "stream",
     "text": [
      "100%|██████████| 150/150 [00:09<00:00, 15.12it/s]\n",
      "100%|██████████| 184/184 [00:15<00:00, 11.53it/s]\n",
      "100%|██████████| 334/334 [00:26<00:00, 12.60it/s]\n"
     ]
    },
    {
     "name": "stdout",
     "output_type": "stream",
     "text": [
      "Epochs 30: source train acc: 0.927733; source test acc: 0.962700; target train acc: 0.751641; target test acc: 0.800265\n",
      "Epochs 30: source train acc: 0.927733; source test acc: 0.962700; target train acc: 0.751641; target test acc: 0.800265\n",
      "Epochs 30: source train acc: 0.927733; source test acc: 0.962700; target train acc: 0.751641; target test acc: 0.800265\n",
      "Epochs 30: source train acc: 0.927733; source test acc: 0.962700; target train acc: 0.751641; target test acc: 0.800265\n",
      "Epochs 30: source train acc: 0.927733; source test acc: 0.962700; target train acc: 0.751641; target test acc: 0.800265\n",
      "Epochs 30: source train acc: 0.927733; source test acc: 0.962700; target train acc: 0.751641; target test acc: 0.800265\n"
     ]
    },
    {
     "name": "stderr",
     "output_type": "stream",
     "text": [
      "100%|██████████| 150/150 [00:10<00:00, 14.81it/s]\n",
      "100%|██████████| 184/184 [00:16<00:00, 11.40it/s]\n",
      "100%|██████████| 334/334 [00:26<00:00, 12.45it/s]\n"
     ]
    },
    {
     "name": "stdout",
     "output_type": "stream",
     "text": [
      "Epochs 31: source train acc: 0.930217; source test acc: 0.959100; target train acc: 0.753730; target test acc: 0.825477\n",
      "Epochs 31: source train acc: 0.930217; source test acc: 0.959100; target train acc: 0.753730; target test acc: 0.825477\n",
      "Epochs 31: source train acc: 0.930217; source test acc: 0.959100; target train acc: 0.753730; target test acc: 0.825477\n",
      "Epochs 31: source train acc: 0.930217; source test acc: 0.959100; target train acc: 0.753730; target test acc: 0.825477\n",
      "Epochs 31: source train acc: 0.930217; source test acc: 0.959100; target train acc: 0.753730; target test acc: 0.825477\n",
      "Epochs 31: source train acc: 0.930217; source test acc: 0.959100; target train acc: 0.753730; target test acc: 0.825477\n"
     ]
    },
    {
     "name": "stderr",
     "output_type": "stream",
     "text": [
      "100%|██████████| 150/150 [00:10<00:00, 14.74it/s]\n",
      "100%|██████████| 184/184 [00:15<00:00, 11.67it/s]\n",
      "100%|██████████| 334/334 [00:26<00:00, 12.41it/s]\n"
     ]
    },
    {
     "name": "stdout",
     "output_type": "stream",
     "text": [
      "Epochs 32: source train acc: 0.930033; source test acc: 0.944500; target train acc: 0.753512; target test acc: 0.783611\n",
      "Epochs 32: source train acc: 0.930033; source test acc: 0.944500; target train acc: 0.753512; target test acc: 0.783611\n",
      "Epochs 32: source train acc: 0.930033; source test acc: 0.944500; target train acc: 0.753512; target test acc: 0.783611\n",
      "Epochs 32: source train acc: 0.930033; source test acc: 0.944500; target train acc: 0.753512; target test acc: 0.783611\n",
      "Epochs 32: source train acc: 0.930033; source test acc: 0.944500; target train acc: 0.753512; target test acc: 0.783611\n",
      "Epochs 32: source train acc: 0.930033; source test acc: 0.944500; target train acc: 0.753512; target test acc: 0.783611\n"
     ]
    },
    {
     "name": "stderr",
     "output_type": "stream",
     "text": [
      "100%|██████████| 150/150 [00:09<00:00, 15.11it/s]\n",
      "100%|██████████| 184/184 [00:15<00:00, 11.52it/s]\n",
      "100%|██████████| 334/334 [00:26<00:00, 12.53it/s]\n"
     ]
    },
    {
     "name": "stdout",
     "output_type": "stream",
     "text": [
      "Epochs 33: source train acc: 0.931067; source test acc: 0.953400; target train acc: 0.755805; target test acc: 0.727849\n",
      "Epochs 33: source train acc: 0.931067; source test acc: 0.953400; target train acc: 0.755805; target test acc: 0.727849\n",
      "Epochs 33: source train acc: 0.931067; source test acc: 0.953400; target train acc: 0.755805; target test acc: 0.727849\n",
      "Epochs 33: source train acc: 0.931067; source test acc: 0.953400; target train acc: 0.755805; target test acc: 0.727849\n",
      "Epochs 33: source train acc: 0.931067; source test acc: 0.953400; target train acc: 0.755805; target test acc: 0.727849\n",
      "Epochs 33: source train acc: 0.931067; source test acc: 0.953400; target train acc: 0.755805; target test acc: 0.727849\n"
     ]
    },
    {
     "name": "stderr",
     "output_type": "stream",
     "text": [
      "100%|██████████| 150/150 [00:10<00:00, 14.54it/s]\n",
      "100%|██████████| 184/184 [00:16<00:00, 11.40it/s]\n",
      "100%|██████████| 334/334 [00:26<00:00, 12.49it/s]\n"
     ]
    },
    {
     "name": "stdout",
     "output_type": "stream",
     "text": [
      "Epochs 34: source train acc: 0.929933; source test acc: 0.957600; target train acc: 0.755969; target test acc: 0.808824\n",
      "Epochs 34: source train acc: 0.929933; source test acc: 0.957600; target train acc: 0.755969; target test acc: 0.808824\n",
      "Epochs 34: source train acc: 0.929933; source test acc: 0.957600; target train acc: 0.755969; target test acc: 0.808824\n",
      "Epochs 34: source train acc: 0.929933; source test acc: 0.957600; target train acc: 0.755969; target test acc: 0.808824\n",
      "Epochs 34: source train acc: 0.929933; source test acc: 0.957600; target train acc: 0.755969; target test acc: 0.808824\n",
      "Epochs 34: source train acc: 0.929933; source test acc: 0.957600; target train acc: 0.755969; target test acc: 0.808824\n"
     ]
    },
    {
     "name": "stderr",
     "output_type": "stream",
     "text": [
      "100%|██████████| 150/150 [00:10<00:00, 14.57it/s]\n",
      "100%|██████████| 184/184 [00:15<00:00, 11.57it/s]\n",
      "100%|██████████| 334/334 [00:26<00:00, 12.53it/s]\n"
     ]
    },
    {
     "name": "stdout",
     "output_type": "stream",
     "text": [
      "Epochs 35: source train acc: 0.931850; source test acc: 0.952800; target train acc: 0.758426; target test acc: 0.689313\n",
      "Epochs 35: source train acc: 0.931850; source test acc: 0.952800; target train acc: 0.758426; target test acc: 0.689313\n",
      "Epochs 35: source train acc: 0.931850; source test acc: 0.952800; target train acc: 0.758426; target test acc: 0.689313\n",
      "Epochs 35: source train acc: 0.931850; source test acc: 0.952800; target train acc: 0.758426; target test acc: 0.689313\n",
      "Epochs 35: source train acc: 0.931850; source test acc: 0.952800; target train acc: 0.758426; target test acc: 0.689313\n",
      "Epochs 35: source train acc: 0.931850; source test acc: 0.952800; target train acc: 0.758426; target test acc: 0.689313\n"
     ]
    },
    {
     "name": "stderr",
     "output_type": "stream",
     "text": [
      "100%|██████████| 150/150 [00:09<00:00, 15.05it/s]\n",
      "100%|██████████| 184/184 [00:16<00:00, 11.49it/s]\n",
      "100%|██████████| 334/334 [00:26<00:00, 12.45it/s]\n"
     ]
    },
    {
     "name": "stdout",
     "output_type": "stream",
     "text": [
      "Epochs 36: source train acc: 0.931950; source test acc: 0.958100; target train acc: 0.755245; target test acc: 0.790232\n",
      "Epochs 36: source train acc: 0.931950; source test acc: 0.958100; target train acc: 0.755245; target test acc: 0.790232\n",
      "Epochs 36: source train acc: 0.931950; source test acc: 0.958100; target train acc: 0.755245; target test acc: 0.790232\n",
      "Epochs 36: source train acc: 0.931950; source test acc: 0.958100; target train acc: 0.755245; target test acc: 0.790232\n",
      "Epochs 36: source train acc: 0.931950; source test acc: 0.958100; target train acc: 0.755245; target test acc: 0.790232\n",
      "Epochs 36: source train acc: 0.931950; source test acc: 0.958100; target train acc: 0.755245; target test acc: 0.790232\n"
     ]
    },
    {
     "name": "stderr",
     "output_type": "stream",
     "text": [
      "100%|██████████| 150/150 [00:10<00:00, 14.75it/s]\n",
      "100%|██████████| 184/184 [00:15<00:00, 11.55it/s]\n",
      "100%|██████████| 334/334 [00:26<00:00, 12.47it/s]\n"
     ]
    },
    {
     "name": "stdout",
     "output_type": "stream",
     "text": [
      "Epochs 37: source train acc: 0.931800; source test acc: 0.961200; target train acc: 0.759067; target test acc: 0.799596\n",
      "Epochs 37: source train acc: 0.931800; source test acc: 0.961200; target train acc: 0.759067; target test acc: 0.799596\n",
      "Epochs 37: source train acc: 0.931800; source test acc: 0.961200; target train acc: 0.759067; target test acc: 0.799596\n",
      "Epochs 37: source train acc: 0.931800; source test acc: 0.961200; target train acc: 0.759067; target test acc: 0.799596\n",
      "Epochs 37: source train acc: 0.931800; source test acc: 0.961200; target train acc: 0.759067; target test acc: 0.799596\n",
      "Epochs 37: source train acc: 0.931800; source test acc: 0.961200; target train acc: 0.759067; target test acc: 0.799596\n"
     ]
    },
    {
     "name": "stderr",
     "output_type": "stream",
     "text": [
      "100%|██████████| 150/150 [00:10<00:00, 14.63it/s]\n",
      "100%|██████████| 184/184 [00:15<00:00, 11.56it/s]\n",
      "100%|██████████| 334/334 [00:26<00:00, 12.45it/s]\n"
     ]
    },
    {
     "name": "stdout",
     "output_type": "stream",
     "text": [
      "Epochs 38: source train acc: 0.932350; source test acc: 0.951600; target train acc: 0.758016; target test acc: 0.823962\n",
      "Epochs 38: source train acc: 0.932350; source test acc: 0.951600; target train acc: 0.758016; target test acc: 0.823962\n",
      "Epochs 38: source train acc: 0.932350; source test acc: 0.951600; target train acc: 0.758016; target test acc: 0.823962\n",
      "Epochs 38: source train acc: 0.932350; source test acc: 0.951600; target train acc: 0.758016; target test acc: 0.823962\n",
      "Epochs 38: source train acc: 0.932350; source test acc: 0.951600; target train acc: 0.758016; target test acc: 0.823962\n",
      "Epochs 38: source train acc: 0.932350; source test acc: 0.951600; target train acc: 0.758016; target test acc: 0.823962\n"
     ]
    },
    {
     "name": "stderr",
     "output_type": "stream",
     "text": [
      "100%|██████████| 150/150 [00:10<00:00, 14.84it/s]\n",
      "100%|██████████| 184/184 [00:16<00:00, 11.49it/s]\n",
      "100%|██████████| 334/334 [00:27<00:00, 12.31it/s]\n"
     ]
    },
    {
     "name": "stdout",
     "output_type": "stream",
     "text": [
      "Epochs 39: source train acc: 0.932550; source test acc: 0.965100; target train acc: 0.758412; target test acc: 0.801207\n",
      "Epochs 39: source train acc: 0.932550; source test acc: 0.965100; target train acc: 0.758412; target test acc: 0.801207\n",
      "Epochs 39: source train acc: 0.932550; source test acc: 0.965100; target train acc: 0.758412; target test acc: 0.801207\n",
      "Epochs 39: source train acc: 0.932550; source test acc: 0.965100; target train acc: 0.758412; target test acc: 0.801207\n",
      "Epochs 39: source train acc: 0.932550; source test acc: 0.965100; target train acc: 0.758412; target test acc: 0.801207\n",
      "Epochs 39: source train acc: 0.932550; source test acc: 0.965100; target train acc: 0.758412; target test acc: 0.801207\n"
     ]
    },
    {
     "name": "stderr",
     "output_type": "stream",
     "text": [
      "100%|██████████| 150/150 [00:10<00:00, 14.73it/s]\n",
      "100%|██████████| 184/184 [00:16<00:00, 11.50it/s]\n",
      "100%|██████████| 334/334 [00:26<00:00, 12.55it/s]\n"
     ]
    },
    {
     "name": "stdout",
     "output_type": "stream",
     "text": [
      "Epochs 40: source train acc: 0.933133; source test acc: 0.959000; target train acc: 0.760132; target test acc: 0.749143\n",
      "Epochs 40: source train acc: 0.933133; source test acc: 0.959000; target train acc: 0.760132; target test acc: 0.749143\n",
      "Epochs 40: source train acc: 0.933133; source test acc: 0.959000; target train acc: 0.760132; target test acc: 0.749143\n",
      "Epochs 40: source train acc: 0.933133; source test acc: 0.959000; target train acc: 0.760132; target test acc: 0.749143\n",
      "Epochs 40: source train acc: 0.933133; source test acc: 0.959000; target train acc: 0.760132; target test acc: 0.749143\n",
      "Epochs 40: source train acc: 0.933133; source test acc: 0.959000; target train acc: 0.760132; target test acc: 0.749143\n"
     ]
    },
    {
     "name": "stderr",
     "output_type": "stream",
     "text": [
      "100%|██████████| 150/150 [00:10<00:00, 14.86it/s]\n",
      "100%|██████████| 184/184 [00:15<00:00, 11.57it/s]\n",
      "100%|██████████| 334/334 [00:26<00:00, 12.55it/s]\n"
     ]
    },
    {
     "name": "stdout",
     "output_type": "stream",
     "text": [
      "Epochs 41: source train acc: 0.932117; source test acc: 0.961500; target train acc: 0.758030; target test acc: 0.735711\n",
      "Epochs 41: source train acc: 0.932117; source test acc: 0.961500; target train acc: 0.758030; target test acc: 0.735711\n",
      "Epochs 41: source train acc: 0.932117; source test acc: 0.961500; target train acc: 0.758030; target test acc: 0.735711\n",
      "Epochs 41: source train acc: 0.932117; source test acc: 0.961500; target train acc: 0.758030; target test acc: 0.735711\n",
      "Epochs 41: source train acc: 0.932117; source test acc: 0.961500; target train acc: 0.758030; target test acc: 0.735711\n",
      "Epochs 41: source train acc: 0.932117; source test acc: 0.961500; target train acc: 0.758030; target test acc: 0.735711\n"
     ]
    },
    {
     "name": "stderr",
     "output_type": "stream",
     "text": [
      "100%|██████████| 150/150 [00:10<00:00, 14.84it/s]\n",
      "100%|██████████| 184/184 [00:15<00:00, 11.59it/s]\n",
      "100%|██████████| 334/334 [00:27<00:00, 12.23it/s]\n"
     ]
    },
    {
     "name": "stdout",
     "output_type": "stream",
     "text": [
      "Epochs 42: source train acc: 0.931967; source test acc: 0.958500; target train acc: 0.757102; target test acc: 0.770356\n",
      "Epochs 42: source train acc: 0.931967; source test acc: 0.958500; target train acc: 0.757102; target test acc: 0.770356\n",
      "Epochs 42: source train acc: 0.931967; source test acc: 0.958500; target train acc: 0.757102; target test acc: 0.770356\n",
      "Epochs 42: source train acc: 0.931967; source test acc: 0.958500; target train acc: 0.757102; target test acc: 0.770356\n",
      "Epochs 42: source train acc: 0.931967; source test acc: 0.958500; target train acc: 0.757102; target test acc: 0.770356\n",
      "Epochs 42: source train acc: 0.931967; source test acc: 0.958500; target train acc: 0.757102; target test acc: 0.770356\n"
     ]
    },
    {
     "name": "stderr",
     "output_type": "stream",
     "text": [
      "100%|██████████| 150/150 [00:10<00:00, 14.81it/s]\n",
      "100%|██████████| 184/184 [00:16<00:00, 11.50it/s]\n",
      "100%|██████████| 334/334 [00:26<00:00, 12.51it/s]\n"
     ]
    },
    {
     "name": "stdout",
     "output_type": "stream",
     "text": [
      "Epochs 43: source train acc: 0.933150; source test acc: 0.965100; target train acc: 0.761019; target test acc: 0.828549\n",
      "Epochs 43: source train acc: 0.933150; source test acc: 0.965100; target train acc: 0.761019; target test acc: 0.828549\n",
      "Epochs 43: source train acc: 0.933150; source test acc: 0.965100; target train acc: 0.761019; target test acc: 0.828549\n",
      "Epochs 43: source train acc: 0.933150; source test acc: 0.965100; target train acc: 0.761019; target test acc: 0.828549\n",
      "Epochs 43: source train acc: 0.933150; source test acc: 0.965100; target train acc: 0.761019; target test acc: 0.828549\n",
      "Epochs 43: source train acc: 0.933150; source test acc: 0.965100; target train acc: 0.761019; target test acc: 0.828549\n"
     ]
    },
    {
     "name": "stderr",
     "output_type": "stream",
     "text": [
      "100%|██████████| 150/150 [00:10<00:00, 14.78it/s]\n",
      "100%|██████████| 184/184 [00:15<00:00, 11.50it/s]\n",
      "100%|██████████| 334/334 [00:26<00:00, 12.46it/s]\n"
     ]
    },
    {
     "name": "stdout",
     "output_type": "stream",
     "text": [
      "Epochs 44: source train acc: 0.933683; source test acc: 0.951800; target train acc: 0.762903; target test acc: 0.813028\n",
      "Epochs 44: source train acc: 0.933683; source test acc: 0.951800; target train acc: 0.762903; target test acc: 0.813028\n",
      "Epochs 44: source train acc: 0.933683; source test acc: 0.951800; target train acc: 0.762903; target test acc: 0.813028\n",
      "Epochs 44: source train acc: 0.933683; source test acc: 0.951800; target train acc: 0.762903; target test acc: 0.813028\n",
      "Epochs 44: source train acc: 0.933683; source test acc: 0.951800; target train acc: 0.762903; target test acc: 0.813028\n",
      "Epochs 44: source train acc: 0.933683; source test acc: 0.951800; target train acc: 0.762903; target test acc: 0.813028\n"
     ]
    },
    {
     "name": "stderr",
     "output_type": "stream",
     "text": [
      "100%|██████████| 150/150 [00:10<00:00, 14.72it/s]\n",
      "100%|██████████| 184/184 [00:15<00:00, 11.50it/s]\n",
      "100%|██████████| 334/334 [00:27<00:00, 12.36it/s]\n"
     ]
    },
    {
     "name": "stdout",
     "output_type": "stream",
     "text": [
      "Epochs 45: source train acc: 0.932767; source test acc: 0.966000; target train acc: 0.761934; target test acc: 0.785399\n",
      "Epochs 45: source train acc: 0.932767; source test acc: 0.966000; target train acc: 0.761934; target test acc: 0.785399\n",
      "Epochs 45: source train acc: 0.932767; source test acc: 0.966000; target train acc: 0.761934; target test acc: 0.785399\n",
      "Epochs 45: source train acc: 0.932767; source test acc: 0.966000; target train acc: 0.761934; target test acc: 0.785399\n",
      "Epochs 45: source train acc: 0.932767; source test acc: 0.966000; target train acc: 0.761934; target test acc: 0.785399\n",
      "Epochs 45: source train acc: 0.932767; source test acc: 0.966000; target train acc: 0.761934; target test acc: 0.785399\n"
     ]
    },
    {
     "name": "stderr",
     "output_type": "stream",
     "text": [
      "100%|██████████| 150/150 [00:10<00:00, 14.80it/s]\n",
      "100%|██████████| 184/184 [00:16<00:00, 11.38it/s]\n",
      "100%|██████████| 334/334 [00:26<00:00, 12.43it/s]\n"
     ]
    },
    {
     "name": "stdout",
     "output_type": "stream",
     "text": [
      "Epochs 46: source train acc: 0.934133; source test acc: 0.965200; target train acc: 0.762139; target test acc: 0.794955\n",
      "Epochs 46: source train acc: 0.934133; source test acc: 0.965200; target train acc: 0.762139; target test acc: 0.794955\n",
      "Epochs 46: source train acc: 0.934133; source test acc: 0.965200; target train acc: 0.762139; target test acc: 0.794955\n",
      "Epochs 46: source train acc: 0.934133; source test acc: 0.965200; target train acc: 0.762139; target test acc: 0.794955\n",
      "Epochs 46: source train acc: 0.934133; source test acc: 0.965200; target train acc: 0.762139; target test acc: 0.794955\n",
      "Epochs 46: source train acc: 0.934133; source test acc: 0.965200; target train acc: 0.762139; target test acc: 0.794955\n"
     ]
    },
    {
     "name": "stderr",
     "output_type": "stream",
     "text": [
      "100%|██████████| 150/150 [00:10<00:00, 14.80it/s]\n",
      "100%|██████████| 184/184 [00:16<00:00, 11.44it/s]\n",
      "100%|██████████| 334/334 [00:27<00:00, 12.35it/s]\n"
     ]
    },
    {
     "name": "stdout",
     "output_type": "stream",
     "text": [
      "Epochs 47: source train acc: 0.933083; source test acc: 0.966800; target train acc: 0.762152; target test acc: 0.785836\n",
      "Epochs 47: source train acc: 0.933083; source test acc: 0.966800; target train acc: 0.762152; target test acc: 0.785836\n",
      "Epochs 47: source train acc: 0.933083; source test acc: 0.966800; target train acc: 0.762152; target test acc: 0.785836\n",
      "Epochs 47: source train acc: 0.933083; source test acc: 0.966800; target train acc: 0.762152; target test acc: 0.785836\n",
      "Epochs 47: source train acc: 0.933083; source test acc: 0.966800; target train acc: 0.762152; target test acc: 0.785836\n",
      "Epochs 47: source train acc: 0.933083; source test acc: 0.966800; target train acc: 0.762152; target test acc: 0.785836\n"
     ]
    },
    {
     "name": "stderr",
     "output_type": "stream",
     "text": [
      "100%|██████████| 150/150 [00:10<00:00, 14.63it/s]\n",
      "100%|██████████| 184/184 [00:15<00:00, 11.50it/s]\n",
      "100%|██████████| 334/334 [00:26<00:00, 12.43it/s]\n"
     ]
    },
    {
     "name": "stdout",
     "output_type": "stream",
     "text": [
      "Epochs 48: source train acc: 0.933650; source test acc: 0.959700; target train acc: 0.763040; target test acc: 0.807977\n",
      "Epochs 48: source train acc: 0.933650; source test acc: 0.959700; target train acc: 0.763040; target test acc: 0.807977\n",
      "Epochs 48: source train acc: 0.933650; source test acc: 0.959700; target train acc: 0.763040; target test acc: 0.807977\n",
      "Epochs 48: source train acc: 0.933650; source test acc: 0.959700; target train acc: 0.763040; target test acc: 0.807977\n",
      "Epochs 48: source train acc: 0.933650; source test acc: 0.959700; target train acc: 0.763040; target test acc: 0.807977\n",
      "Epochs 48: source train acc: 0.933650; source test acc: 0.959700; target train acc: 0.763040; target test acc: 0.807977\n"
     ]
    },
    {
     "name": "stderr",
     "output_type": "stream",
     "text": [
      "100%|██████████| 150/150 [00:10<00:00, 14.79it/s]\n",
      "100%|██████████| 184/184 [00:16<00:00, 11.40it/s]\n",
      "100%|██████████| 334/334 [00:26<00:00, 12.42it/s]\n"
     ]
    },
    {
     "name": "stdout",
     "output_type": "stream",
     "text": [
      "Epochs 49: source train acc: 0.935117; source test acc: 0.965500; target train acc: 0.763599; target test acc: 0.820645\n",
      "Epochs 49: source train acc: 0.935117; source test acc: 0.965500; target train acc: 0.763599; target test acc: 0.820645\n",
      "Epochs 49: source train acc: 0.935117; source test acc: 0.965500; target train acc: 0.763599; target test acc: 0.820645\n",
      "Epochs 49: source train acc: 0.935117; source test acc: 0.965500; target train acc: 0.763599; target test acc: 0.820645\n",
      "Epochs 49: source train acc: 0.935117; source test acc: 0.965500; target train acc: 0.763599; target test acc: 0.820645\n",
      "Epochs 49: source train acc: 0.935117; source test acc: 0.965500; target train acc: 0.763599; target test acc: 0.820645\n"
     ]
    },
    {
     "name": "stderr",
     "output_type": "stream",
     "text": [
      "100%|██████████| 150/150 [00:10<00:00, 14.98it/s]\n",
      "100%|██████████| 184/184 [00:16<00:00, 11.38it/s]\n",
      "100%|██████████| 334/334 [00:27<00:00, 12.36it/s]\n"
     ]
    },
    {
     "name": "stdout",
     "output_type": "stream",
     "text": [
      "Epochs 50: source train acc: 0.933100; source test acc: 0.967900; target train acc: 0.762384; target test acc: 0.766575\n",
      "Epochs 50: source train acc: 0.933100; source test acc: 0.967900; target train acc: 0.762384; target test acc: 0.766575\n",
      "Epochs 50: source train acc: 0.933100; source test acc: 0.967900; target train acc: 0.762384; target test acc: 0.766575\n",
      "Epochs 50: source train acc: 0.933100; source test acc: 0.967900; target train acc: 0.762384; target test acc: 0.766575\n",
      "Epochs 50: source train acc: 0.933100; source test acc: 0.967900; target train acc: 0.762384; target test acc: 0.766575\n",
      "Epochs 50: source train acc: 0.933100; source test acc: 0.967900; target train acc: 0.762384; target test acc: 0.766575\n"
     ]
    },
    {
     "name": "stderr",
     "output_type": "stream",
     "text": [
      "100%|██████████| 150/150 [00:10<00:00, 14.63it/s]\n",
      "100%|██████████| 184/184 [00:16<00:00, 11.34it/s]\n",
      "100%|██████████| 334/334 [00:26<00:00, 12.39it/s]\n"
     ]
    },
    {
     "name": "stdout",
     "output_type": "stream",
     "text": [
      "Epochs 51: source train acc: 0.934983; source test acc: 0.961000; target train acc: 0.762767; target test acc: 0.758931\n",
      "Epochs 51: source train acc: 0.934983; source test acc: 0.961000; target train acc: 0.762767; target test acc: 0.758931\n",
      "Epochs 51: source train acc: 0.934983; source test acc: 0.961000; target train acc: 0.762767; target test acc: 0.758931\n",
      "Epochs 51: source train acc: 0.934983; source test acc: 0.961000; target train acc: 0.762767; target test acc: 0.758931\n",
      "Epochs 51: source train acc: 0.934983; source test acc: 0.961000; target train acc: 0.762767; target test acc: 0.758931\n",
      "Epochs 51: source train acc: 0.934983; source test acc: 0.961000; target train acc: 0.762767; target test acc: 0.758931\n"
     ]
    },
    {
     "name": "stderr",
     "output_type": "stream",
     "text": [
      "100%|██████████| 150/150 [00:10<00:00, 14.64it/s]\n",
      "100%|██████████| 184/184 [00:16<00:00, 11.45it/s]\n",
      "100%|██████████| 334/334 [00:26<00:00, 12.41it/s]\n"
     ]
    },
    {
     "name": "stdout",
     "output_type": "stream",
     "text": [
      "Epochs 52: source train acc: 0.934067; source test acc: 0.966200; target train acc: 0.763367; target test acc: 0.836534\n",
      "Epochs 52: source train acc: 0.934067; source test acc: 0.966200; target train acc: 0.763367; target test acc: 0.836534\n",
      "Epochs 52: source train acc: 0.934067; source test acc: 0.966200; target train acc: 0.763367; target test acc: 0.836534\n",
      "Epochs 52: source train acc: 0.934067; source test acc: 0.966200; target train acc: 0.763367; target test acc: 0.836534\n",
      "Epochs 52: source train acc: 0.934067; source test acc: 0.966200; target train acc: 0.763367; target test acc: 0.836534\n",
      "Epochs 52: source train acc: 0.934067; source test acc: 0.966200; target train acc: 0.763367; target test acc: 0.836534\n"
     ]
    },
    {
     "name": "stderr",
     "output_type": "stream",
     "text": [
      "100%|██████████| 150/150 [00:10<00:00, 14.75it/s]\n",
      "100%|██████████| 184/184 [00:15<00:00, 11.50it/s]\n",
      "100%|██████████| 334/334 [00:26<00:00, 12.51it/s]\n"
     ]
    },
    {
     "name": "stdout",
     "output_type": "stream",
     "text": [
      "Epochs 53: source train acc: 0.933333; source test acc: 0.960600; target train acc: 0.764951; target test acc: 0.768445\n",
      "Epochs 53: source train acc: 0.933333; source test acc: 0.960600; target train acc: 0.764951; target test acc: 0.768445\n",
      "Epochs 53: source train acc: 0.933333; source test acc: 0.960600; target train acc: 0.764951; target test acc: 0.768445\n",
      "Epochs 53: source train acc: 0.933333; source test acc: 0.960600; target train acc: 0.764951; target test acc: 0.768445\n",
      "Epochs 53: source train acc: 0.933333; source test acc: 0.960600; target train acc: 0.764951; target test acc: 0.768445\n",
      "Epochs 53: source train acc: 0.933333; source test acc: 0.960600; target train acc: 0.764951; target test acc: 0.768445\n"
     ]
    },
    {
     "name": "stderr",
     "output_type": "stream",
     "text": [
      "100%|██████████| 150/150 [00:10<00:00, 14.78it/s]\n",
      "100%|██████████| 184/184 [00:16<00:00, 11.37it/s]\n",
      "100%|██████████| 334/334 [00:26<00:00, 12.47it/s]\n"
     ]
    },
    {
     "name": "stdout",
     "output_type": "stream",
     "text": [
      "Epochs 54: source train acc: 0.934817; source test acc: 0.966400; target train acc: 0.763176; target test acc: 0.785085\n",
      "Epochs 54: source train acc: 0.934817; source test acc: 0.966400; target train acc: 0.763176; target test acc: 0.785085\n",
      "Epochs 54: source train acc: 0.934817; source test acc: 0.966400; target train acc: 0.763176; target test acc: 0.785085\n",
      "Epochs 54: source train acc: 0.934817; source test acc: 0.966400; target train acc: 0.763176; target test acc: 0.785085\n",
      "Epochs 54: source train acc: 0.934817; source test acc: 0.966400; target train acc: 0.763176; target test acc: 0.785085\n",
      "Epochs 54: source train acc: 0.934817; source test acc: 0.966400; target train acc: 0.763176; target test acc: 0.785085\n"
     ]
    },
    {
     "name": "stderr",
     "output_type": "stream",
     "text": [
      "100%|██████████| 150/150 [00:10<00:00, 14.62it/s]\n",
      "100%|██████████| 184/184 [00:15<00:00, 11.54it/s]\n",
      "100%|██████████| 334/334 [00:26<00:00, 12.39it/s]\n"
     ]
    },
    {
     "name": "stdout",
     "output_type": "stream",
     "text": [
      "Epochs 55: source train acc: 0.933017; source test acc: 0.966200; target train acc: 0.763818; target test acc: 0.772145\n",
      "Epochs 55: source train acc: 0.933017; source test acc: 0.966200; target train acc: 0.763818; target test acc: 0.772145\n",
      "Epochs 55: source train acc: 0.933017; source test acc: 0.966200; target train acc: 0.763818; target test acc: 0.772145\n",
      "Epochs 55: source train acc: 0.933017; source test acc: 0.966200; target train acc: 0.763818; target test acc: 0.772145\n",
      "Epochs 55: source train acc: 0.933017; source test acc: 0.966200; target train acc: 0.763818; target test acc: 0.772145\n",
      "Epochs 55: source train acc: 0.933017; source test acc: 0.966200; target train acc: 0.763818; target test acc: 0.772145\n"
     ]
    },
    {
     "name": "stderr",
     "output_type": "stream",
     "text": [
      "100%|██████████| 150/150 [00:10<00:00, 14.88it/s]\n",
      "100%|██████████| 184/184 [00:16<00:00, 11.48it/s]\n",
      "100%|██████████| 334/334 [00:27<00:00, 12.33it/s]\n"
     ]
    },
    {
     "name": "stdout",
     "output_type": "stream",
     "text": [
      "Epochs 56: source train acc: 0.935683; source test acc: 0.964600; target train acc: 0.763558; target test acc: 0.816782\n",
      "Epochs 56: source train acc: 0.935683; source test acc: 0.964600; target train acc: 0.763558; target test acc: 0.816782\n",
      "Epochs 56: source train acc: 0.935683; source test acc: 0.964600; target train acc: 0.763558; target test acc: 0.816782\n",
      "Epochs 56: source train acc: 0.935683; source test acc: 0.964600; target train acc: 0.763558; target test acc: 0.816782\n",
      "Epochs 56: source train acc: 0.935683; source test acc: 0.964600; target train acc: 0.763558; target test acc: 0.816782\n",
      "Epochs 56: source train acc: 0.935683; source test acc: 0.964600; target train acc: 0.763558; target test acc: 0.816782\n"
     ]
    },
    {
     "name": "stderr",
     "output_type": "stream",
     "text": [
      "100%|██████████| 150/150 [00:10<00:00, 14.83it/s]\n",
      "100%|██████████| 184/184 [00:16<00:00, 11.38it/s]\n",
      "100%|██████████| 334/334 [00:26<00:00, 12.41it/s]\n"
     ]
    },
    {
     "name": "stdout",
     "output_type": "stream",
     "text": [
      "Epochs 57: source train acc: 0.936667; source test acc: 0.965600; target train acc: 0.766179; target test acc: 0.814339\n",
      "Epochs 57: source train acc: 0.936667; source test acc: 0.965600; target train acc: 0.766179; target test acc: 0.814339\n",
      "Epochs 57: source train acc: 0.936667; source test acc: 0.965600; target train acc: 0.766179; target test acc: 0.814339\n",
      "Epochs 57: source train acc: 0.936667; source test acc: 0.965600; target train acc: 0.766179; target test acc: 0.814339\n",
      "Epochs 57: source train acc: 0.936667; source test acc: 0.965600; target train acc: 0.766179; target test acc: 0.814339\n",
      "Epochs 57: source train acc: 0.936667; source test acc: 0.965600; target train acc: 0.766179; target test acc: 0.814339\n"
     ]
    },
    {
     "name": "stderr",
     "output_type": "stream",
     "text": [
      "100%|██████████| 150/150 [00:10<00:00, 14.58it/s]\n",
      "100%|██████████| 184/184 [00:16<00:00, 11.49it/s]\n",
      "100%|██████████| 334/334 [00:26<00:00, 12.47it/s]\n"
     ]
    },
    {
     "name": "stdout",
     "output_type": "stream",
     "text": [
      "Epochs 58: source train acc: 0.933683; source test acc: 0.968000; target train acc: 0.764104; target test acc: 0.760214\n",
      "Epochs 58: source train acc: 0.933683; source test acc: 0.968000; target train acc: 0.764104; target test acc: 0.760214\n",
      "Epochs 58: source train acc: 0.933683; source test acc: 0.968000; target train acc: 0.764104; target test acc: 0.760214\n",
      "Epochs 58: source train acc: 0.933683; source test acc: 0.968000; target train acc: 0.764104; target test acc: 0.760214\n",
      "Epochs 58: source train acc: 0.933683; source test acc: 0.968000; target train acc: 0.764104; target test acc: 0.760214\n",
      "Epochs 58: source train acc: 0.933683; source test acc: 0.968000; target train acc: 0.764104; target test acc: 0.760214\n"
     ]
    },
    {
     "name": "stderr",
     "output_type": "stream",
     "text": [
      "100%|██████████| 150/150 [00:10<00:00, 14.81it/s]\n",
      "100%|██████████| 184/184 [00:16<00:00, 11.42it/s]\n",
      "100%|██████████| 334/334 [00:27<00:00, 12.36it/s]\n"
     ]
    },
    {
     "name": "stdout",
     "output_type": "stream",
     "text": [
      "Epochs 59: source train acc: 0.935033; source test acc: 0.961700; target train acc: 0.763640; target test acc: 0.812100\n",
      "Epochs 59: source train acc: 0.935033; source test acc: 0.961700; target train acc: 0.763640; target test acc: 0.812100\n",
      "Epochs 59: source train acc: 0.935033; source test acc: 0.961700; target train acc: 0.763640; target test acc: 0.812100\n",
      "Epochs 59: source train acc: 0.935033; source test acc: 0.961700; target train acc: 0.763640; target test acc: 0.812100\n",
      "Epochs 59: source train acc: 0.935033; source test acc: 0.961700; target train acc: 0.763640; target test acc: 0.812100\n",
      "Epochs 59: source train acc: 0.935033; source test acc: 0.961700; target train acc: 0.763640; target test acc: 0.812100\n"
     ]
    },
    {
     "name": "stderr",
     "output_type": "stream",
     "text": [
      "100%|██████████| 150/150 [00:10<00:00, 14.90it/s]\n",
      "100%|██████████| 184/184 [00:16<00:00, 11.42it/s]\n",
      "100%|██████████| 334/334 [00:26<00:00, 12.41it/s]\n"
     ]
    },
    {
     "name": "stdout",
     "output_type": "stream",
     "text": [
      "Epochs 60: source train acc: 0.935917; source test acc: 0.969400; target train acc: 0.765579; target test acc: 0.795856\n",
      "Epochs 60: source train acc: 0.935917; source test acc: 0.969400; target train acc: 0.765579; target test acc: 0.795856\n",
      "Epochs 60: source train acc: 0.935917; source test acc: 0.969400; target train acc: 0.765579; target test acc: 0.795856\n",
      "Epochs 60: source train acc: 0.935917; source test acc: 0.969400; target train acc: 0.765579; target test acc: 0.795856\n",
      "Epochs 60: source train acc: 0.935917; source test acc: 0.969400; target train acc: 0.765579; target test acc: 0.795856\n",
      "Epochs 60: source train acc: 0.935917; source test acc: 0.969400; target train acc: 0.765579; target test acc: 0.795856\n"
     ]
    },
    {
     "name": "stderr",
     "output_type": "stream",
     "text": [
      "100%|██████████| 150/150 [00:10<00:00, 14.79it/s]\n",
      "100%|██████████| 184/184 [00:16<00:00, 11.49it/s]\n",
      "100%|██████████| 334/334 [00:27<00:00, 12.37it/s]\n"
     ]
    },
    {
     "name": "stdout",
     "output_type": "stream",
     "text": [
      "Epochs 61: source train acc: 0.935900; source test acc: 0.967400; target train acc: 0.764978; target test acc: 0.823075\n",
      "Epochs 61: source train acc: 0.935900; source test acc: 0.967400; target train acc: 0.764978; target test acc: 0.823075\n",
      "Epochs 61: source train acc: 0.935900; source test acc: 0.967400; target train acc: 0.764978; target test acc: 0.823075\n",
      "Epochs 61: source train acc: 0.935900; source test acc: 0.967400; target train acc: 0.764978; target test acc: 0.823075\n",
      "Epochs 61: source train acc: 0.935900; source test acc: 0.967400; target train acc: 0.764978; target test acc: 0.823075\n",
      "Epochs 61: source train acc: 0.935900; source test acc: 0.967400; target train acc: 0.764978; target test acc: 0.823075\n"
     ]
    },
    {
     "name": "stderr",
     "output_type": "stream",
     "text": [
      "100%|██████████| 150/150 [00:10<00:00, 14.77it/s]\n",
      "100%|██████████| 184/184 [00:16<00:00, 11.38it/s]\n",
      "100%|██████████| 334/334 [00:26<00:00, 12.43it/s]\n"
     ]
    },
    {
     "name": "stdout",
     "output_type": "stream",
     "text": [
      "Epochs 62: source train acc: 0.934933; source test acc: 0.968700; target train acc: 0.766111; target test acc: 0.830924\n",
      "Epochs 62: source train acc: 0.934933; source test acc: 0.968700; target train acc: 0.766111; target test acc: 0.830924\n",
      "Epochs 62: source train acc: 0.934933; source test acc: 0.968700; target train acc: 0.766111; target test acc: 0.830924\n",
      "Epochs 62: source train acc: 0.934933; source test acc: 0.968700; target train acc: 0.766111; target test acc: 0.830924\n",
      "Epochs 62: source train acc: 0.934933; source test acc: 0.968700; target train acc: 0.766111; target test acc: 0.830924\n",
      "Epochs 62: source train acc: 0.934933; source test acc: 0.968700; target train acc: 0.766111; target test acc: 0.830924\n"
     ]
    },
    {
     "name": "stderr",
     "output_type": "stream",
     "text": [
      "100%|██████████| 150/150 [00:10<00:00, 14.87it/s]\n",
      "100%|██████████| 184/184 [00:15<00:00, 11.54it/s]\n",
      "100%|██████████| 334/334 [00:26<00:00, 12.46it/s]\n"
     ]
    },
    {
     "name": "stdout",
     "output_type": "stream",
     "text": [
      "Epochs 63: source train acc: 0.936800; source test acc: 0.969600; target train acc: 0.768514; target test acc: 0.803609\n",
      "Epochs 63: source train acc: 0.936800; source test acc: 0.969600; target train acc: 0.768514; target test acc: 0.803609\n",
      "Epochs 63: source train acc: 0.936800; source test acc: 0.969600; target train acc: 0.768514; target test acc: 0.803609\n",
      "Epochs 63: source train acc: 0.936800; source test acc: 0.969600; target train acc: 0.768514; target test acc: 0.803609\n",
      "Epochs 63: source train acc: 0.936800; source test acc: 0.969600; target train acc: 0.768514; target test acc: 0.803609\n",
      "Epochs 63: source train acc: 0.936800; source test acc: 0.969600; target train acc: 0.768514; target test acc: 0.803609\n"
     ]
    },
    {
     "name": "stderr",
     "output_type": "stream",
     "text": [
      "100%|██████████| 150/150 [00:10<00:00, 14.82it/s]\n",
      "100%|██████████| 184/184 [00:16<00:00, 11.44it/s]\n",
      "100%|██████████| 334/334 [00:26<00:00, 12.44it/s]\n"
     ]
    },
    {
     "name": "stdout",
     "output_type": "stream",
     "text": [
      "Epochs 64: source train acc: 0.935033; source test acc: 0.956900; target train acc: 0.767476; target test acc: 0.595479\n",
      "Epochs 64: source train acc: 0.935033; source test acc: 0.956900; target train acc: 0.767476; target test acc: 0.595479\n",
      "Epochs 64: source train acc: 0.935033; source test acc: 0.956900; target train acc: 0.767476; target test acc: 0.595479\n",
      "Epochs 64: source train acc: 0.935033; source test acc: 0.956900; target train acc: 0.767476; target test acc: 0.595479\n",
      "Epochs 64: source train acc: 0.935033; source test acc: 0.956900; target train acc: 0.767476; target test acc: 0.595479\n",
      "Epochs 64: source train acc: 0.935033; source test acc: 0.956900; target train acc: 0.767476; target test acc: 0.595479\n"
     ]
    },
    {
     "name": "stderr",
     "output_type": "stream",
     "text": [
      "100%|██████████| 150/150 [00:10<00:00, 14.65it/s]\n",
      "100%|██████████| 184/184 [00:16<00:00, 11.49it/s]\n",
      "100%|██████████| 334/334 [00:26<00:00, 12.49it/s]\n"
     ]
    },
    {
     "name": "stdout",
     "output_type": "stream",
     "text": [
      "Epochs 65: source train acc: 0.934750; source test acc: 0.969200; target train acc: 0.762234; target test acc: 0.837749\n",
      "Epochs 65: source train acc: 0.934750; source test acc: 0.969200; target train acc: 0.762234; target test acc: 0.837749\n",
      "Epochs 65: source train acc: 0.934750; source test acc: 0.969200; target train acc: 0.762234; target test acc: 0.837749\n",
      "Epochs 65: source train acc: 0.934750; source test acc: 0.969200; target train acc: 0.762234; target test acc: 0.837749\n",
      "Epochs 65: source train acc: 0.934750; source test acc: 0.969200; target train acc: 0.762234; target test acc: 0.837749\n",
      "Epochs 65: source train acc: 0.934750; source test acc: 0.969200; target train acc: 0.762234; target test acc: 0.837749\n"
     ]
    },
    {
     "name": "stderr",
     "output_type": "stream",
     "text": [
      "100%|██████████| 150/150 [00:10<00:00, 14.72it/s]\n",
      "100%|██████████| 184/184 [00:16<00:00, 11.50it/s]\n",
      "100%|██████████| 334/334 [00:27<00:00, 12.30it/s]\n"
     ]
    },
    {
     "name": "stdout",
     "output_type": "stream",
     "text": [
      "Epochs 66: source train acc: 0.937633; source test acc: 0.965200; target train acc: 0.767681; target test acc: 0.812455\n",
      "Epochs 66: source train acc: 0.937633; source test acc: 0.965200; target train acc: 0.767681; target test acc: 0.812455\n",
      "Epochs 66: source train acc: 0.937633; source test acc: 0.965200; target train acc: 0.767681; target test acc: 0.812455\n",
      "Epochs 66: source train acc: 0.937633; source test acc: 0.965200; target train acc: 0.767681; target test acc: 0.812455\n",
      "Epochs 66: source train acc: 0.937633; source test acc: 0.965200; target train acc: 0.767681; target test acc: 0.812455\n",
      "Epochs 66: source train acc: 0.937633; source test acc: 0.965200; target train acc: 0.767681; target test acc: 0.812455\n"
     ]
    },
    {
     "name": "stderr",
     "output_type": "stream",
     "text": [
      "100%|██████████| 150/150 [00:10<00:00, 14.73it/s]\n",
      "100%|██████████| 184/184 [00:16<00:00, 11.36it/s]\n",
      "100%|██████████| 334/334 [00:26<00:00, 12.45it/s]\n"
     ]
    },
    {
     "name": "stdout",
     "output_type": "stream",
     "text": [
      "Epochs 67: source train acc: 0.935700; source test acc: 0.967300; target train acc: 0.768022; target test acc: 0.752829\n",
      "Epochs 67: source train acc: 0.935700; source test acc: 0.967300; target train acc: 0.768022; target test acc: 0.752829\n",
      "Epochs 67: source train acc: 0.935700; source test acc: 0.967300; target train acc: 0.768022; target test acc: 0.752829\n",
      "Epochs 67: source train acc: 0.935700; source test acc: 0.967300; target train acc: 0.768022; target test acc: 0.752829\n",
      "Epochs 67: source train acc: 0.935700; source test acc: 0.967300; target train acc: 0.768022; target test acc: 0.752829\n",
      "Epochs 67: source train acc: 0.935700; source test acc: 0.967300; target train acc: 0.768022; target test acc: 0.752829\n"
     ]
    },
    {
     "name": "stderr",
     "output_type": "stream",
     "text": [
      "100%|██████████| 150/150 [00:10<00:00, 14.52it/s]\n",
      "100%|██████████| 184/184 [00:15<00:00, 11.58it/s]\n",
      "100%|██████████| 334/334 [00:26<00:00, 12.52it/s]\n"
     ]
    },
    {
     "name": "stdout",
     "output_type": "stream",
     "text": [
      "Epochs 68: source train acc: 0.937600; source test acc: 0.970900; target train acc: 0.767927; target test acc: 0.720272\n",
      "Epochs 68: source train acc: 0.937600; source test acc: 0.970900; target train acc: 0.767927; target test acc: 0.720272\n",
      "Epochs 68: source train acc: 0.937600; source test acc: 0.970900; target train acc: 0.767927; target test acc: 0.720272\n",
      "Epochs 68: source train acc: 0.937600; source test acc: 0.970900; target train acc: 0.767927; target test acc: 0.720272\n",
      "Epochs 68: source train acc: 0.937600; source test acc: 0.970900; target train acc: 0.767927; target test acc: 0.720272\n",
      "Epochs 68: source train acc: 0.937600; source test acc: 0.970900; target train acc: 0.767927; target test acc: 0.720272\n"
     ]
    },
    {
     "name": "stderr",
     "output_type": "stream",
     "text": [
      "100%|██████████| 150/150 [00:10<00:00, 14.74it/s]\n",
      "100%|██████████| 184/184 [00:16<00:00, 11.38it/s]\n",
      "100%|██████████| 334/334 [00:26<00:00, 12.38it/s]\n"
     ]
    },
    {
     "name": "stdout",
     "output_type": "stream",
     "text": [
      "Epochs 69: source train acc: 0.937750; source test acc: 0.970000; target train acc: 0.763859; target test acc: 0.837094\n",
      "Epochs 69: source train acc: 0.937750; source test acc: 0.970000; target train acc: 0.763859; target test acc: 0.837094\n",
      "Epochs 69: source train acc: 0.937750; source test acc: 0.970000; target train acc: 0.763859; target test acc: 0.837094\n",
      "Epochs 69: source train acc: 0.937750; source test acc: 0.970000; target train acc: 0.763859; target test acc: 0.837094\n",
      "Epochs 69: source train acc: 0.937750; source test acc: 0.970000; target train acc: 0.763859; target test acc: 0.837094\n",
      "Epochs 69: source train acc: 0.937750; source test acc: 0.970000; target train acc: 0.763859; target test acc: 0.837094\n"
     ]
    },
    {
     "name": "stderr",
     "output_type": "stream",
     "text": [
      "100%|██████████| 150/150 [00:10<00:00, 14.64it/s]\n",
      "100%|██████████| 184/184 [00:16<00:00, 11.32it/s]\n",
      "100%|██████████| 334/334 [00:26<00:00, 12.54it/s]\n"
     ]
    },
    {
     "name": "stdout",
     "output_type": "stream",
     "text": [
      "Epochs 70: source train acc: 0.938033; source test acc: 0.962500; target train acc: 0.768049; target test acc: 0.774411\n",
      "Epochs 70: source train acc: 0.938033; source test acc: 0.962500; target train acc: 0.768049; target test acc: 0.774411\n",
      "Epochs 70: source train acc: 0.938033; source test acc: 0.962500; target train acc: 0.768049; target test acc: 0.774411\n",
      "Epochs 70: source train acc: 0.938033; source test acc: 0.962500; target train acc: 0.768049; target test acc: 0.774411\n",
      "Epochs 70: source train acc: 0.938033; source test acc: 0.962500; target train acc: 0.768049; target test acc: 0.774411\n",
      "Epochs 70: source train acc: 0.938033; source test acc: 0.962500; target train acc: 0.768049; target test acc: 0.774411\n"
     ]
    },
    {
     "name": "stderr",
     "output_type": "stream",
     "text": [
      "100%|██████████| 150/150 [00:10<00:00, 14.63it/s]\n",
      "100%|██████████| 184/184 [00:15<00:00, 11.63it/s]\n",
      "100%|██████████| 334/334 [00:26<00:00, 12.55it/s]\n"
     ]
    },
    {
     "name": "stdout",
     "output_type": "stream",
     "text": [
      "Epochs 71: source train acc: 0.937350; source test acc: 0.970900; target train acc: 0.768664; target test acc: 0.795787\n",
      "Epochs 71: source train acc: 0.937350; source test acc: 0.970900; target train acc: 0.768664; target test acc: 0.795787\n",
      "Epochs 71: source train acc: 0.937350; source test acc: 0.970900; target train acc: 0.768664; target test acc: 0.795787\n",
      "Epochs 71: source train acc: 0.937350; source test acc: 0.970900; target train acc: 0.768664; target test acc: 0.795787\n",
      "Epochs 71: source train acc: 0.937350; source test acc: 0.970900; target train acc: 0.768664; target test acc: 0.795787\n",
      "Epochs 71: source train acc: 0.937350; source test acc: 0.970900; target train acc: 0.768664; target test acc: 0.795787\n"
     ]
    },
    {
     "name": "stderr",
     "output_type": "stream",
     "text": [
      "100%|██████████| 150/150 [00:10<00:00, 14.88it/s]\n",
      "100%|██████████| 184/184 [00:15<00:00, 11.57it/s]\n",
      "100%|██████████| 334/334 [00:26<00:00, 12.45it/s]\n"
     ]
    },
    {
     "name": "stdout",
     "output_type": "stream",
     "text": [
      "Epochs 72: source train acc: 0.936133; source test acc: 0.967900; target train acc: 0.766097; target test acc: 0.809206\n",
      "Epochs 72: source train acc: 0.936133; source test acc: 0.967900; target train acc: 0.766097; target test acc: 0.809206\n",
      "Epochs 72: source train acc: 0.936133; source test acc: 0.967900; target train acc: 0.766097; target test acc: 0.809206\n",
      "Epochs 72: source train acc: 0.936133; source test acc: 0.967900; target train acc: 0.766097; target test acc: 0.809206\n",
      "Epochs 72: source train acc: 0.936133; source test acc: 0.967900; target train acc: 0.766097; target test acc: 0.809206\n",
      "Epochs 72: source train acc: 0.936133; source test acc: 0.967900; target train acc: 0.766097; target test acc: 0.809206\n"
     ]
    },
    {
     "name": "stderr",
     "output_type": "stream",
     "text": [
      "100%|██████████| 150/150 [00:09<00:00, 15.01it/s]\n",
      "100%|██████████| 184/184 [00:16<00:00, 11.40it/s]\n",
      "100%|██████████| 334/334 [00:26<00:00, 12.52it/s]\n"
     ]
    },
    {
     "name": "stdout",
     "output_type": "stream",
     "text": [
      "Epochs 73: source train acc: 0.936367; source test acc: 0.968500; target train acc: 0.769073; target test acc: 0.830828\n",
      "Epochs 73: source train acc: 0.936367; source test acc: 0.968500; target train acc: 0.769073; target test acc: 0.830828\n",
      "Epochs 73: source train acc: 0.936367; source test acc: 0.968500; target train acc: 0.769073; target test acc: 0.830828\n",
      "Epochs 73: source train acc: 0.936367; source test acc: 0.968500; target train acc: 0.769073; target test acc: 0.830828\n",
      "Epochs 73: source train acc: 0.936367; source test acc: 0.968500; target train acc: 0.769073; target test acc: 0.830828\n",
      "Epochs 73: source train acc: 0.936367; source test acc: 0.968500; target train acc: 0.769073; target test acc: 0.830828\n"
     ]
    },
    {
     "name": "stderr",
     "output_type": "stream",
     "text": [
      "100%|██████████| 150/150 [00:10<00:00, 14.67it/s]\n",
      "100%|██████████| 184/184 [00:15<00:00, 11.62it/s]\n",
      "100%|██████████| 334/334 [00:26<00:00, 12.57it/s]\n"
     ]
    },
    {
     "name": "stdout",
     "output_type": "stream",
     "text": [
      "Epochs 74: source train acc: 0.937717; source test acc: 0.968800; target train acc: 0.769715; target test acc: 0.804387\n",
      "Epochs 74: source train acc: 0.937717; source test acc: 0.968800; target train acc: 0.769715; target test acc: 0.804387\n",
      "Epochs 74: source train acc: 0.937717; source test acc: 0.968800; target train acc: 0.769715; target test acc: 0.804387\n",
      "Epochs 74: source train acc: 0.937717; source test acc: 0.968800; target train acc: 0.769715; target test acc: 0.804387\n",
      "Epochs 74: source train acc: 0.937717; source test acc: 0.968800; target train acc: 0.769715; target test acc: 0.804387\n",
      "Epochs 74: source train acc: 0.937717; source test acc: 0.968800; target train acc: 0.769715; target test acc: 0.804387\n"
     ]
    },
    {
     "name": "stderr",
     "output_type": "stream",
     "text": [
      "100%|██████████| 150/150 [00:10<00:00, 14.80it/s]\n",
      "100%|██████████| 184/184 [00:15<00:00, 11.55it/s]\n",
      "100%|██████████| 334/334 [00:26<00:00, 12.44it/s]\n"
     ]
    },
    {
     "name": "stdout",
     "output_type": "stream",
     "text": [
      "Epochs 75: source train acc: 0.937783; source test acc: 0.970600; target train acc: 0.766138; target test acc: 0.838951\n",
      "Epochs 75: source train acc: 0.937783; source test acc: 0.970600; target train acc: 0.766138; target test acc: 0.838951\n",
      "Epochs 75: source train acc: 0.937783; source test acc: 0.970600; target train acc: 0.766138; target test acc: 0.838951\n",
      "Epochs 75: source train acc: 0.937783; source test acc: 0.970600; target train acc: 0.766138; target test acc: 0.838951\n",
      "Epochs 75: source train acc: 0.937783; source test acc: 0.970600; target train acc: 0.766138; target test acc: 0.838951\n",
      "Epochs 75: source train acc: 0.937783; source test acc: 0.970600; target train acc: 0.766138; target test acc: 0.838951\n"
     ]
    },
    {
     "name": "stderr",
     "output_type": "stream",
     "text": [
      "100%|██████████| 150/150 [00:09<00:00, 15.04it/s]\n",
      "100%|██████████| 184/184 [00:16<00:00, 11.31it/s]\n",
      "100%|██████████| 334/334 [00:26<00:00, 12.53it/s]\n"
     ]
    },
    {
     "name": "stdout",
     "output_type": "stream",
     "text": [
      "Epochs 76: source train acc: 0.937467; source test acc: 0.968700; target train acc: 0.770042; target test acc: 0.814202\n",
      "Epochs 76: source train acc: 0.937467; source test acc: 0.968700; target train acc: 0.770042; target test acc: 0.814202\n",
      "Epochs 76: source train acc: 0.937467; source test acc: 0.968700; target train acc: 0.770042; target test acc: 0.814202\n",
      "Epochs 76: source train acc: 0.937467; source test acc: 0.968700; target train acc: 0.770042; target test acc: 0.814202\n",
      "Epochs 76: source train acc: 0.937467; source test acc: 0.968700; target train acc: 0.770042; target test acc: 0.814202\n",
      "Epochs 76: source train acc: 0.937467; source test acc: 0.968700; target train acc: 0.770042; target test acc: 0.814202\n"
     ]
    },
    {
     "name": "stderr",
     "output_type": "stream",
     "text": [
      "100%|██████████| 150/150 [00:10<00:00, 14.61it/s]\n",
      "100%|██████████| 184/184 [00:15<00:00, 11.60it/s]\n",
      "100%|██████████| 334/334 [00:26<00:00, 12.42it/s]\n"
     ]
    },
    {
     "name": "stdout",
     "output_type": "stream",
     "text": [
      "Epochs 77: source train acc: 0.938233; source test acc: 0.970000; target train acc: 0.769114; target test acc: 0.792470\n",
      "Epochs 77: source train acc: 0.938233; source test acc: 0.970000; target train acc: 0.769114; target test acc: 0.792470\n",
      "Epochs 77: source train acc: 0.938233; source test acc: 0.970000; target train acc: 0.769114; target test acc: 0.792470\n",
      "Epochs 77: source train acc: 0.938233; source test acc: 0.970000; target train acc: 0.769114; target test acc: 0.792470\n",
      "Epochs 77: source train acc: 0.938233; source test acc: 0.970000; target train acc: 0.769114; target test acc: 0.792470\n",
      "Epochs 77: source train acc: 0.938233; source test acc: 0.970000; target train acc: 0.769114; target test acc: 0.792470\n"
     ]
    },
    {
     "name": "stderr",
     "output_type": "stream",
     "text": [
      "100%|██████████| 150/150 [00:10<00:00, 14.77it/s]\n",
      "100%|██████████| 184/184 [00:15<00:00, 11.50it/s]\n",
      "100%|██████████| 334/334 [00:26<00:00, 12.50it/s]\n"
     ]
    },
    {
     "name": "stdout",
     "output_type": "stream",
     "text": [
      "Epochs 78: source train acc: 0.938233; source test acc: 0.968700; target train acc: 0.768814; target test acc: 0.654559\n",
      "Epochs 78: source train acc: 0.938233; source test acc: 0.968700; target train acc: 0.768814; target test acc: 0.654559\n",
      "Epochs 78: source train acc: 0.938233; source test acc: 0.968700; target train acc: 0.768814; target test acc: 0.654559\n",
      "Epochs 78: source train acc: 0.938233; source test acc: 0.968700; target train acc: 0.768814; target test acc: 0.654559\n",
      "Epochs 78: source train acc: 0.938233; source test acc: 0.968700; target train acc: 0.768814; target test acc: 0.654559\n",
      "Epochs 78: source train acc: 0.938233; source test acc: 0.968700; target train acc: 0.768814; target test acc: 0.654559\n"
     ]
    },
    {
     "name": "stderr",
     "output_type": "stream",
     "text": [
      "100%|██████████| 150/150 [00:10<00:00, 14.98it/s]\n",
      "100%|██████████| 184/184 [00:16<00:00, 11.41it/s]\n",
      "100%|██████████| 334/334 [00:26<00:00, 12.45it/s]\n"
     ]
    },
    {
     "name": "stdout",
     "output_type": "stream",
     "text": [
      "Epochs 79: source train acc: 0.937333; source test acc: 0.970400; target train acc: 0.763422; target test acc: 0.807745\n",
      "Epochs 79: source train acc: 0.937333; source test acc: 0.970400; target train acc: 0.763422; target test acc: 0.807745\n",
      "Epochs 79: source train acc: 0.937333; source test acc: 0.970400; target train acc: 0.763422; target test acc: 0.807745\n",
      "Epochs 79: source train acc: 0.937333; source test acc: 0.970400; target train acc: 0.763422; target test acc: 0.807745\n",
      "Epochs 79: source train acc: 0.937333; source test acc: 0.970400; target train acc: 0.763422; target test acc: 0.807745\n",
      "Epochs 79: source train acc: 0.937333; source test acc: 0.970400; target train acc: 0.763422; target test acc: 0.807745\n"
     ]
    },
    {
     "name": "stderr",
     "output_type": "stream",
     "text": [
      "100%|██████████| 150/150 [00:10<00:00, 14.42it/s]\n",
      "100%|██████████| 184/184 [00:16<00:00, 11.48it/s]\n",
      "100%|██████████| 334/334 [00:26<00:00, 12.39it/s]\n"
     ]
    },
    {
     "name": "stdout",
     "output_type": "stream",
     "text": [
      "Epochs 80: source train acc: 0.938150; source test acc: 0.970300; target train acc: 0.770548; target test acc: 0.820823\n",
      "Epochs 80: source train acc: 0.938150; source test acc: 0.970300; target train acc: 0.770548; target test acc: 0.820823\n",
      "Epochs 80: source train acc: 0.938150; source test acc: 0.970300; target train acc: 0.770548; target test acc: 0.820823\n",
      "Epochs 80: source train acc: 0.938150; source test acc: 0.970300; target train acc: 0.770548; target test acc: 0.820823\n",
      "Epochs 80: source train acc: 0.938150; source test acc: 0.970300; target train acc: 0.770548; target test acc: 0.820823\n",
      "Epochs 80: source train acc: 0.938150; source test acc: 0.970300; target train acc: 0.770548; target test acc: 0.820823\n"
     ]
    },
    {
     "name": "stderr",
     "output_type": "stream",
     "text": [
      "100%|██████████| 150/150 [00:09<00:00, 15.10it/s]\n",
      "100%|██████████| 184/184 [00:15<00:00, 11.97it/s]\n",
      "100%|██████████| 334/334 [00:25<00:00, 13.09it/s]\n"
     ]
    },
    {
     "name": "stdout",
     "output_type": "stream",
     "text": [
      "Epochs 81: source train acc: 0.937350; source test acc: 0.967500; target train acc: 0.770070; target test acc: 0.817041\n",
      "Epochs 81: source train acc: 0.937350; source test acc: 0.967500; target train acc: 0.770070; target test acc: 0.817041\n",
      "Epochs 81: source train acc: 0.937350; source test acc: 0.967500; target train acc: 0.770070; target test acc: 0.817041\n",
      "Epochs 81: source train acc: 0.937350; source test acc: 0.967500; target train acc: 0.770070; target test acc: 0.817041\n",
      "Epochs 81: source train acc: 0.937350; source test acc: 0.967500; target train acc: 0.770070; target test acc: 0.817041\n",
      "Epochs 81: source train acc: 0.937350; source test acc: 0.967500; target train acc: 0.770070; target test acc: 0.817041\n"
     ]
    },
    {
     "name": "stderr",
     "output_type": "stream",
     "text": [
      "100%|██████████| 150/150 [00:09<00:00, 15.56it/s]\n",
      "100%|██████████| 184/184 [00:15<00:00, 12.09it/s]\n",
      "100%|██████████| 334/334 [00:25<00:00, 13.03it/s]\n"
     ]
    },
    {
     "name": "stdout",
     "output_type": "stream",
     "text": [
      "Epochs 82: source train acc: 0.937500; source test acc: 0.968900; target train acc: 0.768841; target test acc: 0.844970\n",
      "Epochs 82: source train acc: 0.937500; source test acc: 0.968900; target train acc: 0.768841; target test acc: 0.844970\n",
      "Epochs 82: source train acc: 0.937500; source test acc: 0.968900; target train acc: 0.768841; target test acc: 0.844970\n",
      "Epochs 82: source train acc: 0.937500; source test acc: 0.968900; target train acc: 0.768841; target test acc: 0.844970\n",
      "Epochs 82: source train acc: 0.937500; source test acc: 0.968900; target train acc: 0.768841; target test acc: 0.844970\n",
      "Epochs 82: source train acc: 0.937500; source test acc: 0.968900; target train acc: 0.768841; target test acc: 0.844970\n"
     ]
    },
    {
     "name": "stderr",
     "output_type": "stream",
     "text": [
      "100%|██████████| 150/150 [00:09<00:00, 15.47it/s]\n",
      "100%|██████████| 184/184 [00:15<00:00, 11.99it/s]\n",
      "100%|██████████| 334/334 [00:25<00:00, 13.17it/s]\n"
     ]
    },
    {
     "name": "stdout",
     "output_type": "stream",
     "text": [
      "Epochs 83: source train acc: 0.938200; source test acc: 0.971100; target train acc: 0.771012; target test acc: 0.799500\n",
      "Epochs 83: source train acc: 0.938200; source test acc: 0.971100; target train acc: 0.771012; target test acc: 0.799500\n",
      "Epochs 83: source train acc: 0.938200; source test acc: 0.971100; target train acc: 0.771012; target test acc: 0.799500\n",
      "Epochs 83: source train acc: 0.938200; source test acc: 0.971100; target train acc: 0.771012; target test acc: 0.799500\n",
      "Epochs 83: source train acc: 0.938200; source test acc: 0.971100; target train acc: 0.771012; target test acc: 0.799500\n",
      "Epochs 83: source train acc: 0.938200; source test acc: 0.971100; target train acc: 0.771012; target test acc: 0.799500\n"
     ]
    },
    {
     "name": "stderr",
     "output_type": "stream",
     "text": [
      "100%|██████████| 150/150 [00:09<00:00, 15.49it/s]\n",
      "100%|██████████| 184/184 [00:15<00:00, 12.14it/s]\n",
      "100%|██████████| 334/334 [00:25<00:00, 13.27it/s]\n"
     ]
    },
    {
     "name": "stdout",
     "output_type": "stream",
     "text": [
      "Epochs 84: source train acc: 0.938783; source test acc: 0.969700; target train acc: 0.765975; target test acc: 0.841967\n",
      "Epochs 84: source train acc: 0.938783; source test acc: 0.969700; target train acc: 0.765975; target test acc: 0.841967\n",
      "Epochs 84: source train acc: 0.938783; source test acc: 0.969700; target train acc: 0.765975; target test acc: 0.841967\n",
      "Epochs 84: source train acc: 0.938783; source test acc: 0.969700; target train acc: 0.765975; target test acc: 0.841967\n",
      "Epochs 84: source train acc: 0.938783; source test acc: 0.969700; target train acc: 0.765975; target test acc: 0.841967\n",
      "Epochs 84: source train acc: 0.938783; source test acc: 0.969700; target train acc: 0.765975; target test acc: 0.841967\n"
     ]
    },
    {
     "name": "stderr",
     "output_type": "stream",
     "text": [
      "100%|██████████| 150/150 [00:09<00:00, 15.57it/s]\n",
      "100%|██████████| 184/184 [00:14<00:00, 12.37it/s]\n",
      "100%|██████████| 334/334 [00:25<00:00, 13.15it/s]\n"
     ]
    },
    {
     "name": "stdout",
     "output_type": "stream",
     "text": [
      "Epochs 85: source train acc: 0.936650; source test acc: 0.969900; target train acc: 0.767626; target test acc: 0.818625\n",
      "Epochs 85: source train acc: 0.936650; source test acc: 0.969900; target train acc: 0.767626; target test acc: 0.818625\n",
      "Epochs 85: source train acc: 0.936650; source test acc: 0.969900; target train acc: 0.767626; target test acc: 0.818625\n",
      "Epochs 85: source train acc: 0.936650; source test acc: 0.969900; target train acc: 0.767626; target test acc: 0.818625\n",
      "Epochs 85: source train acc: 0.936650; source test acc: 0.969900; target train acc: 0.767626; target test acc: 0.818625\n",
      "Epochs 85: source train acc: 0.936650; source test acc: 0.969900; target train acc: 0.767626; target test acc: 0.818625\n"
     ]
    },
    {
     "name": "stderr",
     "output_type": "stream",
     "text": [
      "100%|██████████| 150/150 [00:09<00:00, 15.77it/s]\n",
      "100%|██████████| 184/184 [00:15<00:00, 12.14it/s]\n",
      "100%|██████████| 334/334 [00:25<00:00, 13.27it/s]\n"
     ]
    },
    {
     "name": "stdout",
     "output_type": "stream",
     "text": [
      "Epochs 86: source train acc: 0.938267; source test acc: 0.968800; target train acc: 0.768568; target test acc: 0.744106\n",
      "Epochs 86: source train acc: 0.938267; source test acc: 0.968800; target train acc: 0.768568; target test acc: 0.744106\n",
      "Epochs 86: source train acc: 0.938267; source test acc: 0.968800; target train acc: 0.768568; target test acc: 0.744106\n",
      "Epochs 86: source train acc: 0.938267; source test acc: 0.968800; target train acc: 0.768568; target test acc: 0.744106\n",
      "Epochs 86: source train acc: 0.938267; source test acc: 0.968800; target train acc: 0.768568; target test acc: 0.744106\n",
      "Epochs 86: source train acc: 0.938267; source test acc: 0.968800; target train acc: 0.768568; target test acc: 0.744106\n"
     ]
    },
    {
     "name": "stderr",
     "output_type": "stream",
     "text": [
      "100%|██████████| 150/150 [00:09<00:00, 15.65it/s]\n",
      "100%|██████████| 184/184 [00:15<00:00, 12.25it/s]\n",
      "100%|██████████| 334/334 [00:25<00:00, 13.19it/s]\n"
     ]
    },
    {
     "name": "stdout",
     "output_type": "stream",
     "text": [
      "Epochs 87: source train acc: 0.936933; source test acc: 0.970100; target train acc: 0.766766; target test acc: 0.838227\n",
      "Epochs 87: source train acc: 0.936933; source test acc: 0.970100; target train acc: 0.766766; target test acc: 0.838227\n",
      "Epochs 87: source train acc: 0.936933; source test acc: 0.970100; target train acc: 0.766766; target test acc: 0.838227\n",
      "Epochs 87: source train acc: 0.936933; source test acc: 0.970100; target train acc: 0.766766; target test acc: 0.838227\n",
      "Epochs 87: source train acc: 0.936933; source test acc: 0.970100; target train acc: 0.766766; target test acc: 0.838227\n",
      "Epochs 87: source train acc: 0.936933; source test acc: 0.970100; target train acc: 0.766766; target test acc: 0.838227\n"
     ]
    },
    {
     "name": "stderr",
     "output_type": "stream",
     "text": [
      "100%|██████████| 150/150 [00:09<00:00, 15.58it/s]\n",
      "100%|██████████| 184/184 [00:15<00:00, 12.24it/s]\n",
      "100%|██████████| 334/334 [00:25<00:00, 13.12it/s]\n"
     ]
    },
    {
     "name": "stdout",
     "output_type": "stream",
     "text": [
      "Epochs 88: source train acc: 0.938883; source test acc: 0.972400; target train acc: 0.771776; target test acc: 0.821874\n",
      "Epochs 88: source train acc: 0.938883; source test acc: 0.972400; target train acc: 0.771776; target test acc: 0.821874\n",
      "Epochs 88: source train acc: 0.938883; source test acc: 0.972400; target train acc: 0.771776; target test acc: 0.821874\n",
      "Epochs 88: source train acc: 0.938883; source test acc: 0.972400; target train acc: 0.771776; target test acc: 0.821874\n",
      "Epochs 88: source train acc: 0.938883; source test acc: 0.972400; target train acc: 0.771776; target test acc: 0.821874\n",
      "Epochs 88: source train acc: 0.938883; source test acc: 0.972400; target train acc: 0.771776; target test acc: 0.821874\n"
     ]
    },
    {
     "name": "stderr",
     "output_type": "stream",
     "text": [
      "100%|██████████| 150/150 [00:09<00:00, 15.93it/s]\n",
      "100%|██████████| 184/184 [00:15<00:00, 12.04it/s]\n",
      "100%|██████████| 334/334 [00:25<00:00, 13.24it/s]\n"
     ]
    },
    {
     "name": "stdout",
     "output_type": "stream",
     "text": [
      "Epochs 89: source train acc: 0.937267; source test acc: 0.972500; target train acc: 0.773018; target test acc: 0.829381\n",
      "Epochs 89: source train acc: 0.937267; source test acc: 0.972500; target train acc: 0.773018; target test acc: 0.829381\n",
      "Epochs 89: source train acc: 0.937267; source test acc: 0.972500; target train acc: 0.773018; target test acc: 0.829381\n",
      "Epochs 89: source train acc: 0.937267; source test acc: 0.972500; target train acc: 0.773018; target test acc: 0.829381\n",
      "Epochs 89: source train acc: 0.937267; source test acc: 0.972500; target train acc: 0.773018; target test acc: 0.829381\n",
      "Epochs 89: source train acc: 0.937267; source test acc: 0.972500; target train acc: 0.773018; target test acc: 0.829381\n"
     ]
    },
    {
     "name": "stderr",
     "output_type": "stream",
     "text": [
      "100%|██████████| 150/150 [00:09<00:00, 15.58it/s]\n",
      "100%|██████████| 184/184 [00:15<00:00, 12.25it/s]\n",
      "100%|██████████| 334/334 [00:25<00:00, 13.28it/s]\n"
     ]
    },
    {
     "name": "stdout",
     "output_type": "stream",
     "text": [
      "Epochs 90: source train acc: 0.937950; source test acc: 0.969100; target train acc: 0.769742; target test acc: 0.812810\n",
      "Epochs 90: source train acc: 0.937950; source test acc: 0.969100; target train acc: 0.769742; target test acc: 0.812810\n",
      "Epochs 90: source train acc: 0.937950; source test acc: 0.969100; target train acc: 0.769742; target test acc: 0.812810\n",
      "Epochs 90: source train acc: 0.937950; source test acc: 0.969100; target train acc: 0.769742; target test acc: 0.812810\n",
      "Epochs 90: source train acc: 0.937950; source test acc: 0.969100; target train acc: 0.769742; target test acc: 0.812810\n",
      "Epochs 90: source train acc: 0.937950; source test acc: 0.969100; target train acc: 0.769742; target test acc: 0.812810\n"
     ]
    },
    {
     "name": "stderr",
     "output_type": "stream",
     "text": [
      "100%|██████████| 150/150 [00:09<00:00, 15.67it/s]\n",
      "100%|██████████| 184/184 [00:15<00:00, 12.21it/s]\n",
      "100%|██████████| 334/334 [00:25<00:00, 13.14it/s]\n"
     ]
    },
    {
     "name": "stdout",
     "output_type": "stream",
     "text": [
      "Epochs 91: source train acc: 0.938733; source test acc: 0.970600; target train acc: 0.768691; target test acc: 0.842117\n",
      "Epochs 91: source train acc: 0.938733; source test acc: 0.970600; target train acc: 0.768691; target test acc: 0.842117\n",
      "Epochs 91: source train acc: 0.938733; source test acc: 0.970600; target train acc: 0.768691; target test acc: 0.842117\n",
      "Epochs 91: source train acc: 0.938733; source test acc: 0.970600; target train acc: 0.768691; target test acc: 0.842117\n",
      "Epochs 91: source train acc: 0.938733; source test acc: 0.970600; target train acc: 0.768691; target test acc: 0.842117\n",
      "Epochs 91: source train acc: 0.938733; source test acc: 0.970600; target train acc: 0.768691; target test acc: 0.842117\n"
     ]
    },
    {
     "name": "stderr",
     "output_type": "stream",
     "text": [
      "100%|██████████| 150/150 [00:09<00:00, 15.92it/s]\n",
      "100%|██████████| 184/184 [00:15<00:00, 12.03it/s]\n",
      "100%|██████████| 334/334 [00:25<00:00, 13.27it/s]\n"
     ]
    },
    {
     "name": "stdout",
     "output_type": "stream",
     "text": [
      "Epochs 92: source train acc: 0.938383; source test acc: 0.967800; target train acc: 0.769715; target test acc: 0.790655\n",
      "Epochs 92: source train acc: 0.938383; source test acc: 0.967800; target train acc: 0.769715; target test acc: 0.790655\n",
      "Epochs 92: source train acc: 0.938383; source test acc: 0.967800; target train acc: 0.769715; target test acc: 0.790655\n",
      "Epochs 92: source train acc: 0.938383; source test acc: 0.967800; target train acc: 0.769715; target test acc: 0.790655\n",
      "Epochs 92: source train acc: 0.938383; source test acc: 0.967800; target train acc: 0.769715; target test acc: 0.790655\n",
      "Epochs 92: source train acc: 0.938383; source test acc: 0.967800; target train acc: 0.769715; target test acc: 0.790655\n"
     ]
    },
    {
     "name": "stderr",
     "output_type": "stream",
     "text": [
      "100%|██████████| 150/150 [00:09<00:00, 15.27it/s]\n",
      "100%|██████████| 184/184 [00:14<00:00, 12.29it/s]\n",
      "100%|██████████| 334/334 [00:25<00:00, 13.17it/s]\n"
     ]
    },
    {
     "name": "stdout",
     "output_type": "stream",
     "text": [
      "Epochs 93: source train acc: 0.939050; source test acc: 0.967000; target train acc: 0.769769; target test acc: 0.824686\n",
      "Epochs 93: source train acc: 0.939050; source test acc: 0.967000; target train acc: 0.769769; target test acc: 0.824686\n",
      "Epochs 93: source train acc: 0.939050; source test acc: 0.967000; target train acc: 0.769769; target test acc: 0.824686\n",
      "Epochs 93: source train acc: 0.939050; source test acc: 0.967000; target train acc: 0.769769; target test acc: 0.824686\n",
      "Epochs 93: source train acc: 0.939050; source test acc: 0.967000; target train acc: 0.769769; target test acc: 0.824686\n",
      "Epochs 93: source train acc: 0.939050; source test acc: 0.967000; target train acc: 0.769769; target test acc: 0.824686\n"
     ]
    },
    {
     "name": "stderr",
     "output_type": "stream",
     "text": [
      "100%|██████████| 150/150 [00:09<00:00, 15.60it/s]\n",
      "100%|██████████| 184/184 [00:15<00:00, 12.19it/s]\n",
      "100%|██████████| 334/334 [00:25<00:00, 13.20it/s]\n"
     ]
    },
    {
     "name": "stdout",
     "output_type": "stream",
     "text": [
      "Epochs 94: source train acc: 0.939167; source test acc: 0.967200; target train acc: 0.772104; target test acc: 0.807609\n",
      "Epochs 94: source train acc: 0.939167; source test acc: 0.967200; target train acc: 0.772104; target test acc: 0.807609\n",
      "Epochs 94: source train acc: 0.939167; source test acc: 0.967200; target train acc: 0.772104; target test acc: 0.807609\n",
      "Epochs 94: source train acc: 0.939167; source test acc: 0.967200; target train acc: 0.772104; target test acc: 0.807609\n",
      "Epochs 94: source train acc: 0.939167; source test acc: 0.967200; target train acc: 0.772104; target test acc: 0.807609\n",
      "Epochs 94: source train acc: 0.939167; source test acc: 0.967200; target train acc: 0.772104; target test acc: 0.807609\n"
     ]
    },
    {
     "name": "stderr",
     "output_type": "stream",
     "text": [
      "100%|██████████| 150/150 [00:08<00:00, 17.22it/s]\n",
      "100%|██████████| 184/184 [00:14<00:00, 13.14it/s]\n",
      "100%|██████████| 334/334 [00:23<00:00, 14.25it/s]\n"
     ]
    },
    {
     "name": "stdout",
     "output_type": "stream",
     "text": [
      "Epochs 95: source train acc: 0.938533; source test acc: 0.973400; target train acc: 0.773046; target test acc: 0.798326\n",
      "Epochs 95: source train acc: 0.938533; source test acc: 0.973400; target train acc: 0.773046; target test acc: 0.798326\n",
      "Epochs 95: source train acc: 0.938533; source test acc: 0.973400; target train acc: 0.773046; target test acc: 0.798326\n",
      "Epochs 95: source train acc: 0.938533; source test acc: 0.973400; target train acc: 0.773046; target test acc: 0.798326\n",
      "Epochs 95: source train acc: 0.938533; source test acc: 0.973400; target train acc: 0.773046; target test acc: 0.798326\n",
      "Epochs 95: source train acc: 0.938533; source test acc: 0.973400; target train acc: 0.773046; target test acc: 0.798326\n"
     ]
    },
    {
     "name": "stderr",
     "output_type": "stream",
     "text": [
      "100%|██████████| 150/150 [00:08<00:00, 16.84it/s]\n",
      "100%|██████████| 184/184 [00:13<00:00, 13.19it/s]\n",
      "100%|██████████| 334/334 [00:23<00:00, 14.40it/s]\n"
     ]
    },
    {
     "name": "stdout",
     "output_type": "stream",
     "text": [
      "Epochs 96: source train acc: 0.937367; source test acc: 0.968600; target train acc: 0.770261; target test acc: 0.808878\n",
      "Epochs 96: source train acc: 0.937367; source test acc: 0.968600; target train acc: 0.770261; target test acc: 0.808878\n",
      "Epochs 96: source train acc: 0.937367; source test acc: 0.968600; target train acc: 0.770261; target test acc: 0.808878\n",
      "Epochs 96: source train acc: 0.937367; source test acc: 0.968600; target train acc: 0.770261; target test acc: 0.808878\n",
      "Epochs 96: source train acc: 0.937367; source test acc: 0.968600; target train acc: 0.770261; target test acc: 0.808878\n",
      "Epochs 96: source train acc: 0.937367; source test acc: 0.968600; target train acc: 0.770261; target test acc: 0.808878\n"
     ]
    },
    {
     "name": "stderr",
     "output_type": "stream",
     "text": [
      "100%|██████████| 150/150 [00:08<00:00, 16.87it/s]\n",
      "100%|██████████| 184/184 [00:13<00:00, 13.25it/s]\n",
      "100%|██████████| 334/334 [00:23<00:00, 14.47it/s]\n"
     ]
    },
    {
     "name": "stdout",
     "output_type": "stream",
     "text": [
      "Epochs 97: source train acc: 0.938800; source test acc: 0.966900; target train acc: 0.768049; target test acc: 0.842663\n",
      "Epochs 97: source train acc: 0.938800; source test acc: 0.966900; target train acc: 0.768049; target test acc: 0.842663\n",
      "Epochs 97: source train acc: 0.938800; source test acc: 0.966900; target train acc: 0.768049; target test acc: 0.842663\n",
      "Epochs 97: source train acc: 0.938800; source test acc: 0.966900; target train acc: 0.768049; target test acc: 0.842663\n",
      "Epochs 97: source train acc: 0.938800; source test acc: 0.966900; target train acc: 0.768049; target test acc: 0.842663\n",
      "Epochs 97: source train acc: 0.938800; source test acc: 0.966900; target train acc: 0.768049; target test acc: 0.842663\n"
     ]
    },
    {
     "name": "stderr",
     "output_type": "stream",
     "text": [
      "100%|██████████| 150/150 [00:08<00:00, 17.24it/s]\n",
      "100%|██████████| 184/184 [00:13<00:00, 13.25it/s]\n",
      "100%|██████████| 334/334 [00:23<00:00, 14.35it/s]\n"
     ]
    },
    {
     "name": "stdout",
     "output_type": "stream",
     "text": [
      "Epochs 98: source train acc: 0.937933; source test acc: 0.971600; target train acc: 0.771189; target test acc: 0.776363\n",
      "Epochs 98: source train acc: 0.937933; source test acc: 0.971600; target train acc: 0.771189; target test acc: 0.776363\n",
      "Epochs 98: source train acc: 0.937933; source test acc: 0.971600; target train acc: 0.771189; target test acc: 0.776363\n",
      "Epochs 98: source train acc: 0.937933; source test acc: 0.971600; target train acc: 0.771189; target test acc: 0.776363\n",
      "Epochs 98: source train acc: 0.937933; source test acc: 0.971600; target train acc: 0.771189; target test acc: 0.776363\n",
      "Epochs 98: source train acc: 0.937933; source test acc: 0.971600; target train acc: 0.771189; target test acc: 0.776363\n"
     ]
    },
    {
     "name": "stderr",
     "output_type": "stream",
     "text": [
      "100%|██████████| 150/150 [00:08<00:00, 16.97it/s]\n",
      "100%|██████████| 184/184 [00:13<00:00, 13.18it/s]\n",
      "100%|██████████| 334/334 [00:23<00:00, 14.41it/s]\n"
     ]
    },
    {
     "name": "stdout",
     "output_type": "stream",
     "text": [
      "Epochs 99: source train acc: 0.938550; source test acc: 0.971700; target train acc: 0.769756; target test acc: 0.735861\n",
      "Epochs 99: source train acc: 0.938550; source test acc: 0.971700; target train acc: 0.769756; target test acc: 0.735861\n",
      "Epochs 99: source train acc: 0.938550; source test acc: 0.971700; target train acc: 0.769756; target test acc: 0.735861\n",
      "Epochs 99: source train acc: 0.938550; source test acc: 0.971700; target train acc: 0.769756; target test acc: 0.735861\n",
      "Epochs 99: source train acc: 0.938550; source test acc: 0.971700; target train acc: 0.769756; target test acc: 0.735861\n",
      "Epochs 99: source train acc: 0.938550; source test acc: 0.971700; target train acc: 0.769756; target test acc: 0.735861\n"
     ]
    },
    {
     "name": "stderr",
     "output_type": "stream",
     "text": [
      "100%|██████████| 150/150 [00:08<00:00, 17.09it/s]\n",
      "100%|██████████| 184/184 [00:13<00:00, 13.29it/s]\n",
      "100%|██████████| 334/334 [00:23<00:00, 14.47it/s]\n"
     ]
    },
    {
     "name": "stdout",
     "output_type": "stream",
     "text": [
      "Epochs 100: source train acc: 0.936617; source test acc: 0.969000; target train acc: 0.769401; target test acc: 0.826938\n",
      "Epochs 100: source train acc: 0.936617; source test acc: 0.969000; target train acc: 0.769401; target test acc: 0.826938\n",
      "Epochs 100: source train acc: 0.936617; source test acc: 0.969000; target train acc: 0.769401; target test acc: 0.826938\n",
      "Epochs 100: source train acc: 0.936617; source test acc: 0.969000; target train acc: 0.769401; target test acc: 0.826938\n",
      "Epochs 100: source train acc: 0.936617; source test acc: 0.969000; target train acc: 0.769401; target test acc: 0.826938\n",
      "Epochs 100: source train acc: 0.936617; source test acc: 0.969000; target train acc: 0.769401; target test acc: 0.826938\n"
     ]
    },
    {
     "name": "stderr",
     "output_type": "stream",
     "text": [
      "100%|██████████| 150/150 [00:08<00:00, 17.10it/s]\n",
      "100%|██████████| 184/184 [00:13<00:00, 13.46it/s]\n",
      "100%|██████████| 334/334 [00:23<00:00, 14.32it/s]\n"
     ]
    },
    {
     "name": "stdout",
     "output_type": "stream",
     "text": [
      "Epochs 101: source train acc: 0.938933; source test acc: 0.969100; target train acc: 0.769961; target test acc: 0.841039\n",
      "Epochs 101: source train acc: 0.938933; source test acc: 0.969100; target train acc: 0.769961; target test acc: 0.841039\n",
      "Epochs 101: source train acc: 0.938933; source test acc: 0.969100; target train acc: 0.769961; target test acc: 0.841039\n",
      "Epochs 101: source train acc: 0.938933; source test acc: 0.969100; target train acc: 0.769961; target test acc: 0.841039\n",
      "Epochs 101: source train acc: 0.938933; source test acc: 0.969100; target train acc: 0.769961; target test acc: 0.841039\n",
      "Epochs 101: source train acc: 0.938933; source test acc: 0.969100; target train acc: 0.769961; target test acc: 0.841039\n"
     ]
    },
    {
     "name": "stderr",
     "output_type": "stream",
     "text": [
      "100%|██████████| 150/150 [00:08<00:00, 17.03it/s]\n",
      "100%|██████████| 184/184 [00:13<00:00, 13.17it/s]\n",
      "100%|██████████| 334/334 [00:22<00:00, 14.64it/s]\n"
     ]
    },
    {
     "name": "stdout",
     "output_type": "stream",
     "text": [
      "Epochs 102: source train acc: 0.938417; source test acc: 0.974300; target train acc: 0.771599; target test acc: 0.806612\n",
      "Epochs 102: source train acc: 0.938417; source test acc: 0.974300; target train acc: 0.771599; target test acc: 0.806612\n",
      "Epochs 102: source train acc: 0.938417; source test acc: 0.974300; target train acc: 0.771599; target test acc: 0.806612\n",
      "Epochs 102: source train acc: 0.938417; source test acc: 0.974300; target train acc: 0.771599; target test acc: 0.806612\n",
      "Epochs 102: source train acc: 0.938417; source test acc: 0.974300; target train acc: 0.771599; target test acc: 0.806612\n",
      "Epochs 102: source train acc: 0.938417; source test acc: 0.974300; target train acc: 0.771599; target test acc: 0.806612\n"
     ]
    },
    {
     "name": "stderr",
     "output_type": "stream",
     "text": [
      "100%|██████████| 150/150 [00:08<00:00, 16.97it/s]\n",
      "100%|██████████| 184/184 [00:13<00:00, 13.37it/s]\n",
      "100%|██████████| 334/334 [00:22<00:00, 14.53it/s]\n"
     ]
    },
    {
     "name": "stdout",
     "output_type": "stream",
     "text": [
      "Epochs 103: source train acc: 0.936767; source test acc: 0.973700; target train acc: 0.770384; target test acc: 0.843701\n",
      "Epochs 103: source train acc: 0.936767; source test acc: 0.973700; target train acc: 0.770384; target test acc: 0.843701\n",
      "Epochs 103: source train acc: 0.936767; source test acc: 0.973700; target train acc: 0.770384; target test acc: 0.843701\n",
      "Epochs 103: source train acc: 0.936767; source test acc: 0.973700; target train acc: 0.770384; target test acc: 0.843701\n",
      "Epochs 103: source train acc: 0.936767; source test acc: 0.973700; target train acc: 0.770384; target test acc: 0.843701\n",
      "Epochs 103: source train acc: 0.936767; source test acc: 0.973700; target train acc: 0.770384; target test acc: 0.843701\n"
     ]
    },
    {
     "name": "stderr",
     "output_type": "stream",
     "text": [
      "100%|██████████| 150/150 [00:08<00:00, 16.88it/s]\n",
      "100%|██████████| 184/184 [00:13<00:00, 13.43it/s]\n",
      "100%|██████████| 334/334 [00:23<00:00, 14.31it/s]\n"
     ]
    },
    {
     "name": "stdout",
     "output_type": "stream",
     "text": [
      "Epochs 104: source train acc: 0.940800; source test acc: 0.970000; target train acc: 0.773428; target test acc: 0.830555\n",
      "Epochs 104: source train acc: 0.940800; source test acc: 0.970000; target train acc: 0.773428; target test acc: 0.830555\n",
      "Epochs 104: source train acc: 0.940800; source test acc: 0.970000; target train acc: 0.773428; target test acc: 0.830555\n",
      "Epochs 104: source train acc: 0.940800; source test acc: 0.970000; target train acc: 0.773428; target test acc: 0.830555\n",
      "Epochs 104: source train acc: 0.940800; source test acc: 0.970000; target train acc: 0.773428; target test acc: 0.830555\n",
      "Epochs 104: source train acc: 0.940800; source test acc: 0.970000; target train acc: 0.773428; target test acc: 0.830555\n"
     ]
    },
    {
     "name": "stderr",
     "output_type": "stream",
     "text": [
      "100%|██████████| 150/150 [00:08<00:00, 17.29it/s]\n",
      "100%|██████████| 184/184 [00:13<00:00, 13.22it/s]\n",
      "100%|██████████| 334/334 [00:23<00:00, 14.48it/s]\n"
     ]
    },
    {
     "name": "stdout",
     "output_type": "stream",
     "text": [
      "Epochs 105: source train acc: 0.939450; source test acc: 0.968500; target train acc: 0.769469; target test acc: 0.800415\n",
      "Epochs 105: source train acc: 0.939450; source test acc: 0.968500; target train acc: 0.769469; target test acc: 0.800415\n",
      "Epochs 105: source train acc: 0.939450; source test acc: 0.968500; target train acc: 0.769469; target test acc: 0.800415\n",
      "Epochs 105: source train acc: 0.939450; source test acc: 0.968500; target train acc: 0.769469; target test acc: 0.800415\n",
      "Epochs 105: source train acc: 0.939450; source test acc: 0.968500; target train acc: 0.769469; target test acc: 0.800415\n",
      "Epochs 105: source train acc: 0.939450; source test acc: 0.968500; target train acc: 0.769469; target test acc: 0.800415\n"
     ]
    },
    {
     "name": "stderr",
     "output_type": "stream",
     "text": [
      "100%|██████████| 150/150 [00:08<00:00, 16.92it/s]\n",
      "100%|██████████| 184/184 [00:13<00:00, 13.35it/s]\n",
      "100%|██████████| 334/334 [00:23<00:00, 14.45it/s]\n"
     ]
    },
    {
     "name": "stdout",
     "output_type": "stream",
     "text": [
      "Epochs 106: source train acc: 0.938800; source test acc: 0.968600; target train acc: 0.772677; target test acc: 0.813601\n",
      "Epochs 106: source train acc: 0.938800; source test acc: 0.968600; target train acc: 0.772677; target test acc: 0.813601\n",
      "Epochs 106: source train acc: 0.938800; source test acc: 0.968600; target train acc: 0.772677; target test acc: 0.813601\n",
      "Epochs 106: source train acc: 0.938800; source test acc: 0.968600; target train acc: 0.772677; target test acc: 0.813601\n",
      "Epochs 106: source train acc: 0.938800; source test acc: 0.968600; target train acc: 0.772677; target test acc: 0.813601\n",
      "Epochs 106: source train acc: 0.938800; source test acc: 0.968600; target train acc: 0.772677; target test acc: 0.813601\n"
     ]
    },
    {
     "name": "stderr",
     "output_type": "stream",
     "text": [
      "100%|██████████| 150/150 [00:08<00:00, 16.80it/s]\n",
      "100%|██████████| 184/184 [00:13<00:00, 13.40it/s]\n",
      "100%|██████████| 334/334 [00:23<00:00, 14.42it/s]\n"
     ]
    },
    {
     "name": "stdout",
     "output_type": "stream",
     "text": [
      "Epochs 107: source train acc: 0.937950; source test acc: 0.970300; target train acc: 0.769715; target test acc: 0.802231\n",
      "Epochs 107: source train acc: 0.937950; source test acc: 0.970300; target train acc: 0.769715; target test acc: 0.802231\n",
      "Epochs 107: source train acc: 0.937950; source test acc: 0.970300; target train acc: 0.769715; target test acc: 0.802231\n",
      "Epochs 107: source train acc: 0.937950; source test acc: 0.970300; target train acc: 0.769715; target test acc: 0.802231\n",
      "Epochs 107: source train acc: 0.937950; source test acc: 0.970300; target train acc: 0.769715; target test acc: 0.802231\n",
      "Epochs 107: source train acc: 0.937950; source test acc: 0.970300; target train acc: 0.769715; target test acc: 0.802231\n"
     ]
    },
    {
     "name": "stderr",
     "output_type": "stream",
     "text": [
      "100%|██████████| 150/150 [00:08<00:00, 17.29it/s]\n",
      "100%|██████████| 184/184 [00:13<00:00, 13.29it/s]\n",
      "100%|██████████| 334/334 [00:23<00:00, 14.45it/s]\n"
     ]
    },
    {
     "name": "stdout",
     "output_type": "stream",
     "text": [
      "Epochs 108: source train acc: 0.937767; source test acc: 0.974700; target train acc: 0.770234; target test acc: 0.840466\n",
      "Epochs 108: source train acc: 0.937767; source test acc: 0.974700; target train acc: 0.770234; target test acc: 0.840466\n",
      "Epochs 108: source train acc: 0.937767; source test acc: 0.974700; target train acc: 0.770234; target test acc: 0.840466\n",
      "Epochs 108: source train acc: 0.937767; source test acc: 0.974700; target train acc: 0.770234; target test acc: 0.840466\n",
      "Epochs 108: source train acc: 0.937767; source test acc: 0.974700; target train acc: 0.770234; target test acc: 0.840466\n",
      "Epochs 108: source train acc: 0.937767; source test acc: 0.974700; target train acc: 0.770234; target test acc: 0.840466\n"
     ]
    },
    {
     "name": "stderr",
     "output_type": "stream",
     "text": [
      "100%|██████████| 150/150 [00:08<00:00, 16.98it/s]\n",
      "100%|██████████| 184/184 [00:13<00:00, 13.27it/s]\n",
      "100%|██████████| 334/334 [00:23<00:00, 14.49it/s]\n"
     ]
    },
    {
     "name": "stdout",
     "output_type": "stream",
     "text": [
      "Epochs 109: source train acc: 0.939267; source test acc: 0.972600; target train acc: 0.774124; target test acc: 0.820672\n",
      "Epochs 109: source train acc: 0.939267; source test acc: 0.972600; target train acc: 0.774124; target test acc: 0.820672\n",
      "Epochs 109: source train acc: 0.939267; source test acc: 0.972600; target train acc: 0.774124; target test acc: 0.820672\n",
      "Epochs 109: source train acc: 0.939267; source test acc: 0.972600; target train acc: 0.774124; target test acc: 0.820672\n",
      "Epochs 109: source train acc: 0.939267; source test acc: 0.972600; target train acc: 0.774124; target test acc: 0.820672\n",
      "Epochs 109: source train acc: 0.939267; source test acc: 0.972600; target train acc: 0.774124; target test acc: 0.820672\n"
     ]
    },
    {
     "name": "stderr",
     "output_type": "stream",
     "text": [
      "100%|██████████| 150/150 [00:08<00:00, 16.95it/s]\n",
      "100%|██████████| 184/184 [00:13<00:00, 13.34it/s]\n",
      "100%|██████████| 334/334 [00:23<00:00, 14.44it/s]\n"
     ]
    },
    {
     "name": "stdout",
     "output_type": "stream",
     "text": [
      "Epochs 110: source train acc: 0.938517; source test acc: 0.964600; target train acc: 0.772936; target test acc: 0.735438\n",
      "Epochs 110: source train acc: 0.938517; source test acc: 0.964600; target train acc: 0.772936; target test acc: 0.735438\n",
      "Epochs 110: source train acc: 0.938517; source test acc: 0.964600; target train acc: 0.772936; target test acc: 0.735438\n",
      "Epochs 110: source train acc: 0.938517; source test acc: 0.964600; target train acc: 0.772936; target test acc: 0.735438\n",
      "Epochs 110: source train acc: 0.938517; source test acc: 0.964600; target train acc: 0.772936; target test acc: 0.735438\n",
      "Epochs 110: source train acc: 0.938517; source test acc: 0.964600; target train acc: 0.772936; target test acc: 0.735438\n"
     ]
    },
    {
     "name": "stderr",
     "output_type": "stream",
     "text": [
      "100%|██████████| 150/150 [00:08<00:00, 17.29it/s]\n",
      "100%|██████████| 184/184 [00:13<00:00, 13.36it/s]\n",
      "100%|██████████| 334/334 [00:23<00:00, 14.40it/s]\n"
     ]
    },
    {
     "name": "stdout",
     "output_type": "stream",
     "text": [
      "Epochs 111: source train acc: 0.938100; source test acc: 0.973900; target train acc: 0.770766; target test acc: 0.824372\n",
      "Epochs 111: source train acc: 0.938100; source test acc: 0.973900; target train acc: 0.770766; target test acc: 0.824372\n",
      "Epochs 111: source train acc: 0.938100; source test acc: 0.973900; target train acc: 0.770766; target test acc: 0.824372\n",
      "Epochs 111: source train acc: 0.938100; source test acc: 0.973900; target train acc: 0.770766; target test acc: 0.824372\n",
      "Epochs 111: source train acc: 0.938100; source test acc: 0.973900; target train acc: 0.770766; target test acc: 0.824372\n",
      "Epochs 111: source train acc: 0.938100; source test acc: 0.973900; target train acc: 0.770766; target test acc: 0.824372\n"
     ]
    },
    {
     "name": "stderr",
     "output_type": "stream",
     "text": [
      "100%|██████████| 150/150 [00:08<00:00, 17.11it/s]\n",
      "100%|██████████| 184/184 [00:13<00:00, 13.27it/s]\n",
      "100%|██████████| 334/334 [00:23<00:00, 14.42it/s]\n"
     ]
    },
    {
     "name": "stdout",
     "output_type": "stream",
     "text": [
      "Epochs 112: source train acc: 0.939167; source test acc: 0.974500; target train acc: 0.773837; target test acc: 0.851823\n",
      "Epochs 112: source train acc: 0.939167; source test acc: 0.974500; target train acc: 0.773837; target test acc: 0.851823\n",
      "Epochs 112: source train acc: 0.939167; source test acc: 0.974500; target train acc: 0.773837; target test acc: 0.851823\n",
      "Epochs 112: source train acc: 0.939167; source test acc: 0.974500; target train acc: 0.773837; target test acc: 0.851823\n",
      "Epochs 112: source train acc: 0.939167; source test acc: 0.974500; target train acc: 0.773837; target test acc: 0.851823\n",
      "Epochs 112: source train acc: 0.939167; source test acc: 0.974500; target train acc: 0.773837; target test acc: 0.851823\n"
     ]
    },
    {
     "name": "stderr",
     "output_type": "stream",
     "text": [
      "100%|██████████| 150/150 [00:08<00:00, 16.85it/s]\n",
      "100%|██████████| 184/184 [00:13<00:00, 13.38it/s]\n",
      "100%|██████████| 334/334 [00:23<00:00, 14.47it/s]\n"
     ]
    },
    {
     "name": "stdout",
     "output_type": "stream",
     "text": [
      "Epochs 113: source train acc: 0.939533; source test acc: 0.974600; target train acc: 0.772773; target test acc: 0.836220\n",
      "Epochs 113: source train acc: 0.939533; source test acc: 0.974600; target train acc: 0.772773; target test acc: 0.836220\n",
      "Epochs 113: source train acc: 0.939533; source test acc: 0.974600; target train acc: 0.772773; target test acc: 0.836220\n",
      "Epochs 113: source train acc: 0.939533; source test acc: 0.974600; target train acc: 0.772773; target test acc: 0.836220\n",
      "Epochs 113: source train acc: 0.939533; source test acc: 0.974600; target train acc: 0.772773; target test acc: 0.836220\n",
      "Epochs 113: source train acc: 0.939533; source test acc: 0.974600; target train acc: 0.772773; target test acc: 0.836220\n"
     ]
    },
    {
     "name": "stderr",
     "output_type": "stream",
     "text": [
      "100%|██████████| 150/150 [00:08<00:00, 17.10it/s]\n",
      "100%|██████████| 184/184 [00:13<00:00, 13.40it/s]\n",
      "100%|██████████| 334/334 [00:23<00:00, 14.34it/s]\n"
     ]
    },
    {
     "name": "stdout",
     "output_type": "stream",
     "text": [
      "Epochs 114: source train acc: 0.939117; source test acc: 0.970600; target train acc: 0.772131; target test acc: 0.809807\n",
      "Epochs 114: source train acc: 0.939117; source test acc: 0.970600; target train acc: 0.772131; target test acc: 0.809807\n",
      "Epochs 114: source train acc: 0.939117; source test acc: 0.970600; target train acc: 0.772131; target test acc: 0.809807\n",
      "Epochs 114: source train acc: 0.939117; source test acc: 0.970600; target train acc: 0.772131; target test acc: 0.809807\n",
      "Epochs 114: source train acc: 0.939117; source test acc: 0.970600; target train acc: 0.772131; target test acc: 0.809807\n",
      "Epochs 114: source train acc: 0.939117; source test acc: 0.970600; target train acc: 0.772131; target test acc: 0.809807\n"
     ]
    },
    {
     "name": "stderr",
     "output_type": "stream",
     "text": [
      "100%|██████████| 150/150 [00:08<00:00, 17.19it/s]\n",
      "100%|██████████| 184/184 [00:13<00:00, 13.17it/s]\n",
      "100%|██████████| 334/334 [00:23<00:00, 14.45it/s]\n"
     ]
    },
    {
     "name": "stdout",
     "output_type": "stream",
     "text": [
      "Epochs 115: source train acc: 0.938933; source test acc: 0.974300; target train acc: 0.773469; target test acc: 0.823990\n",
      "Epochs 115: source train acc: 0.938933; source test acc: 0.974300; target train acc: 0.773469; target test acc: 0.823990\n",
      "Epochs 115: source train acc: 0.938933; source test acc: 0.974300; target train acc: 0.773469; target test acc: 0.823990\n",
      "Epochs 115: source train acc: 0.938933; source test acc: 0.974300; target train acc: 0.773469; target test acc: 0.823990\n",
      "Epochs 115: source train acc: 0.938933; source test acc: 0.974300; target train acc: 0.773469; target test acc: 0.823990\n",
      "Epochs 115: source train acc: 0.938933; source test acc: 0.974300; target train acc: 0.773469; target test acc: 0.823990\n"
     ]
    },
    {
     "name": "stderr",
     "output_type": "stream",
     "text": [
      "100%|██████████| 150/150 [00:08<00:00, 17.09it/s]\n",
      "100%|██████████| 184/184 [00:13<00:00, 13.17it/s]\n",
      "100%|██████████| 334/334 [00:23<00:00, 14.52it/s]\n"
     ]
    },
    {
     "name": "stdout",
     "output_type": "stream",
     "text": [
      "Epochs 116: source train acc: 0.939683; source test acc: 0.973600; target train acc: 0.772581; target test acc: 0.843578\n",
      "Epochs 116: source train acc: 0.939683; source test acc: 0.973600; target train acc: 0.772581; target test acc: 0.843578\n",
      "Epochs 116: source train acc: 0.939683; source test acc: 0.973600; target train acc: 0.772581; target test acc: 0.843578\n",
      "Epochs 116: source train acc: 0.939683; source test acc: 0.973600; target train acc: 0.772581; target test acc: 0.843578\n",
      "Epochs 116: source train acc: 0.939683; source test acc: 0.973600; target train acc: 0.772581; target test acc: 0.843578\n",
      "Epochs 116: source train acc: 0.939683; source test acc: 0.973600; target train acc: 0.772581; target test acc: 0.843578\n"
     ]
    },
    {
     "name": "stderr",
     "output_type": "stream",
     "text": [
      "100%|██████████| 150/150 [00:08<00:00, 17.00it/s]\n",
      "100%|██████████| 184/184 [00:13<00:00, 13.47it/s]\n",
      "100%|██████████| 334/334 [00:23<00:00, 14.28it/s]\n"
     ]
    },
    {
     "name": "stdout",
     "output_type": "stream",
     "text": [
      "Epochs 117: source train acc: 0.940983; source test acc: 0.966100; target train acc: 0.772445; target test acc: 0.607082\n",
      "Epochs 117: source train acc: 0.940983; source test acc: 0.966100; target train acc: 0.772445; target test acc: 0.607082\n",
      "Epochs 117: source train acc: 0.940983; source test acc: 0.966100; target train acc: 0.772445; target test acc: 0.607082\n",
      "Epochs 117: source train acc: 0.940983; source test acc: 0.966100; target train acc: 0.772445; target test acc: 0.607082\n",
      "Epochs 117: source train acc: 0.940983; source test acc: 0.966100; target train acc: 0.772445; target test acc: 0.607082\n",
      "Epochs 117: source train acc: 0.940983; source test acc: 0.966100; target train acc: 0.772445; target test acc: 0.607082\n"
     ]
    },
    {
     "name": "stderr",
     "output_type": "stream",
     "text": [
      "100%|██████████| 150/150 [00:08<00:00, 17.36it/s]\n",
      "100%|██████████| 184/184 [00:14<00:00, 13.10it/s]\n",
      "100%|██████████| 334/334 [00:22<00:00, 14.58it/s]\n"
     ]
    },
    {
     "name": "stdout",
     "output_type": "stream",
     "text": [
      "Epochs 118: source train acc: 0.936233; source test acc: 0.974300; target train acc: 0.766084; target test acc: 0.849134\n",
      "Epochs 118: source train acc: 0.936233; source test acc: 0.974300; target train acc: 0.766084; target test acc: 0.849134\n",
      "Epochs 118: source train acc: 0.936233; source test acc: 0.974300; target train acc: 0.766084; target test acc: 0.849134\n",
      "Epochs 118: source train acc: 0.936233; source test acc: 0.974300; target train acc: 0.766084; target test acc: 0.849134\n",
      "Epochs 118: source train acc: 0.936233; source test acc: 0.974300; target train acc: 0.766084; target test acc: 0.849134\n",
      "Epochs 118: source train acc: 0.936233; source test acc: 0.974300; target train acc: 0.766084; target test acc: 0.849134\n"
     ]
    },
    {
     "name": "stderr",
     "output_type": "stream",
     "text": [
      "100%|██████████| 150/150 [00:08<00:00, 17.07it/s]\n",
      "100%|██████████| 184/184 [00:13<00:00, 13.33it/s]\n",
      "100%|██████████| 334/334 [00:22<00:00, 14.52it/s]\n"
     ]
    },
    {
     "name": "stdout",
     "output_type": "stream",
     "text": [
      "Epochs 119: source train acc: 0.940317; source test acc: 0.971400; target train acc: 0.771926; target test acc: 0.810530\n",
      "Epochs 119: source train acc: 0.940317; source test acc: 0.971400; target train acc: 0.771926; target test acc: 0.810530\n",
      "Epochs 119: source train acc: 0.940317; source test acc: 0.971400; target train acc: 0.771926; target test acc: 0.810530\n",
      "Epochs 119: source train acc: 0.940317; source test acc: 0.971400; target train acc: 0.771926; target test acc: 0.810530\n",
      "Epochs 119: source train acc: 0.940317; source test acc: 0.971400; target train acc: 0.771926; target test acc: 0.810530\n",
      "Epochs 119: source train acc: 0.940317; source test acc: 0.971400; target train acc: 0.771926; target test acc: 0.810530\n"
     ]
    },
    {
     "name": "stderr",
     "output_type": "stream",
     "text": [
      "100%|██████████| 150/150 [00:08<00:00, 16.87it/s]\n",
      "100%|██████████| 184/184 [00:13<00:00, 13.36it/s]\n",
      "100%|██████████| 334/334 [00:23<00:00, 14.27it/s]\n"
     ]
    },
    {
     "name": "stdout",
     "output_type": "stream",
     "text": [
      "Epochs 120: source train acc: 0.939817; source test acc: 0.971700; target train acc: 0.773482; target test acc: 0.840398\n",
      "Epochs 120: source train acc: 0.939817; source test acc: 0.971700; target train acc: 0.773482; target test acc: 0.840398\n",
      "Epochs 120: source train acc: 0.939817; source test acc: 0.971700; target train acc: 0.773482; target test acc: 0.840398\n",
      "Epochs 120: source train acc: 0.939817; source test acc: 0.971700; target train acc: 0.773482; target test acc: 0.840398\n",
      "Epochs 120: source train acc: 0.939817; source test acc: 0.971700; target train acc: 0.773482; target test acc: 0.840398\n",
      "Epochs 120: source train acc: 0.939817; source test acc: 0.971700; target train acc: 0.773482; target test acc: 0.840398\n"
     ]
    },
    {
     "name": "stderr",
     "output_type": "stream",
     "text": [
      "100%|██████████| 150/150 [00:08<00:00, 17.29it/s]\n",
      "100%|██████████| 184/184 [00:13<00:00, 13.22it/s]\n",
      "100%|██████████| 334/334 [00:23<00:00, 14.42it/s]\n"
     ]
    },
    {
     "name": "stdout",
     "output_type": "stream",
     "text": [
      "Epochs 121: source train acc: 0.939850; source test acc: 0.974100; target train acc: 0.772773; target test acc: 0.843196\n",
      "Epochs 121: source train acc: 0.939850; source test acc: 0.974100; target train acc: 0.772773; target test acc: 0.843196\n",
      "Epochs 121: source train acc: 0.939850; source test acc: 0.974100; target train acc: 0.772773; target test acc: 0.843196\n",
      "Epochs 121: source train acc: 0.939850; source test acc: 0.974100; target train acc: 0.772773; target test acc: 0.843196\n",
      "Epochs 121: source train acc: 0.939850; source test acc: 0.974100; target train acc: 0.772773; target test acc: 0.843196\n",
      "Epochs 121: source train acc: 0.939850; source test acc: 0.974100; target train acc: 0.772773; target test acc: 0.843196\n"
     ]
    },
    {
     "name": "stderr",
     "output_type": "stream",
     "text": [
      "100%|██████████| 150/150 [00:08<00:00, 16.91it/s]\n",
      "100%|██████████| 184/184 [00:13<00:00, 13.31it/s]\n",
      "100%|██████████| 334/334 [00:23<00:00, 14.48it/s]\n"
     ]
    },
    {
     "name": "stdout",
     "output_type": "stream",
     "text": [
      "Epochs 122: source train acc: 0.939583; source test acc: 0.974400; target train acc: 0.771134; target test acc: 0.852779\n",
      "Epochs 122: source train acc: 0.939583; source test acc: 0.974400; target train acc: 0.771134; target test acc: 0.852779\n",
      "Epochs 122: source train acc: 0.939583; source test acc: 0.974400; target train acc: 0.771134; target test acc: 0.852779\n",
      "Epochs 122: source train acc: 0.939583; source test acc: 0.974400; target train acc: 0.771134; target test acc: 0.852779\n",
      "Epochs 122: source train acc: 0.939583; source test acc: 0.974400; target train acc: 0.771134; target test acc: 0.852779\n",
      "Epochs 122: source train acc: 0.939583; source test acc: 0.974400; target train acc: 0.771134; target test acc: 0.852779\n"
     ]
    },
    {
     "name": "stderr",
     "output_type": "stream",
     "text": [
      "100%|██████████| 150/150 [00:08<00:00, 16.89it/s]\n",
      "100%|██████████| 184/184 [00:13<00:00, 13.39it/s]\n",
      "100%|██████████| 334/334 [00:23<00:00, 14.41it/s]\n"
     ]
    },
    {
     "name": "stdout",
     "output_type": "stream",
     "text": [
      "Epochs 123: source train acc: 0.941017; source test acc: 0.975600; target train acc: 0.773250; target test acc: 0.844493\n",
      "Epochs 123: source train acc: 0.941017; source test acc: 0.975600; target train acc: 0.773250; target test acc: 0.844493\n",
      "Epochs 123: source train acc: 0.941017; source test acc: 0.975600; target train acc: 0.773250; target test acc: 0.844493\n",
      "Epochs 123: source train acc: 0.941017; source test acc: 0.975600; target train acc: 0.773250; target test acc: 0.844493\n",
      "Epochs 123: source train acc: 0.941017; source test acc: 0.975600; target train acc: 0.773250; target test acc: 0.844493\n",
      "Epochs 123: source train acc: 0.941017; source test acc: 0.975600; target train acc: 0.773250; target test acc: 0.844493\n"
     ]
    },
    {
     "name": "stderr",
     "output_type": "stream",
     "text": [
      "100%|██████████| 150/150 [00:08<00:00, 17.42it/s]\n",
      "100%|██████████| 184/184 [00:13<00:00, 13.37it/s]\n",
      "100%|██████████| 334/334 [00:23<00:00, 14.44it/s]\n"
     ]
    },
    {
     "name": "stdout",
     "output_type": "stream",
     "text": [
      "Epochs 124: source train acc: 0.938717; source test acc: 0.974000; target train acc: 0.772322; target test acc: 0.842991\n",
      "Epochs 124: source train acc: 0.938717; source test acc: 0.974000; target train acc: 0.772322; target test acc: 0.842991\n",
      "Epochs 124: source train acc: 0.938717; source test acc: 0.974000; target train acc: 0.772322; target test acc: 0.842991\n",
      "Epochs 124: source train acc: 0.938717; source test acc: 0.974000; target train acc: 0.772322; target test acc: 0.842991\n",
      "Epochs 124: source train acc: 0.938717; source test acc: 0.974000; target train acc: 0.772322; target test acc: 0.842991\n",
      "Epochs 124: source train acc: 0.938717; source test acc: 0.974000; target train acc: 0.772322; target test acc: 0.842991\n"
     ]
    },
    {
     "name": "stderr",
     "output_type": "stream",
     "text": [
      "100%|██████████| 150/150 [00:08<00:00, 17.37it/s]\n",
      "100%|██████████| 184/184 [00:13<00:00, 13.31it/s]\n",
      "100%|██████████| 334/334 [00:23<00:00, 14.47it/s]\n"
     ]
    },
    {
     "name": "stdout",
     "output_type": "stream",
     "text": [
      "Epochs 125: source train acc: 0.940267; source test acc: 0.974000; target train acc: 0.773209; target test acc: 0.844493\n",
      "Epochs 125: source train acc: 0.940267; source test acc: 0.974000; target train acc: 0.773209; target test acc: 0.844493\n",
      "Epochs 125: source train acc: 0.940267; source test acc: 0.974000; target train acc: 0.773209; target test acc: 0.844493\n",
      "Epochs 125: source train acc: 0.940267; source test acc: 0.974000; target train acc: 0.773209; target test acc: 0.844493\n",
      "Epochs 125: source train acc: 0.940267; source test acc: 0.974000; target train acc: 0.773209; target test acc: 0.844493\n",
      "Epochs 125: source train acc: 0.940267; source test acc: 0.974000; target train acc: 0.773209; target test acc: 0.844493\n"
     ]
    },
    {
     "name": "stderr",
     "output_type": "stream",
     "text": [
      "100%|██████████| 150/150 [00:08<00:00, 16.88it/s]\n",
      "100%|██████████| 184/184 [00:13<00:00, 13.34it/s]\n",
      "100%|██████████| 334/334 [00:23<00:00, 14.52it/s]\n"
     ]
    },
    {
     "name": "stdout",
     "output_type": "stream",
     "text": [
      "Epochs 126: source train acc: 0.940683; source test acc: 0.968500; target train acc: 0.774643; target test acc: 0.798818\n",
      "Epochs 126: source train acc: 0.940683; source test acc: 0.968500; target train acc: 0.774643; target test acc: 0.798818\n",
      "Epochs 126: source train acc: 0.940683; source test acc: 0.968500; target train acc: 0.774643; target test acc: 0.798818\n",
      "Epochs 126: source train acc: 0.940683; source test acc: 0.968500; target train acc: 0.774643; target test acc: 0.798818\n",
      "Epochs 126: source train acc: 0.940683; source test acc: 0.968500; target train acc: 0.774643; target test acc: 0.798818\n",
      "Epochs 126: source train acc: 0.940683; source test acc: 0.968500; target train acc: 0.774643; target test acc: 0.798818\n"
     ]
    },
    {
     "name": "stderr",
     "output_type": "stream",
     "text": [
      "100%|██████████| 150/150 [00:08<00:00, 17.22it/s]\n",
      "100%|██████████| 184/184 [00:13<00:00, 13.53it/s]\n",
      "100%|██████████| 334/334 [00:23<00:00, 14.32it/s]\n"
     ]
    },
    {
     "name": "stdout",
     "output_type": "stream",
     "text": [
      "Epochs 127: source train acc: 0.939133; source test acc: 0.970300; target train acc: 0.774097; target test acc: 0.669629\n",
      "Epochs 127: source train acc: 0.939133; source test acc: 0.970300; target train acc: 0.774097; target test acc: 0.669629\n",
      "Epochs 127: source train acc: 0.939133; source test acc: 0.970300; target train acc: 0.774097; target test acc: 0.669629\n",
      "Epochs 127: source train acc: 0.939133; source test acc: 0.970300; target train acc: 0.774097; target test acc: 0.669629\n",
      "Epochs 127: source train acc: 0.939133; source test acc: 0.970300; target train acc: 0.774097; target test acc: 0.669629\n",
      "Epochs 127: source train acc: 0.939133; source test acc: 0.970300; target train acc: 0.774097; target test acc: 0.669629\n"
     ]
    },
    {
     "name": "stderr",
     "output_type": "stream",
     "text": [
      "100%|██████████| 150/150 [00:08<00:00, 17.20it/s]\n",
      "100%|██████████| 184/184 [00:13<00:00, 13.30it/s]\n",
      "100%|██████████| 334/334 [00:23<00:00, 14.44it/s]\n"
     ]
    },
    {
     "name": "stdout",
     "output_type": "stream",
     "text": [
      "Epochs 128: source train acc: 0.938667; source test acc: 0.969100; target train acc: 0.770329; target test acc: 0.746632\n",
      "Epochs 128: source train acc: 0.938667; source test acc: 0.969100; target train acc: 0.770329; target test acc: 0.746632\n",
      "Epochs 128: source train acc: 0.938667; source test acc: 0.969100; target train acc: 0.770329; target test acc: 0.746632\n",
      "Epochs 128: source train acc: 0.938667; source test acc: 0.969100; target train acc: 0.770329; target test acc: 0.746632\n",
      "Epochs 128: source train acc: 0.938667; source test acc: 0.969100; target train acc: 0.770329; target test acc: 0.746632\n",
      "Epochs 128: source train acc: 0.938667; source test acc: 0.969100; target train acc: 0.770329; target test acc: 0.746632\n"
     ]
    },
    {
     "name": "stderr",
     "output_type": "stream",
     "text": [
      "100%|██████████| 150/150 [00:08<00:00, 16.91it/s]\n",
      "100%|██████████| 184/184 [00:13<00:00, 13.33it/s]\n",
      "100%|██████████| 334/334 [00:23<00:00, 14.51it/s]\n"
     ]
    },
    {
     "name": "stdout",
     "output_type": "stream",
     "text": [
      "Epochs 129: source train acc: 0.936767; source test acc: 0.974800; target train acc: 0.773742; target test acc: 0.830624\n",
      "Epochs 129: source train acc: 0.936767; source test acc: 0.974800; target train acc: 0.773742; target test acc: 0.830624\n",
      "Epochs 129: source train acc: 0.936767; source test acc: 0.974800; target train acc: 0.773742; target test acc: 0.830624\n",
      "Epochs 129: source train acc: 0.936767; source test acc: 0.974800; target train acc: 0.773742; target test acc: 0.830624\n",
      "Epochs 129: source train acc: 0.936767; source test acc: 0.974800; target train acc: 0.773742; target test acc: 0.830624\n",
      "Epochs 129: source train acc: 0.936767; source test acc: 0.974800; target train acc: 0.773742; target test acc: 0.830624\n"
     ]
    },
    {
     "name": "stderr",
     "output_type": "stream",
     "text": [
      "100%|██████████| 150/150 [00:08<00:00, 17.15it/s]\n",
      "100%|██████████| 184/184 [00:13<00:00, 13.48it/s]\n",
      "100%|██████████| 334/334 [00:23<00:00, 14.37it/s]\n"
     ]
    },
    {
     "name": "stdout",
     "output_type": "stream",
     "text": [
      "Epochs 130: source train acc: 0.939833; source test acc: 0.975200; target train acc: 0.776199; target test acc: 0.847837\n",
      "Epochs 130: source train acc: 0.939833; source test acc: 0.975200; target train acc: 0.776199; target test acc: 0.847837\n",
      "Epochs 130: source train acc: 0.939833; source test acc: 0.975200; target train acc: 0.776199; target test acc: 0.847837\n",
      "Epochs 130: source train acc: 0.939833; source test acc: 0.975200; target train acc: 0.776199; target test acc: 0.847837\n",
      "Epochs 130: source train acc: 0.939833; source test acc: 0.975200; target train acc: 0.776199; target test acc: 0.847837\n",
      "Epochs 130: source train acc: 0.939833; source test acc: 0.975200; target train acc: 0.776199; target test acc: 0.847837\n"
     ]
    },
    {
     "name": "stderr",
     "output_type": "stream",
     "text": [
      "100%|██████████| 150/150 [00:08<00:00, 17.19it/s]\n",
      "100%|██████████| 184/184 [00:13<00:00, 13.17it/s]\n",
      "100%|██████████| 334/334 [00:23<00:00, 14.39it/s]\n"
     ]
    },
    {
     "name": "stdout",
     "output_type": "stream",
     "text": [
      "Epochs 131: source train acc: 0.938933; source test acc: 0.971400; target train acc: 0.774970; target test acc: 0.852615\n",
      "Epochs 131: source train acc: 0.938933; source test acc: 0.971400; target train acc: 0.774970; target test acc: 0.852615\n",
      "Epochs 131: source train acc: 0.938933; source test acc: 0.971400; target train acc: 0.774970; target test acc: 0.852615\n",
      "Epochs 131: source train acc: 0.938933; source test acc: 0.971400; target train acc: 0.774970; target test acc: 0.852615\n",
      "Epochs 131: source train acc: 0.938933; source test acc: 0.971400; target train acc: 0.774970; target test acc: 0.852615\n",
      "Epochs 131: source train acc: 0.938933; source test acc: 0.971400; target train acc: 0.774970; target test acc: 0.852615\n"
     ]
    },
    {
     "name": "stderr",
     "output_type": "stream",
     "text": [
      "100%|██████████| 150/150 [00:08<00:00, 17.05it/s]\n",
      "100%|██████████| 184/184 [00:13<00:00, 13.23it/s]\n",
      "100%|██████████| 334/334 [00:23<00:00, 14.46it/s]\n"
     ]
    },
    {
     "name": "stdout",
     "output_type": "stream",
     "text": [
      "Epochs 132: source train acc: 0.939433; source test acc: 0.971000; target train acc: 0.774179; target test acc: 0.773906\n",
      "Epochs 132: source train acc: 0.939433; source test acc: 0.971000; target train acc: 0.774179; target test acc: 0.773906\n",
      "Epochs 132: source train acc: 0.939433; source test acc: 0.971000; target train acc: 0.774179; target test acc: 0.773906\n",
      "Epochs 132: source train acc: 0.939433; source test acc: 0.971000; target train acc: 0.774179; target test acc: 0.773906\n",
      "Epochs 132: source train acc: 0.939433; source test acc: 0.971000; target train acc: 0.774179; target test acc: 0.773906\n",
      "Epochs 132: source train acc: 0.939433; source test acc: 0.971000; target train acc: 0.774179; target test acc: 0.773906\n"
     ]
    },
    {
     "name": "stderr",
     "output_type": "stream",
     "text": [
      "100%|██████████| 150/150 [00:08<00:00, 16.92it/s]\n",
      "100%|██████████| 184/184 [00:13<00:00, 13.47it/s]\n",
      "100%|██████████| 334/334 [00:23<00:00, 14.40it/s]\n"
     ]
    },
    {
     "name": "stdout",
     "output_type": "stream",
     "text": [
      "Epochs 133: source train acc: 0.939200; source test acc: 0.975300; target train acc: 0.774574; target test acc: 0.859222\n",
      "Epochs 133: source train acc: 0.939200; source test acc: 0.975300; target train acc: 0.774574; target test acc: 0.859222\n",
      "Epochs 133: source train acc: 0.939200; source test acc: 0.975300; target train acc: 0.774574; target test acc: 0.859222\n",
      "Epochs 133: source train acc: 0.939200; source test acc: 0.975300; target train acc: 0.774574; target test acc: 0.859222\n",
      "Epochs 133: source train acc: 0.939200; source test acc: 0.975300; target train acc: 0.774574; target test acc: 0.859222\n",
      "Epochs 133: source train acc: 0.939200; source test acc: 0.975300; target train acc: 0.774574; target test acc: 0.859222\n"
     ]
    },
    {
     "name": "stderr",
     "output_type": "stream",
     "text": [
      "100%|██████████| 150/150 [00:08<00:00, 17.27it/s]\n",
      "100%|██████████| 184/184 [00:13<00:00, 13.23it/s]\n",
      "100%|██████████| 334/334 [00:23<00:00, 14.38it/s]\n"
     ]
    },
    {
     "name": "stdout",
     "output_type": "stream",
     "text": [
      "Epochs 134: source train acc: 0.941267; source test acc: 0.974800; target train acc: 0.774356; target test acc: 0.840165\n",
      "Epochs 134: source train acc: 0.941267; source test acc: 0.974800; target train acc: 0.774356; target test acc: 0.840165\n",
      "Epochs 134: source train acc: 0.941267; source test acc: 0.974800; target train acc: 0.774356; target test acc: 0.840165\n",
      "Epochs 134: source train acc: 0.941267; source test acc: 0.974800; target train acc: 0.774356; target test acc: 0.840165\n",
      "Epochs 134: source train acc: 0.941267; source test acc: 0.974800; target train acc: 0.774356; target test acc: 0.840165\n",
      "Epochs 134: source train acc: 0.941267; source test acc: 0.974800; target train acc: 0.774356; target test acc: 0.840165\n"
     ]
    },
    {
     "name": "stderr",
     "output_type": "stream",
     "text": [
      "100%|██████████| 150/150 [00:08<00:00, 17.22it/s]\n",
      "100%|██████████| 184/184 [00:13<00:00, 13.28it/s]\n",
      "100%|██████████| 334/334 [00:23<00:00, 14.44it/s]\n"
     ]
    },
    {
     "name": "stdout",
     "output_type": "stream",
     "text": [
      "Epochs 135: source train acc: 0.940483; source test acc: 0.973700; target train acc: 0.775912; target test acc: 0.848929\n",
      "Epochs 135: source train acc: 0.940483; source test acc: 0.973700; target train acc: 0.775912; target test acc: 0.848929\n",
      "Epochs 135: source train acc: 0.940483; source test acc: 0.973700; target train acc: 0.775912; target test acc: 0.848929\n",
      "Epochs 135: source train acc: 0.940483; source test acc: 0.973700; target train acc: 0.775912; target test acc: 0.848929\n",
      "Epochs 135: source train acc: 0.940483; source test acc: 0.973700; target train acc: 0.775912; target test acc: 0.848929\n",
      "Epochs 135: source train acc: 0.940483; source test acc: 0.973700; target train acc: 0.775912; target test acc: 0.848929\n"
     ]
    },
    {
     "name": "stderr",
     "output_type": "stream",
     "text": [
      "100%|██████████| 150/150 [00:08<00:00, 16.71it/s]\n",
      "100%|██████████| 184/184 [00:13<00:00, 13.36it/s]\n",
      "100%|██████████| 334/334 [00:23<00:00, 14.49it/s]\n"
     ]
    },
    {
     "name": "stdout",
     "output_type": "stream",
     "text": [
      "Epochs 136: source train acc: 0.940950; source test acc: 0.972400; target train acc: 0.775366; target test acc: 0.756133\n",
      "Epochs 136: source train acc: 0.940950; source test acc: 0.972400; target train acc: 0.775366; target test acc: 0.756133\n",
      "Epochs 136: source train acc: 0.940950; source test acc: 0.972400; target train acc: 0.775366; target test acc: 0.756133\n",
      "Epochs 136: source train acc: 0.940950; source test acc: 0.972400; target train acc: 0.775366; target test acc: 0.756133\n",
      "Epochs 136: source train acc: 0.940950; source test acc: 0.972400; target train acc: 0.775366; target test acc: 0.756133\n",
      "Epochs 136: source train acc: 0.940950; source test acc: 0.972400; target train acc: 0.775366; target test acc: 0.756133\n"
     ]
    },
    {
     "name": "stderr",
     "output_type": "stream",
     "text": [
      "100%|██████████| 150/150 [00:08<00:00, 17.34it/s]\n",
      "100%|██████████| 184/184 [00:13<00:00, 13.23it/s]\n",
      "100%|██████████| 334/334 [00:23<00:00, 14.41it/s]\n"
     ]
    },
    {
     "name": "stdout",
     "output_type": "stream",
     "text": [
      "Epochs 137: source train acc: 0.938350; source test acc: 0.971900; target train acc: 0.773906; target test acc: 0.829736\n",
      "Epochs 137: source train acc: 0.938350; source test acc: 0.971900; target train acc: 0.773906; target test acc: 0.829736\n",
      "Epochs 137: source train acc: 0.938350; source test acc: 0.971900; target train acc: 0.773906; target test acc: 0.829736\n",
      "Epochs 137: source train acc: 0.938350; source test acc: 0.971900; target train acc: 0.773906; target test acc: 0.829736\n",
      "Epochs 137: source train acc: 0.938350; source test acc: 0.971900; target train acc: 0.773906; target test acc: 0.829736\n",
      "Epochs 137: source train acc: 0.938350; source test acc: 0.971900; target train acc: 0.773906; target test acc: 0.829736\n"
     ]
    },
    {
     "name": "stderr",
     "output_type": "stream",
     "text": [
      "100%|██████████| 150/150 [00:08<00:00, 17.45it/s]\n",
      "100%|██████████| 184/184 [00:13<00:00, 13.21it/s]\n",
      "100%|██████████| 334/334 [00:23<00:00, 14.30it/s]\n"
     ]
    },
    {
     "name": "stdout",
     "output_type": "stream",
     "text": [
      "Epochs 138: source train acc: 0.939583; source test acc: 0.970000; target train acc: 0.775789; target test acc: 0.839319\n",
      "Epochs 138: source train acc: 0.939583; source test acc: 0.970000; target train acc: 0.775789; target test acc: 0.839319\n",
      "Epochs 138: source train acc: 0.939583; source test acc: 0.970000; target train acc: 0.775789; target test acc: 0.839319\n",
      "Epochs 138: source train acc: 0.939583; source test acc: 0.970000; target train acc: 0.775789; target test acc: 0.839319\n",
      "Epochs 138: source train acc: 0.939583; source test acc: 0.970000; target train acc: 0.775789; target test acc: 0.839319\n",
      "Epochs 138: source train acc: 0.939583; source test acc: 0.970000; target train acc: 0.775789; target test acc: 0.839319\n"
     ]
    },
    {
     "name": "stderr",
     "output_type": "stream",
     "text": [
      "100%|██████████| 150/150 [00:08<00:00, 16.86it/s]\n",
      "100%|██████████| 184/184 [00:13<00:00, 13.22it/s]\n",
      "100%|██████████| 334/334 [00:23<00:00, 14.47it/s]\n"
     ]
    },
    {
     "name": "stdout",
     "output_type": "stream",
     "text": [
      "Epochs 139: source train acc: 0.938600; source test acc: 0.974200; target train acc: 0.775557; target test acc: 0.853912\n",
      "Epochs 139: source train acc: 0.938600; source test acc: 0.974200; target train acc: 0.775557; target test acc: 0.853912\n",
      "Epochs 139: source train acc: 0.938600; source test acc: 0.974200; target train acc: 0.775557; target test acc: 0.853912\n",
      "Epochs 139: source train acc: 0.938600; source test acc: 0.974200; target train acc: 0.775557; target test acc: 0.853912\n",
      "Epochs 139: source train acc: 0.938600; source test acc: 0.974200; target train acc: 0.775557; target test acc: 0.853912\n",
      "Epochs 139: source train acc: 0.938600; source test acc: 0.974200; target train acc: 0.775557; target test acc: 0.853912\n"
     ]
    },
    {
     "name": "stderr",
     "output_type": "stream",
     "text": [
      "100%|██████████| 150/150 [00:08<00:00, 17.07it/s]\n",
      "100%|██████████| 184/184 [00:13<00:00, 13.36it/s]\n",
      "100%|██████████| 334/334 [00:23<00:00, 14.41it/s]\n"
     ]
    },
    {
     "name": "stdout",
     "output_type": "stream",
     "text": [
      "Epochs 140: source train acc: 0.939667; source test acc: 0.974100; target train acc: 0.774356; target test acc: 0.842568\n",
      "Epochs 140: source train acc: 0.939667; source test acc: 0.974100; target train acc: 0.774356; target test acc: 0.842568\n",
      "Epochs 140: source train acc: 0.939667; source test acc: 0.974100; target train acc: 0.774356; target test acc: 0.842568\n",
      "Epochs 140: source train acc: 0.939667; source test acc: 0.974100; target train acc: 0.774356; target test acc: 0.842568\n",
      "Epochs 140: source train acc: 0.939667; source test acc: 0.974100; target train acc: 0.774356; target test acc: 0.842568\n",
      "Epochs 140: source train acc: 0.939667; source test acc: 0.974100; target train acc: 0.774356; target test acc: 0.842568\n"
     ]
    },
    {
     "name": "stderr",
     "output_type": "stream",
     "text": [
      "100%|██████████| 150/150 [00:08<00:00, 17.15it/s]\n",
      "100%|██████████| 184/184 [00:13<00:00, 13.33it/s]\n",
      "100%|██████████| 334/334 [00:23<00:00, 14.42it/s]\n"
     ]
    },
    {
     "name": "stdout",
     "output_type": "stream",
     "text": [
      "Epochs 141: source train acc: 0.939333; source test acc: 0.975100; target train acc: 0.775666; target test acc: 0.834268\n",
      "Epochs 141: source train acc: 0.939333; source test acc: 0.975100; target train acc: 0.775666; target test acc: 0.834268\n",
      "Epochs 141: source train acc: 0.939333; source test acc: 0.975100; target train acc: 0.775666; target test acc: 0.834268\n",
      "Epochs 141: source train acc: 0.939333; source test acc: 0.975100; target train acc: 0.775666; target test acc: 0.834268\n",
      "Epochs 141: source train acc: 0.939333; source test acc: 0.975100; target train acc: 0.775666; target test acc: 0.834268\n",
      "Epochs 141: source train acc: 0.939333; source test acc: 0.975100; target train acc: 0.775666; target test acc: 0.834268\n"
     ]
    },
    {
     "name": "stderr",
     "output_type": "stream",
     "text": [
      "100%|██████████| 150/150 [00:08<00:00, 16.98it/s]\n",
      "100%|██████████| 184/184 [00:13<00:00, 13.24it/s]\n",
      "100%|██████████| 334/334 [00:22<00:00, 14.59it/s]\n"
     ]
    },
    {
     "name": "stdout",
     "output_type": "stream",
     "text": [
      "Epochs 142: source train acc: 0.941000; source test acc: 0.976700; target train acc: 0.775271; target test acc: 0.857406\n",
      "Epochs 142: source train acc: 0.941000; source test acc: 0.976700; target train acc: 0.775271; target test acc: 0.857406\n",
      "Epochs 142: source train acc: 0.941000; source test acc: 0.976700; target train acc: 0.775271; target test acc: 0.857406\n",
      "Epochs 142: source train acc: 0.941000; source test acc: 0.976700; target train acc: 0.775271; target test acc: 0.857406\n",
      "Epochs 142: source train acc: 0.941000; source test acc: 0.976700; target train acc: 0.775271; target test acc: 0.857406\n",
      "Epochs 142: source train acc: 0.941000; source test acc: 0.976700; target train acc: 0.775271; target test acc: 0.857406\n"
     ]
    },
    {
     "name": "stderr",
     "output_type": "stream",
     "text": [
      "100%|██████████| 150/150 [00:08<00:00, 17.30it/s]\n",
      "100%|██████████| 184/184 [00:13<00:00, 13.28it/s]\n",
      "100%|██████████| 334/334 [00:23<00:00, 14.37it/s]\n"
     ]
    },
    {
     "name": "stdout",
     "output_type": "stream",
     "text": [
      "Epochs 143: source train acc: 0.941400; source test acc: 0.974800; target train acc: 0.774888; target test acc: 0.845953\n",
      "Epochs 143: source train acc: 0.941400; source test acc: 0.974800; target train acc: 0.774888; target test acc: 0.845953\n",
      "Epochs 143: source train acc: 0.941400; source test acc: 0.974800; target train acc: 0.774888; target test acc: 0.845953\n",
      "Epochs 143: source train acc: 0.941400; source test acc: 0.974800; target train acc: 0.774888; target test acc: 0.845953\n",
      "Epochs 143: source train acc: 0.941400; source test acc: 0.974800; target train acc: 0.774888; target test acc: 0.845953\n",
      "Epochs 143: source train acc: 0.941400; source test acc: 0.974800; target train acc: 0.774888; target test acc: 0.845953\n"
     ]
    },
    {
     "name": "stderr",
     "output_type": "stream",
     "text": [
      "100%|██████████| 150/150 [00:08<00:00, 17.18it/s]\n",
      "100%|██████████| 184/184 [00:13<00:00, 13.27it/s]\n",
      "100%|██████████| 334/334 [00:23<00:00, 14.42it/s]\n"
     ]
    },
    {
     "name": "stdout",
     "output_type": "stream",
     "text": [
      "Epochs 144: source train acc: 0.942317; source test acc: 0.974600; target train acc: 0.774069; target test acc: 0.836207\n",
      "Epochs 144: source train acc: 0.942317; source test acc: 0.974600; target train acc: 0.774069; target test acc: 0.836207\n",
      "Epochs 144: source train acc: 0.942317; source test acc: 0.974600; target train acc: 0.774069; target test acc: 0.836207\n",
      "Epochs 144: source train acc: 0.942317; source test acc: 0.974600; target train acc: 0.774069; target test acc: 0.836207\n",
      "Epochs 144: source train acc: 0.942317; source test acc: 0.974600; target train acc: 0.774069; target test acc: 0.836207\n",
      "Epochs 144: source train acc: 0.942317; source test acc: 0.974600; target train acc: 0.774069; target test acc: 0.836207\n"
     ]
    },
    {
     "name": "stderr",
     "output_type": "stream",
     "text": [
      "100%|██████████| 150/150 [00:08<00:00, 16.94it/s]\n",
      "100%|██████████| 184/184 [00:13<00:00, 13.31it/s]\n",
      "100%|██████████| 334/334 [00:22<00:00, 14.55it/s]\n"
     ]
    },
    {
     "name": "stdout",
     "output_type": "stream",
     "text": [
      "Epochs 145: source train acc: 0.940750; source test acc: 0.974800; target train acc: 0.775776; target test acc: 0.847987\n",
      "Epochs 145: source train acc: 0.940750; source test acc: 0.974800; target train acc: 0.775776; target test acc: 0.847987\n",
      "Epochs 145: source train acc: 0.940750; source test acc: 0.974800; target train acc: 0.775776; target test acc: 0.847987\n",
      "Epochs 145: source train acc: 0.940750; source test acc: 0.974800; target train acc: 0.775776; target test acc: 0.847987\n",
      "Epochs 145: source train acc: 0.940750; source test acc: 0.974800; target train acc: 0.775776; target test acc: 0.847987\n",
      "Epochs 145: source train acc: 0.940750; source test acc: 0.974800; target train acc: 0.775776; target test acc: 0.847987\n"
     ]
    },
    {
     "name": "stderr",
     "output_type": "stream",
     "text": [
      "100%|██████████| 150/150 [00:08<00:00, 17.08it/s]\n",
      "100%|██████████| 184/184 [00:13<00:00, 13.31it/s]\n",
      "100%|██████████| 334/334 [00:23<00:00, 14.27it/s]\n"
     ]
    },
    {
     "name": "stdout",
     "output_type": "stream",
     "text": [
      "Epochs 146: source train acc: 0.938467; source test acc: 0.973600; target train acc: 0.775612; target test acc: 0.840725\n",
      "Epochs 146: source train acc: 0.938467; source test acc: 0.973600; target train acc: 0.775612; target test acc: 0.840725\n",
      "Epochs 146: source train acc: 0.938467; source test acc: 0.973600; target train acc: 0.775612; target test acc: 0.840725\n",
      "Epochs 146: source train acc: 0.938467; source test acc: 0.973600; target train acc: 0.775612; target test acc: 0.840725\n",
      "Epochs 146: source train acc: 0.938467; source test acc: 0.973600; target train acc: 0.775612; target test acc: 0.840725\n",
      "Epochs 146: source train acc: 0.938467; source test acc: 0.973600; target train acc: 0.775612; target test acc: 0.840725\n"
     ]
    },
    {
     "name": "stderr",
     "output_type": "stream",
     "text": [
      "100%|██████████| 150/150 [00:08<00:00, 17.14it/s]\n",
      "100%|██████████| 184/184 [00:13<00:00, 13.36it/s]\n",
      "100%|██████████| 334/334 [00:21<00:00, 15.27it/s]\n"
     ]
    },
    {
     "name": "stdout",
     "output_type": "stream",
     "text": [
      "Epochs 147: source train acc: 0.939650; source test acc: 0.975700; target train acc: 0.776376; target test acc: 0.853093\n",
      "Epochs 147: source train acc: 0.939650; source test acc: 0.975700; target train acc: 0.776376; target test acc: 0.853093\n",
      "Epochs 147: source train acc: 0.939650; source test acc: 0.975700; target train acc: 0.776376; target test acc: 0.853093\n",
      "Epochs 147: source train acc: 0.939650; source test acc: 0.975700; target train acc: 0.776376; target test acc: 0.853093\n",
      "Epochs 147: source train acc: 0.939650; source test acc: 0.975700; target train acc: 0.776376; target test acc: 0.853093\n",
      "Epochs 147: source train acc: 0.939650; source test acc: 0.975700; target train acc: 0.776376; target test acc: 0.853093\n"
     ]
    },
    {
     "name": "stderr",
     "output_type": "stream",
     "text": [
      "100%|██████████| 150/150 [00:08<00:00, 18.57it/s]\n",
      "100%|██████████| 184/184 [00:12<00:00, 14.29it/s]\n",
      "100%|██████████| 334/334 [00:21<00:00, 15.61it/s]\n"
     ]
    },
    {
     "name": "stdout",
     "output_type": "stream",
     "text": [
      "Epochs 148: source train acc: 0.942367; source test acc: 0.973300; target train acc: 0.777018; target test acc: 0.847209\n",
      "Epochs 148: source train acc: 0.942367; source test acc: 0.973300; target train acc: 0.777018; target test acc: 0.847209\n",
      "Epochs 148: source train acc: 0.942367; source test acc: 0.973300; target train acc: 0.777018; target test acc: 0.847209\n",
      "Epochs 148: source train acc: 0.942367; source test acc: 0.973300; target train acc: 0.777018; target test acc: 0.847209\n",
      "Epochs 148: source train acc: 0.942367; source test acc: 0.973300; target train acc: 0.777018; target test acc: 0.847209\n",
      "Epochs 148: source train acc: 0.942367; source test acc: 0.973300; target train acc: 0.777018; target test acc: 0.847209\n"
     ]
    },
    {
     "name": "stderr",
     "output_type": "stream",
     "text": [
      "100%|██████████| 150/150 [00:08<00:00, 18.36it/s]\n",
      "100%|██████████| 184/184 [00:12<00:00, 14.36it/s]\n",
      "100%|██████████| 334/334 [00:21<00:00, 15.61it/s]\n"
     ]
    },
    {
     "name": "stdout",
     "output_type": "stream",
     "text": [
      "Epochs 149: source train acc: 0.939933; source test acc: 0.972600; target train acc: 0.775489; target test acc: 0.780417\n",
      "Epochs 149: source train acc: 0.939933; source test acc: 0.972600; target train acc: 0.775489; target test acc: 0.780417\n",
      "Epochs 149: source train acc: 0.939933; source test acc: 0.972600; target train acc: 0.775489; target test acc: 0.780417\n",
      "Epochs 149: source train acc: 0.939933; source test acc: 0.972600; target train acc: 0.775489; target test acc: 0.780417\n",
      "Epochs 149: source train acc: 0.939933; source test acc: 0.972600; target train acc: 0.775489; target test acc: 0.780417\n",
      "Epochs 149: source train acc: 0.939933; source test acc: 0.972600; target train acc: 0.775489; target test acc: 0.780417\n"
     ]
    },
    {
     "name": "stderr",
     "output_type": "stream",
     "text": [
      "100%|██████████| 150/150 [00:08<00:00, 18.49it/s]\n",
      "100%|██████████| 184/184 [00:12<00:00, 14.54it/s]\n",
      "100%|██████████| 334/334 [00:21<00:00, 15.54it/s]\n"
     ]
    },
    {
     "name": "stdout",
     "output_type": "stream",
     "text": [
      "Epochs 150: source train acc: 0.940483; source test acc: 0.973600; target train acc: 0.775202; target test acc: 0.831798\n",
      "Epochs 150: source train acc: 0.940483; source test acc: 0.973600; target train acc: 0.775202; target test acc: 0.831798\n",
      "Epochs 150: source train acc: 0.940483; source test acc: 0.973600; target train acc: 0.775202; target test acc: 0.831798\n",
      "Epochs 150: source train acc: 0.940483; source test acc: 0.973600; target train acc: 0.775202; target test acc: 0.831798\n",
      "Epochs 150: source train acc: 0.940483; source test acc: 0.973600; target train acc: 0.775202; target test acc: 0.831798\n",
      "Epochs 150: source train acc: 0.940483; source test acc: 0.973600; target train acc: 0.775202; target test acc: 0.831798\n"
     ]
    },
    {
     "name": "stderr",
     "output_type": "stream",
     "text": [
      "100%|██████████| 150/150 [00:08<00:00, 18.63it/s]\n",
      "100%|██████████| 184/184 [00:12<00:00, 14.32it/s]\n",
      "100%|██████████| 334/334 [00:21<00:00, 15.67it/s]\n"
     ]
    },
    {
     "name": "stdout",
     "output_type": "stream",
     "text": [
      "Epochs 151: source train acc: 0.941633; source test acc: 0.972600; target train acc: 0.775448; target test acc: 0.823089\n",
      "Epochs 151: source train acc: 0.941633; source test acc: 0.972600; target train acc: 0.775448; target test acc: 0.823089\n",
      "Epochs 151: source train acc: 0.941633; source test acc: 0.972600; target train acc: 0.775448; target test acc: 0.823089\n",
      "Epochs 151: source train acc: 0.941633; source test acc: 0.972600; target train acc: 0.775448; target test acc: 0.823089\n",
      "Epochs 151: source train acc: 0.941633; source test acc: 0.972600; target train acc: 0.775448; target test acc: 0.823089\n",
      "Epochs 151: source train acc: 0.941633; source test acc: 0.972600; target train acc: 0.775448; target test acc: 0.823089\n"
     ]
    },
    {
     "name": "stderr",
     "output_type": "stream",
     "text": [
      "100%|██████████| 150/150 [00:08<00:00, 18.34it/s]\n",
      "100%|██████████| 184/184 [00:12<00:00, 14.28it/s]\n",
      "100%|██████████| 334/334 [00:21<00:00, 15.63it/s]\n"
     ]
    },
    {
     "name": "stdout",
     "output_type": "stream",
     "text": [
      "Epochs 152: source train acc: 0.941267; source test acc: 0.973400; target train acc: 0.772786; target test acc: 0.847059\n",
      "Epochs 152: source train acc: 0.941267; source test acc: 0.973400; target train acc: 0.772786; target test acc: 0.847059\n",
      "Epochs 152: source train acc: 0.941267; source test acc: 0.973400; target train acc: 0.772786; target test acc: 0.847059\n",
      "Epochs 152: source train acc: 0.941267; source test acc: 0.973400; target train acc: 0.772786; target test acc: 0.847059\n",
      "Epochs 152: source train acc: 0.941267; source test acc: 0.973400; target train acc: 0.772786; target test acc: 0.847059\n",
      "Epochs 152: source train acc: 0.941267; source test acc: 0.973400; target train acc: 0.772786; target test acc: 0.847059\n"
     ]
    },
    {
     "name": "stderr",
     "output_type": "stream",
     "text": [
      "100%|██████████| 150/150 [00:08<00:00, 18.32it/s]\n",
      "100%|██████████| 184/184 [00:12<00:00, 14.48it/s]\n",
      "100%|██████████| 334/334 [00:21<00:00, 15.62it/s]\n"
     ]
    },
    {
     "name": "stdout",
     "output_type": "stream",
     "text": [
      "Epochs 153: source train acc: 0.938933; source test acc: 0.974800; target train acc: 0.776827; target test acc: 0.857693\n",
      "Epochs 153: source train acc: 0.938933; source test acc: 0.974800; target train acc: 0.776827; target test acc: 0.857693\n",
      "Epochs 153: source train acc: 0.938933; source test acc: 0.974800; target train acc: 0.776827; target test acc: 0.857693\n",
      "Epochs 153: source train acc: 0.938933; source test acc: 0.974800; target train acc: 0.776827; target test acc: 0.857693\n",
      "Epochs 153: source train acc: 0.938933; source test acc: 0.974800; target train acc: 0.776827; target test acc: 0.857693\n",
      "Epochs 153: source train acc: 0.938933; source test acc: 0.974800; target train acc: 0.776827; target test acc: 0.857693\n"
     ]
    },
    {
     "name": "stderr",
     "output_type": "stream",
     "text": [
      "100%|██████████| 150/150 [00:07<00:00, 18.77it/s]\n",
      "100%|██████████| 184/184 [00:12<00:00, 14.35it/s]\n",
      "100%|██████████| 334/334 [00:21<00:00, 15.69it/s]\n"
     ]
    },
    {
     "name": "stdout",
     "output_type": "stream",
     "text": [
      "Epochs 154: source train acc: 0.940567; source test acc: 0.973500; target train acc: 0.777455; target test acc: 0.846745\n",
      "Epochs 154: source train acc: 0.940567; source test acc: 0.973500; target train acc: 0.777455; target test acc: 0.846745\n",
      "Epochs 154: source train acc: 0.940567; source test acc: 0.973500; target train acc: 0.777455; target test acc: 0.846745\n",
      "Epochs 154: source train acc: 0.940567; source test acc: 0.973500; target train acc: 0.777455; target test acc: 0.846745\n",
      "Epochs 154: source train acc: 0.940567; source test acc: 0.973500; target train acc: 0.777455; target test acc: 0.846745\n",
      "Epochs 154: source train acc: 0.940567; source test acc: 0.973500; target train acc: 0.777455; target test acc: 0.846745\n"
     ]
    },
    {
     "name": "stderr",
     "output_type": "stream",
     "text": [
      "100%|██████████| 150/150 [00:08<00:00, 18.28it/s]\n",
      "100%|██████████| 184/184 [00:12<00:00, 14.40it/s]\n",
      "100%|██████████| 334/334 [00:21<00:00, 15.68it/s]\n"
     ]
    },
    {
     "name": "stdout",
     "output_type": "stream",
     "text": [
      "Epochs 155: source train acc: 0.941733; source test acc: 0.974700; target train acc: 0.776663; target test acc: 0.841531\n",
      "Epochs 155: source train acc: 0.941733; source test acc: 0.974700; target train acc: 0.776663; target test acc: 0.841531\n",
      "Epochs 155: source train acc: 0.941733; source test acc: 0.974700; target train acc: 0.776663; target test acc: 0.841531\n",
      "Epochs 155: source train acc: 0.941733; source test acc: 0.974700; target train acc: 0.776663; target test acc: 0.841531\n",
      "Epochs 155: source train acc: 0.941733; source test acc: 0.974700; target train acc: 0.776663; target test acc: 0.841531\n",
      "Epochs 155: source train acc: 0.941733; source test acc: 0.974700; target train acc: 0.776663; target test acc: 0.841531\n"
     ]
    },
    {
     "name": "stderr",
     "output_type": "stream",
     "text": [
      "100%|██████████| 150/150 [00:08<00:00, 18.36it/s]\n",
      "100%|██████████| 184/184 [00:12<00:00, 14.51it/s]\n",
      "100%|██████████| 334/334 [00:21<00:00, 15.54it/s]\n"
     ]
    },
    {
     "name": "stdout",
     "output_type": "stream",
     "text": [
      "Epochs 156: source train acc: 0.942317; source test acc: 0.974700; target train acc: 0.775284; target test acc: 0.822406\n",
      "Epochs 156: source train acc: 0.942317; source test acc: 0.974700; target train acc: 0.775284; target test acc: 0.822406\n",
      "Epochs 156: source train acc: 0.942317; source test acc: 0.974700; target train acc: 0.775284; target test acc: 0.822406\n",
      "Epochs 156: source train acc: 0.942317; source test acc: 0.974700; target train acc: 0.775284; target test acc: 0.822406\n",
      "Epochs 156: source train acc: 0.942317; source test acc: 0.974700; target train acc: 0.775284; target test acc: 0.822406\n",
      "Epochs 156: source train acc: 0.942317; source test acc: 0.974700; target train acc: 0.775284; target test acc: 0.822406\n"
     ]
    },
    {
     "name": "stderr",
     "output_type": "stream",
     "text": [
      "100%|██████████| 150/150 [00:08<00:00, 18.74it/s]\n",
      "100%|██████████| 184/184 [00:12<00:00, 14.34it/s]\n",
      "100%|██████████| 334/334 [00:21<00:00, 15.53it/s]\n"
     ]
    },
    {
     "name": "stdout",
     "output_type": "stream",
     "text": [
      "Epochs 157: source train acc: 0.940100; source test acc: 0.973700; target train acc: 0.775475; target test acc: 0.846254\n",
      "Epochs 157: source train acc: 0.940100; source test acc: 0.973700; target train acc: 0.775475; target test acc: 0.846254\n",
      "Epochs 157: source train acc: 0.940100; source test acc: 0.973700; target train acc: 0.775475; target test acc: 0.846254\n",
      "Epochs 157: source train acc: 0.940100; source test acc: 0.973700; target train acc: 0.775475; target test acc: 0.846254\n",
      "Epochs 157: source train acc: 0.940100; source test acc: 0.973700; target train acc: 0.775475; target test acc: 0.846254\n",
      "Epochs 157: source train acc: 0.940100; source test acc: 0.973700; target train acc: 0.775475; target test acc: 0.846254\n"
     ]
    },
    {
     "name": "stderr",
     "output_type": "stream",
     "text": [
      "100%|██████████| 150/150 [00:08<00:00, 18.48it/s]\n",
      "100%|██████████| 184/184 [00:12<00:00, 14.37it/s]\n",
      "100%|██████████| 334/334 [00:21<00:00, 15.63it/s]\n"
     ]
    },
    {
     "name": "stdout",
     "output_type": "stream",
     "text": [
      "Epochs 158: source train acc: 0.939700; source test acc: 0.975900; target train acc: 0.775557; target test acc: 0.857051\n",
      "Epochs 158: source train acc: 0.939700; source test acc: 0.975900; target train acc: 0.775557; target test acc: 0.857051\n",
      "Epochs 158: source train acc: 0.939700; source test acc: 0.975900; target train acc: 0.775557; target test acc: 0.857051\n",
      "Epochs 158: source train acc: 0.939700; source test acc: 0.975900; target train acc: 0.775557; target test acc: 0.857051\n",
      "Epochs 158: source train acc: 0.939700; source test acc: 0.975900; target train acc: 0.775557; target test acc: 0.857051\n",
      "Epochs 158: source train acc: 0.939700; source test acc: 0.975900; target train acc: 0.775557; target test acc: 0.857051\n"
     ]
    },
    {
     "name": "stderr",
     "output_type": "stream",
     "text": [
      "100%|██████████| 150/150 [00:08<00:00, 18.31it/s]\n",
      "100%|██████████| 184/184 [00:12<00:00, 14.54it/s]\n",
      "100%|██████████| 334/334 [00:21<00:00, 15.75it/s]\n"
     ]
    },
    {
     "name": "stdout",
     "output_type": "stream",
     "text": [
      "Epochs 159: source train acc: 0.940067; source test acc: 0.974800; target train acc: 0.777373; target test acc: 0.849257\n",
      "Epochs 159: source train acc: 0.940067; source test acc: 0.974800; target train acc: 0.777373; target test acc: 0.849257\n",
      "Epochs 159: source train acc: 0.940067; source test acc: 0.974800; target train acc: 0.777373; target test acc: 0.849257\n",
      "Epochs 159: source train acc: 0.940067; source test acc: 0.974800; target train acc: 0.777373; target test acc: 0.849257\n",
      "Epochs 159: source train acc: 0.940067; source test acc: 0.974800; target train acc: 0.777373; target test acc: 0.849257\n",
      "Epochs 159: source train acc: 0.940067; source test acc: 0.974800; target train acc: 0.777373; target test acc: 0.849257\n"
     ]
    },
    {
     "name": "stderr",
     "output_type": "stream",
     "text": [
      "100%|██████████| 150/150 [00:07<00:00, 18.77it/s]\n",
      "100%|██████████| 184/184 [00:12<00:00, 14.42it/s]\n",
      "100%|██████████| 334/334 [00:21<00:00, 15.61it/s]\n"
     ]
    },
    {
     "name": "stdout",
     "output_type": "stream",
     "text": [
      "Epochs 160: source train acc: 0.941750; source test acc: 0.976100; target train acc: 0.776281; target test acc: 0.845353\n",
      "Epochs 160: source train acc: 0.941750; source test acc: 0.976100; target train acc: 0.776281; target test acc: 0.845353\n",
      "Epochs 160: source train acc: 0.941750; source test acc: 0.976100; target train acc: 0.776281; target test acc: 0.845353\n",
      "Epochs 160: source train acc: 0.941750; source test acc: 0.976100; target train acc: 0.776281; target test acc: 0.845353\n",
      "Epochs 160: source train acc: 0.941750; source test acc: 0.976100; target train acc: 0.776281; target test acc: 0.845353\n",
      "Epochs 160: source train acc: 0.941750; source test acc: 0.976100; target train acc: 0.776281; target test acc: 0.845353\n"
     ]
    },
    {
     "name": "stderr",
     "output_type": "stream",
     "text": [
      "100%|██████████| 150/150 [00:07<00:00, 18.76it/s]\n",
      "100%|██████████| 184/184 [00:12<00:00, 14.37it/s]\n",
      "100%|██████████| 334/334 [00:21<00:00, 15.71it/s]\n"
     ]
    },
    {
     "name": "stdout",
     "output_type": "stream",
     "text": [
      "Epochs 161: source train acc: 0.942483; source test acc: 0.974900; target train acc: 0.775011; target test acc: 0.855058\n",
      "Epochs 161: source train acc: 0.942483; source test acc: 0.974900; target train acc: 0.775011; target test acc: 0.855058\n",
      "Epochs 161: source train acc: 0.942483; source test acc: 0.974900; target train acc: 0.775011; target test acc: 0.855058\n",
      "Epochs 161: source train acc: 0.942483; source test acc: 0.974900; target train acc: 0.775011; target test acc: 0.855058\n",
      "Epochs 161: source train acc: 0.942483; source test acc: 0.974900; target train acc: 0.775011; target test acc: 0.855058\n",
      "Epochs 161: source train acc: 0.942483; source test acc: 0.974900; target train acc: 0.775011; target test acc: 0.855058\n"
     ]
    },
    {
     "name": "stderr",
     "output_type": "stream",
     "text": [
      "100%|██████████| 150/150 [00:08<00:00, 18.24it/s]\n",
      "100%|██████████| 184/184 [00:12<00:00, 14.49it/s]\n",
      "100%|██████████| 334/334 [00:21<00:00, 15.63it/s]\n"
     ]
    },
    {
     "name": "stdout",
     "output_type": "stream",
     "text": [
      "Epochs 162: source train acc: 0.941983; source test acc: 0.972800; target train acc: 0.777646; target test acc: 0.765497\n",
      "Epochs 162: source train acc: 0.941983; source test acc: 0.972800; target train acc: 0.777646; target test acc: 0.765497\n",
      "Epochs 162: source train acc: 0.941983; source test acc: 0.972800; target train acc: 0.777646; target test acc: 0.765497\n",
      "Epochs 162: source train acc: 0.941983; source test acc: 0.972800; target train acc: 0.777646; target test acc: 0.765497\n",
      "Epochs 162: source train acc: 0.941983; source test acc: 0.972800; target train acc: 0.777646; target test acc: 0.765497\n",
      "Epochs 162: source train acc: 0.941983; source test acc: 0.972800; target train acc: 0.777646; target test acc: 0.765497\n"
     ]
    },
    {
     "name": "stderr",
     "output_type": "stream",
     "text": [
      "100%|██████████| 150/150 [00:07<00:00, 18.78it/s]\n",
      "100%|██████████| 184/184 [00:12<00:00, 14.50it/s]\n",
      "100%|██████████| 334/334 [00:21<00:00, 15.66it/s]\n"
     ]
    },
    {
     "name": "stdout",
     "output_type": "stream",
     "text": [
      "Epochs 163: source train acc: 0.938017; source test acc: 0.974700; target train acc: 0.773919; target test acc: 0.799541\n",
      "Epochs 163: source train acc: 0.938017; source test acc: 0.974700; target train acc: 0.773919; target test acc: 0.799541\n",
      "Epochs 163: source train acc: 0.938017; source test acc: 0.974700; target train acc: 0.773919; target test acc: 0.799541\n",
      "Epochs 163: source train acc: 0.938017; source test acc: 0.974700; target train acc: 0.773919; target test acc: 0.799541\n",
      "Epochs 163: source train acc: 0.938017; source test acc: 0.974700; target train acc: 0.773919; target test acc: 0.799541\n",
      "Epochs 163: source train acc: 0.938017; source test acc: 0.974700; target train acc: 0.773919; target test acc: 0.799541\n"
     ]
    },
    {
     "name": "stderr",
     "output_type": "stream",
     "text": [
      "100%|██████████| 150/150 [00:08<00:00, 18.60it/s]\n",
      "100%|██████████| 184/184 [00:12<00:00, 14.37it/s]\n",
      "100%|██████████| 334/334 [00:21<00:00, 15.63it/s]\n"
     ]
    },
    {
     "name": "stdout",
     "output_type": "stream",
     "text": [
      "Epochs 164: source train acc: 0.940600; source test acc: 0.974300; target train acc: 0.773278; target test acc: 0.855713\n",
      "Epochs 164: source train acc: 0.940600; source test acc: 0.974300; target train acc: 0.773278; target test acc: 0.855713\n",
      "Epochs 164: source train acc: 0.940600; source test acc: 0.974300; target train acc: 0.773278; target test acc: 0.855713\n",
      "Epochs 164: source train acc: 0.940600; source test acc: 0.974300; target train acc: 0.773278; target test acc: 0.855713\n",
      "Epochs 164: source train acc: 0.940600; source test acc: 0.974300; target train acc: 0.773278; target test acc: 0.855713\n",
      "Epochs 164: source train acc: 0.940600; source test acc: 0.974300; target train acc: 0.773278; target test acc: 0.855713\n"
     ]
    },
    {
     "name": "stderr",
     "output_type": "stream",
     "text": [
      "100%|██████████| 150/150 [00:08<00:00, 18.35it/s]\n",
      "100%|██████████| 184/184 [00:12<00:00, 14.29it/s]\n",
      "100%|██████████| 334/334 [00:21<00:00, 15.72it/s]\n"
     ]
    },
    {
     "name": "stdout",
     "output_type": "stream",
     "text": [
      "Epochs 165: source train acc: 0.941433; source test acc: 0.974600; target train acc: 0.774424; target test acc: 0.860218\n",
      "Epochs 165: source train acc: 0.941433; source test acc: 0.974600; target train acc: 0.774424; target test acc: 0.860218\n",
      "Epochs 165: source train acc: 0.941433; source test acc: 0.974600; target train acc: 0.774424; target test acc: 0.860218\n",
      "Epochs 165: source train acc: 0.941433; source test acc: 0.974600; target train acc: 0.774424; target test acc: 0.860218\n",
      "Epochs 165: source train acc: 0.941433; source test acc: 0.974600; target train acc: 0.774424; target test acc: 0.860218\n",
      "Epochs 165: source train acc: 0.941433; source test acc: 0.974600; target train acc: 0.774424; target test acc: 0.860218\n"
     ]
    },
    {
     "name": "stderr",
     "output_type": "stream",
     "text": [
      "100%|██████████| 150/150 [00:08<00:00, 18.50it/s]\n",
      "100%|██████████| 184/184 [00:12<00:00, 14.57it/s]\n",
      "100%|██████████| 334/334 [00:21<00:00, 15.67it/s]\n"
     ]
    },
    {
     "name": "stdout",
     "output_type": "stream",
     "text": [
      "Epochs 166: source train acc: 0.940733; source test acc: 0.974500; target train acc: 0.777086; target test acc: 0.850554\n",
      "Epochs 166: source train acc: 0.940733; source test acc: 0.974500; target train acc: 0.777086; target test acc: 0.850554\n",
      "Epochs 166: source train acc: 0.940733; source test acc: 0.974500; target train acc: 0.777086; target test acc: 0.850554\n",
      "Epochs 166: source train acc: 0.940733; source test acc: 0.974500; target train acc: 0.777086; target test acc: 0.850554\n",
      "Epochs 166: source train acc: 0.940733; source test acc: 0.974500; target train acc: 0.777086; target test acc: 0.850554\n",
      "Epochs 166: source train acc: 0.940733; source test acc: 0.974500; target train acc: 0.777086; target test acc: 0.850554\n"
     ]
    },
    {
     "name": "stderr",
     "output_type": "stream",
     "text": [
      "100%|██████████| 150/150 [00:07<00:00, 18.76it/s]\n",
      "100%|██████████| 184/184 [00:12<00:00, 14.33it/s]\n",
      "100%|██████████| 334/334 [00:21<00:00, 15.62it/s]\n"
     ]
    },
    {
     "name": "stdout",
     "output_type": "stream",
     "text": [
      "Epochs 167: source train acc: 0.942200; source test acc: 0.973900; target train acc: 0.776404; target test acc: 0.846991\n",
      "Epochs 167: source train acc: 0.942200; source test acc: 0.973900; target train acc: 0.776404; target test acc: 0.846991\n",
      "Epochs 167: source train acc: 0.942200; source test acc: 0.973900; target train acc: 0.776404; target test acc: 0.846991\n",
      "Epochs 167: source train acc: 0.942200; source test acc: 0.973900; target train acc: 0.776404; target test acc: 0.846991\n",
      "Epochs 167: source train acc: 0.942200; source test acc: 0.973900; target train acc: 0.776404; target test acc: 0.846991\n",
      "Epochs 167: source train acc: 0.942200; source test acc: 0.973900; target train acc: 0.776404; target test acc: 0.846991\n"
     ]
    },
    {
     "name": "stderr",
     "output_type": "stream",
     "text": [
      "100%|██████████| 150/150 [00:07<00:00, 19.66it/s]\n",
      "100%|██████████| 184/184 [00:12<00:00, 15.32it/s]\n",
      "100%|██████████| 334/334 [00:20<00:00, 16.66it/s]\n"
     ]
    },
    {
     "name": "stdout",
     "output_type": "stream",
     "text": [
      "Epochs 168: source train acc: 0.941667; source test acc: 0.975900; target train acc: 0.775858; target test acc: 0.827279\n",
      "Epochs 168: source train acc: 0.941667; source test acc: 0.975900; target train acc: 0.775858; target test acc: 0.827279\n",
      "Epochs 168: source train acc: 0.941667; source test acc: 0.975900; target train acc: 0.775858; target test acc: 0.827279\n",
      "Epochs 168: source train acc: 0.941667; source test acc: 0.975900; target train acc: 0.775858; target test acc: 0.827279\n",
      "Epochs 168: source train acc: 0.941667; source test acc: 0.975900; target train acc: 0.775858; target test acc: 0.827279\n",
      "Epochs 168: source train acc: 0.941667; source test acc: 0.975900; target train acc: 0.775858; target test acc: 0.827279\n"
     ]
    },
    {
     "name": "stderr",
     "output_type": "stream",
     "text": [
      "100%|██████████| 150/150 [00:07<00:00, 19.44it/s]\n",
      "100%|██████████| 184/184 [00:11<00:00, 15.43it/s]\n",
      "100%|██████████| 334/334 [00:20<00:00, 16.53it/s]\n"
     ]
    },
    {
     "name": "stdout",
     "output_type": "stream",
     "text": [
      "Epochs 169: source train acc: 0.941000; source test acc: 0.972800; target train acc: 0.776486; target test acc: 0.856765\n",
      "Epochs 169: source train acc: 0.941000; source test acc: 0.972800; target train acc: 0.776486; target test acc: 0.856765\n",
      "Epochs 169: source train acc: 0.941000; source test acc: 0.972800; target train acc: 0.776486; target test acc: 0.856765\n",
      "Epochs 169: source train acc: 0.941000; source test acc: 0.972800; target train acc: 0.776486; target test acc: 0.856765\n",
      "Epochs 169: source train acc: 0.941000; source test acc: 0.972800; target train acc: 0.776486; target test acc: 0.856765\n",
      "Epochs 169: source train acc: 0.941000; source test acc: 0.972800; target train acc: 0.776486; target test acc: 0.856765\n"
     ]
    },
    {
     "name": "stderr",
     "output_type": "stream",
     "text": [
      "100%|██████████| 150/150 [00:07<00:00, 19.58it/s]\n",
      "100%|██████████| 184/184 [00:11<00:00, 15.40it/s]\n",
      "100%|██████████| 334/334 [00:20<00:00, 16.59it/s]\n"
     ]
    },
    {
     "name": "stdout",
     "output_type": "stream",
     "text": [
      "Epochs 170: source train acc: 0.940700; source test acc: 0.971600; target train acc: 0.775503; target test acc: 0.821246\n",
      "Epochs 170: source train acc: 0.940700; source test acc: 0.971600; target train acc: 0.775503; target test acc: 0.821246\n",
      "Epochs 170: source train acc: 0.940700; source test acc: 0.971600; target train acc: 0.775503; target test acc: 0.821246\n",
      "Epochs 170: source train acc: 0.940700; source test acc: 0.971600; target train acc: 0.775503; target test acc: 0.821246\n",
      "Epochs 170: source train acc: 0.940700; source test acc: 0.971600; target train acc: 0.775503; target test acc: 0.821246\n",
      "Epochs 170: source train acc: 0.940700; source test acc: 0.971600; target train acc: 0.775503; target test acc: 0.821246\n"
     ]
    },
    {
     "name": "stderr",
     "output_type": "stream",
     "text": [
      "100%|██████████| 150/150 [00:07<00:00, 19.69it/s]\n",
      "100%|██████████| 184/184 [00:11<00:00, 15.40it/s]\n",
      "100%|██████████| 334/334 [00:20<00:00, 16.63it/s]\n"
     ]
    },
    {
     "name": "stdout",
     "output_type": "stream",
     "text": [
      "Epochs 171: source train acc: 0.940450; source test acc: 0.974100; target train acc: 0.776021; target test acc: 0.833463\n",
      "Epochs 171: source train acc: 0.940450; source test acc: 0.974100; target train acc: 0.776021; target test acc: 0.833463\n",
      "Epochs 171: source train acc: 0.940450; source test acc: 0.974100; target train acc: 0.776021; target test acc: 0.833463\n",
      "Epochs 171: source train acc: 0.940450; source test acc: 0.974100; target train acc: 0.776021; target test acc: 0.833463\n",
      "Epochs 171: source train acc: 0.940450; source test acc: 0.974100; target train acc: 0.776021; target test acc: 0.833463\n",
      "Epochs 171: source train acc: 0.940450; source test acc: 0.974100; target train acc: 0.776021; target test acc: 0.833463\n"
     ]
    },
    {
     "name": "stderr",
     "output_type": "stream",
     "text": [
      "100%|██████████| 150/150 [00:07<00:00, 19.70it/s]\n",
      "100%|██████████| 184/184 [00:11<00:00, 15.36it/s]\n",
      "100%|██████████| 334/334 [00:20<00:00, 16.65it/s]\n"
     ]
    },
    {
     "name": "stdout",
     "output_type": "stream",
     "text": [
      "Epochs 172: source train acc: 0.939783; source test acc: 0.970600; target train acc: 0.778601; target test acc: 0.857679\n",
      "Epochs 172: source train acc: 0.939783; source test acc: 0.970600; target train acc: 0.778601; target test acc: 0.857679\n",
      "Epochs 172: source train acc: 0.939783; source test acc: 0.970600; target train acc: 0.778601; target test acc: 0.857679\n",
      "Epochs 172: source train acc: 0.939783; source test acc: 0.970600; target train acc: 0.778601; target test acc: 0.857679\n",
      "Epochs 172: source train acc: 0.939783; source test acc: 0.970600; target train acc: 0.778601; target test acc: 0.857679\n",
      "Epochs 172: source train acc: 0.939783; source test acc: 0.970600; target train acc: 0.778601; target test acc: 0.857679\n"
     ]
    },
    {
     "name": "stderr",
     "output_type": "stream",
     "text": [
      "100%|██████████| 150/150 [00:07<00:00, 19.75it/s]\n",
      "100%|██████████| 184/184 [00:11<00:00, 15.41it/s]\n",
      "100%|██████████| 334/334 [00:20<00:00, 16.62it/s]\n"
     ]
    },
    {
     "name": "stdout",
     "output_type": "stream",
     "text": [
      "Epochs 173: source train acc: 0.941550; source test acc: 0.975300; target train acc: 0.778055; target test acc: 0.859235\n",
      "Epochs 173: source train acc: 0.941550; source test acc: 0.975300; target train acc: 0.778055; target test acc: 0.859235\n",
      "Epochs 173: source train acc: 0.941550; source test acc: 0.975300; target train acc: 0.778055; target test acc: 0.859235\n",
      "Epochs 173: source train acc: 0.941550; source test acc: 0.975300; target train acc: 0.778055; target test acc: 0.859235\n",
      "Epochs 173: source train acc: 0.941550; source test acc: 0.975300; target train acc: 0.778055; target test acc: 0.859235\n",
      "Epochs 173: source train acc: 0.941550; source test acc: 0.975300; target train acc: 0.778055; target test acc: 0.859235\n"
     ]
    },
    {
     "name": "stderr",
     "output_type": "stream",
     "text": [
      "100%|██████████| 150/150 [00:07<00:00, 19.65it/s]\n",
      "100%|██████████| 184/184 [00:11<00:00, 15.45it/s]\n",
      "100%|██████████| 334/334 [00:20<00:00, 16.62it/s]\n"
     ]
    },
    {
     "name": "stdout",
     "output_type": "stream",
     "text": [
      "Epochs 174: source train acc: 0.942050; source test acc: 0.972900; target train acc: 0.776622; target test acc: 0.795992\n",
      "Epochs 174: source train acc: 0.942050; source test acc: 0.972900; target train acc: 0.776622; target test acc: 0.795992\n",
      "Epochs 174: source train acc: 0.942050; source test acc: 0.972900; target train acc: 0.776622; target test acc: 0.795992\n",
      "Epochs 174: source train acc: 0.942050; source test acc: 0.972900; target train acc: 0.776622; target test acc: 0.795992\n",
      "Epochs 174: source train acc: 0.942050; source test acc: 0.972900; target train acc: 0.776622; target test acc: 0.795992\n",
      "Epochs 174: source train acc: 0.942050; source test acc: 0.972900; target train acc: 0.776622; target test acc: 0.795992\n"
     ]
    },
    {
     "name": "stderr",
     "output_type": "stream",
     "text": [
      "100%|██████████| 150/150 [00:07<00:00, 19.64it/s]\n",
      "100%|██████████| 184/184 [00:11<00:00, 15.35it/s]\n",
      "100%|██████████| 334/334 [00:20<00:00, 16.59it/s]\n"
     ]
    },
    {
     "name": "stdout",
     "output_type": "stream",
     "text": [
      "Epochs 175: source train acc: 0.940183; source test acc: 0.969700; target train acc: 0.775967; target test acc: 0.838445\n",
      "Epochs 175: source train acc: 0.940183; source test acc: 0.969700; target train acc: 0.775967; target test acc: 0.838445\n",
      "Epochs 175: source train acc: 0.940183; source test acc: 0.969700; target train acc: 0.775967; target test acc: 0.838445\n",
      "Epochs 175: source train acc: 0.940183; source test acc: 0.969700; target train acc: 0.775967; target test acc: 0.838445\n",
      "Epochs 175: source train acc: 0.940183; source test acc: 0.969700; target train acc: 0.775967; target test acc: 0.838445\n",
      "Epochs 175: source train acc: 0.940183; source test acc: 0.969700; target train acc: 0.775967; target test acc: 0.838445\n"
     ]
    },
    {
     "name": "stderr",
     "output_type": "stream",
     "text": [
      "100%|██████████| 150/150 [00:07<00:00, 19.62it/s]\n",
      "100%|██████████| 184/184 [00:11<00:00, 15.43it/s]\n",
      "100%|██████████| 334/334 [00:20<00:00, 16.62it/s]\n"
     ]
    },
    {
     "name": "stdout",
     "output_type": "stream",
     "text": [
      "Epochs 176: source train acc: 0.940567; source test acc: 0.974300; target train acc: 0.778902; target test acc: 0.839251\n",
      "Epochs 176: source train acc: 0.940567; source test acc: 0.974300; target train acc: 0.778902; target test acc: 0.839251\n",
      "Epochs 176: source train acc: 0.940567; source test acc: 0.974300; target train acc: 0.778902; target test acc: 0.839251\n",
      "Epochs 176: source train acc: 0.940567; source test acc: 0.974300; target train acc: 0.778902; target test acc: 0.839251\n",
      "Epochs 176: source train acc: 0.940567; source test acc: 0.974300; target train acc: 0.778902; target test acc: 0.839251\n",
      "Epochs 176: source train acc: 0.940567; source test acc: 0.974300; target train acc: 0.778902; target test acc: 0.839251\n"
     ]
    },
    {
     "name": "stderr",
     "output_type": "stream",
     "text": [
      "100%|██████████| 150/150 [00:07<00:00, 19.73it/s]\n",
      "100%|██████████| 184/184 [00:11<00:00, 15.42it/s]\n",
      "100%|██████████| 334/334 [00:20<00:00, 16.62it/s]\n"
     ]
    },
    {
     "name": "stdout",
     "output_type": "stream",
     "text": [
      "Epochs 177: source train acc: 0.941617; source test acc: 0.973000; target train acc: 0.777605; target test acc: 0.831852\n",
      "Epochs 177: source train acc: 0.941617; source test acc: 0.973000; target train acc: 0.777605; target test acc: 0.831852\n",
      "Epochs 177: source train acc: 0.941617; source test acc: 0.973000; target train acc: 0.777605; target test acc: 0.831852\n",
      "Epochs 177: source train acc: 0.941617; source test acc: 0.973000; target train acc: 0.777605; target test acc: 0.831852\n",
      "Epochs 177: source train acc: 0.941617; source test acc: 0.973000; target train acc: 0.777605; target test acc: 0.831852\n",
      "Epochs 177: source train acc: 0.941617; source test acc: 0.973000; target train acc: 0.777605; target test acc: 0.831852\n"
     ]
    },
    {
     "name": "stderr",
     "output_type": "stream",
     "text": [
      "100%|██████████| 150/150 [00:07<00:00, 19.77it/s]\n",
      "100%|██████████| 184/184 [00:12<00:00, 15.32it/s]\n",
      "100%|██████████| 334/334 [00:20<00:00, 16.67it/s]\n"
     ]
    },
    {
     "name": "stdout",
     "output_type": "stream",
     "text": [
      "Epochs 178: source train acc: 0.940283; source test acc: 0.974800; target train acc: 0.776909; target test acc: 0.839442\n",
      "Epochs 178: source train acc: 0.940283; source test acc: 0.974800; target train acc: 0.776909; target test acc: 0.839442\n",
      "Epochs 178: source train acc: 0.940283; source test acc: 0.974800; target train acc: 0.776909; target test acc: 0.839442\n",
      "Epochs 178: source train acc: 0.940283; source test acc: 0.974800; target train acc: 0.776909; target test acc: 0.839442\n",
      "Epochs 178: source train acc: 0.940283; source test acc: 0.974800; target train acc: 0.776909; target test acc: 0.839442\n",
      "Epochs 178: source train acc: 0.940283; source test acc: 0.974800; target train acc: 0.776909; target test acc: 0.839442\n"
     ]
    },
    {
     "name": "stderr",
     "output_type": "stream",
     "text": [
      "100%|██████████| 150/150 [00:07<00:00, 19.59it/s]\n",
      "100%|██████████| 184/184 [00:11<00:00, 15.37it/s]\n",
      "100%|██████████| 334/334 [00:20<00:00, 16.60it/s]\n"
     ]
    },
    {
     "name": "stdout",
     "output_type": "stream",
     "text": [
      "Epochs 179: source train acc: 0.941700; source test acc: 0.974100; target train acc: 0.776895; target test acc: 0.853133\n",
      "Epochs 179: source train acc: 0.941700; source test acc: 0.974100; target train acc: 0.776895; target test acc: 0.853133\n",
      "Epochs 179: source train acc: 0.941700; source test acc: 0.974100; target train acc: 0.776895; target test acc: 0.853133\n",
      "Epochs 179: source train acc: 0.941700; source test acc: 0.974100; target train acc: 0.776895; target test acc: 0.853133\n",
      "Epochs 179: source train acc: 0.941700; source test acc: 0.974100; target train acc: 0.776895; target test acc: 0.853133\n",
      "Epochs 179: source train acc: 0.941700; source test acc: 0.974100; target train acc: 0.776895; target test acc: 0.853133\n"
     ]
    },
    {
     "name": "stderr",
     "output_type": "stream",
     "text": [
      "100%|██████████| 150/150 [00:07<00:00, 19.66it/s]\n",
      "100%|██████████| 184/184 [00:11<00:00, 15.37it/s]\n",
      "100%|██████████| 334/334 [00:20<00:00, 16.58it/s]\n"
     ]
    },
    {
     "name": "stdout",
     "output_type": "stream",
     "text": [
      "Epochs 180: source train acc: 0.942700; source test acc: 0.972700; target train acc: 0.777591; target test acc: 0.825573\n",
      "Epochs 180: source train acc: 0.942700; source test acc: 0.972700; target train acc: 0.777591; target test acc: 0.825573\n",
      "Epochs 180: source train acc: 0.942700; source test acc: 0.972700; target train acc: 0.777591; target test acc: 0.825573\n",
      "Epochs 180: source train acc: 0.942700; source test acc: 0.972700; target train acc: 0.777591; target test acc: 0.825573\n",
      "Epochs 180: source train acc: 0.942700; source test acc: 0.972700; target train acc: 0.777591; target test acc: 0.825573\n",
      "Epochs 180: source train acc: 0.942700; source test acc: 0.972700; target train acc: 0.777591; target test acc: 0.825573\n"
     ]
    },
    {
     "name": "stderr",
     "output_type": "stream",
     "text": [
      "100%|██████████| 150/150 [00:07<00:00, 19.70it/s]\n",
      "100%|██████████| 184/184 [00:11<00:00, 15.41it/s]\n",
      "100%|██████████| 334/334 [00:20<00:00, 16.63it/s]\n"
     ]
    },
    {
     "name": "stdout",
     "output_type": "stream",
     "text": [
      "Epochs 181: source train acc: 0.940633; source test acc: 0.970100; target train acc: 0.776294; target test acc: 0.851768\n",
      "Epochs 181: source train acc: 0.940633; source test acc: 0.970100; target train acc: 0.776294; target test acc: 0.851768\n",
      "Epochs 181: source train acc: 0.940633; source test acc: 0.970100; target train acc: 0.776294; target test acc: 0.851768\n",
      "Epochs 181: source train acc: 0.940633; source test acc: 0.970100; target train acc: 0.776294; target test acc: 0.851768\n",
      "Epochs 181: source train acc: 0.940633; source test acc: 0.970100; target train acc: 0.776294; target test acc: 0.851768\n",
      "Epochs 181: source train acc: 0.940633; source test acc: 0.970100; target train acc: 0.776294; target test acc: 0.851768\n"
     ]
    },
    {
     "name": "stderr",
     "output_type": "stream",
     "text": [
      "100%|██████████| 150/150 [00:07<00:00, 19.69it/s]\n",
      "100%|██████████| 184/184 [00:11<00:00, 15.37it/s]\n",
      "100%|██████████| 334/334 [00:20<00:00, 16.66it/s]\n"
     ]
    },
    {
     "name": "stdout",
     "output_type": "stream",
     "text": [
      "Epochs 182: source train acc: 0.940583; source test acc: 0.974600; target train acc: 0.777796; target test acc: 0.797371\n",
      "Epochs 182: source train acc: 0.940583; source test acc: 0.974600; target train acc: 0.777796; target test acc: 0.797371\n",
      "Epochs 182: source train acc: 0.940583; source test acc: 0.974600; target train acc: 0.777796; target test acc: 0.797371\n",
      "Epochs 182: source train acc: 0.940583; source test acc: 0.974600; target train acc: 0.777796; target test acc: 0.797371\n",
      "Epochs 182: source train acc: 0.940583; source test acc: 0.974600; target train acc: 0.777796; target test acc: 0.797371\n",
      "Epochs 182: source train acc: 0.940583; source test acc: 0.974600; target train acc: 0.777796; target test acc: 0.797371\n"
     ]
    },
    {
     "name": "stderr",
     "output_type": "stream",
     "text": [
      "100%|██████████| 150/150 [00:07<00:00, 19.56it/s]\n",
      "100%|██████████| 184/184 [00:11<00:00, 15.40it/s]\n",
      "100%|██████████| 334/334 [00:20<00:00, 16.58it/s]\n"
     ]
    },
    {
     "name": "stdout",
     "output_type": "stream",
     "text": [
      "Epochs 183: source train acc: 0.941300; source test acc: 0.975500; target train acc: 0.777318; target test acc: 0.858485\n",
      "Epochs 183: source train acc: 0.941300; source test acc: 0.975500; target train acc: 0.777318; target test acc: 0.858485\n",
      "Epochs 183: source train acc: 0.941300; source test acc: 0.975500; target train acc: 0.777318; target test acc: 0.858485\n",
      "Epochs 183: source train acc: 0.941300; source test acc: 0.975500; target train acc: 0.777318; target test acc: 0.858485\n",
      "Epochs 183: source train acc: 0.941300; source test acc: 0.975500; target train acc: 0.777318; target test acc: 0.858485\n",
      "Epochs 183: source train acc: 0.941300; source test acc: 0.975500; target train acc: 0.777318; target test acc: 0.858485\n"
     ]
    },
    {
     "name": "stderr",
     "output_type": "stream",
     "text": [
      "100%|██████████| 150/150 [00:07<00:00, 19.65it/s]\n",
      "100%|██████████| 184/184 [00:11<00:00, 15.39it/s]\n",
      "100%|██████████| 334/334 [00:20<00:00, 16.60it/s]\n"
     ]
    },
    {
     "name": "stdout",
     "output_type": "stream",
     "text": [
      "Epochs 184: source train acc: 0.940817; source test acc: 0.974100; target train acc: 0.776895; target test acc: 0.843960\n",
      "Epochs 184: source train acc: 0.940817; source test acc: 0.974100; target train acc: 0.776895; target test acc: 0.843960\n",
      "Epochs 184: source train acc: 0.940817; source test acc: 0.974100; target train acc: 0.776895; target test acc: 0.843960\n",
      "Epochs 184: source train acc: 0.940817; source test acc: 0.974100; target train acc: 0.776895; target test acc: 0.843960\n",
      "Epochs 184: source train acc: 0.940817; source test acc: 0.974100; target train acc: 0.776895; target test acc: 0.843960\n",
      "Epochs 184: source train acc: 0.940817; source test acc: 0.974100; target train acc: 0.776895; target test acc: 0.843960\n"
     ]
    },
    {
     "name": "stderr",
     "output_type": "stream",
     "text": [
      "100%|██████████| 150/150 [00:07<00:00, 19.70it/s]\n",
      "100%|██████████| 184/184 [00:12<00:00, 15.27it/s]\n",
      "100%|██████████| 334/334 [00:20<00:00, 16.63it/s]\n"
     ]
    },
    {
     "name": "stdout",
     "output_type": "stream",
     "text": [
      "Epochs 185: source train acc: 0.940033; source test acc: 0.973300; target train acc: 0.776963; target test acc: 0.841421\n",
      "Epochs 185: source train acc: 0.940033; source test acc: 0.973300; target train acc: 0.776963; target test acc: 0.841421\n",
      "Epochs 185: source train acc: 0.940033; source test acc: 0.973300; target train acc: 0.776963; target test acc: 0.841421\n",
      "Epochs 185: source train acc: 0.940033; source test acc: 0.973300; target train acc: 0.776963; target test acc: 0.841421\n",
      "Epochs 185: source train acc: 0.940033; source test acc: 0.973300; target train acc: 0.776963; target test acc: 0.841421\n",
      "Epochs 185: source train acc: 0.940033; source test acc: 0.973300; target train acc: 0.776963; target test acc: 0.841421\n"
     ]
    },
    {
     "name": "stderr",
     "output_type": "stream",
     "text": [
      "100%|██████████| 150/150 [00:07<00:00, 19.61it/s]\n",
      "100%|██████████| 184/184 [00:11<00:00, 15.37it/s]\n",
      "100%|██████████| 334/334 [00:20<00:00, 16.64it/s]\n"
     ]
    },
    {
     "name": "stdout",
     "output_type": "stream",
     "text": [
      "Epochs 186: source train acc: 0.940067; source test acc: 0.975500; target train acc: 0.776226; target test acc: 0.832835\n",
      "Epochs 186: source train acc: 0.940067; source test acc: 0.975500; target train acc: 0.776226; target test acc: 0.832835\n",
      "Epochs 186: source train acc: 0.940067; source test acc: 0.975500; target train acc: 0.776226; target test acc: 0.832835\n",
      "Epochs 186: source train acc: 0.940067; source test acc: 0.975500; target train acc: 0.776226; target test acc: 0.832835\n",
      "Epochs 186: source train acc: 0.940067; source test acc: 0.975500; target train acc: 0.776226; target test acc: 0.832835\n",
      "Epochs 186: source train acc: 0.940067; source test acc: 0.975500; target train acc: 0.776226; target test acc: 0.832835\n"
     ]
    },
    {
     "name": "stderr",
     "output_type": "stream",
     "text": [
      "100%|██████████| 150/150 [00:07<00:00, 19.70it/s]\n",
      "100%|██████████| 184/184 [00:11<00:00, 15.39it/s]\n",
      "100%|██████████| 334/334 [00:20<00:00, 16.58it/s]\n"
     ]
    },
    {
     "name": "stdout",
     "output_type": "stream",
     "text": [
      "Epochs 187: source train acc: 0.941767; source test acc: 0.973100; target train acc: 0.779448; target test acc: 0.841981\n",
      "Epochs 187: source train acc: 0.941767; source test acc: 0.973100; target train acc: 0.779448; target test acc: 0.841981\n",
      "Epochs 187: source train acc: 0.941767; source test acc: 0.973100; target train acc: 0.779448; target test acc: 0.841981\n",
      "Epochs 187: source train acc: 0.941767; source test acc: 0.973100; target train acc: 0.779448; target test acc: 0.841981\n",
      "Epochs 187: source train acc: 0.941767; source test acc: 0.973100; target train acc: 0.779448; target test acc: 0.841981\n",
      "Epochs 187: source train acc: 0.941767; source test acc: 0.973100; target train acc: 0.779448; target test acc: 0.841981\n"
     ]
    },
    {
     "name": "stderr",
     "output_type": "stream",
     "text": [
      "100%|██████████| 150/150 [00:07<00:00, 19.66it/s]\n",
      "100%|██████████| 184/184 [00:11<00:00, 15.37it/s]\n",
      "100%|██████████| 334/334 [00:20<00:00, 16.60it/s]\n"
     ]
    },
    {
     "name": "stdout",
     "output_type": "stream",
     "text": [
      "Epochs 188: source train acc: 0.939750; source test acc: 0.976200; target train acc: 0.779830; target test acc: 0.831129\n",
      "Epochs 188: source train acc: 0.939750; source test acc: 0.976200; target train acc: 0.779830; target test acc: 0.831129\n",
      "Epochs 188: source train acc: 0.939750; source test acc: 0.976200; target train acc: 0.779830; target test acc: 0.831129\n",
      "Epochs 188: source train acc: 0.939750; source test acc: 0.976200; target train acc: 0.779830; target test acc: 0.831129\n",
      "Epochs 188: source train acc: 0.939750; source test acc: 0.976200; target train acc: 0.779830; target test acc: 0.831129\n",
      "Epochs 188: source train acc: 0.939750; source test acc: 0.976200; target train acc: 0.779830; target test acc: 0.831129\n"
     ]
    },
    {
     "name": "stderr",
     "output_type": "stream",
     "text": [
      "100%|██████████| 150/150 [00:07<00:00, 19.70it/s]\n",
      "100%|██████████| 184/184 [00:11<00:00, 15.38it/s]\n",
      "100%|██████████| 334/334 [00:20<00:00, 16.67it/s]\n"
     ]
    },
    {
     "name": "stdout",
     "output_type": "stream",
     "text": [
      "Epochs 189: source train acc: 0.940083; source test acc: 0.974100; target train acc: 0.777400; target test acc: 0.811349\n",
      "Epochs 189: source train acc: 0.940083; source test acc: 0.974100; target train acc: 0.777400; target test acc: 0.811349\n",
      "Epochs 189: source train acc: 0.940083; source test acc: 0.974100; target train acc: 0.777400; target test acc: 0.811349\n",
      "Epochs 189: source train acc: 0.940083; source test acc: 0.974100; target train acc: 0.777400; target test acc: 0.811349\n",
      "Epochs 189: source train acc: 0.940083; source test acc: 0.974100; target train acc: 0.777400; target test acc: 0.811349\n",
      "Epochs 189: source train acc: 0.940083; source test acc: 0.974100; target train acc: 0.777400; target test acc: 0.811349\n"
     ]
    },
    {
     "name": "stderr",
     "output_type": "stream",
     "text": [
      "100%|██████████| 150/150 [00:07<00:00, 19.60it/s]\n",
      "100%|██████████| 184/184 [00:11<00:00, 15.40it/s]\n",
      "100%|██████████| 334/334 [00:20<00:00, 16.65it/s]\n"
     ]
    },
    {
     "name": "stdout",
     "output_type": "stream",
     "text": [
      "Epochs 190: source train acc: 0.941917; source test acc: 0.974600; target train acc: 0.775271; target test acc: 0.788471\n",
      "Epochs 190: source train acc: 0.941917; source test acc: 0.974600; target train acc: 0.775271; target test acc: 0.788471\n",
      "Epochs 190: source train acc: 0.941917; source test acc: 0.974600; target train acc: 0.775271; target test acc: 0.788471\n",
      "Epochs 190: source train acc: 0.941917; source test acc: 0.974600; target train acc: 0.775271; target test acc: 0.788471\n",
      "Epochs 190: source train acc: 0.941917; source test acc: 0.974600; target train acc: 0.775271; target test acc: 0.788471\n",
      "Epochs 190: source train acc: 0.941917; source test acc: 0.974600; target train acc: 0.775271; target test acc: 0.788471\n"
     ]
    },
    {
     "name": "stderr",
     "output_type": "stream",
     "text": [
      "100%|██████████| 150/150 [00:07<00:00, 19.72it/s]\n",
      "100%|██████████| 184/184 [00:11<00:00, 15.38it/s]\n",
      "100%|██████████| 334/334 [00:20<00:00, 16.64it/s]\n"
     ]
    },
    {
     "name": "stdout",
     "output_type": "stream",
     "text": [
      "Epochs 191: source train acc: 0.942483; source test acc: 0.975400; target train acc: 0.777045; target test acc: 0.854034\n",
      "Epochs 191: source train acc: 0.942483; source test acc: 0.975400; target train acc: 0.777045; target test acc: 0.854034\n",
      "Epochs 191: source train acc: 0.942483; source test acc: 0.975400; target train acc: 0.777045; target test acc: 0.854034\n",
      "Epochs 191: source train acc: 0.942483; source test acc: 0.975400; target train acc: 0.777045; target test acc: 0.854034\n",
      "Epochs 191: source train acc: 0.942483; source test acc: 0.975400; target train acc: 0.777045; target test acc: 0.854034\n",
      "Epochs 191: source train acc: 0.942483; source test acc: 0.975400; target train acc: 0.777045; target test acc: 0.854034\n"
     ]
    },
    {
     "name": "stderr",
     "output_type": "stream",
     "text": [
      "100%|██████████| 150/150 [00:07<00:00, 19.65it/s]\n",
      "100%|██████████| 184/184 [00:11<00:00, 15.38it/s]\n",
      "100%|██████████| 334/334 [00:20<00:00, 16.65it/s]\n"
     ]
    },
    {
     "name": "stdout",
     "output_type": "stream",
     "text": [
      "Epochs 192: source train acc: 0.940633; source test acc: 0.975700; target train acc: 0.775598; target test acc: 0.864477\n",
      "Epochs 192: source train acc: 0.940633; source test acc: 0.975700; target train acc: 0.775598; target test acc: 0.864477\n",
      "Epochs 192: source train acc: 0.940633; source test acc: 0.975700; target train acc: 0.775598; target test acc: 0.864477\n",
      "Epochs 192: source train acc: 0.940633; source test acc: 0.975700; target train acc: 0.775598; target test acc: 0.864477\n",
      "Epochs 192: source train acc: 0.940633; source test acc: 0.975700; target train acc: 0.775598; target test acc: 0.864477\n",
      "Epochs 192: source train acc: 0.940633; source test acc: 0.975700; target train acc: 0.775598; target test acc: 0.864477\n"
     ]
    },
    {
     "name": "stderr",
     "output_type": "stream",
     "text": [
      "100%|██████████| 150/150 [00:07<00:00, 19.66it/s]\n",
      "100%|██████████| 184/184 [00:11<00:00, 15.44it/s]\n",
      "100%|██████████| 334/334 [00:20<00:00, 16.68it/s]\n"
     ]
    },
    {
     "name": "stdout",
     "output_type": "stream",
     "text": [
      "Epochs 193: source train acc: 0.942267; source test acc: 0.976000; target train acc: 0.777892; target test acc: 0.847742\n",
      "Epochs 193: source train acc: 0.942267; source test acc: 0.976000; target train acc: 0.777892; target test acc: 0.847742\n",
      "Epochs 193: source train acc: 0.942267; source test acc: 0.976000; target train acc: 0.777892; target test acc: 0.847742\n",
      "Epochs 193: source train acc: 0.942267; source test acc: 0.976000; target train acc: 0.777892; target test acc: 0.847742\n",
      "Epochs 193: source train acc: 0.942267; source test acc: 0.976000; target train acc: 0.777892; target test acc: 0.847742\n",
      "Epochs 193: source train acc: 0.942267; source test acc: 0.976000; target train acc: 0.777892; target test acc: 0.847742\n"
     ]
    },
    {
     "name": "stderr",
     "output_type": "stream",
     "text": [
      "100%|██████████| 150/150 [00:07<00:00, 19.72it/s]\n",
      "100%|██████████| 184/184 [00:11<00:00, 15.38it/s]\n",
      "100%|██████████| 334/334 [00:20<00:00, 16.57it/s]\n"
     ]
    },
    {
     "name": "stdout",
     "output_type": "stream",
     "text": [
      "Epochs 194: source train acc: 0.942250; source test acc: 0.974300; target train acc: 0.778642; target test acc: 0.856205\n",
      "Epochs 194: source train acc: 0.942250; source test acc: 0.974300; target train acc: 0.778642; target test acc: 0.856205\n",
      "Epochs 194: source train acc: 0.942250; source test acc: 0.974300; target train acc: 0.778642; target test acc: 0.856205\n",
      "Epochs 194: source train acc: 0.942250; source test acc: 0.974300; target train acc: 0.778642; target test acc: 0.856205\n",
      "Epochs 194: source train acc: 0.942250; source test acc: 0.974300; target train acc: 0.778642; target test acc: 0.856205\n",
      "Epochs 194: source train acc: 0.942250; source test acc: 0.974300; target train acc: 0.778642; target test acc: 0.856205\n"
     ]
    },
    {
     "name": "stderr",
     "output_type": "stream",
     "text": [
      "100%|██████████| 150/150 [00:07<00:00, 19.69it/s]\n",
      "100%|██████████| 184/184 [00:11<00:00, 15.43it/s]\n",
      "100%|██████████| 334/334 [00:20<00:00, 16.67it/s]\n"
     ]
    },
    {
     "name": "stdout",
     "output_type": "stream",
     "text": [
      "Epochs 195: source train acc: 0.940500; source test acc: 0.974900; target train acc: 0.778560; target test acc: 0.830979\n",
      "Epochs 195: source train acc: 0.940500; source test acc: 0.974900; target train acc: 0.778560; target test acc: 0.830979\n",
      "Epochs 195: source train acc: 0.940500; source test acc: 0.974900; target train acc: 0.778560; target test acc: 0.830979\n",
      "Epochs 195: source train acc: 0.940500; source test acc: 0.974900; target train acc: 0.778560; target test acc: 0.830979\n",
      "Epochs 195: source train acc: 0.940500; source test acc: 0.974900; target train acc: 0.778560; target test acc: 0.830979\n",
      "Epochs 195: source train acc: 0.940500; source test acc: 0.974900; target train acc: 0.778560; target test acc: 0.830979\n"
     ]
    },
    {
     "name": "stderr",
     "output_type": "stream",
     "text": [
      "100%|██████████| 150/150 [00:07<00:00, 19.70it/s]\n",
      "100%|██████████| 184/184 [00:11<00:00, 15.39it/s]\n",
      "100%|██████████| 334/334 [00:20<00:00, 16.65it/s]\n"
     ]
    },
    {
     "name": "stdout",
     "output_type": "stream",
     "text": [
      "Epochs 196: source train acc: 0.941433; source test acc: 0.975800; target train acc: 0.779284; target test acc: 0.853707\n",
      "Epochs 196: source train acc: 0.941433; source test acc: 0.975800; target train acc: 0.779284; target test acc: 0.853707\n",
      "Epochs 196: source train acc: 0.941433; source test acc: 0.975800; target train acc: 0.779284; target test acc: 0.853707\n",
      "Epochs 196: source train acc: 0.941433; source test acc: 0.975800; target train acc: 0.779284; target test acc: 0.853707\n",
      "Epochs 196: source train acc: 0.941433; source test acc: 0.975800; target train acc: 0.779284; target test acc: 0.853707\n",
      "Epochs 196: source train acc: 0.941433; source test acc: 0.975800; target train acc: 0.779284; target test acc: 0.853707\n"
     ]
    },
    {
     "name": "stderr",
     "output_type": "stream",
     "text": [
      "100%|██████████| 150/150 [00:07<00:00, 19.60it/s]\n",
      "100%|██████████| 184/184 [00:11<00:00, 15.40it/s]\n",
      "100%|██████████| 334/334 [00:20<00:00, 16.61it/s]\n"
     ]
    },
    {
     "name": "stdout",
     "output_type": "stream",
     "text": [
      "Epochs 197: source train acc: 0.941633; source test acc: 0.975200; target train acc: 0.777810; target test acc: 0.857665\n",
      "Epochs 197: source train acc: 0.941633; source test acc: 0.975200; target train acc: 0.777810; target test acc: 0.857665\n",
      "Epochs 197: source train acc: 0.941633; source test acc: 0.975200; target train acc: 0.777810; target test acc: 0.857665\n",
      "Epochs 197: source train acc: 0.941633; source test acc: 0.975200; target train acc: 0.777810; target test acc: 0.857665\n",
      "Epochs 197: source train acc: 0.941633; source test acc: 0.975200; target train acc: 0.777810; target test acc: 0.857665\n",
      "Epochs 197: source train acc: 0.941633; source test acc: 0.975200; target train acc: 0.777810; target test acc: 0.857665\n"
     ]
    },
    {
     "name": "stderr",
     "output_type": "stream",
     "text": [
      "100%|██████████| 150/150 [00:07<00:00, 19.72it/s]\n",
      "100%|██████████| 184/184 [00:11<00:00, 15.37it/s]\n",
      "100%|██████████| 334/334 [00:20<00:00, 16.57it/s]\n"
     ]
    },
    {
     "name": "stdout",
     "output_type": "stream",
     "text": [
      "Epochs 198: source train acc: 0.940950; source test acc: 0.974100; target train acc: 0.777386; target test acc: 0.810557\n",
      "Epochs 198: source train acc: 0.940950; source test acc: 0.974100; target train acc: 0.777386; target test acc: 0.810557\n",
      "Epochs 198: source train acc: 0.940950; source test acc: 0.974100; target train acc: 0.777386; target test acc: 0.810557\n",
      "Epochs 198: source train acc: 0.940950; source test acc: 0.974100; target train acc: 0.777386; target test acc: 0.810557\n",
      "Epochs 198: source train acc: 0.940950; source test acc: 0.974100; target train acc: 0.777386; target test acc: 0.810557\n",
      "Epochs 198: source train acc: 0.940950; source test acc: 0.974100; target train acc: 0.777386; target test acc: 0.810557\n"
     ]
    },
    {
     "name": "stderr",
     "output_type": "stream",
     "text": [
      "100%|██████████| 150/150 [00:07<00:00, 19.67it/s]\n",
      "100%|██████████| 184/184 [00:12<00:00, 15.33it/s]\n",
      "100%|██████████| 334/334 [00:20<00:00, 16.62it/s]\n"
     ]
    },
    {
     "name": "stdout",
     "output_type": "stream",
     "text": [
      "Epochs 199: source train acc: 0.941100; source test acc: 0.975200; target train acc: 0.777837; target test acc: 0.827457\n",
      "Epochs 199: source train acc: 0.941100; source test acc: 0.975200; target train acc: 0.777837; target test acc: 0.827457\n",
      "Epochs 199: source train acc: 0.941100; source test acc: 0.975200; target train acc: 0.777837; target test acc: 0.827457\n",
      "Epochs 199: source train acc: 0.941100; source test acc: 0.975200; target train acc: 0.777837; target test acc: 0.827457\n",
      "Epochs 199: source train acc: 0.941100; source test acc: 0.975200; target train acc: 0.777837; target test acc: 0.827457\n",
      "Epochs 199: source train acc: 0.941100; source test acc: 0.975200; target train acc: 0.777837; target test acc: 0.827457\n"
     ]
    },
    {
     "name": "stderr",
     "output_type": "stream",
     "text": [
      "100%|██████████| 150/150 [00:07<00:00, 19.62it/s]\n",
      "100%|██████████| 184/184 [00:11<00:00, 15.39it/s]\n",
      "100%|██████████| 334/334 [00:20<00:00, 16.64it/s]\n"
     ]
    },
    {
     "name": "stdout",
     "output_type": "stream",
     "text": [
      "Epochs 200: source train acc: 0.940050; source test acc: 0.969500; target train acc: 0.777878; target test acc: 0.841503\n",
      "Epochs 200: source train acc: 0.940050; source test acc: 0.969500; target train acc: 0.777878; target test acc: 0.841503\n",
      "Epochs 200: source train acc: 0.940050; source test acc: 0.969500; target train acc: 0.777878; target test acc: 0.841503\n",
      "Epochs 200: source train acc: 0.940050; source test acc: 0.969500; target train acc: 0.777878; target test acc: 0.841503\n",
      "Epochs 200: source train acc: 0.940050; source test acc: 0.969500; target train acc: 0.777878; target test acc: 0.841503\n",
      "Epochs 200: source train acc: 0.940050; source test acc: 0.969500; target train acc: 0.777878; target test acc: 0.841503\n"
     ]
    }
   ],
   "source": [
    "target_acc_label_ = []\n",
    "source_acc_ = []\n",
    "source_test_acc_ = []\n",
    "target_test_acc_ = []\n",
    "\n",
    "logger.info('Started Training')\n",
    "\n",
    "\n",
    "for epoch in range(args.epochs):\n",
    "    # update classifier\n",
    "    # on source domain mnist\n",
    "    CNet.train()\n",
    "    encoder.train()\n",
    "    source_acc = 0.0\n",
    "    num_datas = 0.0\n",
    "    for batch_id, (source_x, source_y) in tqdm(enumerate(train_mnist_loader), total=len(train_mnist_loader)):\n",
    "        optimizerCNet.zero_grad()\n",
    "        optimizerEncoder.zero_grad()\n",
    "        source_x = source_x.to(device).float()\n",
    "        source_y = source_y.to(device)\n",
    "        num_datas += source_x.size(0)\n",
    "        source_x_embedding = encoder(source_x)\n",
    "        pred = CNet(source_x_embedding)\n",
    "        source_acc += (pred.argmax(-1) == source_y).sum().item()\n",
    "        loss = criterion_classifier(pred, source_y)\n",
    "        loss.backward()\n",
    "        optimizerCNet.step()\n",
    "        optimizerEncoder.step()\n",
    "        \n",
    "        \n",
    "    source_acc = source_acc / num_datas\n",
    "    source_acc_.append(source_acc)\n",
    "    \n",
    "    \n",
    "    \n",
    "    # on target domain svhn\n",
    "    target_acc = 0.0\n",
    "    num_datas = 0.0\n",
    "    CNet.train()\n",
    "    encoder.train()\n",
    "\n",
    "    for batch_id, (target_x, target_y) in tqdm(enumerate(train_svhn_loader), total=len(train_svhn_loader)):\n",
    "        optimizerCNet.zero_grad()\n",
    "        optimizerEncoder.zero_grad()\n",
    "        target_x = target_x.to(device).float()\n",
    "        target_y = target_y.to(device)\n",
    "        num_datas += target_x.size(0)\n",
    "        target_x_embedding = encoder(target_x)\n",
    "        pred = CNet(target_x_embedding)\n",
    "        target_acc += (pred.argmax(-1) == target_y).sum().item()\n",
    "        loss = criterion_classifier(pred, target_y)\n",
    "        loss.backward()\n",
    "        optimizerCNet.step()\n",
    "        optimizerEncoder.step()\n",
    "        \n",
    "    \n",
    "    target_acc = target_acc / num_datas\n",
    "    target_acc_label_.append(target_acc)\n",
    "    \n",
    "    \n",
    "    # DANN\n",
    "    DomainCNet.train()\n",
    "    encoder.train()\n",
    "    num_datas = 0.0\n",
    "    for batch_id, (adv_x, adv_y) in tqdm(enumerate(adverial_loader), total=len(adverial_loader)):\n",
    "        optimizerCNet.zero_grad()\n",
    "        optimizerEncoder.zero_grad()\n",
    "        adv_x = adv_x.to(device).float()\n",
    "        adv_y = adv_y.to(device)\n",
    "        num_datas += adv_x.size(0)\n",
    "        adv_x_embedding = encoder(adv_x)\n",
    "        pred = DomainCNet(adv_x_embedding)\n",
    "        # adv_acc += (pred.argmax(-1) == adv_y).sum().item()\n",
    "        loss = args.dann_weight * criterion_classifier(pred, adv_y)\n",
    "        loss.backward()\n",
    "        optimizerEncoder.step()\n",
    "        optimizerDomainCNet.step()\n",
    "    \n",
    "    \n",
    "    \n",
    "    \n",
    "    \n",
    "    # eval on source   \n",
    "    source_test_acc = 0.0\n",
    "    num_datas = 0.0\n",
    "    CNet.eval()\n",
    "    encoder.eval()\n",
    "    \n",
    "    for batch_id, (source_x, source_y) in enumerate(test_mnist_loader):\n",
    "        optimizerCNet.zero_grad()\n",
    "        optimizerEncoder.zero_grad()\n",
    "        source_x = source_x.to(device).float()\n",
    "        source_y = source_y.to(device)\n",
    "        num_datas += source_x.size(0)\n",
    "        source_x_embedding = encoder(source_x)\n",
    "        pred = CNet(source_x_embedding)\n",
    "        source_test_acc += (pred.argmax(-1) == source_y).sum().item()\n",
    "        \n",
    "    source_test_acc = source_test_acc / num_datas\n",
    "    source_test_acc_.append(source_test_acc)\n",
    "    \n",
    "    # eval on target \n",
    "    num_datas = 0.0\n",
    "    target_test_acc = 0.0\n",
    "    for batch_id, (target_x, target_y) in enumerate(test_svhn_loader):\n",
    "        optimizerCNet.zero_grad()\n",
    "        optimizerEncoder.zero_grad()\n",
    "        target_x = target_x.to(device).float()\n",
    "        target_y = target_y.to(device)\n",
    "        num_datas += target_x.size(0)\n",
    "        target_x_embedding = encoder(target_x)\n",
    "        pred = CNet(target_x_embedding)\n",
    "        target_test_acc += (pred.argmax(-1) == target_y).sum().item()\n",
    "    \n",
    "    target_test_acc = target_test_acc / num_datas\n",
    "    target_test_acc_.append(source_test_acc)\n",
    "    \n",
    "    if epoch % args.model_save_period == 0:\n",
    "        torch.save(DomainCNet.state_dict(), args.save_path+model_sub_folder+ '/DomainCNet_%i.t7'%(epoch+1))\n",
    "        torch.save(encoder.state_dict(), args.save_path+model_sub_folder+ '/encoder_%i.t7'%(epoch+1))\n",
    "        torch.save(CNet.state_dict(), args.save_path+model_sub_folder+ '/CNet_%i.t7'%(epoch+1))\n",
    "\n",
    "    \n",
    "    logger.info('Epochs %i: source train acc: %f; source test acc: %f; target train acc: %f; target test acc: %f'%(epoch+1, source_acc, source_test_acc, target_acc, target_test_acc))\n",
    "    "
   ]
  },
  {
   "cell_type": "code",
   "execution_count": null,
   "metadata": {},
   "outputs": [],
   "source": []
  }
 ],
 "metadata": {
  "kernelspec": {
   "display_name": "Python 3",
   "language": "python",
   "name": "python3"
  },
  "language_info": {
   "codemirror_mode": {
    "name": "ipython",
    "version": 3
   },
   "file_extension": ".py",
   "mimetype": "text/x-python",
   "name": "python",
   "nbconvert_exporter": "python",
   "pygments_lexer": "ipython3",
   "version": "3.7.7"
  }
 },
 "nbformat": 4,
 "nbformat_minor": 4
}
