{
 "cells": [
  {
   "cell_type": "code",
   "execution_count": 1,
   "metadata": {},
   "outputs": [],
   "source": [
    "import torch\n",
    "import torchvision\n",
    "import torchvision.datasets as datasets\n",
    "from tqdm import tqdm\n",
    "import argparse\n",
    "from torch.utils.data import Dataset, DataLoader\n",
    "import torch.nn as nn\n",
    "import torch.nn.functional as F\n",
    "import torch.optim as optim\n",
    "import numpy as np\n",
    "import matplotlib.pyplot as plt\n",
    "import torch.backends.cudnn as cudnn\n",
    "import os\n",
    "import sys\n",
    "import logging\n",
    "import logging.handlers\n",
    "from PIL import Image"
   ]
  },
  {
   "cell_type": "markdown",
   "metadata": {},
   "source": [
    "# Parser"
   ]
  },
  {
   "cell_type": "code",
   "execution_count": 2,
   "metadata": {},
   "outputs": [
    {
     "name": "stderr",
     "output_type": "stream",
     "text": [
      "usage: ipykernel_launcher.py [-h] [--batch_size BATCH_SIZE] [--learning_rate LEARNING_RATE] [--momentum MOMENTUM] [--gpu_num GPU_NUM]\n",
      "                             [--seed SEED] [--save_path SAVE_PATH] [--subfolder SUBFOLDER] [--wtarget WTARGET]\n",
      "                             [--model_save_period MODEL_SAVE_PERIOD] [--epochs EPOCHS] [--dann_weight DANN_WEIGHT]\n",
      "                             [--start_shuffle_dann START_SHUFFLE_DANN] [--is_shuffle IS_SHUFFLE]\n",
      "ipykernel_launcher.py: error: unrecognized arguments: -f /home/tianqinl/.local/share/jupyter/runtime/kernel-409d2112-da67-4ee0-90fb-872f595a41ef.json\n"
     ]
    },
    {
     "ename": "SystemExit",
     "evalue": "2",
     "output_type": "error",
     "traceback": [
      "An exception has occurred, use %tb to see the full traceback.\n",
      "\u001b[0;31mSystemExit\u001b[0m\u001b[0;31m:\u001b[0m 2\n"
     ]
    },
    {
     "name": "stderr",
     "output_type": "stream",
     "text": [
      "/home/tianqinl/anaconda3/envs/pgm/lib/python3.8/site-packages/IPython/core/interactiveshell.py:3339: UserWarning: To exit: use 'exit', 'quit', or Ctrl-D.\n",
      "  warn(\"To exit: use 'exit', 'quit', or Ctrl-D.\", stacklevel=1)\n"
     ]
    }
   ],
   "source": [
    "parser = argparse.ArgumentParser(description='Domain adaptation')\n",
    "parser.add_argument(\"--batch_size\", type=int, default=\"400\", help=\"batch size\")\n",
    "parser.add_argument(\"--learning_rate\", type=float, default=1e-3, help=\"learning rate\")\n",
    "parser.add_argument(\"--momentum\", type=float, default=0.5, help=\"momentum\")\n",
    "parser.add_argument(\"--gpu_num\", type=int, default=0, help=\"gpu num\")\n",
    "parser.add_argument(\"--seed\", type=int, default=123, help=\"munually set seed\")\n",
    "parser.add_argument(\"--save_path\", type=str, default=\"../train_related\", help=\"save path\")\n",
    "parser.add_argument(\"--subfolder\", type=str, default='test', help=\"subfolder name\")\n",
    "parser.add_argument(\"--wtarget\", type=float, default=0.7, help=\"target weight\")\n",
    "parser.add_argument(\"--model_save_period\", type=int, default=2, help=\"save period\")\n",
    "parser.add_argument(\"--epochs\", type=int, default=2000, help=\"label shuffling\")\n",
    "parser.add_argument(\"--dann_weight\", type=float, default=1, help=\"weight for label shuffling\")\n",
    "parser.add_argument(\"--start_shuffle_dann\", type=int, default=100, help=\"when to start shuffling\")\n",
    "parser.add_argument(\"--is_shuffle\", type=int, default=1, help=\"no shuffle if 0\")\n",
    "\n",
    "\n",
    "args = parser.parse_args()\n",
    "# snap shot of py file and command\n",
    "python_file_name = sys.argv[0]\n"
   ]
  },
  {
   "cell_type": "markdown",
   "metadata": {},
   "source": [
    "# local only"
   ]
  },
  {
   "cell_type": "code",
   "execution_count": 4,
   "metadata": {},
   "outputs": [],
   "source": [
    "# # local only\n",
    "# class local_args:\n",
    "#     def __init__(self, **entries):\n",
    "#         self.__dict__.update(entries)\n",
    "        \n",
    "# args = local_args(**{\n",
    "#     'batch_size': 400,\n",
    "#     'learning_rate': 1e-3,\n",
    "#     'momentum': 0.5,\n",
    "#     'gpu_num': 0,\n",
    "#     'seed': 123,\n",
    "#     'save_path': \"../train_related\",\n",
    "#     'epochs': 2,\n",
    "#     'subfolder': \"test\",\n",
    "#     'wtarget': 0.7,\n",
    "#     'dann_weight': 1,\n",
    "#     'model_save_period': 2,\n",
    "#     'start_shuffle_dann': 1,\n",
    "#     'is_shuffle': 1\n",
    "# })"
   ]
  },
  {
   "cell_type": "code",
   "execution_count": 5,
   "metadata": {},
   "outputs": [
    {
     "name": "stdout",
     "output_type": "stream",
     "text": [
      "cuda:0\n"
     ]
    }
   ],
   "source": [
    "\n",
    "device = torch.device('cuda:{}'.format(args.gpu_num) if torch.cuda.is_available() else 'cpu')\n",
    "# seed\n",
    "torch.manual_seed(args.seed)\n",
    "torch.cuda.manual_seed(args.seed)\n",
    "np.random.seed(args.seed)\n",
    "cudnn.deterministic = True\n",
    "torch.backends.cudnn.deterministic = True\n",
    "\n",
    "\n",
    "\n",
    "device = torch.device('cuda:{}'.format(args.gpu_num) if torch.cuda.is_available() else 'cpu')\n",
    "print(device)\n",
    "\n",
    "\n",
    "model_sub_folder = args.subfolder + '/shuffle_weight_%f_learningrate_%f_startsepoch_%i_isshuffle_%i'%(args.dann_weight, args.learning_rate, args.start_shuffle_dann, args.is_shuffle)\n",
    "save_folder = os.path.join(args.save_path, model_sub_folder)\n",
    "if not os.path.exists(save_folder):\n",
    "    os.makedirs(save_folder)   \n"
   ]
  },
  {
   "cell_type": "code",
   "execution_count": 6,
   "metadata": {},
   "outputs": [
    {
     "name": "stdout",
     "output_type": "stream",
     "text": [
      "Fixed source testing bug\n",
      "batch_size: 400\n",
      "learning_rate: 0.001\n",
      "momentum: 0.5\n",
      "gpu_num: 0\n",
      "seed: 123\n",
      "save_path: ../train_related\n",
      "epochs: 2\n",
      "subfolder: test\n",
      "wtarget: 0.7\n",
      "dann_weight: 1\n",
      "model_save_period: 2\n",
      "start_shuffle_dann: 1\n",
      "is_shuffle: 1\n",
      "Training Save Path: ../train_related/test/shuffle_weight_1.000000_learningrate_0.001000_startsepoch_1_isshuffle_1\n"
     ]
    }
   ],
   "source": [
    "\n",
    "logger = logging.getLogger()\n",
    "logger.setLevel(logging.INFO)\n",
    "logfile_path = os.path.join(save_folder, 'logfile.log')\n",
    "if os.path.isfile(logfile_path):\n",
    "    os.remove(logfile_path)\n",
    "    \n",
    "file_log_handler = logging.FileHandler(logfile_path)\n",
    "logger.addHandler(file_log_handler)\n",
    "\n",
    "stdout_log_handler = logging.StreamHandler(sys.stdout)\n",
    "logger.addHandler(stdout_log_handler)\n",
    "logger.info(\"Fixed source testing bug\")\n",
    "attrs = vars(args)\n",
    "for item in attrs.items():\n",
    "    logger.info(\"%s: %s\"%item)\n",
    "logger.info(\"Training Save Path: {}\".format(save_folder))\n"
   ]
  },
  {
   "cell_type": "markdown",
   "metadata": {},
   "source": [
    "# Data loader"
   ]
  },
  {
   "cell_type": "code",
   "execution_count": 7,
   "metadata": {},
   "outputs": [],
   "source": [
    "mnist_trainset = datasets.MNIST(root='../data', train=True, download=True, transform=torchvision.transforms.Compose([\n",
    "                               torchvision.transforms.ToTensor(),\n",
    "                               torchvision.transforms.Normalize(\n",
    "                                 (0.1307,), (0.3081,))\n",
    "                             ]))"
   ]
  },
  {
   "cell_type": "code",
   "execution_count": 8,
   "metadata": {},
   "outputs": [],
   "source": [
    "mnist_testset = datasets.MNIST(root='../data', train=False, download=True, transform=torchvision.transforms.Compose([\n",
    "                               torchvision.transforms.ToTensor(),\n",
    "                               torchvision.transforms.Normalize(\n",
    "                                 (0.1307,), (0.3081,))\n",
    "                             ]))"
   ]
  },
  {
   "cell_type": "code",
   "execution_count": 9,
   "metadata": {},
   "outputs": [
    {
     "name": "stdout",
     "output_type": "stream",
     "text": [
      "Using downloaded and verified file: ../data/train_32x32.mat\n"
     ]
    }
   ],
   "source": [
    "svhn_trainset = datasets.SVHN(root='../data', split='train', download=True, transform=torchvision.transforms.Compose([\n",
    "                    torchvision.transforms.Resize((28, 28)),\n",
    "                    torchvision.transforms.Grayscale(num_output_channels=1),\n",
    "                    torchvision.transforms.ToTensor(),\n",
    "                    torchvision.transforms.Normalize([0.5], [0.5])]))"
   ]
  },
  {
   "cell_type": "code",
   "execution_count": 10,
   "metadata": {},
   "outputs": [
    {
     "name": "stdout",
     "output_type": "stream",
     "text": [
      "Using downloaded and verified file: ../data/test_32x32.mat\n"
     ]
    }
   ],
   "source": [
    "svhn_testset = datasets.SVHN(root='../data', split='test', download=True, transform=torchvision.transforms.Compose([\n",
    "                    torchvision.transforms.Resize((28, 28)),\n",
    "                    torchvision.transforms.Grayscale(num_output_channels=1),\n",
    "                    torchvision.transforms.ToTensor(),\n",
    "                    torchvision.transforms.Normalize([0.5], [0.5])]))"
   ]
  },
  {
   "cell_type": "code",
   "execution_count": 11,
   "metadata": {},
   "outputs": [],
   "source": [
    "# # mnist\n",
    "# train_mnist_loader = DataLoader(mnist_trainset, batch_size=args.batch_size, shuffle=True)\n",
    "# test_mnist_loader = DataLoader(mnist_testset, batch_size=args.batch_size, shuffle=True)\n",
    "# examples = enumerate(test_mnist_loader)\n",
    "# batch_idx, (example_data, example_targets) = next(examples)\n",
    "\n",
    "\n",
    "# fig = plt.figure()\n",
    "# for i in range(6):\n",
    "#   plt.subplot(2,3,i+1)\n",
    "#   plt.tight_layout()\n",
    "#   plt.imshow(example_data[i][0], cmap='gray', interpolation='none')\n",
    "#   plt.title(\"Ground Truth: {}\".format(example_targets[i]))\n",
    "#   plt.xticks([])\n",
    "#   plt.yticks([])"
   ]
  },
  {
   "cell_type": "code",
   "execution_count": 12,
   "metadata": {},
   "outputs": [],
   "source": [
    "# # svhn\n",
    "# train_svhn_loader = DataLoader(svhn_trainset, batch_size=args.batch_size, shuffle=True)\n",
    "# test_svhn_loader = DataLoader(svhn_trainset, batch_size=args.batch_size, shuffle=True)\n",
    "# examples = enumerate(train_svhn_loader)\n",
    "# batch_idx, (example_data, example_targets) = next(examples)\n",
    "\n",
    "\n",
    "# fig = plt.figure()\n",
    "# for i in range(6):\n",
    "#   plt.subplot(2,3,i+1)\n",
    "#   plt.tight_layout()\n",
    "#   plt.imshow(example_data[i][0], cmap='gray', interpolation='none')\n",
    "#   plt.title(\"Ground Truth: {}\".format(example_targets[i]))\n",
    "#   plt.xticks([])\n",
    "#   plt.yticks([])"
   ]
  },
  {
   "cell_type": "code",
   "execution_count": null,
   "metadata": {},
   "outputs": [],
   "source": []
  },
  {
   "cell_type": "markdown",
   "metadata": {},
   "source": [
    "## Process data for cancat with source and target label"
   ]
  },
  {
   "cell_type": "code",
   "execution_count": 13,
   "metadata": {},
   "outputs": [],
   "source": [
    "class ConcatDataset(Dataset):\n",
    "    def __init__(self, x, y, mode='mnist'):\n",
    "        self.x = x\n",
    "        self.y = y\n",
    "        self.len = self.x.shape[0]\n",
    "        self.mode = mode\n",
    "        if self.mode == 'mnist':\n",
    "            self.transform = torchvision.transforms.Compose([\n",
    "                               torchvision.transforms.ToTensor(),\n",
    "                               torchvision.transforms.Normalize(\n",
    "                                 (0.1307,), (0.3081,))\n",
    "                             ])\n",
    "        elif self.mode == 'svhn':\n",
    "            self.transform = torchvision.transforms.Compose([\n",
    "                    torchvision.transforms.Resize((28, 28)),\n",
    "                    torchvision.transforms.Grayscale(num_output_channels=1),\n",
    "                    torchvision.transforms.ToTensor(),\n",
    "                    torchvision.transforms.Normalize([0.5], [0.5])])\n",
    "\n",
    "    def __len__(self):\n",
    "        return self.len\n",
    "    \n",
    "    def __getitem__(self, index):\n",
    "        if self.mode == 'mnist':\n",
    "            img = Image.fromarray(self.x[index].numpy(), mode='L')\n",
    "            img = self.transform(img)\n",
    "        elif self.mode == 'svhn':\n",
    "            img = Image.fromarray(np.transpose(self.x[index], (1, 2, 0)))\n",
    "            img = self.transform(img)\n",
    "    \n",
    "        return img, self.y[index]"
   ]
  },
  {
   "cell_type": "code",
   "execution_count": 14,
   "metadata": {},
   "outputs": [],
   "source": [
    "torch.manual_seed(args.seed)\n",
    "torch.cuda.manual_seed(args.seed)\n",
    "np.random.seed(args.seed)\n",
    "\n",
    "domain_labels = torch.cat([torch.zeros(svhn_trainset.data.shape[0]), torch.ones(mnist_trainset.data.shape[0])])\n",
    "index = torch.randperm(domain_labels.shape[0])\n",
    "domain_labels = domain_labels[index.numpy(), ]\n",
    "\n",
    "concat_mnist_train = ConcatDataset(mnist_trainset.data, domain_labels[:mnist_trainset.data.shape[0]], mode = 'mnist')\n",
    "concat_svhn_train = ConcatDataset(svhn_trainset.data, domain_labels[mnist_trainset.data.shape[0]:], mode = 'svhn')\n",
    "\n",
    "\n",
    "adverial_dataset = torch.utils.data.ConcatDataset([concat_mnist_train, concat_svhn_train])\n",
    "# [i[1] for i in [adverial_dataset[m] for m in torch.randint(0, len(adverial_dataset), (100,))]]\n",
    "adverial_loader = DataLoader(adverial_dataset, batch_size=args.batch_size, shuffle=True)"
   ]
  },
  {
   "cell_type": "markdown",
   "metadata": {},
   "source": [
    "# Model"
   ]
  },
  {
   "cell_type": "code",
   "execution_count": 15,
   "metadata": {},
   "outputs": [],
   "source": [
    "class Encoder(nn.Module):\n",
    "    def __init__(self):\n",
    "        super(Encoder, self).__init__()\n",
    "        self.layer1 = nn.Sequential(\n",
    "            nn.Conv2d(1, 64, kernel_size=5, stride=1, padding=2), #[N, 64, 28, 28]\n",
    "            nn.ReLU(),\n",
    "            nn.MaxPool2d(kernel_size=3, stride=2, padding=1)) #[N, 64, 14, 14]\n",
    "        self.layer2 = nn.Sequential(\n",
    "            nn.Conv2d(64, 64, kernel_size=5, stride=1, padding=2), #[N, 64, 14, 14]\n",
    "            nn.ReLU(),\n",
    "            nn.MaxPool2d(kernel_size=3, stride=2, padding=1)) #[N, 64, 7, 7]\n",
    "        self.layer3 = nn.Sequential(\n",
    "            nn.Conv2d(64, 128, kernel_size=5, stride=1, padding=2), #[N, 128, 7, 7]\n",
    "            nn.ReLU())\n",
    "            \n",
    "\n",
    "\n",
    "    def forward(self, x):\n",
    "        x = self.layer1(x)\n",
    "        x = self.layer2(x)\n",
    "        x = self.layer3(x)\n",
    "        x = x.view(-1, 128*7*7) # [N, 128 * 7 * 7]\n",
    "        return x\n",
    "    \n",
    "    \n"
   ]
  },
  {
   "cell_type": "code",
   "execution_count": 16,
   "metadata": {},
   "outputs": [],
   "source": [
    "class FNN(nn.Module):\n",
    "    def __init__(self, d_in, d_h1, d_h2, d_out, dp=0.2):\n",
    "        super(FNN, self).__init__()\n",
    "        self.fc1 = nn.Linear(d_in, d_h1)\n",
    "        self.ln1 = nn.BatchNorm1d(d_h1)\n",
    "        self.relu1 = nn.ReLU(inplace=True)\n",
    "        self.dropout1 = nn.Dropout(dp)\n",
    "        self.fc2 = nn.Linear(d_h1, d_h2)\n",
    "        self.ln2 = nn.BatchNorm1d(d_h2)\n",
    "        self.relu2 = nn.ReLU(inplace=True)\n",
    "        self.dropout2 = nn.Dropout(dp)\n",
    "        self.fc3 = nn.Linear(d_h2, d_out)\n",
    "\n",
    "    def forward(self, x):\n",
    "        x = self.fc1(x)\n",
    "        x = self.ln1(x)\n",
    "        x = self.relu1(x)\n",
    "        x = self.dropout1(x)\n",
    "        x = self.fc2(x)\n",
    "        x = self.ln2(x)\n",
    "        x = self.relu2(x)\n",
    "        x = self.dropout2(x)\n",
    "        x = self.fc3(x)\n",
    "        return x\n",
    "    \n",
    "    def before_lastlinear(self, x):\n",
    "        x = self.fc1(x)\n",
    "        x = self.ln1(x)\n",
    "        x = self.relu1(x)\n",
    "        x = self.dropout1(x)\n",
    "        x = self.fc2(x)\n",
    "        x = self.ln2(x)\n",
    "        x = self.relu2(x)\n",
    "        x = self.dropout2(x)\n",
    "        return x\n",
    "\n",
    "        "
   ]
  },
  {
   "cell_type": "code",
   "execution_count": 17,
   "metadata": {},
   "outputs": [],
   "source": [
    "class Adversial_loss(nn.Module):\n",
    "    def __init__(self):\n",
    "        super(Adversial_loss, self).__init__()\n",
    "    \n",
    "    def forward(self):\n",
    "        pass"
   ]
  },
  {
   "cell_type": "code",
   "execution_count": 18,
   "metadata": {},
   "outputs": [],
   "source": [
    "def weights_init(m):\n",
    "    if type(m) == nn.Linear:\n",
    "        torch.nn.init.xavier_uniform_(m.weight)\n",
    "    elif type(m) == nn.LayerNorm:\n",
    "        torch.nn.init.normal_(m.weight, 1.0, 0.02)\n",
    "        torch.nn.init.constant_(m.bias, 0)\n"
   ]
  },
  {
   "cell_type": "code",
   "execution_count": 23,
   "metadata": {},
   "outputs": [
    {
     "name": "stdout",
     "output_type": "stream",
     "text": [
      "cuda:0\n"
     ]
    },
    {
     "data": {
      "text/plain": [
       "FNN(\n",
       "  (fc1): Linear(in_features=6272, out_features=1024, bias=True)\n",
       "  (ln1): BatchNorm1d(1024, eps=1e-05, momentum=0.1, affine=True, track_running_stats=True)\n",
       "  (relu1): ReLU(inplace=True)\n",
       "  (dropout1): Dropout(p=0.2, inplace=False)\n",
       "  (fc2): Linear(in_features=1024, out_features=1024, bias=True)\n",
       "  (ln2): BatchNorm1d(1024, eps=1e-05, momentum=0.1, affine=True, track_running_stats=True)\n",
       "  (relu2): ReLU(inplace=True)\n",
       "  (dropout2): Dropout(p=0.2, inplace=False)\n",
       "  (fc3): Linear(in_features=1024, out_features=1, bias=True)\n",
       ")"
      ]
     },
     "execution_count": 23,
     "metadata": {},
     "output_type": "execute_result"
    }
   ],
   "source": [
    "\n",
    "device = torch.device('cuda:{}'.format(args.gpu_num) if torch.cuda.is_available() else 'cpu')\n",
    "print(device)\n",
    "\n",
    "\n",
    "encoder = Encoder().to(device)\n",
    "CNet = FNN(d_in=128*7*7, d_h1=3072, d_h2=2048, d_out=10, dp=0.2).to(device)\n",
    "DomainCNet = FNN(d_in=128*7*7, d_h1=1024, d_h2=1024, d_out=1, dp=0.2).to(device)\n",
    "\n",
    "\n",
    "\n",
    "\n",
    "optimizerEncoder = optim.Adam(encoder.parameters(), lr=args.learning_rate)\n",
    "optimizerCNet = optim.Adam(CNet.parameters(), lr=args.learning_rate)\n",
    "optimizerDomainCNet = optim.Adam(DomainCNet.parameters(), lr=args.learning_rate)\n",
    "\n",
    "# criterion_classifier = nn.CrossEntropyLoss().to(device)\n",
    "criterion_classifier = nn.MSELoss().to(device)\n",
    "\n",
    "encoder.apply(weights_init)\n",
    "CNet.apply(weights_init)\n",
    "DomainCNet.apply(weights_init)"
   ]
  },
  {
   "cell_type": "markdown",
   "metadata": {},
   "source": [
    "# Train"
   ]
  },
  {
   "cell_type": "code",
   "execution_count": 27,
   "metadata": {},
   "outputs": [
    {
     "name": "stdout",
     "output_type": "stream",
     "text": [
      "Started Training\n"
     ]
    },
    {
     "name": "stderr",
     "output_type": "stream",
     "text": [
      "  0%|          | 0/334 [00:00<?, ?it/s]"
     ]
    },
    {
     "name": "stdout",
     "output_type": "stream",
     "text": [
      "torch.Size([400, 1])\n",
      "torch.Size([400])\n"
     ]
    },
    {
     "name": "stderr",
     "output_type": "stream",
     "text": [
      "\n"
     ]
    },
    {
     "name": "stdout",
     "output_type": "stream",
     "text": [
      "Epochs 1: Shuffle loss: 1.024093; domain acc: 0.577500\n"
     ]
    },
    {
     "name": "stderr",
     "output_type": "stream",
     "text": [
      "  0%|          | 0/334 [00:00<?, ?it/s]"
     ]
    },
    {
     "name": "stdout",
     "output_type": "stream",
     "text": [
      "torch.Size([400, 1])\n",
      "torch.Size([400])\n",
      "Epochs 2: Shuffle loss: 52.054394; domain acc: 0.582500\n"
     ]
    },
    {
     "name": "stderr",
     "output_type": "stream",
     "text": [
      "\n"
     ]
    }
   ],
   "source": [
    "target_acc_label_ = []\n",
    "source_acc_ = []\n",
    "source_test_acc_ = []\n",
    "target_test_acc_ = []\n",
    "domain_acc_ = []\n",
    "accumulate_loss_ = []\n",
    "logger.info('Started Training')\n",
    "\n",
    "\n",
    "for epoch in range(args.epochs):\n",
    "    # update classifier\n",
    "\n",
    "\n",
    "    accumulate_loss = 0.0\n",
    "    domain_acc = 0.0\n",
    "    DomainCNet.train()\n",
    "    encoder.train()\n",
    "    num_datas = 0.0\n",
    "    for batch_id, (adv_x, adv_y) in tqdm(enumerate(adverial_loader), total=len(adverial_loader)):\n",
    "        optimizerCNet.zero_grad()\n",
    "        optimizerEncoder.zero_grad()\n",
    "        adv_x = adv_x.to(device).float()\n",
    "        adv_y = adv_y.to(device).float()\n",
    "        num_datas += adv_x.size(0)\n",
    "\n",
    "        adv_x_embedding = encoder(adv_x)\n",
    "        pred = DomainCNet(adv_x_embedding)\n",
    "\n",
    "        domain_acc += (pred.argmax(-1) == adv_y).sum().item()\n",
    "        # adv_acc += (pred.argmax(-1) == adv_y).sum().item()\n",
    "        loss = criterion_classifier(pred, adv_y.view(-1,1))\n",
    "        \n",
    "        accumulate_loss += loss.item() \n",
    "        loss.backward()\n",
    "\n",
    "        optimizerDomainCNet.step()\n",
    "        optimizerEncoder.step() \n",
    "\n",
    "    accumulate_loss_.append(accumulate_loss)\n",
    "    domain_acc = domain_acc / num_datas\n",
    "    domain_acc_.append(domain_acc)\n",
    "\n",
    "\n",
    "   \n",
    "\n",
    "    \n",
    "    if epoch % args.model_save_period == 0:\n",
    "        torch.save(DomainCNet.state_dict(), os.path.join(save_folder, 'DomainCNet_%i.t7'%(epoch+1)))\n",
    "        torch.save(encoder.state_dict(), os.path.join(save_folder, 'encoder_%i.t7'%(epoch+1)))\n",
    "        torch.save(CNet.state_dict(), os.path.join(save_folder, 'CNet_%i.t7'%(epoch+1)))\n",
    "\n",
    "    \n",
    "    logger.info('Epochs %i: Shuffle loss: %f; domain acc: %f'%(epoch+1, accumulate_loss, domain_acc))\n",
    "    np.save(os.path.join(args.save_path, model_sub_folder, 'domain_acc_.npy'),domain_acc_)\n",
    "    np.save(os.path.join(args.save_path, model_sub_folder, 'accumulate_loss_.npy'),accumulate_loss_)\n"
   ]
  },
  {
   "cell_type": "code",
   "execution_count": null,
   "metadata": {},
   "outputs": [],
   "source": []
  }
 ],
 "metadata": {
  "kernelspec": {
   "display_name": "Python 3",
   "language": "python",
   "name": "python3"
  },
  "language_info": {
   "codemirror_mode": {
    "name": "ipython",
    "version": 3
   },
   "file_extension": ".py",
   "mimetype": "text/x-python",
   "name": "python",
   "nbconvert_exporter": "python",
   "pygments_lexer": "ipython3",
   "version": "3.8.2"
  }
 },
 "nbformat": 4,
 "nbformat_minor": 4
}
