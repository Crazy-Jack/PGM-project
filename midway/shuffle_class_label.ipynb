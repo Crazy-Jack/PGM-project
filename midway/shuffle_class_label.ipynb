{
 "cells": [
  {
   "cell_type": "code",
   "execution_count": 2,
   "metadata": {},
   "outputs": [],
   "source": [
    "import torch\n",
    "import torchvision\n",
    "import torchvision.datasets as datasets\n",
    "from tqdm import tqdm\n",
    "import argparse\n",
    "from torch.utils.data import Dataset, DataLoader\n",
    "import torch.nn as nn\n",
    "import torch.nn.functional as F\n",
    "import torch.optim as optim\n",
    "import numpy as np\n",
    "import matplotlib.pyplot as plt\n",
    "import torch.backends.cudnn as cudnn\n",
    "import os\n",
    "import sys\n",
    "import logging\n",
    "import logging.handlers\n",
    "from PIL import Image"
   ]
  },
  {
   "cell_type": "markdown",
   "metadata": {},
   "source": [
    "# Parser"
   ]
  },
  {
   "cell_type": "code",
   "execution_count": 4,
   "metadata": {},
   "outputs": [
    {
     "name": "stderr",
     "output_type": "stream",
     "text": [
      "usage: ipykernel_launcher.py [-h] [--batch_size BATCH_SIZE]\n",
      "                             [--learning_rate LEARNING_RATE]\n",
      "                             [--momentum MOMENTUM] [--gpu_num GPU_NUM]\n",
      "                             [--seed SEED] [--save_path SAVE_PATH]\n",
      "                             [--subfolder SUBFOLDER] [--wtarget WTARGET]\n",
      "                             [--model_save_period MODEL_SAVE_PERIOD]\n",
      "ipykernel_launcher.py: error: unrecognized arguments: -f C:\\Users\\Tianqin Li\\AppData\\Roaming\\jupyter\\runtime\\kernel-08181e98-b849-4c1c-9e80-38e466f8964c.json\n"
     ]
    },
    {
     "ename": "SystemExit",
     "evalue": "2",
     "output_type": "error",
     "traceback": [
      "An exception has occurred, use %tb to see the full traceback.\n",
      "\u001b[1;31mSystemExit\u001b[0m\u001b[1;31m:\u001b[0m 2\n"
     ]
    },
    {
     "name": "stderr",
     "output_type": "stream",
     "text": [
      "C:\\Users\\Tianqin Li\\anaconda3\\envs\\russ-local\\lib\\site-packages\\IPython\\core\\interactiveshell.py:3339: UserWarning: To exit: use 'exit', 'quit', or Ctrl-D.\n",
      "  warn(\"To exit: use 'exit', 'quit', or Ctrl-D.\", stacklevel=1)\n"
     ]
    }
   ],
   "source": [
    "parser = argparse.ArgumentParser(description='Domain adaptation')\n",
    "parser.add_argument(\"--batch_size\", type=int, default=\"100\", help=\"batch size\")\n",
    "parser.add_argument(\"--learning_rate\", type=float, default=1e-2, help=\"learning rate\")\n",
    "parser.add_argument(\"--momentum\", type=float, default=0.5, help=\"momentum\")\n",
    "parser.add_argument(\"--gpu_num\", type=int, default=0, help=\"gpu num\")\n",
    "parser.add_argument(\"--seed\", type=int, default=123, help=\"munually set seed\")\n",
    "parser.add_argument(\"--save_path\", type=str, default=r\"C:\\Users\\Tianqin Li\\Code\\PGM-project\\train_related\", help=\"save path\")\n",
    "parser.add_argument(\"--subfolder\", type=str, default=r'\\baseline_st', help=\"subfolder name\")\n",
    "parser.add_argument(\"--wtarget\", type=float, default=0.7, help=\"target weight\")\n",
    "parser.add_argument(\"--model_save_period\", type=int, default=2, help=\"save period\")\n",
    "\n",
    "\n",
    "args = parser.parse_args()"
   ]
  },
  {
   "cell_type": "markdown",
   "metadata": {},
   "source": [
    "# local only"
   ]
  },
  {
   "cell_type": "code",
   "execution_count": 51,
   "metadata": {},
   "outputs": [],
   "source": [
    "# local only\n",
    "class local_args:\n",
    "    def __init__(self, **entries):\n",
    "        self.__dict__.update(entries)\n",
    "        \n",
    "args = local_args(**{\n",
    "    'batch_size': 400,\n",
    "    'learning_rate': 1e-3,\n",
    "    'momentum': 0.5,\n",
    "    'gpu_num': 0,\n",
    "    'seed': 123,\n",
    "    'save_path': r\"C:\\Users\\Tianqin Li\\Code\\PGM-project\\train_related\",\n",
    "    'epochs': 250,\n",
    "    'subfolder': r'\\shffle_class_label_source_only',\n",
    "    'wtarget': 0.7,\n",
    "    'dann_weight': 1,\n",
    "    'model_save_period': 2,\n",
    "    'shuffle_weight': 1e-3,\n",
    "})"
   ]
  },
  {
   "cell_type": "code",
   "execution_count": 52,
   "metadata": {},
   "outputs": [],
   "source": [
    "\n",
    "device = torch.device('cuda:{}'.format(args.gpu_num) if torch.cuda.is_available() else 'cpu')\n",
    "# seed\n",
    "torch.manual_seed(args.seed)\n",
    "torch.cuda.manual_seed(args.seed)\n",
    "np.random.seed(args.seed)\n",
    "cudnn.deterministic = True\n",
    "torch.backends.cudnn.deterministic = True\n",
    "\n",
    "\n",
    "\n",
    "device = torch.device('cuda:{}'.format(args.gpu_num) if torch.cuda.is_available() else 'cpu')\n",
    "\n",
    " \n",
    "model_sub_folder = args.subfolder + '\\learningrate_%f_shuffle_weight_%f'%(args.learning_rate, args.shuffle_weight)\n",
    "\n",
    "if not os.path.exists(args.save_path+model_sub_folder):\n",
    "    os.makedirs(args.save_path+model_sub_folder)"
   ]
  },
  {
   "cell_type": "code",
   "execution_count": 53,
   "metadata": {},
   "outputs": [
    {
     "name": "stdout",
     "output_type": "stream",
     "text": [
      "batch_size: 400\n",
      "batch_size: 400\n",
      "batch_size: 400\n",
      "learning_rate: 0.001\n",
      "learning_rate: 0.001\n",
      "learning_rate: 0.001\n",
      "momentum: 0.5\n",
      "momentum: 0.5\n",
      "momentum: 0.5\n",
      "gpu_num: 0\n",
      "gpu_num: 0\n",
      "gpu_num: 0\n",
      "seed: 123\n",
      "seed: 123\n",
      "seed: 123\n",
      "save_path: C:\\Users\\Tianqin Li\\Code\\PGM-project\\train_related\n",
      "save_path: C:\\Users\\Tianqin Li\\Code\\PGM-project\\train_related\n",
      "save_path: C:\\Users\\Tianqin Li\\Code\\PGM-project\\train_related\n",
      "epochs: 250\n",
      "epochs: 250\n",
      "epochs: 250\n",
      "subfolder: \\shffle_class_label_source_only\n",
      "subfolder: \\shffle_class_label_source_only\n",
      "subfolder: \\shffle_class_label_source_only\n",
      "wtarget: 0.7\n",
      "wtarget: 0.7\n",
      "wtarget: 0.7\n",
      "dann_weight: 1\n",
      "dann_weight: 1\n",
      "dann_weight: 1\n",
      "model_save_period: 2\n",
      "model_save_period: 2\n",
      "model_save_period: 2\n",
      "shuffle_weight: 0.001\n",
      "shuffle_weight: 0.001\n",
      "shuffle_weight: 0.001\n"
     ]
    }
   ],
   "source": [
    "\n",
    "logger = logging.getLogger()\n",
    "logger.setLevel(logging.INFO)\n",
    "\n",
    "if os.path.isfile(args.save_path+model_sub_folder+ '\\logfile.log'):\n",
    "    os.remove(args.save_path+model_sub_folder+ '\\logfile.log')\n",
    "    \n",
    "file_log_handler = logging.FileHandler(args.save_path+model_sub_folder+ '\\logfile.log')\n",
    "logger.addHandler(file_log_handler)\n",
    "\n",
    "stdout_log_handler = logging.StreamHandler(sys.stdout)\n",
    "logger.addHandler(stdout_log_handler)\n",
    "\n",
    "attrs = vars(args)\n",
    "for item in attrs.items():\n",
    "    logger.info(\"%s: %s\"%item)\n"
   ]
  },
  {
   "cell_type": "markdown",
   "metadata": {},
   "source": [
    "# Data loader"
   ]
  },
  {
   "cell_type": "code",
   "execution_count": 54,
   "metadata": {},
   "outputs": [],
   "source": [
    "mnist_trainset = datasets.MNIST(root='./data', train=True, download=True, transform=torchvision.transforms.Compose([\n",
    "                               torchvision.transforms.ToTensor(),\n",
    "                               torchvision.transforms.Normalize(\n",
    "                                 (0.1307,), (0.3081,))\n",
    "                             ]))"
   ]
  },
  {
   "cell_type": "code",
   "execution_count": 55,
   "metadata": {},
   "outputs": [],
   "source": [
    "mnist_testset = datasets.MNIST(root='./data', train=False, download=True, transform=torchvision.transforms.Compose([\n",
    "                               torchvision.transforms.ToTensor(),\n",
    "                               torchvision.transforms.Normalize(\n",
    "                                 (0.1307,), (0.3081,))\n",
    "                             ]))"
   ]
  },
  {
   "cell_type": "code",
   "execution_count": 56,
   "metadata": {},
   "outputs": [
    {
     "name": "stdout",
     "output_type": "stream",
     "text": [
      "Using downloaded and verified file: ./data\\train_32x32.mat\n"
     ]
    }
   ],
   "source": [
    "svhn_trainset = datasets.SVHN(root='./data', split='train', download=True, transform=torchvision.transforms.Compose([\n",
    "                    torchvision.transforms.Resize((28, 28)),\n",
    "                    torchvision.transforms.Grayscale(num_output_channels=1),\n",
    "                    torchvision.transforms.ToTensor(),\n",
    "                    torchvision.transforms.Normalize([0.5], [0.5])]))"
   ]
  },
  {
   "cell_type": "code",
   "execution_count": 57,
   "metadata": {},
   "outputs": [
    {
     "name": "stdout",
     "output_type": "stream",
     "text": [
      "Using downloaded and verified file: ./data\\test_32x32.mat\n"
     ]
    }
   ],
   "source": [
    "svhn_testset = datasets.SVHN(root='./data', split='test', download=True, transform=torchvision.transforms.Compose([\n",
    "                    torchvision.transforms.Resize((28, 28)),\n",
    "                    torchvision.transforms.Grayscale(num_output_channels=1),\n",
    "                    torchvision.transforms.ToTensor(),\n",
    "                    torchvision.transforms.Normalize([0.5], [0.5])]))"
   ]
  },
  {
   "cell_type": "code",
   "execution_count": 58,
   "metadata": {},
   "outputs": [],
   "source": [
    "# # mnist\n",
    "# train_mnist_loader = DataLoader(mnist_trainset, batch_size=args.batch_size, shuffle=True)\n",
    "# test_mnist_loader = DataLoader(mnist_testset, batch_size=args.batch_size, shuffle=True)\n",
    "# examples = enumerate(test_mnist_loader)\n",
    "# batch_idx, (example_data, example_targets) = next(examples)\n",
    "\n",
    "\n",
    "# fig = plt.figure()\n",
    "# for i in range(6):\n",
    "#   plt.subplot(2,3,i+1)\n",
    "#   plt.tight_layout()\n",
    "#   plt.imshow(example_data[i][0], cmap='gray', interpolation='none')\n",
    "#   plt.title(\"Ground Truth: {}\".format(example_targets[i]))\n",
    "#   plt.xticks([])\n",
    "#   plt.yticks([])"
   ]
  },
  {
   "cell_type": "code",
   "execution_count": 59,
   "metadata": {},
   "outputs": [],
   "source": [
    "# # svhn\n",
    "# train_svhn_loader = DataLoader(svhn_trainset, batch_size=args.batch_size, shuffle=True)\n",
    "# test_svhn_loader = DataLoader(svhn_trainset, batch_size=args.batch_size, shuffle=True)\n",
    "# examples = enumerate(train_svhn_loader)\n",
    "# batch_idx, (example_data, example_targets) = next(examples)\n",
    "\n",
    "\n",
    "# fig = plt.figure()\n",
    "# for i in range(6):\n",
    "#   plt.subplot(2,3,i+1)\n",
    "#   plt.tight_layout()\n",
    "#   plt.imshow(example_data[i][0], cmap='gray', interpolation='none')\n",
    "#   plt.title(\"Ground Truth: {}\".format(example_targets[i]))\n",
    "#   plt.xticks([])\n",
    "#   plt.yticks([])"
   ]
  },
  {
   "cell_type": "code",
   "execution_count": 60,
   "metadata": {},
   "outputs": [],
   "source": [
    "# reload data\n",
    "train_mnist_loader = DataLoader(mnist_trainset, batch_size=args.batch_size, shuffle=True)\n",
    "test_mnist_loader = DataLoader(mnist_testset, batch_size=args.batch_size, shuffle=True)\n",
    "train_svhn_loader = DataLoader(svhn_trainset, batch_size=args.batch_size, shuffle=True)\n",
    "test_svhn_loader = DataLoader(svhn_trainset, batch_size=args.batch_size, shuffle=True)"
   ]
  },
  {
   "cell_type": "markdown",
   "metadata": {},
   "source": [
    "## Process data for cancat with source and target label"
   ]
  },
  {
   "cell_type": "code",
   "execution_count": 61,
   "metadata": {},
   "outputs": [],
   "source": [
    "class ConcatDataset(Dataset):\n",
    "    def __init__(self, x, y, mode='mnist'):\n",
    "        self.x = x\n",
    "        self.y = y\n",
    "        self.len = self.x.shape[0]\n",
    "        self.mode = mode\n",
    "        if self.mode == 'mnist':\n",
    "            self.transform = torchvision.transforms.Compose([\n",
    "                               torchvision.transforms.ToTensor(),\n",
    "                               torchvision.transforms.Normalize(\n",
    "                                 (0.1307,), (0.3081,))\n",
    "                             ])\n",
    "        elif self.mode == 'svhn':\n",
    "            self.transform = torchvision.transforms.Compose([\n",
    "                    torchvision.transforms.Resize((28, 28)),\n",
    "                    torchvision.transforms.Grayscale(num_output_channels=1),\n",
    "                    torchvision.transforms.ToTensor(),\n",
    "                    torchvision.transforms.Normalize([0.5], [0.5])])\n",
    "\n",
    "    def __len__(self):\n",
    "        return self.len\n",
    "    \n",
    "    def __getitem__(self, index):\n",
    "        if self.mode == 'mnist':\n",
    "            img = Image.fromarray(self.x[index].numpy(), mode='L')\n",
    "            img = self.transform(img)\n",
    "        elif self.mode == 'svhn':\n",
    "            img = Image.fromarray(np.transpose(self.x[index], (1, 2, 0)))\n",
    "            img = self.transform(img)\n",
    "    \n",
    "        return img, self.y[index]"
   ]
  },
  {
   "cell_type": "code",
   "execution_count": 62,
   "metadata": {},
   "outputs": [],
   "source": [
    "\n",
    "concat_mnist_train = ConcatDataset(mnist_trainset.data, torch.randint(0,2,(mnist_trainset.data.shape[0],)), mode = 'mnist')\n",
    "concat_svhn_train = ConcatDataset(svhn_trainset.data, torch.randint(0,2,(svhn_trainset.data.shape[0],)), mode = 'svhn')\n",
    "\n",
    "\n",
    "adverial_dataset = torch.utils.data.ConcatDataset([concat_mnist_train, concat_svhn_train])\n",
    "# [i[1] for i in [adverial_dataset[m] for m in torch.randint(0, len(adverial_dataset), (100,))]]\n",
    "adverial_loader = DataLoader(adverial_dataset, batch_size=args.batch_size, shuffle=True)"
   ]
  },
  {
   "cell_type": "code",
   "execution_count": null,
   "metadata": {},
   "outputs": [],
   "source": []
  },
  {
   "cell_type": "markdown",
   "metadata": {},
   "source": [
    "# Model"
   ]
  },
  {
   "cell_type": "code",
   "execution_count": 63,
   "metadata": {},
   "outputs": [],
   "source": [
    "class Encoder(nn.Module):\n",
    "    def __init__(self):\n",
    "        super(Encoder, self).__init__()\n",
    "        self.conv1 = nn.Conv2d(1, 10, kernel_size=5)\n",
    "        self.conv2 = nn.Conv2d(10, 20, kernel_size=5)\n",
    "        self.conv2_drop = nn.Dropout2d()\n",
    "        self.fc1 = nn.Linear(320, 50)\n",
    "        self.fc2 = nn.Linear(50, 30)\n",
    "\n",
    "    def forward(self, x):\n",
    "        x = F.relu(F.max_pool2d(self.conv1(x), 2))\n",
    "        x = F.relu(F.max_pool2d(self.conv2_drop(self.conv2(x)), 2))\n",
    "        x = x.view(-1, 320)\n",
    "        x = F.relu(self.fc1(x))\n",
    "        x = F.dropout(x, training=self.training)\n",
    "        x = self.fc2(x)\n",
    "        return x"
   ]
  },
  {
   "cell_type": "code",
   "execution_count": 64,
   "metadata": {},
   "outputs": [],
   "source": [
    "class FNN(nn.Module):\n",
    "    def __init__(self, d_in, d_h1, d_h2, d_out, dp=0.2):\n",
    "        super(FNN, self).__init__()\n",
    "        self.fc1 = nn.Linear(d_in, d_h1)\n",
    "        self.ln1 = nn.LayerNorm(d_h1)\n",
    "        self.relu1 = nn.ReLU(inplace=True)\n",
    "        self.dropout1 = nn.Dropout(dp)\n",
    "        self.fc2 = nn.Linear(d_h1, d_h2)\n",
    "        self.ln2 = nn.LayerNorm(d_h2)\n",
    "        self.relu2 = nn.ReLU(inplace=True)\n",
    "        self.dropout2 = nn.Dropout(dp)\n",
    "        self.fc3 = nn.Linear(d_h2, d_out)\n",
    "\n",
    "    def forward(self, x):\n",
    "        x = self.fc1(x)\n",
    "        x = self.ln1(x)\n",
    "        x = self.relu1(x)\n",
    "        x = self.dropout1(x)\n",
    "        x = self.fc2(x)\n",
    "        x = self.ln2(x)\n",
    "        x = self.relu2(x)\n",
    "        x = self.dropout2(x)\n",
    "        x = self.fc3(x)\n",
    "\n",
    "        return x"
   ]
  },
  {
   "cell_type": "code",
   "execution_count": 65,
   "metadata": {},
   "outputs": [],
   "source": [
    "class Adversial_loss(nn.Module):\n",
    "    def __init__(self):\n",
    "        super(Adversial_loss, self).__init__()\n",
    "    \n",
    "    def forward(self):\n",
    "        pass"
   ]
  },
  {
   "cell_type": "code",
   "execution_count": 66,
   "metadata": {},
   "outputs": [],
   "source": [
    "def weights_init(m):\n",
    "    if type(m) == nn.Linear:\n",
    "        torch.nn.init.xavier_uniform_(m.weight)\n",
    "    elif type(m) == nn.LayerNorm:\n",
    "        torch.nn.init.normal_(m.weight, 1.0, 0.02)\n",
    "        torch.nn.init.constant_(m.bias, 0)\n"
   ]
  },
  {
   "cell_type": "code",
   "execution_count": 67,
   "metadata": {},
   "outputs": [
    {
     "name": "stdout",
     "output_type": "stream",
     "text": [
      "cuda:0\n"
     ]
    },
    {
     "data": {
      "text/plain": [
       "FNN(\n",
       "  (fc1): Linear(in_features=30, out_features=100, bias=True)\n",
       "  (ln1): LayerNorm((100,), eps=1e-05, elementwise_affine=True)\n",
       "  (relu1): ReLU(inplace=True)\n",
       "  (dropout1): Dropout(p=0.2, inplace=False)\n",
       "  (fc2): Linear(in_features=100, out_features=100, bias=True)\n",
       "  (ln2): LayerNorm((100,), eps=1e-05, elementwise_affine=True)\n",
       "  (relu2): ReLU(inplace=True)\n",
       "  (dropout2): Dropout(p=0.2, inplace=False)\n",
       "  (fc3): Linear(in_features=100, out_features=2, bias=True)\n",
       ")"
      ]
     },
     "execution_count": 67,
     "metadata": {},
     "output_type": "execute_result"
    }
   ],
   "source": [
    "\n",
    "device = torch.device('cuda:{}'.format(args.gpu_num) if torch.cuda.is_available() else 'cpu')\n",
    "print(device)\n",
    "torch.manual_seed(args.seed)\n",
    "torch.cuda.manual_seed(args.seed)\n",
    "np.random.seed(args.seed)\n",
    "\n",
    "encoder = Encoder().to(device)\n",
    "CNet = FNN(d_in=30, d_h1=100, d_h2=100, d_out=10, dp=0.2).to(device)\n",
    "DomainCNet = FNN(d_in=30, d_h1=100, d_h2=100, d_out=2, dp=0.2).to(device)\n",
    "\n",
    "\n",
    "\n",
    "\n",
    "optimizerEncoder = optim.Adam(encoder.parameters(), lr=args.learning_rate)\n",
    "optimizerCNet = optim.Adam(CNet.parameters(), lr=args.learning_rate)\n",
    "optimizerDomainCNet = optim.Adam(DomainCNet.parameters(), lr=args.learning_rate)\n",
    "\n",
    "criterion_classifier = nn.CrossEntropyLoss().to(device)\n",
    "# criterion_adverisal = \n",
    "\n",
    "encoder.apply(weights_init)\n",
    "CNet.apply(weights_init)\n",
    "DomainCNet.apply(weights_init)"
   ]
  },
  {
   "cell_type": "markdown",
   "metadata": {},
   "source": [
    "# Train"
   ]
  },
  {
   "cell_type": "code",
   "execution_count": 68,
   "metadata": {},
   "outputs": [
    {
     "name": "stdout",
     "output_type": "stream",
     "text": [
      "Started Training\n",
      "Started Training\n",
      "Started Training\n"
     ]
    },
    {
     "name": "stderr",
     "output_type": "stream",
     "text": [
      "100%|██████████| 150/150 [00:07<00:00, 19.41it/s]\n",
      "100%|██████████| 150/150 [00:07<00:00, 19.27it/s]\n"
     ]
    },
    {
     "name": "stdout",
     "output_type": "stream",
     "text": [
      "Epochs 1: source train acc: 0.101383; source test acc: 0.920900; target test acc: 0.191285\n",
      "Epochs 1: source train acc: 0.101383; source test acc: 0.920900; target test acc: 0.191285\n",
      "Epochs 1: source train acc: 0.101383; source test acc: 0.920900; target test acc: 0.191285\n"
     ]
    },
    {
     "name": "stderr",
     "output_type": "stream",
     "text": [
      "100%|██████████| 150/150 [00:07<00:00, 19.01it/s]\n",
      "100%|██████████| 150/150 [00:07<00:00, 19.15it/s]\n"
     ]
    },
    {
     "name": "stdout",
     "output_type": "stream",
     "text": [
      "Epochs 2: source train acc: 0.100067; source test acc: 0.954600; target test acc: 0.201455\n",
      "Epochs 2: source train acc: 0.100067; source test acc: 0.954600; target test acc: 0.201455\n",
      "Epochs 2: source train acc: 0.100067; source test acc: 0.954600; target test acc: 0.201455\n"
     ]
    },
    {
     "name": "stderr",
     "output_type": "stream",
     "text": [
      "100%|██████████| 150/150 [00:07<00:00, 18.97it/s]\n",
      "100%|██████████| 150/150 [00:07<00:00, 18.89it/s]\n"
     ]
    },
    {
     "name": "stdout",
     "output_type": "stream",
     "text": [
      "Epochs 3: source train acc: 0.098817; source test acc: 0.966700; target test acc: 0.217372\n",
      "Epochs 3: source train acc: 0.098817; source test acc: 0.966700; target test acc: 0.217372\n",
      "Epochs 3: source train acc: 0.098817; source test acc: 0.966700; target test acc: 0.217372\n"
     ]
    },
    {
     "name": "stderr",
     "output_type": "stream",
     "text": [
      "100%|██████████| 150/150 [00:07<00:00, 19.27it/s]\n",
      "100%|██████████| 150/150 [00:07<00:00, 19.13it/s]\n"
     ]
    },
    {
     "name": "stdout",
     "output_type": "stream",
     "text": [
      "Epochs 4: source train acc: 0.101717; source test acc: 0.972600; target test acc: 0.218778\n",
      "Epochs 4: source train acc: 0.101717; source test acc: 0.972600; target test acc: 0.218778\n",
      "Epochs 4: source train acc: 0.101717; source test acc: 0.972600; target test acc: 0.218778\n"
     ]
    },
    {
     "name": "stderr",
     "output_type": "stream",
     "text": [
      "100%|██████████| 150/150 [00:07<00:00, 18.90it/s]\n",
      "100%|██████████| 150/150 [00:07<00:00, 18.99it/s]\n"
     ]
    },
    {
     "name": "stdout",
     "output_type": "stream",
     "text": [
      "Epochs 5: source train acc: 0.098950; source test acc: 0.973500; target test acc: 0.230626\n",
      "Epochs 5: source train acc: 0.098950; source test acc: 0.973500; target test acc: 0.230626\n",
      "Epochs 5: source train acc: 0.098950; source test acc: 0.973500; target test acc: 0.230626\n"
     ]
    },
    {
     "name": "stderr",
     "output_type": "stream",
     "text": [
      "100%|██████████| 150/150 [00:07<00:00, 18.93it/s]\n",
      "100%|██████████| 150/150 [00:07<00:00, 18.88it/s]\n"
     ]
    },
    {
     "name": "stdout",
     "output_type": "stream",
     "text": [
      "Epochs 6: source train acc: 0.099450; source test acc: 0.976300; target test acc: 0.237288\n",
      "Epochs 6: source train acc: 0.099450; source test acc: 0.976300; target test acc: 0.237288\n",
      "Epochs 6: source train acc: 0.099450; source test acc: 0.976300; target test acc: 0.237288\n"
     ]
    },
    {
     "name": "stderr",
     "output_type": "stream",
     "text": [
      "100%|██████████| 150/150 [00:07<00:00, 19.09it/s]\n",
      "100%|██████████| 150/150 [00:07<00:00, 18.98it/s]\n"
     ]
    },
    {
     "name": "stdout",
     "output_type": "stream",
     "text": [
      "Epochs 7: source train acc: 0.099867; source test acc: 0.979600; target test acc: 0.219174\n",
      "Epochs 7: source train acc: 0.099867; source test acc: 0.979600; target test acc: 0.219174\n",
      "Epochs 7: source train acc: 0.099867; source test acc: 0.979600; target test acc: 0.219174\n"
     ]
    },
    {
     "name": "stderr",
     "output_type": "stream",
     "text": [
      "100%|██████████| 150/150 [00:07<00:00, 18.90it/s]\n",
      "100%|██████████| 150/150 [00:07<00:00, 19.10it/s]\n"
     ]
    },
    {
     "name": "stdout",
     "output_type": "stream",
     "text": [
      "Epochs 8: source train acc: 0.099300; source test acc: 0.981600; target test acc: 0.213331\n",
      "Epochs 8: source train acc: 0.099300; source test acc: 0.981600; target test acc: 0.213331\n",
      "Epochs 8: source train acc: 0.099300; source test acc: 0.981600; target test acc: 0.213331\n"
     ]
    },
    {
     "name": "stderr",
     "output_type": "stream",
     "text": [
      "100%|██████████| 150/150 [00:07<00:00, 19.94it/s]\n",
      "100%|██████████| 150/150 [00:07<00:00, 19.72it/s]\n"
     ]
    },
    {
     "name": "stdout",
     "output_type": "stream",
     "text": [
      "Epochs 9: source train acc: 0.098500; source test acc: 0.978700; target test acc: 0.214669\n",
      "Epochs 9: source train acc: 0.098500; source test acc: 0.978700; target test acc: 0.214669\n",
      "Epochs 9: source train acc: 0.098500; source test acc: 0.978700; target test acc: 0.214669\n"
     ]
    },
    {
     "name": "stderr",
     "output_type": "stream",
     "text": [
      "100%|██████████| 150/150 [00:07<00:00, 19.88it/s]\n",
      "100%|██████████| 150/150 [00:07<00:00, 19.85it/s]\n"
     ]
    },
    {
     "name": "stdout",
     "output_type": "stream",
     "text": [
      "Epochs 10: source train acc: 0.100583; source test acc: 0.981500; target test acc: 0.234831\n",
      "Epochs 10: source train acc: 0.100583; source test acc: 0.981500; target test acc: 0.234831\n",
      "Epochs 10: source train acc: 0.100583; source test acc: 0.981500; target test acc: 0.234831\n"
     ]
    },
    {
     "name": "stderr",
     "output_type": "stream",
     "text": [
      "100%|██████████| 150/150 [00:07<00:00, 19.79it/s]\n",
      "100%|██████████| 150/150 [00:07<00:00, 19.63it/s]\n"
     ]
    },
    {
     "name": "stdout",
     "output_type": "stream",
     "text": [
      "Epochs 11: source train acc: 0.100067; source test acc: 0.978800; target test acc: 0.225917\n",
      "Epochs 11: source train acc: 0.100067; source test acc: 0.978800; target test acc: 0.225917\n",
      "Epochs 11: source train acc: 0.100067; source test acc: 0.978800; target test acc: 0.225917\n"
     ]
    },
    {
     "name": "stderr",
     "output_type": "stream",
     "text": [
      "100%|██████████| 150/150 [00:07<00:00, 19.83it/s]\n",
      "100%|██████████| 150/150 [00:07<00:00, 19.74it/s]\n"
     ]
    },
    {
     "name": "stdout",
     "output_type": "stream",
     "text": [
      "Epochs 12: source train acc: 0.100983; source test acc: 0.983200; target test acc: 0.222259\n",
      "Epochs 12: source train acc: 0.100983; source test acc: 0.983200; target test acc: 0.222259\n",
      "Epochs 12: source train acc: 0.100983; source test acc: 0.983200; target test acc: 0.222259\n"
     ]
    },
    {
     "name": "stderr",
     "output_type": "stream",
     "text": [
      "100%|██████████| 150/150 [00:07<00:00, 19.75it/s]\n",
      "100%|██████████| 150/150 [00:07<00:00, 19.75it/s]\n"
     ]
    },
    {
     "name": "stdout",
     "output_type": "stream",
     "text": [
      "Epochs 13: source train acc: 0.099117; source test acc: 0.986200; target test acc: 0.218191\n",
      "Epochs 13: source train acc: 0.099117; source test acc: 0.986200; target test acc: 0.218191\n",
      "Epochs 13: source train acc: 0.099117; source test acc: 0.986200; target test acc: 0.218191\n"
     ]
    },
    {
     "name": "stderr",
     "output_type": "stream",
     "text": [
      "100%|██████████| 150/150 [00:07<00:00, 19.71it/s]\n",
      "100%|██████████| 150/150 [00:07<00:00, 19.42it/s]\n"
     ]
    },
    {
     "name": "stdout",
     "output_type": "stream",
     "text": [
      "Epochs 14: source train acc: 0.101350; source test acc: 0.985300; target test acc: 0.212348\n",
      "Epochs 14: source train acc: 0.101350; source test acc: 0.985300; target test acc: 0.212348\n",
      "Epochs 14: source train acc: 0.101350; source test acc: 0.985300; target test acc: 0.212348\n"
     ]
    },
    {
     "name": "stderr",
     "output_type": "stream",
     "text": [
      "100%|██████████| 150/150 [00:07<00:00, 19.37it/s]\n",
      "100%|██████████| 150/150 [00:07<00:00, 19.35it/s]\n"
     ]
    },
    {
     "name": "stdout",
     "output_type": "stream",
     "text": [
      "Epochs 15: source train acc: 0.099100; source test acc: 0.986700; target test acc: 0.213891\n",
      "Epochs 15: source train acc: 0.099100; source test acc: 0.986700; target test acc: 0.213891\n",
      "Epochs 15: source train acc: 0.099100; source test acc: 0.986700; target test acc: 0.213891\n"
     ]
    },
    {
     "name": "stderr",
     "output_type": "stream",
     "text": [
      "100%|██████████| 150/150 [00:07<00:00, 19.32it/s]\n",
      "100%|██████████| 150/150 [00:07<00:00, 19.40it/s]\n"
     ]
    },
    {
     "name": "stdout",
     "output_type": "stream",
     "text": [
      "Epochs 16: source train acc: 0.102400; source test acc: 0.986900; target test acc: 0.217003\n",
      "Epochs 16: source train acc: 0.102400; source test acc: 0.986900; target test acc: 0.217003\n",
      "Epochs 16: source train acc: 0.102400; source test acc: 0.986900; target test acc: 0.217003\n"
     ]
    },
    {
     "name": "stderr",
     "output_type": "stream",
     "text": [
      "100%|██████████| 150/150 [00:07<00:00, 19.15it/s]\n",
      "100%|██████████| 150/150 [00:07<00:00, 19.03it/s]\n"
     ]
    },
    {
     "name": "stdout",
     "output_type": "stream",
     "text": [
      "Epochs 17: source train acc: 0.098883; source test acc: 0.985500; target test acc: 0.217344\n",
      "Epochs 17: source train acc: 0.098883; source test acc: 0.985500; target test acc: 0.217344\n",
      "Epochs 17: source train acc: 0.098883; source test acc: 0.985500; target test acc: 0.217344\n"
     ]
    },
    {
     "name": "stderr",
     "output_type": "stream",
     "text": [
      "100%|██████████| 150/150 [00:07<00:00, 19.08it/s]\n",
      "100%|██████████| 150/150 [00:07<00:00, 19.08it/s]\n"
     ]
    },
    {
     "name": "stdout",
     "output_type": "stream",
     "text": [
      "Epochs 18: source train acc: 0.101933; source test acc: 0.986400; target test acc: 0.206629\n",
      "Epochs 18: source train acc: 0.101933; source test acc: 0.986400; target test acc: 0.206629\n",
      "Epochs 18: source train acc: 0.101933; source test acc: 0.986400; target test acc: 0.206629\n"
     ]
    },
    {
     "name": "stderr",
     "output_type": "stream",
     "text": [
      "100%|██████████| 150/150 [00:07<00:00, 19.19it/s]\n",
      "100%|██████████| 150/150 [00:07<00:00, 19.07it/s]\n"
     ]
    },
    {
     "name": "stdout",
     "output_type": "stream",
     "text": [
      "Epochs 19: source train acc: 0.101017; source test acc: 0.987400; target test acc: 0.220197\n",
      "Epochs 19: source train acc: 0.101017; source test acc: 0.987400; target test acc: 0.220197\n",
      "Epochs 19: source train acc: 0.101017; source test acc: 0.987400; target test acc: 0.220197\n"
     ]
    },
    {
     "name": "stderr",
     "output_type": "stream",
     "text": [
      "100%|██████████| 150/150 [00:07<00:00, 19.07it/s]\n",
      "100%|██████████| 150/150 [00:07<00:00, 19.05it/s]\n"
     ]
    },
    {
     "name": "stdout",
     "output_type": "stream",
     "text": [
      "Epochs 20: source train acc: 0.098967; source test acc: 0.986800; target test acc: 0.210560\n",
      "Epochs 20: source train acc: 0.098967; source test acc: 0.986800; target test acc: 0.210560\n",
      "Epochs 20: source train acc: 0.098967; source test acc: 0.986800; target test acc: 0.210560\n"
     ]
    },
    {
     "name": "stderr",
     "output_type": "stream",
     "text": [
      "100%|██████████| 150/150 [00:07<00:00, 19.19it/s]\n",
      "100%|██████████| 150/150 [00:07<00:00, 18.86it/s]\n"
     ]
    },
    {
     "name": "stdout",
     "output_type": "stream",
     "text": [
      "Epochs 21: source train acc: 0.100150; source test acc: 0.987500; target test acc: 0.212949\n",
      "Epochs 21: source train acc: 0.100150; source test acc: 0.987500; target test acc: 0.212949\n",
      "Epochs 21: source train acc: 0.100150; source test acc: 0.987500; target test acc: 0.212949\n"
     ]
    },
    {
     "name": "stderr",
     "output_type": "stream",
     "text": [
      "100%|██████████| 150/150 [00:07<00:00, 18.96it/s]\n",
      "100%|██████████| 150/150 [00:08<00:00, 18.43it/s]\n"
     ]
    },
    {
     "name": "stdout",
     "output_type": "stream",
     "text": [
      "Epochs 22: source train acc: 0.099267; source test acc: 0.987800; target test acc: 0.223856\n",
      "Epochs 22: source train acc: 0.099267; source test acc: 0.987800; target test acc: 0.223856\n",
      "Epochs 22: source train acc: 0.099267; source test acc: 0.987800; target test acc: 0.223856\n"
     ]
    },
    {
     "name": "stderr",
     "output_type": "stream",
     "text": [
      "100%|██████████| 150/150 [00:07<00:00, 18.80it/s]\n",
      "100%|██████████| 150/150 [00:08<00:00, 18.69it/s]\n"
     ]
    },
    {
     "name": "stdout",
     "output_type": "stream",
     "text": [
      "Epochs 23: source train acc: 0.100517; source test acc: 0.986900; target test acc: 0.217017\n",
      "Epochs 23: source train acc: 0.100517; source test acc: 0.986900; target test acc: 0.217017\n",
      "Epochs 23: source train acc: 0.100517; source test acc: 0.986900; target test acc: 0.217017\n"
     ]
    },
    {
     "name": "stderr",
     "output_type": "stream",
     "text": [
      "100%|██████████| 150/150 [00:07<00:00, 18.90it/s]\n",
      "100%|██████████| 150/150 [00:07<00:00, 19.02it/s]\n"
     ]
    },
    {
     "name": "stdout",
     "output_type": "stream",
     "text": [
      "Epochs 24: source train acc: 0.100950; source test acc: 0.988400; target test acc: 0.206738\n",
      "Epochs 24: source train acc: 0.100950; source test acc: 0.988400; target test acc: 0.206738\n",
      "Epochs 24: source train acc: 0.100950; source test acc: 0.988400; target test acc: 0.206738\n"
     ]
    },
    {
     "name": "stderr",
     "output_type": "stream",
     "text": [
      "100%|██████████| 150/150 [00:08<00:00, 17.93it/s]\n",
      "100%|██████████| 150/150 [00:08<00:00, 17.52it/s]\n"
     ]
    },
    {
     "name": "stdout",
     "output_type": "stream",
     "text": [
      "Epochs 25: source train acc: 0.101600; source test acc: 0.986100; target test acc: 0.215406\n",
      "Epochs 25: source train acc: 0.101600; source test acc: 0.986100; target test acc: 0.215406\n",
      "Epochs 25: source train acc: 0.101600; source test acc: 0.986100; target test acc: 0.215406\n"
     ]
    },
    {
     "name": "stderr",
     "output_type": "stream",
     "text": [
      "100%|██████████| 150/150 [00:08<00:00, 17.48it/s]\n",
      "100%|██████████| 150/150 [00:08<00:00, 17.53it/s]\n"
     ]
    },
    {
     "name": "stdout",
     "output_type": "stream",
     "text": [
      "Epochs 26: source train acc: 0.097983; source test acc: 0.988000; target test acc: 0.208854\n",
      "Epochs 26: source train acc: 0.097983; source test acc: 0.988000; target test acc: 0.208854\n",
      "Epochs 26: source train acc: 0.097983; source test acc: 0.988000; target test acc: 0.208854\n"
     ]
    },
    {
     "name": "stderr",
     "output_type": "stream",
     "text": [
      "100%|██████████| 150/150 [00:08<00:00, 17.51it/s]\n",
      "100%|██████████| 150/150 [00:08<00:00, 17.47it/s]\n"
     ]
    },
    {
     "name": "stdout",
     "output_type": "stream",
     "text": [
      "Epochs 27: source train acc: 0.099667; source test acc: 0.989100; target test acc: 0.206301\n",
      "Epochs 27: source train acc: 0.099667; source test acc: 0.989100; target test acc: 0.206301\n",
      "Epochs 27: source train acc: 0.099667; source test acc: 0.989100; target test acc: 0.206301\n"
     ]
    },
    {
     "name": "stderr",
     "output_type": "stream",
     "text": [
      "100%|██████████| 150/150 [00:08<00:00, 17.45it/s]\n",
      "100%|██████████| 150/150 [00:08<00:00, 17.35it/s]\n"
     ]
    },
    {
     "name": "stdout",
     "output_type": "stream",
     "text": [
      "Epochs 28: source train acc: 0.100283; source test acc: 0.989300; target test acc: 0.213986\n",
      "Epochs 28: source train acc: 0.100283; source test acc: 0.989300; target test acc: 0.213986\n",
      "Epochs 28: source train acc: 0.100283; source test acc: 0.989300; target test acc: 0.213986\n"
     ]
    },
    {
     "name": "stderr",
     "output_type": "stream",
     "text": [
      "100%|██████████| 150/150 [00:08<00:00, 17.42it/s]\n",
      "100%|██████████| 150/150 [00:08<00:00, 17.51it/s]\n"
     ]
    },
    {
     "name": "stdout",
     "output_type": "stream",
     "text": [
      "Epochs 29: source train acc: 0.097767; source test acc: 0.989000; target test acc: 0.214628\n",
      "Epochs 29: source train acc: 0.097767; source test acc: 0.989000; target test acc: 0.214628\n",
      "Epochs 29: source train acc: 0.097767; source test acc: 0.989000; target test acc: 0.214628\n"
     ]
    },
    {
     "name": "stderr",
     "output_type": "stream",
     "text": [
      "100%|██████████| 150/150 [00:08<00:00, 17.64it/s]\n",
      "100%|██████████| 150/150 [00:08<00:00, 17.23it/s]\n"
     ]
    },
    {
     "name": "stdout",
     "output_type": "stream",
     "text": [
      "Epochs 30: source train acc: 0.101017; source test acc: 0.988000; target test acc: 0.212485\n",
      "Epochs 30: source train acc: 0.101017; source test acc: 0.988000; target test acc: 0.212485\n",
      "Epochs 30: source train acc: 0.101017; source test acc: 0.988000; target test acc: 0.212485\n"
     ]
    },
    {
     "name": "stderr",
     "output_type": "stream",
     "text": [
      "100%|██████████| 150/150 [00:08<00:00, 17.61it/s]\n",
      "100%|██████████| 150/150 [00:08<00:00, 17.42it/s]\n"
     ]
    },
    {
     "name": "stdout",
     "output_type": "stream",
     "text": [
      "Epochs 31: source train acc: 0.099317; source test acc: 0.989000; target test acc: 0.208704\n",
      "Epochs 31: source train acc: 0.099317; source test acc: 0.989000; target test acc: 0.208704\n",
      "Epochs 31: source train acc: 0.099317; source test acc: 0.989000; target test acc: 0.208704\n"
     ]
    },
    {
     "name": "stderr",
     "output_type": "stream",
     "text": [
      "100%|██████████| 150/150 [00:08<00:00, 17.53it/s]\n",
      "100%|██████████| 150/150 [00:08<00:00, 17.42it/s]\n"
     ]
    },
    {
     "name": "stdout",
     "output_type": "stream",
     "text": [
      "Epochs 32: source train acc: 0.100033; source test acc: 0.988500; target test acc: 0.214505\n",
      "Epochs 32: source train acc: 0.100033; source test acc: 0.988500; target test acc: 0.214505\n",
      "Epochs 32: source train acc: 0.100033; source test acc: 0.988500; target test acc: 0.214505\n"
     ]
    },
    {
     "name": "stderr",
     "output_type": "stream",
     "text": [
      "100%|██████████| 150/150 [00:08<00:00, 17.42it/s]\n",
      "100%|██████████| 150/150 [00:08<00:00, 17.47it/s]\n"
     ]
    },
    {
     "name": "stdout",
     "output_type": "stream",
     "text": [
      "Epochs 33: source train acc: 0.099483; source test acc: 0.989100; target test acc: 0.207885\n",
      "Epochs 33: source train acc: 0.099483; source test acc: 0.989100; target test acc: 0.207885\n",
      "Epochs 33: source train acc: 0.099483; source test acc: 0.989100; target test acc: 0.207885\n"
     ]
    },
    {
     "name": "stderr",
     "output_type": "stream",
     "text": [
      "100%|██████████| 150/150 [00:08<00:00, 17.29it/s]\n",
      "100%|██████████| 150/150 [00:08<00:00, 17.27it/s]\n"
     ]
    },
    {
     "name": "stdout",
     "output_type": "stream",
     "text": [
      "Epochs 34: source train acc: 0.099267; source test acc: 0.988600; target test acc: 0.214573\n",
      "Epochs 34: source train acc: 0.099267; source test acc: 0.988600; target test acc: 0.214573\n",
      "Epochs 34: source train acc: 0.099267; source test acc: 0.988600; target test acc: 0.214573\n"
     ]
    },
    {
     "name": "stderr",
     "output_type": "stream",
     "text": [
      "100%|██████████| 150/150 [00:08<00:00, 17.56it/s]\n",
      "100%|██████████| 150/150 [00:08<00:00, 17.54it/s]\n"
     ]
    },
    {
     "name": "stdout",
     "output_type": "stream",
     "text": [
      "Epochs 35: source train acc: 0.099133; source test acc: 0.989300; target test acc: 0.208144\n",
      "Epochs 35: source train acc: 0.099133; source test acc: 0.989300; target test acc: 0.208144\n",
      "Epochs 35: source train acc: 0.099133; source test acc: 0.989300; target test acc: 0.208144\n"
     ]
    },
    {
     "name": "stderr",
     "output_type": "stream",
     "text": [
      "100%|██████████| 150/150 [00:08<00:00, 17.19it/s]\n",
      "100%|██████████| 150/150 [00:08<00:00, 17.36it/s]\n"
     ]
    },
    {
     "name": "stdout",
     "output_type": "stream",
     "text": [
      "Epochs 36: source train acc: 0.101650; source test acc: 0.989300; target test acc: 0.212594\n",
      "Epochs 36: source train acc: 0.101650; source test acc: 0.989300; target test acc: 0.212594\n",
      "Epochs 36: source train acc: 0.101650; source test acc: 0.989300; target test acc: 0.212594\n"
     ]
    },
    {
     "name": "stderr",
     "output_type": "stream",
     "text": [
      "100%|██████████| 150/150 [00:08<00:00, 17.68it/s]\n",
      "100%|██████████| 150/150 [00:08<00:00, 17.58it/s]\n"
     ]
    },
    {
     "name": "stdout",
     "output_type": "stream",
     "text": [
      "Epochs 37: source train acc: 0.099367; source test acc: 0.989900; target test acc: 0.213085\n",
      "Epochs 37: source train acc: 0.099367; source test acc: 0.989900; target test acc: 0.213085\n",
      "Epochs 37: source train acc: 0.099367; source test acc: 0.989900; target test acc: 0.213085\n"
     ]
    },
    {
     "name": "stderr",
     "output_type": "stream",
     "text": [
      "100%|██████████| 150/150 [00:08<00:00, 17.37it/s]\n",
      "100%|██████████| 150/150 [00:08<00:00, 17.46it/s]\n"
     ]
    },
    {
     "name": "stdout",
     "output_type": "stream",
     "text": [
      "Epochs 38: source train acc: 0.101833; source test acc: 0.988800; target test acc: 0.207243\n",
      "Epochs 38: source train acc: 0.101833; source test acc: 0.988800; target test acc: 0.207243\n",
      "Epochs 38: source train acc: 0.101833; source test acc: 0.988800; target test acc: 0.207243\n"
     ]
    },
    {
     "name": "stderr",
     "output_type": "stream",
     "text": [
      "100%|██████████| 150/150 [00:08<00:00, 17.14it/s]\n",
      "100%|██████████| 150/150 [00:08<00:00, 17.42it/s]\n"
     ]
    },
    {
     "name": "stdout",
     "output_type": "stream",
     "text": [
      "Epochs 39: source train acc: 0.101917; source test acc: 0.988300; target test acc: 0.206451\n",
      "Epochs 39: source train acc: 0.101917; source test acc: 0.988300; target test acc: 0.206451\n",
      "Epochs 39: source train acc: 0.101917; source test acc: 0.988300; target test acc: 0.206451\n"
     ]
    },
    {
     "name": "stderr",
     "output_type": "stream",
     "text": [
      "100%|██████████| 150/150 [00:08<00:00, 17.17it/s]\n",
      "100%|██████████| 150/150 [00:08<00:00, 16.98it/s]\n"
     ]
    },
    {
     "name": "stdout",
     "output_type": "stream",
     "text": [
      "Epochs 40: source train acc: 0.100367; source test acc: 0.989100; target test acc: 0.208690\n",
      "Epochs 40: source train acc: 0.100367; source test acc: 0.989100; target test acc: 0.208690\n",
      "Epochs 40: source train acc: 0.100367; source test acc: 0.989100; target test acc: 0.208690\n"
     ]
    },
    {
     "name": "stderr",
     "output_type": "stream",
     "text": [
      "100%|██████████| 150/150 [00:08<00:00, 17.44it/s]\n",
      "100%|██████████| 150/150 [00:08<00:00, 17.21it/s]\n"
     ]
    },
    {
     "name": "stdout",
     "output_type": "stream",
     "text": [
      "Epochs 41: source train acc: 0.100217; source test acc: 0.990400; target test acc: 0.208267\n",
      "Epochs 41: source train acc: 0.100217; source test acc: 0.990400; target test acc: 0.208267\n",
      "Epochs 41: source train acc: 0.100217; source test acc: 0.990400; target test acc: 0.208267\n"
     ]
    },
    {
     "name": "stderr",
     "output_type": "stream",
     "text": [
      "100%|██████████| 150/150 [00:08<00:00, 17.25it/s]\n",
      "100%|██████████| 150/150 [00:08<00:00, 17.34it/s]\n"
     ]
    },
    {
     "name": "stdout",
     "output_type": "stream",
     "text": [
      "Epochs 42: source train acc: 0.100400; source test acc: 0.989500; target test acc: 0.216580\n",
      "Epochs 42: source train acc: 0.100400; source test acc: 0.989500; target test acc: 0.216580\n",
      "Epochs 42: source train acc: 0.100400; source test acc: 0.989500; target test acc: 0.216580\n"
     ]
    },
    {
     "name": "stderr",
     "output_type": "stream",
     "text": [
      "100%|██████████| 150/150 [00:08<00:00, 17.42it/s]\n",
      "100%|██████████| 150/150 [00:08<00:00, 17.21it/s]\n"
     ]
    },
    {
     "name": "stdout",
     "output_type": "stream",
     "text": [
      "Epochs 43: source train acc: 0.100700; source test acc: 0.989100; target test acc: 0.204008\n",
      "Epochs 43: source train acc: 0.100700; source test acc: 0.989100; target test acc: 0.204008\n",
      "Epochs 43: source train acc: 0.100700; source test acc: 0.989100; target test acc: 0.204008\n"
     ]
    },
    {
     "name": "stderr",
     "output_type": "stream",
     "text": [
      "100%|██████████| 150/150 [00:08<00:00, 17.08it/s]\n",
      "100%|██████████| 150/150 [00:08<00:00, 17.14it/s]\n"
     ]
    },
    {
     "name": "stdout",
     "output_type": "stream",
     "text": [
      "Epochs 44: source train acc: 0.100283; source test acc: 0.989300; target test acc: 0.215816\n",
      "Epochs 44: source train acc: 0.100283; source test acc: 0.989300; target test acc: 0.215816\n",
      "Epochs 44: source train acc: 0.100283; source test acc: 0.989300; target test acc: 0.215816\n"
     ]
    },
    {
     "name": "stderr",
     "output_type": "stream",
     "text": [
      "100%|██████████| 150/150 [00:08<00:00, 17.27it/s]\n",
      "100%|██████████| 150/150 [00:08<00:00, 17.33it/s]\n"
     ]
    },
    {
     "name": "stdout",
     "output_type": "stream",
     "text": [
      "Epochs 45: source train acc: 0.100100; source test acc: 0.990000; target test acc: 0.209755\n",
      "Epochs 45: source train acc: 0.100100; source test acc: 0.990000; target test acc: 0.209755\n",
      "Epochs 45: source train acc: 0.100100; source test acc: 0.990000; target test acc: 0.209755\n"
     ]
    },
    {
     "name": "stderr",
     "output_type": "stream",
     "text": [
      "100%|██████████| 150/150 [00:08<00:00, 17.10it/s]\n",
      "100%|██████████| 150/150 [00:08<00:00, 17.09it/s]\n"
     ]
    },
    {
     "name": "stdout",
     "output_type": "stream",
     "text": [
      "Epochs 46: source train acc: 0.100600; source test acc: 0.989600; target test acc: 0.210738\n",
      "Epochs 46: source train acc: 0.100600; source test acc: 0.989600; target test acc: 0.210738\n",
      "Epochs 46: source train acc: 0.100600; source test acc: 0.989600; target test acc: 0.210738\n"
     ]
    },
    {
     "name": "stderr",
     "output_type": "stream",
     "text": [
      "100%|██████████| 150/150 [00:08<00:00, 17.18it/s]\n",
      "100%|██████████| 150/150 [00:08<00:00, 17.36it/s]\n"
     ]
    },
    {
     "name": "stdout",
     "output_type": "stream",
     "text": [
      "Epochs 47: source train acc: 0.101333; source test acc: 0.990400; target test acc: 0.201865\n",
      "Epochs 47: source train acc: 0.101333; source test acc: 0.990400; target test acc: 0.201865\n",
      "Epochs 47: source train acc: 0.101333; source test acc: 0.990400; target test acc: 0.201865\n"
     ]
    },
    {
     "name": "stderr",
     "output_type": "stream",
     "text": [
      "100%|██████████| 150/150 [00:08<00:00, 17.80it/s]\n",
      "100%|██████████| 150/150 [00:08<00:00, 17.53it/s]\n"
     ]
    },
    {
     "name": "stdout",
     "output_type": "stream",
     "text": [
      "Epochs 48: source train acc: 0.100967; source test acc: 0.990300; target test acc: 0.202561\n",
      "Epochs 48: source train acc: 0.100967; source test acc: 0.990300; target test acc: 0.202561\n",
      "Epochs 48: source train acc: 0.100967; source test acc: 0.990300; target test acc: 0.202561\n"
     ]
    },
    {
     "name": "stderr",
     "output_type": "stream",
     "text": [
      "100%|██████████| 150/150 [00:08<00:00, 17.82it/s]\n",
      "100%|██████████| 150/150 [00:08<00:00, 17.91it/s]\n"
     ]
    },
    {
     "name": "stdout",
     "output_type": "stream",
     "text": [
      "Epochs 49: source train acc: 0.100000; source test acc: 0.989800; target test acc: 0.208076\n",
      "Epochs 49: source train acc: 0.100000; source test acc: 0.989800; target test acc: 0.208076\n",
      "Epochs 49: source train acc: 0.100000; source test acc: 0.989800; target test acc: 0.208076\n"
     ]
    },
    {
     "name": "stderr",
     "output_type": "stream",
     "text": [
      "100%|██████████| 150/150 [00:08<00:00, 18.12it/s]\n",
      "100%|██████████| 150/150 [00:08<00:00, 17.94it/s]\n"
     ]
    },
    {
     "name": "stdout",
     "output_type": "stream",
     "text": [
      "Epochs 50: source train acc: 0.099233; source test acc: 0.990400; target test acc: 0.211952\n",
      "Epochs 50: source train acc: 0.099233; source test acc: 0.990400; target test acc: 0.211952\n",
      "Epochs 50: source train acc: 0.099233; source test acc: 0.990400; target test acc: 0.211952\n"
     ]
    },
    {
     "name": "stderr",
     "output_type": "stream",
     "text": [
      "100%|██████████| 150/150 [00:08<00:00, 18.10it/s]\n",
      "100%|██████████| 150/150 [00:08<00:00, 17.40it/s]\n"
     ]
    },
    {
     "name": "stdout",
     "output_type": "stream",
     "text": [
      "Epochs 51: source train acc: 0.099933; source test acc: 0.991200; target test acc: 0.205373\n",
      "Epochs 51: source train acc: 0.099933; source test acc: 0.991200; target test acc: 0.205373\n",
      "Epochs 51: source train acc: 0.099933; source test acc: 0.991200; target test acc: 0.205373\n"
     ]
    },
    {
     "name": "stderr",
     "output_type": "stream",
     "text": [
      "100%|██████████| 150/150 [00:08<00:00, 17.87it/s]\n",
      "100%|██████████| 150/150 [00:08<00:00, 17.83it/s]\n"
     ]
    },
    {
     "name": "stdout",
     "output_type": "stream",
     "text": [
      "Epochs 52: source train acc: 0.100833; source test acc: 0.991100; target test acc: 0.207885\n",
      "Epochs 52: source train acc: 0.100833; source test acc: 0.991100; target test acc: 0.207885\n",
      "Epochs 52: source train acc: 0.100833; source test acc: 0.991100; target test acc: 0.207885\n"
     ]
    },
    {
     "name": "stderr",
     "output_type": "stream",
     "text": [
      "100%|██████████| 150/150 [00:08<00:00, 17.92it/s]\n",
      "100%|██████████| 150/150 [00:08<00:00, 17.84it/s]\n"
     ]
    },
    {
     "name": "stdout",
     "output_type": "stream",
     "text": [
      "Epochs 53: source train acc: 0.101083; source test acc: 0.989200; target test acc: 0.209782\n",
      "Epochs 53: source train acc: 0.101083; source test acc: 0.989200; target test acc: 0.209782\n",
      "Epochs 53: source train acc: 0.101083; source test acc: 0.989200; target test acc: 0.209782\n"
     ]
    },
    {
     "name": "stderr",
     "output_type": "stream",
     "text": [
      "100%|██████████| 150/150 [00:08<00:00, 17.98it/s]\n",
      "100%|██████████| 150/150 [00:08<00:00, 17.85it/s]\n"
     ]
    },
    {
     "name": "stdout",
     "output_type": "stream",
     "text": [
      "Epochs 54: source train acc: 0.099383; source test acc: 0.991000; target test acc: 0.215583\n",
      "Epochs 54: source train acc: 0.099383; source test acc: 0.991000; target test acc: 0.215583\n",
      "Epochs 54: source train acc: 0.099383; source test acc: 0.991000; target test acc: 0.215583\n"
     ]
    },
    {
     "name": "stderr",
     "output_type": "stream",
     "text": [
      "100%|██████████| 150/150 [00:08<00:00, 17.93it/s]\n",
      "100%|██████████| 150/150 [00:08<00:00, 17.84it/s]\n"
     ]
    },
    {
     "name": "stdout",
     "output_type": "stream",
     "text": [
      "Epochs 55: source train acc: 0.101633; source test acc: 0.990000; target test acc: 0.208226\n",
      "Epochs 55: source train acc: 0.101633; source test acc: 0.990000; target test acc: 0.208226\n",
      "Epochs 55: source train acc: 0.101633; source test acc: 0.990000; target test acc: 0.208226\n"
     ]
    },
    {
     "name": "stderr",
     "output_type": "stream",
     "text": [
      "100%|██████████| 150/150 [00:08<00:00, 18.03it/s]\n",
      "100%|██████████| 150/150 [00:08<00:00, 17.74it/s]\n"
     ]
    },
    {
     "name": "stdout",
     "output_type": "stream",
     "text": [
      "Epochs 56: source train acc: 0.100033; source test acc: 0.991200; target test acc: 0.208635\n",
      "Epochs 56: source train acc: 0.100033; source test acc: 0.991200; target test acc: 0.208635\n",
      "Epochs 56: source train acc: 0.100033; source test acc: 0.991200; target test acc: 0.208635\n"
     ]
    },
    {
     "name": "stderr",
     "output_type": "stream",
     "text": [
      "100%|██████████| 150/150 [00:08<00:00, 17.96it/s]\n",
      "100%|██████████| 150/150 [00:08<00:00, 17.81it/s]\n"
     ]
    },
    {
     "name": "stdout",
     "output_type": "stream",
     "text": [
      "Epochs 57: source train acc: 0.100300; source test acc: 0.989600; target test acc: 0.206656\n",
      "Epochs 57: source train acc: 0.100300; source test acc: 0.989600; target test acc: 0.206656\n",
      "Epochs 57: source train acc: 0.100300; source test acc: 0.989600; target test acc: 0.206656\n"
     ]
    },
    {
     "name": "stderr",
     "output_type": "stream",
     "text": [
      "100%|██████████| 150/150 [00:08<00:00, 18.33it/s]\n",
      "100%|██████████| 150/150 [00:08<00:00, 18.27it/s]\n"
     ]
    },
    {
     "name": "stdout",
     "output_type": "stream",
     "text": [
      "Epochs 58: source train acc: 0.100900; source test acc: 0.990100; target test acc: 0.208663\n",
      "Epochs 58: source train acc: 0.100900; source test acc: 0.990100; target test acc: 0.208663\n",
      "Epochs 58: source train acc: 0.100900; source test acc: 0.990100; target test acc: 0.208663\n"
     ]
    },
    {
     "name": "stderr",
     "output_type": "stream",
     "text": [
      "100%|██████████| 150/150 [00:08<00:00, 18.11it/s]\n",
      "100%|██████████| 150/150 [00:08<00:00, 17.97it/s]\n"
     ]
    },
    {
     "name": "stdout",
     "output_type": "stream",
     "text": [
      "Epochs 59: source train acc: 0.099683; source test acc: 0.990000; target test acc: 0.209372\n",
      "Epochs 59: source train acc: 0.099683; source test acc: 0.990000; target test acc: 0.209372\n",
      "Epochs 59: source train acc: 0.099683; source test acc: 0.990000; target test acc: 0.209372\n"
     ]
    },
    {
     "name": "stderr",
     "output_type": "stream",
     "text": [
      "100%|██████████| 150/150 [00:08<00:00, 18.20it/s]\n",
      "100%|██████████| 150/150 [00:08<00:00, 17.93it/s]\n"
     ]
    },
    {
     "name": "stdout",
     "output_type": "stream",
     "text": [
      "Epochs 60: source train acc: 0.099033; source test acc: 0.990900; target test acc: 0.207052\n",
      "Epochs 60: source train acc: 0.099033; source test acc: 0.990900; target test acc: 0.207052\n",
      "Epochs 60: source train acc: 0.099033; source test acc: 0.990900; target test acc: 0.207052\n"
     ]
    },
    {
     "name": "stderr",
     "output_type": "stream",
     "text": [
      "100%|██████████| 150/150 [00:08<00:00, 18.17it/s]\n",
      "100%|██████████| 150/150 [00:08<00:00, 17.98it/s]\n"
     ]
    },
    {
     "name": "stdout",
     "output_type": "stream",
     "text": [
      "Epochs 61: source train acc: 0.099333; source test acc: 0.990100; target test acc: 0.205946\n",
      "Epochs 61: source train acc: 0.099333; source test acc: 0.990100; target test acc: 0.205946\n",
      "Epochs 61: source train acc: 0.099333; source test acc: 0.990100; target test acc: 0.205946\n"
     ]
    },
    {
     "name": "stderr",
     "output_type": "stream",
     "text": [
      "100%|██████████| 150/150 [00:08<00:00, 17.82it/s]\n",
      "100%|██████████| 150/150 [00:08<00:00, 17.33it/s]\n"
     ]
    },
    {
     "name": "stdout",
     "output_type": "stream",
     "text": [
      "Epochs 62: source train acc: 0.098517; source test acc: 0.990700; target test acc: 0.204213\n",
      "Epochs 62: source train acc: 0.098517; source test acc: 0.990700; target test acc: 0.204213\n",
      "Epochs 62: source train acc: 0.098517; source test acc: 0.990700; target test acc: 0.204213\n"
     ]
    },
    {
     "name": "stderr",
     "output_type": "stream",
     "text": [
      "100%|██████████| 150/150 [00:08<00:00, 16.85it/s]\n",
      "100%|██████████| 150/150 [00:09<00:00, 16.62it/s]\n"
     ]
    },
    {
     "name": "stdout",
     "output_type": "stream",
     "text": [
      "Epochs 63: source train acc: 0.101283; source test acc: 0.990300; target test acc: 0.204008\n",
      "Epochs 63: source train acc: 0.101283; source test acc: 0.990300; target test acc: 0.204008\n",
      "Epochs 63: source train acc: 0.101283; source test acc: 0.990300; target test acc: 0.204008\n"
     ]
    },
    {
     "name": "stderr",
     "output_type": "stream",
     "text": [
      "100%|██████████| 150/150 [00:08<00:00, 16.89it/s]\n",
      "100%|██████████| 150/150 [00:09<00:00, 16.22it/s]\n"
     ]
    },
    {
     "name": "stdout",
     "output_type": "stream",
     "text": [
      "Epochs 64: source train acc: 0.099717; source test acc: 0.991300; target test acc: 0.209004\n",
      "Epochs 64: source train acc: 0.099717; source test acc: 0.991300; target test acc: 0.209004\n",
      "Epochs 64: source train acc: 0.099717; source test acc: 0.991300; target test acc: 0.209004\n"
     ]
    },
    {
     "name": "stderr",
     "output_type": "stream",
     "text": [
      "100%|██████████| 150/150 [00:08<00:00, 16.77it/s]\n",
      "100%|██████████| 150/150 [00:08<00:00, 16.92it/s]\n"
     ]
    },
    {
     "name": "stdout",
     "output_type": "stream",
     "text": [
      "Epochs 65: source train acc: 0.098167; source test acc: 0.991000; target test acc: 0.210942\n",
      "Epochs 65: source train acc: 0.098167; source test acc: 0.991000; target test acc: 0.210942\n",
      "Epochs 65: source train acc: 0.098167; source test acc: 0.991000; target test acc: 0.210942\n"
     ]
    },
    {
     "name": "stderr",
     "output_type": "stream",
     "text": [
      "100%|██████████| 150/150 [00:08<00:00, 16.83it/s]\n",
      "100%|██████████| 150/150 [00:08<00:00, 16.86it/s]\n"
     ]
    },
    {
     "name": "stdout",
     "output_type": "stream",
     "text": [
      "Epochs 66: source train acc: 0.100217; source test acc: 0.991000; target test acc: 0.208854\n",
      "Epochs 66: source train acc: 0.100217; source test acc: 0.991000; target test acc: 0.208854\n",
      "Epochs 66: source train acc: 0.100217; source test acc: 0.991000; target test acc: 0.208854\n"
     ]
    },
    {
     "name": "stderr",
     "output_type": "stream",
     "text": [
      "100%|██████████| 150/150 [00:08<00:00, 16.68it/s]\n",
      "100%|██████████| 150/150 [00:09<00:00, 16.57it/s]\n"
     ]
    },
    {
     "name": "stdout",
     "output_type": "stream",
     "text": [
      "Epochs 67: source train acc: 0.101883; source test acc: 0.991600; target test acc: 0.211789\n",
      "Epochs 67: source train acc: 0.101883; source test acc: 0.991600; target test acc: 0.211789\n",
      "Epochs 67: source train acc: 0.101883; source test acc: 0.991600; target test acc: 0.211789\n"
     ]
    },
    {
     "name": "stderr",
     "output_type": "stream",
     "text": [
      "100%|██████████| 150/150 [00:08<00:00, 17.14it/s]\n",
      "100%|██████████| 150/150 [00:08<00:00, 16.95it/s]\n"
     ]
    },
    {
     "name": "stdout",
     "output_type": "stream",
     "text": [
      "Epochs 68: source train acc: 0.101500; source test acc: 0.990000; target test acc: 0.212280\n",
      "Epochs 68: source train acc: 0.101500; source test acc: 0.990000; target test acc: 0.212280\n",
      "Epochs 68: source train acc: 0.101500; source test acc: 0.990000; target test acc: 0.212280\n"
     ]
    },
    {
     "name": "stderr",
     "output_type": "stream",
     "text": [
      "100%|██████████| 150/150 [00:08<00:00, 16.72it/s]\n",
      "100%|██████████| 150/150 [00:08<00:00, 16.77it/s]\n"
     ]
    },
    {
     "name": "stdout",
     "output_type": "stream",
     "text": [
      "Epochs 69: source train acc: 0.097633; source test acc: 0.992000; target test acc: 0.205878\n",
      "Epochs 69: source train acc: 0.097633; source test acc: 0.992000; target test acc: 0.205878\n",
      "Epochs 69: source train acc: 0.097633; source test acc: 0.992000; target test acc: 0.205878\n"
     ]
    },
    {
     "name": "stderr",
     "output_type": "stream",
     "text": [
      "100%|██████████| 150/150 [00:08<00:00, 16.67it/s]\n",
      "100%|██████████| 150/150 [00:09<00:00, 16.61it/s]\n"
     ]
    },
    {
     "name": "stdout",
     "output_type": "stream",
     "text": [
      "Epochs 70: source train acc: 0.098433; source test acc: 0.990500; target test acc: 0.208267\n",
      "Epochs 70: source train acc: 0.098433; source test acc: 0.990500; target test acc: 0.208267\n",
      "Epochs 70: source train acc: 0.098433; source test acc: 0.990500; target test acc: 0.208267\n"
     ]
    },
    {
     "name": "stderr",
     "output_type": "stream",
     "text": [
      "100%|██████████| 150/150 [00:08<00:00, 17.06it/s]\n",
      "100%|██████████| 150/150 [00:09<00:00, 16.38it/s]\n"
     ]
    },
    {
     "name": "stdout",
     "output_type": "stream",
     "text": [
      "Epochs 71: source train acc: 0.100833; source test acc: 0.991200; target test acc: 0.209645\n",
      "Epochs 71: source train acc: 0.100833; source test acc: 0.991200; target test acc: 0.209645\n",
      "Epochs 71: source train acc: 0.100833; source test acc: 0.991200; target test acc: 0.209645\n"
     ]
    },
    {
     "name": "stderr",
     "output_type": "stream",
     "text": [
      "100%|██████████| 150/150 [00:08<00:00, 16.73it/s]\n",
      "100%|██████████| 150/150 [00:08<00:00, 17.00it/s]\n"
     ]
    },
    {
     "name": "stdout",
     "output_type": "stream",
     "text": [
      "Epochs 72: source train acc: 0.100350; source test acc: 0.991700; target test acc: 0.210970\n",
      "Epochs 72: source train acc: 0.100350; source test acc: 0.991700; target test acc: 0.210970\n",
      "Epochs 72: source train acc: 0.100350; source test acc: 0.991700; target test acc: 0.210970\n"
     ]
    },
    {
     "name": "stderr",
     "output_type": "stream",
     "text": [
      "100%|██████████| 150/150 [00:09<00:00, 16.51it/s]\n",
      "100%|██████████| 150/150 [00:09<00:00, 16.50it/s]\n"
     ]
    },
    {
     "name": "stdout",
     "output_type": "stream",
     "text": [
      "Epochs 73: source train acc: 0.098467; source test acc: 0.991900; target test acc: 0.208199\n",
      "Epochs 73: source train acc: 0.098467; source test acc: 0.991900; target test acc: 0.208199\n",
      "Epochs 73: source train acc: 0.098467; source test acc: 0.991900; target test acc: 0.208199\n"
     ]
    },
    {
     "name": "stderr",
     "output_type": "stream",
     "text": [
      "100%|██████████| 150/150 [00:08<00:00, 16.92it/s]\n",
      "100%|██████████| 150/150 [00:09<00:00, 16.43it/s]\n"
     ]
    },
    {
     "name": "stdout",
     "output_type": "stream",
     "text": [
      "Epochs 74: source train acc: 0.101383; source test acc: 0.989600; target test acc: 0.213208\n",
      "Epochs 74: source train acc: 0.101383; source test acc: 0.989600; target test acc: 0.213208\n",
      "Epochs 74: source train acc: 0.101383; source test acc: 0.989600; target test acc: 0.213208\n"
     ]
    },
    {
     "name": "stderr",
     "output_type": "stream",
     "text": [
      "100%|██████████| 150/150 [00:08<00:00, 16.79it/s]\n",
      "100%|██████████| 150/150 [00:08<00:00, 16.82it/s]\n"
     ]
    },
    {
     "name": "stdout",
     "output_type": "stream",
     "text": [
      "Epochs 75: source train acc: 0.100050; source test acc: 0.991200; target test acc: 0.205496\n",
      "Epochs 75: source train acc: 0.100050; source test acc: 0.991200; target test acc: 0.205496\n",
      "Epochs 75: source train acc: 0.100050; source test acc: 0.991200; target test acc: 0.205496\n"
     ]
    },
    {
     "name": "stderr",
     "output_type": "stream",
     "text": [
      "100%|██████████| 150/150 [00:09<00:00, 16.66it/s]\n",
      "100%|██████████| 150/150 [00:09<00:00, 16.60it/s]\n"
     ]
    },
    {
     "name": "stdout",
     "output_type": "stream",
     "text": [
      "Epochs 76: source train acc: 0.101067; source test acc: 0.992400; target test acc: 0.205864\n",
      "Epochs 76: source train acc: 0.101067; source test acc: 0.992400; target test acc: 0.205864\n",
      "Epochs 76: source train acc: 0.101067; source test acc: 0.992400; target test acc: 0.205864\n"
     ]
    },
    {
     "name": "stderr",
     "output_type": "stream",
     "text": [
      "100%|██████████| 150/150 [00:08<00:00, 16.93it/s]\n",
      "100%|██████████| 150/150 [00:09<00:00, 16.17it/s]\n"
     ]
    },
    {
     "name": "stdout",
     "output_type": "stream",
     "text": [
      "Epochs 77: source train acc: 0.099683; source test acc: 0.991800; target test acc: 0.208649\n",
      "Epochs 77: source train acc: 0.099683; source test acc: 0.991800; target test acc: 0.208649\n",
      "Epochs 77: source train acc: 0.099683; source test acc: 0.991800; target test acc: 0.208649\n"
     ]
    },
    {
     "name": "stderr",
     "output_type": "stream",
     "text": [
      "100%|██████████| 150/150 [00:08<00:00, 16.81it/s]\n",
      "100%|██████████| 150/150 [00:09<00:00, 16.65it/s]\n"
     ]
    },
    {
     "name": "stdout",
     "output_type": "stream",
     "text": [
      "Epochs 78: source train acc: 0.099467; source test acc: 0.991500; target test acc: 0.208267\n",
      "Epochs 78: source train acc: 0.099467; source test acc: 0.991500; target test acc: 0.208267\n",
      "Epochs 78: source train acc: 0.099467; source test acc: 0.991500; target test acc: 0.208267\n"
     ]
    },
    {
     "name": "stderr",
     "output_type": "stream",
     "text": [
      "100%|██████████| 150/150 [00:09<00:00, 16.58it/s]\n",
      "100%|██████████| 150/150 [00:09<00:00, 16.63it/s]\n"
     ]
    },
    {
     "name": "stdout",
     "output_type": "stream",
     "text": [
      "Epochs 79: source train acc: 0.099950; source test acc: 0.990700; target test acc: 0.208499\n",
      "Epochs 79: source train acc: 0.099950; source test acc: 0.990700; target test acc: 0.208499\n",
      "Epochs 79: source train acc: 0.099950; source test acc: 0.990700; target test acc: 0.208499\n"
     ]
    },
    {
     "name": "stderr",
     "output_type": "stream",
     "text": [
      "100%|██████████| 150/150 [00:09<00:00, 16.48it/s]\n",
      "100%|██████████| 150/150 [00:09<00:00, 16.26it/s]\n"
     ]
    },
    {
     "name": "stdout",
     "output_type": "stream",
     "text": [
      "Epochs 80: source train acc: 0.099000; source test acc: 0.991500; target test acc: 0.207721\n",
      "Epochs 80: source train acc: 0.099000; source test acc: 0.991500; target test acc: 0.207721\n",
      "Epochs 80: source train acc: 0.099000; source test acc: 0.991500; target test acc: 0.207721\n"
     ]
    },
    {
     "name": "stderr",
     "output_type": "stream",
     "text": [
      "100%|██████████| 150/150 [00:08<00:00, 16.90it/s]\n",
      "100%|██████████| 150/150 [00:09<00:00, 16.62it/s]\n"
     ]
    },
    {
     "name": "stdout",
     "output_type": "stream",
     "text": [
      "Epochs 81: source train acc: 0.099500; source test acc: 0.989600; target test acc: 0.205687\n",
      "Epochs 81: source train acc: 0.099500; source test acc: 0.989600; target test acc: 0.205687\n",
      "Epochs 81: source train acc: 0.099500; source test acc: 0.989600; target test acc: 0.205687\n"
     ]
    },
    {
     "name": "stderr",
     "output_type": "stream",
     "text": [
      "100%|██████████| 150/150 [00:09<00:00, 16.64it/s]\n",
      "100%|██████████| 150/150 [00:08<00:00, 16.68it/s]\n"
     ]
    },
    {
     "name": "stdout",
     "output_type": "stream",
     "text": [
      "Epochs 82: source train acc: 0.099550; source test acc: 0.992100; target test acc: 0.206014\n",
      "Epochs 82: source train acc: 0.099550; source test acc: 0.992100; target test acc: 0.206014\n",
      "Epochs 82: source train acc: 0.099550; source test acc: 0.992100; target test acc: 0.206014\n"
     ]
    },
    {
     "name": "stderr",
     "output_type": "stream",
     "text": [
      "100%|██████████| 150/150 [00:09<00:00, 16.54it/s]\n",
      "100%|██████████| 150/150 [00:09<00:00, 16.48it/s]\n"
     ]
    },
    {
     "name": "stdout",
     "output_type": "stream",
     "text": [
      "Epochs 83: source train acc: 0.097883; source test acc: 0.991100; target test acc: 0.203817\n",
      "Epochs 83: source train acc: 0.097883; source test acc: 0.991100; target test acc: 0.203817\n",
      "Epochs 83: source train acc: 0.097883; source test acc: 0.991100; target test acc: 0.203817\n"
     ]
    },
    {
     "name": "stderr",
     "output_type": "stream",
     "text": [
      "100%|██████████| 150/150 [00:08<00:00, 17.03it/s]\n",
      "100%|██████████| 150/150 [00:08<00:00, 16.70it/s]\n"
     ]
    },
    {
     "name": "stdout",
     "output_type": "stream",
     "text": [
      "Epochs 84: source train acc: 0.101367; source test acc: 0.990600; target test acc: 0.203516\n",
      "Epochs 84: source train acc: 0.101367; source test acc: 0.990600; target test acc: 0.203516\n",
      "Epochs 84: source train acc: 0.101367; source test acc: 0.990600; target test acc: 0.203516\n"
     ]
    },
    {
     "name": "stderr",
     "output_type": "stream",
     "text": [
      "100%|██████████| 150/150 [00:09<00:00, 15.79it/s]\n",
      "100%|██████████| 150/150 [00:09<00:00, 16.64it/s]\n"
     ]
    },
    {
     "name": "stdout",
     "output_type": "stream",
     "text": [
      "Epochs 85: source train acc: 0.100417; source test acc: 0.990000; target test acc: 0.208376\n",
      "Epochs 85: source train acc: 0.100417; source test acc: 0.990000; target test acc: 0.208376\n",
      "Epochs 85: source train acc: 0.100417; source test acc: 0.990000; target test acc: 0.208376\n"
     ]
    },
    {
     "name": "stderr",
     "output_type": "stream",
     "text": [
      "100%|██████████| 150/150 [00:09<00:00, 16.55it/s]\n",
      "100%|██████████| 150/150 [00:09<00:00, 16.64it/s]\n"
     ]
    },
    {
     "name": "stdout",
     "output_type": "stream",
     "text": [
      "Epochs 86: source train acc: 0.099533; source test acc: 0.990600; target test acc: 0.204745\n",
      "Epochs 86: source train acc: 0.099533; source test acc: 0.990600; target test acc: 0.204745\n",
      "Epochs 86: source train acc: 0.099533; source test acc: 0.990600; target test acc: 0.204745\n"
     ]
    },
    {
     "name": "stderr",
     "output_type": "stream",
     "text": [
      "100%|██████████| 150/150 [00:08<00:00, 17.12it/s]\n",
      "100%|██████████| 150/150 [00:09<00:00, 16.22it/s]\n"
     ]
    },
    {
     "name": "stdout",
     "output_type": "stream",
     "text": [
      "Epochs 87: source train acc: 0.100483; source test acc: 0.990000; target test acc: 0.206083\n",
      "Epochs 87: source train acc: 0.100483; source test acc: 0.990000; target test acc: 0.206083\n",
      "Epochs 87: source train acc: 0.100483; source test acc: 0.990000; target test acc: 0.206083\n"
     ]
    },
    {
     "name": "stderr",
     "output_type": "stream",
     "text": [
      "100%|██████████| 150/150 [00:08<00:00, 16.75it/s]\n",
      "100%|██████████| 150/150 [00:08<00:00, 16.76it/s]\n"
     ]
    },
    {
     "name": "stdout",
     "output_type": "stream",
     "text": [
      "Epochs 88: source train acc: 0.097600; source test acc: 0.992100; target test acc: 0.202793\n",
      "Epochs 88: source train acc: 0.097600; source test acc: 0.992100; target test acc: 0.202793\n",
      "Epochs 88: source train acc: 0.097600; source test acc: 0.992100; target test acc: 0.202793\n"
     ]
    },
    {
     "name": "stderr",
     "output_type": "stream",
     "text": [
      "100%|██████████| 150/150 [00:09<00:00, 16.40it/s]\n",
      "100%|██████████| 150/150 [00:09<00:00, 16.26it/s]\n"
     ]
    },
    {
     "name": "stdout",
     "output_type": "stream",
     "text": [
      "Epochs 89: source train acc: 0.099817; source test acc: 0.990700; target test acc: 0.203571\n",
      "Epochs 89: source train acc: 0.099817; source test acc: 0.990700; target test acc: 0.203571\n",
      "Epochs 89: source train acc: 0.099817; source test acc: 0.990700; target test acc: 0.203571\n"
     ]
    },
    {
     "name": "stderr",
     "output_type": "stream",
     "text": [
      "100%|██████████| 150/150 [00:08<00:00, 17.03it/s]\n",
      "100%|██████████| 150/150 [00:09<00:00, 16.21it/s]\n"
     ]
    },
    {
     "name": "stdout",
     "output_type": "stream",
     "text": [
      "Epochs 90: source train acc: 0.101650; source test acc: 0.991000; target test acc: 0.206001\n",
      "Epochs 90: source train acc: 0.101650; source test acc: 0.991000; target test acc: 0.206001\n",
      "Epochs 90: source train acc: 0.101650; source test acc: 0.991000; target test acc: 0.206001\n"
     ]
    },
    {
     "name": "stderr",
     "output_type": "stream",
     "text": [
      "100%|██████████| 150/150 [00:09<00:00, 16.54it/s]\n",
      "100%|██████████| 150/150 [00:08<00:00, 16.93it/s]\n"
     ]
    },
    {
     "name": "stdout",
     "output_type": "stream",
     "text": [
      "Epochs 91: source train acc: 0.099400; source test acc: 0.991200; target test acc: 0.214205\n",
      "Epochs 91: source train acc: 0.099400; source test acc: 0.991200; target test acc: 0.214205\n",
      "Epochs 91: source train acc: 0.099400; source test acc: 0.991200; target test acc: 0.214205\n"
     ]
    },
    {
     "name": "stderr",
     "output_type": "stream",
     "text": [
      "100%|██████████| 150/150 [00:08<00:00, 16.78it/s]\n",
      "100%|██████████| 150/150 [00:09<00:00, 16.36it/s]\n"
     ]
    },
    {
     "name": "stdout",
     "output_type": "stream",
     "text": [
      "Epochs 92: source train acc: 0.100317; source test acc: 0.990500; target test acc: 0.206028\n",
      "Epochs 92: source train acc: 0.100317; source test acc: 0.990500; target test acc: 0.206028\n",
      "Epochs 92: source train acc: 0.100317; source test acc: 0.990500; target test acc: 0.206028\n"
     ]
    },
    {
     "name": "stderr",
     "output_type": "stream",
     "text": [
      "100%|██████████| 150/150 [00:08<00:00, 16.97it/s]\n",
      "100%|██████████| 150/150 [00:09<00:00, 16.40it/s]\n"
     ]
    },
    {
     "name": "stdout",
     "output_type": "stream",
     "text": [
      "Epochs 93: source train acc: 0.099967; source test acc: 0.990200; target test acc: 0.212335\n",
      "Epochs 93: source train acc: 0.099967; source test acc: 0.990200; target test acc: 0.212335\n",
      "Epochs 93: source train acc: 0.099967; source test acc: 0.990200; target test acc: 0.212335\n"
     ]
    },
    {
     "name": "stderr",
     "output_type": "stream",
     "text": [
      "100%|██████████| 150/150 [00:08<00:00, 16.97it/s]\n",
      "100%|██████████| 150/150 [00:08<00:00, 16.93it/s]\n"
     ]
    },
    {
     "name": "stdout",
     "output_type": "stream",
     "text": [
      "Epochs 94: source train acc: 0.099100; source test acc: 0.990700; target test acc: 0.207762\n",
      "Epochs 94: source train acc: 0.099100; source test acc: 0.990700; target test acc: 0.207762\n",
      "Epochs 94: source train acc: 0.099100; source test acc: 0.990700; target test acc: 0.207762\n"
     ]
    },
    {
     "name": "stderr",
     "output_type": "stream",
     "text": [
      "100%|██████████| 150/150 [00:09<00:00, 16.33it/s]\n",
      "100%|██████████| 150/150 [00:09<00:00, 16.51it/s]\n"
     ]
    },
    {
     "name": "stdout",
     "output_type": "stream",
     "text": [
      "Epochs 95: source train acc: 0.100633; source test acc: 0.989900; target test acc: 0.208431\n",
      "Epochs 95: source train acc: 0.100633; source test acc: 0.989900; target test acc: 0.208431\n",
      "Epochs 95: source train acc: 0.100633; source test acc: 0.989900; target test acc: 0.208431\n"
     ]
    },
    {
     "name": "stderr",
     "output_type": "stream",
     "text": [
      "100%|██████████| 150/150 [00:09<00:00, 16.49it/s]\n",
      "100%|██████████| 150/150 [00:09<00:00, 16.37it/s]\n"
     ]
    },
    {
     "name": "stdout",
     "output_type": "stream",
     "text": [
      "Epochs 96: source train acc: 0.099433; source test acc: 0.989800; target test acc: 0.206820\n",
      "Epochs 96: source train acc: 0.099433; source test acc: 0.989800; target test acc: 0.206820\n",
      "Epochs 96: source train acc: 0.099433; source test acc: 0.989800; target test acc: 0.206820\n"
     ]
    },
    {
     "name": "stderr",
     "output_type": "stream",
     "text": [
      "100%|██████████| 150/150 [00:08<00:00, 17.01it/s]\n",
      "100%|██████████| 150/150 [00:09<00:00, 16.65it/s]\n"
     ]
    },
    {
     "name": "stdout",
     "output_type": "stream",
     "text": [
      "Epochs 97: source train acc: 0.098100; source test acc: 0.989900; target test acc: 0.204390\n",
      "Epochs 97: source train acc: 0.098100; source test acc: 0.989900; target test acc: 0.204390\n",
      "Epochs 97: source train acc: 0.098100; source test acc: 0.989900; target test acc: 0.204390\n"
     ]
    },
    {
     "name": "stderr",
     "output_type": "stream",
     "text": [
      "100%|██████████| 150/150 [00:09<00:00, 16.34it/s]\n",
      "100%|██████████| 150/150 [00:09<00:00, 16.35it/s]\n"
     ]
    },
    {
     "name": "stdout",
     "output_type": "stream",
     "text": [
      "Epochs 98: source train acc: 0.099950; source test acc: 0.988000; target test acc: 0.203899\n",
      "Epochs 98: source train acc: 0.099950; source test acc: 0.988000; target test acc: 0.203899\n",
      "Epochs 98: source train acc: 0.099950; source test acc: 0.988000; target test acc: 0.203899\n"
     ]
    },
    {
     "name": "stderr",
     "output_type": "stream",
     "text": [
      "100%|██████████| 150/150 [00:09<00:00, 16.59it/s]\n",
      "100%|██████████| 150/150 [00:09<00:00, 16.33it/s]\n"
     ]
    },
    {
     "name": "stdout",
     "output_type": "stream",
     "text": [
      "Epochs 99: source train acc: 0.101017; source test acc: 0.989500; target test acc: 0.210041\n",
      "Epochs 99: source train acc: 0.101017; source test acc: 0.989500; target test acc: 0.210041\n",
      "Epochs 99: source train acc: 0.101017; source test acc: 0.989500; target test acc: 0.210041\n"
     ]
    },
    {
     "name": "stderr",
     "output_type": "stream",
     "text": [
      "100%|██████████| 150/150 [00:08<00:00, 16.80it/s]\n",
      "100%|██████████| 150/150 [00:09<00:00, 16.59it/s]\n"
     ]
    },
    {
     "name": "stdout",
     "output_type": "stream",
     "text": [
      "Epochs 100: source train acc: 0.101067; source test acc: 0.989900; target test acc: 0.211775\n",
      "Epochs 100: source train acc: 0.101067; source test acc: 0.989900; target test acc: 0.211775\n",
      "Epochs 100: source train acc: 0.101067; source test acc: 0.989900; target test acc: 0.211775\n"
     ]
    },
    {
     "name": "stderr",
     "output_type": "stream",
     "text": [
      "100%|██████████| 150/150 [00:09<00:00, 16.60it/s]\n",
      "100%|██████████| 150/150 [00:09<00:00, 16.57it/s]\n"
     ]
    },
    {
     "name": "stdout",
     "output_type": "stream",
     "text": [
      "Epochs 101: source train acc: 0.100133; source test acc: 0.990200; target test acc: 0.206479\n",
      "Epochs 101: source train acc: 0.100133; source test acc: 0.990200; target test acc: 0.206479\n",
      "Epochs 101: source train acc: 0.100133; source test acc: 0.990200; target test acc: 0.206479\n"
     ]
    },
    {
     "name": "stderr",
     "output_type": "stream",
     "text": [
      "100%|██████████| 150/150 [00:09<00:00, 16.60it/s]\n",
      "100%|██████████| 150/150 [00:09<00:00, 16.55it/s]\n"
     ]
    },
    {
     "name": "stdout",
     "output_type": "stream",
     "text": [
      "Epochs 102: source train acc: 0.101083; source test acc: 0.990400; target test acc: 0.208635\n",
      "Epochs 102: source train acc: 0.101083; source test acc: 0.990400; target test acc: 0.208635\n",
      "Epochs 102: source train acc: 0.101083; source test acc: 0.990400; target test acc: 0.208635\n"
     ]
    },
    {
     "name": "stderr",
     "output_type": "stream",
     "text": [
      "100%|██████████| 150/150 [00:08<00:00, 17.15it/s]\n",
      "100%|██████████| 150/150 [00:09<00:00, 16.54it/s]\n"
     ]
    },
    {
     "name": "stdout",
     "output_type": "stream",
     "text": [
      "Epochs 103: source train acc: 0.101267; source test acc: 0.990500; target test acc: 0.209413\n",
      "Epochs 103: source train acc: 0.101267; source test acc: 0.990500; target test acc: 0.209413\n",
      "Epochs 103: source train acc: 0.101267; source test acc: 0.990500; target test acc: 0.209413\n"
     ]
    },
    {
     "name": "stderr",
     "output_type": "stream",
     "text": [
      "100%|██████████| 150/150 [00:09<00:00, 16.53it/s]\n",
      "100%|██████████| 150/150 [00:08<00:00, 16.71it/s]\n"
     ]
    },
    {
     "name": "stdout",
     "output_type": "stream",
     "text": [
      "Epochs 104: source train acc: 0.098750; source test acc: 0.990700; target test acc: 0.204622\n",
      "Epochs 104: source train acc: 0.098750; source test acc: 0.990700; target test acc: 0.204622\n",
      "Epochs 104: source train acc: 0.098750; source test acc: 0.990700; target test acc: 0.204622\n"
     ]
    },
    {
     "name": "stderr",
     "output_type": "stream",
     "text": [
      "100%|██████████| 150/150 [00:08<00:00, 16.71it/s]\n",
      "100%|██████████| 150/150 [00:09<00:00, 16.45it/s]\n"
     ]
    },
    {
     "name": "stdout",
     "output_type": "stream",
     "text": [
      "Epochs 105: source train acc: 0.097767; source test acc: 0.989600; target test acc: 0.214655\n",
      "Epochs 105: source train acc: 0.097767; source test acc: 0.989600; target test acc: 0.214655\n",
      "Epochs 105: source train acc: 0.097767; source test acc: 0.989600; target test acc: 0.214655\n"
     ]
    },
    {
     "name": "stderr",
     "output_type": "stream",
     "text": [
      "100%|██████████| 150/150 [00:08<00:00, 16.91it/s]\n",
      "100%|██████████| 150/150 [00:09<00:00, 16.44it/s]\n"
     ]
    },
    {
     "name": "stdout",
     "output_type": "stream",
     "text": [
      "Epochs 106: source train acc: 0.099800; source test acc: 0.988700; target test acc: 0.210151\n",
      "Epochs 106: source train acc: 0.099800; source test acc: 0.988700; target test acc: 0.210151\n",
      "Epochs 106: source train acc: 0.099800; source test acc: 0.988700; target test acc: 0.210151\n"
     ]
    },
    {
     "name": "stderr",
     "output_type": "stream",
     "text": [
      "100%|██████████| 150/150 [00:08<00:00, 16.86it/s]\n",
      "100%|██████████| 150/150 [00:08<00:00, 16.97it/s]\n"
     ]
    },
    {
     "name": "stdout",
     "output_type": "stream",
     "text": [
      "Epochs 107: source train acc: 0.101000; source test acc: 0.990000; target test acc: 0.210178\n",
      "Epochs 107: source train acc: 0.101000; source test acc: 0.990000; target test acc: 0.210178\n",
      "Epochs 107: source train acc: 0.101000; source test acc: 0.990000; target test acc: 0.210178\n"
     ]
    },
    {
     "name": "stderr",
     "output_type": "stream",
     "text": [
      "100%|██████████| 150/150 [00:08<00:00, 16.76it/s]\n",
      "100%|██████████| 150/150 [00:09<00:00, 16.36it/s]\n"
     ]
    },
    {
     "name": "stdout",
     "output_type": "stream",
     "text": [
      "Epochs 108: source train acc: 0.098217; source test acc: 0.991400; target test acc: 0.208130\n",
      "Epochs 108: source train acc: 0.098217; source test acc: 0.991400; target test acc: 0.208130\n",
      "Epochs 108: source train acc: 0.098217; source test acc: 0.991400; target test acc: 0.208130\n"
     ]
    },
    {
     "name": "stderr",
     "output_type": "stream",
     "text": [
      "100%|██████████| 150/150 [00:08<00:00, 16.80it/s]\n",
      "100%|██████████| 150/150 [00:09<00:00, 16.46it/s]\n"
     ]
    },
    {
     "name": "stdout",
     "output_type": "stream",
     "text": [
      "Epochs 109: source train acc: 0.099417; source test acc: 0.989200; target test acc: 0.207857\n",
      "Epochs 109: source train acc: 0.099417; source test acc: 0.989200; target test acc: 0.207857\n",
      "Epochs 109: source train acc: 0.099417; source test acc: 0.989200; target test acc: 0.207857\n"
     ]
    },
    {
     "name": "stderr",
     "output_type": "stream",
     "text": [
      "100%|██████████| 150/150 [00:08<00:00, 16.75it/s]\n",
      "100%|██████████| 150/150 [00:08<00:00, 16.89it/s]\n"
     ]
    },
    {
     "name": "stdout",
     "output_type": "stream",
     "text": [
      "Epochs 110: source train acc: 0.099133; source test acc: 0.991200; target test acc: 0.208622\n",
      "Epochs 110: source train acc: 0.099133; source test acc: 0.991200; target test acc: 0.208622\n",
      "Epochs 110: source train acc: 0.099133; source test acc: 0.991200; target test acc: 0.208622\n"
     ]
    },
    {
     "name": "stderr",
     "output_type": "stream",
     "text": [
      "100%|██████████| 150/150 [00:09<00:00, 16.54it/s]\n",
      "100%|██████████| 150/150 [00:09<00:00, 16.31it/s]\n"
     ]
    },
    {
     "name": "stdout",
     "output_type": "stream",
     "text": [
      "Epochs 111: source train acc: 0.096767; source test acc: 0.990000; target test acc: 0.211052\n",
      "Epochs 111: source train acc: 0.096767; source test acc: 0.990000; target test acc: 0.211052\n",
      "Epochs 111: source train acc: 0.096767; source test acc: 0.990000; target test acc: 0.211052\n"
     ]
    },
    {
     "name": "stderr",
     "output_type": "stream",
     "text": [
      "100%|██████████| 150/150 [00:09<00:00, 16.57it/s]\n",
      "100%|██████████| 150/150 [00:09<00:00, 16.51it/s]\n"
     ]
    },
    {
     "name": "stdout",
     "output_type": "stream",
     "text": [
      "Epochs 112: source train acc: 0.097433; source test acc: 0.989700; target test acc: 0.200909\n",
      "Epochs 112: source train acc: 0.097433; source test acc: 0.989700; target test acc: 0.200909\n",
      "Epochs 112: source train acc: 0.097433; source test acc: 0.989700; target test acc: 0.200909\n"
     ]
    },
    {
     "name": "stderr",
     "output_type": "stream",
     "text": [
      "100%|██████████| 150/150 [00:08<00:00, 16.94it/s]\n",
      "100%|██████████| 150/150 [00:08<00:00, 16.81it/s]\n"
     ]
    },
    {
     "name": "stdout",
     "output_type": "stream",
     "text": [
      "Epochs 113: source train acc: 0.098700; source test acc: 0.989900; target test acc: 0.210833\n",
      "Epochs 113: source train acc: 0.098700; source test acc: 0.989900; target test acc: 0.210833\n",
      "Epochs 113: source train acc: 0.098700; source test acc: 0.989900; target test acc: 0.210833\n"
     ]
    },
    {
     "name": "stderr",
     "output_type": "stream",
     "text": [
      "100%|██████████| 150/150 [00:09<00:00, 15.51it/s]\n",
      "100%|██████████| 150/150 [00:08<00:00, 16.78it/s]\n"
     ]
    },
    {
     "name": "stdout",
     "output_type": "stream",
     "text": [
      "Epochs 114: source train acc: 0.101033; source test acc: 0.989900; target test acc: 0.214683\n",
      "Epochs 114: source train acc: 0.101033; source test acc: 0.989900; target test acc: 0.214683\n",
      "Epochs 114: source train acc: 0.101033; source test acc: 0.989900; target test acc: 0.214683\n"
     ]
    },
    {
     "name": "stderr",
     "output_type": "stream",
     "text": [
      "100%|██████████| 150/150 [00:09<00:00, 16.64it/s]\n",
      "100%|██████████| 150/150 [00:09<00:00, 16.55it/s]\n"
     ]
    },
    {
     "name": "stdout",
     "output_type": "stream",
     "text": [
      "Epochs 115: source train acc: 0.098733; source test acc: 0.990100; target test acc: 0.206055\n",
      "Epochs 115: source train acc: 0.098733; source test acc: 0.990100; target test acc: 0.206055\n",
      "Epochs 115: source train acc: 0.098733; source test acc: 0.990100; target test acc: 0.206055\n"
     ]
    },
    {
     "name": "stderr",
     "output_type": "stream",
     "text": [
      "100%|██████████| 150/150 [00:08<00:00, 17.02it/s]\n",
      "100%|██████████| 150/150 [00:08<00:00, 16.74it/s]\n"
     ]
    },
    {
     "name": "stdout",
     "output_type": "stream",
     "text": [
      "Epochs 116: source train acc: 0.100683; source test acc: 0.988200; target test acc: 0.219174\n",
      "Epochs 116: source train acc: 0.100683; source test acc: 0.988200; target test acc: 0.219174\n",
      "Epochs 116: source train acc: 0.100683; source test acc: 0.988200; target test acc: 0.219174\n"
     ]
    },
    {
     "name": "stderr",
     "output_type": "stream",
     "text": [
      "100%|██████████| 150/150 [00:09<00:00, 16.10it/s]\n",
      "100%|██████████| 150/150 [00:08<00:00, 16.75it/s]\n"
     ]
    },
    {
     "name": "stdout",
     "output_type": "stream",
     "text": [
      "Epochs 117: source train acc: 0.101350; source test acc: 0.988600; target test acc: 0.213044\n",
      "Epochs 117: source train acc: 0.101350; source test acc: 0.988600; target test acc: 0.213044\n",
      "Epochs 117: source train acc: 0.101350; source test acc: 0.988600; target test acc: 0.213044\n"
     ]
    },
    {
     "name": "stderr",
     "output_type": "stream",
     "text": [
      "100%|██████████| 150/150 [00:09<00:00, 16.50it/s]\n",
      "100%|██████████| 150/150 [00:09<00:00, 16.60it/s]\n"
     ]
    },
    {
     "name": "stdout",
     "output_type": "stream",
     "text": [
      "Epochs 118: source train acc: 0.101017; source test acc: 0.989400; target test acc: 0.216184\n",
      "Epochs 118: source train acc: 0.101017; source test acc: 0.989400; target test acc: 0.216184\n",
      "Epochs 118: source train acc: 0.101017; source test acc: 0.989400; target test acc: 0.216184\n"
     ]
    },
    {
     "name": "stderr",
     "output_type": "stream",
     "text": [
      "100%|██████████| 150/150 [00:09<00:00, 16.60it/s]\n",
      "100%|██████████| 150/150 [00:08<00:00, 16.70it/s]\n"
     ]
    },
    {
     "name": "stdout",
     "output_type": "stream",
     "text": [
      "Epochs 119: source train acc: 0.100400; source test acc: 0.987200; target test acc: 0.211638\n",
      "Epochs 119: source train acc: 0.100400; source test acc: 0.987200; target test acc: 0.211638\n",
      "Epochs 119: source train acc: 0.100400; source test acc: 0.987200; target test acc: 0.211638\n"
     ]
    },
    {
     "name": "stderr",
     "output_type": "stream",
     "text": [
      "100%|██████████| 150/150 [00:09<00:00, 16.32it/s]\n",
      "100%|██████████| 150/150 [00:09<00:00, 15.89it/s]\n"
     ]
    },
    {
     "name": "stdout",
     "output_type": "stream",
     "text": [
      "Epochs 120: source train acc: 0.099083; source test acc: 0.988100; target test acc: 0.211871\n",
      "Epochs 120: source train acc: 0.099083; source test acc: 0.988100; target test acc: 0.211871\n",
      "Epochs 120: source train acc: 0.099083; source test acc: 0.988100; target test acc: 0.211871\n"
     ]
    },
    {
     "name": "stderr",
     "output_type": "stream",
     "text": [
      "100%|██████████| 150/150 [00:09<00:00, 16.38it/s]\n",
      "100%|██████████| 150/150 [00:09<00:00, 15.41it/s]\n"
     ]
    },
    {
     "name": "stdout",
     "output_type": "stream",
     "text": [
      "Epochs 121: source train acc: 0.099817; source test acc: 0.987600; target test acc: 0.207407\n",
      "Epochs 121: source train acc: 0.099817; source test acc: 0.987600; target test acc: 0.207407\n",
      "Epochs 121: source train acc: 0.099817; source test acc: 0.987600; target test acc: 0.207407\n"
     ]
    },
    {
     "name": "stderr",
     "output_type": "stream",
     "text": [
      "100%|██████████| 150/150 [00:09<00:00, 15.39it/s]\n",
      "100%|██████████| 150/150 [00:09<00:00, 16.67it/s]\n"
     ]
    },
    {
     "name": "stdout",
     "output_type": "stream",
     "text": [
      "Epochs 122: source train acc: 0.098650; source test acc: 0.987800; target test acc: 0.209072\n",
      "Epochs 122: source train acc: 0.098650; source test acc: 0.987800; target test acc: 0.209072\n",
      "Epochs 122: source train acc: 0.098650; source test acc: 0.987800; target test acc: 0.209072\n"
     ]
    },
    {
     "name": "stderr",
     "output_type": "stream",
     "text": [
      "100%|██████████| 150/150 [00:09<00:00, 15.68it/s]\n",
      "100%|██████████| 150/150 [00:08<00:00, 16.91it/s]\n"
     ]
    },
    {
     "name": "stdout",
     "output_type": "stream",
     "text": [
      "Epochs 123: source train acc: 0.102217; source test acc: 0.987500; target test acc: 0.207680\n",
      "Epochs 123: source train acc: 0.102217; source test acc: 0.987500; target test acc: 0.207680\n",
      "Epochs 123: source train acc: 0.102217; source test acc: 0.987500; target test acc: 0.207680\n"
     ]
    },
    {
     "name": "stderr",
     "output_type": "stream",
     "text": [
      "100%|██████████| 150/150 [00:09<00:00, 16.37it/s]\n",
      "100%|██████████| 150/150 [00:09<00:00, 15.63it/s]\n"
     ]
    },
    {
     "name": "stdout",
     "output_type": "stream",
     "text": [
      "Epochs 124: source train acc: 0.099733; source test acc: 0.989000; target test acc: 0.204417\n",
      "Epochs 124: source train acc: 0.099733; source test acc: 0.989000; target test acc: 0.204417\n",
      "Epochs 124: source train acc: 0.099733; source test acc: 0.989000; target test acc: 0.204417\n"
     ]
    },
    {
     "name": "stderr",
     "output_type": "stream",
     "text": [
      "100%|██████████| 150/150 [00:10<00:00, 14.84it/s]\n",
      "100%|██████████| 150/150 [00:09<00:00, 15.50it/s]\n"
     ]
    },
    {
     "name": "stdout",
     "output_type": "stream",
     "text": [
      "Epochs 125: source train acc: 0.100383; source test acc: 0.988000; target test acc: 0.202834\n",
      "Epochs 125: source train acc: 0.100383; source test acc: 0.988000; target test acc: 0.202834\n",
      "Epochs 125: source train acc: 0.100383; source test acc: 0.988000; target test acc: 0.202834\n"
     ]
    },
    {
     "name": "stderr",
     "output_type": "stream",
     "text": [
      "100%|██████████| 150/150 [00:09<00:00, 15.06it/s]\n",
      "100%|██████████| 150/150 [00:10<00:00, 14.86it/s]\n"
     ]
    },
    {
     "name": "stdout",
     "output_type": "stream",
     "text": [
      "Epochs 126: source train acc: 0.099000; source test acc: 0.987500; target test acc: 0.212526\n",
      "Epochs 126: source train acc: 0.099000; source test acc: 0.987500; target test acc: 0.212526\n",
      "Epochs 126: source train acc: 0.099000; source test acc: 0.987500; target test acc: 0.212526\n"
     ]
    },
    {
     "name": "stderr",
     "output_type": "stream",
     "text": [
      "100%|██████████| 150/150 [00:09<00:00, 15.73it/s]\n",
      "100%|██████████| 150/150 [00:09<00:00, 15.11it/s]\n"
     ]
    },
    {
     "name": "stdout",
     "output_type": "stream",
     "text": [
      "Epochs 127: source train acc: 0.099183; source test acc: 0.987100; target test acc: 0.207134\n",
      "Epochs 127: source train acc: 0.099183; source test acc: 0.987100; target test acc: 0.207134\n",
      "Epochs 127: source train acc: 0.099183; source test acc: 0.987100; target test acc: 0.207134\n"
     ]
    },
    {
     "name": "stderr",
     "output_type": "stream",
     "text": [
      "100%|██████████| 150/150 [00:10<00:00, 14.72it/s]\n",
      "100%|██████████| 150/150 [00:09<00:00, 15.71it/s]\n"
     ]
    },
    {
     "name": "stdout",
     "output_type": "stream",
     "text": [
      "Epochs 128: source train acc: 0.100800; source test acc: 0.988000; target test acc: 0.212922\n",
      "Epochs 128: source train acc: 0.100800; source test acc: 0.988000; target test acc: 0.212922\n",
      "Epochs 128: source train acc: 0.100800; source test acc: 0.988000; target test acc: 0.212922\n"
     ]
    },
    {
     "name": "stderr",
     "output_type": "stream",
     "text": [
      "100%|██████████| 150/150 [00:09<00:00, 15.22it/s]\n",
      "100%|██████████| 150/150 [00:09<00:00, 15.73it/s]\n"
     ]
    },
    {
     "name": "stdout",
     "output_type": "stream",
     "text": [
      "Epochs 129: source train acc: 0.099067; source test acc: 0.988300; target test acc: 0.212266\n",
      "Epochs 129: source train acc: 0.099067; source test acc: 0.988300; target test acc: 0.212266\n",
      "Epochs 129: source train acc: 0.099067; source test acc: 0.988300; target test acc: 0.212266\n"
     ]
    },
    {
     "name": "stderr",
     "output_type": "stream",
     "text": [
      "100%|██████████| 150/150 [00:09<00:00, 15.46it/s]\n",
      "100%|██████████| 150/150 [00:09<00:00, 15.13it/s]\n"
     ]
    },
    {
     "name": "stdout",
     "output_type": "stream",
     "text": [
      "Epochs 130: source train acc: 0.097917; source test acc: 0.988100; target test acc: 0.221453\n",
      "Epochs 130: source train acc: 0.097917; source test acc: 0.988100; target test acc: 0.221453\n",
      "Epochs 130: source train acc: 0.097917; source test acc: 0.988100; target test acc: 0.221453\n"
     ]
    },
    {
     "name": "stderr",
     "output_type": "stream",
     "text": [
      "100%|██████████| 150/150 [00:09<00:00, 15.29it/s]\n",
      "100%|██████████| 150/150 [00:09<00:00, 15.47it/s]\n"
     ]
    },
    {
     "name": "stdout",
     "output_type": "stream",
     "text": [
      "Epochs 131: source train acc: 0.101967; source test acc: 0.988600; target test acc: 0.213577\n",
      "Epochs 131: source train acc: 0.101967; source test acc: 0.988600; target test acc: 0.213577\n",
      "Epochs 131: source train acc: 0.101967; source test acc: 0.988600; target test acc: 0.213577\n"
     ]
    },
    {
     "name": "stderr",
     "output_type": "stream",
     "text": [
      "100%|██████████| 150/150 [00:09<00:00, 15.11it/s]\n",
      "100%|██████████| 150/150 [00:10<00:00, 14.74it/s]\n"
     ]
    },
    {
     "name": "stdout",
     "output_type": "stream",
     "text": [
      "Epochs 132: source train acc: 0.097567; source test acc: 0.988200; target test acc: 0.209031\n",
      "Epochs 132: source train acc: 0.097567; source test acc: 0.988200; target test acc: 0.209031\n",
      "Epochs 132: source train acc: 0.097567; source test acc: 0.988200; target test acc: 0.209031\n"
     ]
    },
    {
     "name": "stderr",
     "output_type": "stream",
     "text": [
      "100%|██████████| 150/150 [00:10<00:00, 14.60it/s]\n",
      "100%|██████████| 150/150 [00:09<00:00, 15.11it/s]\n"
     ]
    },
    {
     "name": "stdout",
     "output_type": "stream",
     "text": [
      "Epochs 133: source train acc: 0.099433; source test acc: 0.989500; target test acc: 0.206328\n",
      "Epochs 133: source train acc: 0.099433; source test acc: 0.989500; target test acc: 0.206328\n",
      "Epochs 133: source train acc: 0.099433; source test acc: 0.989500; target test acc: 0.206328\n"
     ]
    },
    {
     "name": "stderr",
     "output_type": "stream",
     "text": [
      "100%|██████████| 150/150 [00:10<00:00, 14.98it/s]\n",
      "100%|██████████| 150/150 [00:09<00:00, 15.39it/s]\n"
     ]
    },
    {
     "name": "stdout",
     "output_type": "stream",
     "text": [
      "Epochs 134: source train acc: 0.099900; source test acc: 0.987700; target test acc: 0.209386\n",
      "Epochs 134: source train acc: 0.099900; source test acc: 0.987700; target test acc: 0.209386\n",
      "Epochs 134: source train acc: 0.099900; source test acc: 0.987700; target test acc: 0.209386\n"
     ]
    },
    {
     "name": "stderr",
     "output_type": "stream",
     "text": [
      "100%|██████████| 150/150 [00:10<00:00, 14.85it/s]\n",
      "100%|██████████| 150/150 [00:09<00:00, 15.07it/s]\n"
     ]
    },
    {
     "name": "stdout",
     "output_type": "stream",
     "text": [
      "Epochs 135: source train acc: 0.099917; source test acc: 0.988900; target test acc: 0.206970\n",
      "Epochs 135: source train acc: 0.099917; source test acc: 0.988900; target test acc: 0.206970\n",
      "Epochs 135: source train acc: 0.099917; source test acc: 0.988900; target test acc: 0.206970\n"
     ]
    },
    {
     "name": "stderr",
     "output_type": "stream",
     "text": [
      "100%|██████████| 150/150 [00:10<00:00, 14.93it/s]\n",
      "100%|██████████| 150/150 [00:09<00:00, 15.36it/s]\n"
     ]
    },
    {
     "name": "stdout",
     "output_type": "stream",
     "text": [
      "Epochs 136: source train acc: 0.100217; source test acc: 0.986700; target test acc: 0.200281\n",
      "Epochs 136: source train acc: 0.100217; source test acc: 0.986700; target test acc: 0.200281\n",
      "Epochs 136: source train acc: 0.100217; source test acc: 0.986700; target test acc: 0.200281\n"
     ]
    },
    {
     "name": "stderr",
     "output_type": "stream",
     "text": [
      "100%|██████████| 150/150 [00:09<00:00, 15.72it/s]\n",
      "100%|██████████| 150/150 [00:09<00:00, 15.43it/s]\n"
     ]
    },
    {
     "name": "stdout",
     "output_type": "stream",
     "text": [
      "Epochs 137: source train acc: 0.097600; source test acc: 0.987600; target test acc: 0.202274\n",
      "Epochs 137: source train acc: 0.097600; source test acc: 0.987600; target test acc: 0.202274\n",
      "Epochs 137: source train acc: 0.097600; source test acc: 0.987600; target test acc: 0.202274\n"
     ]
    },
    {
     "name": "stderr",
     "output_type": "stream",
     "text": [
      "100%|██████████| 150/150 [00:10<00:00, 14.77it/s]\n",
      "100%|██████████| 150/150 [00:09<00:00, 15.22it/s]\n"
     ]
    },
    {
     "name": "stdout",
     "output_type": "stream",
     "text": [
      "Epochs 138: source train acc: 0.101817; source test acc: 0.987600; target test acc: 0.208171\n",
      "Epochs 138: source train acc: 0.101817; source test acc: 0.987600; target test acc: 0.208171\n",
      "Epochs 138: source train acc: 0.101817; source test acc: 0.987600; target test acc: 0.208171\n"
     ]
    },
    {
     "name": "stderr",
     "output_type": "stream",
     "text": [
      "100%|██████████| 150/150 [00:09<00:00, 15.22it/s]\n",
      "100%|██████████| 150/150 [00:09<00:00, 15.31it/s]\n"
     ]
    },
    {
     "name": "stdout",
     "output_type": "stream",
     "text": [
      "Epochs 139: source train acc: 0.102033; source test acc: 0.986200; target test acc: 0.216757\n",
      "Epochs 139: source train acc: 0.102033; source test acc: 0.986200; target test acc: 0.216757\n",
      "Epochs 139: source train acc: 0.102033; source test acc: 0.986200; target test acc: 0.216757\n"
     ]
    },
    {
     "name": "stderr",
     "output_type": "stream",
     "text": [
      "100%|██████████| 150/150 [00:09<00:00, 15.34it/s]\n",
      "100%|██████████| 150/150 [00:09<00:00, 15.32it/s]\n"
     ]
    },
    {
     "name": "stdout",
     "output_type": "stream",
     "text": [
      "Epochs 140: source train acc: 0.099633; source test acc: 0.987300; target test acc: 0.221631\n",
      "Epochs 140: source train acc: 0.099633; source test acc: 0.987300; target test acc: 0.221631\n",
      "Epochs 140: source train acc: 0.099633; source test acc: 0.987300; target test acc: 0.221631\n"
     ]
    },
    {
     "name": "stderr",
     "output_type": "stream",
     "text": [
      "100%|██████████| 150/150 [00:10<00:00, 14.95it/s]\n",
      "100%|██████████| 150/150 [00:09<00:00, 15.37it/s]\n"
     ]
    },
    {
     "name": "stdout",
     "output_type": "stream",
     "text": [
      "Epochs 141: source train acc: 0.099000; source test acc: 0.986900; target test acc: 0.208594\n",
      "Epochs 141: source train acc: 0.099000; source test acc: 0.986900; target test acc: 0.208594\n",
      "Epochs 141: source train acc: 0.099000; source test acc: 0.986900; target test acc: 0.208594\n"
     ]
    },
    {
     "name": "stderr",
     "output_type": "stream",
     "text": [
      "100%|██████████| 150/150 [00:10<00:00, 14.95it/s]\n",
      "100%|██████████| 150/150 [00:10<00:00, 14.98it/s]\n"
     ]
    },
    {
     "name": "stdout",
     "output_type": "stream",
     "text": [
      "Epochs 142: source train acc: 0.101133; source test acc: 0.986500; target test acc: 0.208854\n",
      "Epochs 142: source train acc: 0.101133; source test acc: 0.986500; target test acc: 0.208854\n",
      "Epochs 142: source train acc: 0.101133; source test acc: 0.986500; target test acc: 0.208854\n"
     ]
    },
    {
     "name": "stderr",
     "output_type": "stream",
     "text": [
      "100%|██████████| 150/150 [00:10<00:00, 13.88it/s]\n",
      "100%|██████████| 150/150 [00:09<00:00, 15.02it/s]\n"
     ]
    },
    {
     "name": "stdout",
     "output_type": "stream",
     "text": [
      "Epochs 143: source train acc: 0.100317; source test acc: 0.986000; target test acc: 0.206014\n",
      "Epochs 143: source train acc: 0.100317; source test acc: 0.986000; target test acc: 0.206014\n",
      "Epochs 143: source train acc: 0.100317; source test acc: 0.986000; target test acc: 0.206014\n"
     ]
    },
    {
     "name": "stderr",
     "output_type": "stream",
     "text": [
      "100%|██████████| 150/150 [00:10<00:00, 14.63it/s]\n",
      "100%|██████████| 150/150 [00:09<00:00, 15.40it/s]\n"
     ]
    },
    {
     "name": "stdout",
     "output_type": "stream",
     "text": [
      "Epochs 144: source train acc: 0.100283; source test acc: 0.985400; target test acc: 0.207147\n",
      "Epochs 144: source train acc: 0.100283; source test acc: 0.985400; target test acc: 0.207147\n",
      "Epochs 144: source train acc: 0.100283; source test acc: 0.985400; target test acc: 0.207147\n"
     ]
    },
    {
     "name": "stderr",
     "output_type": "stream",
     "text": [
      "100%|██████████| 150/150 [00:09<00:00, 15.04it/s]\n",
      "100%|██████████| 150/150 [00:10<00:00, 14.94it/s]\n"
     ]
    },
    {
     "name": "stdout",
     "output_type": "stream",
     "text": [
      "Epochs 145: source train acc: 0.099600; source test acc: 0.986300; target test acc: 0.210410\n",
      "Epochs 145: source train acc: 0.099600; source test acc: 0.986300; target test acc: 0.210410\n",
      "Epochs 145: source train acc: 0.099600; source test acc: 0.986300; target test acc: 0.210410\n"
     ]
    },
    {
     "name": "stderr",
     "output_type": "stream",
     "text": [
      "100%|██████████| 150/150 [00:09<00:00, 15.18it/s]\n",
      "100%|██████████| 150/150 [00:09<00:00, 15.55it/s]\n"
     ]
    },
    {
     "name": "stdout",
     "output_type": "stream",
     "text": [
      "Epochs 146: source train acc: 0.098417; source test acc: 0.984900; target test acc: 0.202711\n",
      "Epochs 146: source train acc: 0.098417; source test acc: 0.984900; target test acc: 0.202711\n",
      "Epochs 146: source train acc: 0.098417; source test acc: 0.984900; target test acc: 0.202711\n"
     ]
    },
    {
     "name": "stderr",
     "output_type": "stream",
     "text": [
      "100%|██████████| 150/150 [00:10<00:00, 14.80it/s]\n",
      "100%|██████████| 150/150 [00:09<00:00, 15.53it/s]\n"
     ]
    },
    {
     "name": "stdout",
     "output_type": "stream",
     "text": [
      "Epochs 147: source train acc: 0.101900; source test acc: 0.982900; target test acc: 0.205373\n",
      "Epochs 147: source train acc: 0.101900; source test acc: 0.982900; target test acc: 0.205373\n",
      "Epochs 147: source train acc: 0.101900; source test acc: 0.982900; target test acc: 0.205373\n"
     ]
    },
    {
     "name": "stderr",
     "output_type": "stream",
     "text": [
      "100%|██████████| 150/150 [00:09<00:00, 15.15it/s]\n",
      "100%|██████████| 150/150 [00:10<00:00, 14.89it/s]\n"
     ]
    },
    {
     "name": "stdout",
     "output_type": "stream",
     "text": [
      "Epochs 148: source train acc: 0.098967; source test acc: 0.983600; target test acc: 0.213495\n",
      "Epochs 148: source train acc: 0.098967; source test acc: 0.983600; target test acc: 0.213495\n",
      "Epochs 148: source train acc: 0.098967; source test acc: 0.983600; target test acc: 0.213495\n"
     ]
    },
    {
     "name": "stderr",
     "output_type": "stream",
     "text": [
      "100%|██████████| 150/150 [00:09<00:00, 15.34it/s]\n",
      "100%|██████████| 150/150 [00:09<00:00, 15.42it/s]\n"
     ]
    },
    {
     "name": "stdout",
     "output_type": "stream",
     "text": [
      "Epochs 149: source train acc: 0.102133; source test acc: 0.985500; target test acc: 0.208540\n",
      "Epochs 149: source train acc: 0.102133; source test acc: 0.985500; target test acc: 0.208540\n",
      "Epochs 149: source train acc: 0.102133; source test acc: 0.985500; target test acc: 0.208540\n"
     ]
    },
    {
     "name": "stderr",
     "output_type": "stream",
     "text": [
      "100%|██████████| 150/150 [00:10<00:00, 14.93it/s]\n",
      "100%|██████████| 150/150 [00:09<00:00, 15.28it/s]\n"
     ]
    },
    {
     "name": "stdout",
     "output_type": "stream",
     "text": [
      "Epochs 150: source train acc: 0.101317; source test acc: 0.986700; target test acc: 0.200281\n",
      "Epochs 150: source train acc: 0.101317; source test acc: 0.986700; target test acc: 0.200281\n",
      "Epochs 150: source train acc: 0.101317; source test acc: 0.986700; target test acc: 0.200281\n"
     ]
    },
    {
     "name": "stderr",
     "output_type": "stream",
     "text": [
      "100%|██████████| 150/150 [00:10<00:00, 13.88it/s]\n",
      "100%|██████████| 150/150 [00:10<00:00, 14.19it/s]\n"
     ]
    },
    {
     "name": "stdout",
     "output_type": "stream",
     "text": [
      "Epochs 151: source train acc: 0.098583; source test acc: 0.988400; target test acc: 0.205018\n",
      "Epochs 151: source train acc: 0.098583; source test acc: 0.988400; target test acc: 0.205018\n",
      "Epochs 151: source train acc: 0.098583; source test acc: 0.988400; target test acc: 0.205018\n"
     ]
    },
    {
     "name": "stderr",
     "output_type": "stream",
     "text": [
      "100%|██████████| 150/150 [00:10<00:00, 14.38it/s]\n",
      "100%|██████████| 150/150 [00:09<00:00, 15.27it/s]\n"
     ]
    },
    {
     "name": "stdout",
     "output_type": "stream",
     "text": [
      "Epochs 152: source train acc: 0.099950; source test acc: 0.986200; target test acc: 0.208144\n",
      "Epochs 152: source train acc: 0.099950; source test acc: 0.986200; target test acc: 0.208144\n",
      "Epochs 152: source train acc: 0.099950; source test acc: 0.986200; target test acc: 0.208144\n"
     ]
    },
    {
     "name": "stderr",
     "output_type": "stream",
     "text": [
      "100%|██████████| 150/150 [00:10<00:00, 14.81it/s]\n",
      "100%|██████████| 150/150 [00:09<00:00, 15.33it/s]\n"
     ]
    },
    {
     "name": "stdout",
     "output_type": "stream",
     "text": [
      "Epochs 153: source train acc: 0.100950; source test acc: 0.982400; target test acc: 0.212321\n",
      "Epochs 153: source train acc: 0.100950; source test acc: 0.982400; target test acc: 0.212321\n",
      "Epochs 153: source train acc: 0.100950; source test acc: 0.982400; target test acc: 0.212321\n"
     ]
    },
    {
     "name": "stderr",
     "output_type": "stream",
     "text": [
      "100%|██████████| 150/150 [00:10<00:00, 14.71it/s]\n",
      "100%|██████████| 150/150 [00:10<00:00, 14.48it/s]\n"
     ]
    },
    {
     "name": "stdout",
     "output_type": "stream",
     "text": [
      "Epochs 154: source train acc: 0.100267; source test acc: 0.986100; target test acc: 0.209973\n",
      "Epochs 154: source train acc: 0.100267; source test acc: 0.986100; target test acc: 0.209973\n",
      "Epochs 154: source train acc: 0.100267; source test acc: 0.986100; target test acc: 0.209973\n"
     ]
    },
    {
     "name": "stderr",
     "output_type": "stream",
     "text": [
      "100%|██████████| 150/150 [00:10<00:00, 14.56it/s]\n",
      "100%|██████████| 150/150 [00:10<00:00, 14.95it/s]\n"
     ]
    },
    {
     "name": "stdout",
     "output_type": "stream",
     "text": [
      "Epochs 155: source train acc: 0.101617; source test acc: 0.986600; target test acc: 0.210451\n",
      "Epochs 155: source train acc: 0.101617; source test acc: 0.986600; target test acc: 0.210451\n",
      "Epochs 155: source train acc: 0.101617; source test acc: 0.986600; target test acc: 0.210451\n"
     ]
    },
    {
     "name": "stderr",
     "output_type": "stream",
     "text": [
      "100%|██████████| 150/150 [00:10<00:00, 14.79it/s]\n",
      "100%|██████████| 150/150 [00:09<00:00, 15.10it/s]\n"
     ]
    },
    {
     "name": "stdout",
     "output_type": "stream",
     "text": [
      "Epochs 156: source train acc: 0.099133; source test acc: 0.982600; target test acc: 0.212444\n",
      "Epochs 156: source train acc: 0.099133; source test acc: 0.982600; target test acc: 0.212444\n",
      "Epochs 156: source train acc: 0.099133; source test acc: 0.982600; target test acc: 0.212444\n"
     ]
    },
    {
     "name": "stderr",
     "output_type": "stream",
     "text": [
      "100%|██████████| 150/150 [00:10<00:00, 14.99it/s]\n",
      "100%|██████████| 150/150 [00:09<00:00, 15.09it/s]\n"
     ]
    },
    {
     "name": "stdout",
     "output_type": "stream",
     "text": [
      "Epochs 157: source train acc: 0.101133; source test acc: 0.986000; target test acc: 0.205564\n",
      "Epochs 157: source train acc: 0.101133; source test acc: 0.986000; target test acc: 0.205564\n",
      "Epochs 157: source train acc: 0.101133; source test acc: 0.986000; target test acc: 0.205564\n"
     ]
    },
    {
     "name": "stderr",
     "output_type": "stream",
     "text": [
      "100%|██████████| 150/150 [00:09<00:00, 15.54it/s]\n",
      "100%|██████████| 150/150 [00:09<00:00, 15.22it/s]\n"
     ]
    },
    {
     "name": "stdout",
     "output_type": "stream",
     "text": [
      "Epochs 158: source train acc: 0.098967; source test acc: 0.981300; target test acc: 0.204718\n",
      "Epochs 158: source train acc: 0.098967; source test acc: 0.981300; target test acc: 0.204718\n",
      "Epochs 158: source train acc: 0.098967; source test acc: 0.981300; target test acc: 0.204718\n"
     ]
    },
    {
     "name": "stderr",
     "output_type": "stream",
     "text": [
      "100%|██████████| 150/150 [00:09<00:00, 16.23it/s]\n",
      "100%|██████████| 150/150 [00:08<00:00, 16.69it/s]\n"
     ]
    },
    {
     "name": "stdout",
     "output_type": "stream",
     "text": [
      "Epochs 159: source train acc: 0.102050; source test acc: 0.984200; target test acc: 0.212253\n",
      "Epochs 159: source train acc: 0.102050; source test acc: 0.984200; target test acc: 0.212253\n",
      "Epochs 159: source train acc: 0.102050; source test acc: 0.984200; target test acc: 0.212253\n"
     ]
    },
    {
     "name": "stderr",
     "output_type": "stream",
     "text": [
      "100%|██████████| 150/150 [00:09<00:00, 16.24it/s]\n",
      "100%|██████████| 150/150 [00:09<00:00, 16.16it/s]\n"
     ]
    },
    {
     "name": "stdout",
     "output_type": "stream",
     "text": [
      "Epochs 160: source train acc: 0.099767; source test acc: 0.984300; target test acc: 0.209072\n",
      "Epochs 160: source train acc: 0.099767; source test acc: 0.984300; target test acc: 0.209072\n",
      "Epochs 160: source train acc: 0.099767; source test acc: 0.984300; target test acc: 0.209072\n"
     ]
    },
    {
     "name": "stderr",
     "output_type": "stream",
     "text": [
      "100%|██████████| 150/150 [00:09<00:00, 15.54it/s]\n",
      "100%|██████████| 150/150 [00:09<00:00, 16.49it/s]\n"
     ]
    },
    {
     "name": "stdout",
     "output_type": "stream",
     "text": [
      "Epochs 161: source train acc: 0.101067; source test acc: 0.985700; target test acc: 0.207257\n",
      "Epochs 161: source train acc: 0.101067; source test acc: 0.985700; target test acc: 0.207257\n",
      "Epochs 161: source train acc: 0.101067; source test acc: 0.985700; target test acc: 0.207257\n"
     ]
    },
    {
     "name": "stderr",
     "output_type": "stream",
     "text": [
      "100%|██████████| 150/150 [00:09<00:00, 16.53it/s]\n",
      "100%|██████████| 150/150 [00:08<00:00, 16.74it/s]\n"
     ]
    },
    {
     "name": "stdout",
     "output_type": "stream",
     "text": [
      "Epochs 162: source train acc: 0.102550; source test acc: 0.982600; target test acc: 0.201291\n",
      "Epochs 162: source train acc: 0.102550; source test acc: 0.982600; target test acc: 0.201291\n",
      "Epochs 162: source train acc: 0.102550; source test acc: 0.982600; target test acc: 0.201291\n"
     ]
    },
    {
     "name": "stderr",
     "output_type": "stream",
     "text": [
      "100%|██████████| 150/150 [00:09<00:00, 16.31it/s]\n",
      "100%|██████████| 150/150 [00:09<00:00, 16.33it/s]\n"
     ]
    },
    {
     "name": "stdout",
     "output_type": "stream",
     "text": [
      "Epochs 163: source train acc: 0.100267; source test acc: 0.984700; target test acc: 0.212731\n",
      "Epochs 163: source train acc: 0.100267; source test acc: 0.984700; target test acc: 0.212731\n",
      "Epochs 163: source train acc: 0.100267; source test acc: 0.984700; target test acc: 0.212731\n"
     ]
    },
    {
     "name": "stderr",
     "output_type": "stream",
     "text": [
      "100%|██████████| 150/150 [00:09<00:00, 16.59it/s]\n",
      "100%|██████████| 150/150 [00:09<00:00, 16.51it/s]\n"
     ]
    },
    {
     "name": "stdout",
     "output_type": "stream",
     "text": [
      "Epochs 164: source train acc: 0.099267; source test acc: 0.981900; target test acc: 0.198343\n",
      "Epochs 164: source train acc: 0.099267; source test acc: 0.981900; target test acc: 0.198343\n",
      "Epochs 164: source train acc: 0.099267; source test acc: 0.981900; target test acc: 0.198343\n"
     ]
    },
    {
     "name": "stderr",
     "output_type": "stream",
     "text": [
      "100%|██████████| 150/150 [00:09<00:00, 16.51it/s]\n",
      "100%|██████████| 150/150 [00:08<00:00, 16.86it/s]\n"
     ]
    },
    {
     "name": "stdout",
     "output_type": "stream",
     "text": [
      "Epochs 165: source train acc: 0.099417; source test acc: 0.984300; target test acc: 0.205973\n",
      "Epochs 165: source train acc: 0.099417; source test acc: 0.984300; target test acc: 0.205973\n",
      "Epochs 165: source train acc: 0.099417; source test acc: 0.984300; target test acc: 0.205973\n"
     ]
    },
    {
     "name": "stderr",
     "output_type": "stream",
     "text": [
      "100%|██████████| 150/150 [00:09<00:00, 16.15it/s]\n",
      "100%|██████████| 150/150 [00:09<00:00, 16.33it/s]\n"
     ]
    },
    {
     "name": "stdout",
     "output_type": "stream",
     "text": [
      "Epochs 166: source train acc: 0.100717; source test acc: 0.986700; target test acc: 0.207025\n",
      "Epochs 166: source train acc: 0.100717; source test acc: 0.986700; target test acc: 0.207025\n",
      "Epochs 166: source train acc: 0.100717; source test acc: 0.986700; target test acc: 0.207025\n"
     ]
    },
    {
     "name": "stderr",
     "output_type": "stream",
     "text": [
      "100%|██████████| 150/150 [00:08<00:00, 16.77it/s]\n",
      "100%|██████████| 150/150 [00:09<00:00, 16.39it/s]\n"
     ]
    },
    {
     "name": "stdout",
     "output_type": "stream",
     "text": [
      "Epochs 167: source train acc: 0.101100; source test acc: 0.985100; target test acc: 0.209004\n",
      "Epochs 167: source train acc: 0.101100; source test acc: 0.985100; target test acc: 0.209004\n",
      "Epochs 167: source train acc: 0.101100; source test acc: 0.985100; target test acc: 0.209004\n"
     ]
    },
    {
     "name": "stderr",
     "output_type": "stream",
     "text": [
      "100%|██████████| 150/150 [00:08<00:00, 16.78it/s]\n",
      "100%|██████████| 150/150 [00:08<00:00, 17.01it/s]\n"
     ]
    },
    {
     "name": "stdout",
     "output_type": "stream",
     "text": [
      "Epochs 168: source train acc: 0.101167; source test acc: 0.986400; target test acc: 0.205987\n",
      "Epochs 168: source train acc: 0.101167; source test acc: 0.986400; target test acc: 0.205987\n",
      "Epochs 168: source train acc: 0.101167; source test acc: 0.986400; target test acc: 0.205987\n"
     ]
    },
    {
     "name": "stderr",
     "output_type": "stream",
     "text": [
      "100%|██████████| 150/150 [00:09<00:00, 16.05it/s]\n",
      "100%|██████████| 150/150 [00:09<00:00, 16.33it/s]\n"
     ]
    },
    {
     "name": "stdout",
     "output_type": "stream",
     "text": [
      "Epochs 169: source train acc: 0.097867; source test acc: 0.987000; target test acc: 0.196869\n",
      "Epochs 169: source train acc: 0.097867; source test acc: 0.987000; target test acc: 0.196869\n",
      "Epochs 169: source train acc: 0.097867; source test acc: 0.987000; target test acc: 0.196869\n"
     ]
    },
    {
     "name": "stderr",
     "output_type": "stream",
     "text": [
      "100%|██████████| 150/150 [00:09<00:00, 16.58it/s]\n",
      "100%|██████████| 150/150 [00:09<00:00, 16.29it/s]\n"
     ]
    },
    {
     "name": "stdout",
     "output_type": "stream",
     "text": [
      "Epochs 170: source train acc: 0.100700; source test acc: 0.983700; target test acc: 0.202397\n",
      "Epochs 170: source train acc: 0.100700; source test acc: 0.983700; target test acc: 0.202397\n",
      "Epochs 170: source train acc: 0.100700; source test acc: 0.983700; target test acc: 0.202397\n"
     ]
    },
    {
     "name": "stderr",
     "output_type": "stream",
     "text": [
      "100%|██████████| 150/150 [00:09<00:00, 16.48it/s]\n",
      "100%|██████████| 150/150 [00:08<00:00, 17.00it/s]\n"
     ]
    },
    {
     "name": "stdout",
     "output_type": "stream",
     "text": [
      "Epochs 171: source train acc: 0.100583; source test acc: 0.984300; target test acc: 0.202916\n",
      "Epochs 171: source train acc: 0.100583; source test acc: 0.984300; target test acc: 0.202916\n",
      "Epochs 171: source train acc: 0.100583; source test acc: 0.984300; target test acc: 0.202916\n"
     ]
    },
    {
     "name": "stderr",
     "output_type": "stream",
     "text": [
      "100%|██████████| 150/150 [00:09<00:00, 16.09it/s]\n",
      "100%|██████████| 150/150 [00:09<00:00, 16.51it/s]\n"
     ]
    },
    {
     "name": "stdout",
     "output_type": "stream",
     "text": [
      "Epochs 172: source train acc: 0.099550; source test acc: 0.982200; target test acc: 0.213631\n",
      "Epochs 172: source train acc: 0.099550; source test acc: 0.982200; target test acc: 0.213631\n",
      "Epochs 172: source train acc: 0.099550; source test acc: 0.982200; target test acc: 0.213631\n"
     ]
    },
    {
     "name": "stderr",
     "output_type": "stream",
     "text": [
      "100%|██████████| 150/150 [00:09<00:00, 16.28it/s]\n",
      "100%|██████████| 150/150 [00:09<00:00, 16.25it/s]\n"
     ]
    },
    {
     "name": "stdout",
     "output_type": "stream",
     "text": [
      "Epochs 173: source train acc: 0.101200; source test acc: 0.980800; target test acc: 0.216348\n",
      "Epochs 173: source train acc: 0.101200; source test acc: 0.980800; target test acc: 0.216348\n",
      "Epochs 173: source train acc: 0.101200; source test acc: 0.980800; target test acc: 0.216348\n"
     ]
    },
    {
     "name": "stderr",
     "output_type": "stream",
     "text": [
      "100%|██████████| 150/150 [00:09<00:00, 16.60it/s]\n",
      "100%|██████████| 150/150 [00:08<00:00, 16.76it/s]\n"
     ]
    },
    {
     "name": "stdout",
     "output_type": "stream",
     "text": [
      "Epochs 174: source train acc: 0.099667; source test acc: 0.984700; target test acc: 0.214068\n",
      "Epochs 174: source train acc: 0.099667; source test acc: 0.984700; target test acc: 0.214068\n",
      "Epochs 174: source train acc: 0.099667; source test acc: 0.984700; target test acc: 0.214068\n"
     ]
    },
    {
     "name": "stderr",
     "output_type": "stream",
     "text": [
      "100%|██████████| 150/150 [00:09<00:00, 16.08it/s]\n",
      "100%|██████████| 150/150 [00:09<00:00, 16.65it/s]\n"
     ]
    },
    {
     "name": "stdout",
     "output_type": "stream",
     "text": [
      "Epochs 175: source train acc: 0.098733; source test acc: 0.986300; target test acc: 0.210546\n",
      "Epochs 175: source train acc: 0.098733; source test acc: 0.986300; target test acc: 0.210546\n",
      "Epochs 175: source train acc: 0.098733; source test acc: 0.986300; target test acc: 0.210546\n"
     ]
    },
    {
     "name": "stderr",
     "output_type": "stream",
     "text": [
      "100%|██████████| 150/150 [00:09<00:00, 16.28it/s]\n",
      "100%|██████████| 150/150 [00:09<00:00, 16.25it/s]\n"
     ]
    },
    {
     "name": "stdout",
     "output_type": "stream",
     "text": [
      "Epochs 176: source train acc: 0.097250; source test acc: 0.984900; target test acc: 0.204704\n",
      "Epochs 176: source train acc: 0.097250; source test acc: 0.984900; target test acc: 0.204704\n",
      "Epochs 176: source train acc: 0.097250; source test acc: 0.984900; target test acc: 0.204704\n"
     ]
    },
    {
     "name": "stderr",
     "output_type": "stream",
     "text": [
      "100%|██████████| 150/150 [00:09<00:00, 16.65it/s]\n",
      "100%|██████████| 150/150 [00:08<00:00, 16.88it/s]\n"
     ]
    },
    {
     "name": "stdout",
     "output_type": "stream",
     "text": [
      "Epochs 177: source train acc: 0.101367; source test acc: 0.982600; target test acc: 0.193483\n",
      "Epochs 177: source train acc: 0.101367; source test acc: 0.982600; target test acc: 0.193483\n",
      "Epochs 177: source train acc: 0.101367; source test acc: 0.982600; target test acc: 0.193483\n"
     ]
    },
    {
     "name": "stderr",
     "output_type": "stream",
     "text": [
      "100%|██████████| 150/150 [00:09<00:00, 15.97it/s]\n",
      "100%|██████████| 150/150 [00:09<00:00, 16.63it/s]\n"
     ]
    },
    {
     "name": "stdout",
     "output_type": "stream",
     "text": [
      "Epochs 178: source train acc: 0.101217; source test acc: 0.982300; target test acc: 0.215597\n",
      "Epochs 178: source train acc: 0.101217; source test acc: 0.982300; target test acc: 0.215597\n",
      "Epochs 178: source train acc: 0.101217; source test acc: 0.982300; target test acc: 0.215597\n"
     ]
    },
    {
     "name": "stderr",
     "output_type": "stream",
     "text": [
      "100%|██████████| 150/150 [00:09<00:00, 16.12it/s]\n",
      "100%|██████████| 150/150 [00:09<00:00, 16.23it/s]\n"
     ]
    },
    {
     "name": "stdout",
     "output_type": "stream",
     "text": [
      "Epochs 179: source train acc: 0.100733; source test acc: 0.985100; target test acc: 0.204786\n",
      "Epochs 179: source train acc: 0.100733; source test acc: 0.985100; target test acc: 0.204786\n",
      "Epochs 179: source train acc: 0.100733; source test acc: 0.985100; target test acc: 0.204786\n"
     ]
    },
    {
     "name": "stderr",
     "output_type": "stream",
     "text": [
      "100%|██████████| 150/150 [00:08<00:00, 16.95it/s]\n",
      "100%|██████████| 150/150 [00:08<00:00, 16.75it/s]\n"
     ]
    },
    {
     "name": "stdout",
     "output_type": "stream",
     "text": [
      "Epochs 180: source train acc: 0.099750; source test acc: 0.985900; target test acc: 0.210724\n",
      "Epochs 180: source train acc: 0.099750; source test acc: 0.985900; target test acc: 0.210724\n",
      "Epochs 180: source train acc: 0.099750; source test acc: 0.985900; target test acc: 0.210724\n"
     ]
    },
    {
     "name": "stderr",
     "output_type": "stream",
     "text": [
      "100%|██████████| 150/150 [00:09<00:00, 16.06it/s]\n",
      "100%|██████████| 150/150 [00:09<00:00, 16.66it/s]\n"
     ]
    },
    {
     "name": "stdout",
     "output_type": "stream",
     "text": [
      "Epochs 181: source train acc: 0.098483; source test acc: 0.981200; target test acc: 0.216676\n",
      "Epochs 181: source train acc: 0.098483; source test acc: 0.981200; target test acc: 0.216676\n",
      "Epochs 181: source train acc: 0.098483; source test acc: 0.981200; target test acc: 0.216676\n"
     ]
    },
    {
     "name": "stderr",
     "output_type": "stream",
     "text": [
      "100%|██████████| 150/150 [00:09<00:00, 16.12it/s]\n",
      "100%|██████████| 150/150 [00:09<00:00, 16.26it/s]\n"
     ]
    },
    {
     "name": "stdout",
     "output_type": "stream",
     "text": [
      "Epochs 182: source train acc: 0.098667; source test acc: 0.971200; target test acc: 0.198370\n",
      "Epochs 182: source train acc: 0.098667; source test acc: 0.971200; target test acc: 0.198370\n",
      "Epochs 182: source train acc: 0.098667; source test acc: 0.971200; target test acc: 0.198370\n"
     ]
    },
    {
     "name": "stderr",
     "output_type": "stream",
     "text": [
      "100%|██████████| 150/150 [00:08<00:00, 16.75it/s]\n",
      "100%|██████████| 150/150 [00:09<00:00, 16.65it/s]\n"
     ]
    },
    {
     "name": "stdout",
     "output_type": "stream",
     "text": [
      "Epochs 183: source train acc: 0.099417; source test acc: 0.978900; target test acc: 0.198138\n",
      "Epochs 183: source train acc: 0.099417; source test acc: 0.978900; target test acc: 0.198138\n",
      "Epochs 183: source train acc: 0.099417; source test acc: 0.978900; target test acc: 0.198138\n"
     ]
    },
    {
     "name": "stderr",
     "output_type": "stream",
     "text": [
      "100%|██████████| 150/150 [00:09<00:00, 16.05it/s]\n",
      "100%|██████████| 150/150 [00:08<00:00, 16.88it/s]\n"
     ]
    },
    {
     "name": "stdout",
     "output_type": "stream",
     "text": [
      "Epochs 184: source train acc: 0.102217; source test acc: 0.980600; target test acc: 0.208417\n",
      "Epochs 184: source train acc: 0.102217; source test acc: 0.980600; target test acc: 0.208417\n",
      "Epochs 184: source train acc: 0.102217; source test acc: 0.980600; target test acc: 0.208417\n"
     ]
    },
    {
     "name": "stderr",
     "output_type": "stream",
     "text": [
      "100%|██████████| 150/150 [00:09<00:00, 15.92it/s]\n",
      "100%|██████████| 150/150 [00:09<00:00, 16.36it/s]\n"
     ]
    },
    {
     "name": "stdout",
     "output_type": "stream",
     "text": [
      "Epochs 185: source train acc: 0.100550; source test acc: 0.981900; target test acc: 0.195667\n",
      "Epochs 185: source train acc: 0.100550; source test acc: 0.981900; target test acc: 0.195667\n",
      "Epochs 185: source train acc: 0.100550; source test acc: 0.981900; target test acc: 0.195667\n"
     ]
    },
    {
     "name": "stderr",
     "output_type": "stream",
     "text": [
      "100%|██████████| 150/150 [00:08<00:00, 16.82it/s]\n",
      "100%|██████████| 150/150 [00:09<00:00, 16.51it/s]\n"
     ]
    },
    {
     "name": "stdout",
     "output_type": "stream",
     "text": [
      "Epochs 186: source train acc: 0.100633; source test acc: 0.979200; target test acc: 0.206738\n",
      "Epochs 186: source train acc: 0.100633; source test acc: 0.979200; target test acc: 0.206738\n",
      "Epochs 186: source train acc: 0.100633; source test acc: 0.979200; target test acc: 0.206738\n"
     ]
    },
    {
     "name": "stderr",
     "output_type": "stream",
     "text": [
      "100%|██████████| 150/150 [00:09<00:00, 16.15it/s]\n",
      "100%|██████████| 150/150 [00:08<00:00, 17.22it/s]\n"
     ]
    },
    {
     "name": "stdout",
     "output_type": "stream",
     "text": [
      "Epochs 187: source train acc: 0.100517; source test acc: 0.980000; target test acc: 0.198493\n",
      "Epochs 187: source train acc: 0.100517; source test acc: 0.980000; target test acc: 0.198493\n",
      "Epochs 187: source train acc: 0.100517; source test acc: 0.980000; target test acc: 0.198493\n"
     ]
    },
    {
     "name": "stderr",
     "output_type": "stream",
     "text": [
      "100%|██████████| 150/150 [00:09<00:00, 16.05it/s]\n",
      "100%|██████████| 150/150 [00:09<00:00, 16.19it/s]\n"
     ]
    },
    {
     "name": "stdout",
     "output_type": "stream",
     "text": [
      "Epochs 188: source train acc: 0.099333; source test acc: 0.981100; target test acc: 0.215979\n",
      "Epochs 188: source train acc: 0.099333; source test acc: 0.981100; target test acc: 0.215979\n",
      "Epochs 188: source train acc: 0.099333; source test acc: 0.981100; target test acc: 0.215979\n"
     ]
    },
    {
     "name": "stderr",
     "output_type": "stream",
     "text": [
      "100%|██████████| 150/150 [00:08<00:00, 16.77it/s]\n",
      "100%|██████████| 150/150 [00:09<00:00, 16.53it/s]\n"
     ]
    },
    {
     "name": "stdout",
     "output_type": "stream",
     "text": [
      "Epochs 189: source train acc: 0.099567; source test acc: 0.985700; target test acc: 0.211024\n",
      "Epochs 189: source train acc: 0.099567; source test acc: 0.985700; target test acc: 0.211024\n",
      "Epochs 189: source train acc: 0.099567; source test acc: 0.985700; target test acc: 0.211024\n"
     ]
    },
    {
     "name": "stderr",
     "output_type": "stream",
     "text": [
      "100%|██████████| 150/150 [00:09<00:00, 16.46it/s]\n",
      "100%|██████████| 150/150 [00:08<00:00, 17.27it/s]\n"
     ]
    },
    {
     "name": "stdout",
     "output_type": "stream",
     "text": [
      "Epochs 190: source train acc: 0.099783; source test acc: 0.981700; target test acc: 0.190180\n",
      "Epochs 190: source train acc: 0.099783; source test acc: 0.981700; target test acc: 0.190180\n",
      "Epochs 190: source train acc: 0.099783; source test acc: 0.981700; target test acc: 0.190180\n"
     ]
    },
    {
     "name": "stderr",
     "output_type": "stream",
     "text": [
      "100%|██████████| 150/150 [00:09<00:00, 16.18it/s]\n",
      "100%|██████████| 150/150 [00:09<00:00, 16.40it/s]\n"
     ]
    },
    {
     "name": "stdout",
     "output_type": "stream",
     "text": [
      "Epochs 191: source train acc: 0.100200; source test acc: 0.981900; target test acc: 0.202479\n",
      "Epochs 191: source train acc: 0.100200; source test acc: 0.981900; target test acc: 0.202479\n",
      "Epochs 191: source train acc: 0.100200; source test acc: 0.981900; target test acc: 0.202479\n"
     ]
    },
    {
     "name": "stderr",
     "output_type": "stream",
     "text": [
      "100%|██████████| 150/150 [00:08<00:00, 16.74it/s]\n",
      "100%|██████████| 150/150 [00:09<00:00, 16.42it/s]\n"
     ]
    },
    {
     "name": "stdout",
     "output_type": "stream",
     "text": [
      "Epochs 192: source train acc: 0.100217; source test acc: 0.979300; target test acc: 0.198643\n",
      "Epochs 192: source train acc: 0.100217; source test acc: 0.979300; target test acc: 0.198643\n",
      "Epochs 192: source train acc: 0.100217; source test acc: 0.979300; target test acc: 0.198643\n"
     ]
    },
    {
     "name": "stderr",
     "output_type": "stream",
     "text": [
      "100%|██████████| 150/150 [00:09<00:00, 16.53it/s]\n",
      "100%|██████████| 150/150 [00:08<00:00, 17.20it/s]\n"
     ]
    },
    {
     "name": "stdout",
     "output_type": "stream",
     "text": [
      "Epochs 193: source train acc: 0.099117; source test acc: 0.983100; target test acc: 0.201401\n",
      "Epochs 193: source train acc: 0.099117; source test acc: 0.983100; target test acc: 0.201401\n",
      "Epochs 193: source train acc: 0.099117; source test acc: 0.983100; target test acc: 0.201401\n"
     ]
    },
    {
     "name": "stderr",
     "output_type": "stream",
     "text": [
      "100%|██████████| 150/150 [00:09<00:00, 15.98it/s]\n",
      "100%|██████████| 150/150 [00:09<00:00, 16.22it/s]\n"
     ]
    },
    {
     "name": "stdout",
     "output_type": "stream",
     "text": [
      "Epochs 194: source train acc: 0.097117; source test acc: 0.973500; target test acc: 0.200076\n",
      "Epochs 194: source train acc: 0.097117; source test acc: 0.973500; target test acc: 0.200076\n",
      "Epochs 194: source train acc: 0.097117; source test acc: 0.973500; target test acc: 0.200076\n"
     ]
    },
    {
     "name": "stderr",
     "output_type": "stream",
     "text": [
      "100%|██████████| 150/150 [00:09<00:00, 16.49it/s]\n",
      "100%|██████████| 150/150 [00:09<00:00, 16.27it/s]\n"
     ]
    },
    {
     "name": "stdout",
     "output_type": "stream",
     "text": [
      "Epochs 195: source train acc: 0.100833; source test acc: 0.985200; target test acc: 0.199681\n",
      "Epochs 195: source train acc: 0.100833; source test acc: 0.985200; target test acc: 0.199681\n",
      "Epochs 195: source train acc: 0.100833; source test acc: 0.985200; target test acc: 0.199681\n"
     ]
    },
    {
     "name": "stderr",
     "output_type": "stream",
     "text": [
      "100%|██████████| 150/150 [00:09<00:00, 16.66it/s]\n",
      "100%|██████████| 150/150 [00:08<00:00, 17.02it/s]\n"
     ]
    },
    {
     "name": "stdout",
     "output_type": "stream",
     "text": [
      "Epochs 196: source train acc: 0.098367; source test acc: 0.982600; target test acc: 0.198356\n",
      "Epochs 196: source train acc: 0.098367; source test acc: 0.982600; target test acc: 0.198356\n",
      "Epochs 196: source train acc: 0.098367; source test acc: 0.982600; target test acc: 0.198356\n"
     ]
    },
    {
     "name": "stderr",
     "output_type": "stream",
     "text": [
      "100%|██████████| 150/150 [00:09<00:00, 15.90it/s]\n",
      "100%|██████████| 150/150 [00:09<00:00, 16.48it/s]\n"
     ]
    },
    {
     "name": "stdout",
     "output_type": "stream",
     "text": [
      "Epochs 197: source train acc: 0.100650; source test acc: 0.972400; target test acc: 0.204213\n",
      "Epochs 197: source train acc: 0.100650; source test acc: 0.972400; target test acc: 0.204213\n",
      "Epochs 197: source train acc: 0.100650; source test acc: 0.972400; target test acc: 0.204213\n"
     ]
    },
    {
     "name": "stderr",
     "output_type": "stream",
     "text": [
      "100%|██████████| 150/150 [00:09<00:00, 16.36it/s]\n",
      "100%|██████████| 150/150 [00:09<00:00, 16.16it/s]\n"
     ]
    },
    {
     "name": "stdout",
     "output_type": "stream",
     "text": [
      "Epochs 198: source train acc: 0.098300; source test acc: 0.982700; target test acc: 0.205086\n",
      "Epochs 198: source train acc: 0.098300; source test acc: 0.982700; target test acc: 0.205086\n",
      "Epochs 198: source train acc: 0.098300; source test acc: 0.982700; target test acc: 0.205086\n"
     ]
    },
    {
     "name": "stderr",
     "output_type": "stream",
     "text": [
      "100%|██████████| 150/150 [00:08<00:00, 16.82it/s]\n",
      "100%|██████████| 150/150 [00:08<00:00, 16.87it/s]\n"
     ]
    },
    {
     "name": "stdout",
     "output_type": "stream",
     "text": [
      "Epochs 199: source train acc: 0.099317; source test acc: 0.975300; target test acc: 0.200459\n",
      "Epochs 199: source train acc: 0.099317; source test acc: 0.975300; target test acc: 0.200459\n",
      "Epochs 199: source train acc: 0.099317; source test acc: 0.975300; target test acc: 0.200459\n"
     ]
    },
    {
     "name": "stderr",
     "output_type": "stream",
     "text": [
      "100%|██████████| 150/150 [00:09<00:00, 15.88it/s]\n",
      "100%|██████████| 150/150 [00:09<00:00, 16.49it/s]\n"
     ]
    },
    {
     "name": "stdout",
     "output_type": "stream",
     "text": [
      "Epochs 200: source train acc: 0.099633; source test acc: 0.980100; target test acc: 0.207407\n",
      "Epochs 200: source train acc: 0.099633; source test acc: 0.980100; target test acc: 0.207407\n",
      "Epochs 200: source train acc: 0.099633; source test acc: 0.980100; target test acc: 0.207407\n"
     ]
    },
    {
     "name": "stderr",
     "output_type": "stream",
     "text": [
      "100%|██████████| 150/150 [00:09<00:00, 16.43it/s]\n",
      "100%|██████████| 150/150 [00:09<00:00, 16.20it/s]\n"
     ]
    },
    {
     "name": "stdout",
     "output_type": "stream",
     "text": [
      "Epochs 201: source train acc: 0.101500; source test acc: 0.983000; target test acc: 0.211052\n",
      "Epochs 201: source train acc: 0.101500; source test acc: 0.983000; target test acc: 0.211052\n",
      "Epochs 201: source train acc: 0.101500; source test acc: 0.983000; target test acc: 0.211052\n"
     ]
    },
    {
     "name": "stderr",
     "output_type": "stream",
     "text": [
      "100%|██████████| 150/150 [00:08<00:00, 17.08it/s]\n",
      "100%|██████████| 150/150 [00:08<00:00, 16.80it/s]\n"
     ]
    },
    {
     "name": "stdout",
     "output_type": "stream",
     "text": [
      "Epochs 202: source train acc: 0.101367; source test acc: 0.982900; target test acc: 0.194043\n",
      "Epochs 202: source train acc: 0.101367; source test acc: 0.982900; target test acc: 0.194043\n",
      "Epochs 202: source train acc: 0.101367; source test acc: 0.982900; target test acc: 0.194043\n"
     ]
    },
    {
     "name": "stderr",
     "output_type": "stream",
     "text": [
      "100%|██████████| 150/150 [00:09<00:00, 16.14it/s]\n",
      "100%|██████████| 150/150 [00:08<00:00, 16.71it/s]\n"
     ]
    },
    {
     "name": "stdout",
     "output_type": "stream",
     "text": [
      "Epochs 203: source train acc: 0.099200; source test acc: 0.979600; target test acc: 0.195872\n",
      "Epochs 203: source train acc: 0.099200; source test acc: 0.979600; target test acc: 0.195872\n",
      "Epochs 203: source train acc: 0.099200; source test acc: 0.979600; target test acc: 0.195872\n"
     ]
    },
    {
     "name": "stderr",
     "output_type": "stream",
     "text": [
      "100%|██████████| 150/150 [00:09<00:00, 16.25it/s]\n",
      "100%|██████████| 150/150 [00:09<00:00, 16.28it/s]\n"
     ]
    },
    {
     "name": "stdout",
     "output_type": "stream",
     "text": [
      "Epochs 204: source train acc: 0.098717; source test acc: 0.958600; target test acc: 0.188706\n",
      "Epochs 204: source train acc: 0.098717; source test acc: 0.958600; target test acc: 0.188706\n",
      "Epochs 204: source train acc: 0.098717; source test acc: 0.958600; target test acc: 0.188706\n"
     ]
    },
    {
     "name": "stderr",
     "output_type": "stream",
     "text": [
      "100%|██████████| 150/150 [00:08<00:00, 16.89it/s]\n",
      "100%|██████████| 150/150 [00:08<00:00, 16.74it/s]\n"
     ]
    },
    {
     "name": "stdout",
     "output_type": "stream",
     "text": [
      "Epochs 205: source train acc: 0.101500; source test acc: 0.971600; target test acc: 0.203885\n",
      "Epochs 205: source train acc: 0.101500; source test acc: 0.971600; target test acc: 0.203885\n",
      "Epochs 205: source train acc: 0.101500; source test acc: 0.971600; target test acc: 0.203885\n"
     ]
    },
    {
     "name": "stderr",
     "output_type": "stream",
     "text": [
      "100%|██████████| 150/150 [00:09<00:00, 16.34it/s]\n",
      "100%|██████████| 150/150 [00:08<00:00, 16.83it/s]\n"
     ]
    },
    {
     "name": "stdout",
     "output_type": "stream",
     "text": [
      "Epochs 206: source train acc: 0.100067; source test acc: 0.983400; target test acc: 0.211925\n",
      "Epochs 206: source train acc: 0.100067; source test acc: 0.983400; target test acc: 0.211925\n",
      "Epochs 206: source train acc: 0.100067; source test acc: 0.983400; target test acc: 0.211925\n"
     ]
    },
    {
     "name": "stderr",
     "output_type": "stream",
     "text": [
      "100%|██████████| 150/150 [00:09<00:00, 16.18it/s]\n",
      "100%|██████████| 150/150 [00:09<00:00, 16.37it/s]\n"
     ]
    },
    {
     "name": "stdout",
     "output_type": "stream",
     "text": [
      "Epochs 207: source train acc: 0.099683; source test acc: 0.984300; target test acc: 0.193142\n",
      "Epochs 207: source train acc: 0.099683; source test acc: 0.984300; target test acc: 0.193142\n",
      "Epochs 207: source train acc: 0.099683; source test acc: 0.984300; target test acc: 0.193142\n"
     ]
    },
    {
     "name": "stderr",
     "output_type": "stream",
     "text": [
      "100%|██████████| 150/150 [00:08<00:00, 17.04it/s]\n",
      "100%|██████████| 150/150 [00:08<00:00, 16.79it/s]\n"
     ]
    },
    {
     "name": "stdout",
     "output_type": "stream",
     "text": [
      "Epochs 208: source train acc: 0.101467; source test acc: 0.972600; target test acc: 0.162251\n",
      "Epochs 208: source train acc: 0.101467; source test acc: 0.972600; target test acc: 0.162251\n",
      "Epochs 208: source train acc: 0.101467; source test acc: 0.972600; target test acc: 0.162251\n"
     ]
    },
    {
     "name": "stderr",
     "output_type": "stream",
     "text": [
      "100%|██████████| 150/150 [00:09<00:00, 16.25it/s]\n",
      "100%|██████████| 150/150 [00:08<00:00, 17.02it/s]\n"
     ]
    },
    {
     "name": "stdout",
     "output_type": "stream",
     "text": [
      "Epochs 209: source train acc: 0.099117; source test acc: 0.978900; target test acc: 0.179805\n",
      "Epochs 209: source train acc: 0.099117; source test acc: 0.978900; target test acc: 0.179805\n",
      "Epochs 209: source train acc: 0.099117; source test acc: 0.978900; target test acc: 0.179805\n"
     ]
    },
    {
     "name": "stderr",
     "output_type": "stream",
     "text": [
      "100%|██████████| 150/150 [00:09<00:00, 16.18it/s]\n",
      "100%|██████████| 150/150 [00:09<00:00, 16.23it/s]\n"
     ]
    },
    {
     "name": "stdout",
     "output_type": "stream",
     "text": [
      "Epochs 210: source train acc: 0.099733; source test acc: 0.973900; target test acc: 0.198821\n",
      "Epochs 210: source train acc: 0.099733; source test acc: 0.973900; target test acc: 0.198821\n",
      "Epochs 210: source train acc: 0.099733; source test acc: 0.973900; target test acc: 0.198821\n"
     ]
    },
    {
     "name": "stderr",
     "output_type": "stream",
     "text": [
      "100%|██████████| 150/150 [00:08<00:00, 16.82it/s]\n",
      "100%|██████████| 150/150 [00:09<00:00, 16.58it/s]\n"
     ]
    },
    {
     "name": "stdout",
     "output_type": "stream",
     "text": [
      "Epochs 211: source train acc: 0.099300; source test acc: 0.981200; target test acc: 0.208212\n",
      "Epochs 211: source train acc: 0.099300; source test acc: 0.981200; target test acc: 0.208212\n",
      "Epochs 211: source train acc: 0.099300; source test acc: 0.981200; target test acc: 0.208212\n"
     ]
    },
    {
     "name": "stderr",
     "output_type": "stream",
     "text": [
      "100%|██████████| 150/150 [00:09<00:00, 16.35it/s]\n",
      "100%|██████████| 150/150 [00:08<00:00, 16.96it/s]\n"
     ]
    },
    {
     "name": "stdout",
     "output_type": "stream",
     "text": [
      "Epochs 212: source train acc: 0.101017; source test acc: 0.981400; target test acc: 0.197510\n",
      "Epochs 212: source train acc: 0.101017; source test acc: 0.981400; target test acc: 0.197510\n",
      "Epochs 212: source train acc: 0.101017; source test acc: 0.981400; target test acc: 0.197510\n"
     ]
    },
    {
     "name": "stderr",
     "output_type": "stream",
     "text": [
      "100%|██████████| 150/150 [00:09<00:00, 16.21it/s]\n",
      "100%|██████████| 150/150 [00:09<00:00, 16.37it/s]\n"
     ]
    },
    {
     "name": "stdout",
     "output_type": "stream",
     "text": [
      "Epochs 213: source train acc: 0.101667; source test acc: 0.978700; target test acc: 0.184283\n",
      "Epochs 213: source train acc: 0.101667; source test acc: 0.978700; target test acc: 0.184283\n",
      "Epochs 213: source train acc: 0.101667; source test acc: 0.978700; target test acc: 0.184283\n"
     ]
    },
    {
     "name": "stderr",
     "output_type": "stream",
     "text": [
      "100%|██████████| 150/150 [00:08<00:00, 16.80it/s]\n",
      "100%|██████████| 150/150 [00:09<00:00, 16.43it/s]\n"
     ]
    },
    {
     "name": "stdout",
     "output_type": "stream",
     "text": [
      "Epochs 214: source train acc: 0.099383; source test acc: 0.981900; target test acc: 0.191149\n",
      "Epochs 214: source train acc: 0.099383; source test acc: 0.981900; target test acc: 0.191149\n",
      "Epochs 214: source train acc: 0.099383; source test acc: 0.981900; target test acc: 0.191149\n"
     ]
    },
    {
     "name": "stderr",
     "output_type": "stream",
     "text": [
      "100%|██████████| 150/150 [00:09<00:00, 16.49it/s]\n",
      "100%|██████████| 150/150 [00:08<00:00, 16.89it/s]\n"
     ]
    },
    {
     "name": "stdout",
     "output_type": "stream",
     "text": [
      "Epochs 215: source train acc: 0.096817; source test acc: 0.977400; target test acc: 0.182781\n",
      "Epochs 215: source train acc: 0.096817; source test acc: 0.977400; target test acc: 0.182781\n",
      "Epochs 215: source train acc: 0.096817; source test acc: 0.977400; target test acc: 0.182781\n"
     ]
    },
    {
     "name": "stderr",
     "output_type": "stream",
     "text": [
      "100%|██████████| 150/150 [00:09<00:00, 16.02it/s]\n",
      "100%|██████████| 150/150 [00:09<00:00, 15.97it/s]\n"
     ]
    },
    {
     "name": "stdout",
     "output_type": "stream",
     "text": [
      "Epochs 216: source train acc: 0.102267; source test acc: 0.973100; target test acc: 0.194425\n",
      "Epochs 216: source train acc: 0.102267; source test acc: 0.973100; target test acc: 0.194425\n",
      "Epochs 216: source train acc: 0.102267; source test acc: 0.973100; target test acc: 0.194425\n"
     ]
    },
    {
     "name": "stderr",
     "output_type": "stream",
     "text": [
      "100%|██████████| 150/150 [00:09<00:00, 16.24it/s]\n",
      "100%|██████████| 150/150 [00:09<00:00, 16.04it/s]\n"
     ]
    },
    {
     "name": "stdout",
     "output_type": "stream",
     "text": [
      "Epochs 217: source train acc: 0.100150; source test acc: 0.978800; target test acc: 0.186112\n",
      "Epochs 217: source train acc: 0.100150; source test acc: 0.978800; target test acc: 0.186112\n",
      "Epochs 217: source train acc: 0.100150; source test acc: 0.978800; target test acc: 0.186112\n"
     ]
    },
    {
     "name": "stderr",
     "output_type": "stream",
     "text": [
      "100%|██████████| 150/150 [00:09<00:00, 16.15it/s]\n",
      "100%|██████████| 150/150 [00:09<00:00, 16.55it/s]\n"
     ]
    },
    {
     "name": "stdout",
     "output_type": "stream",
     "text": [
      "Epochs 218: source train acc: 0.100167; source test acc: 0.975400; target test acc: 0.213850\n",
      "Epochs 218: source train acc: 0.100167; source test acc: 0.975400; target test acc: 0.213850\n",
      "Epochs 218: source train acc: 0.100167; source test acc: 0.975400; target test acc: 0.213850\n"
     ]
    },
    {
     "name": "stderr",
     "output_type": "stream",
     "text": [
      "100%|██████████| 150/150 [00:09<00:00, 15.60it/s]\n",
      "100%|██████████| 150/150 [00:09<00:00, 16.17it/s]\n"
     ]
    },
    {
     "name": "stdout",
     "output_type": "stream",
     "text": [
      "Epochs 219: source train acc: 0.100850; source test acc: 0.979200; target test acc: 0.194029\n",
      "Epochs 219: source train acc: 0.100850; source test acc: 0.979200; target test acc: 0.194029\n",
      "Epochs 219: source train acc: 0.100850; source test acc: 0.979200; target test acc: 0.194029\n"
     ]
    },
    {
     "name": "stderr",
     "output_type": "stream",
     "text": [
      "100%|██████████| 150/150 [00:09<00:00, 16.14it/s]\n",
      "100%|██████████| 150/150 [00:09<00:00, 16.19it/s]\n"
     ]
    },
    {
     "name": "stdout",
     "output_type": "stream",
     "text": [
      "Epochs 220: source train acc: 0.100050; source test acc: 0.973200; target test acc: 0.187736\n",
      "Epochs 220: source train acc: 0.100050; source test acc: 0.973200; target test acc: 0.187736\n",
      "Epochs 220: source train acc: 0.100050; source test acc: 0.973200; target test acc: 0.187736\n"
     ]
    },
    {
     "name": "stderr",
     "output_type": "stream",
     "text": [
      "100%|██████████| 150/150 [00:09<00:00, 16.40it/s]\n",
      "100%|██████████| 150/150 [00:08<00:00, 16.69it/s]\n"
     ]
    },
    {
     "name": "stdout",
     "output_type": "stream",
     "text": [
      "Epochs 221: source train acc: 0.099133; source test acc: 0.981200; target test acc: 0.206247\n",
      "Epochs 221: source train acc: 0.099133; source test acc: 0.981200; target test acc: 0.206247\n",
      "Epochs 221: source train acc: 0.099133; source test acc: 0.981200; target test acc: 0.206247\n"
     ]
    },
    {
     "name": "stderr",
     "output_type": "stream",
     "text": [
      "100%|██████████| 150/150 [00:09<00:00, 15.66it/s]\n",
      "100%|██████████| 150/150 [00:09<00:00, 16.54it/s]\n"
     ]
    },
    {
     "name": "stdout",
     "output_type": "stream",
     "text": [
      "Epochs 222: source train acc: 0.097867; source test acc: 0.973900; target test acc: 0.200390\n",
      "Epochs 222: source train acc: 0.097867; source test acc: 0.973900; target test acc: 0.200390\n",
      "Epochs 222: source train acc: 0.097867; source test acc: 0.973900; target test acc: 0.200390\n"
     ]
    },
    {
     "name": "stderr",
     "output_type": "stream",
     "text": [
      "100%|██████████| 150/150 [00:09<00:00, 16.39it/s]\n",
      "100%|██████████| 150/150 [00:09<00:00, 16.27it/s]\n"
     ]
    },
    {
     "name": "stdout",
     "output_type": "stream",
     "text": [
      "Epochs 223: source train acc: 0.100717; source test acc: 0.974300; target test acc: 0.205714\n",
      "Epochs 223: source train acc: 0.100717; source test acc: 0.974300; target test acc: 0.205714\n",
      "Epochs 223: source train acc: 0.100717; source test acc: 0.974300; target test acc: 0.205714\n"
     ]
    },
    {
     "name": "stderr",
     "output_type": "stream",
     "text": [
      "100%|██████████| 150/150 [00:09<00:00, 16.59it/s]\n",
      "100%|██████████| 150/150 [00:08<00:00, 16.75it/s]\n"
     ]
    },
    {
     "name": "stdout",
     "output_type": "stream",
     "text": [
      "Epochs 224: source train acc: 0.101017; source test acc: 0.972900; target test acc: 0.200076\n",
      "Epochs 224: source train acc: 0.101017; source test acc: 0.972900; target test acc: 0.200076\n",
      "Epochs 224: source train acc: 0.101017; source test acc: 0.972900; target test acc: 0.200076\n"
     ]
    },
    {
     "name": "stderr",
     "output_type": "stream",
     "text": [
      "100%|██████████| 150/150 [00:09<00:00, 16.11it/s]\n",
      "100%|██████████| 150/150 [00:09<00:00, 16.28it/s]\n"
     ]
    },
    {
     "name": "stdout",
     "output_type": "stream",
     "text": [
      "Epochs 225: source train acc: 0.100083; source test acc: 0.977300; target test acc: 0.207502\n",
      "Epochs 225: source train acc: 0.100083; source test acc: 0.977300; target test acc: 0.207502\n",
      "Epochs 225: source train acc: 0.100083; source test acc: 0.977300; target test acc: 0.207502\n"
     ]
    },
    {
     "name": "stderr",
     "output_type": "stream",
     "text": [
      "100%|██████████| 150/150 [00:09<00:00, 16.23it/s]\n",
      "100%|██████████| 150/150 [00:09<00:00, 16.05it/s]\n"
     ]
    },
    {
     "name": "stdout",
     "output_type": "stream",
     "text": [
      "Epochs 226: source train acc: 0.102067; source test acc: 0.974200; target test acc: 0.201824\n",
      "Epochs 226: source train acc: 0.102067; source test acc: 0.974200; target test acc: 0.201824\n",
      "Epochs 226: source train acc: 0.102067; source test acc: 0.974200; target test acc: 0.201824\n"
     ]
    },
    {
     "name": "stderr",
     "output_type": "stream",
     "text": [
      "100%|██████████| 150/150 [00:09<00:00, 16.40it/s]\n",
      "100%|██████████| 150/150 [00:09<00:00, 16.56it/s]\n"
     ]
    },
    {
     "name": "stdout",
     "output_type": "stream",
     "text": [
      "Epochs 227: source train acc: 0.099333; source test acc: 0.978700; target test acc: 0.206779\n",
      "Epochs 227: source train acc: 0.099333; source test acc: 0.978700; target test acc: 0.206779\n",
      "Epochs 227: source train acc: 0.099333; source test acc: 0.978700; target test acc: 0.206779\n"
     ]
    },
    {
     "name": "stderr",
     "output_type": "stream",
     "text": [
      "100%|██████████| 150/150 [00:09<00:00, 16.26it/s]\n",
      "100%|██████████| 150/150 [00:09<00:00, 16.50it/s]\n"
     ]
    },
    {
     "name": "stdout",
     "output_type": "stream",
     "text": [
      "Epochs 228: source train acc: 0.098183; source test acc: 0.976500; target test acc: 0.210082\n",
      "Epochs 228: source train acc: 0.098183; source test acc: 0.976500; target test acc: 0.210082\n",
      "Epochs 228: source train acc: 0.098183; source test acc: 0.976500; target test acc: 0.210082\n"
     ]
    },
    {
     "name": "stderr",
     "output_type": "stream",
     "text": [
      "100%|██████████| 150/150 [00:09<00:00, 16.30it/s]\n",
      "100%|██████████| 150/150 [00:09<00:00, 16.11it/s]\n"
     ]
    },
    {
     "name": "stdout",
     "output_type": "stream",
     "text": [
      "Epochs 229: source train acc: 0.101450; source test acc: 0.977300; target test acc: 0.201182\n",
      "Epochs 229: source train acc: 0.101450; source test acc: 0.977300; target test acc: 0.201182\n",
      "Epochs 229: source train acc: 0.101450; source test acc: 0.977300; target test acc: 0.201182\n"
     ]
    },
    {
     "name": "stderr",
     "output_type": "stream",
     "text": [
      "100%|██████████| 150/150 [00:09<00:00, 16.21it/s]\n",
      "100%|██████████| 150/150 [00:09<00:00, 16.35it/s]\n"
     ]
    },
    {
     "name": "stdout",
     "output_type": "stream",
     "text": [
      "Epochs 230: source train acc: 0.101167; source test acc: 0.869800; target test acc: 0.197633\n",
      "Epochs 230: source train acc: 0.101167; source test acc: 0.869800; target test acc: 0.197633\n",
      "Epochs 230: source train acc: 0.101167; source test acc: 0.869800; target test acc: 0.197633\n"
     ]
    },
    {
     "name": "stderr",
     "output_type": "stream",
     "text": [
      "100%|██████████| 150/150 [00:09<00:00, 16.38it/s]\n",
      "100%|██████████| 150/150 [00:09<00:00, 16.33it/s]\n"
     ]
    },
    {
     "name": "stdout",
     "output_type": "stream",
     "text": [
      "Epochs 231: source train acc: 0.099317; source test acc: 0.980600; target test acc: 0.209045\n",
      "Epochs 231: source train acc: 0.099317; source test acc: 0.980600; target test acc: 0.209045\n",
      "Epochs 231: source train acc: 0.099317; source test acc: 0.980600; target test acc: 0.209045\n"
     ]
    },
    {
     "name": "stderr",
     "output_type": "stream",
     "text": [
      "100%|██████████| 150/150 [00:09<00:00, 16.10it/s]\n",
      "100%|██████████| 150/150 [00:09<00:00, 16.10it/s]\n"
     ]
    },
    {
     "name": "stdout",
     "output_type": "stream",
     "text": [
      "Epochs 232: source train acc: 0.099217; source test acc: 0.976600; target test acc: 0.207734\n",
      "Epochs 232: source train acc: 0.099217; source test acc: 0.976600; target test acc: 0.207734\n",
      "Epochs 232: source train acc: 0.099217; source test acc: 0.976600; target test acc: 0.207734\n"
     ]
    },
    {
     "name": "stderr",
     "output_type": "stream",
     "text": [
      "100%|██████████| 150/150 [00:09<00:00, 16.36it/s]\n",
      "100%|██████████| 150/150 [00:09<00:00, 16.54it/s]\n"
     ]
    },
    {
     "name": "stdout",
     "output_type": "stream",
     "text": [
      "Epochs 233: source train acc: 0.099750; source test acc: 0.980200; target test acc: 0.202479\n",
      "Epochs 233: source train acc: 0.099750; source test acc: 0.980200; target test acc: 0.202479\n",
      "Epochs 233: source train acc: 0.099750; source test acc: 0.980200; target test acc: 0.202479\n"
     ]
    },
    {
     "name": "stderr",
     "output_type": "stream",
     "text": [
      "100%|██████████| 150/150 [00:09<00:00, 16.44it/s]\n",
      "100%|██████████| 150/150 [00:09<00:00, 15.92it/s]\n"
     ]
    },
    {
     "name": "stdout",
     "output_type": "stream",
     "text": [
      "Epochs 234: source train acc: 0.101517; source test acc: 0.977600; target test acc: 0.202957\n",
      "Epochs 234: source train acc: 0.101517; source test acc: 0.977600; target test acc: 0.202957\n",
      "Epochs 234: source train acc: 0.101517; source test acc: 0.977600; target test acc: 0.202957\n"
     ]
    },
    {
     "name": "stderr",
     "output_type": "stream",
     "text": [
      "100%|██████████| 150/150 [00:09<00:00, 16.27it/s]\n",
      "100%|██████████| 150/150 [00:09<00:00, 16.30it/s]\n"
     ]
    },
    {
     "name": "stdout",
     "output_type": "stream",
     "text": [
      "Epochs 235: source train acc: 0.101717; source test acc: 0.965300; target test acc: 0.198602\n",
      "Epochs 235: source train acc: 0.101717; source test acc: 0.965300; target test acc: 0.198602\n",
      "Epochs 235: source train acc: 0.101717; source test acc: 0.965300; target test acc: 0.198602\n"
     ]
    },
    {
     "name": "stderr",
     "output_type": "stream",
     "text": [
      "100%|██████████| 150/150 [00:09<00:00, 16.31it/s]\n",
      "100%|██████████| 150/150 [00:09<00:00, 16.33it/s]\n"
     ]
    },
    {
     "name": "stdout",
     "output_type": "stream",
     "text": [
      "Epochs 236: source train acc: 0.099667; source test acc: 0.979500; target test acc: 0.208499\n",
      "Epochs 236: source train acc: 0.099667; source test acc: 0.979500; target test acc: 0.208499\n",
      "Epochs 236: source train acc: 0.099667; source test acc: 0.979500; target test acc: 0.208499\n"
     ]
    },
    {
     "name": "stderr",
     "output_type": "stream",
     "text": [
      "100%|██████████| 150/150 [00:09<00:00, 16.24it/s]\n",
      "100%|██████████| 150/150 [00:09<00:00, 16.24it/s]\n"
     ]
    },
    {
     "name": "stdout",
     "output_type": "stream",
     "text": [
      "Epochs 237: source train acc: 0.099750; source test acc: 0.980200; target test acc: 0.184515\n",
      "Epochs 237: source train acc: 0.099750; source test acc: 0.980200; target test acc: 0.184515\n",
      "Epochs 237: source train acc: 0.099750; source test acc: 0.980200; target test acc: 0.184515\n"
     ]
    },
    {
     "name": "stderr",
     "output_type": "stream",
     "text": [
      "100%|██████████| 150/150 [00:09<00:00, 16.20it/s]\n",
      "100%|██████████| 150/150 [00:09<00:00, 16.34it/s]\n"
     ]
    },
    {
     "name": "stdout",
     "output_type": "stream",
     "text": [
      "Epochs 238: source train acc: 0.100933; source test acc: 0.974500; target test acc: 0.193647\n",
      "Epochs 238: source train acc: 0.100933; source test acc: 0.974500; target test acc: 0.193647\n",
      "Epochs 238: source train acc: 0.100933; source test acc: 0.974500; target test acc: 0.193647\n"
     ]
    },
    {
     "name": "stderr",
     "output_type": "stream",
     "text": [
      "100%|██████████| 150/150 [00:09<00:00, 16.36it/s]\n",
      "100%|██████████| 150/150 [00:08<00:00, 16.68it/s]\n"
     ]
    },
    {
     "name": "stdout",
     "output_type": "stream",
     "text": [
      "Epochs 239: source train acc: 0.101650; source test acc: 0.973000; target test acc: 0.197264\n",
      "Epochs 239: source train acc: 0.101650; source test acc: 0.973000; target test acc: 0.197264\n",
      "Epochs 239: source train acc: 0.101650; source test acc: 0.973000; target test acc: 0.197264\n"
     ]
    },
    {
     "name": "stderr",
     "output_type": "stream",
     "text": [
      "100%|██████████| 150/150 [00:09<00:00, 16.32it/s]\n",
      "100%|██████████| 150/150 [00:09<00:00, 16.06it/s]\n"
     ]
    },
    {
     "name": "stdout",
     "output_type": "stream",
     "text": [
      "Epochs 240: source train acc: 0.100567; source test acc: 0.977000; target test acc: 0.200104\n",
      "Epochs 240: source train acc: 0.100567; source test acc: 0.977000; target test acc: 0.200104\n",
      "Epochs 240: source train acc: 0.100567; source test acc: 0.977000; target test acc: 0.200104\n"
     ]
    },
    {
     "name": "stderr",
     "output_type": "stream",
     "text": [
      "100%|██████████| 150/150 [00:09<00:00, 16.33it/s]\n",
      "100%|██████████| 150/150 [00:09<00:00, 16.47it/s]\n"
     ]
    },
    {
     "name": "stdout",
     "output_type": "stream",
     "text": [
      "Epochs 241: source train acc: 0.100433; source test acc: 0.971800; target test acc: 0.187709\n",
      "Epochs 241: source train acc: 0.100433; source test acc: 0.971800; target test acc: 0.187709\n",
      "Epochs 241: source train acc: 0.100433; source test acc: 0.971800; target test acc: 0.187709\n"
     ]
    },
    {
     "name": "stderr",
     "output_type": "stream",
     "text": [
      "100%|██████████| 150/150 [00:09<00:00, 16.59it/s]\n",
      "100%|██████████| 150/150 [00:09<00:00, 16.56it/s]\n"
     ]
    },
    {
     "name": "stdout",
     "output_type": "stream",
     "text": [
      "Epochs 242: source train acc: 0.101067; source test acc: 0.974100; target test acc: 0.182631\n",
      "Epochs 242: source train acc: 0.101067; source test acc: 0.974100; target test acc: 0.182631\n",
      "Epochs 242: source train acc: 0.101067; source test acc: 0.974100; target test acc: 0.182631\n"
     ]
    },
    {
     "name": "stderr",
     "output_type": "stream",
     "text": [
      "100%|██████████| 150/150 [00:09<00:00, 15.79it/s]\n",
      "100%|██████████| 150/150 [00:09<00:00, 15.92it/s]\n"
     ]
    },
    {
     "name": "stdout",
     "output_type": "stream",
     "text": [
      "Epochs 243: source train acc: 0.100800; source test acc: 0.974100; target test acc: 0.187409\n",
      "Epochs 243: source train acc: 0.100800; source test acc: 0.974100; target test acc: 0.187409\n",
      "Epochs 243: source train acc: 0.100800; source test acc: 0.974100; target test acc: 0.187409\n"
     ]
    },
    {
     "name": "stderr",
     "output_type": "stream",
     "text": [
      "100%|██████████| 150/150 [00:09<00:00, 16.37it/s]\n",
      "100%|██████████| 150/150 [00:09<00:00, 16.36it/s]\n"
     ]
    },
    {
     "name": "stdout",
     "output_type": "stream",
     "text": [
      "Epochs 244: source train acc: 0.099683; source test acc: 0.976700; target test acc: 0.190835\n",
      "Epochs 244: source train acc: 0.099683; source test acc: 0.976700; target test acc: 0.190835\n",
      "Epochs 244: source train acc: 0.099683; source test acc: 0.976700; target test acc: 0.190835\n"
     ]
    },
    {
     "name": "stderr",
     "output_type": "stream",
     "text": [
      "100%|██████████| 150/150 [00:09<00:00, 16.31it/s]\n",
      "100%|██████████| 150/150 [00:09<00:00, 16.29it/s]\n"
     ]
    },
    {
     "name": "stdout",
     "output_type": "stream",
     "text": [
      "Epochs 245: source train acc: 0.099333; source test acc: 0.978100; target test acc: 0.185061\n",
      "Epochs 245: source train acc: 0.099333; source test acc: 0.978100; target test acc: 0.185061\n",
      "Epochs 245: source train acc: 0.099333; source test acc: 0.978100; target test acc: 0.185061\n"
     ]
    },
    {
     "name": "stderr",
     "output_type": "stream",
     "text": [
      "100%|██████████| 150/150 [00:09<00:00, 15.87it/s]\n",
      "100%|██████████| 150/150 [00:09<00:00, 16.10it/s]\n"
     ]
    },
    {
     "name": "stdout",
     "output_type": "stream",
     "text": [
      "Epochs 246: source train acc: 0.098533; source test acc: 0.981100; target test acc: 0.199230\n",
      "Epochs 246: source train acc: 0.098533; source test acc: 0.981100; target test acc: 0.199230\n",
      "Epochs 246: source train acc: 0.098533; source test acc: 0.981100; target test acc: 0.199230\n"
     ]
    },
    {
     "name": "stderr",
     "output_type": "stream",
     "text": [
      "100%|██████████| 150/150 [00:09<00:00, 16.53it/s]\n",
      "100%|██████████| 150/150 [00:09<00:00, 16.20it/s]\n"
     ]
    },
    {
     "name": "stdout",
     "output_type": "stream",
     "text": [
      "Epochs 247: source train acc: 0.101200; source test acc: 0.974400; target test acc: 0.172557\n",
      "Epochs 247: source train acc: 0.101200; source test acc: 0.974400; target test acc: 0.172557\n",
      "Epochs 247: source train acc: 0.101200; source test acc: 0.974400; target test acc: 0.172557\n"
     ]
    },
    {
     "name": "stderr",
     "output_type": "stream",
     "text": [
      "100%|██████████| 150/150 [00:09<00:00, 16.48it/s]\n",
      "100%|██████████| 150/150 [00:09<00:00, 16.42it/s]\n"
     ]
    },
    {
     "name": "stdout",
     "output_type": "stream",
     "text": [
      "Epochs 248: source train acc: 0.097733; source test acc: 0.954300; target test acc: 0.168489\n",
      "Epochs 248: source train acc: 0.097733; source test acc: 0.954300; target test acc: 0.168489\n",
      "Epochs 248: source train acc: 0.097733; source test acc: 0.954300; target test acc: 0.168489\n"
     ]
    },
    {
     "name": "stderr",
     "output_type": "stream",
     "text": [
      "100%|██████████| 150/150 [00:09<00:00, 16.08it/s]\n",
      "100%|██████████| 150/150 [00:09<00:00, 16.31it/s]\n"
     ]
    },
    {
     "name": "stdout",
     "output_type": "stream",
     "text": [
      "Epochs 249: source train acc: 0.098300; source test acc: 0.975700; target test acc: 0.198657\n",
      "Epochs 249: source train acc: 0.098300; source test acc: 0.975700; target test acc: 0.198657\n",
      "Epochs 249: source train acc: 0.098300; source test acc: 0.975700; target test acc: 0.198657\n"
     ]
    },
    {
     "name": "stderr",
     "output_type": "stream",
     "text": [
      "100%|██████████| 150/150 [00:09<00:00, 16.59it/s]\n",
      "100%|██████████| 150/150 [00:09<00:00, 16.13it/s]\n"
     ]
    },
    {
     "name": "stdout",
     "output_type": "stream",
     "text": [
      "Epochs 250: source train acc: 0.100917; source test acc: 0.970100; target test acc: 0.201605\n",
      "Epochs 250: source train acc: 0.100917; source test acc: 0.970100; target test acc: 0.201605\n",
      "Epochs 250: source train acc: 0.100917; source test acc: 0.970100; target test acc: 0.201605\n"
     ]
    }
   ],
   "source": [
    "target_acc_label_ = []\n",
    "source_acc_ = []\n",
    "source_test_acc_ = []\n",
    "target_test_acc_ = []\n",
    "\n",
    "logger.info('Started Training')\n",
    "\n",
    "\n",
    "for epoch in range(args.epochs):\n",
    "    # update classifier\n",
    "    # on source domain mnist\n",
    "    CNet.train()\n",
    "    encoder.train()\n",
    "    source_acc = 0.0\n",
    "    num_datas = 0.0\n",
    "    for batch_id, (source_x, source_y) in tqdm(enumerate(train_mnist_loader), total=len(train_mnist_loader)):\n",
    "        optimizerCNet.zero_grad()\n",
    "        optimizerEncoder.zero_grad()\n",
    "        source_x = source_x.to(device).float()\n",
    "        source_y = source_y.to(device)\n",
    "        num_datas += source_x.size(0)\n",
    "        source_x_embedding = encoder(source_x)\n",
    "        pred = CNet(source_x_embedding)\n",
    "        source_acc += (pred.argmax(-1) == source_y).sum().item()\n",
    "        loss = criterion_classifier(pred, source_y)\n",
    "        loss.backward()\n",
    "        optimizerCNet.step()\n",
    "        optimizerEncoder.step()\n",
    "        \n",
    "        \n",
    "    source_acc = source_acc / num_datas\n",
    "    source_acc_.append(source_acc)\n",
    "    \n",
    "    # on shuffling source domain mnist\n",
    "    CNet.train()\n",
    "    encoder.train()\n",
    "    source_acc = 0.0\n",
    "    num_datas = 0.0\n",
    "    for batch_id, (source_x, source_y) in tqdm(enumerate(train_mnist_loader), total=len(train_mnist_loader)):\n",
    "        optimizerCNet.zero_grad()\n",
    "        optimizerEncoder.zero_grad()\n",
    "        source_x = source_x.to(device).float()\n",
    "        source_y = torch.randint(0,10, (source_x.shape[0],)).to(device)\n",
    "        num_datas += source_x.size(0)\n",
    "        source_x_embedding = encoder(source_x)\n",
    "        pred = CNet(source_x_embedding)\n",
    "        source_acc += (pred.argmax(-1) == source_y).sum().item()\n",
    "        loss = -args.shuffle_weight * criterion_classifier(pred, source_y)\n",
    "        loss.backward()\n",
    "        optimizerCNet.step()\n",
    "        optimizerEncoder.step()\n",
    "        \n",
    "    \n",
    "    \n",
    "    # on target domain svhn\n",
    "#     target_acc = 0.0\n",
    "#     num_datas = 0.0\n",
    "#     CNet.train()\n",
    "#     encoder.train()\n",
    "\n",
    "#     for batch_id, (target_x, target_y) in tqdm(enumerate(train_svhn_loader), total=len(train_svhn_loader)):\n",
    "#         optimizerCNet.zero_grad()\n",
    "#         optimizerEncoder.zero_grad()\n",
    "#         target_x = target_x.to(device).float()\n",
    "#         target_y = target_y.to(device)\n",
    "#         num_datas += target_x.size(0)\n",
    "#         target_x_embedding = encoder(target_x)\n",
    "#         pred = CNet(target_x_embedding)\n",
    "#         target_acc += (pred.argmax(-1) == target_y).sum().item()\n",
    "#         loss = criterion_classifier(pred, target_y)\n",
    "#         loss.backward()\n",
    "#         optimizerCNet.step()\n",
    "#         optimizerEncoder.step()\n",
    "        \n",
    "    \n",
    "#     target_acc = target_acc / num_datas\n",
    "#     target_acc_label_.append(target_acc)\n",
    "    \n",
    "    \n",
    "    # DANN\n",
    "#     DomainCNet.train()\n",
    "#     encoder.train()\n",
    "#     num_datas = 0.0\n",
    "#     for batch_id, (adv_x, adv_y) in tqdm(enumerate(adverial_loader), total=len(adverial_loader)):\n",
    "#         optimizerCNet.zero_grad()\n",
    "#         optimizerEncoder.zero_grad()\n",
    "#         adv_x = adv_x.to(device).float()\n",
    "#         adv_y = adv_y.to(device)\n",
    "#         num_datas += adv_x.size(0)\n",
    "#         adv_x_embedding = encoder(adv_x)\n",
    "#         pred = DomainCNet(adv_x_embedding)\n",
    "#         # adv_acc += (pred.argmax(-1) == adv_y).sum().item()\n",
    "#         loss = args.dann_weight * criterion_classifier(pred, adv_y)\n",
    "#         loss.backward()\n",
    "#         optimizerEncoder.step()\n",
    "#         optimizerDomainCNet.step()\n",
    "    \n",
    "    \n",
    "    \n",
    "    \n",
    "    \n",
    "    # eval on source   \n",
    "    source_test_acc = 0.0\n",
    "    num_datas = 0.0\n",
    "    CNet.eval()\n",
    "    encoder.eval()\n",
    "    \n",
    "    for batch_id, (source_x, source_y) in enumerate(test_mnist_loader):\n",
    "        optimizerCNet.zero_grad()\n",
    "        optimizerEncoder.zero_grad()\n",
    "        source_x = source_x.to(device).float()\n",
    "        source_y = source_y.to(device)\n",
    "        num_datas += source_x.size(0)\n",
    "        source_x_embedding = encoder(source_x)\n",
    "        pred = CNet(source_x_embedding)\n",
    "        source_test_acc += (pred.argmax(-1) == source_y).sum().item()\n",
    "        \n",
    "    source_test_acc = source_test_acc / num_datas\n",
    "    source_test_acc_.append(source_test_acc)\n",
    "    \n",
    "    # eval on target \n",
    "    num_datas = 0.0\n",
    "    target_test_acc = 0.0\n",
    "    for batch_id, (target_x, target_y) in enumerate(test_svhn_loader):\n",
    "        optimizerCNet.zero_grad()\n",
    "        optimizerEncoder.zero_grad()\n",
    "        target_x = target_x.to(device).float()\n",
    "        target_y = target_y.to(device)\n",
    "        num_datas += target_x.size(0)\n",
    "        target_x_embedding = encoder(target_x)\n",
    "        pred = CNet(target_x_embedding)\n",
    "        target_test_acc += (pred.argmax(-1) == target_y).sum().item()\n",
    "    \n",
    "    target_test_acc = target_test_acc / num_datas\n",
    "    target_test_acc_.append(source_test_acc)\n",
    "    \n",
    "    if epoch % args.model_save_period == 0:\n",
    "        #torch.save(DomainCNet.state_dict(), args.save_path+model_sub_folder+ '/DomainCNet_%i.t7'%(epoch+1))\n",
    "        torch.save(encoder.state_dict(), args.save_path+model_sub_folder+ '/encoder_%i.t7'%(epoch+1))\n",
    "        torch.save(CNet.state_dict(), args.save_path+model_sub_folder+ '/CNet_%i.t7'%(epoch+1))\n",
    "\n",
    "    \n",
    "    logger.info('Epochs %i: source train acc: %f; source test acc: %f; target test acc: %f'%(epoch+1, source_acc, source_test_acc, target_test_acc))\n",
    "    "
   ]
  },
  {
   "cell_type": "code",
   "execution_count": 71,
   "metadata": {},
   "outputs": [
    {
     "name": "stderr",
     "output_type": "stream",
     "text": [
      "100%|██████████| 150/150 [00:07<00:00, 19.33it/s]\n"
     ]
    },
    {
     "data": {
      "text/plain": [
       "0.9244833333333333"
      ]
     },
     "execution_count": 71,
     "metadata": {},
     "output_type": "execute_result"
    }
   ],
   "source": [
    "# on source domain mnist\n",
    "CNet.train()\n",
    "encoder.train()\n",
    "source_acc = 0.0\n",
    "num_datas = 0.0\n",
    "for batch_id, (source_x, source_y) in tqdm(enumerate(train_mnist_loader), total=len(train_mnist_loader)):\n",
    "    optimizerCNet.zero_grad()\n",
    "    optimizerEncoder.zero_grad()\n",
    "    source_x = source_x.to(device).float()\n",
    "    source_y = source_y.to(device)\n",
    "    num_datas += source_x.size(0)\n",
    "    source_x_embedding = encoder(source_x)\n",
    "    pred = CNet(source_x_embedding)\n",
    "    source_acc += (pred.argmax(-1) == source_y).sum().item()\n",
    "    loss = criterion_classifier(pred, source_y)\n",
    "    loss.backward()\n",
    "    optimizerCNet.step()\n",
    "    optimizerEncoder.step()\n",
    "\n",
    "\n",
    "source_acc = source_acc / num_datas\n",
    "source_acc"
   ]
  },
  {
   "cell_type": "code",
   "execution_count": null,
   "metadata": {},
   "outputs": [],
   "source": []
  },
  {
   "cell_type": "code",
   "execution_count": 69,
   "metadata": {},
   "outputs": [
    {
     "name": "stderr",
     "output_type": "stream",
     "text": [
      "  6%|▌         | 9/150 [00:00<00:08, 16.48it/s]\n"
     ]
    },
    {
     "data": {
      "text/plain": [
       "Text(0.5, 1.0, 'tSNE for source training data')"
      ]
     },
     "execution_count": 69,
     "metadata": {},
     "output_type": "execute_result"
    },
    {
     "data": {
      "image/png": "[encoded data removed]",
      "text/plain": [
       "<Figure size 842.4x595.44 with 1 Axes>"
      ]
     },
     "metadata": {},
     "output_type": "display_data"
    }
   ],
   "source": [
    "# Evalualtion\n",
    "\n",
    "from sklearn.manifold import TSNE\n",
    "import seaborn as sns\n",
    "\n",
    "source_x_all = torch.empty(0,).to(device)\n",
    "source_y_all = torch.empty(0,).to(device).long()\n",
    "round_ = 0\n",
    "total_round = 10\n",
    "for batch_id, (source_x, source_y) in tqdm(enumerate(train_mnist_loader), total=len(train_mnist_loader)):\n",
    "    optimizerCNet.zero_grad()\n",
    "    optimizerEncoder.zero_grad()\n",
    "    source_x = source_x.to(device).float()\n",
    "    source_y = source_y.to(device)\n",
    "    source_x_all = torch.cat([source_x_all, source_x], dim=0)\n",
    "    source_y_all = torch.cat([source_y_all, source_y], dim=0)\n",
    "    round_ += 1\n",
    "    if round_ >= total_round:\n",
    "        break\n",
    "\n",
    "CNet.eval()\n",
    "encoder.eval()\n",
    "CNet.to(device)\n",
    "encoder.to(device)\n",
    "source_x_embedding_all = encoder(source_x_all)\n",
    "last_layer = CNet(source_x_embedding_all)\n",
    "source_x_embedding_all.shape\n",
    "\n",
    "\n",
    "tsne = TSNE()\n",
    "tsne_res = tsne.fit_transform(source_x_embedding_all.to('cpu').detach())\n",
    "\n",
    "# plot\n",
    "# linear unlabeled\n",
    "sns.set(rc={'figure.figsize':(11.7,8.27)})\n",
    "palette = sns.color_palette(\"bright\", 10)\n",
    "\n",
    "g = sns.scatterplot(tsne_res[:,0], tsne_res[:,1], hue=source_y_all.to('cpu'), legend=False, palette=palette)\n",
    "\n",
    "plt.title('tSNE for source training data')\n"
   ]
  },
  {
   "cell_type": "code",
   "execution_count": 73,
   "metadata": {},
   "outputs": [
    {
     "name": "stderr",
     "output_type": "stream",
     "text": [
      " 36%|███▌      | 9/25 [00:00<00:00, 18.33it/s]\n"
     ]
    },
    {
     "data": {
      "text/plain": [
       "Text(0.5, 1.0, 'tSNE for source testing data')"
      ]
     },
     "execution_count": 73,
     "metadata": {},
     "output_type": "execute_result"
    },
    {
     "data": {
      "image/png": "[encoded data removed]",
      "text/plain": [
       "<Figure size 842.4x595.44 with 1 Axes>"
      ]
     },
     "metadata": {},
     "output_type": "display_data"
    }
   ],
   "source": [
    "source_x_all = torch.empty(0,).to(device)\n",
    "source_y_all = torch.empty(0,).to(device).long()\n",
    "round_ = 0\n",
    "total_round = 10\n",
    "for batch_id, (source_x, source_y) in tqdm(enumerate(test_mnist_loader), total=len(test_mnist_loader)):\n",
    "    optimizerCNet.zero_grad()\n",
    "    optimizerEncoder.zero_grad()\n",
    "    source_x = source_x.to(device).float()\n",
    "    source_y = source_y.to(device)\n",
    "    source_x_all = torch.cat([source_x_all, source_x], dim=0)\n",
    "    source_y_all = torch.cat([source_y_all, source_y], dim=0)\n",
    "    round_ += 1\n",
    "    if round_ >= total_round:\n",
    "        break\n",
    "\n",
    "CNet.eval()\n",
    "encoder.eval()\n",
    "CNet.to(device)\n",
    "encoder.to(device)\n",
    "source_x_embedding_all = encoder(source_x_all)\n",
    "last_layer = CNet(source_x_embedding_all)\n",
    "source_x_embedding_all.shape\n",
    "\n",
    "\n",
    "tsne = TSNE()\n",
    "tsne_res = tsne.fit_transform(source_x_embedding_all.to('cpu').detach())\n",
    "\n",
    "# plot\n",
    "# linear unlabeled\n",
    "sns.set(rc={'figure.figsize':(11.7,8.27)})\n",
    "palette = sns.color_palette(\"bright\", 10)\n",
    "\n",
    "g = sns.scatterplot(tsne_res[:,0], tsne_res[:,1], hue=source_y_all.to('cpu'), legend=False, palette=palette)\n",
    "\n",
    "plt.title('tSNE for source testing data')\n"
   ]
  },
  {
   "cell_type": "code",
   "execution_count": 70,
   "metadata": {},
   "outputs": [
    {
     "name": "stderr",
     "output_type": "stream",
     "text": [
      "  5%|▍         | 9/184 [00:00<00:15, 10.95it/s]\n"
     ]
    },
    {
     "data": {
      "text/plain": [
       "Text(0.5, 1.0, 'tSNE for target testing data')"
      ]
     },
     "execution_count": 70,
     "metadata": {},
     "output_type": "execute_result"
    },
    {
     "data": {
      "image/png": "[encoded data removed]",
      "text/plain": [
       "<Figure size 842.4x595.44 with 1 Axes>"
      ]
     },
     "metadata": {},
     "output_type": "display_data"
    }
   ],
   "source": [
    "\n",
    "target_x_all = torch.empty(0,).to(device)\n",
    "target_y_all = torch.empty(0,).to(device).long()\n",
    "round_ = 0\n",
    "total_round = 10\n",
    "for batch_id, (target_x, target_y) in tqdm(enumerate(test_svhn_loader), total=len(test_svhn_loader)):\n",
    "    optimizerCNet.zero_grad()\n",
    "    optimizerEncoder.zero_grad()\n",
    "    target_x = target_x.to(device).float()\n",
    "    target_y = target_y.to(device)\n",
    "    target_x_all = torch.cat([target_x_all, target_x], dim=0)\n",
    "    target_y_all = torch.cat([target_y_all, target_y], dim=0)\n",
    "    round_ += 1\n",
    "    if round_ >= total_round:\n",
    "        break\n",
    "\n",
    "CNet.eval()\n",
    "encoder.eval()\n",
    "CNet.to(device)\n",
    "encoder.to(device)\n",
    "target_x_embedding_all = encoder(target_x_all)\n",
    "last_layer = CNet(target_x_embedding_all)\n",
    "target_x_embedding_all.shape\n",
    "\n",
    "\n",
    "target_tsne = TSNE()\n",
    "target_tsne_res = target_tsne.fit_transform(target_x_embedding_all.to('cpu').detach())\n",
    "\n",
    "# plot\n",
    "# linear unlabeled\n",
    "sns.set(rc={'figure.figsize':(11.7,8.27)})\n",
    "palette = sns.color_palette(\"bright\", 10)\n",
    "\n",
    "g = sns.scatterplot(target_tsne_res[:,0], target_tsne_res[:,1], hue=target_y_all.to('cpu'), legend=False, palette=palette)\n",
    "\n",
    "plt.title('tSNE for target testing data')"
   ]
  },
  {
   "cell_type": "code",
   "execution_count": null,
   "metadata": {},
   "outputs": [],
   "source": []
  }
 ],
 "metadata": {
  "kernelspec": {
   "display_name": "Python 3",
   "language": "python",
   "name": "python3"
  },
  "language_info": {
   "codemirror_mode": {
    "name": "ipython",
    "version": 3
   },
   "file_extension": ".py",
   "mimetype": "text/x-python",
   "name": "python",
   "nbconvert_exporter": "python",
   "pygments_lexer": "ipython3",
   "version": "3.7.7"
  }
 },
 "nbformat": 4,
 "nbformat_minor": 4
}
