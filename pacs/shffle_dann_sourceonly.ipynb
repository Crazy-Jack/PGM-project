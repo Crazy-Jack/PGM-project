{
 "cells": [
  {
   "cell_type": "code",
   "execution_count": 9,
   "metadata": {},
   "outputs": [],
   "source": [
    "import torch\n",
    "import torchvision\n",
    "import torchvision.datasets as datasets\n",
    "from tqdm import tqdm\n",
    "import argparse\n",
    "from torch.utils.data import Dataset, DataLoader\n",
    "from PAC_Dataset import PACDataset, ConcatDataset\n",
    "import torch.nn as nn\n",
    "import torch.nn.functional as F\n",
    "import torch.optim as optim\n",
    "import numpy as np\n",
    "import matplotlib.pyplot as plt\n",
    "import torch.backends.cudnn as cudnn\n",
    "import os\n",
    "import sys\n",
    "import logging\n",
    "import logging.handlers\n",
    "from PIL import Image\n",
    "import torchvision.transforms.functional as TF"
   ]
  },
  {
   "cell_type": "markdown",
   "metadata": {},
   "source": [
    "# Parser"
   ]
  },
  {
   "cell_type": "code",
   "execution_count": 2,
   "metadata": {},
   "outputs": [
    {
     "name": "stderr",
     "output_type": "stream",
     "text": [
      "usage: ipykernel_launcher.py [-h] [--batch_size BATCH_SIZE] [--learning_rate LEARNING_RATE] [--momentum MOMENTUM] [--gpu_num GPU_NUM]\n",
      "                             [--seed SEED] [--save_path SAVE_PATH] [--subfolder SUBFOLDER] [--wtarget WTARGET]\n",
      "                             [--model_save_period MODEL_SAVE_PERIOD] [--epochs EPOCHS] [--dann_weight DANN_WEIGHT]\n",
      "                             [--start_shuffle_dann START_SHUFFLE_DANN] [--is_shuffle IS_SHUFFLE]\n",
      "ipykernel_launcher.py: error: unrecognized arguments: -f /home/tianqinl/.local/share/jupyter/runtime/kernel-b8e64a17-b764-4f9f-8664-2fb96d3bff07.json\n"
     ]
    },
    {
     "ename": "SystemExit",
     "evalue": "2",
     "output_type": "error",
     "traceback": [
      "An exception has occurred, use %tb to see the full traceback.\n",
      "\u001b[0;31mSystemExit\u001b[0m\u001b[0;31m:\u001b[0m 2\n"
     ]
    },
    {
     "name": "stderr",
     "output_type": "stream",
     "text": [
      "/home/tianqinl/anaconda3/envs/pgm/lib/python3.8/site-packages/IPython/core/interactiveshell.py:3339: UserWarning: To exit: use 'exit', 'quit', or Ctrl-D.\n",
      "  warn(\"To exit: use 'exit', 'quit', or Ctrl-D.\", stacklevel=1)\n"
     ]
    }
   ],
   "source": [
    "parser = argparse.ArgumentParser(description='Domain adaptation')\n",
    "parser.add_argument(\"--batch_size\", type=int, default=\"400\", help=\"batch size\")\n",
    "parser.add_argument(\"--learning_rate\", type=float, default=1e-3, help=\"learning rate\")\n",
    "parser.add_argument(\"--momentum\", type=float, default=0.5, help=\"momentum\")\n",
    "parser.add_argument(\"--gpu_num\", type=int, default=0, help=\"gpu num\")\n",
    "parser.add_argument(\"--seed\", type=int, default=123, help=\"munually set seed\")\n",
    "parser.add_argument(\"--save_path\", type=str, default=\"../train_related\", help=\"save path\")\n",
    "parser.add_argument(\"--subfolder\", type=str, default='test', help=\"subfolder name\")\n",
    "parser.add_argument(\"--wtarget\", type=float, default=0.7, help=\"target weight\")\n",
    "parser.add_argument(\"--model_save_period\", type=int, default=2, help=\"save period\")\n",
    "parser.add_argument(\"--epochs\", type=int, default=2000, help=\"label shuffling\")\n",
    "parser.add_argument(\"--dann_weight\", type=float, default=1, help=\"weight for label shuffling\")\n",
    "parser.add_argument(\"--start_shuffle_dann\", type=int, default=100, help=\"when to start shuffling\")\n",
    "parser.add_argument(\"--is_shuffle\", type=int, default=1, help=\"no shuffle if 0\")\n",
    "\n",
    "\n",
    "args = parser.parse_args()\n",
    "# snap shot of py file and command\n",
    "python_file_name = sys.argv[0]\n"
   ]
  },
  {
   "cell_type": "markdown",
   "metadata": {},
   "source": [
    "# local only"
   ]
  },
  {
   "cell_type": "code",
   "execution_count": 4,
   "metadata": {},
   "outputs": [],
   "source": [
    "# # local only\n",
    "# class local_args:\n",
    "#     def __init__(self, **entries):\n",
    "#         self.__dict__.update(entries)\n",
    "        \n",
    "# args = local_args(**{\n",
    "#     'batch_size': 200,\n",
    "#     'learning_rate': 1e-3,\n",
    "#     'momentum': 0.5,\n",
    "#     'gpu_num': 0,\n",
    "#     'seed': 123,\n",
    "#     'save_path': \"../train_related\",\n",
    "#     'epochs': 20,\n",
    "#     'subfolder': \"test\",\n",
    "#     'wtarget': 0.7,\n",
    "#     'dann_weight': 1,\n",
    "#     'model_save_period': 2,\n",
    "#     'start_shuffle_dann': 1,\n",
    "#     'is_shuffle': 0\n",
    "# })"
   ]
  },
  {
   "cell_type": "code",
   "execution_count": 5,
   "metadata": {},
   "outputs": [
    {
     "name": "stdout",
     "output_type": "stream",
     "text": [
      "cuda:0\n"
     ]
    }
   ],
   "source": [
    "\n",
    "device = torch.device('cuda:{}'.format(args.gpu_num) if torch.cuda.is_available() else 'cpu')\n",
    "# seed\n",
    "torch.manual_seed(args.seed)\n",
    "torch.cuda.manual_seed(args.seed)\n",
    "np.random.seed(args.seed)\n",
    "cudnn.deterministic = True\n",
    "torch.backends.cudnn.deterministic = True\n",
    "\n",
    "\n",
    "\n",
    "device = torch.device('cuda:{}'.format(args.gpu_num) if torch.cuda.is_available() else 'cpu')\n",
    "print(device)\n",
    "\n",
    "\n",
    "model_sub_folder = args.subfolder + '/shuffle_weight_%f_learningrate_%f_startsepoch_%i_isshuffle_%i'%(args.dann_weight, args.learning_rate, args.start_shuffle_dann, args.is_shuffle)\n",
    "save_folder = os.path.join(args.save_path, model_sub_folder)\n",
    "if not os.path.exists(save_folder):\n",
    "    os.makedirs(save_folder)   \n"
   ]
  },
  {
   "cell_type": "code",
   "execution_count": 6,
   "metadata": {},
   "outputs": [
    {
     "name": "stdout",
     "output_type": "stream",
     "text": [
      "Fixed source testing bug\n",
      "batch_size: 200\n",
      "learning_rate: 0.001\n",
      "momentum: 0.5\n",
      "gpu_num: 0\n",
      "seed: 123\n",
      "save_path: ../train_related\n",
      "epochs: 20\n",
      "subfolder: test\n",
      "wtarget: 0.7\n",
      "dann_weight: 1\n",
      "model_save_period: 2\n",
      "start_shuffle_dann: 1\n",
      "is_shuffle: 0\n",
      "Training Save Path: ../train_related/test/shuffle_weight_1.000000_learningrate_0.001000_startsepoch_1_isshuffle_0\n"
     ]
    }
   ],
   "source": [
    "\n",
    "logger = logging.getLogger()\n",
    "logger.setLevel(logging.INFO)\n",
    "logfile_path = os.path.join(save_folder, 'logfile.log')\n",
    "if os.path.isfile(logfile_path):\n",
    "    os.remove(logfile_path)\n",
    "    \n",
    "file_log_handler = logging.FileHandler(logfile_path)\n",
    "logger.addHandler(file_log_handler)\n",
    "\n",
    "stdout_log_handler = logging.StreamHandler(sys.stdout)\n",
    "logger.addHandler(stdout_log_handler)\n",
    "logger.info(\"Fixed source testing bug\")\n",
    "attrs = vars(args)\n",
    "for item in attrs.items():\n",
    "    logger.info(\"%s: %s\"%item)\n",
    "logger.info(\"Training Save Path: {}\".format(save_folder))\n"
   ]
  },
  {
   "cell_type": "markdown",
   "metadata": {},
   "source": [
    "# Data loader"
   ]
  },
  {
   "cell_type": "code",
   "execution_count": 7,
   "metadata": {},
   "outputs": [
    {
     "name": "stdout",
     "output_type": "stream",
     "text": [
      "Loading photo train data from /home/tianqinl/Code/PGM-project/data/pacs/cache\n",
      "Loading photo test data from /home/tianqinl/Code/PGM-project/data/pacs/cache\n",
      "Loading art_painting train data from /home/tianqinl/Code/PGM-project/data/pacs/cache\n",
      "Loading art_painting test data from /home/tianqinl/Code/PGM-project/data/pacs/cache\n",
      "Loading cartoon train data from /home/tianqinl/Code/PGM-project/data/pacs/cache\n",
      "Loading cartoon test data from /home/tianqinl/Code/PGM-project/data/pacs/cache\n",
      "Loading sketch train data from /home/tianqinl/Code/PGM-project/data/pacs/cache\n",
      "Loading sketch test data from /home/tianqinl/Code/PGM-project/data/pacs/cache\n"
     ]
    }
   ],
   "source": [
    "p_dataset_train = PACDataset('p', split = 'train')\n",
    "p_dataset_test = PACDataset('p', split = 'test')\n",
    "a_dataset_train = PACDataset('a', split = 'train')\n",
    "a_dataset_test = PACDataset('a', split = 'test')\n",
    "c_dataset_train = PACDataset('c', split = 'train')\n",
    "c_dataset_test = PACDataset('c', split = 'test')\n",
    "s_dataset_train = PACDataset('s', split = 'train')\n",
    "s_dataset_test = PACDataset('s', split = 'test')"
   ]
  },
  {
   "cell_type": "markdown",
   "metadata": {},
   "source": [
    "## Visual comfirm"
   ]
  },
  {
   "cell_type": "code",
   "execution_count": 20,
   "metadata": {},
   "outputs": [
    {
     "data": {
      "image/png": "[encoded data removed]",
      "text/plain": [
       "<Figure size 432x288 with 5 Axes>"
      ]
     },
     "metadata": {},
     "output_type": "display_data"
    }
   ],
   "source": [
    "# p_dataloader = DataLoader(p_dataset_test, batch_size=args.batch_size, shuffle=True)\n",
    "# # pacs\n",
    "# examples = enumerate(p_dataloader)\n",
    "# batch_idx, (example_data, example_targets) = next(examples)\n",
    "\n",
    "\n",
    "# fig = plt.figure()\n",
    "# for i in range(6):\n",
    "#     plt.subplot(2,3,i+1)\n",
    "#     plt.tight_layout()\n",
    "#     plt.imshow(example_data[i].permute(1, 2, 0))\n",
    "#     plt.title(\"Ground Truth: {}-{}\".format(example_targets[i], p_dataset_test.category_dict[int(example_targets[i])]))\n",
    "#     plt.xticks([])\n",
    "#     plt.yticks([])"
   ]
  },
  {
   "cell_type": "code",
   "execution_count": 8,
   "metadata": {},
   "outputs": [],
   "source": [
    "p_train_dataloader = DataLoader(p_dataset_train, batch_size=args.batch_size, shuffle=True)\n",
    "p_test_dataloader = DataLoader(p_dataset_test, batch_size=args.batch_size, shuffle=True)\n",
    "\n",
    "a_train_dataloader = DataLoader(a_dataset_train, batch_size=args.batch_size, shuffle=True)\n",
    "a_test_dataloader = DataLoader(a_dataset_test, batch_size=args.batch_size, shuffle=True)\n",
    "\n",
    "c_train_dataloader = DataLoader(c_dataset_train, batch_size=args.batch_size, shuffle=True)\n",
    "c_test_dataloader = DataLoader(c_dataset_test, batch_size=args.batch_size, shuffle=True)\n",
    "\n",
    "s_train_dataloader = DataLoader(s_dataset_train, batch_size=args.batch_size, shuffle=True)\n",
    "s_test_dataloader = DataLoader(s_dataset_test, batch_size=args.batch_size, shuffle=True)\n"
   ]
  },
  {
   "cell_type": "markdown",
   "metadata": {},
   "source": [
    "# Shuffling label"
   ]
  },
  {
   "cell_type": "code",
   "execution_count": 16,
   "metadata": {},
   "outputs": [],
   "source": [
    "\n",
    "concat_mnist_train = ConcatDataset(mnist_trainset.data, torch.randint(0,2,(mnist_trainset.data.shape[0],)), mode = 'mnist')\n",
    "concat_svhn_train = ConcatDataset(svhn_trainset.data, torch.randint(0,2,(svhn_trainset.data.shape[0],)), mode = 'svhn')\n",
    "\n",
    "\n",
    "adverial_dataset = torch.utils.data.ConcatDataset([concat_mnist_train, concat_svhn_train])\n",
    "# [i[1] for i in [adverial_dataset[m] for m in torch.randint(0, len(adverial_dataset), (100,))]]\n",
    "adverial_loader = DataLoader(adverial_dataset, batch_size=args.batch_size, shuffle=True)"
   ]
  },
  {
   "cell_type": "code",
   "execution_count": null,
   "metadata": {},
   "outputs": [],
   "source": []
  },
  {
   "cell_type": "markdown",
   "metadata": {},
   "source": [
    "# Model"
   ]
  },
  {
   "cell_type": "code",
   "execution_count": 10,
   "metadata": {},
   "outputs": [],
   "source": [
    "class Encoder(nn.Module):\n",
    "    def __init__(self):\n",
    "        super(Encoder, self).__init__()\n",
    "        self.conv1 = nn.Conv2d(3, 10, kernel_size=10, padding=2)\n",
    "        self.conv2 = nn.Conv2d(10, 20, kernel_size=11, padding=5)\n",
    "        self.conv2_drop = nn.Dropout2d()\n",
    "        self.fc1 = nn.Linear(55*55*20, 1024)\n",
    "        self.fc2 = nn.Linear(1024, 300)\n",
    "\n",
    "    def forward(self, x):\n",
    "        x = F.relu(F.max_pool2d(self.conv1(x), 6, stride=2, padding=2))\n",
    "        x = F.relu(F.max_pool2d(self.conv2_drop(self.conv2(x)), 6, stride=2, padding=2))\n",
    "        x = x.view(-1, 55*55*20)\n",
    "        x = F.relu(self.fc1(x))\n",
    "        x = F.dropout(x, training=self.training)\n",
    "        x = self.fc2(x)\n",
    "        return x\n"
   ]
  },
  {
   "cell_type": "code",
   "execution_count": 11,
   "metadata": {},
   "outputs": [],
   "source": [
    "class FNN(nn.Module):\n",
    "    def __init__(self, d_in, d_h1, d_h2, d_out, dp=0.2):\n",
    "        super(FNN, self).__init__()\n",
    "        self.fc1 = nn.Linear(d_in, d_h1)\n",
    "        self.ln1 = nn.LayerNorm(d_h1)\n",
    "        self.relu1 = nn.ReLU(inplace=True)\n",
    "        self.dropout1 = nn.Dropout(dp)\n",
    "        self.fc2 = nn.Linear(d_h1, d_h2)\n",
    "        self.ln2 = nn.LayerNorm(d_h2)\n",
    "        self.relu2 = nn.ReLU(inplace=True)\n",
    "        self.dropout2 = nn.Dropout(dp)\n",
    "        self.fc3 = nn.Linear(d_h2, d_out)\n",
    "\n",
    "    def forward(self, x):\n",
    "        x = self.fc1(x)\n",
    "        x = self.ln1(x)\n",
    "        x = self.relu1(x)\n",
    "        x = self.dropout1(x)\n",
    "        x = self.fc2(x)\n",
    "        x = self.ln2(x)\n",
    "        x = self.relu2(x)\n",
    "        x = self.dropout2(x)\n",
    "        x = self.fc3(x)\n",
    "        return x\n",
    "    \n",
    "    def before_lastlinear(self, x):\n",
    "        x = self.fc1(x)\n",
    "        x = self.ln1(x)\n",
    "        x = self.relu1(x)\n",
    "        x = self.dropout1(x)\n",
    "        x = self.fc2(x)\n",
    "        x = self.ln2(x)\n",
    "        x = self.relu2(x)\n",
    "        x = self.dropout2(x)\n",
    "        return x\n",
    "\n",
    "        "
   ]
  },
  {
   "cell_type": "code",
   "execution_count": 12,
   "metadata": {},
   "outputs": [],
   "source": [
    "def weights_init(m):\n",
    "    if type(m) == nn.Linear:\n",
    "        torch.nn.init.xavier_uniform_(m.weight)\n",
    "    elif type(m) == nn.LayerNorm:\n",
    "        torch.nn.init.normal_(m.weight, 1.0, 0.02)\n",
    "        torch.nn.init.constant_(m.bias, 0)\n"
   ]
  },
  {
   "cell_type": "code",
   "execution_count": 13,
   "metadata": {},
   "outputs": [
    {
     "name": "stdout",
     "output_type": "stream",
     "text": [
      "cuda:0\n"
     ]
    },
    {
     "data": {
      "text/plain": [
       "FNN(\n",
       "  (fc1): Linear(in_features=300, out_features=1000, bias=True)\n",
       "  (ln1): LayerNorm((1000,), eps=1e-05, elementwise_affine=True)\n",
       "  (relu1): ReLU(inplace=True)\n",
       "  (dropout1): Dropout(p=0.2, inplace=False)\n",
       "  (fc2): Linear(in_features=1000, out_features=500, bias=True)\n",
       "  (ln2): LayerNorm((500,), eps=1e-05, elementwise_affine=True)\n",
       "  (relu2): ReLU(inplace=True)\n",
       "  (dropout2): Dropout(p=0.2, inplace=False)\n",
       "  (fc3): Linear(in_features=500, out_features=2, bias=True)\n",
       ")"
      ]
     },
     "execution_count": 13,
     "metadata": {},
     "output_type": "execute_result"
    }
   ],
   "source": [
    "\n",
    "device = torch.device('cuda:{}'.format(args.gpu_num) if torch.cuda.is_available() else 'cpu')\n",
    "print(device)\n",
    "torch.manual_seed(args.seed)\n",
    "torch.cuda.manual_seed(args.seed)\n",
    "np.random.seed(args.seed)\n",
    "\n",
    "encoder = Encoder().to(device)\n",
    "CNet = FNN(d_in=300, d_h1=1000, d_h2=500, d_out=10, dp=0.2).to(device)\n",
    "DomainCNet = FNN(d_in=300, d_h1=1000, d_h2=500, d_out=2, dp=0.2).to(device)\n",
    "\n",
    "\n",
    "\n",
    "\n",
    "optimizerEncoder = optim.Adam(encoder.parameters(), lr=args.learning_rate)\n",
    "optimizerCNet = optim.Adam(CNet.parameters(), lr=args.learning_rate)\n",
    "optimizerDomainCNet = optim.Adam(DomainCNet.parameters(), lr=args.learning_rate)\n",
    "\n",
    "criterion_classifier = nn.CrossEntropyLoss().to(device)\n",
    "# criterion_adverisal = \n",
    "\n",
    "encoder.apply(weights_init)\n",
    "CNet.apply(weights_init)\n",
    "DomainCNet.apply(weights_init)"
   ]
  },
  {
   "cell_type": "markdown",
   "metadata": {},
   "source": [
    "# Train"
   ]
  },
  {
   "cell_type": "code",
   "execution_count": 27,
   "metadata": {},
   "outputs": [
    {
     "name": "stdout",
     "output_type": "stream",
     "text": [
      "Started Training\n",
      "Started Training\n"
     ]
    },
    {
     "name": "stderr",
     "output_type": "stream",
     "text": [
      "100%|██████████| 6/6 [00:02<00:00,  2.70it/s]\n",
      "100%|██████████| 3/3 [00:00<00:00,  6.25it/s]\n",
      "100%|██████████| 4/4 [00:00<00:00, 10.33it/s]"
     ]
    },
    {
     "name": "stdout",
     "output_type": "stream",
     "text": [
      "Epochs 1: source train acc: 0.164243; source test acc: 0.229541; domain acc: 10.000000; target test acc: 0.204878\n",
      "Epochs 1: source train acc: 0.164243; source test acc: 0.229541; domain acc: 10.000000; target test acc: 0.204878\n"
     ]
    },
    {
     "name": "stderr",
     "output_type": "stream",
     "text": [
      "\n",
      "100%|██████████| 6/6 [00:01<00:00,  3.26it/s]\n",
      "100%|██████████| 3/3 [00:00<00:00,  6.26it/s]\n",
      "100%|██████████| 4/4 [00:00<00:00, 10.16it/s]"
     ]
    },
    {
     "name": "stdout",
     "output_type": "stream",
     "text": [
      "Epochs 2: source train acc: 0.213003; source test acc: 0.229541; domain acc: 10.000000; target test acc: 0.204878\n",
      "Epochs 2: source train acc: 0.213003; source test acc: 0.229541; domain acc: 10.000000; target test acc: 0.204878\n"
     ]
    },
    {
     "name": "stderr",
     "output_type": "stream",
     "text": [
      "\n",
      "100%|██████████| 6/6 [00:01<00:00,  3.36it/s]\n",
      "100%|██████████| 3/3 [00:00<00:00,  6.12it/s]\n",
      "100%|██████████| 4/4 [00:00<00:00, 10.23it/s]"
     ]
    },
    {
     "name": "stdout",
     "output_type": "stream",
     "text": [
      "Epochs 3: source train acc: 0.226689; source test acc: 0.229541; domain acc: 10.000000; target test acc: 0.204878\n",
      "Epochs 3: source train acc: 0.226689; source test acc: 0.229541; domain acc: 10.000000; target test acc: 0.204878\n"
     ]
    },
    {
     "name": "stderr",
     "output_type": "stream",
     "text": [
      "\n",
      "100%|██████████| 6/6 [00:01<00:00,  3.22it/s]\n",
      "100%|██████████| 3/3 [00:00<00:00,  5.68it/s]\n",
      "100%|██████████| 4/4 [00:00<00:00, 10.42it/s]"
     ]
    },
    {
     "name": "stdout",
     "output_type": "stream",
     "text": [
      "Epochs 4: source train acc: 0.212147; source test acc: 0.229541; domain acc: 10.000000; target test acc: 0.204878\n",
      "Epochs 4: source train acc: 0.212147; source test acc: 0.229541; domain acc: 10.000000; target test acc: 0.204878\n"
     ]
    },
    {
     "name": "stderr",
     "output_type": "stream",
     "text": [
      "\n",
      "100%|██████████| 6/6 [00:01<00:00,  3.33it/s]\n",
      "100%|██████████| 3/3 [00:00<00:00,  6.21it/s]\n",
      "100%|██████████| 4/4 [00:00<00:00,  9.59it/s]"
     ]
    },
    {
     "name": "stdout",
     "output_type": "stream",
     "text": [
      "Epochs 5: source train acc: 0.207870; source test acc: 0.229541; domain acc: 10.000000; target test acc: 0.204878\n",
      "Epochs 5: source train acc: 0.207870; source test acc: 0.229541; domain acc: 10.000000; target test acc: 0.204878\n"
     ]
    },
    {
     "name": "stderr",
     "output_type": "stream",
     "text": [
      "\n",
      "100%|██████████| 6/6 [00:01<00:00,  3.21it/s]\n",
      "100%|██████████| 3/3 [00:00<00:00,  6.05it/s]\n",
      "100%|██████████| 4/4 [00:00<00:00, 10.47it/s]"
     ]
    },
    {
     "name": "stdout",
     "output_type": "stream",
     "text": [
      "Epochs 6: source train acc: 0.206159; source test acc: 0.229541; domain acc: 10.000000; target test acc: 0.204878\n",
      "Epochs 6: source train acc: 0.206159; source test acc: 0.229541; domain acc: 10.000000; target test acc: 0.204878\n"
     ]
    },
    {
     "name": "stderr",
     "output_type": "stream",
     "text": [
      "\n",
      "100%|██████████| 6/6 [00:01<00:00,  3.36it/s]\n",
      "100%|██████████| 3/3 [00:00<00:00,  6.23it/s]\n",
      "100%|██████████| 4/4 [00:00<00:00, 10.54it/s]"
     ]
    },
    {
     "name": "stdout",
     "output_type": "stream",
     "text": [
      "Epochs 7: source train acc: 0.234388; source test acc: 0.229541; domain acc: 10.000000; target test acc: 0.204878\n",
      "Epochs 7: source train acc: 0.234388; source test acc: 0.229541; domain acc: 10.000000; target test acc: 0.204878\n"
     ]
    },
    {
     "name": "stderr",
     "output_type": "stream",
     "text": [
      "\n",
      "100%|██████████| 6/6 [00:01<00:00,  3.30it/s]\n",
      "100%|██████████| 3/3 [00:00<00:00,  6.07it/s]\n",
      "100%|██████████| 4/4 [00:00<00:00, 10.67it/s]"
     ]
    },
    {
     "name": "stdout",
     "output_type": "stream",
     "text": [
      "Epochs 8: source train acc: 0.251497; source test acc: 0.229541; domain acc: 10.000000; target test acc: 0.204878\n",
      "Epochs 8: source train acc: 0.251497; source test acc: 0.229541; domain acc: 10.000000; target test acc: 0.204878\n"
     ]
    },
    {
     "name": "stderr",
     "output_type": "stream",
     "text": [
      "\n",
      "100%|██████████| 6/6 [00:01<00:00,  3.32it/s]\n",
      "100%|██████████| 3/3 [00:00<00:00,  6.19it/s]\n",
      "100%|██████████| 4/4 [00:00<00:00,  9.73it/s]"
     ]
    },
    {
     "name": "stdout",
     "output_type": "stream",
     "text": [
      "Epochs 9: source train acc: 0.218991; source test acc: 0.229541; domain acc: 10.000000; target test acc: 0.204878\n",
      "Epochs 9: source train acc: 0.218991; source test acc: 0.229541; domain acc: 10.000000; target test acc: 0.204878\n"
     ]
    },
    {
     "name": "stderr",
     "output_type": "stream",
     "text": [
      "\n",
      "100%|██████████| 6/6 [00:01<00:00,  3.22it/s]\n",
      "100%|██████████| 3/3 [00:00<00:00,  5.66it/s]\n",
      "100%|██████████| 4/4 [00:00<00:00, 10.04it/s]"
     ]
    },
    {
     "name": "stdout",
     "output_type": "stream",
     "text": [
      "Epochs 10: source train acc: 0.229256; source test acc: 0.229541; domain acc: 10.000000; target test acc: 0.204878\n",
      "Epochs 10: source train acc: 0.229256; source test acc: 0.229541; domain acc: 10.000000; target test acc: 0.204878\n"
     ]
    },
    {
     "name": "stderr",
     "output_type": "stream",
     "text": [
      "\n",
      "100%|██████████| 6/6 [00:01<00:00,  3.26it/s]\n",
      "100%|██████████| 3/3 [00:00<00:00,  6.17it/s]\n",
      "100%|██████████| 4/4 [00:00<00:00,  9.43it/s]"
     ]
    },
    {
     "name": "stdout",
     "output_type": "stream",
     "text": [
      "Epochs 11: source train acc: 0.247220; source test acc: 0.235529; domain acc: 10.000000; target test acc: 0.203252\n",
      "Epochs 11: source train acc: 0.247220; source test acc: 0.235529; domain acc: 10.000000; target test acc: 0.203252\n"
     ]
    },
    {
     "name": "stderr",
     "output_type": "stream",
     "text": [
      "\n",
      "100%|██████████| 6/6 [00:01<00:00,  3.21it/s]\n",
      "100%|██████████| 3/3 [00:00<00:00,  5.96it/s]\n",
      "100%|██████████| 4/4 [00:00<00:00,  8.91it/s]"
     ]
    },
    {
     "name": "stdout",
     "output_type": "stream",
     "text": [
      "Epochs 12: source train acc: 0.265184; source test acc: 0.295409; domain acc: 10.000000; target test acc: 0.201626\n",
      "Epochs 12: source train acc: 0.265184; source test acc: 0.295409; domain acc: 10.000000; target test acc: 0.201626\n"
     ]
    },
    {
     "name": "stderr",
     "output_type": "stream",
     "text": [
      "\n",
      "100%|██████████| 6/6 [00:01<00:00,  3.26it/s]\n",
      "100%|██████████| 3/3 [00:00<00:00,  6.06it/s]\n",
      "100%|██████████| 4/4 [00:00<00:00,  9.62it/s]"
     ]
    },
    {
     "name": "stdout",
     "output_type": "stream",
     "text": [
      "Epochs 13: source train acc: 0.285714; source test acc: 0.379242; domain acc: 10.000000; target test acc: 0.221138\n",
      "Epochs 13: source train acc: 0.285714; source test acc: 0.379242; domain acc: 10.000000; target test acc: 0.221138\n"
     ]
    },
    {
     "name": "stderr",
     "output_type": "stream",
     "text": [
      "\n",
      "100%|██████████| 6/6 [00:01<00:00,  3.30it/s]\n",
      "100%|██████████| 3/3 [00:00<00:00,  6.22it/s]\n",
      "100%|██████████| 4/4 [00:00<00:00,  9.81it/s]"
     ]
    },
    {
     "name": "stdout",
     "output_type": "stream",
     "text": [
      "Epochs 14: source train acc: 0.325920; source test acc: 0.375250; domain acc: 10.000000; target test acc: 0.221138\n",
      "Epochs 14: source train acc: 0.325920; source test acc: 0.375250; domain acc: 10.000000; target test acc: 0.221138\n"
     ]
    },
    {
     "name": "stderr",
     "output_type": "stream",
     "text": [
      "\n",
      "100%|██████████| 6/6 [00:01<00:00,  3.32it/s]\n",
      "100%|██████████| 3/3 [00:00<00:00,  5.99it/s]\n",
      "100%|██████████| 4/4 [00:00<00:00, 10.01it/s]"
     ]
    },
    {
     "name": "stdout",
     "output_type": "stream",
     "text": [
      "Epochs 15: source train acc: 0.347305; source test acc: 0.379242; domain acc: 10.000000; target test acc: 0.230894\n",
      "Epochs 15: source train acc: 0.347305; source test acc: 0.379242; domain acc: 10.000000; target test acc: 0.230894\n"
     ]
    },
    {
     "name": "stderr",
     "output_type": "stream",
     "text": [
      "\n",
      "100%|██████████| 6/6 [00:01<00:00,  3.31it/s]\n",
      "100%|██████████| 3/3 [00:00<00:00,  6.28it/s]\n",
      "100%|██████████| 4/4 [00:00<00:00, 10.18it/s]"
     ]
    },
    {
     "name": "stdout",
     "output_type": "stream",
     "text": [
      "Epochs 16: source train acc: 0.351583; source test acc: 0.381238; domain acc: 10.000000; target test acc: 0.230894\n",
      "Epochs 16: source train acc: 0.351583; source test acc: 0.381238; domain acc: 10.000000; target test acc: 0.230894\n"
     ]
    },
    {
     "name": "stderr",
     "output_type": "stream",
     "text": [
      "\n",
      "100%|██████████| 6/6 [00:01<00:00,  3.38it/s]\n",
      "100%|██████████| 3/3 [00:00<00:00,  6.18it/s]\n",
      "100%|██████████| 4/4 [00:00<00:00,  9.41it/s]"
     ]
    },
    {
     "name": "stdout",
     "output_type": "stream",
     "text": [
      "Epochs 17: source train acc: 0.378101; source test acc: 0.389222; domain acc: 10.000000; target test acc: 0.222764\n",
      "Epochs 17: source train acc: 0.378101; source test acc: 0.389222; domain acc: 10.000000; target test acc: 0.222764\n"
     ]
    },
    {
     "name": "stderr",
     "output_type": "stream",
     "text": [
      "\n",
      "100%|██████████| 6/6 [00:01<00:00,  3.31it/s]\n",
      "100%|██████████| 3/3 [00:00<00:00,  5.97it/s]\n",
      "100%|██████████| 4/4 [00:00<00:00, 10.49it/s]"
     ]
    },
    {
     "name": "stdout",
     "output_type": "stream",
     "text": [
      "Epochs 18: source train acc: 0.394354; source test acc: 0.385230; domain acc: 10.000000; target test acc: 0.227642\n",
      "Epochs 18: source train acc: 0.394354; source test acc: 0.385230; domain acc: 10.000000; target test acc: 0.227642\n"
     ]
    },
    {
     "name": "stderr",
     "output_type": "stream",
     "text": [
      "\n",
      "100%|██████████| 6/6 [00:01<00:00,  3.36it/s]\n",
      "100%|██████████| 3/3 [00:00<00:00,  6.25it/s]\n",
      "100%|██████████| 4/4 [00:00<00:00, 10.31it/s]"
     ]
    },
    {
     "name": "stdout",
     "output_type": "stream",
     "text": [
      "Epochs 19: source train acc: 0.396920; source test acc: 0.421158; domain acc: 10.000000; target test acc: 0.195122\n",
      "Epochs 19: source train acc: 0.396920; source test acc: 0.421158; domain acc: 10.000000; target test acc: 0.195122\n"
     ]
    },
    {
     "name": "stderr",
     "output_type": "stream",
     "text": [
      "\n",
      "100%|██████████| 6/6 [00:01<00:00,  3.39it/s]\n",
      "100%|██████████| 3/3 [00:00<00:00,  6.28it/s]\n",
      "100%|██████████| 4/4 [00:00<00:00, 10.68it/s]"
     ]
    },
    {
     "name": "stdout",
     "output_type": "stream",
     "text": [
      "Epochs 20: source train acc: 0.408896; source test acc: 0.429142; domain acc: 10.000000; target test acc: 0.175610\n",
      "Epochs 20: source train acc: 0.408896; source test acc: 0.429142; domain acc: 10.000000; target test acc: 0.175610\n"
     ]
    },
    {
     "name": "stderr",
     "output_type": "stream",
     "text": [
      "\n"
     ]
    }
   ],
   "source": [
    "target_acc_label_ = []\n",
    "source_acc_1_ = []\n",
    "source_acc_2_ = []\n",
    "source_acc_3_ = []\n",
    "source_test_acc_ = []\n",
    "target_test_acc_ = []\n",
    "domain_acc_ = []\n",
    "\n",
    "\n",
    "loss_source_1_[]\n",
    "loss_source_2_[]\n",
    "loss_source_3_[]\n",
    "\n",
    "logger.info('Started Training')\n",
    "\n",
    "\n",
    "for epoch in range(args.epochs):\n",
    "    # update classifier\n",
    "    # on source 1 domain p\n",
    "    CNet.train()\n",
    "    encoder.train()\n",
    "    source_acc_1 = 0.0\n",
    "    num_datas = 0.0\n",
    "    loss_source_1 = 0.0\n",
    "    for batch_id, (source_x, source_y) in tqdm(enumerate(p_train_dataloader), total=len(p_train_dataloader)):\n",
    "        optimizerCNet.zero_grad()\n",
    "        optimizerEncoder.zero_grad()\n",
    "        source_x = source_x.to(device).float()\n",
    "        source_y = source_y.to(device)\n",
    "        num_datas += source_x.size(0)\n",
    "        source_x_embedding = encoder(source_x)\n",
    "        pred = CNet(source_x_embedding)\n",
    "        source_acc_1 += (pred.argmax(-1) == source_y).sum().item()\n",
    "        loss = criterion_classifier(pred, source_y)\n",
    "        loss_source_1 += loss.item\n",
    "        loss.backward()\n",
    "        optimizerCNet.step()\n",
    "        optimizerEncoder.step()\n",
    "        \n",
    "        \n",
    "    source_acc_1 = source_acc_1 / num_datas\n",
    "    source_acc_1_.append(source_acc_1)\n",
    "    loss_source_1_.append(loss_source_1)\n",
    "    \n",
    "    \n",
    "    # on source 2 domain c\n",
    "    CNet.train()\n",
    "    encoder.train()\n",
    "    source_acc_2 = 0.0\n",
    "    num_datas = 0.0\n",
    "    loss_source_2 = 0.0\n",
    "    for batch_id, (source_x, source_y) in tqdm(enumerate(c_train_dataloader), total=len(c_train_dataloader)):\n",
    "        optimizerCNet.zero_grad()\n",
    "        optimizerEncoder.zero_grad()\n",
    "        source_x = source_x.to(device).float()\n",
    "        source_y = source_y.to(device)\n",
    "        num_datas += source_x.size(0)\n",
    "        source_x_embedding = encoder(source_x)\n",
    "        pred = CNet(source_x_embedding)\n",
    "        source_acc_2 += (pred.argmax(-1) == source_y).sum().item()\n",
    "        loss = criterion_classifier(pred, source_y)\n",
    "        loss_source_2 += loss.item()\n",
    "        loss.backward()\n",
    "        optimizerCNet.step()\n",
    "        optimizerEncoder.step()\n",
    "        \n",
    "        \n",
    "    source_acc_2 = source_acc_2 / num_datas\n",
    "    source_acc_2_.append(source_acc_2)\n",
    "    loss_source_2_.append(loss_source_2)\n",
    "    \n",
    "#     # DANN shuffle\n",
    "#     if args.is_shuffle != 0:\n",
    "#         accumulate_loss = 0.0\n",
    "#         domain_acc = 0.0\n",
    "#         DomainCNet.train()\n",
    "#         encoder.train()\n",
    "#         num_datas = 0.0\n",
    "#         for batch_id, (adv_x, adv_y) in tqdm(enumerate(adverial_loader), total=len(adverial_loader)):\n",
    "#             optimizerCNet.zero_grad()\n",
    "#             optimizerEncoder.zero_grad()\n",
    "#             adv_x = adv_x.to(device).float()\n",
    "#             adv_y = adv_y.to(device)\n",
    "#             num_datas += adv_x.size(0)\n",
    "#             adv_x_embedding = encoder(adv_x)\n",
    "#             pred = DomainCNet(adv_x_embedding)\n",
    "#             domain_acc += (pred.argmax(-1) == adv_y).sum().item()\n",
    "#             # adv_acc += (pred.argmax(-1) == adv_y).sum().item()\n",
    "#             loss = args.dann_weight * criterion_classifier(pred, adv_y)\n",
    "#             accumulate_loss += loss.item()\n",
    "#             loss.backward()\n",
    "            \n",
    "#             optimizerDomainCNet.step()\n",
    "#             if epoch >= args.start_shuffle_dann:\n",
    "#                 optimizerEncoder.step()    \n",
    "#         domain_acc = domain_acc / num_datas\n",
    "#         domain_acc_.append(domain_acc)\n",
    "#         if epoch == args.start_shuffle_dann:\n",
    "#             logger.info(\"Start update Encoder using shuffling loss!\")\n",
    "#         logger.info(\"Epoch {}: Shuffling loss {}; \".format(epoch, accumulate_loss))\n",
    "            \n",
    "        \n",
    "\n",
    "    \n",
    "    \n",
    "    \n",
    "    \n",
    "    # eval on source   \n",
    "    source_test_acc = 0.0\n",
    "    num_datas = 0.0\n",
    "    CNet.eval()\n",
    "    encoder.eval()\n",
    "    \n",
    "    for batch_id, (source_x, source_y) in tqdm(enumerate(p_test_dataloader), total=len(p_test_dataloader)):\n",
    "        optimizerCNet.zero_grad()\n",
    "        optimizerEncoder.zero_grad()\n",
    "        source_x = source_x.to(device).float()\n",
    "        source_y = source_y.to(device)\n",
    "        num_datas += source_x.size(0)\n",
    "        source_x_embedding = encoder(source_x)\n",
    "        pred = CNet(source_x_embedding)\n",
    "        source_test_acc += (pred.argmax(-1) == source_y).sum().item()\n",
    "        \n",
    "    source_test_acc = source_test_acc / num_datas\n",
    "    source_test_acc_.append(source_test_acc)\n",
    "    \n",
    "    # eval on target \n",
    "    num_datas = 0.0\n",
    "    target_test_acc = 0.0\n",
    "    for batch_id, (target_x, target_y) in tqdm(enumerate(a_test_dataloader), total=len(a_test_dataloader)):\n",
    "        optimizerCNet.zero_grad()\n",
    "        optimizerEncoder.zero_grad()\n",
    "        target_x = target_x.to(device).float()\n",
    "        target_y = target_y.to(device)\n",
    "        num_datas += target_x.size(0)\n",
    "        target_x_embedding = encoder(target_x)\n",
    "        pred = CNet(target_x_embedding)\n",
    "        target_test_acc += (pred.argmax(-1) == target_y).sum().item()\n",
    "    \n",
    "    target_test_acc = target_test_acc / num_datas\n",
    "    target_test_acc_.append(target_test_acc)\n",
    "    \n",
    "    if epoch % args.model_save_period == 0:\n",
    "        torch.save(DomainCNet.state_dict(), os.path.join(save_folder, 'DomainCNet_%i.t7'%(epoch+1)))\n",
    "        torch.save(encoder.state_dict(), os.path.join(save_folder, 'encoder_%i.t7'%(epoch+1)))\n",
    "        torch.save(CNet.state_dict(), os.path.join(save_folder, 'CNet_%i.t7'%(epoch+1)))\n",
    "\n",
    "    \n",
    "    logger.info('Epochs %i: source train acc: %f; source test acc: %f; domain acc: %f; target test acc: %f'%(epoch+1, source_acc, source_test_acc, 10, target_test_acc))\n",
    "    np.save(os.path.join(args.save_path, model_sub_folder, 'source_acc_.npy'),source_acc_)\n",
    "    #np.save(os.path.join(args.save_path, model_sub_folder, 'source_test_acc_.npy'),source_test_acc_)\n",
    "    np.save(os.path.join(args.save_path, model_sub_folder, 'target_test_acc_.npy'),target_test_acc_)\n",
    "    #np.save(os.path.join(args.save_path, model_sub_folder, 'domain_acc_.npy'),domain_acc_)\n"
   ]
  },
  {
   "cell_type": "code",
   "execution_count": null,
   "metadata": {},
   "outputs": [],
   "source": []
  }
 ],
 "metadata": {
  "kernelspec": {
   "display_name": "Python 3",
   "language": "python",
   "name": "python3"
  },
  "language_info": {
   "codemirror_mode": {
    "name": "ipython",
    "version": 3
   },
   "file_extension": ".py",
   "mimetype": "text/x-python",
   "name": "python",
   "nbconvert_exporter": "python",
   "pygments_lexer": "ipython3",
   "version": "3.8.2"
  }
 },
 "nbformat": 4,
 "nbformat_minor": 4
}
