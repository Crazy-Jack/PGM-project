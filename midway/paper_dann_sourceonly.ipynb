{
 "cells": [
  {
   "cell_type": "code",
   "execution_count": 28,
   "metadata": {},
   "outputs": [],
   "source": [
    "import torch\n",
    "import torchvision\n",
    "import torchvision.datasets as datasets\n",
    "from tqdm import tqdm\n",
    "import argparse\n",
    "from torch.utils.data import Dataset, DataLoader\n",
    "import torch.nn as nn\n",
    "import torch.nn.functional as F\n",
    "import torch.optim as optim\n",
    "import numpy as np\n",
    "import matplotlib.pyplot as plt\n",
    "import torch.backends.cudnn as cudnn\n",
    "import os\n",
    "import sys\n",
    "import logging\n",
    "import logging.handlers\n",
    "from PIL import Image"
   ]
  },
  {
   "cell_type": "markdown",
   "metadata": {},
   "source": [
    "# Parser"
   ]
  },
  {
   "cell_type": "code",
   "execution_count": 29,
   "metadata": {},
   "outputs": [
    {
     "name": "stderr",
     "output_type": "stream",
     "text": [
      "usage: ipykernel_launcher.py [-h] [--batch_size BATCH_SIZE]\n",
      "                             [--learning_rate LEARNING_RATE]\n",
      "                             [--momentum MOMENTUM] [--gpu_num GPU_NUM]\n",
      "                             [--seed SEED] [--save_path SAVE_PATH]\n",
      "                             [--subfolder SUBFOLDER] [--wtarget WTARGET]\n",
      "                             [--model_save_period MODEL_SAVE_PERIOD]\n",
      "ipykernel_launcher.py: error: unrecognized arguments: -f C:\\Users\\Tianqin Li\\AppData\\Roaming\\jupyter\\runtime\\kernel-6d6e9859-66d6-4d72-9288-8a46d5bf98bc.json\n"
     ]
    },
    {
     "ename": "SystemExit",
     "evalue": "2",
     "output_type": "error",
     "traceback": [
      "An exception has occurred, use %tb to see the full traceback.\n",
      "\u001b[1;31mSystemExit\u001b[0m\u001b[1;31m:\u001b[0m 2\n"
     ]
    },
    {
     "name": "stderr",
     "output_type": "stream",
     "text": [
      "C:\\Users\\Tianqin Li\\anaconda3\\envs\\russ-local\\lib\\site-packages\\IPython\\core\\interactiveshell.py:3339: UserWarning: To exit: use 'exit', 'quit', or Ctrl-D.\n",
      "  warn(\"To exit: use 'exit', 'quit', or Ctrl-D.\", stacklevel=1)\n"
     ]
    }
   ],
   "source": [
    "parser = argparse.ArgumentParser(description='Domain adaptation')\n",
    "parser.add_argument(\"--batch_size\", type=int, default=\"100\", help=\"batch size\")\n",
    "parser.add_argument(\"--learning_rate\", type=float, default=1e-2, help=\"learning rate\")\n",
    "parser.add_argument(\"--momentum\", type=float, default=0.5, help=\"momentum\")\n",
    "parser.add_argument(\"--gpu_num\", type=int, default=0, help=\"gpu num\")\n",
    "parser.add_argument(\"--seed\", type=int, default=123, help=\"munually set seed\")\n",
    "parser.add_argument(\"--save_path\", type=str, default=r\"C:\\Users\\Tianqin Li\\Code\\PGM-project\\train_related\", help=\"save path\")\n",
    "parser.add_argument(\"--subfolder\", type=str, default=r'\\baseline_st', help=\"subfolder name\")\n",
    "parser.add_argument(\"--wtarget\", type=float, default=0.7, help=\"target weight\")\n",
    "parser.add_argument(\"--model_save_period\", type=int, default=2, help=\"save period\")\n",
    "\n",
    "\n",
    "args = parser.parse_args()"
   ]
  },
  {
   "cell_type": "markdown",
   "metadata": {},
   "source": [
    "# local only"
   ]
  },
  {
   "cell_type": "code",
   "execution_count": 30,
   "metadata": {},
   "outputs": [],
   "source": [
    "# local only\n",
    "class local_args:\n",
    "    def __init__(self, **entries):\n",
    "        self.__dict__.update(entries)\n",
    "        \n",
    "args = local_args(**{\n",
    "    'batch_size': 400,\n",
    "    'learning_rate': 1e-3,\n",
    "    'momentum': 0.5,\n",
    "    'gpu_num': 0,\n",
    "    'seed': 123,\n",
    "    'save_path': r\"C:\\Users\\Tianqin Li\\Code\\PGM-project\\train_related\",\n",
    "    'epochs': 200,\n",
    "    'subfolder': r'\\paper_dann_source_only_shffle',\n",
    "    'wtarget': 0.7,\n",
    "    'dann_weight': 1e-2,\n",
    "    'model_save_period': 2,\n",
    "})"
   ]
  },
  {
   "cell_type": "code",
   "execution_count": 31,
   "metadata": {},
   "outputs": [],
   "source": [
    "\n",
    "device = torch.device('cuda:{}'.format(args.gpu_num) if torch.cuda.is_available() else 'cpu')\n",
    "# seed\n",
    "torch.manual_seed(args.seed)\n",
    "torch.cuda.manual_seed(args.seed)\n",
    "np.random.seed(args.seed)\n",
    "cudnn.deterministic = True\n",
    "torch.backends.cudnn.deterministic = True\n",
    "\n",
    "\n",
    "\n",
    "device = torch.device('cuda:{}'.format(args.gpu_num) if torch.cuda.is_available() else 'cpu')\n",
    "\n",
    " \n",
    "model_sub_folder = args.subfolder + '\\wtarget_%f_dann_weight_%f_learningrate_%f'%(args.wtarget, args.dann_weight, args.learning_rate)\n",
    "\n",
    "if not os.path.exists(args.save_path+model_sub_folder):\n",
    "    os.makedirs(args.save_path+model_sub_folder)"
   ]
  },
  {
   "cell_type": "code",
   "execution_count": 32,
   "metadata": {},
   "outputs": [
    {
     "name": "stdout",
     "output_type": "stream",
     "text": [
      "batch_size: 400\n",
      "batch_size: 400\n",
      "learning_rate: 0.001\n",
      "learning_rate: 0.001\n",
      "momentum: 0.5\n",
      "momentum: 0.5\n",
      "gpu_num: 0\n",
      "gpu_num: 0\n",
      "seed: 123\n",
      "seed: 123\n",
      "save_path: C:\\Users\\Tianqin Li\\Code\\PGM-project\\train_related\n",
      "save_path: C:\\Users\\Tianqin Li\\Code\\PGM-project\\train_related\n",
      "epochs: 200\n",
      "epochs: 200\n",
      "subfolder: \\paper_dann_source_only_shffle\n",
      "subfolder: \\paper_dann_source_only_shffle\n",
      "wtarget: 0.7\n",
      "wtarget: 0.7\n",
      "dann_weight: 0.01\n",
      "dann_weight: 0.01\n",
      "model_save_period: 2\n",
      "model_save_period: 2\n"
     ]
    }
   ],
   "source": [
    "\n",
    "logger = logging.getLogger()\n",
    "logger.setLevel(logging.INFO)\n",
    "\n",
    "if os.path.isfile(args.save_path+model_sub_folder+ '\\logfile.log'):\n",
    "    os.remove(args.save_path+model_sub_folder+ '\\logfile.log')\n",
    "    \n",
    "file_log_handler = logging.FileHandler(args.save_path+model_sub_folder+ '\\logfile.log')\n",
    "logger.addHandler(file_log_handler)\n",
    "\n",
    "stdout_log_handler = logging.StreamHandler(sys.stdout)\n",
    "logger.addHandler(stdout_log_handler)\n",
    "\n",
    "attrs = vars(args)\n",
    "for item in attrs.items():\n",
    "    logger.info(\"%s: %s\"%item)\n"
   ]
  },
  {
   "cell_type": "markdown",
   "metadata": {},
   "source": [
    "# Data loader"
   ]
  },
  {
   "cell_type": "code",
   "execution_count": 33,
   "metadata": {},
   "outputs": [],
   "source": [
    "mnist_trainset = datasets.MNIST(root='./data', train=True, download=True, transform=torchvision.transforms.Compose([\n",
    "                               torchvision.transforms.ToTensor(),\n",
    "                               torchvision.transforms.Normalize(\n",
    "                                 (0.1307,), (0.3081,))\n",
    "                             ]))"
   ]
  },
  {
   "cell_type": "code",
   "execution_count": 34,
   "metadata": {},
   "outputs": [],
   "source": [
    "mnist_testset = datasets.MNIST(root='./data', train=False, download=True, transform=torchvision.transforms.Compose([\n",
    "                               torchvision.transforms.ToTensor(),\n",
    "                               torchvision.transforms.Normalize(\n",
    "                                 (0.1307,), (0.3081,))\n",
    "                             ]))"
   ]
  },
  {
   "cell_type": "code",
   "execution_count": 35,
   "metadata": {},
   "outputs": [
    {
     "name": "stdout",
     "output_type": "stream",
     "text": [
      "Using downloaded and verified file: ./data\\train_32x32.mat\n"
     ]
    }
   ],
   "source": [
    "svhn_trainset = datasets.SVHN(root='./data', split='train', download=True, transform=torchvision.transforms.Compose([\n",
    "                    torchvision.transforms.Resize((28, 28)),\n",
    "                    torchvision.transforms.Grayscale(num_output_channels=1),\n",
    "                    torchvision.transforms.ToTensor(),\n",
    "                    torchvision.transforms.Normalize([0.5], [0.5])]))"
   ]
  },
  {
   "cell_type": "code",
   "execution_count": 36,
   "metadata": {},
   "outputs": [
    {
     "name": "stdout",
     "output_type": "stream",
     "text": [
      "Using downloaded and verified file: ./data\\test_32x32.mat\n"
     ]
    }
   ],
   "source": [
    "svhn_testset = datasets.SVHN(root='./data', split='test', download=True, transform=torchvision.transforms.Compose([\n",
    "                    torchvision.transforms.Resize((28, 28)),\n",
    "                    torchvision.transforms.Grayscale(num_output_channels=1),\n",
    "                    torchvision.transforms.ToTensor(),\n",
    "                    torchvision.transforms.Normalize([0.5], [0.5])]))"
   ]
  },
  {
   "cell_type": "code",
   "execution_count": 37,
   "metadata": {},
   "outputs": [],
   "source": [
    "# # mnist\n",
    "# train_mnist_loader = DataLoader(mnist_trainset, batch_size=args.batch_size, shuffle=True)\n",
    "# test_mnist_loader = DataLoader(mnist_testset, batch_size=args.batch_size, shuffle=True)\n",
    "# examples = enumerate(test_mnist_loader)\n",
    "# batch_idx, (example_data, example_targets) = next(examples)\n",
    "\n",
    "\n",
    "# fig = plt.figure()\n",
    "# for i in range(6):\n",
    "#   plt.subplot(2,3,i+1)\n",
    "#   plt.tight_layout()\n",
    "#   plt.imshow(example_data[i][0], cmap='gray', interpolation='none')\n",
    "#   plt.title(\"Ground Truth: {}\".format(example_targets[i]))\n",
    "#   plt.xticks([])\n",
    "#   plt.yticks([])"
   ]
  },
  {
   "cell_type": "code",
   "execution_count": 38,
   "metadata": {},
   "outputs": [],
   "source": [
    "# # svhn\n",
    "# train_svhn_loader = DataLoader(svhn_trainset, batch_size=args.batch_size, shuffle=True)\n",
    "# test_svhn_loader = DataLoader(svhn_trainset, batch_size=args.batch_size, shuffle=True)\n",
    "# examples = enumerate(train_svhn_loader)\n",
    "# batch_idx, (example_data, example_targets) = next(examples)\n",
    "\n",
    "\n",
    "# fig = plt.figure()\n",
    "# for i in range(6):\n",
    "#   plt.subplot(2,3,i+1)\n",
    "#   plt.tight_layout()\n",
    "#   plt.imshow(example_data[i][0], cmap='gray', interpolation='none')\n",
    "#   plt.title(\"Ground Truth: {}\".format(example_targets[i]))\n",
    "#   plt.xticks([])\n",
    "#   plt.yticks([])"
   ]
  },
  {
   "cell_type": "code",
   "execution_count": 39,
   "metadata": {},
   "outputs": [],
   "source": [
    "# reload data\n",
    "train_mnist_loader = DataLoader(mnist_trainset, batch_size=args.batch_size, shuffle=True)\n",
    "test_mnist_loader = DataLoader(mnist_testset, batch_size=args.batch_size, shuffle=True)\n",
    "train_svhn_loader = DataLoader(svhn_trainset, batch_size=args.batch_size, shuffle=True)\n",
    "test_svhn_loader = DataLoader(svhn_trainset, batch_size=args.batch_size, shuffle=True)"
   ]
  },
  {
   "cell_type": "markdown",
   "metadata": {},
   "source": [
    "## Process data for cancat with source and target label"
   ]
  },
  {
   "cell_type": "code",
   "execution_count": 40,
   "metadata": {},
   "outputs": [],
   "source": [
    "class ConcatDataset(Dataset):\n",
    "    def __init__(self, x, y, mode='mnist'):\n",
    "        self.x = x\n",
    "        self.y = y\n",
    "        self.len = self.x.shape[0]\n",
    "        self.mode = mode\n",
    "        if self.mode == 'mnist':\n",
    "            self.transform = torchvision.transforms.Compose([\n",
    "                               torchvision.transforms.ToTensor(),\n",
    "                               torchvision.transforms.Normalize(\n",
    "                                 (0.1307,), (0.3081,))\n",
    "                             ])\n",
    "        elif self.mode == 'svhn':\n",
    "            self.transform = torchvision.transforms.Compose([\n",
    "                    torchvision.transforms.Resize((28, 28)),\n",
    "                    torchvision.transforms.Grayscale(num_output_channels=1),\n",
    "                    torchvision.transforms.ToTensor(),\n",
    "                    torchvision.transforms.Normalize([0.5], [0.5])])\n",
    "\n",
    "    def __len__(self):\n",
    "        return self.len\n",
    "    \n",
    "    def __getitem__(self, index):\n",
    "        if self.mode == 'mnist':\n",
    "            img = Image.fromarray(self.x[index].numpy(), mode='L')\n",
    "            img = self.transform(img)\n",
    "        elif self.mode == 'svhn':\n",
    "            img = Image.fromarray(np.transpose(self.x[index], (1, 2, 0)))\n",
    "            img = self.transform(img)\n",
    "    \n",
    "        return img, self.y[index]"
   ]
  },
  {
   "cell_type": "code",
   "execution_count": 41,
   "metadata": {},
   "outputs": [],
   "source": [
    "\n",
    "concat_mnist_train = ConcatDataset(mnist_trainset.data, torch.zeros(mnist_trainset.data.shape[0], dtype=torch.long), mode = 'mnist')\n",
    "concat_svhn_train = ConcatDataset(svhn_trainset.data, torch.ones(svhn_trainset.data.shape[0], dtype=torch.long), mode = 'svhn')\n",
    "\n",
    "\n",
    "adverial_dataset = torch.utils.data.ConcatDataset([concat_mnist_train, concat_svhn_train])\n",
    "# [i[1] for i in [adverial_dataset[m] for m in torch.randint(0, len(adverial_dataset), (100,))]]\n",
    "adverial_loader = DataLoader(adverial_dataset, batch_size=args.batch_size, shuffle=True)"
   ]
  },
  {
   "cell_type": "code",
   "execution_count": null,
   "metadata": {},
   "outputs": [],
   "source": []
  },
  {
   "cell_type": "markdown",
   "metadata": {},
   "source": [
    "# Model"
   ]
  },
  {
   "cell_type": "code",
   "execution_count": 42,
   "metadata": {},
   "outputs": [],
   "source": [
    "class Encoder(nn.Module):\n",
    "    def __init__(self):\n",
    "        super(Encoder, self).__init__()\n",
    "        self.conv1 = nn.Conv2d(1, 10, kernel_size=5)\n",
    "        self.conv2 = nn.Conv2d(10, 20, kernel_size=5)\n",
    "        self.conv2_drop = nn.Dropout2d()\n",
    "        self.fc1 = nn.Linear(320, 50)\n",
    "        self.fc2 = nn.Linear(50, 30)\n",
    "\n",
    "    def forward(self, x):\n",
    "        x = F.relu(F.max_pool2d(self.conv1(x), 2))\n",
    "        x = F.relu(F.max_pool2d(self.conv2_drop(self.conv2(x)), 2))\n",
    "        x = x.view(-1, 320)\n",
    "        x = F.relu(self.fc1(x))\n",
    "        x = F.dropout(x, training=self.training)\n",
    "        x = self.fc2(x)\n",
    "        return x"
   ]
  },
  {
   "cell_type": "code",
   "execution_count": 43,
   "metadata": {},
   "outputs": [],
   "source": [
    "class FNN(nn.Module):\n",
    "    def __init__(self, d_in, d_h1, d_h2, d_out, dp=0.2):\n",
    "        super(FNN, self).__init__()\n",
    "        self.fc1 = nn.Linear(d_in, d_h1)\n",
    "        self.ln1 = nn.LayerNorm(d_h1)\n",
    "        self.relu1 = nn.ReLU(inplace=True)\n",
    "        self.dropout1 = nn.Dropout(dp)\n",
    "        self.fc2 = nn.Linear(d_h1, d_h2)\n",
    "        self.ln2 = nn.LayerNorm(d_h2)\n",
    "        self.relu2 = nn.ReLU(inplace=True)\n",
    "        self.dropout2 = nn.Dropout(dp)\n",
    "        self.fc3 = nn.Linear(d_h2, d_out)\n",
    "\n",
    "    def forward(self, x):\n",
    "        x = self.fc1(x)\n",
    "        x = self.ln1(x)\n",
    "        x = self.relu1(x)\n",
    "        x = self.dropout1(x)\n",
    "        x = self.fc2(x)\n",
    "        x = self.ln2(x)\n",
    "        x = self.relu2(x)\n",
    "        x = self.dropout2(x)\n",
    "        x = self.fc3(x)\n",
    "\n",
    "        return x"
   ]
  },
  {
   "cell_type": "code",
   "execution_count": 44,
   "metadata": {},
   "outputs": [],
   "source": [
    "class Adversial_loss(nn.Module):\n",
    "    def __init__(self):\n",
    "        super(Adversial_loss, self).__init__()\n",
    "    \n",
    "    def forward(self):\n",
    "        pass"
   ]
  },
  {
   "cell_type": "code",
   "execution_count": 45,
   "metadata": {},
   "outputs": [],
   "source": [
    "def weights_init(m):\n",
    "    if type(m) == nn.Linear:\n",
    "        torch.nn.init.xavier_uniform_(m.weight)\n",
    "    elif type(m) == nn.LayerNorm:\n",
    "        torch.nn.init.normal_(m.weight, 1.0, 0.02)\n",
    "        torch.nn.init.constant_(m.bias, 0)\n"
   ]
  },
  {
   "cell_type": "code",
   "execution_count": 46,
   "metadata": {},
   "outputs": [
    {
     "name": "stdout",
     "output_type": "stream",
     "text": [
      "cuda:0\n"
     ]
    },
    {
     "data": {
      "text/plain": [
       "FNN(\n",
       "  (fc1): Linear(in_features=30, out_features=100, bias=True)\n",
       "  (ln1): LayerNorm((100,), eps=1e-05, elementwise_affine=True)\n",
       "  (relu1): ReLU(inplace=True)\n",
       "  (dropout1): Dropout(p=0.2, inplace=False)\n",
       "  (fc2): Linear(in_features=100, out_features=100, bias=True)\n",
       "  (ln2): LayerNorm((100,), eps=1e-05, elementwise_affine=True)\n",
       "  (relu2): ReLU(inplace=True)\n",
       "  (dropout2): Dropout(p=0.2, inplace=False)\n",
       "  (fc3): Linear(in_features=100, out_features=2, bias=True)\n",
       ")"
      ]
     },
     "execution_count": 46,
     "metadata": {},
     "output_type": "execute_result"
    }
   ],
   "source": [
    "\n",
    "device = torch.device('cuda:{}'.format(args.gpu_num) if torch.cuda.is_available() else 'cpu')\n",
    "print(device)\n",
    "torch.manual_seed(args.seed)\n",
    "torch.cuda.manual_seed(args.seed)\n",
    "np.random.seed(args.seed)\n",
    "\n",
    "encoder = Encoder().to(device)\n",
    "CNet = FNN(d_in=30, d_h1=100, d_h2=100, d_out=10, dp=0.2).to(device)\n",
    "DomainCNet = FNN(d_in=30, d_h1=100, d_h2=100, d_out=2, dp=0.2).to(device)\n",
    "\n",
    "\n",
    "\n",
    "\n",
    "optimizerEncoder = optim.Adam(encoder.parameters(), lr=args.learning_rate)\n",
    "optimizerCNet = optim.Adam(CNet.parameters(), lr=args.learning_rate)\n",
    "optimizerDomainCNet = optim.Adam(DomainCNet.parameters(), lr=args.learning_rate)\n",
    "\n",
    "criterion_classifier = nn.CrossEntropyLoss().to(device)\n",
    "# criterion_adverisal = \n",
    "\n",
    "encoder.apply(weights_init)\n",
    "CNet.apply(weights_init)\n",
    "DomainCNet.apply(weights_init)"
   ]
  },
  {
   "cell_type": "markdown",
   "metadata": {},
   "source": [
    "# Train"
   ]
  },
  {
   "cell_type": "code",
   "execution_count": 48,
   "metadata": {},
   "outputs": [
    {
     "name": "stdout",
     "output_type": "stream",
     "text": [
      "Started Training\n",
      "Started Training\n"
     ]
    },
    {
     "name": "stderr",
     "output_type": "stream",
     "text": [
      "100%|██████████| 150/150 [00:07<00:00, 18.92it/s]\n",
      "100%|██████████| 334/334 [00:20<00:00, 16.44it/s]\n",
      "100%|██████████| 334/334 [00:20<00:00, 16.53it/s]\n"
     ]
    },
    {
     "name": "stdout",
     "output_type": "stream",
     "text": [
      "Epochs 1: source train acc: 0.977683; source test acc: 0.969800; target test acc: 0.159357\n",
      "Epochs 1: source train acc: 0.977683; source test acc: 0.969800; target test acc: 0.159357\n"
     ]
    },
    {
     "name": "stderr",
     "output_type": "stream",
     "text": [
      "100%|██████████| 150/150 [00:07<00:00, 19.28it/s]\n",
      "100%|██████████| 334/334 [00:20<00:00, 16.41it/s]\n",
      "100%|██████████| 334/334 [00:20<00:00, 16.55it/s]\n"
     ]
    },
    {
     "name": "stdout",
     "output_type": "stream",
     "text": [
      "Epochs 2: source train acc: 0.975617; source test acc: 0.991800; target test acc: 0.201414\n",
      "Epochs 2: source train acc: 0.975617; source test acc: 0.991800; target test acc: 0.201414\n"
     ]
    },
    {
     "name": "stderr",
     "output_type": "stream",
     "text": [
      "100%|██████████| 150/150 [00:07<00:00, 19.03it/s]\n",
      "100%|██████████| 334/334 [00:20<00:00, 16.35it/s]\n",
      "100%|██████████| 334/334 [00:20<00:00, 16.38it/s]\n"
     ]
    },
    {
     "name": "stdout",
     "output_type": "stream",
     "text": [
      "Epochs 3: source train acc: 0.976467; source test acc: 0.991800; target test acc: 0.207789\n",
      "Epochs 3: source train acc: 0.976467; source test acc: 0.991800; target test acc: 0.207789\n"
     ]
    },
    {
     "name": "stderr",
     "output_type": "stream",
     "text": [
      "100%|██████████| 150/150 [00:07<00:00, 19.03it/s]\n",
      "100%|██████████| 334/334 [00:20<00:00, 16.35it/s]\n",
      "100%|██████████| 334/334 [00:20<00:00, 16.43it/s]\n"
     ]
    },
    {
     "name": "stdout",
     "output_type": "stream",
     "text": [
      "Epochs 4: source train acc: 0.978333; source test acc: 0.989100; target test acc: 0.218450\n",
      "Epochs 4: source train acc: 0.978333; source test acc: 0.989100; target test acc: 0.218450\n"
     ]
    },
    {
     "name": "stderr",
     "output_type": "stream",
     "text": [
      "100%|██████████| 150/150 [00:08<00:00, 18.57it/s]\n",
      "100%|██████████| 334/334 [00:20<00:00, 16.32it/s]\n",
      "100%|██████████| 334/334 [00:20<00:00, 16.55it/s]\n"
     ]
    },
    {
     "name": "stdout",
     "output_type": "stream",
     "text": [
      "Epochs 5: source train acc: 0.976467; source test acc: 0.991000; target test acc: 0.210205\n",
      "Epochs 5: source train acc: 0.976467; source test acc: 0.991000; target test acc: 0.210205\n"
     ]
    },
    {
     "name": "stderr",
     "output_type": "stream",
     "text": [
      "100%|██████████| 150/150 [00:08<00:00, 18.62it/s]\n",
      "100%|██████████| 334/334 [00:20<00:00, 16.39it/s]\n",
      "100%|██████████| 334/334 [00:20<00:00, 16.42it/s]\n"
     ]
    },
    {
     "name": "stdout",
     "output_type": "stream",
     "text": [
      "Epochs 6: source train acc: 0.977250; source test acc: 0.306400; target test acc: 0.200322\n",
      "Epochs 6: source train acc: 0.977250; source test acc: 0.306400; target test acc: 0.200322\n"
     ]
    },
    {
     "name": "stderr",
     "output_type": "stream",
     "text": [
      "100%|██████████| 150/150 [00:08<00:00, 18.59it/s]\n",
      "100%|██████████| 334/334 [00:20<00:00, 16.35it/s]\n",
      "100%|██████████| 334/334 [00:20<00:00, 16.53it/s]\n"
     ]
    },
    {
     "name": "stdout",
     "output_type": "stream",
     "text": [
      "Epochs 7: source train acc: 0.951667; source test acc: 0.101400; target test acc: 0.196869\n",
      "Epochs 7: source train acc: 0.951667; source test acc: 0.101400; target test acc: 0.196869\n"
     ]
    },
    {
     "name": "stderr",
     "output_type": "stream",
     "text": [
      "100%|██████████| 150/150 [00:07<00:00, 18.98it/s]\n",
      "100%|██████████| 334/334 [00:20<00:00, 16.49it/s]\n",
      "100%|██████████| 334/334 [00:20<00:00, 16.31it/s]\n"
     ]
    },
    {
     "name": "stdout",
     "output_type": "stream",
     "text": [
      "Epochs 8: source train acc: 0.881250; source test acc: 0.124100; target test acc: 0.217754\n",
      "Epochs 8: source train acc: 0.881250; source test acc: 0.124100; target test acc: 0.217754\n"
     ]
    },
    {
     "name": "stderr",
     "output_type": "stream",
     "text": [
      "100%|██████████| 150/150 [00:08<00:00, 18.74it/s]\n",
      "100%|██████████| 334/334 [00:20<00:00, 16.33it/s]\n",
      "100%|██████████| 334/334 [00:20<00:00, 16.59it/s]\n"
     ]
    },
    {
     "name": "stdout",
     "output_type": "stream",
     "text": [
      "Epochs 9: source train acc: 0.895183; source test acc: 0.110100; target test acc: 0.224770\n",
      "Epochs 9: source train acc: 0.895183; source test acc: 0.110100; target test acc: 0.224770\n"
     ]
    },
    {
     "name": "stderr",
     "output_type": "stream",
     "text": [
      "100%|██████████| 150/150 [00:08<00:00, 18.50it/s]\n",
      "100%|██████████| 334/334 [00:20<00:00, 16.49it/s]\n",
      "100%|██████████| 334/334 [00:20<00:00, 16.35it/s]\n"
     ]
    },
    {
     "name": "stdout",
     "output_type": "stream",
     "text": [
      "Epochs 10: source train acc: 0.905617; source test acc: 0.204300; target test acc: 0.222081\n",
      "Epochs 10: source train acc: 0.905617; source test acc: 0.204300; target test acc: 0.222081\n"
     ]
    },
    {
     "name": "stderr",
     "output_type": "stream",
     "text": [
      "100%|██████████| 150/150 [00:08<00:00, 18.75it/s]\n",
      "100%|██████████| 334/334 [00:20<00:00, 16.29it/s]\n",
      "100%|██████████| 334/334 [00:20<00:00, 16.60it/s]\n"
     ]
    },
    {
     "name": "stdout",
     "output_type": "stream",
     "text": [
      "Epochs 11: source train acc: 0.915617; source test acc: 0.364900; target test acc: 0.214519\n",
      "Epochs 11: source train acc: 0.915617; source test acc: 0.364900; target test acc: 0.214519\n"
     ]
    },
    {
     "name": "stderr",
     "output_type": "stream",
     "text": [
      "100%|██████████| 150/150 [00:07<00:00, 18.92it/s]\n",
      "100%|██████████| 334/334 [00:20<00:00, 16.42it/s]\n",
      "100%|██████████| 334/334 [00:20<00:00, 16.23it/s]\n"
     ]
    },
    {
     "name": "stdout",
     "output_type": "stream",
     "text": [
      "Epochs 12: source train acc: 0.927250; source test acc: 0.324400; target test acc: 0.176898\n",
      "Epochs 12: source train acc: 0.927250; source test acc: 0.324400; target test acc: 0.176898\n"
     ]
    },
    {
     "name": "stderr",
     "output_type": "stream",
     "text": [
      "100%|██████████| 150/150 [00:07<00:00, 19.19it/s]\n",
      "100%|██████████| 334/334 [00:20<00:00, 16.20it/s]\n",
      "100%|██████████| 334/334 [00:20<00:00, 16.59it/s]\n"
     ]
    },
    {
     "name": "stdout",
     "output_type": "stream",
     "text": [
      "Epochs 13: source train acc: 0.929183; source test acc: 0.375400; target test acc: 0.140287\n",
      "Epochs 13: source train acc: 0.929183; source test acc: 0.375400; target test acc: 0.140287\n"
     ]
    },
    {
     "name": "stderr",
     "output_type": "stream",
     "text": [
      "100%|██████████| 150/150 [00:07<00:00, 18.95it/s]\n",
      "100%|██████████| 334/334 [00:20<00:00, 16.61it/s]\n",
      "100%|██████████| 334/334 [00:20<00:00, 16.33it/s]\n"
     ]
    },
    {
     "name": "stdout",
     "output_type": "stream",
     "text": [
      "Epochs 14: source train acc: 0.919600; source test acc: 0.257900; target test acc: 0.141597\n",
      "Epochs 14: source train acc: 0.919600; source test acc: 0.257900; target test acc: 0.141597\n"
     ]
    },
    {
     "name": "stderr",
     "output_type": "stream",
     "text": [
      "100%|██████████| 150/150 [00:07<00:00, 19.13it/s]\n",
      "100%|██████████| 334/334 [00:20<00:00, 16.24it/s]\n",
      "100%|██████████| 334/334 [00:20<00:00, 16.69it/s]\n"
     ]
    },
    {
     "name": "stdout",
     "output_type": "stream",
     "text": [
      "Epochs 15: source train acc: 0.878500; source test acc: 0.115000; target test acc: 0.115184\n",
      "Epochs 15: source train acc: 0.878500; source test acc: 0.115000; target test acc: 0.115184\n"
     ]
    },
    {
     "name": "stderr",
     "output_type": "stream",
     "text": [
      "100%|██████████| 150/150 [00:07<00:00, 18.92it/s]\n",
      "100%|██████████| 334/334 [00:20<00:00, 16.64it/s]\n",
      "100%|██████████| 334/334 [00:20<00:00, 16.34it/s]\n"
     ]
    },
    {
     "name": "stdout",
     "output_type": "stream",
     "text": [
      "Epochs 16: source train acc: 0.672600; source test acc: 0.097400; target test acc: 0.074546\n",
      "Epochs 16: source train acc: 0.672600; source test acc: 0.097400; target test acc: 0.074546\n"
     ]
    },
    {
     "name": "stderr",
     "output_type": "stream",
     "text": [
      "100%|██████████| 150/150 [00:07<00:00, 19.24it/s]\n",
      "100%|██████████| 334/334 [00:20<00:00, 16.29it/s]\n",
      "100%|██████████| 334/334 [00:19<00:00, 16.77it/s]\n"
     ]
    },
    {
     "name": "stdout",
     "output_type": "stream",
     "text": [
      "Epochs 17: source train acc: 0.559217; source test acc: 0.298400; target test acc: 0.079460\n",
      "Epochs 17: source train acc: 0.559217; source test acc: 0.298400; target test acc: 0.079460\n"
     ]
    },
    {
     "name": "stderr",
     "output_type": "stream",
     "text": [
      "100%|██████████| 150/150 [00:07<00:00, 19.68it/s]\n",
      "100%|██████████| 334/334 [00:19<00:00, 16.92it/s]\n",
      "100%|██████████| 334/334 [00:19<00:00, 17.04it/s]\n"
     ]
    },
    {
     "name": "stdout",
     "output_type": "stream",
     "text": [
      "Epochs 18: source train acc: 0.836600; source test acc: 0.502700; target test acc: 0.114897\n",
      "Epochs 18: source train acc: 0.836600; source test acc: 0.502700; target test acc: 0.114897\n"
     ]
    },
    {
     "name": "stderr",
     "output_type": "stream",
     "text": [
      "100%|██████████| 150/150 [00:07<00:00, 19.43it/s]\n",
      "100%|██████████| 334/334 [00:19<00:00, 16.85it/s]\n",
      "100%|██████████| 334/334 [00:19<00:00, 17.10it/s]\n"
     ]
    },
    {
     "name": "stdout",
     "output_type": "stream",
     "text": [
      "Epochs 19: source train acc: 0.829133; source test acc: 0.422700; target test acc: 0.200063\n",
      "Epochs 19: source train acc: 0.829133; source test acc: 0.422700; target test acc: 0.200063\n"
     ]
    },
    {
     "name": "stderr",
     "output_type": "stream",
     "text": [
      "100%|██████████| 150/150 [00:07<00:00, 19.67it/s]\n",
      "100%|██████████| 334/334 [00:19<00:00, 17.01it/s]\n",
      "100%|██████████| 334/334 [00:19<00:00, 17.11it/s]\n"
     ]
    },
    {
     "name": "stdout",
     "output_type": "stream",
     "text": [
      "Epochs 20: source train acc: 0.774133; source test acc: 0.177100; target test acc: 0.165404\n",
      "Epochs 20: source train acc: 0.774133; source test acc: 0.177100; target test acc: 0.165404\n"
     ]
    },
    {
     "name": "stderr",
     "output_type": "stream",
     "text": [
      "100%|██████████| 150/150 [00:07<00:00, 19.86it/s]\n",
      "100%|██████████| 334/334 [00:19<00:00, 17.02it/s]\n",
      "100%|██████████| 334/334 [00:19<00:00, 17.17it/s]\n"
     ]
    },
    {
     "name": "stdout",
     "output_type": "stream",
     "text": [
      "Epochs 21: source train acc: 0.634183; source test acc: 0.181300; target test acc: 0.121285\n",
      "Epochs 21: source train acc: 0.634183; source test acc: 0.181300; target test acc: 0.121285\n"
     ]
    },
    {
     "name": "stderr",
     "output_type": "stream",
     "text": [
      "100%|██████████| 150/150 [00:07<00:00, 19.79it/s]\n",
      "100%|██████████| 334/334 [00:19<00:00, 17.00it/s]\n",
      "100%|██████████| 334/334 [00:19<00:00, 17.16it/s]\n"
     ]
    },
    {
     "name": "stdout",
     "output_type": "stream",
     "text": [
      "Epochs 22: source train acc: 0.472533; source test acc: 0.107300; target test acc: 0.096291\n",
      "Epochs 22: source train acc: 0.472533; source test acc: 0.107300; target test acc: 0.096291\n"
     ]
    },
    {
     "name": "stderr",
     "output_type": "stream",
     "text": [
      "100%|██████████| 150/150 [00:07<00:00, 19.79it/s]\n",
      "100%|██████████| 334/334 [00:19<00:00, 17.05it/s]\n",
      "100%|██████████| 334/334 [00:19<00:00, 17.09it/s]\n"
     ]
    },
    {
     "name": "stdout",
     "output_type": "stream",
     "text": [
      "Epochs 23: source train acc: 0.140033; source test acc: 0.089200; target test acc: 0.094298\n",
      "Epochs 23: source train acc: 0.140033; source test acc: 0.089200; target test acc: 0.094298\n"
     ]
    },
    {
     "name": "stderr",
     "output_type": "stream",
     "text": [
      "100%|██████████| 150/150 [00:07<00:00, 19.75it/s]\n",
      "100%|██████████| 334/334 [00:19<00:00, 17.01it/s]\n",
      "100%|██████████| 334/334 [00:19<00:00, 17.17it/s]\n"
     ]
    },
    {
     "name": "stdout",
     "output_type": "stream",
     "text": [
      "Epochs 24: source train acc: 0.108917; source test acc: 0.113500; target test acc: 0.189211\n",
      "Epochs 24: source train acc: 0.108917; source test acc: 0.113500; target test acc: 0.189211\n"
     ]
    },
    {
     "name": "stderr",
     "output_type": "stream",
     "text": [
      "100%|██████████| 150/150 [00:07<00:00, 19.68it/s]\n",
      "100%|██████████| 334/334 [00:19<00:00, 17.02it/s]\n",
      "100%|██████████| 334/334 [00:19<00:00, 17.16it/s]\n"
     ]
    },
    {
     "name": "stdout",
     "output_type": "stream",
     "text": [
      "Epochs 25: source train acc: 0.106217; source test acc: 0.113500; target test acc: 0.189211\n",
      "Epochs 25: source train acc: 0.106217; source test acc: 0.113500; target test acc: 0.189211\n"
     ]
    },
    {
     "name": "stderr",
     "output_type": "stream",
     "text": [
      "100%|██████████| 150/150 [00:07<00:00, 19.79it/s]\n",
      "100%|██████████| 334/334 [00:19<00:00, 17.14it/s]\n",
      "100%|██████████| 334/334 [00:19<00:00, 17.19it/s]\n"
     ]
    },
    {
     "name": "stdout",
     "output_type": "stream",
     "text": [
      "Epochs 26: source train acc: 0.108383; source test acc: 0.113500; target test acc: 0.189211\n",
      "Epochs 26: source train acc: 0.108383; source test acc: 0.113500; target test acc: 0.189211\n"
     ]
    },
    {
     "name": "stderr",
     "output_type": "stream",
     "text": [
      "100%|██████████| 150/150 [00:07<00:00, 19.65it/s]\n",
      "100%|██████████| 334/334 [00:19<00:00, 17.02it/s]\n",
      "100%|██████████| 334/334 [00:19<00:00, 16.92it/s]\n"
     ]
    },
    {
     "name": "stdout",
     "output_type": "stream",
     "text": [
      "Epochs 27: source train acc: 0.108233; source test acc: 0.113500; target test acc: 0.189211\n",
      "Epochs 27: source train acc: 0.108233; source test acc: 0.113500; target test acc: 0.189211\n"
     ]
    },
    {
     "name": "stderr",
     "output_type": "stream",
     "text": [
      "100%|██████████| 150/150 [00:07<00:00, 19.56it/s]\n",
      "100%|██████████| 334/334 [00:19<00:00, 16.88it/s]\n",
      "100%|██████████| 334/334 [00:19<00:00, 16.90it/s]\n"
     ]
    },
    {
     "name": "stdout",
     "output_type": "stream",
     "text": [
      "Epochs 28: source train acc: 0.110633; source test acc: 0.113500; target test acc: 0.189211\n",
      "Epochs 28: source train acc: 0.110633; source test acc: 0.113500; target test acc: 0.189211\n"
     ]
    },
    {
     "name": "stderr",
     "output_type": "stream",
     "text": [
      "100%|██████████| 150/150 [00:07<00:00, 19.51it/s]\n",
      "100%|██████████| 334/334 [00:19<00:00, 16.81it/s]\n",
      "100%|██████████| 334/334 [00:19<00:00, 16.96it/s]\n"
     ]
    },
    {
     "name": "stdout",
     "output_type": "stream",
     "text": [
      "Epochs 29: source train acc: 0.108350; source test acc: 0.113500; target test acc: 0.189211\n",
      "Epochs 29: source train acc: 0.108350; source test acc: 0.113500; target test acc: 0.189211\n"
     ]
    },
    {
     "name": "stderr",
     "output_type": "stream",
     "text": [
      "100%|██████████| 150/150 [00:07<00:00, 19.57it/s]\n",
      "100%|██████████| 334/334 [00:19<00:00, 16.84it/s]\n",
      "100%|██████████| 334/334 [00:19<00:00, 17.01it/s]\n"
     ]
    },
    {
     "name": "stdout",
     "output_type": "stream",
     "text": [
      "Epochs 30: source train acc: 0.110133; source test acc: 0.113500; target test acc: 0.189211\n",
      "Epochs 30: source train acc: 0.110133; source test acc: 0.113500; target test acc: 0.189211\n"
     ]
    },
    {
     "name": "stderr",
     "output_type": "stream",
     "text": [
      "100%|██████████| 150/150 [00:07<00:00, 19.57it/s]\n",
      "100%|██████████| 334/334 [00:19<00:00, 16.92it/s]\n",
      "100%|██████████| 334/334 [00:19<00:00, 17.00it/s]\n"
     ]
    },
    {
     "name": "stdout",
     "output_type": "stream",
     "text": [
      "Epochs 31: source train acc: 0.112283; source test acc: 0.113500; target test acc: 0.189211\n",
      "Epochs 31: source train acc: 0.112283; source test acc: 0.113500; target test acc: 0.189211\n"
     ]
    },
    {
     "name": "stderr",
     "output_type": "stream",
     "text": [
      "100%|██████████| 150/150 [00:07<00:00, 19.52it/s]\n",
      "100%|██████████| 334/334 [00:19<00:00, 16.85it/s]\n",
      "100%|██████████| 334/334 [00:19<00:00, 17.01it/s]\n"
     ]
    },
    {
     "name": "stdout",
     "output_type": "stream",
     "text": [
      "Epochs 32: source train acc: 0.112167; source test acc: 0.113500; target test acc: 0.189211\n",
      "Epochs 32: source train acc: 0.112167; source test acc: 0.113500; target test acc: 0.189211\n"
     ]
    },
    {
     "name": "stderr",
     "output_type": "stream",
     "text": [
      "100%|██████████| 150/150 [00:07<00:00, 19.59it/s]\n",
      "100%|██████████| 334/334 [00:19<00:00, 16.96it/s]\n",
      "100%|██████████| 334/334 [00:19<00:00, 16.96it/s]\n"
     ]
    },
    {
     "name": "stdout",
     "output_type": "stream",
     "text": [
      "Epochs 33: source train acc: 0.130050; source test acc: 0.413900; target test acc: 0.184747\n",
      "Epochs 33: source train acc: 0.130050; source test acc: 0.413900; target test acc: 0.184747\n"
     ]
    },
    {
     "name": "stderr",
     "output_type": "stream",
     "text": [
      "100%|██████████| 150/150 [00:07<00:00, 19.42it/s]\n",
      "100%|██████████| 334/334 [00:19<00:00, 16.84it/s]\n",
      "100%|██████████| 334/334 [00:19<00:00, 16.87it/s]\n"
     ]
    },
    {
     "name": "stdout",
     "output_type": "stream",
     "text": [
      "Epochs 34: source train acc: 0.783717; source test acc: 0.986600; target test acc: 0.246707\n",
      "Epochs 34: source train acc: 0.783717; source test acc: 0.986600; target test acc: 0.246707\n"
     ]
    },
    {
     "name": "stderr",
     "output_type": "stream",
     "text": [
      "100%|██████████| 150/150 [00:07<00:00, 19.48it/s]\n",
      "100%|██████████| 334/334 [00:19<00:00, 16.72it/s]\n",
      "100%|██████████| 334/334 [00:19<00:00, 16.79it/s]\n"
     ]
    },
    {
     "name": "stdout",
     "output_type": "stream",
     "text": [
      "Epochs 35: source train acc: 0.955333; source test acc: 0.988100; target test acc: 0.245028\n",
      "Epochs 35: source train acc: 0.955333; source test acc: 0.988100; target test acc: 0.245028\n"
     ]
    },
    {
     "name": "stderr",
     "output_type": "stream",
     "text": [
      "100%|██████████| 150/150 [00:07<00:00, 19.51it/s]\n",
      "100%|██████████| 334/334 [00:19<00:00, 16.76it/s]\n",
      "100%|██████████| 334/334 [00:19<00:00, 16.95it/s]\n"
     ]
    },
    {
     "name": "stdout",
     "output_type": "stream",
     "text": [
      "Epochs 36: source train acc: 0.962633; source test acc: 0.989700; target test acc: 0.242161\n",
      "Epochs 36: source train acc: 0.962633; source test acc: 0.989700; target test acc: 0.242161\n"
     ]
    },
    {
     "name": "stderr",
     "output_type": "stream",
     "text": [
      "100%|██████████| 150/150 [00:07<00:00, 19.56it/s]\n",
      "100%|██████████| 334/334 [00:19<00:00, 16.88it/s]\n",
      "100%|██████████| 334/334 [00:19<00:00, 16.91it/s]\n"
     ]
    },
    {
     "name": "stdout",
     "output_type": "stream",
     "text": [
      "Epochs 37: source train acc: 0.965983; source test acc: 0.990000; target test acc: 0.237138\n",
      "Epochs 37: source train acc: 0.965983; source test acc: 0.990000; target test acc: 0.237138\n"
     ]
    },
    {
     "name": "stderr",
     "output_type": "stream",
     "text": [
      "100%|██████████| 150/150 [00:07<00:00, 19.44it/s]\n",
      "100%|██████████| 334/334 [00:19<00:00, 16.80it/s]\n",
      "100%|██████████| 334/334 [00:19<00:00, 16.91it/s]\n"
     ]
    },
    {
     "name": "stdout",
     "output_type": "stream",
     "text": [
      "Epochs 38: source train acc: 0.968033; source test acc: 0.990400; target test acc: 0.233561\n",
      "Epochs 38: source train acc: 0.968033; source test acc: 0.990400; target test acc: 0.233561\n"
     ]
    },
    {
     "name": "stderr",
     "output_type": "stream",
     "text": [
      "100%|██████████| 150/150 [00:07<00:00, 19.48it/s]\n",
      "100%|██████████| 334/334 [00:19<00:00, 16.82it/s]\n",
      "100%|██████████| 334/334 [00:19<00:00, 16.87it/s]\n"
     ]
    },
    {
     "name": "stdout",
     "output_type": "stream",
     "text": [
      "Epochs 39: source train acc: 0.970000; source test acc: 0.990500; target test acc: 0.227937\n",
      "Epochs 39: source train acc: 0.970000; source test acc: 0.990500; target test acc: 0.227937\n"
     ]
    },
    {
     "name": "stderr",
     "output_type": "stream",
     "text": [
      "100%|██████████| 150/150 [00:07<00:00, 19.58it/s]\n",
      "100%|██████████| 334/334 [00:19<00:00, 16.85it/s]\n",
      "100%|██████████| 334/334 [00:19<00:00, 16.90it/s]\n"
     ]
    },
    {
     "name": "stdout",
     "output_type": "stream",
     "text": [
      "Epochs 40: source train acc: 0.971967; source test acc: 0.991200; target test acc: 0.226381\n",
      "Epochs 40: source train acc: 0.971967; source test acc: 0.991200; target test acc: 0.226381\n"
     ]
    },
    {
     "name": "stderr",
     "output_type": "stream",
     "text": [
      "100%|██████████| 150/150 [00:07<00:00, 19.66it/s]\n",
      "100%|██████████| 334/334 [00:19<00:00, 16.88it/s]\n",
      "100%|██████████| 334/334 [00:19<00:00, 17.01it/s]\n"
     ]
    },
    {
     "name": "stdout",
     "output_type": "stream",
     "text": [
      "Epochs 41: source train acc: 0.972983; source test acc: 0.991000; target test acc: 0.225248\n",
      "Epochs 41: source train acc: 0.972983; source test acc: 0.991000; target test acc: 0.225248\n"
     ]
    },
    {
     "name": "stderr",
     "output_type": "stream",
     "text": [
      "100%|██████████| 150/150 [00:07<00:00, 19.39it/s]\n",
      "100%|██████████| 334/334 [00:19<00:00, 16.88it/s]\n",
      "100%|██████████| 334/334 [00:19<00:00, 16.98it/s]\n"
     ]
    },
    {
     "name": "stdout",
     "output_type": "stream",
     "text": [
      "Epochs 42: source train acc: 0.973100; source test acc: 0.990900; target test acc: 0.221576\n",
      "Epochs 42: source train acc: 0.973100; source test acc: 0.990900; target test acc: 0.221576\n"
     ]
    },
    {
     "name": "stderr",
     "output_type": "stream",
     "text": [
      "100%|██████████| 150/150 [00:07<00:00, 19.49it/s]\n",
      "100%|██████████| 334/334 [00:19<00:00, 16.93it/s]\n",
      "100%|██████████| 334/334 [00:19<00:00, 16.92it/s]\n"
     ]
    },
    {
     "name": "stdout",
     "output_type": "stream",
     "text": [
      "Epochs 43: source train acc: 0.972933; source test acc: 0.990900; target test acc: 0.222450\n",
      "Epochs 43: source train acc: 0.972933; source test acc: 0.990900; target test acc: 0.222450\n"
     ]
    },
    {
     "name": "stderr",
     "output_type": "stream",
     "text": [
      "100%|██████████| 150/150 [00:07<00:00, 19.51it/s]\n",
      "100%|██████████| 334/334 [00:19<00:00, 16.77it/s]\n",
      "100%|██████████| 334/334 [00:19<00:00, 16.98it/s]\n"
     ]
    },
    {
     "name": "stdout",
     "output_type": "stream",
     "text": [
      "Epochs 44: source train acc: 0.974217; source test acc: 0.990600; target test acc: 0.221098\n",
      "Epochs 44: source train acc: 0.974217; source test acc: 0.990600; target test acc: 0.221098\n"
     ]
    },
    {
     "name": "stderr",
     "output_type": "stream",
     "text": [
      "100%|██████████| 150/150 [00:07<00:00, 19.46it/s]\n",
      "100%|██████████| 334/334 [00:19<00:00, 16.76it/s]\n",
      "100%|██████████| 334/334 [00:19<00:00, 16.93it/s]\n"
     ]
    },
    {
     "name": "stdout",
     "output_type": "stream",
     "text": [
      "Epochs 45: source train acc: 0.974967; source test acc: 0.991900; target test acc: 0.220525\n",
      "Epochs 45: source train acc: 0.974967; source test acc: 0.991900; target test acc: 0.220525\n"
     ]
    },
    {
     "name": "stderr",
     "output_type": "stream",
     "text": [
      "100%|██████████| 150/150 [00:07<00:00, 19.61it/s]\n",
      "100%|██████████| 334/334 [00:19<00:00, 16.73it/s]\n",
      "100%|██████████| 334/334 [00:19<00:00, 17.08it/s]\n"
     ]
    },
    {
     "name": "stdout",
     "output_type": "stream",
     "text": [
      "Epochs 46: source train acc: 0.974933; source test acc: 0.991700; target test acc: 0.215706\n",
      "Epochs 46: source train acc: 0.974933; source test acc: 0.991700; target test acc: 0.215706\n"
     ]
    },
    {
     "name": "stderr",
     "output_type": "stream",
     "text": [
      "100%|██████████| 150/150 [00:07<00:00, 19.78it/s]\n",
      "100%|██████████| 334/334 [00:19<00:00, 17.11it/s]\n",
      "100%|██████████| 334/334 [00:19<00:00, 17.13it/s]\n"
     ]
    },
    {
     "name": "stdout",
     "output_type": "stream",
     "text": [
      "Epochs 47: source train acc: 0.975800; source test acc: 0.992200; target test acc: 0.214232\n",
      "Epochs 47: source train acc: 0.975800; source test acc: 0.992200; target test acc: 0.214232\n"
     ]
    },
    {
     "name": "stderr",
     "output_type": "stream",
     "text": [
      "100%|██████████| 150/150 [00:07<00:00, 19.55it/s]\n",
      "100%|██████████| 334/334 [00:19<00:00, 16.80it/s]\n",
      "100%|██████████| 334/334 [00:19<00:00, 16.95it/s]\n"
     ]
    },
    {
     "name": "stdout",
     "output_type": "stream",
     "text": [
      "Epochs 48: source train acc: 0.974833; source test acc: 0.991400; target test acc: 0.214232\n",
      "Epochs 48: source train acc: 0.974833; source test acc: 0.991400; target test acc: 0.214232\n"
     ]
    },
    {
     "name": "stderr",
     "output_type": "stream",
     "text": [
      "100%|██████████| 150/150 [00:07<00:00, 19.57it/s]\n",
      "100%|██████████| 334/334 [00:19<00:00, 16.97it/s]\n",
      "100%|██████████| 334/334 [00:19<00:00, 16.90it/s]\n"
     ]
    },
    {
     "name": "stdout",
     "output_type": "stream",
     "text": [
      "Epochs 49: source train acc: 0.975817; source test acc: 0.991500; target test acc: 0.214123\n",
      "Epochs 49: source train acc: 0.975817; source test acc: 0.991500; target test acc: 0.214123\n"
     ]
    },
    {
     "name": "stderr",
     "output_type": "stream",
     "text": [
      "100%|██████████| 150/150 [00:07<00:00, 19.65it/s]\n",
      "100%|██████████| 334/334 [00:19<00:00, 16.92it/s]\n",
      "100%|██████████| 334/334 [00:19<00:00, 16.96it/s]\n"
     ]
    },
    {
     "name": "stdout",
     "output_type": "stream",
     "text": [
      "Epochs 50: source train acc: 0.977150; source test acc: 0.992700; target test acc: 0.213468\n",
      "Epochs 50: source train acc: 0.977150; source test acc: 0.992700; target test acc: 0.213468\n"
     ]
    },
    {
     "name": "stderr",
     "output_type": "stream",
     "text": [
      "100%|██████████| 150/150 [00:07<00:00, 19.73it/s]\n",
      "100%|██████████| 334/334 [00:19<00:00, 16.96it/s]\n",
      "100%|██████████| 334/334 [00:19<00:00, 17.04it/s]\n"
     ]
    },
    {
     "name": "stdout",
     "output_type": "stream",
     "text": [
      "Epochs 51: source train acc: 0.976550; source test acc: 0.991800; target test acc: 0.214355\n",
      "Epochs 51: source train acc: 0.976550; source test acc: 0.991800; target test acc: 0.214355\n"
     ]
    },
    {
     "name": "stderr",
     "output_type": "stream",
     "text": [
      "100%|██████████| 150/150 [00:07<00:00, 19.66it/s]\n",
      "100%|██████████| 334/334 [00:19<00:00, 16.85it/s]\n",
      "100%|██████████| 334/334 [00:19<00:00, 16.80it/s]\n"
     ]
    },
    {
     "name": "stdout",
     "output_type": "stream",
     "text": [
      "Epochs 52: source train acc: 0.975833; source test acc: 0.991900; target test acc: 0.215870\n",
      "Epochs 52: source train acc: 0.975833; source test acc: 0.991900; target test acc: 0.215870\n"
     ]
    },
    {
     "name": "stderr",
     "output_type": "stream",
     "text": [
      "100%|██████████| 150/150 [00:07<00:00, 19.44it/s]\n",
      "100%|██████████| 334/334 [00:19<00:00, 16.85it/s]\n",
      "100%|██████████| 334/334 [00:19<00:00, 17.01it/s]\n"
     ]
    },
    {
     "name": "stdout",
     "output_type": "stream",
     "text": [
      "Epochs 53: source train acc: 0.977467; source test acc: 0.991200; target test acc: 0.212826\n",
      "Epochs 53: source train acc: 0.977467; source test acc: 0.991200; target test acc: 0.212826\n"
     ]
    },
    {
     "name": "stderr",
     "output_type": "stream",
     "text": [
      "100%|██████████| 150/150 [00:07<00:00, 19.56it/s]\n",
      "100%|██████████| 334/334 [00:19<00:00, 16.88it/s]\n",
      "100%|██████████| 334/334 [00:19<00:00, 17.07it/s]\n"
     ]
    },
    {
     "name": "stdout",
     "output_type": "stream",
     "text": [
      "Epochs 54: source train acc: 0.976217; source test acc: 0.991800; target test acc: 0.214082\n",
      "Epochs 54: source train acc: 0.976217; source test acc: 0.991800; target test acc: 0.214082\n"
     ]
    },
    {
     "name": "stderr",
     "output_type": "stream",
     "text": [
      "100%|██████████| 150/150 [00:07<00:00, 19.65it/s]\n",
      "100%|██████████| 334/334 [00:19<00:00, 16.96it/s]\n",
      "100%|██████████| 334/334 [00:19<00:00, 17.05it/s]\n"
     ]
    },
    {
     "name": "stdout",
     "output_type": "stream",
     "text": [
      "Epochs 55: source train acc: 0.977267; source test acc: 0.991800; target test acc: 0.212485\n",
      "Epochs 55: source train acc: 0.977267; source test acc: 0.991800; target test acc: 0.212485\n"
     ]
    },
    {
     "name": "stderr",
     "output_type": "stream",
     "text": [
      "100%|██████████| 150/150 [00:07<00:00, 19.61it/s]\n",
      "100%|██████████| 334/334 [00:19<00:00, 16.94it/s]\n",
      "100%|██████████| 334/334 [00:19<00:00, 17.01it/s]\n"
     ]
    },
    {
     "name": "stdout",
     "output_type": "stream",
     "text": [
      "Epochs 56: source train acc: 0.976283; source test acc: 0.991500; target test acc: 0.208826\n",
      "Epochs 56: source train acc: 0.976283; source test acc: 0.991500; target test acc: 0.208826\n"
     ]
    },
    {
     "name": "stderr",
     "output_type": "stream",
     "text": [
      "100%|██████████| 150/150 [00:07<00:00, 19.60it/s]\n",
      "100%|██████████| 334/334 [00:19<00:00, 16.94it/s]\n",
      "100%|██████████| 334/334 [00:19<00:00, 16.96it/s]\n"
     ]
    },
    {
     "name": "stdout",
     "output_type": "stream",
     "text": [
      "Epochs 57: source train acc: 0.977317; source test acc: 0.991600; target test acc: 0.214519\n",
      "Epochs 57: source train acc: 0.977317; source test acc: 0.991600; target test acc: 0.214519\n"
     ]
    },
    {
     "name": "stderr",
     "output_type": "stream",
     "text": [
      "100%|██████████| 150/150 [00:07<00:00, 19.72it/s]\n",
      "100%|██████████| 334/334 [00:19<00:00, 16.92it/s]\n",
      "100%|██████████| 334/334 [00:19<00:00, 17.04it/s]\n"
     ]
    },
    {
     "name": "stdout",
     "output_type": "stream",
     "text": [
      "Epochs 58: source train acc: 0.979217; source test acc: 0.991800; target test acc: 0.212034\n",
      "Epochs 58: source train acc: 0.979217; source test acc: 0.991800; target test acc: 0.212034\n"
     ]
    },
    {
     "name": "stderr",
     "output_type": "stream",
     "text": [
      "100%|██████████| 150/150 [00:07<00:00, 19.76it/s]\n",
      "100%|██████████| 334/334 [00:19<00:00, 16.94it/s]\n",
      "100%|██████████| 334/334 [00:19<00:00, 17.12it/s]\n"
     ]
    },
    {
     "name": "stdout",
     "output_type": "stream",
     "text": [
      "Epochs 59: source train acc: 0.977733; source test acc: 0.992000; target test acc: 0.214846\n",
      "Epochs 59: source train acc: 0.977733; source test acc: 0.992000; target test acc: 0.214846\n"
     ]
    },
    {
     "name": "stderr",
     "output_type": "stream",
     "text": [
      "100%|██████████| 150/150 [00:07<00:00, 19.66it/s]\n",
      "100%|██████████| 334/334 [00:19<00:00, 16.92it/s]\n",
      "100%|██████████| 334/334 [00:19<00:00, 17.02it/s]\n"
     ]
    },
    {
     "name": "stdout",
     "output_type": "stream",
     "text": [
      "Epochs 60: source train acc: 0.976933; source test acc: 0.992300; target test acc: 0.208813\n",
      "Epochs 60: source train acc: 0.976933; source test acc: 0.992300; target test acc: 0.208813\n"
     ]
    },
    {
     "name": "stderr",
     "output_type": "stream",
     "text": [
      "100%|██████████| 150/150 [00:07<00:00, 19.69it/s]\n",
      "100%|██████████| 334/334 [00:19<00:00, 16.92it/s]\n",
      "100%|██████████| 334/334 [00:19<00:00, 17.04it/s]\n"
     ]
    },
    {
     "name": "stdout",
     "output_type": "stream",
     "text": [
      "Epochs 61: source train acc: 0.977317; source test acc: 0.991800; target test acc: 0.211338\n",
      "Epochs 61: source train acc: 0.977317; source test acc: 0.991800; target test acc: 0.211338\n"
     ]
    },
    {
     "name": "stderr",
     "output_type": "stream",
     "text": [
      "100%|██████████| 150/150 [00:07<00:00, 19.73it/s]\n",
      "100%|██████████| 334/334 [00:19<00:00, 16.90it/s]\n",
      "100%|██████████| 334/334 [00:19<00:00, 17.09it/s]\n"
     ]
    },
    {
     "name": "stdout",
     "output_type": "stream",
     "text": [
      "Epochs 62: source train acc: 0.977800; source test acc: 0.992200; target test acc: 0.212048\n",
      "Epochs 62: source train acc: 0.977800; source test acc: 0.992200; target test acc: 0.212048\n"
     ]
    },
    {
     "name": "stderr",
     "output_type": "stream",
     "text": [
      "100%|██████████| 150/150 [00:07<00:00, 19.74it/s]\n",
      "100%|██████████| 334/334 [00:19<00:00, 16.88it/s]\n",
      "100%|██████████| 334/334 [00:19<00:00, 17.14it/s]\n"
     ]
    },
    {
     "name": "stdout",
     "output_type": "stream",
     "text": [
      "Epochs 63: source train acc: 0.978317; source test acc: 0.992300; target test acc: 0.208990\n",
      "Epochs 63: source train acc: 0.978317; source test acc: 0.992300; target test acc: 0.208990\n"
     ]
    },
    {
     "name": "stderr",
     "output_type": "stream",
     "text": [
      "100%|██████████| 150/150 [00:07<00:00, 19.81it/s]\n",
      "100%|██████████| 334/334 [00:19<00:00, 16.92it/s]\n",
      "100%|██████████| 334/334 [00:19<00:00, 17.14it/s]\n"
     ]
    },
    {
     "name": "stdout",
     "output_type": "stream",
     "text": [
      "Epochs 64: source train acc: 0.978300; source test acc: 0.992600; target test acc: 0.213167\n",
      "Epochs 64: source train acc: 0.978300; source test acc: 0.992600; target test acc: 0.213167\n"
     ]
    },
    {
     "name": "stderr",
     "output_type": "stream",
     "text": [
      "100%|██████████| 150/150 [00:07<00:00, 19.70it/s]\n",
      "100%|██████████| 334/334 [00:19<00:00, 17.01it/s]\n",
      "100%|██████████| 334/334 [00:19<00:00, 17.11it/s]\n"
     ]
    },
    {
     "name": "stdout",
     "output_type": "stream",
     "text": [
      "Epochs 65: source train acc: 0.978683; source test acc: 0.992700; target test acc: 0.208867\n",
      "Epochs 65: source train acc: 0.978683; source test acc: 0.992700; target test acc: 0.208867\n"
     ]
    },
    {
     "name": "stderr",
     "output_type": "stream",
     "text": [
      "100%|██████████| 150/150 [00:07<00:00, 19.70it/s]\n",
      "100%|██████████| 334/334 [00:19<00:00, 16.90it/s]\n",
      "100%|██████████| 334/334 [00:19<00:00, 17.08it/s]\n"
     ]
    },
    {
     "name": "stdout",
     "output_type": "stream",
     "text": [
      "Epochs 66: source train acc: 0.977817; source test acc: 0.992400; target test acc: 0.209973\n",
      "Epochs 66: source train acc: 0.977817; source test acc: 0.992400; target test acc: 0.209973\n"
     ]
    },
    {
     "name": "stderr",
     "output_type": "stream",
     "text": [
      "100%|██████████| 150/150 [00:07<00:00, 19.59it/s]\n",
      "100%|██████████| 334/334 [00:19<00:00, 16.93it/s]\n",
      "100%|██████████| 334/334 [00:19<00:00, 17.02it/s]\n"
     ]
    },
    {
     "name": "stdout",
     "output_type": "stream",
     "text": [
      "Epochs 67: source train acc: 0.978433; source test acc: 0.993000; target test acc: 0.211024\n",
      "Epochs 67: source train acc: 0.978433; source test acc: 0.993000; target test acc: 0.211024\n"
     ]
    },
    {
     "name": "stderr",
     "output_type": "stream",
     "text": [
      "100%|██████████| 150/150 [00:07<00:00, 19.62it/s]\n",
      "100%|██████████| 334/334 [00:19<00:00, 16.93it/s]\n",
      "100%|██████████| 334/334 [00:19<00:00, 16.94it/s]\n"
     ]
    },
    {
     "name": "stdout",
     "output_type": "stream",
     "text": [
      "Epochs 68: source train acc: 0.977200; source test acc: 0.993300; target test acc: 0.213577\n",
      "Epochs 68: source train acc: 0.977200; source test acc: 0.993300; target test acc: 0.213577\n"
     ]
    },
    {
     "name": "stderr",
     "output_type": "stream",
     "text": [
      "100%|██████████| 150/150 [00:07<00:00, 19.23it/s]\n",
      "100%|██████████| 334/334 [00:21<00:00, 15.55it/s]\n",
      "100%|██████████| 334/334 [00:19<00:00, 16.70it/s]\n"
     ]
    },
    {
     "name": "stdout",
     "output_type": "stream",
     "text": [
      "Epochs 69: source train acc: 0.979000; source test acc: 0.992400; target test acc: 0.216184\n",
      "Epochs 69: source train acc: 0.979000; source test acc: 0.992400; target test acc: 0.216184\n"
     ]
    },
    {
     "name": "stderr",
     "output_type": "stream",
     "text": [
      "100%|██████████| 150/150 [00:07<00:00, 19.19it/s]\n",
      "100%|██████████| 334/334 [00:19<00:00, 16.75it/s]\n",
      "100%|██████████| 334/334 [00:19<00:00, 17.06it/s]\n"
     ]
    },
    {
     "name": "stdout",
     "output_type": "stream",
     "text": [
      "Epochs 70: source train acc: 0.979867; source test acc: 0.992900; target test acc: 0.213768\n",
      "Epochs 70: source train acc: 0.979867; source test acc: 0.992900; target test acc: 0.213768\n"
     ]
    },
    {
     "name": "stderr",
     "output_type": "stream",
     "text": [
      "100%|██████████| 150/150 [00:07<00:00, 19.57it/s]\n",
      "100%|██████████| 334/334 [00:19<00:00, 16.87it/s]\n",
      "100%|██████████| 334/334 [00:19<00:00, 16.84it/s]\n"
     ]
    },
    {
     "name": "stdout",
     "output_type": "stream",
     "text": [
      "Epochs 71: source train acc: 0.977733; source test acc: 0.992600; target test acc: 0.216471\n",
      "Epochs 71: source train acc: 0.977733; source test acc: 0.992600; target test acc: 0.216471\n"
     ]
    },
    {
     "name": "stderr",
     "output_type": "stream",
     "text": [
      "100%|██████████| 150/150 [00:07<00:00, 19.73it/s]\n",
      "100%|██████████| 334/334 [00:19<00:00, 16.88it/s]\n",
      "100%|██████████| 334/334 [00:19<00:00, 17.03it/s]\n"
     ]
    },
    {
     "name": "stdout",
     "output_type": "stream",
     "text": [
      "Epochs 72: source train acc: 0.978033; source test acc: 0.992700; target test acc: 0.212662\n",
      "Epochs 72: source train acc: 0.978033; source test acc: 0.992700; target test acc: 0.212662\n"
     ]
    },
    {
     "name": "stderr",
     "output_type": "stream",
     "text": [
      "100%|██████████| 150/150 [00:07<00:00, 19.75it/s]\n",
      "100%|██████████| 334/334 [00:19<00:00, 16.91it/s]\n",
      "100%|██████████| 334/334 [00:19<00:00, 16.99it/s]\n"
     ]
    },
    {
     "name": "stdout",
     "output_type": "stream",
     "text": [
      "Epochs 73: source train acc: 0.979600; source test acc: 0.992100; target test acc: 0.212253\n",
      "Epochs 73: source train acc: 0.979600; source test acc: 0.992100; target test acc: 0.212253\n"
     ]
    },
    {
     "name": "stderr",
     "output_type": "stream",
     "text": [
      "100%|██████████| 150/150 [00:07<00:00, 19.69it/s]\n",
      "100%|██████████| 334/334 [00:19<00:00, 17.00it/s]\n",
      "100%|██████████| 334/334 [00:19<00:00, 17.05it/s]\n"
     ]
    },
    {
     "name": "stdout",
     "output_type": "stream",
     "text": [
      "Epochs 74: source train acc: 0.978033; source test acc: 0.992900; target test acc: 0.211775\n",
      "Epochs 74: source train acc: 0.978033; source test acc: 0.992900; target test acc: 0.211775\n"
     ]
    },
    {
     "name": "stderr",
     "output_type": "stream",
     "text": [
      "100%|██████████| 150/150 [00:07<00:00, 19.60it/s]\n",
      "100%|██████████| 334/334 [00:19<00:00, 16.92it/s]\n",
      "100%|██████████| 334/334 [00:19<00:00, 17.04it/s]\n"
     ]
    },
    {
     "name": "stdout",
     "output_type": "stream",
     "text": [
      "Epochs 75: source train acc: 0.978900; source test acc: 0.993000; target test acc: 0.211761\n",
      "Epochs 75: source train acc: 0.978900; source test acc: 0.993000; target test acc: 0.211761\n"
     ]
    },
    {
     "name": "stderr",
     "output_type": "stream",
     "text": [
      "100%|██████████| 150/150 [00:07<00:00, 19.64it/s]\n",
      "100%|██████████| 334/334 [00:19<00:00, 16.88it/s]\n",
      "100%|██████████| 334/334 [00:19<00:00, 17.02it/s]\n"
     ]
    },
    {
     "name": "stdout",
     "output_type": "stream",
     "text": [
      "Epochs 76: source train acc: 0.979450; source test acc: 0.991500; target test acc: 0.213713\n",
      "Epochs 76: source train acc: 0.979450; source test acc: 0.991500; target test acc: 0.213713\n"
     ]
    },
    {
     "name": "stderr",
     "output_type": "stream",
     "text": [
      "100%|██████████| 150/150 [00:07<00:00, 19.63it/s]\n",
      "100%|██████████| 334/334 [00:19<00:00, 16.99it/s]\n",
      "100%|██████████| 334/334 [00:19<00:00, 17.01it/s]\n"
     ]
    },
    {
     "name": "stdout",
     "output_type": "stream",
     "text": [
      "Epochs 77: source train acc: 0.979050; source test acc: 0.992600; target test acc: 0.213044\n",
      "Epochs 77: source train acc: 0.979050; source test acc: 0.992600; target test acc: 0.213044\n"
     ]
    },
    {
     "name": "stderr",
     "output_type": "stream",
     "text": [
      "100%|██████████| 150/150 [00:07<00:00, 19.61it/s]\n",
      "100%|██████████| 334/334 [00:19<00:00, 16.93it/s]\n",
      "100%|██████████| 334/334 [00:19<00:00, 16.97it/s]\n"
     ]
    },
    {
     "name": "stdout",
     "output_type": "stream",
     "text": [
      "Epochs 78: source train acc: 0.977467; source test acc: 0.992600; target test acc: 0.212567\n",
      "Epochs 78: source train acc: 0.977467; source test acc: 0.992600; target test acc: 0.212567\n"
     ]
    },
    {
     "name": "stderr",
     "output_type": "stream",
     "text": [
      "100%|██████████| 150/150 [00:07<00:00, 19.38it/s]\n",
      "100%|██████████| 334/334 [00:19<00:00, 16.86it/s]\n",
      "100%|██████████| 334/334 [00:19<00:00, 16.94it/s]\n"
     ]
    },
    {
     "name": "stdout",
     "output_type": "stream",
     "text": [
      "Epochs 79: source train acc: 0.978400; source test acc: 0.992900; target test acc: 0.215583\n",
      "Epochs 79: source train acc: 0.978400; source test acc: 0.992900; target test acc: 0.215583\n"
     ]
    },
    {
     "name": "stderr",
     "output_type": "stream",
     "text": [
      "100%|██████████| 150/150 [00:07<00:00, 19.67it/s]\n",
      "100%|██████████| 334/334 [00:19<00:00, 16.99it/s]\n",
      "100%|██████████| 334/334 [00:19<00:00, 16.96it/s]\n"
     ]
    },
    {
     "name": "stdout",
     "output_type": "stream",
     "text": [
      "Epochs 80: source train acc: 0.978150; source test acc: 0.992700; target test acc: 0.211598\n",
      "Epochs 80: source train acc: 0.978150; source test acc: 0.992700; target test acc: 0.211598\n"
     ]
    },
    {
     "name": "stderr",
     "output_type": "stream",
     "text": [
      "100%|██████████| 150/150 [00:07<00:00, 19.59it/s]\n",
      "100%|██████████| 334/334 [00:19<00:00, 16.91it/s]\n",
      "100%|██████████| 334/334 [00:19<00:00, 17.05it/s]\n"
     ]
    },
    {
     "name": "stdout",
     "output_type": "stream",
     "text": [
      "Epochs 81: source train acc: 0.980117; source test acc: 0.992100; target test acc: 0.213154\n",
      "Epochs 81: source train acc: 0.980117; source test acc: 0.992100; target test acc: 0.213154\n"
     ]
    },
    {
     "name": "stderr",
     "output_type": "stream",
     "text": [
      "100%|██████████| 150/150 [00:07<00:00, 19.55it/s]\n",
      "100%|██████████| 334/334 [00:19<00:00, 16.88it/s]\n",
      "100%|██████████| 334/334 [00:19<00:00, 17.01it/s]\n"
     ]
    },
    {
     "name": "stdout",
     "output_type": "stream",
     "text": [
      "Epochs 82: source train acc: 0.979467; source test acc: 0.992300; target test acc: 0.207639\n",
      "Epochs 82: source train acc: 0.979467; source test acc: 0.992300; target test acc: 0.207639\n"
     ]
    },
    {
     "name": "stderr",
     "output_type": "stream",
     "text": [
      "100%|██████████| 150/150 [00:07<00:00, 19.53it/s]\n",
      "100%|██████████| 334/334 [00:19<00:00, 16.91it/s]\n",
      "100%|██████████| 334/334 [00:19<00:00, 16.93it/s]\n"
     ]
    },
    {
     "name": "stdout",
     "output_type": "stream",
     "text": [
      "Epochs 83: source train acc: 0.979150; source test acc: 0.993100; target test acc: 0.211734\n",
      "Epochs 83: source train acc: 0.979150; source test acc: 0.993100; target test acc: 0.211734\n"
     ]
    },
    {
     "name": "stderr",
     "output_type": "stream",
     "text": [
      "100%|██████████| 150/150 [00:07<00:00, 19.49it/s]\n",
      "100%|██████████| 334/334 [00:19<00:00, 16.82it/s]\n",
      "100%|██████████| 334/334 [00:19<00:00, 16.99it/s]\n"
     ]
    },
    {
     "name": "stdout",
     "output_type": "stream",
     "text": [
      "Epochs 84: source train acc: 0.979483; source test acc: 0.992900; target test acc: 0.210860\n",
      "Epochs 84: source train acc: 0.979483; source test acc: 0.992900; target test acc: 0.210860\n"
     ]
    },
    {
     "name": "stderr",
     "output_type": "stream",
     "text": [
      "100%|██████████| 150/150 [00:07<00:00, 19.44it/s]\n",
      "100%|██████████| 334/334 [00:19<00:00, 16.87it/s]\n",
      "100%|██████████| 334/334 [00:19<00:00, 16.82it/s]\n"
     ]
    },
    {
     "name": "stdout",
     "output_type": "stream",
     "text": [
      "Epochs 85: source train acc: 0.979517; source test acc: 0.992000; target test acc: 0.212771\n",
      "Epochs 85: source train acc: 0.979517; source test acc: 0.992000; target test acc: 0.212771\n"
     ]
    },
    {
     "name": "stderr",
     "output_type": "stream",
     "text": [
      "100%|██████████| 150/150 [00:07<00:00, 19.44it/s]\n",
      "100%|██████████| 334/334 [00:19<00:00, 16.79it/s]\n",
      "100%|██████████| 334/334 [00:19<00:00, 16.93it/s]\n"
     ]
    },
    {
     "name": "stdout",
     "output_type": "stream",
     "text": [
      "Epochs 86: source train acc: 0.979683; source test acc: 0.992500; target test acc: 0.212225\n",
      "Epochs 86: source train acc: 0.979683; source test acc: 0.992500; target test acc: 0.212225\n"
     ]
    },
    {
     "name": "stderr",
     "output_type": "stream",
     "text": [
      "100%|██████████| 150/150 [00:07<00:00, 19.57it/s]\n",
      "100%|██████████| 334/334 [00:19<00:00, 16.97it/s]\n",
      "100%|██████████| 334/334 [00:19<00:00, 17.05it/s]\n"
     ]
    },
    {
     "name": "stdout",
     "output_type": "stream",
     "text": [
      "Epochs 87: source train acc: 0.979733; source test acc: 0.992400; target test acc: 0.209222\n",
      "Epochs 87: source train acc: 0.979733; source test acc: 0.992400; target test acc: 0.209222\n"
     ]
    },
    {
     "name": "stderr",
     "output_type": "stream",
     "text": [
      "100%|██████████| 150/150 [00:07<00:00, 19.70it/s]\n",
      "100%|██████████| 334/334 [00:19<00:00, 16.95it/s]\n",
      "100%|██████████| 334/334 [00:19<00:00, 17.10it/s]\n"
     ]
    },
    {
     "name": "stdout",
     "output_type": "stream",
     "text": [
      "Epochs 88: source train acc: 0.979100; source test acc: 0.992800; target test acc: 0.210847\n",
      "Epochs 88: source train acc: 0.979100; source test acc: 0.992800; target test acc: 0.210847\n"
     ]
    },
    {
     "name": "stderr",
     "output_type": "stream",
     "text": [
      "100%|██████████| 150/150 [00:07<00:00, 19.65it/s]\n",
      "100%|██████████| 334/334 [00:19<00:00, 16.86it/s]\n",
      "100%|██████████| 334/334 [00:19<00:00, 16.92it/s]\n"
     ]
    },
    {
     "name": "stdout",
     "output_type": "stream",
     "text": [
      "Epochs 89: source train acc: 0.979367; source test acc: 0.992300; target test acc: 0.208458\n",
      "Epochs 89: source train acc: 0.979367; source test acc: 0.992300; target test acc: 0.208458\n"
     ]
    },
    {
     "name": "stderr",
     "output_type": "stream",
     "text": [
      "100%|██████████| 150/150 [00:07<00:00, 19.49it/s]\n",
      "100%|██████████| 334/334 [00:19<00:00, 16.91it/s]\n",
      "100%|██████████| 334/334 [00:19<00:00, 17.07it/s]\n"
     ]
    },
    {
     "name": "stdout",
     "output_type": "stream",
     "text": [
      "Epochs 90: source train acc: 0.979367; source test acc: 0.990900; target test acc: 0.208786\n",
      "Epochs 90: source train acc: 0.979367; source test acc: 0.990900; target test acc: 0.208786\n"
     ]
    },
    {
     "name": "stderr",
     "output_type": "stream",
     "text": [
      "100%|██████████| 150/150 [00:07<00:00, 19.59it/s]\n",
      "100%|██████████| 334/334 [00:19<00:00, 16.97it/s]\n",
      "100%|██████████| 334/334 [00:19<00:00, 17.10it/s]\n"
     ]
    },
    {
     "name": "stdout",
     "output_type": "stream",
     "text": [
      "Epochs 91: source train acc: 0.979933; source test acc: 0.992700; target test acc: 0.210778\n",
      "Epochs 91: source train acc: 0.979933; source test acc: 0.992700; target test acc: 0.210778\n"
     ]
    },
    {
     "name": "stderr",
     "output_type": "stream",
     "text": [
      "100%|██████████| 150/150 [00:07<00:00, 19.74it/s]\n",
      "100%|██████████| 334/334 [00:19<00:00, 16.77it/s]\n",
      "100%|██████████| 334/334 [00:19<00:00, 16.74it/s]\n"
     ]
    },
    {
     "name": "stdout",
     "output_type": "stream",
     "text": [
      "Epochs 92: source train acc: 0.979500; source test acc: 0.992400; target test acc: 0.208485\n",
      "Epochs 92: source train acc: 0.979500; source test acc: 0.992400; target test acc: 0.208485\n"
     ]
    },
    {
     "name": "stderr",
     "output_type": "stream",
     "text": [
      "100%|██████████| 150/150 [00:07<00:00, 19.75it/s]\n",
      "100%|██████████| 334/334 [00:19<00:00, 16.79it/s]\n",
      "100%|██████████| 334/334 [00:19<00:00, 17.03it/s]\n"
     ]
    },
    {
     "name": "stdout",
     "output_type": "stream",
     "text": [
      "Epochs 93: source train acc: 0.979650; source test acc: 0.992900; target test acc: 0.212744\n",
      "Epochs 93: source train acc: 0.979650; source test acc: 0.992900; target test acc: 0.212744\n"
     ]
    },
    {
     "name": "stderr",
     "output_type": "stream",
     "text": [
      "100%|██████████| 150/150 [00:07<00:00, 19.72it/s]\n",
      "100%|██████████| 334/334 [00:19<00:00, 16.96it/s]\n",
      "100%|██████████| 334/334 [00:19<00:00, 17.13it/s]\n"
     ]
    },
    {
     "name": "stdout",
     "output_type": "stream",
     "text": [
      "Epochs 94: source train acc: 0.980183; source test acc: 0.992000; target test acc: 0.212225\n",
      "Epochs 94: source train acc: 0.980183; source test acc: 0.992000; target test acc: 0.212225\n"
     ]
    },
    {
     "name": "stderr",
     "output_type": "stream",
     "text": [
      "100%|██████████| 150/150 [00:07<00:00, 19.78it/s]\n",
      "100%|██████████| 334/334 [00:19<00:00, 16.98it/s]\n",
      "100%|██████████| 334/334 [00:19<00:00, 17.07it/s]\n"
     ]
    },
    {
     "name": "stdout",
     "output_type": "stream",
     "text": [
      "Epochs 95: source train acc: 0.979500; source test acc: 0.992900; target test acc: 0.208321\n",
      "Epochs 95: source train acc: 0.979500; source test acc: 0.992900; target test acc: 0.208321\n"
     ]
    },
    {
     "name": "stderr",
     "output_type": "stream",
     "text": [
      "100%|██████████| 150/150 [00:07<00:00, 19.71it/s]\n",
      "100%|██████████| 334/334 [00:19<00:00, 16.91it/s]\n",
      "100%|██████████| 334/334 [00:19<00:00, 17.10it/s]\n"
     ]
    },
    {
     "name": "stdout",
     "output_type": "stream",
     "text": [
      "Epochs 96: source train acc: 0.979767; source test acc: 0.991800; target test acc: 0.208417\n",
      "Epochs 96: source train acc: 0.979767; source test acc: 0.991800; target test acc: 0.208417\n"
     ]
    },
    {
     "name": "stderr",
     "output_type": "stream",
     "text": [
      "100%|██████████| 150/150 [00:07<00:00, 19.58it/s]\n",
      "100%|██████████| 334/334 [00:19<00:00, 16.97it/s]\n",
      "100%|██████████| 334/334 [00:19<00:00, 16.98it/s]\n"
     ]
    },
    {
     "name": "stdout",
     "output_type": "stream",
     "text": [
      "Epochs 97: source train acc: 0.979350; source test acc: 0.992400; target test acc: 0.212703\n",
      "Epochs 97: source train acc: 0.979350; source test acc: 0.992400; target test acc: 0.212703\n"
     ]
    },
    {
     "name": "stderr",
     "output_type": "stream",
     "text": [
      "100%|██████████| 150/150 [00:07<00:00, 19.01it/s]\n",
      "100%|██████████| 334/334 [00:19<00:00, 16.88it/s]\n",
      "100%|██████████| 334/334 [00:19<00:00, 16.84it/s]\n"
     ]
    },
    {
     "name": "stdout",
     "output_type": "stream",
     "text": [
      "Epochs 98: source train acc: 0.980117; source test acc: 0.992100; target test acc: 0.211625\n",
      "Epochs 98: source train acc: 0.980117; source test acc: 0.992100; target test acc: 0.211625\n"
     ]
    },
    {
     "name": "stderr",
     "output_type": "stream",
     "text": [
      "100%|██████████| 150/150 [00:07<00:00, 19.63it/s]\n",
      "100%|██████████| 334/334 [00:19<00:00, 16.87it/s]\n",
      "100%|██████████| 334/334 [00:19<00:00, 17.03it/s]\n"
     ]
    },
    {
     "name": "stdout",
     "output_type": "stream",
     "text": [
      "Epochs 99: source train acc: 0.980900; source test acc: 0.993000; target test acc: 0.211638\n",
      "Epochs 99: source train acc: 0.980900; source test acc: 0.993000; target test acc: 0.211638\n"
     ]
    },
    {
     "name": "stderr",
     "output_type": "stream",
     "text": [
      "100%|██████████| 150/150 [00:07<00:00, 19.64it/s]\n",
      "100%|██████████| 334/334 [00:19<00:00, 16.95it/s]\n",
      "100%|██████████| 334/334 [00:19<00:00, 17.05it/s]\n"
     ]
    },
    {
     "name": "stdout",
     "output_type": "stream",
     "text": [
      "Epochs 100: source train acc: 0.980617; source test acc: 0.992600; target test acc: 0.210014\n",
      "Epochs 100: source train acc: 0.980617; source test acc: 0.992600; target test acc: 0.210014\n"
     ]
    },
    {
     "name": "stderr",
     "output_type": "stream",
     "text": [
      "100%|██████████| 150/150 [00:07<00:00, 19.57it/s]\n",
      "100%|██████████| 334/334 [00:19<00:00, 16.90it/s]\n",
      "100%|██████████| 334/334 [00:19<00:00, 17.05it/s]\n"
     ]
    },
    {
     "name": "stdout",
     "output_type": "stream",
     "text": [
      "Epochs 101: source train acc: 0.980950; source test acc: 0.992700; target test acc: 0.210055\n",
      "Epochs 101: source train acc: 0.980950; source test acc: 0.992700; target test acc: 0.210055\n"
     ]
    },
    {
     "name": "stderr",
     "output_type": "stream",
     "text": [
      "100%|██████████| 150/150 [00:07<00:00, 19.67it/s]\n",
      "100%|██████████| 334/334 [00:19<00:00, 16.93it/s]\n",
      "100%|██████████| 334/334 [00:19<00:00, 17.09it/s]\n"
     ]
    },
    {
     "name": "stdout",
     "output_type": "stream",
     "text": [
      "Epochs 102: source train acc: 0.979767; source test acc: 0.993000; target test acc: 0.206042\n",
      "Epochs 102: source train acc: 0.979767; source test acc: 0.993000; target test acc: 0.206042\n"
     ]
    },
    {
     "name": "stderr",
     "output_type": "stream",
     "text": [
      "100%|██████████| 150/150 [00:07<00:00, 19.74it/s]\n",
      "100%|██████████| 334/334 [00:19<00:00, 16.97it/s]\n",
      "100%|██████████| 334/334 [00:19<00:00, 17.12it/s]\n"
     ]
    },
    {
     "name": "stdout",
     "output_type": "stream",
     "text": [
      "Epochs 103: source train acc: 0.979750; source test acc: 0.992700; target test acc: 0.207857\n",
      "Epochs 103: source train acc: 0.979750; source test acc: 0.992700; target test acc: 0.207857\n"
     ]
    },
    {
     "name": "stderr",
     "output_type": "stream",
     "text": [
      "100%|██████████| 150/150 [00:07<00:00, 19.56it/s]\n",
      "100%|██████████| 334/334 [00:19<00:00, 16.94it/s]\n",
      "100%|██████████| 334/334 [00:19<00:00, 17.03it/s]\n"
     ]
    },
    {
     "name": "stdout",
     "output_type": "stream",
     "text": [
      "Epochs 104: source train acc: 0.979583; source test acc: 0.992600; target test acc: 0.212335\n",
      "Epochs 104: source train acc: 0.979583; source test acc: 0.992600; target test acc: 0.212335\n"
     ]
    },
    {
     "name": "stderr",
     "output_type": "stream",
     "text": [
      "100%|██████████| 150/150 [00:07<00:00, 19.61it/s]\n",
      "100%|██████████| 334/334 [00:19<00:00, 16.94it/s]\n",
      "100%|██████████| 334/334 [00:19<00:00, 16.88it/s]\n"
     ]
    },
    {
     "name": "stdout",
     "output_type": "stream",
     "text": [
      "Epochs 105: source train acc: 0.979967; source test acc: 0.992300; target test acc: 0.209154\n",
      "Epochs 105: source train acc: 0.979967; source test acc: 0.992300; target test acc: 0.209154\n"
     ]
    },
    {
     "name": "stderr",
     "output_type": "stream",
     "text": [
      "100%|██████████| 150/150 [00:07<00:00, 19.65it/s]\n",
      "100%|██████████| 334/334 [00:19<00:00, 16.93it/s]\n",
      "100%|██████████| 334/334 [00:19<00:00, 17.10it/s]\n"
     ]
    },
    {
     "name": "stdout",
     "output_type": "stream",
     "text": [
      "Epochs 106: source train acc: 0.979267; source test acc: 0.992900; target test acc: 0.208144\n",
      "Epochs 106: source train acc: 0.979267; source test acc: 0.992900; target test acc: 0.208144\n"
     ]
    },
    {
     "name": "stderr",
     "output_type": "stream",
     "text": [
      "100%|██████████| 150/150 [00:07<00:00, 19.60it/s]\n",
      "100%|██████████| 334/334 [00:19<00:00, 17.00it/s]\n",
      "100%|██████████| 334/334 [00:19<00:00, 17.07it/s]\n"
     ]
    },
    {
     "name": "stdout",
     "output_type": "stream",
     "text": [
      "Epochs 107: source train acc: 0.980183; source test acc: 0.992700; target test acc: 0.212062\n",
      "Epochs 107: source train acc: 0.980183; source test acc: 0.992700; target test acc: 0.212062\n"
     ]
    },
    {
     "name": "stderr",
     "output_type": "stream",
     "text": [
      "100%|██████████| 150/150 [00:07<00:00, 19.63it/s]\n",
      "100%|██████████| 334/334 [00:19<00:00, 16.89it/s]\n",
      "100%|██████████| 334/334 [00:19<00:00, 17.07it/s]\n"
     ]
    },
    {
     "name": "stdout",
     "output_type": "stream",
     "text": [
      "Epochs 108: source train acc: 0.979300; source test acc: 0.992600; target test acc: 0.211147\n",
      "Epochs 108: source train acc: 0.979300; source test acc: 0.992600; target test acc: 0.211147\n"
     ]
    },
    {
     "name": "stderr",
     "output_type": "stream",
     "text": [
      "100%|██████████| 150/150 [00:07<00:00, 19.72it/s]\n",
      "100%|██████████| 334/334 [00:19<00:00, 16.90it/s]\n",
      "100%|██████████| 334/334 [00:19<00:00, 17.01it/s]\n"
     ]
    },
    {
     "name": "stdout",
     "output_type": "stream",
     "text": [
      "Epochs 109: source train acc: 0.979683; source test acc: 0.992500; target test acc: 0.208704\n",
      "Epochs 109: source train acc: 0.979683; source test acc: 0.992500; target test acc: 0.208704\n"
     ]
    },
    {
     "name": "stderr",
     "output_type": "stream",
     "text": [
      "100%|██████████| 150/150 [00:07<00:00, 19.64it/s]\n",
      "100%|██████████| 334/334 [00:19<00:00, 16.92it/s]\n",
      "100%|██████████| 334/334 [00:19<00:00, 17.00it/s]\n"
     ]
    },
    {
     "name": "stdout",
     "output_type": "stream",
     "text": [
      "Epochs 110: source train acc: 0.980250; source test acc: 0.992700; target test acc: 0.211024\n",
      "Epochs 110: source train acc: 0.980250; source test acc: 0.992700; target test acc: 0.211024\n"
     ]
    },
    {
     "name": "stderr",
     "output_type": "stream",
     "text": [
      "100%|██████████| 150/150 [00:07<00:00, 19.74it/s]\n",
      "100%|██████████| 334/334 [00:19<00:00, 17.00it/s]\n",
      "100%|██████████| 334/334 [00:19<00:00, 17.14it/s]\n"
     ]
    },
    {
     "name": "stdout",
     "output_type": "stream",
     "text": [
      "Epochs 111: source train acc: 0.979833; source test acc: 0.991900; target test acc: 0.210492\n",
      "Epochs 111: source train acc: 0.979833; source test acc: 0.991900; target test acc: 0.210492\n"
     ]
    },
    {
     "name": "stderr",
     "output_type": "stream",
     "text": [
      "100%|██████████| 150/150 [00:07<00:00, 19.68it/s]\n",
      "100%|██████████| 334/334 [00:19<00:00, 17.02it/s]\n",
      "100%|██████████| 334/334 [00:19<00:00, 17.11it/s]\n"
     ]
    },
    {
     "name": "stdout",
     "output_type": "stream",
     "text": [
      "Epochs 112: source train acc: 0.980017; source test acc: 0.991800; target test acc: 0.211516\n",
      "Epochs 112: source train acc: 0.980017; source test acc: 0.991800; target test acc: 0.211516\n"
     ]
    },
    {
     "name": "stderr",
     "output_type": "stream",
     "text": [
      "100%|██████████| 150/150 [00:07<00:00, 19.36it/s]\n",
      "100%|██████████| 334/334 [00:19<00:00, 16.78it/s]\n",
      "100%|██████████| 334/334 [00:19<00:00, 16.75it/s]\n"
     ]
    },
    {
     "name": "stdout",
     "output_type": "stream",
     "text": [
      "Epochs 113: source train acc: 0.980217; source test acc: 0.992300; target test acc: 0.210792\n",
      "Epochs 113: source train acc: 0.980217; source test acc: 0.992300; target test acc: 0.210792\n"
     ]
    },
    {
     "name": "stderr",
     "output_type": "stream",
     "text": [
      "100%|██████████| 150/150 [00:07<00:00, 19.30it/s]\n",
      "100%|██████████| 334/334 [00:19<00:00, 16.94it/s]\n",
      "100%|██████████| 334/334 [00:19<00:00, 17.09it/s]\n"
     ]
    },
    {
     "name": "stdout",
     "output_type": "stream",
     "text": [
      "Epochs 114: source train acc: 0.980600; source test acc: 0.993300; target test acc: 0.209878\n",
      "Epochs 114: source train acc: 0.980600; source test acc: 0.993300; target test acc: 0.209878\n"
     ]
    },
    {
     "name": "stderr",
     "output_type": "stream",
     "text": [
      "100%|██████████| 150/150 [00:07<00:00, 19.78it/s]\n",
      "100%|██████████| 334/334 [00:19<00:00, 16.92it/s]\n",
      "100%|██████████| 334/334 [00:19<00:00, 17.02it/s]\n"
     ]
    },
    {
     "name": "stdout",
     "output_type": "stream",
     "text": [
      "Epochs 115: source train acc: 0.979683; source test acc: 0.992300; target test acc: 0.213290\n",
      "Epochs 115: source train acc: 0.979683; source test acc: 0.992300; target test acc: 0.213290\n"
     ]
    },
    {
     "name": "stderr",
     "output_type": "stream",
     "text": [
      "100%|██████████| 150/150 [00:07<00:00, 19.75it/s]\n",
      "100%|██████████| 334/334 [00:19<00:00, 17.08it/s]\n",
      "100%|██████████| 334/334 [00:19<00:00, 17.09it/s]\n"
     ]
    },
    {
     "name": "stdout",
     "output_type": "stream",
     "text": [
      "Epochs 116: source train acc: 0.982067; source test acc: 0.992700; target test acc: 0.209018\n",
      "Epochs 116: source train acc: 0.982067; source test acc: 0.992700; target test acc: 0.209018\n"
     ]
    },
    {
     "name": "stderr",
     "output_type": "stream",
     "text": [
      "100%|██████████| 150/150 [00:07<00:00, 19.66it/s]\n",
      "100%|██████████| 334/334 [00:19<00:00, 16.93it/s]\n",
      "100%|██████████| 334/334 [00:19<00:00, 17.03it/s]\n"
     ]
    },
    {
     "name": "stdout",
     "output_type": "stream",
     "text": [
      "Epochs 117: source train acc: 0.980167; source test acc: 0.992100; target test acc: 0.211748\n",
      "Epochs 117: source train acc: 0.980167; source test acc: 0.992100; target test acc: 0.211748\n"
     ]
    },
    {
     "name": "stderr",
     "output_type": "stream",
     "text": [
      "100%|██████████| 150/150 [00:07<00:00, 19.72it/s]\n",
      "100%|██████████| 334/334 [00:19<00:00, 16.94it/s]\n",
      "100%|██████████| 334/334 [00:19<00:00, 17.07it/s]\n"
     ]
    },
    {
     "name": "stdout",
     "output_type": "stream",
     "text": [
      "Epochs 118: source train acc: 0.981917; source test acc: 0.993100; target test acc: 0.206424\n",
      "Epochs 118: source train acc: 0.981917; source test acc: 0.993100; target test acc: 0.206424\n"
     ]
    },
    {
     "name": "stderr",
     "output_type": "stream",
     "text": [
      "100%|██████████| 150/150 [00:07<00:00, 19.63it/s]\n",
      "100%|██████████| 334/334 [00:19<00:00, 17.02it/s]\n",
      "100%|██████████| 334/334 [00:19<00:00, 17.08it/s]\n"
     ]
    },
    {
     "name": "stdout",
     "output_type": "stream",
     "text": [
      "Epochs 119: source train acc: 0.980183; source test acc: 0.992500; target test acc: 0.208690\n",
      "Epochs 119: source train acc: 0.980183; source test acc: 0.992500; target test acc: 0.208690\n"
     ]
    },
    {
     "name": "stderr",
     "output_type": "stream",
     "text": [
      "100%|██████████| 150/150 [00:07<00:00, 19.67it/s]\n",
      "100%|██████████| 334/334 [00:19<00:00, 16.96it/s]\n",
      "100%|██████████| 334/334 [00:19<00:00, 17.05it/s]\n"
     ]
    },
    {
     "name": "stdout",
     "output_type": "stream",
     "text": [
      "Epochs 120: source train acc: 0.980300; source test acc: 0.992500; target test acc: 0.210751\n",
      "Epochs 120: source train acc: 0.980300; source test acc: 0.992500; target test acc: 0.210751\n"
     ]
    },
    {
     "name": "stderr",
     "output_type": "stream",
     "text": [
      "100%|██████████| 150/150 [00:07<00:00, 19.69it/s]\n",
      "100%|██████████| 334/334 [00:19<00:00, 17.00it/s]\n",
      "100%|██████████| 334/334 [00:19<00:00, 17.13it/s]\n"
     ]
    },
    {
     "name": "stdout",
     "output_type": "stream",
     "text": [
      "Epochs 121: source train acc: 0.980067; source test acc: 0.992600; target test acc: 0.207106\n",
      "Epochs 121: source train acc: 0.980067; source test acc: 0.992600; target test acc: 0.207106\n"
     ]
    },
    {
     "name": "stderr",
     "output_type": "stream",
     "text": [
      "100%|██████████| 150/150 [00:07<00:00, 19.53it/s]\n",
      "100%|██████████| 334/334 [00:19<00:00, 17.06it/s]\n",
      "100%|██████████| 334/334 [00:19<00:00, 17.11it/s]\n"
     ]
    },
    {
     "name": "stdout",
     "output_type": "stream",
     "text": [
      "Epochs 122: source train acc: 0.981000; source test acc: 0.993100; target test acc: 0.211679\n",
      "Epochs 122: source train acc: 0.981000; source test acc: 0.993100; target test acc: 0.211679\n"
     ]
    },
    {
     "name": "stderr",
     "output_type": "stream",
     "text": [
      "100%|██████████| 150/150 [00:07<00:00, 19.55it/s]\n",
      "100%|██████████| 334/334 [00:19<00:00, 16.97it/s]\n",
      "100%|██████████| 334/334 [00:19<00:00, 17.04it/s]\n"
     ]
    },
    {
     "name": "stdout",
     "output_type": "stream",
     "text": [
      "Epochs 123: source train acc: 0.980967; source test acc: 0.992800; target test acc: 0.213331\n",
      "Epochs 123: source train acc: 0.980967; source test acc: 0.992800; target test acc: 0.213331\n"
     ]
    },
    {
     "name": "stderr",
     "output_type": "stream",
     "text": [
      "100%|██████████| 150/150 [00:07<00:00, 19.59it/s]\n",
      "100%|██████████| 334/334 [00:19<00:00, 16.91it/s]\n",
      "100%|██████████| 334/334 [00:19<00:00, 16.96it/s]\n"
     ]
    },
    {
     "name": "stdout",
     "output_type": "stream",
     "text": [
      "Epochs 124: source train acc: 0.979683; source test acc: 0.992100; target test acc: 0.210751\n",
      "Epochs 124: source train acc: 0.979683; source test acc: 0.992100; target test acc: 0.210751\n"
     ]
    },
    {
     "name": "stderr",
     "output_type": "stream",
     "text": [
      "100%|██████████| 150/150 [00:07<00:00, 19.60it/s]\n",
      "100%|██████████| 334/334 [00:19<00:00, 16.95it/s]\n",
      "100%|██████████| 334/334 [00:19<00:00, 17.14it/s]\n"
     ]
    },
    {
     "name": "stdout",
     "output_type": "stream",
     "text": [
      "Epochs 125: source train acc: 0.981500; source test acc: 0.992100; target test acc: 0.210738\n",
      "Epochs 125: source train acc: 0.981500; source test acc: 0.992100; target test acc: 0.210738\n"
     ]
    },
    {
     "name": "stderr",
     "output_type": "stream",
     "text": [
      "100%|██████████| 150/150 [00:07<00:00, 19.61it/s]\n",
      "100%|██████████| 334/334 [00:19<00:00, 17.00it/s]\n",
      "100%|██████████| 334/334 [00:19<00:00, 17.08it/s]\n"
     ]
    },
    {
     "name": "stdout",
     "output_type": "stream",
     "text": [
      "Epochs 126: source train acc: 0.980350; source test acc: 0.992500; target test acc: 0.212034\n",
      "Epochs 126: source train acc: 0.980350; source test acc: 0.992500; target test acc: 0.212034\n"
     ]
    },
    {
     "name": "stderr",
     "output_type": "stream",
     "text": [
      "100%|██████████| 150/150 [00:07<00:00, 19.83it/s]\n",
      "100%|██████████| 334/334 [00:19<00:00, 17.04it/s]\n",
      "100%|██████████| 334/334 [00:19<00:00, 17.08it/s]\n"
     ]
    },
    {
     "name": "stdout",
     "output_type": "stream",
     "text": [
      "Epochs 127: source train acc: 0.980467; source test acc: 0.992800; target test acc: 0.209823\n",
      "Epochs 127: source train acc: 0.980467; source test acc: 0.992800; target test acc: 0.209823\n"
     ]
    },
    {
     "name": "stderr",
     "output_type": "stream",
     "text": [
      "100%|██████████| 150/150 [00:07<00:00, 19.71it/s]\n",
      "100%|██████████| 334/334 [00:19<00:00, 16.95it/s]\n",
      "100%|██████████| 334/334 [00:19<00:00, 17.05it/s]\n"
     ]
    },
    {
     "name": "stdout",
     "output_type": "stream",
     "text": [
      "Epochs 128: source train acc: 0.980933; source test acc: 0.992900; target test acc: 0.207680\n",
      "Epochs 128: source train acc: 0.980933; source test acc: 0.992900; target test acc: 0.207680\n"
     ]
    },
    {
     "name": "stderr",
     "output_type": "stream",
     "text": [
      "100%|██████████| 150/150 [00:07<00:00, 19.58it/s]\n",
      "100%|██████████| 334/334 [00:19<00:00, 16.94it/s]\n",
      "100%|██████████| 334/334 [00:19<00:00, 17.07it/s]\n"
     ]
    },
    {
     "name": "stdout",
     "output_type": "stream",
     "text": [
      "Epochs 129: source train acc: 0.981067; source test acc: 0.992700; target test acc: 0.208895\n",
      "Epochs 129: source train acc: 0.981067; source test acc: 0.992700; target test acc: 0.208895\n"
     ]
    },
    {
     "name": "stderr",
     "output_type": "stream",
     "text": [
      "100%|██████████| 150/150 [00:07<00:00, 19.63it/s]\n",
      "100%|██████████| 334/334 [00:19<00:00, 16.83it/s]\n",
      "100%|██████████| 334/334 [00:19<00:00, 17.00it/s]\n"
     ]
    },
    {
     "name": "stdout",
     "output_type": "stream",
     "text": [
      "Epochs 130: source train acc: 0.980300; source test acc: 0.992500; target test acc: 0.210164\n",
      "Epochs 130: source train acc: 0.980300; source test acc: 0.992500; target test acc: 0.210164\n"
     ]
    },
    {
     "name": "stderr",
     "output_type": "stream",
     "text": [
      "100%|██████████| 150/150 [00:07<00:00, 19.56it/s]\n",
      "100%|██████████| 334/334 [00:19<00:00, 16.92it/s]\n",
      "100%|██████████| 334/334 [00:19<00:00, 17.10it/s]\n"
     ]
    },
    {
     "name": "stdout",
     "output_type": "stream",
     "text": [
      "Epochs 131: source train acc: 0.980950; source test acc: 0.992200; target test acc: 0.209727\n",
      "Epochs 131: source train acc: 0.980950; source test acc: 0.992200; target test acc: 0.209727\n"
     ]
    },
    {
     "name": "stderr",
     "output_type": "stream",
     "text": [
      "100%|██████████| 150/150 [00:07<00:00, 19.59it/s]\n",
      "100%|██████████| 334/334 [00:19<00:00, 16.99it/s]\n",
      "100%|██████████| 334/334 [00:19<00:00, 16.94it/s]\n"
     ]
    },
    {
     "name": "stdout",
     "output_type": "stream",
     "text": [
      "Epochs 132: source train acc: 0.981150; source test acc: 0.993100; target test acc: 0.210956\n",
      "Epochs 132: source train acc: 0.981150; source test acc: 0.993100; target test acc: 0.210956\n"
     ]
    },
    {
     "name": "stderr",
     "output_type": "stream",
     "text": [
      "100%|██████████| 150/150 [00:07<00:00, 19.47it/s]\n",
      "100%|██████████| 334/334 [00:19<00:00, 16.90it/s]\n",
      "100%|██████████| 334/334 [00:19<00:00, 17.01it/s]\n"
     ]
    },
    {
     "name": "stdout",
     "output_type": "stream",
     "text": [
      "Epochs 133: source train acc: 0.979767; source test acc: 0.992400; target test acc: 0.211475\n",
      "Epochs 133: source train acc: 0.979767; source test acc: 0.992400; target test acc: 0.211475\n"
     ]
    },
    {
     "name": "stderr",
     "output_type": "stream",
     "text": [
      "100%|██████████| 150/150 [00:07<00:00, 19.61it/s]\n",
      "100%|██████████| 334/334 [00:19<00:00, 16.88it/s]\n",
      "100%|██████████| 334/334 [00:19<00:00, 17.14it/s]\n"
     ]
    },
    {
     "name": "stdout",
     "output_type": "stream",
     "text": [
      "Epochs 134: source train acc: 0.979800; source test acc: 0.992300; target test acc: 0.210246\n",
      "Epochs 134: source train acc: 0.979800; source test acc: 0.992300; target test acc: 0.210246\n"
     ]
    },
    {
     "name": "stderr",
     "output_type": "stream",
     "text": [
      "100%|██████████| 150/150 [00:07<00:00, 19.58it/s]\n",
      "100%|██████████| 334/334 [00:19<00:00, 17.02it/s]\n",
      "100%|██████████| 334/334 [00:19<00:00, 17.03it/s]\n"
     ]
    },
    {
     "name": "stdout",
     "output_type": "stream",
     "text": [
      "Epochs 135: source train acc: 0.980983; source test acc: 0.993000; target test acc: 0.207871\n",
      "Epochs 135: source train acc: 0.980983; source test acc: 0.993000; target test acc: 0.207871\n"
     ]
    },
    {
     "name": "stderr",
     "output_type": "stream",
     "text": [
      "100%|██████████| 150/150 [00:07<00:00, 19.69it/s]\n",
      "100%|██████████| 334/334 [00:19<00:00, 16.92it/s]\n",
      "100%|██████████| 334/334 [00:19<00:00, 16.75it/s]\n"
     ]
    },
    {
     "name": "stdout",
     "output_type": "stream",
     "text": [
      "Epochs 136: source train acc: 0.981083; source test acc: 0.991800; target test acc: 0.211052\n",
      "Epochs 136: source train acc: 0.981083; source test acc: 0.991800; target test acc: 0.211052\n"
     ]
    },
    {
     "name": "stderr",
     "output_type": "stream",
     "text": [
      "100%|██████████| 150/150 [00:07<00:00, 19.28it/s]\n",
      "100%|██████████| 334/334 [00:20<00:00, 16.67it/s]\n",
      "100%|██████████| 334/334 [00:19<00:00, 16.97it/s]\n"
     ]
    },
    {
     "name": "stdout",
     "output_type": "stream",
     "text": [
      "Epochs 137: source train acc: 0.980933; source test acc: 0.993300; target test acc: 0.211843\n",
      "Epochs 137: source train acc: 0.980933; source test acc: 0.993300; target test acc: 0.211843\n"
     ]
    },
    {
     "name": "stderr",
     "output_type": "stream",
     "text": [
      "100%|██████████| 150/150 [00:07<00:00, 19.66it/s]\n",
      "100%|██████████| 334/334 [00:19<00:00, 16.90it/s]\n",
      "100%|██████████| 334/334 [00:19<00:00, 17.04it/s]\n"
     ]
    },
    {
     "name": "stdout",
     "output_type": "stream",
     "text": [
      "Epochs 138: source train acc: 0.980167; source test acc: 0.992900; target test acc: 0.209837\n",
      "Epochs 138: source train acc: 0.980167; source test acc: 0.992900; target test acc: 0.209837\n"
     ]
    },
    {
     "name": "stderr",
     "output_type": "stream",
     "text": [
      "100%|██████████| 150/150 [00:07<00:00, 19.59it/s]\n",
      "100%|██████████| 334/334 [00:19<00:00, 16.98it/s]\n",
      "100%|██████████| 334/334 [00:19<00:00, 17.06it/s]\n"
     ]
    },
    {
     "name": "stdout",
     "output_type": "stream",
     "text": [
      "Epochs 139: source train acc: 0.981150; source test acc: 0.992900; target test acc: 0.211120\n",
      "Epochs 139: source train acc: 0.981150; source test acc: 0.992900; target test acc: 0.211120\n"
     ]
    },
    {
     "name": "stderr",
     "output_type": "stream",
     "text": [
      "100%|██████████| 150/150 [00:07<00:00, 19.76it/s]\n",
      "100%|██████████| 334/334 [00:19<00:00, 17.04it/s]\n",
      "100%|██████████| 334/334 [00:19<00:00, 17.14it/s]\n"
     ]
    },
    {
     "name": "stdout",
     "output_type": "stream",
     "text": [
      "Epochs 140: source train acc: 0.981200; source test acc: 0.992700; target test acc: 0.210697\n",
      "Epochs 140: source train acc: 0.981200; source test acc: 0.992700; target test acc: 0.210697\n"
     ]
    },
    {
     "name": "stderr",
     "output_type": "stream",
     "text": [
      "100%|██████████| 150/150 [00:07<00:00, 19.70it/s]\n",
      "100%|██████████| 334/334 [00:19<00:00, 16.90it/s]\n",
      "100%|██████████| 334/334 [00:19<00:00, 16.90it/s]\n"
     ]
    },
    {
     "name": "stdout",
     "output_type": "stream",
     "text": [
      "Epochs 141: source train acc: 0.981000; source test acc: 0.993100; target test acc: 0.209878\n",
      "Epochs 141: source train acc: 0.981000; source test acc: 0.993100; target test acc: 0.209878\n"
     ]
    },
    {
     "name": "stderr",
     "output_type": "stream",
     "text": [
      "100%|██████████| 150/150 [00:07<00:00, 19.27it/s]\n",
      "100%|██████████| 334/334 [00:19<00:00, 16.88it/s]\n",
      "100%|██████████| 334/334 [00:19<00:00, 16.89it/s]\n"
     ]
    },
    {
     "name": "stdout",
     "output_type": "stream",
     "text": [
      "Epochs 142: source train acc: 0.980000; source test acc: 0.991900; target test acc: 0.209209\n",
      "Epochs 142: source train acc: 0.980000; source test acc: 0.991900; target test acc: 0.209209\n"
     ]
    },
    {
     "name": "stderr",
     "output_type": "stream",
     "text": [
      "100%|██████████| 150/150 [00:07<00:00, 19.32it/s]\n",
      "100%|██████████| 334/334 [00:19<00:00, 16.96it/s]\n",
      "100%|██████████| 334/334 [00:19<00:00, 17.06it/s]\n"
     ]
    },
    {
     "name": "stdout",
     "output_type": "stream",
     "text": [
      "Epochs 143: source train acc: 0.981400; source test acc: 0.992400; target test acc: 0.209523\n",
      "Epochs 143: source train acc: 0.981400; source test acc: 0.992400; target test acc: 0.209523\n"
     ]
    },
    {
     "name": "stderr",
     "output_type": "stream",
     "text": [
      "100%|██████████| 150/150 [00:07<00:00, 19.62it/s]\n",
      "100%|██████████| 334/334 [00:19<00:00, 16.92it/s]\n",
      "100%|██████████| 334/334 [00:19<00:00, 16.92it/s]\n"
     ]
    },
    {
     "name": "stdout",
     "output_type": "stream",
     "text": [
      "Epochs 144: source train acc: 0.980450; source test acc: 0.992800; target test acc: 0.212485\n",
      "Epochs 144: source train acc: 0.980450; source test acc: 0.992800; target test acc: 0.212485\n"
     ]
    },
    {
     "name": "stderr",
     "output_type": "stream",
     "text": [
      "100%|██████████| 150/150 [00:07<00:00, 19.52it/s]\n",
      "100%|██████████| 334/334 [00:19<00:00, 16.98it/s]\n",
      "100%|██████████| 334/334 [00:19<00:00, 17.04it/s]\n"
     ]
    },
    {
     "name": "stdout",
     "output_type": "stream",
     "text": [
      "Epochs 145: source train acc: 0.981750; source test acc: 0.993300; target test acc: 0.208021\n",
      "Epochs 145: source train acc: 0.981750; source test acc: 0.993300; target test acc: 0.208021\n"
     ]
    },
    {
     "name": "stderr",
     "output_type": "stream",
     "text": [
      "100%|██████████| 150/150 [00:07<00:00, 19.60it/s]\n",
      "100%|██████████| 334/334 [00:19<00:00, 16.90it/s]\n",
      "100%|██████████| 334/334 [00:19<00:00, 16.99it/s]\n"
     ]
    },
    {
     "name": "stdout",
     "output_type": "stream",
     "text": [
      "Epochs 146: source train acc: 0.980183; source test acc: 0.992700; target test acc: 0.210587\n",
      "Epochs 146: source train acc: 0.980183; source test acc: 0.992700; target test acc: 0.210587\n"
     ]
    },
    {
     "name": "stderr",
     "output_type": "stream",
     "text": [
      "100%|██████████| 150/150 [00:07<00:00, 19.58it/s]\n",
      "100%|██████████| 334/334 [00:19<00:00, 16.91it/s]\n",
      "100%|██████████| 334/334 [00:19<00:00, 16.95it/s]\n"
     ]
    },
    {
     "name": "stdout",
     "output_type": "stream",
     "text": [
      "Epochs 147: source train acc: 0.982183; source test acc: 0.992500; target test acc: 0.211652\n",
      "Epochs 147: source train acc: 0.982183; source test acc: 0.992500; target test acc: 0.211652\n"
     ]
    },
    {
     "name": "stderr",
     "output_type": "stream",
     "text": [
      "100%|██████████| 150/150 [00:07<00:00, 19.63it/s]\n",
      "100%|██████████| 334/334 [00:19<00:00, 16.91it/s]\n",
      "100%|██████████| 334/334 [00:19<00:00, 17.01it/s]\n"
     ]
    },
    {
     "name": "stdout",
     "output_type": "stream",
     "text": [
      "Epochs 148: source train acc: 0.980733; source test acc: 0.993100; target test acc: 0.208704\n",
      "Epochs 148: source train acc: 0.980733; source test acc: 0.993100; target test acc: 0.208704\n"
     ]
    },
    {
     "name": "stderr",
     "output_type": "stream",
     "text": [
      "100%|██████████| 150/150 [00:07<00:00, 19.61it/s]\n",
      "100%|██████████| 334/334 [00:19<00:00, 16.95it/s]\n",
      "100%|██████████| 334/334 [00:19<00:00, 17.03it/s]\n"
     ]
    },
    {
     "name": "stdout",
     "output_type": "stream",
     "text": [
      "Epochs 149: source train acc: 0.981167; source test acc: 0.992700; target test acc: 0.211024\n",
      "Epochs 149: source train acc: 0.981167; source test acc: 0.992700; target test acc: 0.211024\n"
     ]
    },
    {
     "name": "stderr",
     "output_type": "stream",
     "text": [
      "100%|██████████| 150/150 [00:07<00:00, 19.68it/s]\n",
      "100%|██████████| 334/334 [00:19<00:00, 16.96it/s]\n",
      "100%|██████████| 334/334 [00:19<00:00, 17.07it/s]\n"
     ]
    },
    {
     "name": "stdout",
     "output_type": "stream",
     "text": [
      "Epochs 150: source train acc: 0.980833; source test acc: 0.992500; target test acc: 0.210069\n",
      "Epochs 150: source train acc: 0.980833; source test acc: 0.992500; target test acc: 0.210069\n"
     ]
    },
    {
     "name": "stderr",
     "output_type": "stream",
     "text": [
      "100%|██████████| 150/150 [00:07<00:00, 19.55it/s]\n",
      "100%|██████████| 334/334 [00:19<00:00, 17.07it/s]\n",
      "100%|██████████| 334/334 [00:19<00:00, 17.04it/s]\n"
     ]
    },
    {
     "name": "stdout",
     "output_type": "stream",
     "text": [
      "Epochs 151: source train acc: 0.982417; source test acc: 0.992400; target test acc: 0.210273\n",
      "Epochs 151: source train acc: 0.982417; source test acc: 0.992400; target test acc: 0.210273\n"
     ]
    },
    {
     "name": "stderr",
     "output_type": "stream",
     "text": [
      "100%|██████████| 150/150 [00:07<00:00, 19.60it/s]\n",
      "100%|██████████| 334/334 [00:19<00:00, 16.90it/s]\n",
      "100%|██████████| 334/334 [00:19<00:00, 17.10it/s]\n"
     ]
    },
    {
     "name": "stdout",
     "output_type": "stream",
     "text": [
      "Epochs 152: source train acc: 0.981033; source test acc: 0.991900; target test acc: 0.210273\n",
      "Epochs 152: source train acc: 0.981033; source test acc: 0.991900; target test acc: 0.210273\n"
     ]
    },
    {
     "name": "stderr",
     "output_type": "stream",
     "text": [
      "100%|██████████| 150/150 [00:07<00:00, 19.60it/s]\n",
      "100%|██████████| 334/334 [00:19<00:00, 16.79it/s]\n",
      "100%|██████████| 334/334 [00:19<00:00, 17.09it/s]\n"
     ]
    },
    {
     "name": "stdout",
     "output_type": "stream",
     "text": [
      "Epochs 153: source train acc: 0.980400; source test acc: 0.992100; target test acc: 0.209850\n",
      "Epochs 153: source train acc: 0.980400; source test acc: 0.992100; target test acc: 0.209850\n"
     ]
    },
    {
     "name": "stderr",
     "output_type": "stream",
     "text": [
      "100%|██████████| 150/150 [00:07<00:00, 19.66it/s]\n",
      "100%|██████████| 334/334 [00:19<00:00, 16.87it/s]\n",
      "100%|██████████| 334/334 [00:19<00:00, 16.97it/s]\n"
     ]
    },
    {
     "name": "stdout",
     "output_type": "stream",
     "text": [
      "Epochs 154: source train acc: 0.980883; source test acc: 0.992400; target test acc: 0.210123\n",
      "Epochs 154: source train acc: 0.980883; source test acc: 0.992400; target test acc: 0.210123\n"
     ]
    },
    {
     "name": "stderr",
     "output_type": "stream",
     "text": [
      "100%|██████████| 150/150 [00:07<00:00, 19.39it/s]\n",
      "100%|██████████| 334/334 [00:19<00:00, 16.86it/s]\n",
      "100%|██████████| 334/334 [00:19<00:00, 17.06it/s]\n"
     ]
    },
    {
     "name": "stdout",
     "output_type": "stream",
     "text": [
      "Epochs 155: source train acc: 0.981567; source test acc: 0.991900; target test acc: 0.207844\n",
      "Epochs 155: source train acc: 0.981567; source test acc: 0.991900; target test acc: 0.207844\n"
     ]
    },
    {
     "name": "stderr",
     "output_type": "stream",
     "text": [
      "100%|██████████| 150/150 [00:07<00:00, 19.63it/s]\n",
      "100%|██████████| 334/334 [00:19<00:00, 16.76it/s]\n",
      "100%|██████████| 334/334 [00:19<00:00, 16.84it/s]\n"
     ]
    },
    {
     "name": "stdout",
     "output_type": "stream",
     "text": [
      "Epochs 156: source train acc: 0.981267; source test acc: 0.992200; target test acc: 0.207653\n",
      "Epochs 156: source train acc: 0.981267; source test acc: 0.992200; target test acc: 0.207653\n"
     ]
    },
    {
     "name": "stderr",
     "output_type": "stream",
     "text": [
      "100%|██████████| 150/150 [00:07<00:00, 19.72it/s]\n",
      "100%|██████████| 334/334 [00:19<00:00, 16.91it/s]\n",
      "100%|██████████| 334/334 [00:19<00:00, 16.85it/s]\n"
     ]
    },
    {
     "name": "stdout",
     "output_type": "stream",
     "text": [
      "Epochs 157: source train acc: 0.981217; source test acc: 0.991600; target test acc: 0.210232\n",
      "Epochs 157: source train acc: 0.981217; source test acc: 0.991600; target test acc: 0.210232\n"
     ]
    },
    {
     "name": "stderr",
     "output_type": "stream",
     "text": [
      "100%|██████████| 150/150 [00:07<00:00, 19.78it/s]\n",
      "100%|██████████| 334/334 [00:19<00:00, 16.97it/s]\n",
      "100%|██████████| 334/334 [00:19<00:00, 17.09it/s]\n"
     ]
    },
    {
     "name": "stdout",
     "output_type": "stream",
     "text": [
      "Epochs 158: source train acc: 0.981233; source test acc: 0.992400; target test acc: 0.207748\n",
      "Epochs 158: source train acc: 0.981233; source test acc: 0.992400; target test acc: 0.207748\n"
     ]
    },
    {
     "name": "stderr",
     "output_type": "stream",
     "text": [
      "100%|██████████| 150/150 [00:07<00:00, 19.62it/s]\n",
      "100%|██████████| 334/334 [00:19<00:00, 16.93it/s]\n",
      "100%|██████████| 334/334 [00:19<00:00, 17.09it/s]\n"
     ]
    },
    {
     "name": "stdout",
     "output_type": "stream",
     "text": [
      "Epochs 159: source train acc: 0.981767; source test acc: 0.992900; target test acc: 0.209864\n",
      "Epochs 159: source train acc: 0.981767; source test acc: 0.992900; target test acc: 0.209864\n"
     ]
    },
    {
     "name": "stderr",
     "output_type": "stream",
     "text": [
      "100%|██████████| 150/150 [00:07<00:00, 19.86it/s]\n",
      "100%|██████████| 334/334 [00:19<00:00, 16.88it/s]\n",
      "100%|██████████| 334/334 [00:19<00:00, 16.88it/s]\n"
     ]
    },
    {
     "name": "stdout",
     "output_type": "stream",
     "text": [
      "Epochs 160: source train acc: 0.981317; source test acc: 0.993000; target test acc: 0.210000\n",
      "Epochs 160: source train acc: 0.981317; source test acc: 0.993000; target test acc: 0.210000\n"
     ]
    },
    {
     "name": "stderr",
     "output_type": "stream",
     "text": [
      "100%|██████████| 150/150 [00:07<00:00, 19.52it/s]\n",
      "100%|██████████| 334/334 [00:19<00:00, 16.91it/s]\n",
      "100%|██████████| 334/334 [00:19<00:00, 17.04it/s]\n"
     ]
    },
    {
     "name": "stdout",
     "output_type": "stream",
     "text": [
      "Epochs 161: source train acc: 0.980983; source test acc: 0.992700; target test acc: 0.210437\n",
      "Epochs 161: source train acc: 0.980983; source test acc: 0.992700; target test acc: 0.210437\n"
     ]
    },
    {
     "name": "stderr",
     "output_type": "stream",
     "text": [
      "100%|██████████| 150/150 [00:07<00:00, 19.75it/s]\n",
      "100%|██████████| 334/334 [00:19<00:00, 16.93it/s]\n",
      "100%|██████████| 334/334 [00:19<00:00, 16.92it/s]\n"
     ]
    },
    {
     "name": "stdout",
     "output_type": "stream",
     "text": [
      "Epochs 162: source train acc: 0.981433; source test acc: 0.993500; target test acc: 0.210273\n",
      "Epochs 162: source train acc: 0.981433; source test acc: 0.993500; target test acc: 0.210273\n"
     ]
    },
    {
     "name": "stderr",
     "output_type": "stream",
     "text": [
      "100%|██████████| 150/150 [00:07<00:00, 19.43it/s]\n",
      "100%|██████████| 334/334 [00:20<00:00, 16.60it/s]\n",
      "100%|██████████| 334/334 [00:19<00:00, 16.84it/s]\n"
     ]
    },
    {
     "name": "stdout",
     "output_type": "stream",
     "text": [
      "Epochs 163: source train acc: 0.980767; source test acc: 0.992500; target test acc: 0.209591\n",
      "Epochs 163: source train acc: 0.980767; source test acc: 0.992500; target test acc: 0.209591\n"
     ]
    },
    {
     "name": "stderr",
     "output_type": "stream",
     "text": [
      "100%|██████████| 150/150 [00:07<00:00, 19.55it/s]\n",
      "100%|██████████| 334/334 [00:20<00:00, 16.42it/s]\n",
      "100%|██████████| 334/334 [00:19<00:00, 16.86it/s]\n"
     ]
    },
    {
     "name": "stdout",
     "output_type": "stream",
     "text": [
      "Epochs 164: source train acc: 0.981217; source test acc: 0.992600; target test acc: 0.208048\n",
      "Epochs 164: source train acc: 0.981217; source test acc: 0.992600; target test acc: 0.208048\n"
     ]
    },
    {
     "name": "stderr",
     "output_type": "stream",
     "text": [
      "100%|██████████| 150/150 [00:07<00:00, 19.66it/s]\n",
      "100%|██████████| 334/334 [00:19<00:00, 16.83it/s]\n",
      "100%|██████████| 334/334 [00:19<00:00, 17.08it/s]\n"
     ]
    },
    {
     "name": "stdout",
     "output_type": "stream",
     "text": [
      "Epochs 165: source train acc: 0.981350; source test acc: 0.992100; target test acc: 0.210301\n",
      "Epochs 165: source train acc: 0.981350; source test acc: 0.992100; target test acc: 0.210301\n"
     ]
    },
    {
     "name": "stderr",
     "output_type": "stream",
     "text": [
      "100%|██████████| 150/150 [00:07<00:00, 19.76it/s]\n",
      "100%|██████████| 334/334 [00:19<00:00, 16.92it/s]\n",
      "100%|██████████| 334/334 [00:19<00:00, 17.11it/s]\n"
     ]
    },
    {
     "name": "stdout",
     "output_type": "stream",
     "text": [
      "Epochs 166: source train acc: 0.980283; source test acc: 0.992300; target test acc: 0.214669\n",
      "Epochs 166: source train acc: 0.980283; source test acc: 0.992300; target test acc: 0.214669\n"
     ]
    },
    {
     "name": "stderr",
     "output_type": "stream",
     "text": [
      "100%|██████████| 150/150 [00:07<00:00, 19.86it/s]\n",
      "100%|██████████| 334/334 [00:19<00:00, 16.95it/s]\n",
      "100%|██████████| 334/334 [00:19<00:00, 17.03it/s]\n"
     ]
    },
    {
     "name": "stdout",
     "output_type": "stream",
     "text": [
      "Epochs 167: source train acc: 0.981667; source test acc: 0.992500; target test acc: 0.211761\n",
      "Epochs 167: source train acc: 0.981667; source test acc: 0.992500; target test acc: 0.211761\n"
     ]
    },
    {
     "name": "stderr",
     "output_type": "stream",
     "text": [
      "100%|██████████| 150/150 [00:07<00:00, 19.64it/s]\n",
      "100%|██████████| 334/334 [00:19<00:00, 16.96it/s]\n",
      "100%|██████████| 334/334 [00:19<00:00, 17.05it/s]\n"
     ]
    },
    {
     "name": "stdout",
     "output_type": "stream",
     "text": [
      "Epochs 168: source train acc: 0.981483; source test acc: 0.991700; target test acc: 0.212034\n",
      "Epochs 168: source train acc: 0.981483; source test acc: 0.991700; target test acc: 0.212034\n"
     ]
    },
    {
     "name": "stderr",
     "output_type": "stream",
     "text": [
      "100%|██████████| 150/150 [00:07<00:00, 19.62it/s]\n",
      "100%|██████████| 334/334 [00:19<00:00, 16.93it/s]\n",
      "100%|██████████| 334/334 [00:19<00:00, 16.90it/s]\n"
     ]
    },
    {
     "name": "stdout",
     "output_type": "stream",
     "text": [
      "Epochs 169: source train acc: 0.981817; source test acc: 0.992200; target test acc: 0.208731\n",
      "Epochs 169: source train acc: 0.981817; source test acc: 0.992200; target test acc: 0.208731\n"
     ]
    },
    {
     "name": "stderr",
     "output_type": "stream",
     "text": [
      "100%|██████████| 150/150 [00:07<00:00, 19.76it/s]\n",
      "100%|██████████| 334/334 [00:19<00:00, 16.99it/s]\n",
      "100%|██████████| 334/334 [00:19<00:00, 17.12it/s]\n"
     ]
    },
    {
     "name": "stdout",
     "output_type": "stream",
     "text": [
      "Epochs 170: source train acc: 0.980817; source test acc: 0.992300; target test acc: 0.209209\n",
      "Epochs 170: source train acc: 0.980817; source test acc: 0.992300; target test acc: 0.209209\n"
     ]
    },
    {
     "name": "stderr",
     "output_type": "stream",
     "text": [
      "100%|██████████| 150/150 [00:07<00:00, 19.49it/s]\n",
      "100%|██████████| 334/334 [00:19<00:00, 17.07it/s]\n",
      "100%|██████████| 334/334 [00:19<00:00, 17.09it/s]\n"
     ]
    },
    {
     "name": "stdout",
     "output_type": "stream",
     "text": [
      "Epochs 171: source train acc: 0.981150; source test acc: 0.992100; target test acc: 0.208130\n",
      "Epochs 171: source train acc: 0.981150; source test acc: 0.992100; target test acc: 0.208130\n"
     ]
    },
    {
     "name": "stderr",
     "output_type": "stream",
     "text": [
      "100%|██████████| 150/150 [00:07<00:00, 19.77it/s]\n",
      "100%|██████████| 334/334 [00:19<00:00, 16.99it/s]\n",
      "100%|██████████| 334/334 [00:19<00:00, 16.99it/s]\n"
     ]
    },
    {
     "name": "stdout",
     "output_type": "stream",
     "text": [
      "Epochs 172: source train acc: 0.981617; source test acc: 0.991600; target test acc: 0.206833\n",
      "Epochs 172: source train acc: 0.981617; source test acc: 0.991600; target test acc: 0.206833\n"
     ]
    },
    {
     "name": "stderr",
     "output_type": "stream",
     "text": [
      "100%|██████████| 150/150 [00:07<00:00, 19.68it/s]\n",
      "100%|██████████| 334/334 [00:19<00:00, 16.81it/s]\n",
      "100%|██████████| 334/334 [00:19<00:00, 16.98it/s]\n"
     ]
    },
    {
     "name": "stdout",
     "output_type": "stream",
     "text": [
      "Epochs 173: source train acc: 0.981717; source test acc: 0.991400; target test acc: 0.206847\n",
      "Epochs 173: source train acc: 0.981717; source test acc: 0.991400; target test acc: 0.206847\n"
     ]
    },
    {
     "name": "stderr",
     "output_type": "stream",
     "text": [
      "100%|██████████| 150/150 [00:07<00:00, 19.78it/s]\n",
      "100%|██████████| 334/334 [00:19<00:00, 16.93it/s]\n",
      "100%|██████████| 334/334 [00:19<00:00, 17.06it/s]\n"
     ]
    },
    {
     "name": "stdout",
     "output_type": "stream",
     "text": [
      "Epochs 174: source train acc: 0.980750; source test acc: 0.992200; target test acc: 0.205154\n",
      "Epochs 174: source train acc: 0.980750; source test acc: 0.992200; target test acc: 0.205154\n"
     ]
    },
    {
     "name": "stderr",
     "output_type": "stream",
     "text": [
      "100%|██████████| 150/150 [00:07<00:00, 19.63it/s]\n",
      "100%|██████████| 334/334 [00:19<00:00, 16.86it/s]\n",
      "100%|██████████| 334/334 [00:19<00:00, 17.03it/s]\n"
     ]
    },
    {
     "name": "stdout",
     "output_type": "stream",
     "text": [
      "Epochs 175: source train acc: 0.981917; source test acc: 0.992700; target test acc: 0.207420\n",
      "Epochs 175: source train acc: 0.981917; source test acc: 0.992700; target test acc: 0.207420\n"
     ]
    },
    {
     "name": "stderr",
     "output_type": "stream",
     "text": [
      "100%|██████████| 150/150 [00:07<00:00, 19.61it/s]\n",
      "100%|██████████| 334/334 [00:19<00:00, 16.93it/s]\n",
      "100%|██████████| 334/334 [00:19<00:00, 17.06it/s]\n"
     ]
    },
    {
     "name": "stdout",
     "output_type": "stream",
     "text": [
      "Epochs 176: source train acc: 0.981383; source test acc: 0.992500; target test acc: 0.208813\n",
      "Epochs 176: source train acc: 0.981383; source test acc: 0.992500; target test acc: 0.208813\n"
     ]
    },
    {
     "name": "stderr",
     "output_type": "stream",
     "text": [
      "100%|██████████| 150/150 [00:07<00:00, 19.65it/s]\n",
      "100%|██████████| 334/334 [00:19<00:00, 16.93it/s]\n",
      "100%|██████████| 334/334 [00:19<00:00, 17.13it/s]\n"
     ]
    },
    {
     "name": "stdout",
     "output_type": "stream",
     "text": [
      "Epochs 177: source train acc: 0.981267; source test acc: 0.992100; target test acc: 0.207680\n",
      "Epochs 177: source train acc: 0.981267; source test acc: 0.992100; target test acc: 0.207680\n"
     ]
    },
    {
     "name": "stderr",
     "output_type": "stream",
     "text": [
      "100%|██████████| 150/150 [00:07<00:00, 19.67it/s]\n",
      "100%|██████████| 334/334 [00:19<00:00, 16.92it/s]\n",
      "100%|██████████| 334/334 [00:19<00:00, 17.07it/s]\n"
     ]
    },
    {
     "name": "stdout",
     "output_type": "stream",
     "text": [
      "Epochs 178: source train acc: 0.981917; source test acc: 0.992400; target test acc: 0.208253\n",
      "Epochs 178: source train acc: 0.981917; source test acc: 0.992400; target test acc: 0.208253\n"
     ]
    },
    {
     "name": "stderr",
     "output_type": "stream",
     "text": [
      "100%|██████████| 150/150 [00:07<00:00, 19.62it/s]\n",
      "100%|██████████| 334/334 [00:19<00:00, 16.94it/s]\n",
      "100%|██████████| 334/334 [00:19<00:00, 17.10it/s]\n"
     ]
    },
    {
     "name": "stdout",
     "output_type": "stream",
     "text": [
      "Epochs 179: source train acc: 0.981150; source test acc: 0.993100; target test acc: 0.208226\n",
      "Epochs 179: source train acc: 0.981150; source test acc: 0.993100; target test acc: 0.208226\n"
     ]
    },
    {
     "name": "stderr",
     "output_type": "stream",
     "text": [
      "100%|██████████| 150/150 [00:07<00:00, 19.67it/s]\n",
      "100%|██████████| 334/334 [00:19<00:00, 16.90it/s]\n",
      "100%|██████████| 334/334 [00:19<00:00, 17.09it/s]\n"
     ]
    },
    {
     "name": "stdout",
     "output_type": "stream",
     "text": [
      "Epochs 180: source train acc: 0.981033; source test acc: 0.992600; target test acc: 0.209850\n",
      "Epochs 180: source train acc: 0.981033; source test acc: 0.992600; target test acc: 0.209850\n"
     ]
    },
    {
     "name": "stderr",
     "output_type": "stream",
     "text": [
      "100%|██████████| 150/150 [00:07<00:00, 19.54it/s]\n",
      "100%|██████████| 334/334 [00:19<00:00, 16.92it/s]\n",
      "100%|██████████| 334/334 [00:19<00:00, 17.02it/s]\n"
     ]
    },
    {
     "name": "stdout",
     "output_type": "stream",
     "text": [
      "Epochs 181: source train acc: 0.981083; source test acc: 0.993200; target test acc: 0.207516\n",
      "Epochs 181: source train acc: 0.981083; source test acc: 0.993200; target test acc: 0.207516\n"
     ]
    },
    {
     "name": "stderr",
     "output_type": "stream",
     "text": [
      "100%|██████████| 150/150 [00:07<00:00, 19.81it/s]\n",
      "100%|██████████| 334/334 [00:19<00:00, 16.93it/s]\n",
      "100%|██████████| 334/334 [00:19<00:00, 17.02it/s]\n"
     ]
    },
    {
     "name": "stdout",
     "output_type": "stream",
     "text": [
      "Epochs 182: source train acc: 0.982483; source test acc: 0.993000; target test acc: 0.207680\n",
      "Epochs 182: source train acc: 0.982483; source test acc: 0.993000; target test acc: 0.207680\n"
     ]
    },
    {
     "name": "stderr",
     "output_type": "stream",
     "text": [
      "100%|██████████| 150/150 [00:07<00:00, 19.69it/s]\n",
      "100%|██████████| 334/334 [00:19<00:00, 16.90it/s]\n",
      "100%|██████████| 334/334 [00:19<00:00, 17.03it/s]\n"
     ]
    },
    {
     "name": "stdout",
     "output_type": "stream",
     "text": [
      "Epochs 183: source train acc: 0.982167; source test acc: 0.992500; target test acc: 0.210028\n",
      "Epochs 183: source train acc: 0.982167; source test acc: 0.992500; target test acc: 0.210028\n"
     ]
    },
    {
     "name": "stderr",
     "output_type": "stream",
     "text": [
      "100%|██████████| 150/150 [00:07<00:00, 19.63it/s]\n",
      "100%|██████████| 334/334 [00:19<00:00, 16.91it/s]\n",
      "100%|██████████| 334/334 [00:19<00:00, 16.97it/s]\n"
     ]
    },
    {
     "name": "stdout",
     "output_type": "stream",
     "text": [
      "Epochs 184: source train acc: 0.981133; source test acc: 0.992400; target test acc: 0.207830\n",
      "Epochs 184: source train acc: 0.981133; source test acc: 0.992400; target test acc: 0.207830\n"
     ]
    },
    {
     "name": "stderr",
     "output_type": "stream",
     "text": [
      "100%|██████████| 150/150 [00:07<00:00, 19.64it/s]\n",
      "100%|██████████| 334/334 [00:19<00:00, 16.92it/s]\n",
      "100%|██████████| 334/334 [00:19<00:00, 16.98it/s]\n"
     ]
    },
    {
     "name": "stdout",
     "output_type": "stream",
     "text": [
      "Epochs 185: source train acc: 0.981533; source test acc: 0.992300; target test acc: 0.207461\n",
      "Epochs 185: source train acc: 0.981533; source test acc: 0.992300; target test acc: 0.207461\n"
     ]
    },
    {
     "name": "stderr",
     "output_type": "stream",
     "text": [
      "100%|██████████| 150/150 [00:07<00:00, 19.71it/s]\n",
      "100%|██████████| 334/334 [00:19<00:00, 16.91it/s]\n",
      "100%|██████████| 334/334 [00:19<00:00, 17.12it/s]\n"
     ]
    },
    {
     "name": "stdout",
     "output_type": "stream",
     "text": [
      "Epochs 186: source train acc: 0.980850; source test acc: 0.991700; target test acc: 0.209932\n",
      "Epochs 186: source train acc: 0.980850; source test acc: 0.991700; target test acc: 0.209932\n"
     ]
    },
    {
     "name": "stderr",
     "output_type": "stream",
     "text": [
      "100%|██████████| 150/150 [00:07<00:00, 19.63it/s]\n",
      "100%|██████████| 334/334 [00:19<00:00, 16.94it/s]\n",
      "100%|██████████| 334/334 [00:19<00:00, 17.05it/s]\n"
     ]
    },
    {
     "name": "stdout",
     "output_type": "stream",
     "text": [
      "Epochs 187: source train acc: 0.982183; source test acc: 0.992600; target test acc: 0.210328\n",
      "Epochs 187: source train acc: 0.982183; source test acc: 0.992600; target test acc: 0.210328\n"
     ]
    },
    {
     "name": "stderr",
     "output_type": "stream",
     "text": [
      "100%|██████████| 150/150 [00:07<00:00, 19.59it/s]\n",
      "100%|██████████| 334/334 [00:19<00:00, 16.90it/s]\n",
      "100%|██████████| 334/334 [00:20<00:00, 16.66it/s]\n"
     ]
    },
    {
     "name": "stdout",
     "output_type": "stream",
     "text": [
      "Epochs 188: source train acc: 0.981017; source test acc: 0.993000; target test acc: 0.209400\n",
      "Epochs 188: source train acc: 0.981017; source test acc: 0.993000; target test acc: 0.209400\n"
     ]
    },
    {
     "name": "stderr",
     "output_type": "stream",
     "text": [
      "100%|██████████| 150/150 [00:07<00:00, 19.63it/s]\n",
      "100%|██████████| 334/334 [00:19<00:00, 16.93it/s]\n",
      "100%|██████████| 334/334 [00:19<00:00, 17.02it/s]\n"
     ]
    },
    {
     "name": "stdout",
     "output_type": "stream",
     "text": [
      "Epochs 189: source train acc: 0.982033; source test acc: 0.992400; target test acc: 0.208485\n",
      "Epochs 189: source train acc: 0.982033; source test acc: 0.992400; target test acc: 0.208485\n"
     ]
    },
    {
     "name": "stderr",
     "output_type": "stream",
     "text": [
      "100%|██████████| 150/150 [00:07<00:00, 19.44it/s]\n",
      "100%|██████████| 334/334 [00:19<00:00, 16.85it/s]\n",
      "100%|██████████| 334/334 [00:19<00:00, 16.88it/s]\n"
     ]
    },
    {
     "name": "stdout",
     "output_type": "stream",
     "text": [
      "Epochs 190: source train acc: 0.981550; source test acc: 0.992100; target test acc: 0.210778\n",
      "Epochs 190: source train acc: 0.981550; source test acc: 0.992100; target test acc: 0.210778\n"
     ]
    },
    {
     "name": "stderr",
     "output_type": "stream",
     "text": [
      "100%|██████████| 150/150 [00:07<00:00, 19.58it/s]\n",
      "100%|██████████| 334/334 [00:19<00:00, 16.86it/s]\n",
      "100%|██████████| 334/334 [00:19<00:00, 17.07it/s]\n"
     ]
    },
    {
     "name": "stdout",
     "output_type": "stream",
     "text": [
      "Epochs 191: source train acc: 0.981417; source test acc: 0.992700; target test acc: 0.209345\n",
      "Epochs 191: source train acc: 0.981417; source test acc: 0.992700; target test acc: 0.209345\n"
     ]
    },
    {
     "name": "stderr",
     "output_type": "stream",
     "text": [
      "100%|██████████| 150/150 [00:07<00:00, 19.67it/s]\n",
      "100%|██████████| 334/334 [00:19<00:00, 16.85it/s]\n",
      "100%|██████████| 334/334 [00:19<00:00, 17.02it/s]\n"
     ]
    },
    {
     "name": "stdout",
     "output_type": "stream",
     "text": [
      "Epochs 192: source train acc: 0.982617; source test acc: 0.992600; target test acc: 0.208376\n",
      "Epochs 192: source train acc: 0.982617; source test acc: 0.992600; target test acc: 0.208376\n"
     ]
    },
    {
     "name": "stderr",
     "output_type": "stream",
     "text": [
      "100%|██████████| 150/150 [00:07<00:00, 19.61it/s]\n",
      "100%|██████████| 334/334 [00:19<00:00, 17.04it/s]\n",
      "100%|██████████| 334/334 [00:19<00:00, 17.11it/s]\n"
     ]
    },
    {
     "name": "stdout",
     "output_type": "stream",
     "text": [
      "Epochs 193: source train acc: 0.981850; source test acc: 0.992600; target test acc: 0.207147\n",
      "Epochs 193: source train acc: 0.981850; source test acc: 0.992600; target test acc: 0.207147\n"
     ]
    },
    {
     "name": "stderr",
     "output_type": "stream",
     "text": [
      "100%|██████████| 150/150 [00:07<00:00, 19.73it/s]\n",
      "100%|██████████| 334/334 [00:19<00:00, 16.95it/s]\n",
      "100%|██████████| 334/334 [00:19<00:00, 17.13it/s]\n"
     ]
    },
    {
     "name": "stdout",
     "output_type": "stream",
     "text": [
      "Epochs 194: source train acc: 0.981533; source test acc: 0.991900; target test acc: 0.207134\n",
      "Epochs 194: source train acc: 0.981533; source test acc: 0.991900; target test acc: 0.207134\n"
     ]
    },
    {
     "name": "stderr",
     "output_type": "stream",
     "text": [
      "100%|██████████| 150/150 [00:07<00:00, 19.72it/s]\n",
      "100%|██████████| 334/334 [00:19<00:00, 16.98it/s]\n",
      "100%|██████████| 334/334 [00:24<00:00, 13.62it/s]\n"
     ]
    },
    {
     "name": "stdout",
     "output_type": "stream",
     "text": [
      "Epochs 195: source train acc: 0.981017; source test acc: 0.992700; target test acc: 0.209059\n",
      "Epochs 195: source train acc: 0.981017; source test acc: 0.992700; target test acc: 0.209059\n"
     ]
    },
    {
     "name": "stderr",
     "output_type": "stream",
     "text": [
      "100%|██████████| 150/150 [00:07<00:00, 19.35it/s]\n",
      "100%|██████████| 334/334 [00:27<00:00, 12.13it/s]\n",
      "100%|██████████| 334/334 [00:19<00:00, 16.99it/s]\n"
     ]
    },
    {
     "name": "stdout",
     "output_type": "stream",
     "text": [
      "Epochs 196: source train acc: 0.981267; source test acc: 0.992400; target test acc: 0.209454\n",
      "Epochs 196: source train acc: 0.981267; source test acc: 0.992400; target test acc: 0.209454\n"
     ]
    },
    {
     "name": "stderr",
     "output_type": "stream",
     "text": [
      "100%|██████████| 150/150 [00:07<00:00, 19.62it/s]\n",
      "100%|██████████| 334/334 [00:19<00:00, 16.85it/s]\n",
      "100%|██████████| 334/334 [00:19<00:00, 16.98it/s]\n"
     ]
    },
    {
     "name": "stdout",
     "output_type": "stream",
     "text": [
      "Epochs 197: source train acc: 0.981367; source test acc: 0.992200; target test acc: 0.205823\n",
      "Epochs 197: source train acc: 0.981367; source test acc: 0.992200; target test acc: 0.205823\n"
     ]
    },
    {
     "name": "stderr",
     "output_type": "stream",
     "text": [
      "100%|██████████| 150/150 [00:07<00:00, 19.61it/s]\n",
      "100%|██████████| 334/334 [00:19<00:00, 16.99it/s]\n",
      "100%|██████████| 334/334 [00:19<00:00, 16.98it/s]\n"
     ]
    },
    {
     "name": "stdout",
     "output_type": "stream",
     "text": [
      "Epochs 198: source train acc: 0.981283; source test acc: 0.992200; target test acc: 0.207284\n",
      "Epochs 198: source train acc: 0.981283; source test acc: 0.992200; target test acc: 0.207284\n"
     ]
    },
    {
     "name": "stderr",
     "output_type": "stream",
     "text": [
      "100%|██████████| 150/150 [00:07<00:00, 19.66it/s]\n",
      "100%|██████████| 334/334 [00:19<00:00, 16.93it/s]\n",
      "100%|██████████| 334/334 [00:19<00:00, 17.06it/s]\n"
     ]
    },
    {
     "name": "stdout",
     "output_type": "stream",
     "text": [
      "Epochs 199: source train acc: 0.981467; source test acc: 0.992800; target test acc: 0.208512\n",
      "Epochs 199: source train acc: 0.981467; source test acc: 0.992800; target test acc: 0.208512\n"
     ]
    },
    {
     "name": "stderr",
     "output_type": "stream",
     "text": [
      "100%|██████████| 150/150 [00:07<00:00, 19.66it/s]\n",
      "100%|██████████| 334/334 [00:19<00:00, 16.89it/s]\n",
      "100%|██████████| 334/334 [00:19<00:00, 16.98it/s]\n"
     ]
    },
    {
     "name": "stdout",
     "output_type": "stream",
     "text": [
      "Epochs 200: source train acc: 0.981333; source test acc: 0.993000; target test acc: 0.207161\n",
      "Epochs 200: source train acc: 0.981333; source test acc: 0.993000; target test acc: 0.207161\n"
     ]
    }
   ],
   "source": [
    "target_acc_label_ = []\n",
    "source_acc_ = []\n",
    "source_test_acc_ = []\n",
    "target_test_acc_ = []\n",
    "\n",
    "logger.info('Started Training')\n",
    "\n",
    "\n",
    "for epoch in range(args.epochs):\n",
    "    # update classifier\n",
    "    # on source domain mnist\n",
    "    CNet.train()\n",
    "    encoder.train()\n",
    "    source_acc = 0.0\n",
    "    num_datas = 0.0\n",
    "    for batch_id, (source_x, source_y) in tqdm(enumerate(train_mnist_loader), total=len(train_mnist_loader)):\n",
    "        optimizerCNet.zero_grad()\n",
    "        optimizerEncoder.zero_grad()\n",
    "        source_x = source_x.to(device).float()\n",
    "        source_y = source_y.to(device)\n",
    "        num_datas += source_x.size(0)\n",
    "        source_x_embedding = encoder(source_x)\n",
    "        pred = CNet(source_x_embedding)\n",
    "        source_acc += (pred.argmax(-1) == source_y).sum().item()\n",
    "        loss = criterion_classifier(pred, source_y)\n",
    "        loss.backward()\n",
    "        optimizerCNet.step()\n",
    "        optimizerEncoder.step()\n",
    "        \n",
    "        \n",
    "    source_acc = source_acc / num_datas\n",
    "    source_acc_.append(source_acc)\n",
    "    \n",
    "    \n",
    "    \n",
    "    # on target domain svhn\n",
    "#     target_acc = 0.0\n",
    "#     num_datas = 0.0\n",
    "#     CNet.train()\n",
    "#     encoder.train()\n",
    "\n",
    "#     for batch_id, (target_x, target_y) in tqdm(enumerate(train_svhn_loader), total=len(train_svhn_loader)):\n",
    "#         optimizerCNet.zero_grad()\n",
    "#         optimizerEncoder.zero_grad()\n",
    "#         target_x = target_x.to(device).float()\n",
    "#         target_y = target_y.to(device)\n",
    "#         num_datas += target_x.size(0)\n",
    "#         target_x_embedding = encoder(target_x)\n",
    "#         pred = CNet(target_x_embedding)\n",
    "#         target_acc += (pred.argmax(-1) == target_y).sum().item()\n",
    "#         loss = criterion_classifier(pred, target_y)\n",
    "#         loss.backward()\n",
    "#         optimizerCNet.step()\n",
    "#         optimizerEncoder.step()\n",
    "        \n",
    "    \n",
    "#     target_acc = target_acc / num_datas\n",
    "#     target_acc_label_.append(target_acc)\n",
    "    \n",
    "    \n",
    "    # DANN\n",
    "#     DomainCNet.train()\n",
    "#     encoder.train()\n",
    "    num_datas = 0.0\n",
    "    for batch_id, (adv_x, adv_y) in tqdm(enumerate(adverial_loader), total=len(adverial_loader)):\n",
    "        # domain layer loss\n",
    "        DomainCNet.train()\n",
    "        encoder.train()\n",
    "        optimizerCNet.zero_grad()\n",
    "        optimizerEncoder.zero_grad()\n",
    "        adv_x = adv_x.to(device).float()\n",
    "        adv_y = adv_y.to(device)\n",
    "        adv_x_embedding = encoder(adv_x)\n",
    "        pred = DomainCNet(adv_x_embedding)\n",
    "        # adv_acc += (pred.argmax(-1) == adv_y).sum().item()\n",
    "        loss_adv = args.dann_weight * criterion_classifier(pred, adv_y)\n",
    "        loss_adv.backward()\n",
    "        optimizerDomainCNet.step()\n",
    "    \n",
    "    for batch_id, (adv_x, adv_y) in tqdm(enumerate(adverial_loader), total=len(adverial_loader)):\n",
    "        # domain layer loss\n",
    "        DomainCNet.train()\n",
    "        encoder.train()\n",
    "        optimizerCNet.zero_grad()\n",
    "        optimizerEncoder.zero_grad()\n",
    "        adv_x = adv_x.to(device).float()\n",
    "        adv_y = adv_y.to(device)\n",
    "        adv_x_embedding = encoder(adv_x)\n",
    "        pred = DomainCNet(adv_x_embedding)\n",
    "        # adv_acc += (pred.argmax(-1) == adv_y).sum().item()\n",
    "        loss_adv = -args.dann_weight * criterion_classifier(pred, adv_y)\n",
    "        loss_adv.backward()\n",
    "        optimizerEncoder.step()\n",
    "\n",
    "        \n",
    "#         DomainCNet.eval()\n",
    "#         encoder.train()\n",
    "#         optimizerEncoder.zero_grad()\n",
    "#         adv_x_embedding = encoder(adv_x)\n",
    "#         pred = DomainCNet(adv_x_embedding)\n",
    "#         loss_adv = -args.dann_weight * criterion_classifier(pred, adv_y)\n",
    "#         loss.backward()\n",
    "#         optimizerEncoder.step()\n",
    "    \n",
    "    \n",
    "    \n",
    "    \n",
    "    # eval on source   \n",
    "    source_test_acc = 0.0\n",
    "    num_datas = 0.0\n",
    "    CNet.eval()\n",
    "    encoder.eval()\n",
    "    \n",
    "    for batch_id, (source_x, source_y) in enumerate(test_mnist_loader):\n",
    "        optimizerCNet.zero_grad()\n",
    "        optimizerEncoder.zero_grad()\n",
    "        source_x = source_x.to(device).float()\n",
    "        source_y = source_y.to(device)\n",
    "        num_datas += source_x.size(0)\n",
    "        source_x_embedding = encoder(source_x)\n",
    "        pred = CNet(source_x_embedding)\n",
    "        source_test_acc += (pred.argmax(-1) == source_y).sum().item()\n",
    "        \n",
    "    source_test_acc = source_test_acc / num_datas\n",
    "    source_test_acc_.append(source_test_acc)\n",
    "    \n",
    "    # eval on target \n",
    "    num_datas = 0.0\n",
    "    target_test_acc = 0.0\n",
    "    for batch_id, (target_x, target_y) in enumerate(test_svhn_loader):\n",
    "        optimizerCNet.zero_grad()\n",
    "        optimizerEncoder.zero_grad()\n",
    "        target_x = target_x.to(device).float()\n",
    "        target_y = target_y.to(device)\n",
    "        num_datas += target_x.size(0)\n",
    "        target_x_embedding = encoder(target_x)\n",
    "        pred = CNet(target_x_embedding)\n",
    "        target_test_acc += (pred.argmax(-1) == target_y).sum().item()\n",
    "    \n",
    "    target_test_acc = target_test_acc / num_datas\n",
    "    target_test_acc_.append(source_test_acc)\n",
    "    \n",
    "    if epoch % args.model_save_period == 0:\n",
    "        torch.save(DomainCNet.state_dict(), args.save_path+model_sub_folder+ '/DomainCNet_%i.t7'%(epoch+1))\n",
    "        torch.save(encoder.state_dict(), args.save_path+model_sub_folder+ '/encoder_%i.t7'%(epoch+1))\n",
    "        torch.save(CNet.state_dict(), args.save_path+model_sub_folder+ '/CNet_%i.t7'%(epoch+1))\n",
    "\n",
    "    \n",
    "    logger.info('Epochs %i: source train acc: %f; source test acc: %f; target test acc: %f'%(epoch+1, source_acc, source_test_acc, target_test_acc))\n",
    "    "
   ]
  },
  {
   "cell_type": "code",
   "execution_count": 49,
   "metadata": {},
   "outputs": [
    {
     "name": "stderr",
     "output_type": "stream",
     "text": [
      "  6%|▌         | 9/150 [00:00<00:07, 19.02it/s]\n"
     ]
    },
    {
     "data": {
      "text/plain": [
       "Text(0.5, 1.0, 'tSNE for source training data')"
      ]
     },
     "execution_count": 49,
     "metadata": {},
     "output_type": "execute_result"
    },
    {
     "data": {
      "image/png": "[encoded data removed]",
      "text/plain": [
       "<Figure size 842.4x595.44 with 1 Axes>"
      ]
     },
     "metadata": {},
     "output_type": "display_data"
    }
   ],
   "source": [
    "# Evalualtion\n",
    "\n",
    "from sklearn.manifold import TSNE\n",
    "import seaborn as sns\n",
    "\n",
    "source_x_all = torch.empty(0,).to(device)\n",
    "source_y_all = torch.empty(0,).to(device).long()\n",
    "round_ = 0\n",
    "total_round = 10\n",
    "for batch_id, (source_x, source_y) in tqdm(enumerate(train_mnist_loader), total=len(train_mnist_loader)):\n",
    "    optimizerCNet.zero_grad()\n",
    "    optimizerEncoder.zero_grad()\n",
    "    source_x = source_x.to(device).float()\n",
    "    source_y = source_y.to(device)\n",
    "    source_x_all = torch.cat([source_x_all, source_x], dim=0)\n",
    "    source_y_all = torch.cat([source_y_all, source_y], dim=0)\n",
    "    round_ += 1\n",
    "    if round_ >= total_round:\n",
    "        break\n",
    "\n",
    "CNet.eval()\n",
    "encoder.eval()\n",
    "CNet.to(device)\n",
    "encoder.to(device)\n",
    "source_x_embedding_all = encoder(source_x_all)\n",
    "last_layer = CNet(source_x_embedding_all)\n",
    "source_x_embedding_all.shape\n",
    "\n",
    "\n",
    "tsne = TSNE()\n",
    "tsne_res = tsne.fit_transform(source_x_embedding_all.to('cpu').detach())\n",
    "\n",
    "# plot\n",
    "# linear unlabeled\n",
    "sns.set(rc={'figure.figsize':(11.7,8.27)})\n",
    "palette = sns.color_palette(\"bright\", 10)\n",
    "\n",
    "g = sns.scatterplot(tsne_res[:,0], tsne_res[:,1], hue=source_y_all.to('cpu'), legend=False, palette=palette)\n",
    "\n",
    "plt.title('tSNE for source training data')\n"
   ]
  },
  {
   "cell_type": "code",
   "execution_count": 51,
   "metadata": {},
   "outputs": [
    {
     "name": "stderr",
     "output_type": "stream",
     "text": [
      "  5%|▍         | 9/184 [00:00<00:13, 13.39it/s]\n"
     ]
    },
    {
     "data": {
      "text/plain": [
       "Text(0.5, 1.0, 'tSNE for target testing data')"
      ]
     },
     "execution_count": 51,
     "metadata": {},
     "output_type": "execute_result"
    },
    {
     "data": {
      "image/png": "[encoded data removed]",
      "text/plain": [
       "<Figure size 842.4x595.44 with 1 Axes>"
      ]
     },
     "metadata": {},
     "output_type": "display_data"
    }
   ],
   "source": [
    "\n",
    "target_x_all = torch.empty(0,).to(device)\n",
    "target_y_all = torch.empty(0,).to(device).long()\n",
    "round_ = 0\n",
    "total_round = 10\n",
    "for batch_id, (target_x, target_y) in tqdm(enumerate(test_svhn_loader), total=len(test_svhn_loader)):\n",
    "    optimizerCNet.zero_grad()\n",
    "    optimizerEncoder.zero_grad()\n",
    "    target_x = target_x.to(device).float()\n",
    "    target_y = target_y.to(device)\n",
    "    target_x_all = torch.cat([target_x_all, target_x], dim=0)\n",
    "    target_y_all = torch.cat([target_y_all, target_y], dim=0)\n",
    "    round_ += 1\n",
    "    if round_ >= total_round:\n",
    "        break\n",
    "\n",
    "CNet.eval()\n",
    "encoder.eval()\n",
    "CNet.to(device)\n",
    "encoder.to(device)\n",
    "target_x_embedding_all = encoder(target_x_all)\n",
    "last_layer = CNet(target_x_embedding_all)\n",
    "target_x_embedding_all.shape\n",
    "\n",
    "\n",
    "target_tsne = TSNE()\n",
    "target_tsne_res = target_tsne.fit_transform(last_layer.to('cpu').detach())\n",
    "\n",
    "# plot\n",
    "# linear unlabeled\n",
    "sns.set(rc={'figure.figsize':(11.7,8.27)})\n",
    "palette = sns.color_palette(\"bright\", 10)\n",
    "\n",
    "g = sns.scatterplot(target_tsne_res[:,0], target_tsne_res[:,1], hue=target_y_all.to('cpu'), legend=False, palette=palette)\n",
    "\n",
    "plt.title('tSNE for target testing data')"
   ]
  },
  {
   "cell_type": "code",
   "execution_count": null,
   "metadata": {},
   "outputs": [],
   "source": []
  }
 ],
 "metadata": {
  "kernelspec": {
   "display_name": "Python 3",
   "language": "python",
   "name": "python3"
  },
  "language_info": {
   "codemirror_mode": {
    "name": "ipython",
    "version": 3
   },
   "file_extension": ".py",
   "mimetype": "text/x-python",
   "name": "python",
   "nbconvert_exporter": "python",
   "pygments_lexer": "ipython3",
   "version": "3.7.7"
  }
 },
 "nbformat": 4,
 "nbformat_minor": 4
}
