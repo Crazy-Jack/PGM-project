{
 "cells": [
  {
   "cell_type": "code",
   "execution_count": 1,
   "metadata": {},
   "outputs": [],
   "source": [
    "import torch\n",
    "import torchvision\n",
    "import torchvision.datasets as datasets\n",
    "from tqdm import tqdm\n",
    "import argparse\n",
    "from torch.utils.data import Dataset, DataLoader\n",
    "import torch.nn as nn\n",
    "import torch.nn.functional as F\n",
    "import torch.optim as optim\n",
    "import numpy as np\n",
    "import matplotlib.pyplot as plt\n",
    "import torch.backends.cudnn as cudnn\n",
    "import os\n",
    "import sys\n",
    "import logging\n",
    "import logging.handlers\n",
    "from PIL import Image"
   ]
  },
  {
   "cell_type": "markdown",
   "metadata": {},
   "source": [
    "# Parser"
   ]
  },
  {
   "cell_type": "code",
   "execution_count": 99,
   "metadata": {},
   "outputs": [
    {
     "name": "stderr",
     "output_type": "stream",
     "text": [
      "usage: ipykernel_launcher.py [-h] [--batch_size BATCH_SIZE] [--learning_rate LEARNING_RATE] [--momentum MOMENTUM] [--gpu_num GPU_NUM]\n",
      "                             [--seed SEED] [--save_path SAVE_PATH] [--subfolder SUBFOLDER] [--wtarget WTARGET]\n",
      "                             [--model_save_period MODEL_SAVE_PERIOD] [--epochs EPOCHS] [--dann_weight DANN_WEIGHT]\n",
      "                             [--start_shuffle_dann START_SHUFFLE_DANN] [--is_shuffle IS_SHUFFLE] [--model_path MODEL_PATH]\n",
      "                             [--intervals INTERVALS] --model_name MODEL_NAME [--gfunction_epoch GFUNCTION_EPOCH] [--KL KL] [--JS JS] [--lr LR]\n",
      "                             [--classifier_epoch CLASSIFIER_EPOCH]\n",
      "ipykernel_launcher.py: error: the following arguments are required: --model_name\n"
     ]
    },
    {
     "ename": "SystemExit",
     "evalue": "2",
     "output_type": "error",
     "traceback": [
      "An exception has occurred, use %tb to see the full traceback.\n",
      "\u001b[0;31mSystemExit\u001b[0m\u001b[0;31m:\u001b[0m 2\n"
     ]
    },
    {
     "name": "stderr",
     "output_type": "stream",
     "text": [
      "/home/tianqinl/anaconda3/envs/pgm/lib/python3.8/site-packages/IPython/core/interactiveshell.py:3339: UserWarning: To exit: use 'exit', 'quit', or Ctrl-D.\n",
      "  warn(\"To exit: use 'exit', 'quit', or Ctrl-D.\", stacklevel=1)\n"
     ]
    }
   ],
   "source": [
    "parser = argparse.ArgumentParser(description='Domain adaptation')\n",
    "parser.add_argument(\"--batch_size\", type=int, default=\"400\", help=\"batch size\")\n",
    "parser.add_argument(\"--learning_rate\", type=float, default=1e-3, help=\"learning rate\")\n",
    "parser.add_argument(\"--momentum\", type=float, default=0.5, help=\"momentum\")\n",
    "parser.add_argument(\"--gpu_num\", type=int, default=0, help=\"gpu num\")\n",
    "parser.add_argument(\"--seed\", type=int, default=123, help=\"munually set seed\")\n",
    "parser.add_argument(\"--save_path\", type=str, default=\"../train_related\", help=\"save path\")\n",
    "parser.add_argument(\"--subfolder\", type=str, default='test', help=\"subfolder name\")\n",
    "parser.add_argument(\"--wtarget\", type=float, default=0.7, help=\"target weight\")\n",
    "parser.add_argument(\"--model_save_period\", type=int, default=2, help=\"save period\")\n",
    "parser.add_argument(\"--epochs\", type=int, default=2000, help=\"label shuffling\")\n",
    "parser.add_argument(\"--dann_weight\", type=float, default=1, help=\"weight for label shuffling\")\n",
    "parser.add_argument(\"--start_shuffle_dann\", type=int, default=100, help=\"when to start shuffling\")\n",
    "parser.add_argument(\"--is_shuffle\", type=int, default=1, help=\"no shuffle if 0\")\n",
    "parser.add_argument('--model_path', type=str, help='where the data is stored')\n",
    "parser.add_argument('--intervals', type=int, default=2, help='freq of compute f-div')\n",
    "parser.add_argument('--model_name', type=str, required=True)\n",
    "parser.add_argument('--gfunction_epoch', type=int, default=5000, help='epoch of which gfunction is trained for')\n",
    "parser.add_argument('--KL', type=bool, default=False, help=\"if calculate KL divergence\")\n",
    "parser.add_argument('--JS', type=bool, default=False, help=\"if calculate JS divergence\")\n",
    "parser.add_argument('--lr', type=float, default=1e-3, help='learning rate')\n",
    "parser.add_argument('--classifier_epoch', type=int, default=10000, help='max iteration to train classifier')\n",
    "parser.add_argument('--classifier', type=bool, default=True, help=\"if optmizer classifier\")\n",
    "\n",
    "\n",
    "args = parser.parse_args()\n",
    "# snap shot of py file and command\n",
    "python_file_name = sys.argv[0]\n"
   ]
  },
  {
   "cell_type": "markdown",
   "metadata": {},
   "source": [
    "# local only"
   ]
  },
  {
   "cell_type": "code",
   "execution_count": 97,
   "metadata": {},
   "outputs": [],
   "source": [
    "# # local only\n",
    "# class local_args:\n",
    "#     def __init__(self, **entries):\n",
    "#         self.__dict__.update(entries)\n",
    "        \n",
    "# args = local_args(**{\n",
    "#     'batch_size': 400,\n",
    "#     'learning_rate': 1e-3,\n",
    "#     'momentum': 0.5,\n",
    "#     'gpu_num': 0,\n",
    "#     'seed': 123,\n",
    "#     'save_path': \"../train_related\",\n",
    "#     'epochs': 2,\n",
    "#     'subfolder': \"test\",\n",
    "#     'wtarget': 0.7,\n",
    "#     'dann_weight': 1,\n",
    "#     'model_save_period': 2,\n",
    "#     'start_shuffle_dann': 1,\n",
    "#     'is_shuffle': 1,\n",
    "#     'KL': True,\n",
    "#     'model_path': '/home/tianqinl/Code/PGM-project/train_related/domain_shuffle_svhn_to_mnist/shuffle_weight_1.000000_learningrate_0.001000_startsepoch_30',\n",
    "#     'classifier': True,\n",
    "#     'intervals': 100,\n",
    "#     'lr': 1e-3,\n",
    "#     'JS': False,\n",
    "#     'gfunction_epoch': 5,\n",
    "#     'classifier_epoch': 100,\n",
    "#     'sclass': 0.7\n",
    "# })"
   ]
  },
  {
   "cell_type": "code",
   "execution_count": 21,
   "metadata": {},
   "outputs": [
    {
     "name": "stdout",
     "output_type": "stream",
     "text": [
      "cuda:0\n"
     ]
    }
   ],
   "source": [
    "\n",
    "device = torch.device('cuda:{}'.format(args.gpu_num) if torch.cuda.is_available() else 'cpu')\n",
    "# seed\n",
    "torch.manual_seed(args.seed)\n",
    "torch.cuda.manual_seed(args.seed)\n",
    "np.random.seed(args.seed)\n",
    "cudnn.deterministic = True\n",
    "torch.backends.cudnn.deterministic = True\n",
    "\n",
    "\n",
    "\n",
    "device = torch.device('cuda:{}'.format(args.gpu_num) if torch.cuda.is_available() else 'cpu')\n",
    "print(device)\n",
    "\n",
    "\n",
    "model_sub_folder = args.subfolder + '/interval_%i'%(args.intervals)\n",
    "save_folder = os.path.join(args.save_path, model_sub_folder)\n",
    "if not os.path.exists(save_folder):\n",
    "    os.makedirs(save_folder)   \n"
   ]
  },
  {
   "cell_type": "code",
   "execution_count": 22,
   "metadata": {},
   "outputs": [
    {
     "name": "stdout",
     "output_type": "stream",
     "text": [
      "Fixed source testing bug\n",
      "Fixed source testing bug\n",
      "batch_size: 400\n",
      "batch_size: 400\n",
      "learning_rate: 0.001\n",
      "learning_rate: 0.001\n",
      "momentum: 0.5\n",
      "momentum: 0.5\n",
      "gpu_num: 0\n",
      "gpu_num: 0\n",
      "seed: 123\n",
      "seed: 123\n",
      "save_path: ../train_related\n",
      "save_path: ../train_related\n",
      "epochs: 2\n",
      "epochs: 2\n",
      "subfolder: test\n",
      "subfolder: test\n",
      "wtarget: 0.7\n",
      "wtarget: 0.7\n",
      "dann_weight: 1\n",
      "dann_weight: 1\n",
      "model_save_period: 2\n",
      "model_save_period: 2\n",
      "start_shuffle_dann: 1\n",
      "start_shuffle_dann: 1\n",
      "is_shuffle: 1\n",
      "is_shuffle: 1\n",
      "KL: True\n",
      "KL: True\n",
      "model_path: /home/tianqinl/Code/PGM-project/train_related/domain_shuffle_svhn_to_mnist/shuffle_weight_1.000000_learningrate_0.001000_startsepoch_30\n",
      "model_path: /home/tianqinl/Code/PGM-project/train_related/domain_shuffle_svhn_to_mnist/shuffle_weight_1.000000_learningrate_0.001000_startsepoch_30\n",
      "Training Save Path: ../train_related/test/shuffle_weight_1.000000_learningrate_0.001000_startsepoch_1_isshuffle_1\n",
      "Training Save Path: ../train_related/test/shuffle_weight_1.000000_learningrate_0.001000_startsepoch_1_isshuffle_1\n"
     ]
    }
   ],
   "source": [
    "\n",
    "logger = logging.getLogger()\n",
    "logger.setLevel(logging.INFO)\n",
    "logfile_path = os.path.join(save_folder, 'logfile.log')\n",
    "if os.path.isfile(logfile_path):\n",
    "    os.remove(logfile_path)\n",
    "    \n",
    "file_log_handler = logging.FileHandler(logfile_path)\n",
    "logger.addHandler(file_log_handler)\n",
    "\n",
    "stdout_log_handler = logging.StreamHandler(sys.stdout)\n",
    "logger.addHandler(stdout_log_handler)\n",
    "logger.info(\"Fixed source testing bug\")\n",
    "attrs = vars(args)\n",
    "for item in attrs.items():\n",
    "    logger.info(\"%s: %s\"%item)\n",
    "logger.info(\"Training Save Path: {}\".format(save_folder))\n"
   ]
  },
  {
   "cell_type": "markdown",
   "metadata": {},
   "source": [
    "# Data loader"
   ]
  },
  {
   "cell_type": "code",
   "execution_count": 7,
   "metadata": {},
   "outputs": [],
   "source": [
    "mnist_trainset = datasets.MNIST(root='../data', train=True, download=True, transform=torchvision.transforms.Compose([\n",
    "                               torchvision.transforms.ToTensor(),\n",
    "                               torchvision.transforms.Normalize(\n",
    "                                 (0.1307,), (0.3081,))\n",
    "                             ]))"
   ]
  },
  {
   "cell_type": "code",
   "execution_count": 8,
   "metadata": {},
   "outputs": [],
   "source": [
    "mnist_testset = datasets.MNIST(root='../data', train=False, download=True, transform=torchvision.transforms.Compose([\n",
    "                               torchvision.transforms.ToTensor(),\n",
    "                               torchvision.transforms.Normalize(\n",
    "                                 (0.1307,), (0.3081,))\n",
    "                             ]))"
   ]
  },
  {
   "cell_type": "code",
   "execution_count": 9,
   "metadata": {},
   "outputs": [
    {
     "name": "stdout",
     "output_type": "stream",
     "text": [
      "Using downloaded and verified file: ../data/train_32x32.mat\n"
     ]
    }
   ],
   "source": [
    "svhn_trainset = datasets.SVHN(root='../data', split='train', download=True, transform=torchvision.transforms.Compose([\n",
    "                    torchvision.transforms.Resize((28, 28)),\n",
    "                    torchvision.transforms.Grayscale(num_output_channels=1),\n",
    "                    torchvision.transforms.ToTensor(),\n",
    "                    torchvision.transforms.Normalize([0.5], [0.5])]))"
   ]
  },
  {
   "cell_type": "code",
   "execution_count": 10,
   "metadata": {},
   "outputs": [
    {
     "name": "stdout",
     "output_type": "stream",
     "text": [
      "Using downloaded and verified file: ../data/test_32x32.mat\n"
     ]
    }
   ],
   "source": [
    "svhn_testset = datasets.SVHN(root='../data', split='test', download=True, transform=torchvision.transforms.Compose([\n",
    "                    torchvision.transforms.Resize((28, 28)),\n",
    "                    torchvision.transforms.Grayscale(num_output_channels=1),\n",
    "                    torchvision.transforms.ToTensor(),\n",
    "                    torchvision.transforms.Normalize([0.5], [0.5])]))"
   ]
  },
  {
   "cell_type": "code",
   "execution_count": 23,
   "metadata": {},
   "outputs": [],
   "source": [
    "# reload data\n",
    "train_mnist_loader = DataLoader(mnist_trainset, batch_size=args.batch_size, shuffle=True)\n",
    "test_mnist_loader = DataLoader(mnist_testset, batch_size=args.batch_size, shuffle=True)\n",
    "train_svhn_loader = DataLoader(svhn_trainset, batch_size=args.batch_size, shuffle=True)\n",
    "test_svhn_loader = DataLoader(svhn_testset, batch_size=args.batch_size, shuffle=True)"
   ]
  },
  {
   "cell_type": "markdown",
   "metadata": {},
   "source": [
    "## Process data for cancat with source and target label"
   ]
  },
  {
   "cell_type": "code",
   "execution_count": 24,
   "metadata": {},
   "outputs": [],
   "source": [
    "class ConcatDataset(Dataset):\n",
    "    def __init__(self, x, y, mode='mnist'):\n",
    "        self.x = x\n",
    "        self.y = y\n",
    "        self.len = self.x.shape[0]\n",
    "        self.mode = mode\n",
    "        if self.mode == 'mnist':\n",
    "            self.transform = torchvision.transforms.Compose([\n",
    "                               torchvision.transforms.ToTensor(),\n",
    "                               torchvision.transforms.Normalize(\n",
    "                                 (0.1307,), (0.3081,))\n",
    "                             ])\n",
    "        elif self.mode == 'svhn':\n",
    "            self.transform = torchvision.transforms.Compose([\n",
    "                    torchvision.transforms.Resize((28, 28)),\n",
    "                    torchvision.transforms.Grayscale(num_output_channels=1),\n",
    "                    torchvision.transforms.ToTensor(),\n",
    "                    torchvision.transforms.Normalize([0.5], [0.5])])\n",
    "\n",
    "    def __len__(self):\n",
    "        return self.len\n",
    "    \n",
    "    def __getitem__(self, index):\n",
    "        if self.mode == 'mnist':\n",
    "            img = Image.fromarray(self.x[index].numpy(), mode='L')\n",
    "            img = self.transform(img)\n",
    "        elif self.mode == 'svhn':\n",
    "            img = Image.fromarray(np.transpose(self.x[index], (1, 2, 0)))\n",
    "            img = self.transform(img)\n",
    "    \n",
    "        return img, self.y[index]"
   ]
  },
  {
   "cell_type": "markdown",
   "metadata": {},
   "source": [
    "# Model"
   ]
  },
  {
   "cell_type": "code",
   "execution_count": 25,
   "metadata": {},
   "outputs": [],
   "source": [
    "class Encoder(nn.Module):\n",
    "    def __init__(self):\n",
    "        super(Encoder, self).__init__()\n",
    "        self.conv1 = nn.Conv2d(1, 10, kernel_size=5)\n",
    "        self.conv2 = nn.Conv2d(10, 20, kernel_size=5)\n",
    "        self.conv2_drop = nn.Dropout2d()\n",
    "        self.fc1 = nn.Linear(320, 50)\n",
    "        self.fc2 = nn.Linear(50, 30)\n",
    "\n",
    "    def forward(self, x):\n",
    "        x = F.relu(F.max_pool2d(self.conv1(x), 2))\n",
    "        x = F.relu(F.max_pool2d(self.conv2_drop(self.conv2(x)), 2))\n",
    "        x = x.view(-1, 320)\n",
    "        x = F.relu(self.fc1(x))\n",
    "        x = F.dropout(x, training=self.training)\n",
    "        x = self.fc2(x)\n",
    "        return x"
   ]
  },
  {
   "cell_type": "code",
   "execution_count": 26,
   "metadata": {},
   "outputs": [],
   "source": [
    "class FNN(nn.Module):\n",
    "    def __init__(self, d_in, d_h1, d_h2, d_out, dp=0.2):\n",
    "        super(FNN, self).__init__()\n",
    "        self.fc1 = nn.Linear(d_in, d_h1)\n",
    "        self.ln1 = nn.LayerNorm(d_h1)\n",
    "        self.relu1 = nn.ReLU(inplace=True)\n",
    "        self.dropout1 = nn.Dropout(dp)\n",
    "        self.fc2 = nn.Linear(d_h1, d_h2)\n",
    "        self.ln2 = nn.LayerNorm(d_h2)\n",
    "        self.relu2 = nn.ReLU(inplace=True)\n",
    "        self.dropout2 = nn.Dropout(dp)\n",
    "        self.fc3 = nn.Linear(d_h2, d_out)\n",
    "\n",
    "    def forward(self, x):\n",
    "        x = self.fc1(x)\n",
    "        x = self.ln1(x)\n",
    "        x = self.relu1(x)\n",
    "        x = self.dropout1(x)\n",
    "        x = self.fc2(x)\n",
    "        x = self.ln2(x)\n",
    "        x = self.relu2(x)\n",
    "        x = self.dropout2(x)\n",
    "        x = self.fc3(x)\n",
    "        return x\n",
    "    \n",
    "    def before_lastlinear(self, x):\n",
    "        x = self.fc1(x)\n",
    "        x = self.ln1(x)\n",
    "        x = self.relu1(x)\n",
    "        x = self.dropout1(x)\n",
    "        x = self.fc2(x)\n",
    "        x = self.ln2(x)\n",
    "        x = self.relu2(x)\n",
    "        x = self.dropout2(x)\n",
    "        return x\n",
    "\n",
    "        "
   ]
  },
  {
   "cell_type": "code",
   "execution_count": 27,
   "metadata": {},
   "outputs": [],
   "source": [
    "class Adversial_loss(nn.Module):\n",
    "    def __init__(self):\n",
    "        super(Adversial_loss, self).__init__()\n",
    "    \n",
    "    def forward(self):\n",
    "        pass"
   ]
  },
  {
   "cell_type": "code",
   "execution_count": 28,
   "metadata": {},
   "outputs": [],
   "source": [
    "def weights_init(m):\n",
    "    if type(m) == nn.Linear:\n",
    "        torch.nn.init.xavier_uniform_(m.weight)\n",
    "    elif type(m) == nn.LayerNorm:\n",
    "        torch.nn.init.normal_(m.weight, 1.0, 0.02)\n",
    "        torch.nn.init.constant_(m.bias, 0)\n"
   ]
  },
  {
   "cell_type": "code",
   "execution_count": 91,
   "metadata": {},
   "outputs": [
    {
     "name": "stdout",
     "output_type": "stream",
     "text": [
      "cuda:0\n"
     ]
    },
    {
     "data": {
      "text/plain": [
       "FNN(\n",
       "  (fc1): Linear(in_features=30, out_features=1000, bias=True)\n",
       "  (ln1): LayerNorm((1000,), eps=1e-05, elementwise_affine=True)\n",
       "  (relu1): ReLU(inplace=True)\n",
       "  (dropout1): Dropout(p=0.2, inplace=False)\n",
       "  (fc2): Linear(in_features=1000, out_features=100, bias=True)\n",
       "  (ln2): LayerNorm((100,), eps=1e-05, elementwise_affine=True)\n",
       "  (relu2): ReLU(inplace=True)\n",
       "  (dropout2): Dropout(p=0.2, inplace=False)\n",
       "  (fc3): Linear(in_features=100, out_features=2, bias=True)\n",
       ")"
      ]
     },
     "execution_count": 91,
     "metadata": {},
     "output_type": "execute_result"
    }
   ],
   "source": [
    "\n",
    "device = torch.device('cuda:{}'.format(args.gpu_num) if torch.cuda.is_available() else 'cpu')\n",
    "print(device)\n",
    "torch.manual_seed(args.seed)\n",
    "torch.cuda.manual_seed(args.seed)\n",
    "np.random.seed(args.seed)\n",
    "\n",
    "encoder = Encoder().to(device)\n",
    "CNet = FNN(d_in=30, d_h1=100, d_h2=100, d_out=10, dp=0.2).to(device)\n",
    "DomainCNet = FNN(d_in=30, d_h1=1000, d_h2=100, d_out=2, dp=0.2).to(device)\n",
    "\n",
    "\n",
    "\n",
    "\n",
    "optimizerEncoder = optim.Adam(encoder.parameters(), lr=args.learning_rate)\n",
    "optimizerCNet = optim.Adam(CNet.parameters(), lr=args.learning_rate)\n",
    "optimizerDomainCNet = optim.Adam(DomainCNet.parameters(), lr=args.learning_rate)\n",
    "\n",
    "criterion_classifier = nn.CrossEntropyLoss().to(device)\n",
    "# criterion_adverisal = \n",
    "\n",
    "encoder.apply(weights_init)\n",
    "CNet.apply(weights_init)\n",
    "DomainCNet.apply(weights_init)"
   ]
  },
  {
   "cell_type": "markdown",
   "metadata": {},
   "source": [
    "# Model Evaluation"
   ]
  },
  {
   "cell_type": "code",
   "execution_count": 68,
   "metadata": {},
   "outputs": [],
   "source": [
    "class Gfunction(nn.Sequential):\n",
    "    def __init__(self):\n",
    "        super(Gfunction, self).__init__(\n",
    "            nn.Linear(30,100),\n",
    "            nn.ELU(),\n",
    "            nn.Linear(100,100),\n",
    "            nn.ELU(),\n",
    "            nn.Linear(100,100),\n",
    "            nn.ELU(),\n",
    "            nn.Linear(100,100),\n",
    "            nn.ELU(),\n",
    "            nn.Linear(100,100),\n",
    "            nn.ELU(),\n",
    "            nn.Linear(100,100),\n",
    "            nn.ELU(),\n",
    "            nn.Linear(100,100),\n",
    "            nn.ELU(),\n",
    "            nn.Linear(100,100),\n",
    "            nn.ELU(),\n",
    "            nn.Linear(100,100),\n",
    "            nn.ELU(),\n",
    "            nn.Linear(100,100),\n",
    "            nn.ELU(),\n",
    "            nn.Linear(100,100),\n",
    "            nn.ELU(),\n",
    "            nn.Linear(100,1)\n",
    "        )"
   ]
  },
  {
   "cell_type": "code",
   "execution_count": 69,
   "metadata": {},
   "outputs": [],
   "source": [
    "def log_mean_exp(x, device):\n",
    "    max_score = x.max()\n",
    "    batch_size = torch.Tensor([x.shape[0]]).to(device)\n",
    "    stable_x = x - max_score\n",
    "    return max_score - batch_size.log() + stable_x.exp().sum(dim=0).log()\n",
    "\n",
    "a = torch.rand([100,1]).to(device)\n",
    "assert torch.all(log_mean_exp(a, device) - a.exp().mean(dim=0).log() < 1e-6)"
   ]
  },
  {
   "cell_type": "code",
   "execution_count": 70,
   "metadata": {},
   "outputs": [],
   "source": [
    "def KLDiv(g_x_source, g_x_target, device):\n",
    "    # clipping\n",
    "#     g_x_source = torch.clamp(g_x_source, -1e3, 1e3)\n",
    "#     g_x_target = torch.clamp(g_x_target, -1e3, 1e3)\n",
    "    return g_x_source.mean(dim=0) - log_mean_exp(g_x_target, device)"
   ]
  },
  {
   "cell_type": "code",
   "execution_count": 71,
   "metadata": {},
   "outputs": [],
   "source": [
    "if args.KL:\n",
    "    gfunction_KL_div_labeled = Gfunction().to(device)\n",
    "    gfunction_KL_div_unlabeled = Gfunction().to(device)\n"
   ]
  },
  {
   "cell_type": "markdown",
   "metadata": {},
   "source": [
    "# Estimate KL"
   ]
  },
  {
   "cell_type": "code",
   "execution_count": 98,
   "metadata": {},
   "outputs": [
    {
     "name": "stdout",
     "output_type": "stream",
     "text": [
      "Started loading\n",
      "Started loading\n"
     ]
    },
    {
     "name": "stderr",
     "output_type": "stream",
     "text": [
      "100%|██████████| 184/184 [00:10<00:00, 17.94it/s]\n",
      "100%|██████████| 66/66 [00:03<00:00, 18.21it/s]\n",
      "100%|██████████| 25/25 [00:00<00:00, 25.39it/s]\n",
      "100%|██████████| 5/5 [00:00<00:00, 47.01it/s]\n",
      "  6%|▌         | 6/100 [00:00<00:01, 56.97it/s]"
     ]
    },
    {
     "name": "stdout",
     "output_type": "stream",
     "text": [
      "Epoch 3, Iter 0, unlabeled KL: -0.024723\n"
     ]
    },
    {
     "name": "stderr",
     "output_type": "stream",
     "text": [
      "100%|██████████| 100/100 [00:01<00:00, 54.84it/s]"
     ]
    },
    {
     "name": "stdout",
     "output_type": "stream",
     "text": [
      "-----------------------------------------\n",
      "-----------------------------------------\n",
      "Epoch 3: testing KL: 1.960006; src unlbl acc: 0.778926, tgt unlbl acc: 0.484300; \n",
      "Epoch 3: testing KL: 1.960006; src unlbl acc: 0.778926, tgt unlbl acc: 0.484300; \n",
      "-----------------------------------------\n",
      "-----------------------------------------\n"
     ]
    },
    {
     "name": "stderr",
     "output_type": "stream",
     "text": [
      "\n",
      "100%|██████████| 184/184 [00:10<00:00, 17.61it/s]\n",
      "100%|██████████| 66/66 [00:03<00:00, 17.81it/s]\n",
      "100%|██████████| 25/25 [00:01<00:00, 24.64it/s]\n",
      "100%|██████████| 5/5 [00:00<00:00, 49.96it/s]\n",
      "  6%|▌         | 6/100 [00:00<00:01, 58.70it/s]"
     ]
    },
    {
     "name": "stdout",
     "output_type": "stream",
     "text": [
      "Epoch 203, Iter 0, unlabeled KL: -0.183617\n"
     ]
    },
    {
     "name": "stderr",
     "output_type": "stream",
     "text": [
      "100%|██████████| 100/100 [00:01<00:00, 54.93it/s]"
     ]
    },
    {
     "name": "stdout",
     "output_type": "stream",
     "text": [
      "-----------------------------------------\n",
      "-----------------------------------------\n",
      "Epoch 203: testing KL: 2.508860; src unlbl acc: 0.880224, tgt unlbl acc: 0.628700; \n",
      "Epoch 203: testing KL: 2.508860; src unlbl acc: 0.880224, tgt unlbl acc: 0.628700; \n",
      "-----------------------------------------\n",
      "-----------------------------------------\n"
     ]
    },
    {
     "name": "stderr",
     "output_type": "stream",
     "text": [
      "\n"
     ]
    }
   ],
   "source": [
    "logger.info('Started loading')\n",
    "total_epoch_trained = len([i for i in os.listdir(args.model_path) if i[0] == 'C'])\n",
    "\n",
    "\n",
    "labeled_KL = []\n",
    "unlabeled_KL = []\n",
    "labeled_JS = []\n",
    "unlabeled_JS = []\n",
    "acc_source_unlabeled_classifier_ = []\n",
    "acc_target_unlabeled_classifier_ = []\n",
    "\n",
    "source_test_acc_ = []\n",
    "target_test_acc_ = []\n",
    "source_train_acc_ = []\n",
    "epochs = []\n",
    "\n",
    "for epoch in range(3, total_epoch_trained, args.intervals*args.model_save_period):\n",
    "    epochs.append(epoch)\n",
    "    # initialize \n",
    "    if args.KL:\n",
    "        gfunction_KL_div_labeled.apply(weights_init)\n",
    "        optimizer_gfunction_KL_div_labeled = torch.optim.Adam(gfunction_KL_div_labeled.parameters(), lr=args.lr)\n",
    "        gfunction_KL_div_unlabeled.apply(weights_init)\n",
    "        optimizer_gfunction_KL_div_unlabeled = torch.optim.Adam(gfunction_KL_div_unlabeled.parameters(), lr=args.lr)\n",
    "\n",
    "    if args.JS:\n",
    "        gfunction_JS_div_labeled.apply(weights_init)\n",
    "        optimizer_gfunction_JS_div_labeled = torch.optim.Adam(gfunction_JS_div_labeled.parameters(), lr=args.lr)\n",
    "        gfunction_JS_div_unlabeled.apply(weights_init)\n",
    "        optimizer_gfunction_JS_div_unlabeled = torch.optim.Adam(gfunction_JS_div_unlabeled.parameters(), lr=args.lr)\n",
    "\n",
    "    if args.classifier:\n",
    "        CNet.load_state_dict(torch.load(os.path.join(args.model_path, 'CNet_%i.t7'%epoch)))\n",
    "        optimizer_CNet = torch.optim.Adam(CNet.parameters(), lr=args.lr)\n",
    "    \n",
    "    # load weight\n",
    "    encoder.load_state_dict(torch.load(os.path.join(args.model_path, 'encoder_%i.t7'%epoch)))\n",
    "    \n",
    "    # inferencing\n",
    "    encoder.eval()\n",
    "    \n",
    "    # get source/target embedding\n",
    "    source_x_labeled_embedding = torch.empty(0).to(device)\n",
    "    source_y_labeled = torch.empty(0).long().to(device)\n",
    "    source_x_unlabeled_embedding = torch.empty(0).to(device)\n",
    "    source_y_unlabeled = torch.empty(0).long().to(device)\n",
    "    target_x_labeled_embedding = torch.empty(0).to(device)\n",
    "    target_y_labeled = torch.empty(0).long().to(device)\n",
    "    target_x_unlabeled_embedding = torch.empty(0).to(device)\n",
    "    target_y_unlabeled = torch.empty(0).long().to(device)\n",
    "    with torch.no_grad():\n",
    "        \n",
    "        source_train_acc = 0.0\n",
    "        num_data = 0.0\n",
    "        for batch_id, (source_x, source_y) in tqdm(enumerate(train_svhn_loader), total=len(train_svhn_loader)):\n",
    "            source_x = source_x.to(device).float()\n",
    "            source_y = source_y.to(device).long()\n",
    "            num_data += source_y.shape[0]\n",
    "            source_x_embedding = encoder(source_x).detach()\n",
    "            source_x_labeled_embedding = torch.cat([source_x_labeled_embedding, source_x_embedding])\n",
    "            source_y_labeled = torch.cat([source_y_labeled, source_y])\n",
    "            pred = CNet(source_x_embedding)\n",
    "            source_train_acc += (pred.argmax(-1) == source_y).sum().item()\n",
    "        source_train_acc = source_train_acc / num_data\n",
    "        source_train_acc_.append(source_train_acc)\n",
    "        \n",
    "       \n",
    "        \n",
    "        source_test_acc = 0.0\n",
    "        num_data = 0.0\n",
    "        for batch_id, (source_x, source_y) in tqdm(enumerate(test_svhn_loader), total=len(test_svhn_loader)):\n",
    "            source_x = source_x.to(device).float()\n",
    "            source_y = source_y.to(device).long()\n",
    "            num_data += source_y.shape[0]\n",
    "            source_x_embedding = encoder(source_x).detach()\n",
    "            source_x_unlabeled_embedding = torch.cat([source_x_unlabeled_embedding, source_x_embedding])\n",
    "            source_y_unlabeled = torch.cat([source_y_unlabeled, source_y])\n",
    "            pred = CNet(source_x_embedding)\n",
    "            source_test_acc += (pred.argmax(-1) == source_y).sum().item()\n",
    "        source_test_acc = source_test_acc / num_data\n",
    "        source_test_acc_.append(source_test_acc)\n",
    "       \n",
    "        \n",
    "        target_test_acc = 0.0\n",
    "        num_data = 0.0\n",
    "        for batch_id, (target_x, target_y) in tqdm(enumerate(test_mnist_loader), total=len(test_mnist_loader)):\n",
    "            target_x = target_x.to(device).float()\n",
    "            target_y = target_y.to(device).long()\n",
    "            num_data += target_y.shape[0]\n",
    "            fake_x_embedding = encoder(target_x).detach()\n",
    "            target_x_unlabeled_embedding = torch.cat([target_x_unlabeled_embedding, fake_x_embedding])    \n",
    "            target_y_unlabeled = torch.cat([target_y_unlabeled, target_y])\n",
    "            pred = CNet(fake_x_embedding)\n",
    "            target_test_acc += (pred.argmax(-1) == target_y).sum().item()\n",
    "        target_test_acc = target_test_acc / num_data\n",
    "        target_test_acc_.append(target_test_acc)\n",
    "        \n",
    "    # for loop to train the gfunction     \n",
    "    for i in tqdm(range(args.gfunction_epoch)):\n",
    "        if args.KL:\n",
    "            optimizer_gfunction_KL_div_unlabeled.zero_grad()\n",
    "            source_x_unlabeled_g = gfunction_KL_div_unlabeled(source_x_unlabeled_embedding)\n",
    "            target_x_unlabeled_g = gfunction_KL_div_unlabeled(target_x_unlabeled_embedding)\n",
    "            loss_KL_unlabeled = - KLDiv(source_x_unlabeled_g, target_x_unlabeled_g, device) # maximize\n",
    "            loss_KL_unlabeled.backward()\n",
    "            optimizer_gfunction_KL_div_unlabeled.step()\n",
    "            \n",
    "            if i % 500 == 0:\n",
    "                print(\"Epoch %i, Iter %i, unlabeled KL: %f\"%(epoch, i, -loss_KL_unlabeled.item()))\n",
    "\n",
    "#         if args.JS:\n",
    "#             optimizer_gfunction_JS_div_unlabeled.zero_grad()\n",
    "#             source_x_unlabeled_g = gfunction_JS_div_unlabeled(source_x_unlabeled_embedding)\n",
    "#             target_x_unlabeled_g = gfunction_JS_div_unlabeled(target_x_unlabeled_embedding)\n",
    "#             loss_JS_unlabeled = - JSDiv(source_x_unlabeled_g, target_x_unlabeled_g, device) # maximize\n",
    "#             loss_JS_unlabeled.backward()\n",
    "#             optimizer_gfunction_JS_div_unlabeled.step()\n",
    "#             if i % 500 == 0:\n",
    "#                 print(\"Epoch %i, Iter %i, unlabeled JS: %f\"%(epoch, i, -loss_JS_unlabeled.item()))\n",
    "    if args.KL:  \n",
    "        loss_KL_unlabeled = - loss_KL_unlabeled.item()\n",
    "        unlabeled_KL.append(loss_KL_unlabeled)\n",
    "    \n",
    "#     if args.JS:\n",
    "#         loss_JS_unlabeled = - loss_JS_unlabeled.item()\n",
    "#         unlabeled_JS.append(loss_JS_unlabeled)\n",
    "    \n",
    "    \n",
    "    \n",
    "    acc_source_labeled_classifier = 0\n",
    "    acc_target_labeled_classifier = 0\n",
    "    if args.classifier:\n",
    "#         while i < args.classifier_epoch or (acc_source_labeled_classifier < 0.98 and acc_target_labeled_classifier < 0.98):\n",
    "#             i += 1\n",
    "\n",
    "        for i in tqdm(range(args.classifier_epoch)):\n",
    "            CNet.train()\n",
    "            optimizer_CNet.zero_grad()\n",
    "            pred = CNet(source_x_labeled_embedding)\n",
    "            acc_source_labeled_classifier = (pred.argmax(-1) == source_y_labeled).sum().item() / pred.size(0)\n",
    "            loss_source_classifier_labeled = criterion_classifier(pred, source_y_labeled)\n",
    "            loss_source_classifier_labeled.backward()\n",
    "            optimizer_CNet.step()\n",
    "#             CNet.train()\n",
    "#             encoder.train()\n",
    "#             acc_source_labeled_classifier = 0.0            \n",
    "#             num_datas = 0.0\n",
    "#             for batch_id, (source_x, source_y) in tqdm(enumerate(train_svhn_loader), total=len(train_svhn_loader)):\n",
    "#                 optimizerCNet.zero_grad()\n",
    "#                 optimizerEncoder.zero_grad()\n",
    "#                 source_x = source_x.to(device).float()\n",
    "#                 source_y = source_y.to(device)\n",
    "#                 num_datas += source_x.size(0)\n",
    "#                 source_x_embedding = encoder(source_x)\n",
    "#                 pred = CNet(source_x_embedding)\n",
    "# #                 acc_source_labeled_classifier += (pred.argmax(-1) == source_y).sum().item()\n",
    "#                 loss_source_classifier_labeled = criterion_classifier(pred, source_y)\n",
    "#                 loss_source_classifier_labeled.backward()\n",
    "#                 optimizerCNet.step()\n",
    "\n",
    "\n",
    "\n",
    "#             if i % 500 == 0:\n",
    "#                 CNet.eval()\n",
    "#                 pred = CNet(source_x_unlabeled_embedding)\n",
    "#                 acc_source_unlabeled_classifier = (pred.argmax(-1) == source_y_unlabeled).sum().item() / pred.size(0)\n",
    "#                 pred = CNet(target_x_unlabeled_embedding)\n",
    "#                 acc_target_unlabeled_classifier = (pred.argmax(-1) == target_y_unlabeled).sum().item() / pred.size(0)\n",
    "#                 print(\"Iter %i: source acc: labeled: %f, unlabeled: %f; target acc: labeled: %f, unlabeled: %f\"%(\n",
    "#                     i, acc_source_labeled_classifier, acc_source_unlabeled_classifier, acc_target_labeled_classifier, acc_target_unlabeled_classifier))\n",
    "        \n",
    "        CNet.eval()\n",
    "        pred = CNet(source_x_unlabeled_embedding)\n",
    "        acc_source_unlabeled_classifier = (pred.argmax(-1) == source_y_unlabeled).sum().item() / pred.size(0)\n",
    "        pred = CNet(target_x_unlabeled_embedding)\n",
    "        acc_target_unlabeled_classifier = (pred.argmax(-1) == target_y_unlabeled).sum().item() / pred.size(0)\n",
    "        acc_source_unlabeled_classifier_.append(acc_source_unlabeled_classifier)\n",
    "        acc_target_unlabeled_classifier_.append(acc_target_unlabeled_classifier)\n",
    "        \n",
    " \n",
    "    \n",
    "    logger.info(\"-----------------------------------------\")\n",
    "    log_string = \"Epoch %i: \"%epoch\n",
    "    if args.KL: log_string += \"testing KL: %f; \"%(loss_KL_unlabeled)\n",
    "    if args.JS: log_string += \"testing JS: %f; \"%(loss_JS_unlabeled)   \n",
    "    if args.classifier: log_string += \"src unlbl acc: %f, tgt unlbl acc: %f; \"%(acc_source_unlabeled_classifier, acc_target_unlabeled_classifier)      \n",
    "    logger.info(log_string)\n",
    "    logger.info(\"-----------------------------------------\")\n",
    "    \n",
    "    np.save(args.save_path+'/' +model_sub_folder+'/epochs.npy', epochs)\n",
    "    np.save(args.save_path+'/' +model_sub_folder+'/source_test_acc_.npy', source_test_acc_)\n",
    "    np.save(args.save_path+'/' +model_sub_folder+'/targhet_test_acc_.npy', target_test_acc_)\n",
    " \n",
    "    if args.KL: \n",
    "        np.save(args.save_path+'/' +model_sub_folder+'/labeled_KL.npy', labeled_KL)\n",
    "        np.save(args.save_path+'/' +model_sub_folder+'/unlabeled_KL.npy', unlabeled_KL)\n",
    "        \n",
    "    if args.JS:\n",
    "        np.save(args.save_path+'/' +model_sub_folder+'/labeled_JS.npy', labeled_JS)\n",
    "        np.save(args.save_path+'/' +model_sub_folder+'/unlabeled_JS.npy', unlabeled_JS)\n",
    "        \n",
    "    if args.classifier:\n",
    "        np.save(args.save_path+'/' +model_sub_folder+'/acc_source_unlabeled_classifier_.npy', acc_source_unlabeled_classifier_)\n",
    "        np.save(args.save_path+ '/' +model_sub_folder+'/acc_target_unlabeled_classifier_.npy', acc_target_unlabeled_classifier_)\n",
    "    "
   ]
  }
 ],
 "metadata": {
  "kernelspec": {
   "display_name": "Python 3",
   "language": "python",
   "name": "python3"
  },
  "language_info": {
   "codemirror_mode": {
    "name": "ipython",
    "version": 3
   },
   "file_extension": ".py",
   "mimetype": "text/x-python",
   "name": "python",
   "nbconvert_exporter": "python",
   "pygments_lexer": "ipython3",
   "version": "3.8.2"
  }
 },
 "nbformat": 4,
 "nbformat_minor": 4
}
