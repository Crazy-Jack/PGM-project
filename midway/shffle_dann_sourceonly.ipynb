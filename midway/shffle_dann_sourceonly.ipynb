{
 "cells": [
  {
   "cell_type": "code",
   "execution_count": 41,
   "metadata": {},
   "outputs": [],
   "source": [
    "import torch\n",
    "import torchvision\n",
    "import torchvision.datasets as datasets\n",
    "from tqdm import tqdm\n",
    "import argparse\n",
    "from torch.utils.data import Dataset, DataLoader\n",
    "import torch.nn as nn\n",
    "import torch.nn.functional as F\n",
    "import torch.optim as optim\n",
    "import numpy as np\n",
    "import matplotlib.pyplot as plt\n",
    "import torch.backends.cudnn as cudnn\n",
    "import os\n",
    "import sys\n",
    "import logging\n",
    "import logging.handlers\n",
    "from PIL import Image"
   ]
  },
  {
   "cell_type": "markdown",
   "metadata": {},
   "source": [
    "# Parser"
   ]
  },
  {
   "cell_type": "code",
   "execution_count": 42,
   "metadata": {},
   "outputs": [
    {
     "name": "stderr",
     "output_type": "stream",
     "text": [
      "usage: ipykernel_launcher.py [-h] [--batch_size BATCH_SIZE]\n",
      "                             [--learning_rate LEARNING_RATE]\n",
      "                             [--momentum MOMENTUM] [--gpu_num GPU_NUM]\n",
      "                             [--seed SEED] [--save_path SAVE_PATH]\n",
      "                             [--subfolder SUBFOLDER] [--wtarget WTARGET]\n",
      "                             [--model_save_period MODEL_SAVE_PERIOD]\n",
      "ipykernel_launcher.py: error: unrecognized arguments: -f C:\\Users\\Tianqin Li\\AppData\\Roaming\\jupyter\\runtime\\kernel-eba4e740-e0bd-41bf-885a-41405d939a5e.json\n"
     ]
    },
    {
     "ename": "SystemExit",
     "evalue": "2",
     "output_type": "error",
     "traceback": [
      "An exception has occurred, use %tb to see the full traceback.\n",
      "\u001b[1;31mSystemExit\u001b[0m\u001b[1;31m:\u001b[0m 2\n"
     ]
    },
    {
     "name": "stderr",
     "output_type": "stream",
     "text": [
      "C:\\Users\\Tianqin Li\\anaconda3\\envs\\russ-local\\lib\\site-packages\\IPython\\core\\interactiveshell.py:3339: UserWarning: To exit: use 'exit', 'quit', or Ctrl-D.\n",
      "  warn(\"To exit: use 'exit', 'quit', or Ctrl-D.\", stacklevel=1)\n"
     ]
    }
   ],
   "source": [
    "parser = argparse.ArgumentParser(description='Domain adaptation')\n",
    "parser.add_argument(\"--batch_size\", type=int, default=\"100\", help=\"batch size\")\n",
    "parser.add_argument(\"--learning_rate\", type=float, default=1e-2, help=\"learning rate\")\n",
    "parser.add_argument(\"--momentum\", type=float, default=0.5, help=\"momentum\")\n",
    "parser.add_argument(\"--gpu_num\", type=int, default=0, help=\"gpu num\")\n",
    "parser.add_argument(\"--seed\", type=int, default=123, help=\"munually set seed\")\n",
    "parser.add_argument(\"--save_path\", type=str, default=r\"C:\\Users\\Tianqin Li\\Code\\PGM-project\\train_related\", help=\"save path\")\n",
    "parser.add_argument(\"--subfolder\", type=str, default=r'\\baseline_st', help=\"subfolder name\")\n",
    "parser.add_argument(\"--wtarget\", type=float, default=0.7, help=\"target weight\")\n",
    "parser.add_argument(\"--model_save_period\", type=int, default=2, help=\"save period\")\n",
    "\n",
    "\n",
    "args = parser.parse_args()"
   ]
  },
  {
   "cell_type": "markdown",
   "metadata": {},
   "source": [
    "# local only"
   ]
  },
  {
   "cell_type": "code",
   "execution_count": 44,
   "metadata": {},
   "outputs": [],
   "source": [
    "# local only\n",
    "class local_args:\n",
    "    def __init__(self, **entries):\n",
    "        self.__dict__.update(entries)\n",
    "        \n",
    "args = local_args(**{\n",
    "    'batch_size': 400,\n",
    "    'learning_rate': 1e-3,\n",
    "    'momentum': 0.5,\n",
    "    'gpu_num': 0,\n",
    "    'seed': 123,\n",
    "    'save_path': r\"C:\\Users\\Tianqin Li\\Code\\PGM-project\\train_related\",\n",
    "    'epochs': 200,\n",
    "    'subfolder': r'\\dann_source_only_shffle',\n",
    "    'wtarget': 0.7,\n",
    "    'dann_weight': 1,\n",
    "    'model_save_period': 2,\n",
    "})"
   ]
  },
  {
   "cell_type": "code",
   "execution_count": 45,
   "metadata": {},
   "outputs": [],
   "source": [
    "\n",
    "device = torch.device('cuda:{}'.format(args.gpu_num) if torch.cuda.is_available() else 'cpu')\n",
    "# seed\n",
    "torch.manual_seed(args.seed)\n",
    "torch.cuda.manual_seed(args.seed)\n",
    "np.random.seed(args.seed)\n",
    "cudnn.deterministic = True\n",
    "torch.backends.cudnn.deterministic = True\n",
    "\n",
    "\n",
    "\n",
    "device = torch.device('cuda:{}'.format(args.gpu_num) if torch.cuda.is_available() else 'cpu')\n",
    "\n",
    " \n",
    "model_sub_folder = args.subfolder + '\\wtarget_%f_dann_weight_%f_learningrate_%f'%(args.wtarget, args.dann_weight, args.learning_rate)\n",
    "\n",
    "if not os.path.exists(args.save_path+model_sub_folder):\n",
    "    os.makedirs(args.save_path+model_sub_folder)"
   ]
  },
  {
   "cell_type": "code",
   "execution_count": 46,
   "metadata": {},
   "outputs": [
    {
     "name": "stdout",
     "output_type": "stream",
     "text": [
      "batch_size: 400\n",
      "batch_size: 400\n",
      "batch_size: 400\n",
      "learning_rate: 0.001\n",
      "learning_rate: 0.001\n",
      "learning_rate: 0.001\n",
      "momentum: 0.5\n",
      "momentum: 0.5\n",
      "momentum: 0.5\n",
      "gpu_num: 0\n",
      "gpu_num: 0\n",
      "gpu_num: 0\n",
      "seed: 123\n",
      "seed: 123\n",
      "seed: 123\n",
      "save_path: C:\\Users\\Tianqin Li\\Code\\PGM-project\\train_related\n",
      "save_path: C:\\Users\\Tianqin Li\\Code\\PGM-project\\train_related\n",
      "save_path: C:\\Users\\Tianqin Li\\Code\\PGM-project\\train_related\n",
      "epochs: 200\n",
      "epochs: 200\n",
      "epochs: 200\n",
      "subfolder: \\dann_source_only_shffle\n",
      "subfolder: \\dann_source_only_shffle\n",
      "subfolder: \\dann_source_only_shffle\n",
      "wtarget: 0.7\n",
      "wtarget: 0.7\n",
      "wtarget: 0.7\n",
      "dann_weight: 1\n",
      "dann_weight: 1\n",
      "dann_weight: 1\n",
      "model_save_period: 2\n",
      "model_save_period: 2\n",
      "model_save_period: 2\n"
     ]
    }
   ],
   "source": [
    "\n",
    "logger = logging.getLogger()\n",
    "logger.setLevel(logging.INFO)\n",
    "\n",
    "if os.path.isfile(args.save_path+model_sub_folder+ '\\logfile.log'):\n",
    "    os.remove(args.save_path+model_sub_folder+ '\\logfile.log')\n",
    "    \n",
    "file_log_handler = logging.FileHandler(args.save_path+model_sub_folder+ '\\logfile.log')\n",
    "logger.addHandler(file_log_handler)\n",
    "\n",
    "stdout_log_handler = logging.StreamHandler(sys.stdout)\n",
    "logger.addHandler(stdout_log_handler)\n",
    "\n",
    "attrs = vars(args)\n",
    "for item in attrs.items():\n",
    "    logger.info(\"%s: %s\"%item)\n"
   ]
  },
  {
   "cell_type": "markdown",
   "metadata": {},
   "source": [
    "# Data loader"
   ]
  },
  {
   "cell_type": "code",
   "execution_count": 47,
   "metadata": {},
   "outputs": [],
   "source": [
    "mnist_trainset = datasets.MNIST(root='./data', train=True, download=True, transform=torchvision.transforms.Compose([\n",
    "                               torchvision.transforms.ToTensor(),\n",
    "                               torchvision.transforms.Normalize(\n",
    "                                 (0.1307,), (0.3081,))\n",
    "                             ]))"
   ]
  },
  {
   "cell_type": "code",
   "execution_count": 48,
   "metadata": {},
   "outputs": [],
   "source": [
    "mnist_testset = datasets.MNIST(root='./data', train=False, download=True, transform=torchvision.transforms.Compose([\n",
    "                               torchvision.transforms.ToTensor(),\n",
    "                               torchvision.transforms.Normalize(\n",
    "                                 (0.1307,), (0.3081,))\n",
    "                             ]))"
   ]
  },
  {
   "cell_type": "code",
   "execution_count": 49,
   "metadata": {},
   "outputs": [
    {
     "name": "stdout",
     "output_type": "stream",
     "text": [
      "Using downloaded and verified file: ./data\\train_32x32.mat\n"
     ]
    }
   ],
   "source": [
    "svhn_trainset = datasets.SVHN(root='./data', split='train', download=True, transform=torchvision.transforms.Compose([\n",
    "                    torchvision.transforms.Resize((28, 28)),\n",
    "                    torchvision.transforms.Grayscale(num_output_channels=1),\n",
    "                    torchvision.transforms.ToTensor(),\n",
    "                    torchvision.transforms.Normalize([0.5], [0.5])]))"
   ]
  },
  {
   "cell_type": "code",
   "execution_count": 50,
   "metadata": {},
   "outputs": [
    {
     "name": "stdout",
     "output_type": "stream",
     "text": [
      "Using downloaded and verified file: ./data\\test_32x32.mat\n"
     ]
    }
   ],
   "source": [
    "svhn_testset = datasets.SVHN(root='./data', split='test', download=True, transform=torchvision.transforms.Compose([\n",
    "                    torchvision.transforms.Resize((28, 28)),\n",
    "                    torchvision.transforms.Grayscale(num_output_channels=1),\n",
    "                    torchvision.transforms.ToTensor(),\n",
    "                    torchvision.transforms.Normalize([0.5], [0.5])]))"
   ]
  },
  {
   "cell_type": "code",
   "execution_count": 51,
   "metadata": {},
   "outputs": [],
   "source": [
    "# # mnist\n",
    "# train_mnist_loader = DataLoader(mnist_trainset, batch_size=args.batch_size, shuffle=True)\n",
    "# test_mnist_loader = DataLoader(mnist_testset, batch_size=args.batch_size, shuffle=True)\n",
    "# examples = enumerate(test_mnist_loader)\n",
    "# batch_idx, (example_data, example_targets) = next(examples)\n",
    "\n",
    "\n",
    "# fig = plt.figure()\n",
    "# for i in range(6):\n",
    "#   plt.subplot(2,3,i+1)\n",
    "#   plt.tight_layout()\n",
    "#   plt.imshow(example_data[i][0], cmap='gray', interpolation='none')\n",
    "#   plt.title(\"Ground Truth: {}\".format(example_targets[i]))\n",
    "#   plt.xticks([])\n",
    "#   plt.yticks([])"
   ]
  },
  {
   "cell_type": "code",
   "execution_count": 52,
   "metadata": {},
   "outputs": [],
   "source": [
    "# # svhn\n",
    "# train_svhn_loader = DataLoader(svhn_trainset, batch_size=args.batch_size, shuffle=True)\n",
    "# test_svhn_loader = DataLoader(svhn_trainset, batch_size=args.batch_size, shuffle=True)\n",
    "# examples = enumerate(train_svhn_loader)\n",
    "# batch_idx, (example_data, example_targets) = next(examples)\n",
    "\n",
    "\n",
    "# fig = plt.figure()\n",
    "# for i in range(6):\n",
    "#   plt.subplot(2,3,i+1)\n",
    "#   plt.tight_layout()\n",
    "#   plt.imshow(example_data[i][0], cmap='gray', interpolation='none')\n",
    "#   plt.title(\"Ground Truth: {}\".format(example_targets[i]))\n",
    "#   plt.xticks([])\n",
    "#   plt.yticks([])"
   ]
  },
  {
   "cell_type": "code",
   "execution_count": 53,
   "metadata": {},
   "outputs": [],
   "source": [
    "# reload data\n",
    "train_mnist_loader = DataLoader(mnist_trainset, batch_size=args.batch_size, shuffle=True)\n",
    "test_mnist_loader = DataLoader(mnist_testset, batch_size=args.batch_size, shuffle=True)\n",
    "train_svhn_loader = DataLoader(svhn_trainset, batch_size=args.batch_size, shuffle=True)\n",
    "test_svhn_loader = DataLoader(svhn_trainset, batch_size=args.batch_size, shuffle=True)"
   ]
  },
  {
   "cell_type": "markdown",
   "metadata": {},
   "source": [
    "## Process data for cancat with source and target label"
   ]
  },
  {
   "cell_type": "code",
   "execution_count": 54,
   "metadata": {},
   "outputs": [],
   "source": [
    "class ConcatDataset(Dataset):\n",
    "    def __init__(self, x, y, mode='mnist'):\n",
    "        self.x = x\n",
    "        self.y = y\n",
    "        self.len = self.x.shape[0]\n",
    "        self.mode = mode\n",
    "        if self.mode == 'mnist':\n",
    "            self.transform = torchvision.transforms.Compose([\n",
    "                               torchvision.transforms.ToTensor(),\n",
    "                               torchvision.transforms.Normalize(\n",
    "                                 (0.1307,), (0.3081,))\n",
    "                             ])\n",
    "        elif self.mode == 'svhn':\n",
    "            self.transform = torchvision.transforms.Compose([\n",
    "                    torchvision.transforms.Resize((28, 28)),\n",
    "                    torchvision.transforms.Grayscale(num_output_channels=1),\n",
    "                    torchvision.transforms.ToTensor(),\n",
    "                    torchvision.transforms.Normalize([0.5], [0.5])])\n",
    "\n",
    "    def __len__(self):\n",
    "        return self.len\n",
    "    \n",
    "    def __getitem__(self, index):\n",
    "        if self.mode == 'mnist':\n",
    "            img = Image.fromarray(self.x[index].numpy(), mode='L')\n",
    "            img = self.transform(img)\n",
    "        elif self.mode == 'svhn':\n",
    "            img = Image.fromarray(np.transpose(self.x[index], (1, 2, 0)))\n",
    "            img = self.transform(img)\n",
    "    \n",
    "        return img, self.y[index]"
   ]
  },
  {
   "cell_type": "code",
   "execution_count": 55,
   "metadata": {},
   "outputs": [],
   "source": [
    "\n",
    "concat_mnist_train = ConcatDataset(mnist_trainset.data, torch.randint(0,2,(mnist_trainset.data.shape[0],)), mode = 'mnist')\n",
    "concat_svhn_train = ConcatDataset(svhn_trainset.data, torch.randint(0,2,(svhn_trainset.data.shape[0],)), mode = 'svhn')\n",
    "\n",
    "\n",
    "adverial_dataset = torch.utils.data.ConcatDataset([concat_mnist_train, concat_svhn_train])\n",
    "# [i[1] for i in [adverial_dataset[m] for m in torch.randint(0, len(adverial_dataset), (100,))]]\n",
    "adverial_loader = DataLoader(adverial_dataset, batch_size=args.batch_size, shuffle=True)"
   ]
  },
  {
   "cell_type": "code",
   "execution_count": null,
   "metadata": {},
   "outputs": [],
   "source": []
  },
  {
   "cell_type": "markdown",
   "metadata": {},
   "source": [
    "# Model"
   ]
  },
  {
   "cell_type": "code",
   "execution_count": 56,
   "metadata": {},
   "outputs": [],
   "source": [
    "class Encoder(nn.Module):\n",
    "    def __init__(self):\n",
    "        super(Encoder, self).__init__()\n",
    "        self.conv1 = nn.Conv2d(1, 10, kernel_size=5)\n",
    "        self.conv2 = nn.Conv2d(10, 20, kernel_size=5)\n",
    "        self.conv2_drop = nn.Dropout2d()\n",
    "        self.fc1 = nn.Linear(320, 50)\n",
    "        self.fc2 = nn.Linear(50, 30)\n",
    "\n",
    "    def forward(self, x):\n",
    "        x = F.relu(F.max_pool2d(self.conv1(x), 2))\n",
    "        x = F.relu(F.max_pool2d(self.conv2_drop(self.conv2(x)), 2))\n",
    "        x = x.view(-1, 320)\n",
    "        x = F.relu(self.fc1(x))\n",
    "        x = F.dropout(x, training=self.training)\n",
    "        x = self.fc2(x)\n",
    "        return x"
   ]
  },
  {
   "cell_type": "code",
   "execution_count": 80,
   "metadata": {},
   "outputs": [],
   "source": [
    "class FNN(nn.Module):\n",
    "    def __init__(self, d_in, d_h1, d_h2, d_out, dp=0.2):\n",
    "        super(FNN, self).__init__()\n",
    "        self.fc1 = nn.Linear(d_in, d_h1)\n",
    "        self.ln1 = nn.LayerNorm(d_h1)\n",
    "        self.relu1 = nn.ReLU(inplace=True)\n",
    "        self.dropout1 = nn.Dropout(dp)\n",
    "        self.fc2 = nn.Linear(d_h1, d_h2)\n",
    "        self.ln2 = nn.LayerNorm(d_h2)\n",
    "        self.relu2 = nn.ReLU(inplace=True)\n",
    "        self.dropout2 = nn.Dropout(dp)\n",
    "        self.fc3 = nn.Linear(d_h2, d_out)\n",
    "\n",
    "    def forward(self, x):\n",
    "        x = self.fc1(x)\n",
    "        x = self.ln1(x)\n",
    "        x = self.relu1(x)\n",
    "        x = self.dropout1(x)\n",
    "        x = self.fc2(x)\n",
    "        x = self.ln2(x)\n",
    "        x = self.relu2(x)\n",
    "        x = self.dropout2(x)\n",
    "        x = self.fc3(x)\n",
    "        return x\n",
    "    \n",
    "    def before_lastlinear(self, x):\n",
    "        x = self.fc1(x)\n",
    "        x = self.ln1(x)\n",
    "        x = self.relu1(x)\n",
    "        x = self.dropout1(x)\n",
    "        x = self.fc2(x)\n",
    "        x = self.ln2(x)\n",
    "        x = self.relu2(x)\n",
    "        x = self.dropout2(x)\n",
    "        return x\n",
    "\n",
    "        "
   ]
  },
  {
   "cell_type": "code",
   "execution_count": 58,
   "metadata": {},
   "outputs": [],
   "source": [
    "class Adversial_loss(nn.Module):\n",
    "    def __init__(self):\n",
    "        super(Adversial_loss, self).__init__()\n",
    "    \n",
    "    def forward(self):\n",
    "        pass"
   ]
  },
  {
   "cell_type": "code",
   "execution_count": 59,
   "metadata": {},
   "outputs": [],
   "source": [
    "def weights_init(m):\n",
    "    if type(m) == nn.Linear:\n",
    "        torch.nn.init.xavier_uniform_(m.weight)\n",
    "    elif type(m) == nn.LayerNorm:\n",
    "        torch.nn.init.normal_(m.weight, 1.0, 0.02)\n",
    "        torch.nn.init.constant_(m.bias, 0)\n"
   ]
  },
  {
   "cell_type": "code",
   "execution_count": 60,
   "metadata": {},
   "outputs": [
    {
     "name": "stdout",
     "output_type": "stream",
     "text": [
      "cuda:0\n"
     ]
    },
    {
     "data": {
      "text/plain": [
       "FNN(\n",
       "  (fc1): Linear(in_features=30, out_features=100, bias=True)\n",
       "  (ln1): LayerNorm((100,), eps=1e-05, elementwise_affine=True)\n",
       "  (relu1): ReLU(inplace=True)\n",
       "  (dropout1): Dropout(p=0.2, inplace=False)\n",
       "  (fc2): Linear(in_features=100, out_features=100, bias=True)\n",
       "  (ln2): LayerNorm((100,), eps=1e-05, elementwise_affine=True)\n",
       "  (relu2): ReLU(inplace=True)\n",
       "  (dropout2): Dropout(p=0.2, inplace=False)\n",
       "  (fc3): Linear(in_features=100, out_features=2, bias=True)\n",
       ")"
      ]
     },
     "execution_count": 60,
     "metadata": {},
     "output_type": "execute_result"
    }
   ],
   "source": [
    "\n",
    "device = torch.device('cuda:{}'.format(args.gpu_num) if torch.cuda.is_available() else 'cpu')\n",
    "print(device)\n",
    "torch.manual_seed(args.seed)\n",
    "torch.cuda.manual_seed(args.seed)\n",
    "np.random.seed(args.seed)\n",
    "\n",
    "encoder = Encoder().to(device)\n",
    "CNet = FNN(d_in=30, d_h1=100, d_h2=100, d_out=10, dp=0.2).to(device)\n",
    "DomainCNet = FNN(d_in=30, d_h1=100, d_h2=100, d_out=2, dp=0.2).to(device)\n",
    "\n",
    "\n",
    "\n",
    "\n",
    "optimizerEncoder = optim.Adam(encoder.parameters(), lr=args.learning_rate)\n",
    "optimizerCNet = optim.Adam(CNet.parameters(), lr=args.learning_rate)\n",
    "optimizerDomainCNet = optim.Adam(DomainCNet.parameters(), lr=args.learning_rate)\n",
    "\n",
    "criterion_classifier = nn.CrossEntropyLoss().to(device)\n",
    "# criterion_adverisal = \n",
    "\n",
    "encoder.apply(weights_init)\n",
    "CNet.apply(weights_init)\n",
    "DomainCNet.apply(weights_init)"
   ]
  },
  {
   "cell_type": "markdown",
   "metadata": {},
   "source": [
    "# Train"
   ]
  },
  {
   "cell_type": "code",
   "execution_count": 61,
   "metadata": {},
   "outputs": [
    {
     "name": "stdout",
     "output_type": "stream",
     "text": [
      "Started Training\n",
      "Started Training\n",
      "Started Training\n"
     ]
    },
    {
     "name": "stderr",
     "output_type": "stream",
     "text": [
      "100%|██████████| 150/150 [00:08<00:00, 16.78it/s]\n",
      "100%|██████████| 334/334 [00:23<00:00, 14.22it/s]\n"
     ]
    },
    {
     "name": "stdout",
     "output_type": "stream",
     "text": [
      "Epochs 1: source train acc: 0.545367; source test acc: 0.205700; target test acc: 0.077699\n",
      "Epochs 1: source train acc: 0.545367; source test acc: 0.205700; target test acc: 0.077699\n",
      "Epochs 1: source train acc: 0.545367; source test acc: 0.205700; target test acc: 0.077699\n"
     ]
    },
    {
     "name": "stderr",
     "output_type": "stream",
     "text": [
      "100%|██████████| 150/150 [00:08<00:00, 17.27it/s]\n",
      "100%|██████████| 334/334 [00:23<00:00, 14.23it/s]\n"
     ]
    },
    {
     "name": "stdout",
     "output_type": "stream",
     "text": [
      "Epochs 2: source train acc: 0.814567; source test acc: 0.914500; target test acc: 0.161418\n",
      "Epochs 2: source train acc: 0.814567; source test acc: 0.914500; target test acc: 0.161418\n",
      "Epochs 2: source train acc: 0.814567; source test acc: 0.914500; target test acc: 0.161418\n"
     ]
    },
    {
     "name": "stderr",
     "output_type": "stream",
     "text": [
      "100%|██████████| 150/150 [00:08<00:00, 16.88it/s]\n",
      "100%|██████████| 334/334 [00:23<00:00, 14.37it/s]\n"
     ]
    },
    {
     "name": "stdout",
     "output_type": "stream",
     "text": [
      "Epochs 3: source train acc: 0.887900; source test acc: 0.965100; target test acc: 0.232797\n",
      "Epochs 3: source train acc: 0.887900; source test acc: 0.965100; target test acc: 0.232797\n",
      "Epochs 3: source train acc: 0.887900; source test acc: 0.965100; target test acc: 0.232797\n"
     ]
    },
    {
     "name": "stderr",
     "output_type": "stream",
     "text": [
      "100%|██████████| 150/150 [00:08<00:00, 17.15it/s]\n",
      "100%|██████████| 334/334 [00:23<00:00, 14.24it/s]\n"
     ]
    },
    {
     "name": "stdout",
     "output_type": "stream",
     "text": [
      "Epochs 4: source train acc: 0.911250; source test acc: 0.971300; target test acc: 0.222654\n",
      "Epochs 4: source train acc: 0.911250; source test acc: 0.971300; target test acc: 0.222654\n",
      "Epochs 4: source train acc: 0.911250; source test acc: 0.971300; target test acc: 0.222654\n"
     ]
    },
    {
     "name": "stderr",
     "output_type": "stream",
     "text": [
      "100%|██████████| 150/150 [00:08<00:00, 16.83it/s]\n",
      "100%|██████████| 334/334 [00:23<00:00, 14.21it/s]\n"
     ]
    },
    {
     "name": "stdout",
     "output_type": "stream",
     "text": [
      "Epochs 5: source train acc: 0.924400; source test acc: 0.974500; target test acc: 0.233548\n",
      "Epochs 5: source train acc: 0.924400; source test acc: 0.974500; target test acc: 0.233548\n",
      "Epochs 5: source train acc: 0.924400; source test acc: 0.974500; target test acc: 0.233548\n"
     ]
    },
    {
     "name": "stderr",
     "output_type": "stream",
     "text": [
      "100%|██████████| 150/150 [00:08<00:00, 16.81it/s]\n",
      "100%|██████████| 334/334 [00:23<00:00, 14.09it/s]\n"
     ]
    },
    {
     "name": "stdout",
     "output_type": "stream",
     "text": [
      "Epochs 6: source train acc: 0.932283; source test acc: 0.980300; target test acc: 0.243704\n",
      "Epochs 6: source train acc: 0.932283; source test acc: 0.980300; target test acc: 0.243704\n",
      "Epochs 6: source train acc: 0.932283; source test acc: 0.980300; target test acc: 0.243704\n"
     ]
    },
    {
     "name": "stderr",
     "output_type": "stream",
     "text": [
      "100%|██████████| 150/150 [00:08<00:00, 16.67it/s]\n",
      "100%|██████████| 334/334 [00:23<00:00, 14.08it/s]\n"
     ]
    },
    {
     "name": "stdout",
     "output_type": "stream",
     "text": [
      "Epochs 7: source train acc: 0.938450; source test acc: 0.979300; target test acc: 0.227309\n",
      "Epochs 7: source train acc: 0.938450; source test acc: 0.979300; target test acc: 0.227309\n",
      "Epochs 7: source train acc: 0.938450; source test acc: 0.979300; target test acc: 0.227309\n"
     ]
    },
    {
     "name": "stderr",
     "output_type": "stream",
     "text": [
      "100%|██████████| 150/150 [00:08<00:00, 16.94it/s]\n",
      "100%|██████████| 334/334 [00:24<00:00, 13.90it/s]\n"
     ]
    },
    {
     "name": "stdout",
     "output_type": "stream",
     "text": [
      "Epochs 8: source train acc: 0.942100; source test acc: 0.981600; target test acc: 0.230135\n",
      "Epochs 8: source train acc: 0.942100; source test acc: 0.981600; target test acc: 0.230135\n",
      "Epochs 8: source train acc: 0.942100; source test acc: 0.981600; target test acc: 0.230135\n"
     ]
    },
    {
     "name": "stderr",
     "output_type": "stream",
     "text": [
      "100%|██████████| 150/150 [00:09<00:00, 16.54it/s]\n",
      "100%|██████████| 334/334 [00:23<00:00, 14.21it/s]\n"
     ]
    },
    {
     "name": "stdout",
     "output_type": "stream",
     "text": [
      "Epochs 9: source train acc: 0.946850; source test acc: 0.978900; target test acc: 0.213222\n",
      "Epochs 9: source train acc: 0.946850; source test acc: 0.978900; target test acc: 0.213222\n",
      "Epochs 9: source train acc: 0.946850; source test acc: 0.978900; target test acc: 0.213222\n"
     ]
    },
    {
     "name": "stderr",
     "output_type": "stream",
     "text": [
      "100%|██████████| 150/150 [00:08<00:00, 16.75it/s]\n",
      "100%|██████████| 334/334 [00:23<00:00, 14.12it/s]\n"
     ]
    },
    {
     "name": "stdout",
     "output_type": "stream",
     "text": [
      "Epochs 10: source train acc: 0.948183; source test acc: 0.981300; target test acc: 0.223050\n",
      "Epochs 10: source train acc: 0.948183; source test acc: 0.981300; target test acc: 0.223050\n",
      "Epochs 10: source train acc: 0.948183; source test acc: 0.981300; target test acc: 0.223050\n"
     ]
    },
    {
     "name": "stderr",
     "output_type": "stream",
     "text": [
      "100%|██████████| 150/150 [00:09<00:00, 16.63it/s]\n",
      "100%|██████████| 334/334 [00:23<00:00, 14.11it/s]\n"
     ]
    },
    {
     "name": "stdout",
     "output_type": "stream",
     "text": [
      "Epochs 11: source train acc: 0.949783; source test acc: 0.981100; target test acc: 0.243472\n",
      "Epochs 11: source train acc: 0.949783; source test acc: 0.981100; target test acc: 0.243472\n",
      "Epochs 11: source train acc: 0.949783; source test acc: 0.981100; target test acc: 0.243472\n"
     ]
    },
    {
     "name": "stderr",
     "output_type": "stream",
     "text": [
      "100%|██████████| 150/150 [00:08<00:00, 16.74it/s]\n",
      "100%|██████████| 334/334 [00:23<00:00, 14.05it/s]\n"
     ]
    },
    {
     "name": "stdout",
     "output_type": "stream",
     "text": [
      "Epochs 12: source train acc: 0.953433; source test acc: 0.980100; target test acc: 0.250010\n",
      "Epochs 12: source train acc: 0.953433; source test acc: 0.980100; target test acc: 0.250010\n",
      "Epochs 12: source train acc: 0.953433; source test acc: 0.980100; target test acc: 0.250010\n"
     ]
    },
    {
     "name": "stderr",
     "output_type": "stream",
     "text": [
      "100%|██████████| 150/150 [00:08<00:00, 16.86it/s]\n",
      "100%|██████████| 334/334 [00:23<00:00, 13.93it/s]\n"
     ]
    },
    {
     "name": "stdout",
     "output_type": "stream",
     "text": [
      "Epochs 13: source train acc: 0.952350; source test acc: 0.981600; target test acc: 0.254802\n",
      "Epochs 13: source train acc: 0.952350; source test acc: 0.981600; target test acc: 0.254802\n",
      "Epochs 13: source train acc: 0.952350; source test acc: 0.981600; target test acc: 0.254802\n"
     ]
    },
    {
     "name": "stderr",
     "output_type": "stream",
     "text": [
      "100%|██████████| 150/150 [00:08<00:00, 16.77it/s]\n",
      "100%|██████████| 334/334 [00:24<00:00, 13.88it/s]\n"
     ]
    },
    {
     "name": "stdout",
     "output_type": "stream",
     "text": [
      "Epochs 14: source train acc: 0.955667; source test acc: 0.984300; target test acc: 0.236210\n",
      "Epochs 14: source train acc: 0.955667; source test acc: 0.984300; target test acc: 0.236210\n",
      "Epochs 14: source train acc: 0.955667; source test acc: 0.984300; target test acc: 0.236210\n"
     ]
    },
    {
     "name": "stderr",
     "output_type": "stream",
     "text": [
      "100%|██████████| 150/150 [00:08<00:00, 17.01it/s]\n",
      "100%|██████████| 334/334 [00:23<00:00, 13.97it/s]\n"
     ]
    },
    {
     "name": "stdout",
     "output_type": "stream",
     "text": [
      "Epochs 15: source train acc: 0.957733; source test acc: 0.986200; target test acc: 0.240933\n",
      "Epochs 15: source train acc: 0.957733; source test acc: 0.986200; target test acc: 0.240933\n",
      "Epochs 15: source train acc: 0.957733; source test acc: 0.986200; target test acc: 0.240933\n"
     ]
    },
    {
     "name": "stderr",
     "output_type": "stream",
     "text": [
      "100%|██████████| 150/150 [00:09<00:00, 16.63it/s]\n",
      "100%|██████████| 334/334 [00:24<00:00, 13.55it/s]\n"
     ]
    },
    {
     "name": "stdout",
     "output_type": "stream",
     "text": [
      "Epochs 16: source train acc: 0.957350; source test acc: 0.986600; target test acc: 0.236633\n",
      "Epochs 16: source train acc: 0.957350; source test acc: 0.986600; target test acc: 0.236633\n",
      "Epochs 16: source train acc: 0.957350; source test acc: 0.986600; target test acc: 0.236633\n"
     ]
    },
    {
     "name": "stderr",
     "output_type": "stream",
     "text": [
      "100%|██████████| 150/150 [00:08<00:00, 16.96it/s]\n",
      "100%|██████████| 334/334 [00:23<00:00, 14.05it/s]\n"
     ]
    },
    {
     "name": "stdout",
     "output_type": "stream",
     "text": [
      "Epochs 17: source train acc: 0.960283; source test acc: 0.986000; target test acc: 0.235240\n",
      "Epochs 17: source train acc: 0.960283; source test acc: 0.986000; target test acc: 0.235240\n",
      "Epochs 17: source train acc: 0.960283; source test acc: 0.986000; target test acc: 0.235240\n"
     ]
    },
    {
     "name": "stderr",
     "output_type": "stream",
     "text": [
      "100%|██████████| 150/150 [00:09<00:00, 16.39it/s]\n",
      "100%|██████████| 334/334 [00:23<00:00, 14.02it/s]\n"
     ]
    },
    {
     "name": "stdout",
     "output_type": "stream",
     "text": [
      "Epochs 18: source train acc: 0.959950; source test acc: 0.986000; target test acc: 0.230736\n",
      "Epochs 18: source train acc: 0.959950; source test acc: 0.986000; target test acc: 0.230736\n",
      "Epochs 18: source train acc: 0.959950; source test acc: 0.986000; target test acc: 0.230736\n"
     ]
    },
    {
     "name": "stderr",
     "output_type": "stream",
     "text": [
      "100%|██████████| 150/150 [00:08<00:00, 16.92it/s]\n",
      "100%|██████████| 334/334 [00:24<00:00, 13.77it/s]\n"
     ]
    },
    {
     "name": "stdout",
     "output_type": "stream",
     "text": [
      "Epochs 19: source train acc: 0.961000; source test acc: 0.987600; target test acc: 0.222504\n",
      "Epochs 19: source train acc: 0.961000; source test acc: 0.987600; target test acc: 0.222504\n",
      "Epochs 19: source train acc: 0.961000; source test acc: 0.987600; target test acc: 0.222504\n"
     ]
    },
    {
     "name": "stderr",
     "output_type": "stream",
     "text": [
      "100%|██████████| 150/150 [00:09<00:00, 16.61it/s]\n",
      "100%|██████████| 334/334 [00:23<00:00, 14.11it/s]\n"
     ]
    },
    {
     "name": "stdout",
     "output_type": "stream",
     "text": [
      "Epochs 20: source train acc: 0.960300; source test acc: 0.986400; target test acc: 0.235977\n",
      "Epochs 20: source train acc: 0.960300; source test acc: 0.986400; target test acc: 0.235977\n",
      "Epochs 20: source train acc: 0.960300; source test acc: 0.986400; target test acc: 0.235977\n"
     ]
    },
    {
     "name": "stderr",
     "output_type": "stream",
     "text": [
      "100%|██████████| 150/150 [00:08<00:00, 16.97it/s]\n",
      "100%|██████████| 334/334 [00:23<00:00, 14.07it/s]\n"
     ]
    },
    {
     "name": "stdout",
     "output_type": "stream",
     "text": [
      "Epochs 21: source train acc: 0.960917; source test acc: 0.986300; target test acc: 0.219119\n",
      "Epochs 21: source train acc: 0.960917; source test acc: 0.986300; target test acc: 0.219119\n",
      "Epochs 21: source train acc: 0.960917; source test acc: 0.986300; target test acc: 0.219119\n"
     ]
    },
    {
     "name": "stderr",
     "output_type": "stream",
     "text": [
      "100%|██████████| 150/150 [00:08<00:00, 16.90it/s]\n",
      "100%|██████████| 334/334 [00:23<00:00, 14.11it/s]\n"
     ]
    },
    {
     "name": "stdout",
     "output_type": "stream",
     "text": [
      "Epochs 22: source train acc: 0.961717; source test acc: 0.988400; target test acc: 0.228033\n",
      "Epochs 22: source train acc: 0.961717; source test acc: 0.988400; target test acc: 0.228033\n",
      "Epochs 22: source train acc: 0.961717; source test acc: 0.988400; target test acc: 0.228033\n"
     ]
    },
    {
     "name": "stderr",
     "output_type": "stream",
     "text": [
      "100%|██████████| 150/150 [00:09<00:00, 16.45it/s]\n",
      "100%|██████████| 334/334 [00:24<00:00, 13.78it/s]\n"
     ]
    },
    {
     "name": "stdout",
     "output_type": "stream",
     "text": [
      "Epochs 23: source train acc: 0.961167; source test acc: 0.988100; target test acc: 0.229316\n",
      "Epochs 23: source train acc: 0.961167; source test acc: 0.988100; target test acc: 0.229316\n",
      "Epochs 23: source train acc: 0.961167; source test acc: 0.988100; target test acc: 0.229316\n"
     ]
    },
    {
     "name": "stderr",
     "output_type": "stream",
     "text": [
      "100%|██████████| 150/150 [00:08<00:00, 16.67it/s]\n",
      "100%|██████████| 334/334 [00:24<00:00, 13.76it/s]\n"
     ]
    },
    {
     "name": "stdout",
     "output_type": "stream",
     "text": [
      "Epochs 24: source train acc: 0.963317; source test acc: 0.987000; target test acc: 0.224743\n",
      "Epochs 24: source train acc: 0.963317; source test acc: 0.987000; target test acc: 0.224743\n",
      "Epochs 24: source train acc: 0.963317; source test acc: 0.987000; target test acc: 0.224743\n"
     ]
    },
    {
     "name": "stderr",
     "output_type": "stream",
     "text": [
      "100%|██████████| 150/150 [00:09<00:00, 16.40it/s]\n",
      "100%|██████████| 334/334 [00:23<00:00, 14.00it/s]\n"
     ]
    },
    {
     "name": "stdout",
     "output_type": "stream",
     "text": [
      "Epochs 25: source train acc: 0.963583; source test acc: 0.986700; target test acc: 0.222177\n",
      "Epochs 25: source train acc: 0.963583; source test acc: 0.986700; target test acc: 0.222177\n",
      "Epochs 25: source train acc: 0.963583; source test acc: 0.986700; target test acc: 0.222177\n"
     ]
    },
    {
     "name": "stderr",
     "output_type": "stream",
     "text": [
      "100%|██████████| 150/150 [00:08<00:00, 16.75it/s]\n",
      "100%|██████████| 334/334 [00:23<00:00, 13.93it/s]\n"
     ]
    },
    {
     "name": "stdout",
     "output_type": "stream",
     "text": [
      "Epochs 26: source train acc: 0.964200; source test acc: 0.989500; target test acc: 0.214764\n",
      "Epochs 26: source train acc: 0.964200; source test acc: 0.989500; target test acc: 0.214764\n",
      "Epochs 26: source train acc: 0.964200; source test acc: 0.989500; target test acc: 0.214764\n"
     ]
    },
    {
     "name": "stderr",
     "output_type": "stream",
     "text": [
      "100%|██████████| 150/150 [00:08<00:00, 16.68it/s]\n",
      "100%|██████████| 334/334 [00:23<00:00, 13.96it/s]\n"
     ]
    },
    {
     "name": "stdout",
     "output_type": "stream",
     "text": [
      "Epochs 27: source train acc: 0.965283; source test acc: 0.987000; target test acc: 0.221030\n",
      "Epochs 27: source train acc: 0.965283; source test acc: 0.987000; target test acc: 0.221030\n",
      "Epochs 27: source train acc: 0.965283; source test acc: 0.987000; target test acc: 0.221030\n"
     ]
    },
    {
     "name": "stderr",
     "output_type": "stream",
     "text": [
      "100%|██████████| 150/150 [00:09<00:00, 16.55it/s]\n",
      "100%|██████████| 334/334 [00:23<00:00, 13.95it/s]\n"
     ]
    },
    {
     "name": "stdout",
     "output_type": "stream",
     "text": [
      "Epochs 28: source train acc: 0.965717; source test acc: 0.988500; target test acc: 0.211871\n",
      "Epochs 28: source train acc: 0.965717; source test acc: 0.988500; target test acc: 0.211871\n",
      "Epochs 28: source train acc: 0.965717; source test acc: 0.988500; target test acc: 0.211871\n"
     ]
    },
    {
     "name": "stderr",
     "output_type": "stream",
     "text": [
      "100%|██████████| 150/150 [00:08<00:00, 16.72it/s]\n",
      "100%|██████████| 334/334 [00:23<00:00, 14.05it/s]\n"
     ]
    },
    {
     "name": "stdout",
     "output_type": "stream",
     "text": [
      "Epochs 29: source train acc: 0.965383; source test acc: 0.988300; target test acc: 0.222545\n",
      "Epochs 29: source train acc: 0.965383; source test acc: 0.988300; target test acc: 0.222545\n",
      "Epochs 29: source train acc: 0.965383; source test acc: 0.988300; target test acc: 0.222545\n"
     ]
    },
    {
     "name": "stderr",
     "output_type": "stream",
     "text": [
      "100%|██████████| 150/150 [00:09<00:00, 16.59it/s]\n",
      "100%|██████████| 334/334 [00:23<00:00, 14.03it/s]\n"
     ]
    },
    {
     "name": "stdout",
     "output_type": "stream",
     "text": [
      "Epochs 30: source train acc: 0.965867; source test acc: 0.988900; target test acc: 0.225699\n",
      "Epochs 30: source train acc: 0.965867; source test acc: 0.988900; target test acc: 0.225699\n",
      "Epochs 30: source train acc: 0.965867; source test acc: 0.988900; target test acc: 0.225699\n"
     ]
    },
    {
     "name": "stderr",
     "output_type": "stream",
     "text": [
      "100%|██████████| 150/150 [00:08<00:00, 16.75it/s]\n",
      "100%|██████████| 334/334 [00:23<00:00, 14.13it/s]\n"
     ]
    },
    {
     "name": "stdout",
     "output_type": "stream",
     "text": [
      "Epochs 31: source train acc: 0.966200; source test acc: 0.988400; target test acc: 0.230558\n",
      "Epochs 31: source train acc: 0.966200; source test acc: 0.988400; target test acc: 0.230558\n",
      "Epochs 31: source train acc: 0.966200; source test acc: 0.988400; target test acc: 0.230558\n"
     ]
    },
    {
     "name": "stderr",
     "output_type": "stream",
     "text": [
      "100%|██████████| 150/150 [00:09<00:00, 16.65it/s]\n",
      "100%|██████████| 334/334 [00:23<00:00, 13.98it/s]\n"
     ]
    },
    {
     "name": "stdout",
     "output_type": "stream",
     "text": [
      "Epochs 32: source train acc: 0.966233; source test acc: 0.987000; target test acc: 0.231596\n",
      "Epochs 32: source train acc: 0.966233; source test acc: 0.987000; target test acc: 0.231596\n",
      "Epochs 32: source train acc: 0.966233; source test acc: 0.987000; target test acc: 0.231596\n"
     ]
    },
    {
     "name": "stderr",
     "output_type": "stream",
     "text": [
      "100%|██████████| 150/150 [00:08<00:00, 16.72it/s]\n",
      "100%|██████████| 334/334 [00:24<00:00, 13.82it/s]\n"
     ]
    },
    {
     "name": "stdout",
     "output_type": "stream",
     "text": [
      "Epochs 33: source train acc: 0.966067; source test acc: 0.988400; target test acc: 0.226681\n",
      "Epochs 33: source train acc: 0.966067; source test acc: 0.988400; target test acc: 0.226681\n",
      "Epochs 33: source train acc: 0.966067; source test acc: 0.988400; target test acc: 0.226681\n"
     ]
    },
    {
     "name": "stderr",
     "output_type": "stream",
     "text": [
      "100%|██████████| 150/150 [00:09<00:00, 16.40it/s]\n",
      "100%|██████████| 334/334 [00:23<00:00, 13.94it/s]\n"
     ]
    },
    {
     "name": "stdout",
     "output_type": "stream",
     "text": [
      "Epochs 34: source train acc: 0.967550; source test acc: 0.988800; target test acc: 0.219324\n",
      "Epochs 34: source train acc: 0.967550; source test acc: 0.988800; target test acc: 0.219324\n",
      "Epochs 34: source train acc: 0.967550; source test acc: 0.988800; target test acc: 0.219324\n"
     ]
    },
    {
     "name": "stderr",
     "output_type": "stream",
     "text": [
      "100%|██████████| 150/150 [00:09<00:00, 16.59it/s]\n",
      "100%|██████████| 334/334 [00:23<00:00, 13.95it/s]\n"
     ]
    },
    {
     "name": "stdout",
     "output_type": "stream",
     "text": [
      "Epochs 35: source train acc: 0.967750; source test acc: 0.988700; target test acc: 0.212785\n",
      "Epochs 35: source train acc: 0.967750; source test acc: 0.988700; target test acc: 0.212785\n",
      "Epochs 35: source train acc: 0.967750; source test acc: 0.988700; target test acc: 0.212785\n"
     ]
    },
    {
     "name": "stderr",
     "output_type": "stream",
     "text": [
      "100%|██████████| 150/150 [00:08<00:00, 16.74it/s]\n",
      "100%|██████████| 334/334 [00:24<00:00, 13.45it/s]\n"
     ]
    },
    {
     "name": "stdout",
     "output_type": "stream",
     "text": [
      "Epochs 36: source train acc: 0.968017; source test acc: 0.988000; target test acc: 0.232196\n",
      "Epochs 36: source train acc: 0.968017; source test acc: 0.988000; target test acc: 0.232196\n",
      "Epochs 36: source train acc: 0.968017; source test acc: 0.988000; target test acc: 0.232196\n"
     ]
    },
    {
     "name": "stderr",
     "output_type": "stream",
     "text": [
      "100%|██████████| 150/150 [00:09<00:00, 16.45it/s]\n",
      "100%|██████████| 334/334 [00:23<00:00, 13.94it/s]\n"
     ]
    },
    {
     "name": "stdout",
     "output_type": "stream",
     "text": [
      "Epochs 37: source train acc: 0.969067; source test acc: 0.988400; target test acc: 0.209086\n",
      "Epochs 37: source train acc: 0.969067; source test acc: 0.988400; target test acc: 0.209086\n",
      "Epochs 37: source train acc: 0.969067; source test acc: 0.988400; target test acc: 0.209086\n"
     ]
    },
    {
     "name": "stderr",
     "output_type": "stream",
     "text": [
      "100%|██████████| 150/150 [00:08<00:00, 16.67it/s]\n",
      "100%|██████████| 334/334 [00:23<00:00, 13.93it/s]\n"
     ]
    },
    {
     "name": "stdout",
     "output_type": "stream",
     "text": [
      "Epochs 38: source train acc: 0.967633; source test acc: 0.989900; target test acc: 0.224306\n",
      "Epochs 38: source train acc: 0.967633; source test acc: 0.989900; target test acc: 0.224306\n",
      "Epochs 38: source train acc: 0.967633; source test acc: 0.989900; target test acc: 0.224306\n"
     ]
    },
    {
     "name": "stderr",
     "output_type": "stream",
     "text": [
      "100%|██████████| 150/150 [00:09<00:00, 16.60it/s]\n",
      "100%|██████████| 334/334 [00:23<00:00, 13.99it/s]\n"
     ]
    },
    {
     "name": "stdout",
     "output_type": "stream",
     "text": [
      "Epochs 39: source train acc: 0.968633; source test acc: 0.988500; target test acc: 0.233493\n",
      "Epochs 39: source train acc: 0.968633; source test acc: 0.988500; target test acc: 0.233493\n",
      "Epochs 39: source train acc: 0.968633; source test acc: 0.988500; target test acc: 0.233493\n"
     ]
    },
    {
     "name": "stderr",
     "output_type": "stream",
     "text": [
      "100%|██████████| 150/150 [00:09<00:00, 16.48it/s]\n",
      "100%|██████████| 334/334 [00:23<00:00, 13.95it/s]\n"
     ]
    },
    {
     "name": "stdout",
     "output_type": "stream",
     "text": [
      "Epochs 40: source train acc: 0.968950; source test acc: 0.990500; target test acc: 0.219993\n",
      "Epochs 40: source train acc: 0.968950; source test acc: 0.990500; target test acc: 0.219993\n",
      "Epochs 40: source train acc: 0.968950; source test acc: 0.990500; target test acc: 0.219993\n"
     ]
    },
    {
     "name": "stderr",
     "output_type": "stream",
     "text": [
      "100%|██████████| 150/150 [00:09<00:00, 16.61it/s]\n",
      "100%|██████████| 334/334 [00:24<00:00, 13.56it/s]\n"
     ]
    },
    {
     "name": "stdout",
     "output_type": "stream",
     "text": [
      "Epochs 41: source train acc: 0.969000; source test acc: 0.987300; target test acc: 0.229521\n",
      "Epochs 41: source train acc: 0.969000; source test acc: 0.987300; target test acc: 0.229521\n",
      "Epochs 41: source train acc: 0.969000; source test acc: 0.987300; target test acc: 0.229521\n"
     ]
    },
    {
     "name": "stderr",
     "output_type": "stream",
     "text": [
      "100%|██████████| 150/150 [00:09<00:00, 15.85it/s]\n",
      "100%|██████████| 334/334 [00:24<00:00, 13.54it/s]\n"
     ]
    },
    {
     "name": "stdout",
     "output_type": "stream",
     "text": [
      "Epochs 42: source train acc: 0.968667; source test acc: 0.989500; target test acc: 0.225357\n",
      "Epochs 42: source train acc: 0.968667; source test acc: 0.989500; target test acc: 0.225357\n",
      "Epochs 42: source train acc: 0.968667; source test acc: 0.989500; target test acc: 0.225357\n"
     ]
    },
    {
     "name": "stderr",
     "output_type": "stream",
     "text": [
      "100%|██████████| 150/150 [00:08<00:00, 16.77it/s]\n",
      "100%|██████████| 334/334 [00:24<00:00, 13.45it/s]\n"
     ]
    },
    {
     "name": "stdout",
     "output_type": "stream",
     "text": [
      "Epochs 43: source train acc: 0.968750; source test acc: 0.986900; target test acc: 0.226504\n",
      "Epochs 43: source train acc: 0.968750; source test acc: 0.986900; target test acc: 0.226504\n",
      "Epochs 43: source train acc: 0.968750; source test acc: 0.986900; target test acc: 0.226504\n"
     ]
    },
    {
     "name": "stderr",
     "output_type": "stream",
     "text": [
      "100%|██████████| 150/150 [00:10<00:00, 14.93it/s]\n",
      "100%|██████████| 334/334 [00:25<00:00, 13.12it/s]\n"
     ]
    },
    {
     "name": "stdout",
     "output_type": "stream",
     "text": [
      "Epochs 44: source train acc: 0.968317; source test acc: 0.988700; target test acc: 0.213986\n",
      "Epochs 44: source train acc: 0.968317; source test acc: 0.988700; target test acc: 0.213986\n",
      "Epochs 44: source train acc: 0.968317; source test acc: 0.988700; target test acc: 0.213986\n"
     ]
    },
    {
     "name": "stderr",
     "output_type": "stream",
     "text": [
      "100%|██████████| 150/150 [00:10<00:00, 14.99it/s]\n",
      "100%|██████████| 334/334 [00:25<00:00, 13.05it/s]\n"
     ]
    },
    {
     "name": "stdout",
     "output_type": "stream",
     "text": [
      "Epochs 45: source train acc: 0.969417; source test acc: 0.989200; target test acc: 0.218013\n",
      "Epochs 45: source train acc: 0.969417; source test acc: 0.989200; target test acc: 0.218013\n",
      "Epochs 45: source train acc: 0.969417; source test acc: 0.989200; target test acc: 0.218013\n"
     ]
    },
    {
     "name": "stderr",
     "output_type": "stream",
     "text": [
      "100%|██████████| 150/150 [00:10<00:00, 14.90it/s]\n",
      "100%|██████████| 334/334 [00:25<00:00, 13.26it/s]\n"
     ]
    },
    {
     "name": "stdout",
     "output_type": "stream",
     "text": [
      "Epochs 46: source train acc: 0.970617; source test acc: 0.989800; target test acc: 0.220498\n",
      "Epochs 46: source train acc: 0.970617; source test acc: 0.989800; target test acc: 0.220498\n",
      "Epochs 46: source train acc: 0.970617; source test acc: 0.989800; target test acc: 0.220498\n"
     ]
    },
    {
     "name": "stderr",
     "output_type": "stream",
     "text": [
      "100%|██████████| 150/150 [00:09<00:00, 16.54it/s]\n",
      "100%|██████████| 334/334 [00:25<00:00, 13.31it/s]\n"
     ]
    },
    {
     "name": "stdout",
     "output_type": "stream",
     "text": [
      "Epochs 47: source train acc: 0.969967; source test acc: 0.989400; target test acc: 0.218887\n",
      "Epochs 47: source train acc: 0.969967; source test acc: 0.989400; target test acc: 0.218887\n",
      "Epochs 47: source train acc: 0.969967; source test acc: 0.989400; target test acc: 0.218887\n"
     ]
    },
    {
     "name": "stderr",
     "output_type": "stream",
     "text": [
      "100%|██████████| 150/150 [00:10<00:00, 14.96it/s]\n",
      "100%|██████████| 334/334 [00:25<00:00, 13.05it/s]\n"
     ]
    },
    {
     "name": "stdout",
     "output_type": "stream",
     "text": [
      "Epochs 48: source train acc: 0.970267; source test acc: 0.990700; target test acc: 0.227214\n",
      "Epochs 48: source train acc: 0.970267; source test acc: 0.990700; target test acc: 0.227214\n",
      "Epochs 48: source train acc: 0.970267; source test acc: 0.990700; target test acc: 0.227214\n"
     ]
    },
    {
     "name": "stderr",
     "output_type": "stream",
     "text": [
      "100%|██████████| 150/150 [00:09<00:00, 15.10it/s]\n",
      "100%|██████████| 334/334 [00:26<00:00, 12.72it/s]\n"
     ]
    },
    {
     "name": "stdout",
     "output_type": "stream",
     "text": [
      "Epochs 49: source train acc: 0.969733; source test acc: 0.990400; target test acc: 0.211106\n",
      "Epochs 49: source train acc: 0.969733; source test acc: 0.990400; target test acc: 0.211106\n",
      "Epochs 49: source train acc: 0.969733; source test acc: 0.990400; target test acc: 0.211106\n"
     ]
    },
    {
     "name": "stderr",
     "output_type": "stream",
     "text": [
      "100%|██████████| 150/150 [00:09<00:00, 15.10it/s]\n",
      "100%|██████████| 334/334 [00:25<00:00, 12.89it/s]\n"
     ]
    },
    {
     "name": "stdout",
     "output_type": "stream",
     "text": [
      "Epochs 50: source train acc: 0.970700; source test acc: 0.989400; target test acc: 0.223856\n",
      "Epochs 50: source train acc: 0.970700; source test acc: 0.989400; target test acc: 0.223856\n",
      "Epochs 50: source train acc: 0.970700; source test acc: 0.989400; target test acc: 0.223856\n"
     ]
    },
    {
     "name": "stderr",
     "output_type": "stream",
     "text": [
      "100%|██████████| 150/150 [00:10<00:00, 14.99it/s]\n",
      "100%|██████████| 334/334 [00:25<00:00, 13.03it/s]\n"
     ]
    },
    {
     "name": "stdout",
     "output_type": "stream",
     "text": [
      "Epochs 51: source train acc: 0.969850; source test acc: 0.988700; target test acc: 0.224825\n",
      "Epochs 51: source train acc: 0.969850; source test acc: 0.988700; target test acc: 0.224825\n",
      "Epochs 51: source train acc: 0.969850; source test acc: 0.988700; target test acc: 0.224825\n"
     ]
    },
    {
     "name": "stderr",
     "output_type": "stream",
     "text": [
      "100%|██████████| 150/150 [00:10<00:00, 14.96it/s]\n",
      "100%|██████████| 334/334 [00:25<00:00, 13.10it/s]\n"
     ]
    },
    {
     "name": "stdout",
     "output_type": "stream",
     "text": [
      "Epochs 52: source train acc: 0.970300; source test acc: 0.988800; target test acc: 0.212335\n",
      "Epochs 52: source train acc: 0.970300; source test acc: 0.988800; target test acc: 0.212335\n",
      "Epochs 52: source train acc: 0.970300; source test acc: 0.988800; target test acc: 0.212335\n"
     ]
    },
    {
     "name": "stderr",
     "output_type": "stream",
     "text": [
      "100%|██████████| 150/150 [00:10<00:00, 14.77it/s]\n",
      "100%|██████████| 334/334 [00:25<00:00, 12.93it/s]\n"
     ]
    },
    {
     "name": "stdout",
     "output_type": "stream",
     "text": [
      "Epochs 53: source train acc: 0.970783; source test acc: 0.987200; target test acc: 0.204636\n",
      "Epochs 53: source train acc: 0.970783; source test acc: 0.987200; target test acc: 0.204636\n",
      "Epochs 53: source train acc: 0.970783; source test acc: 0.987200; target test acc: 0.204636\n"
     ]
    },
    {
     "name": "stderr",
     "output_type": "stream",
     "text": [
      "100%|██████████| 150/150 [00:09<00:00, 15.28it/s]\n",
      "100%|██████████| 334/334 [00:25<00:00, 12.98it/s]\n"
     ]
    },
    {
     "name": "stdout",
     "output_type": "stream",
     "text": [
      "Epochs 54: source train acc: 0.970750; source test acc: 0.989800; target test acc: 0.218942\n",
      "Epochs 54: source train acc: 0.970750; source test acc: 0.989800; target test acc: 0.218942\n",
      "Epochs 54: source train acc: 0.970750; source test acc: 0.989800; target test acc: 0.218942\n"
     ]
    },
    {
     "name": "stderr",
     "output_type": "stream",
     "text": [
      "100%|██████████| 150/150 [00:09<00:00, 15.13it/s]\n",
      "100%|██████████| 334/334 [00:25<00:00, 12.96it/s]\n"
     ]
    },
    {
     "name": "stdout",
     "output_type": "stream",
     "text": [
      "Epochs 55: source train acc: 0.972850; source test acc: 0.988600; target test acc: 0.228470\n",
      "Epochs 55: source train acc: 0.972850; source test acc: 0.988600; target test acc: 0.228470\n",
      "Epochs 55: source train acc: 0.972850; source test acc: 0.988600; target test acc: 0.228470\n"
     ]
    },
    {
     "name": "stderr",
     "output_type": "stream",
     "text": [
      "100%|██████████| 150/150 [00:10<00:00, 14.71it/s]\n",
      "100%|██████████| 334/334 [00:27<00:00, 12.31it/s]\n"
     ]
    },
    {
     "name": "stdout",
     "output_type": "stream",
     "text": [
      "Epochs 56: source train acc: 0.972533; source test acc: 0.986200; target test acc: 0.209686\n",
      "Epochs 56: source train acc: 0.972533; source test acc: 0.986200; target test acc: 0.209686\n",
      "Epochs 56: source train acc: 0.972533; source test acc: 0.986200; target test acc: 0.209686\n"
     ]
    },
    {
     "name": "stderr",
     "output_type": "stream",
     "text": [
      "100%|██████████| 150/150 [00:10<00:00, 14.79it/s]\n",
      "100%|██████████| 334/334 [00:25<00:00, 12.95it/s]\n"
     ]
    },
    {
     "name": "stdout",
     "output_type": "stream",
     "text": [
      "Epochs 57: source train acc: 0.970783; source test acc: 0.990800; target test acc: 0.219665\n",
      "Epochs 57: source train acc: 0.970783; source test acc: 0.990800; target test acc: 0.219665\n",
      "Epochs 57: source train acc: 0.970783; source test acc: 0.990800; target test acc: 0.219665\n"
     ]
    },
    {
     "name": "stderr",
     "output_type": "stream",
     "text": [
      "100%|██████████| 150/150 [00:10<00:00, 14.25it/s]\n",
      "100%|██████████| 334/334 [00:26<00:00, 12.56it/s]\n"
     ]
    },
    {
     "name": "stdout",
     "output_type": "stream",
     "text": [
      "Epochs 58: source train acc: 0.971150; source test acc: 0.990400; target test acc: 0.213700\n",
      "Epochs 58: source train acc: 0.971150; source test acc: 0.990400; target test acc: 0.213700\n",
      "Epochs 58: source train acc: 0.971150; source test acc: 0.990400; target test acc: 0.213700\n"
     ]
    },
    {
     "name": "stderr",
     "output_type": "stream",
     "text": [
      "100%|██████████| 150/150 [00:10<00:00, 14.91it/s]\n",
      "100%|██████████| 334/334 [00:25<00:00, 13.08it/s]\n"
     ]
    },
    {
     "name": "stdout",
     "output_type": "stream",
     "text": [
      "Epochs 59: source train acc: 0.972600; source test acc: 0.989200; target test acc: 0.215529\n",
      "Epochs 59: source train acc: 0.972600; source test acc: 0.989200; target test acc: 0.215529\n",
      "Epochs 59: source train acc: 0.972600; source test acc: 0.989200; target test acc: 0.215529\n"
     ]
    },
    {
     "name": "stderr",
     "output_type": "stream",
     "text": [
      "100%|██████████| 150/150 [00:09<00:00, 15.05it/s]\n",
      "100%|██████████| 334/334 [00:25<00:00, 12.95it/s]\n"
     ]
    },
    {
     "name": "stdout",
     "output_type": "stream",
     "text": [
      "Epochs 60: source train acc: 0.972183; source test acc: 0.990500; target test acc: 0.217754\n",
      "Epochs 60: source train acc: 0.972183; source test acc: 0.990500; target test acc: 0.217754\n",
      "Epochs 60: source train acc: 0.972183; source test acc: 0.990500; target test acc: 0.217754\n"
     ]
    },
    {
     "name": "stderr",
     "output_type": "stream",
     "text": [
      "100%|██████████| 150/150 [00:10<00:00, 14.85it/s]\n",
      "100%|██████████| 334/334 [00:25<00:00, 12.88it/s]\n"
     ]
    },
    {
     "name": "stdout",
     "output_type": "stream",
     "text": [
      "Epochs 61: source train acc: 0.971317; source test acc: 0.989800; target test acc: 0.215365\n",
      "Epochs 61: source train acc: 0.971317; source test acc: 0.989800; target test acc: 0.215365\n",
      "Epochs 61: source train acc: 0.971317; source test acc: 0.989800; target test acc: 0.215365\n"
     ]
    },
    {
     "name": "stderr",
     "output_type": "stream",
     "text": [
      "100%|██████████| 150/150 [00:10<00:00, 14.16it/s]\n",
      "100%|██████████| 334/334 [00:29<00:00, 11.51it/s]\n"
     ]
    },
    {
     "name": "stdout",
     "output_type": "stream",
     "text": [
      "Epochs 62: source train acc: 0.971983; source test acc: 0.990600; target test acc: 0.208048\n",
      "Epochs 62: source train acc: 0.971983; source test acc: 0.990600; target test acc: 0.208048\n",
      "Epochs 62: source train acc: 0.971983; source test acc: 0.990600; target test acc: 0.208048\n"
     ]
    },
    {
     "name": "stderr",
     "output_type": "stream",
     "text": [
      "100%|██████████| 150/150 [00:10<00:00, 14.90it/s]\n",
      "100%|██████████| 334/334 [00:25<00:00, 12.90it/s]\n"
     ]
    },
    {
     "name": "stdout",
     "output_type": "stream",
     "text": [
      "Epochs 63: source train acc: 0.972300; source test acc: 0.989900; target test acc: 0.213113\n",
      "Epochs 63: source train acc: 0.972300; source test acc: 0.989900; target test acc: 0.213113\n",
      "Epochs 63: source train acc: 0.972300; source test acc: 0.989900; target test acc: 0.213113\n"
     ]
    },
    {
     "name": "stderr",
     "output_type": "stream",
     "text": [
      "100%|██████████| 150/150 [00:10<00:00, 14.57it/s]\n",
      "100%|██████████| 334/334 [00:27<00:00, 12.29it/s]\n"
     ]
    },
    {
     "name": "stdout",
     "output_type": "stream",
     "text": [
      "Epochs 64: source train acc: 0.973733; source test acc: 0.989700; target test acc: 0.213331\n",
      "Epochs 64: source train acc: 0.973733; source test acc: 0.989700; target test acc: 0.213331\n",
      "Epochs 64: source train acc: 0.973733; source test acc: 0.989700; target test acc: 0.213331\n"
     ]
    },
    {
     "name": "stderr",
     "output_type": "stream",
     "text": [
      "100%|██████████| 150/150 [00:10<00:00, 14.74it/s]\n",
      "100%|██████████| 334/334 [00:26<00:00, 12.80it/s]\n"
     ]
    },
    {
     "name": "stdout",
     "output_type": "stream",
     "text": [
      "Epochs 65: source train acc: 0.973633; source test acc: 0.988900; target test acc: 0.218969\n",
      "Epochs 65: source train acc: 0.973633; source test acc: 0.988900; target test acc: 0.218969\n",
      "Epochs 65: source train acc: 0.973633; source test acc: 0.988900; target test acc: 0.218969\n"
     ]
    },
    {
     "name": "stderr",
     "output_type": "stream",
     "text": [
      "100%|██████████| 150/150 [00:09<00:00, 15.09it/s]\n",
      "100%|██████████| 334/334 [00:25<00:00, 12.94it/s]\n"
     ]
    },
    {
     "name": "stdout",
     "output_type": "stream",
     "text": [
      "Epochs 66: source train acc: 0.973083; source test acc: 0.989200; target test acc: 0.217809\n",
      "Epochs 66: source train acc: 0.973083; source test acc: 0.989200; target test acc: 0.217809\n",
      "Epochs 66: source train acc: 0.973083; source test acc: 0.989200; target test acc: 0.217809\n"
     ]
    },
    {
     "name": "stderr",
     "output_type": "stream",
     "text": [
      "100%|██████████| 150/150 [00:09<00:00, 15.32it/s]\n",
      "100%|██████████| 334/334 [00:24<00:00, 13.77it/s]\n"
     ]
    },
    {
     "name": "stdout",
     "output_type": "stream",
     "text": [
      "Epochs 67: source train acc: 0.973083; source test acc: 0.990900; target test acc: 0.220334\n",
      "Epochs 67: source train acc: 0.973083; source test acc: 0.990900; target test acc: 0.220334\n",
      "Epochs 67: source train acc: 0.973083; source test acc: 0.990900; target test acc: 0.220334\n"
     ]
    },
    {
     "name": "stderr",
     "output_type": "stream",
     "text": [
      "100%|██████████| 150/150 [00:09<00:00, 16.21it/s]\n",
      "100%|██████████| 334/334 [00:24<00:00, 13.71it/s]\n"
     ]
    },
    {
     "name": "stdout",
     "output_type": "stream",
     "text": [
      "Epochs 68: source train acc: 0.971800; source test acc: 0.989300; target test acc: 0.215816\n",
      "Epochs 68: source train acc: 0.971800; source test acc: 0.989300; target test acc: 0.215816\n",
      "Epochs 68: source train acc: 0.971800; source test acc: 0.989300; target test acc: 0.215816\n"
     ]
    },
    {
     "name": "stderr",
     "output_type": "stream",
     "text": [
      "100%|██████████| 150/150 [00:09<00:00, 16.11it/s]\n",
      "100%|██████████| 334/334 [00:23<00:00, 13.97it/s]\n"
     ]
    },
    {
     "name": "stdout",
     "output_type": "stream",
     "text": [
      "Epochs 69: source train acc: 0.973217; source test acc: 0.990900; target test acc: 0.213468\n",
      "Epochs 69: source train acc: 0.973217; source test acc: 0.990900; target test acc: 0.213468\n",
      "Epochs 69: source train acc: 0.973217; source test acc: 0.990900; target test acc: 0.213468\n"
     ]
    },
    {
     "name": "stderr",
     "output_type": "stream",
     "text": [
      "100%|██████████| 150/150 [00:09<00:00, 16.26it/s]\n",
      "100%|██████████| 334/334 [00:23<00:00, 14.06it/s]\n"
     ]
    },
    {
     "name": "stdout",
     "output_type": "stream",
     "text": [
      "Epochs 70: source train acc: 0.974200; source test acc: 0.991200; target test acc: 0.206424\n",
      "Epochs 70: source train acc: 0.974200; source test acc: 0.991200; target test acc: 0.206424\n",
      "Epochs 70: source train acc: 0.974200; source test acc: 0.991200; target test acc: 0.206424\n"
     ]
    },
    {
     "name": "stderr",
     "output_type": "stream",
     "text": [
      "100%|██████████| 150/150 [00:09<00:00, 16.47it/s]\n",
      "100%|██████████| 334/334 [00:23<00:00, 14.02it/s]\n"
     ]
    },
    {
     "name": "stdout",
     "output_type": "stream",
     "text": [
      "Epochs 71: source train acc: 0.973133; source test acc: 0.990900; target test acc: 0.210738\n",
      "Epochs 71: source train acc: 0.973133; source test acc: 0.990900; target test acc: 0.210738\n",
      "Epochs 71: source train acc: 0.973133; source test acc: 0.990900; target test acc: 0.210738\n"
     ]
    },
    {
     "name": "stderr",
     "output_type": "stream",
     "text": [
      "100%|██████████| 150/150 [00:09<00:00, 16.24it/s]\n",
      "100%|██████████| 334/334 [00:23<00:00, 14.14it/s]\n"
     ]
    },
    {
     "name": "stdout",
     "output_type": "stream",
     "text": [
      "Epochs 72: source train acc: 0.972400; source test acc: 0.988700; target test acc: 0.216020\n",
      "Epochs 72: source train acc: 0.972400; source test acc: 0.988700; target test acc: 0.216020\n",
      "Epochs 72: source train acc: 0.972400; source test acc: 0.988700; target test acc: 0.216020\n"
     ]
    },
    {
     "name": "stderr",
     "output_type": "stream",
     "text": [
      "100%|██████████| 150/150 [00:09<00:00, 16.40it/s]\n",
      "100%|██████████| 334/334 [00:23<00:00, 13.93it/s]\n"
     ]
    },
    {
     "name": "stdout",
     "output_type": "stream",
     "text": [
      "Epochs 73: source train acc: 0.972550; source test acc: 0.990300; target test acc: 0.220853\n",
      "Epochs 73: source train acc: 0.972550; source test acc: 0.990300; target test acc: 0.220853\n",
      "Epochs 73: source train acc: 0.972550; source test acc: 0.990300; target test acc: 0.220853\n"
     ]
    },
    {
     "name": "stderr",
     "output_type": "stream",
     "text": [
      "100%|██████████| 150/150 [00:09<00:00, 16.22it/s]\n",
      "100%|██████████| 334/334 [00:24<00:00, 13.84it/s]\n"
     ]
    },
    {
     "name": "stdout",
     "output_type": "stream",
     "text": [
      "Epochs 74: source train acc: 0.973083; source test acc: 0.990200; target test acc: 0.220102\n",
      "Epochs 74: source train acc: 0.973083; source test acc: 0.990200; target test acc: 0.220102\n",
      "Epochs 74: source train acc: 0.973083; source test acc: 0.990200; target test acc: 0.220102\n"
     ]
    },
    {
     "name": "stderr",
     "output_type": "stream",
     "text": [
      "100%|██████████| 150/150 [00:09<00:00, 16.45it/s]\n",
      "100%|██████████| 334/334 [00:24<00:00, 13.91it/s]\n"
     ]
    },
    {
     "name": "stdout",
     "output_type": "stream",
     "text": [
      "Epochs 75: source train acc: 0.971983; source test acc: 0.990900; target test acc: 0.209564\n",
      "Epochs 75: source train acc: 0.971983; source test acc: 0.990900; target test acc: 0.209564\n",
      "Epochs 75: source train acc: 0.971983; source test acc: 0.990900; target test acc: 0.209564\n"
     ]
    },
    {
     "name": "stderr",
     "output_type": "stream",
     "text": [
      "100%|██████████| 150/150 [00:09<00:00, 16.30it/s]\n",
      "100%|██████████| 334/334 [00:24<00:00, 13.92it/s]\n"
     ]
    },
    {
     "name": "stdout",
     "output_type": "stream",
     "text": [
      "Epochs 76: source train acc: 0.974183; source test acc: 0.989500; target test acc: 0.213358\n",
      "Epochs 76: source train acc: 0.974183; source test acc: 0.989500; target test acc: 0.213358\n",
      "Epochs 76: source train acc: 0.974183; source test acc: 0.989500; target test acc: 0.213358\n"
     ]
    },
    {
     "name": "stderr",
     "output_type": "stream",
     "text": [
      "100%|██████████| 150/150 [00:09<00:00, 16.24it/s]\n",
      "100%|██████████| 334/334 [00:24<00:00, 13.83it/s]\n"
     ]
    },
    {
     "name": "stdout",
     "output_type": "stream",
     "text": [
      "Epochs 77: source train acc: 0.972133; source test acc: 0.990600; target test acc: 0.211570\n",
      "Epochs 77: source train acc: 0.972133; source test acc: 0.990600; target test acc: 0.211570\n",
      "Epochs 77: source train acc: 0.972133; source test acc: 0.990600; target test acc: 0.211570\n"
     ]
    },
    {
     "name": "stderr",
     "output_type": "stream",
     "text": [
      "100%|██████████| 150/150 [00:09<00:00, 16.26it/s]\n",
      "100%|██████████| 334/334 [00:24<00:00, 13.87it/s]\n"
     ]
    },
    {
     "name": "stdout",
     "output_type": "stream",
     "text": [
      "Epochs 78: source train acc: 0.973667; source test acc: 0.990400; target test acc: 0.216061\n",
      "Epochs 78: source train acc: 0.973667; source test acc: 0.990400; target test acc: 0.216061\n",
      "Epochs 78: source train acc: 0.973667; source test acc: 0.990400; target test acc: 0.216061\n"
     ]
    },
    {
     "name": "stderr",
     "output_type": "stream",
     "text": [
      "100%|██████████| 150/150 [00:09<00:00, 16.14it/s]\n",
      "100%|██████████| 334/334 [00:24<00:00, 13.91it/s]\n"
     ]
    },
    {
     "name": "stdout",
     "output_type": "stream",
     "text": [
      "Epochs 79: source train acc: 0.974117; source test acc: 0.990200; target test acc: 0.212567\n",
      "Epochs 79: source train acc: 0.974117; source test acc: 0.990200; target test acc: 0.212567\n",
      "Epochs 79: source train acc: 0.974117; source test acc: 0.990200; target test acc: 0.212567\n"
     ]
    },
    {
     "name": "stderr",
     "output_type": "stream",
     "text": [
      "100%|██████████| 150/150 [00:09<00:00, 16.59it/s]\n",
      "100%|██████████| 334/334 [00:24<00:00, 13.82it/s]\n"
     ]
    },
    {
     "name": "stdout",
     "output_type": "stream",
     "text": [
      "Epochs 80: source train acc: 0.974117; source test acc: 0.991500; target test acc: 0.213358\n",
      "Epochs 80: source train acc: 0.974117; source test acc: 0.991500; target test acc: 0.213358\n",
      "Epochs 80: source train acc: 0.974117; source test acc: 0.991500; target test acc: 0.213358\n"
     ]
    },
    {
     "name": "stderr",
     "output_type": "stream",
     "text": [
      "100%|██████████| 150/150 [00:09<00:00, 16.01it/s]\n",
      "100%|██████████| 334/334 [00:24<00:00, 13.85it/s]\n"
     ]
    },
    {
     "name": "stdout",
     "output_type": "stream",
     "text": [
      "Epochs 81: source train acc: 0.973300; source test acc: 0.989600; target test acc: 0.218764\n",
      "Epochs 81: source train acc: 0.973300; source test acc: 0.989600; target test acc: 0.218764\n",
      "Epochs 81: source train acc: 0.973300; source test acc: 0.989600; target test acc: 0.218764\n"
     ]
    },
    {
     "name": "stderr",
     "output_type": "stream",
     "text": [
      "100%|██████████| 150/150 [00:09<00:00, 16.40it/s]\n",
      "100%|██████████| 334/334 [00:24<00:00, 13.71it/s]\n"
     ]
    },
    {
     "name": "stdout",
     "output_type": "stream",
     "text": [
      "Epochs 82: source train acc: 0.974700; source test acc: 0.991500; target test acc: 0.223856\n",
      "Epochs 82: source train acc: 0.974700; source test acc: 0.991500; target test acc: 0.223856\n",
      "Epochs 82: source train acc: 0.974700; source test acc: 0.991500; target test acc: 0.223856\n"
     ]
    },
    {
     "name": "stderr",
     "output_type": "stream",
     "text": [
      "100%|██████████| 150/150 [00:09<00:00, 16.27it/s]\n",
      "100%|██████████| 334/334 [00:24<00:00, 13.73it/s]\n"
     ]
    },
    {
     "name": "stdout",
     "output_type": "stream",
     "text": [
      "Epochs 83: source train acc: 0.973600; source test acc: 0.991000; target test acc: 0.230258\n",
      "Epochs 83: source train acc: 0.973600; source test acc: 0.991000; target test acc: 0.230258\n",
      "Epochs 83: source train acc: 0.973600; source test acc: 0.991000; target test acc: 0.230258\n"
     ]
    },
    {
     "name": "stderr",
     "output_type": "stream",
     "text": [
      "100%|██████████| 150/150 [00:09<00:00, 16.53it/s]\n",
      "100%|██████████| 334/334 [00:24<00:00, 13.77it/s]\n"
     ]
    },
    {
     "name": "stdout",
     "output_type": "stream",
     "text": [
      "Epochs 84: source train acc: 0.974267; source test acc: 0.990400; target test acc: 0.215925\n",
      "Epochs 84: source train acc: 0.974267; source test acc: 0.990400; target test acc: 0.215925\n",
      "Epochs 84: source train acc: 0.974267; source test acc: 0.990400; target test acc: 0.215925\n"
     ]
    },
    {
     "name": "stderr",
     "output_type": "stream",
     "text": [
      "100%|██████████| 150/150 [00:09<00:00, 16.25it/s]\n",
      "100%|██████████| 334/334 [00:24<00:00, 13.80it/s]\n"
     ]
    },
    {
     "name": "stdout",
     "output_type": "stream",
     "text": [
      "Epochs 85: source train acc: 0.975383; source test acc: 0.990300; target test acc: 0.219023\n",
      "Epochs 85: source train acc: 0.975383; source test acc: 0.990300; target test acc: 0.219023\n",
      "Epochs 85: source train acc: 0.975383; source test acc: 0.990300; target test acc: 0.219023\n"
     ]
    },
    {
     "name": "stderr",
     "output_type": "stream",
     "text": [
      "100%|██████████| 150/150 [00:09<00:00, 16.62it/s]\n",
      "100%|██████████| 334/334 [00:24<00:00, 13.80it/s]\n"
     ]
    },
    {
     "name": "stdout",
     "output_type": "stream",
     "text": [
      "Epochs 86: source train acc: 0.973733; source test acc: 0.991000; target test acc: 0.220484\n",
      "Epochs 86: source train acc: 0.973733; source test acc: 0.991000; target test acc: 0.220484\n",
      "Epochs 86: source train acc: 0.973733; source test acc: 0.991000; target test acc: 0.220484\n"
     ]
    },
    {
     "name": "stderr",
     "output_type": "stream",
     "text": [
      "100%|██████████| 150/150 [00:09<00:00, 16.61it/s]\n",
      "100%|██████████| 334/334 [00:24<00:00, 13.82it/s]\n"
     ]
    },
    {
     "name": "stdout",
     "output_type": "stream",
     "text": [
      "Epochs 87: source train acc: 0.974867; source test acc: 0.982700; target test acc: 0.200186\n",
      "Epochs 87: source train acc: 0.974867; source test acc: 0.982700; target test acc: 0.200186\n",
      "Epochs 87: source train acc: 0.974867; source test acc: 0.982700; target test acc: 0.200186\n"
     ]
    },
    {
     "name": "stderr",
     "output_type": "stream",
     "text": [
      "100%|██████████| 150/150 [00:09<00:00, 16.52it/s]\n",
      "100%|██████████| 334/334 [00:24<00:00, 13.81it/s]\n"
     ]
    },
    {
     "name": "stdout",
     "output_type": "stream",
     "text": [
      "Epochs 88: source train acc: 0.972533; source test acc: 0.990900; target test acc: 0.224607\n",
      "Epochs 88: source train acc: 0.972533; source test acc: 0.990900; target test acc: 0.224607\n",
      "Epochs 88: source train acc: 0.972533; source test acc: 0.990900; target test acc: 0.224607\n"
     ]
    },
    {
     "name": "stderr",
     "output_type": "stream",
     "text": [
      "100%|██████████| 150/150 [00:08<00:00, 16.68it/s]\n",
      "100%|██████████| 334/334 [00:24<00:00, 13.86it/s]\n"
     ]
    },
    {
     "name": "stdout",
     "output_type": "stream",
     "text": [
      "Epochs 89: source train acc: 0.975100; source test acc: 0.989500; target test acc: 0.217263\n",
      "Epochs 89: source train acc: 0.975100; source test acc: 0.989500; target test acc: 0.217263\n",
      "Epochs 89: source train acc: 0.975100; source test acc: 0.989500; target test acc: 0.217263\n"
     ]
    },
    {
     "name": "stderr",
     "output_type": "stream",
     "text": [
      "100%|██████████| 150/150 [00:09<00:00, 16.55it/s]\n",
      "100%|██████████| 334/334 [00:24<00:00, 13.89it/s]\n"
     ]
    },
    {
     "name": "stdout",
     "output_type": "stream",
     "text": [
      "Epochs 90: source train acc: 0.974367; source test acc: 0.989700; target test acc: 0.221194\n",
      "Epochs 90: source train acc: 0.974367; source test acc: 0.989700; target test acc: 0.221194\n",
      "Epochs 90: source train acc: 0.974367; source test acc: 0.989700; target test acc: 0.221194\n"
     ]
    },
    {
     "name": "stderr",
     "output_type": "stream",
     "text": [
      "100%|██████████| 150/150 [00:08<00:00, 16.83it/s]\n",
      "100%|██████████| 334/334 [00:24<00:00, 13.87it/s]\n"
     ]
    },
    {
     "name": "stdout",
     "output_type": "stream",
     "text": [
      "Epochs 91: source train acc: 0.975433; source test acc: 0.990100; target test acc: 0.217863\n",
      "Epochs 91: source train acc: 0.975433; source test acc: 0.990100; target test acc: 0.217863\n",
      "Epochs 91: source train acc: 0.975433; source test acc: 0.990100; target test acc: 0.217863\n"
     ]
    },
    {
     "name": "stderr",
     "output_type": "stream",
     "text": [
      "100%|██████████| 150/150 [00:09<00:00, 16.35it/s]\n",
      "100%|██████████| 334/334 [00:24<00:00, 13.83it/s]\n"
     ]
    },
    {
     "name": "stdout",
     "output_type": "stream",
     "text": [
      "Epochs 92: source train acc: 0.974417; source test acc: 0.989700; target test acc: 0.215270\n",
      "Epochs 92: source train acc: 0.974417; source test acc: 0.989700; target test acc: 0.215270\n",
      "Epochs 92: source train acc: 0.974417; source test acc: 0.989700; target test acc: 0.215270\n"
     ]
    },
    {
     "name": "stderr",
     "output_type": "stream",
     "text": [
      "100%|██████████| 150/150 [00:08<00:00, 16.69it/s]\n",
      "100%|██████████| 334/334 [00:24<00:00, 13.82it/s]\n"
     ]
    },
    {
     "name": "stdout",
     "output_type": "stream",
     "text": [
      "Epochs 93: source train acc: 0.974833; source test acc: 0.991500; target test acc: 0.213236\n",
      "Epochs 93: source train acc: 0.974833; source test acc: 0.991500; target test acc: 0.213236\n",
      "Epochs 93: source train acc: 0.974833; source test acc: 0.991500; target test acc: 0.213236\n"
     ]
    },
    {
     "name": "stderr",
     "output_type": "stream",
     "text": [
      "100%|██████████| 150/150 [00:09<00:00, 16.49it/s]\n",
      "100%|██████████| 334/334 [00:24<00:00, 13.89it/s]\n"
     ]
    },
    {
     "name": "stdout",
     "output_type": "stream",
     "text": [
      "Epochs 94: source train acc: 0.974250; source test acc: 0.990800; target test acc: 0.222027\n",
      "Epochs 94: source train acc: 0.974250; source test acc: 0.990800; target test acc: 0.222027\n",
      "Epochs 94: source train acc: 0.974250; source test acc: 0.990800; target test acc: 0.222027\n"
     ]
    },
    {
     "name": "stderr",
     "output_type": "stream",
     "text": [
      "100%|██████████| 150/150 [00:08<00:00, 16.92it/s]\n",
      "100%|██████████| 334/334 [00:24<00:00, 13.73it/s]\n"
     ]
    },
    {
     "name": "stdout",
     "output_type": "stream",
     "text": [
      "Epochs 95: source train acc: 0.973883; source test acc: 0.990700; target test acc: 0.215242\n",
      "Epochs 95: source train acc: 0.973883; source test acc: 0.990700; target test acc: 0.215242\n",
      "Epochs 95: source train acc: 0.973883; source test acc: 0.990700; target test acc: 0.215242\n"
     ]
    },
    {
     "name": "stderr",
     "output_type": "stream",
     "text": [
      "100%|██████████| 150/150 [00:09<00:00, 16.51it/s]\n",
      "100%|██████████| 334/334 [00:24<00:00, 13.76it/s]\n"
     ]
    },
    {
     "name": "stdout",
     "output_type": "stream",
     "text": [
      "Epochs 96: source train acc: 0.975117; source test acc: 0.991100; target test acc: 0.214901\n",
      "Epochs 96: source train acc: 0.975117; source test acc: 0.991100; target test acc: 0.214901\n",
      "Epochs 96: source train acc: 0.975117; source test acc: 0.991100; target test acc: 0.214901\n"
     ]
    },
    {
     "name": "stderr",
     "output_type": "stream",
     "text": [
      "100%|██████████| 150/150 [00:08<00:00, 16.70it/s]\n",
      "100%|██████████| 334/334 [00:24<00:00, 13.78it/s]\n"
     ]
    },
    {
     "name": "stdout",
     "output_type": "stream",
     "text": [
      "Epochs 97: source train acc: 0.975767; source test acc: 0.991600; target test acc: 0.218628\n",
      "Epochs 97: source train acc: 0.975767; source test acc: 0.991600; target test acc: 0.218628\n",
      "Epochs 97: source train acc: 0.975767; source test acc: 0.991600; target test acc: 0.218628\n"
     ]
    },
    {
     "name": "stderr",
     "output_type": "stream",
     "text": [
      "100%|██████████| 150/150 [00:09<00:00, 16.64it/s]\n",
      "100%|██████████| 334/334 [00:24<00:00, 13.90it/s]\n"
     ]
    },
    {
     "name": "stdout",
     "output_type": "stream",
     "text": [
      "Epochs 98: source train acc: 0.973883; source test acc: 0.991500; target test acc: 0.216211\n",
      "Epochs 98: source train acc: 0.973883; source test acc: 0.991500; target test acc: 0.216211\n",
      "Epochs 98: source train acc: 0.973883; source test acc: 0.991500; target test acc: 0.216211\n"
     ]
    },
    {
     "name": "stderr",
     "output_type": "stream",
     "text": [
      "100%|██████████| 150/150 [00:08<00:00, 16.76it/s]\n",
      "100%|██████████| 334/334 [00:24<00:00, 13.90it/s]\n"
     ]
    },
    {
     "name": "stdout",
     "output_type": "stream",
     "text": [
      "Epochs 99: source train acc: 0.975233; source test acc: 0.991000; target test acc: 0.208799\n",
      "Epochs 99: source train acc: 0.975233; source test acc: 0.991000; target test acc: 0.208799\n",
      "Epochs 99: source train acc: 0.975233; source test acc: 0.991000; target test acc: 0.208799\n"
     ]
    },
    {
     "name": "stderr",
     "output_type": "stream",
     "text": [
      "100%|██████████| 150/150 [00:08<00:00, 16.86it/s]\n",
      "100%|██████████| 334/334 [00:23<00:00, 13.93it/s]\n"
     ]
    },
    {
     "name": "stdout",
     "output_type": "stream",
     "text": [
      "Epochs 100: source train acc: 0.975000; source test acc: 0.991500; target test acc: 0.211502\n",
      "Epochs 100: source train acc: 0.975000; source test acc: 0.991500; target test acc: 0.211502\n",
      "Epochs 100: source train acc: 0.975000; source test acc: 0.991500; target test acc: 0.211502\n"
     ]
    },
    {
     "name": "stderr",
     "output_type": "stream",
     "text": [
      "100%|██████████| 150/150 [00:08<00:00, 16.79it/s]\n",
      "100%|██████████| 334/334 [00:23<00:00, 13.93it/s]\n"
     ]
    },
    {
     "name": "stdout",
     "output_type": "stream",
     "text": [
      "Epochs 101: source train acc: 0.975283; source test acc: 0.989800; target test acc: 0.212239\n",
      "Epochs 101: source train acc: 0.975283; source test acc: 0.989800; target test acc: 0.212239\n",
      "Epochs 101: source train acc: 0.975283; source test acc: 0.989800; target test acc: 0.212239\n"
     ]
    },
    {
     "name": "stderr",
     "output_type": "stream",
     "text": [
      "100%|██████████| 150/150 [00:08<00:00, 17.03it/s]\n",
      "100%|██████████| 334/334 [00:24<00:00, 13.74it/s]\n"
     ]
    },
    {
     "name": "stdout",
     "output_type": "stream",
     "text": [
      "Epochs 102: source train acc: 0.974050; source test acc: 0.991500; target test acc: 0.211024\n",
      "Epochs 102: source train acc: 0.974050; source test acc: 0.991500; target test acc: 0.211024\n",
      "Epochs 102: source train acc: 0.974050; source test acc: 0.991500; target test acc: 0.211024\n"
     ]
    },
    {
     "name": "stderr",
     "output_type": "stream",
     "text": [
      "100%|██████████| 150/150 [00:08<00:00, 16.75it/s]\n",
      "100%|██████████| 334/334 [00:24<00:00, 13.83it/s]\n"
     ]
    },
    {
     "name": "stdout",
     "output_type": "stream",
     "text": [
      "Epochs 103: source train acc: 0.975467; source test acc: 0.991500; target test acc: 0.213454\n",
      "Epochs 103: source train acc: 0.975467; source test acc: 0.991500; target test acc: 0.213454\n",
      "Epochs 103: source train acc: 0.975467; source test acc: 0.991500; target test acc: 0.213454\n"
     ]
    },
    {
     "name": "stderr",
     "output_type": "stream",
     "text": [
      "100%|██████████| 150/150 [00:08<00:00, 17.13it/s]\n",
      "100%|██████████| 334/334 [00:24<00:00, 13.82it/s]\n"
     ]
    },
    {
     "name": "stdout",
     "output_type": "stream",
     "text": [
      "Epochs 104: source train acc: 0.975383; source test acc: 0.991700; target test acc: 0.217071\n",
      "Epochs 104: source train acc: 0.975383; source test acc: 0.991700; target test acc: 0.217071\n",
      "Epochs 104: source train acc: 0.975383; source test acc: 0.991700; target test acc: 0.217071\n"
     ]
    },
    {
     "name": "stderr",
     "output_type": "stream",
     "text": [
      "100%|██████████| 150/150 [00:08<00:00, 16.73it/s]\n",
      "100%|██████████| 334/334 [00:24<00:00, 13.80it/s]\n"
     ]
    },
    {
     "name": "stdout",
     "output_type": "stream",
     "text": [
      "Epochs 105: source train acc: 0.975700; source test acc: 0.991500; target test acc: 0.211352\n",
      "Epochs 105: source train acc: 0.975700; source test acc: 0.991500; target test acc: 0.211352\n",
      "Epochs 105: source train acc: 0.975700; source test acc: 0.991500; target test acc: 0.211352\n"
     ]
    },
    {
     "name": "stderr",
     "output_type": "stream",
     "text": [
      "100%|██████████| 150/150 [00:08<00:00, 17.05it/s]\n",
      "100%|██████████| 334/334 [00:24<00:00, 13.77it/s]\n"
     ]
    },
    {
     "name": "stdout",
     "output_type": "stream",
     "text": [
      "Epochs 106: source train acc: 0.975383; source test acc: 0.990800; target test acc: 0.212812\n",
      "Epochs 106: source train acc: 0.975383; source test acc: 0.990800; target test acc: 0.212812\n",
      "Epochs 106: source train acc: 0.975383; source test acc: 0.990800; target test acc: 0.212812\n"
     ]
    },
    {
     "name": "stderr",
     "output_type": "stream",
     "text": [
      "100%|██████████| 150/150 [00:08<00:00, 16.73it/s]\n",
      "100%|██████████| 334/334 [00:24<00:00, 13.59it/s]\n"
     ]
    },
    {
     "name": "stdout",
     "output_type": "stream",
     "text": [
      "Epochs 107: source train acc: 0.975267; source test acc: 0.990500; target test acc: 0.217699\n",
      "Epochs 107: source train acc: 0.975267; source test acc: 0.990500; target test acc: 0.217699\n",
      "Epochs 107: source train acc: 0.975267; source test acc: 0.990500; target test acc: 0.217699\n"
     ]
    },
    {
     "name": "stderr",
     "output_type": "stream",
     "text": [
      "100%|██████████| 150/150 [00:08<00:00, 16.73it/s]\n",
      "100%|██████████| 334/334 [00:24<00:00, 13.59it/s]\n"
     ]
    },
    {
     "name": "stdout",
     "output_type": "stream",
     "text": [
      "Epochs 108: source train acc: 0.975067; source test acc: 0.989800; target test acc: 0.216580\n",
      "Epochs 108: source train acc: 0.975067; source test acc: 0.989800; target test acc: 0.216580\n",
      "Epochs 108: source train acc: 0.975067; source test acc: 0.989800; target test acc: 0.216580\n"
     ]
    },
    {
     "name": "stderr",
     "output_type": "stream",
     "text": [
      "100%|██████████| 150/150 [00:09<00:00, 16.55it/s]\n",
      "100%|██████████| 334/334 [00:24<00:00, 13.61it/s]\n"
     ]
    },
    {
     "name": "stdout",
     "output_type": "stream",
     "text": [
      "Epochs 109: source train acc: 0.975733; source test acc: 0.991600; target test acc: 0.217290\n",
      "Epochs 109: source train acc: 0.975733; source test acc: 0.991600; target test acc: 0.217290\n",
      "Epochs 109: source train acc: 0.975733; source test acc: 0.991600; target test acc: 0.217290\n"
     ]
    },
    {
     "name": "stderr",
     "output_type": "stream",
     "text": [
      "100%|██████████| 150/150 [00:08<00:00, 16.68it/s]\n",
      "100%|██████████| 334/334 [00:24<00:00, 13.79it/s]\n"
     ]
    },
    {
     "name": "stdout",
     "output_type": "stream",
     "text": [
      "Epochs 110: source train acc: 0.976533; source test acc: 0.991100; target test acc: 0.211720\n",
      "Epochs 110: source train acc: 0.976533; source test acc: 0.991100; target test acc: 0.211720\n",
      "Epochs 110: source train acc: 0.976533; source test acc: 0.991100; target test acc: 0.211720\n"
     ]
    },
    {
     "name": "stderr",
     "output_type": "stream",
     "text": [
      "100%|██████████| 150/150 [00:08<00:00, 17.03it/s]\n",
      "100%|██████████| 334/334 [00:24<00:00, 13.71it/s]\n"
     ]
    },
    {
     "name": "stdout",
     "output_type": "stream",
     "text": [
      "Epochs 111: source train acc: 0.976100; source test acc: 0.991000; target test acc: 0.213782\n",
      "Epochs 111: source train acc: 0.976100; source test acc: 0.991000; target test acc: 0.213782\n",
      "Epochs 111: source train acc: 0.976100; source test acc: 0.991000; target test acc: 0.213782\n"
     ]
    },
    {
     "name": "stderr",
     "output_type": "stream",
     "text": [
      "100%|██████████| 150/150 [00:08<00:00, 16.71it/s]\n",
      "100%|██████████| 334/334 [00:23<00:00, 13.92it/s]\n"
     ]
    },
    {
     "name": "stdout",
     "output_type": "stream",
     "text": [
      "Epochs 112: source train acc: 0.975500; source test acc: 0.990400; target test acc: 0.224060\n",
      "Epochs 112: source train acc: 0.975500; source test acc: 0.990400; target test acc: 0.224060\n",
      "Epochs 112: source train acc: 0.975500; source test acc: 0.990400; target test acc: 0.224060\n"
     ]
    },
    {
     "name": "stderr",
     "output_type": "stream",
     "text": [
      "100%|██████████| 150/150 [00:08<00:00, 16.77it/s]\n",
      "100%|██████████| 334/334 [00:24<00:00, 13.75it/s]\n"
     ]
    },
    {
     "name": "stdout",
     "output_type": "stream",
     "text": [
      "Epochs 113: source train acc: 0.976133; source test acc: 0.992100; target test acc: 0.225589\n",
      "Epochs 113: source train acc: 0.976133; source test acc: 0.992100; target test acc: 0.225589\n",
      "Epochs 113: source train acc: 0.976133; source test acc: 0.992100; target test acc: 0.225589\n"
     ]
    },
    {
     "name": "stderr",
     "output_type": "stream",
     "text": [
      "100%|██████████| 150/150 [00:09<00:00, 16.50it/s]\n",
      "100%|██████████| 334/334 [00:23<00:00, 13.96it/s]\n"
     ]
    },
    {
     "name": "stdout",
     "output_type": "stream",
     "text": [
      "Epochs 114: source train acc: 0.975033; source test acc: 0.990300; target test acc: 0.212089\n",
      "Epochs 114: source train acc: 0.975033; source test acc: 0.990300; target test acc: 0.212089\n",
      "Epochs 114: source train acc: 0.975033; source test acc: 0.990300; target test acc: 0.212089\n"
     ]
    },
    {
     "name": "stderr",
     "output_type": "stream",
     "text": [
      "100%|██████████| 150/150 [00:08<00:00, 16.71it/s]\n",
      "100%|██████████| 334/334 [00:24<00:00, 13.81it/s]\n"
     ]
    },
    {
     "name": "stdout",
     "output_type": "stream",
     "text": [
      "Epochs 115: source train acc: 0.975017; source test acc: 0.977500; target test acc: 0.207612\n",
      "Epochs 115: source train acc: 0.975017; source test acc: 0.977500; target test acc: 0.207612\n",
      "Epochs 115: source train acc: 0.975017; source test acc: 0.977500; target test acc: 0.207612\n"
     ]
    },
    {
     "name": "stderr",
     "output_type": "stream",
     "text": [
      "100%|██████████| 150/150 [00:09<00:00, 16.25it/s]\n",
      "100%|██████████| 334/334 [00:23<00:00, 14.00it/s]\n"
     ]
    },
    {
     "name": "stdout",
     "output_type": "stream",
     "text": [
      "Epochs 116: source train acc: 0.973550; source test acc: 0.991200; target test acc: 0.216894\n",
      "Epochs 116: source train acc: 0.973550; source test acc: 0.991200; target test acc: 0.216894\n",
      "Epochs 116: source train acc: 0.973550; source test acc: 0.991200; target test acc: 0.216894\n"
     ]
    },
    {
     "name": "stderr",
     "output_type": "stream",
     "text": [
      "100%|██████████| 150/150 [00:08<00:00, 16.73it/s]\n",
      "100%|██████████| 334/334 [00:24<00:00, 13.89it/s]\n"
     ]
    },
    {
     "name": "stdout",
     "output_type": "stream",
     "text": [
      "Epochs 117: source train acc: 0.975533; source test acc: 0.992300; target test acc: 0.217863\n",
      "Epochs 117: source train acc: 0.975533; source test acc: 0.992300; target test acc: 0.217863\n",
      "Epochs 117: source train acc: 0.975533; source test acc: 0.992300; target test acc: 0.217863\n"
     ]
    },
    {
     "name": "stderr",
     "output_type": "stream",
     "text": [
      "100%|██████████| 150/150 [00:09<00:00, 16.23it/s]\n",
      "100%|██████████| 334/334 [00:23<00:00, 13.94it/s]\n"
     ]
    },
    {
     "name": "stdout",
     "output_type": "stream",
     "text": [
      "Epochs 118: source train acc: 0.975533; source test acc: 0.991200; target test acc: 0.211557\n",
      "Epochs 118: source train acc: 0.975533; source test acc: 0.991200; target test acc: 0.211557\n",
      "Epochs 118: source train acc: 0.975533; source test acc: 0.991200; target test acc: 0.211557\n"
     ]
    },
    {
     "name": "stderr",
     "output_type": "stream",
     "text": [
      "100%|██████████| 150/150 [00:09<00:00, 16.29it/s]\n",
      "100%|██████████| 334/334 [00:23<00:00, 13.96it/s]\n"
     ]
    },
    {
     "name": "stdout",
     "output_type": "stream",
     "text": [
      "Epochs 119: source train acc: 0.976217; source test acc: 0.990400; target test acc: 0.214887\n",
      "Epochs 119: source train acc: 0.976217; source test acc: 0.990400; target test acc: 0.214887\n",
      "Epochs 119: source train acc: 0.976217; source test acc: 0.990400; target test acc: 0.214887\n"
     ]
    },
    {
     "name": "stderr",
     "output_type": "stream",
     "text": [
      "100%|██████████| 150/150 [00:09<00:00, 16.38it/s]\n",
      "100%|██████████| 334/334 [00:23<00:00, 13.98it/s]\n"
     ]
    },
    {
     "name": "stdout",
     "output_type": "stream",
     "text": [
      "Epochs 120: source train acc: 0.976183; source test acc: 0.991600; target test acc: 0.212294\n",
      "Epochs 120: source train acc: 0.976183; source test acc: 0.991600; target test acc: 0.212294\n",
      "Epochs 120: source train acc: 0.976183; source test acc: 0.991600; target test acc: 0.212294\n"
     ]
    },
    {
     "name": "stderr",
     "output_type": "stream",
     "text": [
      "100%|██████████| 150/150 [00:09<00:00, 16.14it/s]\n",
      "100%|██████████| 334/334 [00:23<00:00, 14.04it/s]\n"
     ]
    },
    {
     "name": "stdout",
     "output_type": "stream",
     "text": [
      "Epochs 121: source train acc: 0.975817; source test acc: 0.990800; target test acc: 0.211352\n",
      "Epochs 121: source train acc: 0.975817; source test acc: 0.990800; target test acc: 0.211352\n",
      "Epochs 121: source train acc: 0.975817; source test acc: 0.990800; target test acc: 0.211352\n"
     ]
    },
    {
     "name": "stderr",
     "output_type": "stream",
     "text": [
      "100%|██████████| 150/150 [00:09<00:00, 16.41it/s]\n",
      "100%|██████████| 334/334 [00:24<00:00, 13.85it/s]\n"
     ]
    },
    {
     "name": "stdout",
     "output_type": "stream",
     "text": [
      "Epochs 122: source train acc: 0.976067; source test acc: 0.990300; target test acc: 0.211543\n",
      "Epochs 122: source train acc: 0.976067; source test acc: 0.990300; target test acc: 0.211543\n",
      "Epochs 122: source train acc: 0.976067; source test acc: 0.990300; target test acc: 0.211543\n"
     ]
    },
    {
     "name": "stderr",
     "output_type": "stream",
     "text": [
      "100%|██████████| 150/150 [00:09<00:00, 16.04it/s]\n",
      "100%|██████████| 334/334 [00:23<00:00, 13.94it/s]\n"
     ]
    },
    {
     "name": "stdout",
     "output_type": "stream",
     "text": [
      "Epochs 123: source train acc: 0.976567; source test acc: 0.990600; target test acc: 0.212799\n",
      "Epochs 123: source train acc: 0.976567; source test acc: 0.990600; target test acc: 0.212799\n",
      "Epochs 123: source train acc: 0.976567; source test acc: 0.990600; target test acc: 0.212799\n"
     ]
    },
    {
     "name": "stderr",
     "output_type": "stream",
     "text": [
      "100%|██████████| 150/150 [00:09<00:00, 16.43it/s]\n",
      "100%|██████████| 334/334 [00:24<00:00, 13.84it/s]\n"
     ]
    },
    {
     "name": "stdout",
     "output_type": "stream",
     "text": [
      "Epochs 124: source train acc: 0.975083; source test acc: 0.991100; target test acc: 0.218491\n",
      "Epochs 124: source train acc: 0.975083; source test acc: 0.991100; target test acc: 0.218491\n",
      "Epochs 124: source train acc: 0.975083; source test acc: 0.991100; target test acc: 0.218491\n"
     ]
    },
    {
     "name": "stderr",
     "output_type": "stream",
     "text": [
      "100%|██████████| 150/150 [00:09<00:00, 15.49it/s]\n",
      "100%|██████████| 334/334 [00:24<00:00, 13.89it/s]\n"
     ]
    },
    {
     "name": "stdout",
     "output_type": "stream",
     "text": [
      "Epochs 125: source train acc: 0.976233; source test acc: 0.988800; target test acc: 0.217153\n",
      "Epochs 125: source train acc: 0.976233; source test acc: 0.988800; target test acc: 0.217153\n",
      "Epochs 125: source train acc: 0.976233; source test acc: 0.988800; target test acc: 0.217153\n"
     ]
    },
    {
     "name": "stderr",
     "output_type": "stream",
     "text": [
      "100%|██████████| 150/150 [00:09<00:00, 16.32it/s]\n",
      "100%|██████████| 334/334 [00:24<00:00, 13.84it/s]\n"
     ]
    },
    {
     "name": "stdout",
     "output_type": "stream",
     "text": [
      "Epochs 126: source train acc: 0.975800; source test acc: 0.991100; target test acc: 0.218013\n",
      "Epochs 126: source train acc: 0.975800; source test acc: 0.991100; target test acc: 0.218013\n",
      "Epochs 126: source train acc: 0.975800; source test acc: 0.991100; target test acc: 0.218013\n"
     ]
    },
    {
     "name": "stderr",
     "output_type": "stream",
     "text": [
      "100%|██████████| 150/150 [00:09<00:00, 15.74it/s]\n",
      "100%|██████████| 334/334 [00:24<00:00, 13.92it/s]\n"
     ]
    },
    {
     "name": "stdout",
     "output_type": "stream",
     "text": [
      "Epochs 127: source train acc: 0.976517; source test acc: 0.989900; target test acc: 0.213468\n",
      "Epochs 127: source train acc: 0.976517; source test acc: 0.989900; target test acc: 0.213468\n",
      "Epochs 127: source train acc: 0.976517; source test acc: 0.989900; target test acc: 0.213468\n"
     ]
    },
    {
     "name": "stderr",
     "output_type": "stream",
     "text": [
      "100%|██████████| 150/150 [00:09<00:00, 16.26it/s]\n",
      "100%|██████████| 334/334 [00:24<00:00, 13.86it/s]\n"
     ]
    },
    {
     "name": "stdout",
     "output_type": "stream",
     "text": [
      "Epochs 128: source train acc: 0.975983; source test acc: 0.991000; target test acc: 0.216935\n",
      "Epochs 128: source train acc: 0.975983; source test acc: 0.991000; target test acc: 0.216935\n",
      "Epochs 128: source train acc: 0.975983; source test acc: 0.991000; target test acc: 0.216935\n"
     ]
    },
    {
     "name": "stderr",
     "output_type": "stream",
     "text": [
      "100%|██████████| 150/150 [00:09<00:00, 15.98it/s]\n",
      "100%|██████████| 334/334 [00:24<00:00, 13.91it/s]\n"
     ]
    },
    {
     "name": "stdout",
     "output_type": "stream",
     "text": [
      "Epochs 129: source train acc: 0.976133; source test acc: 0.990400; target test acc: 0.209837\n",
      "Epochs 129: source train acc: 0.976133; source test acc: 0.990400; target test acc: 0.209837\n",
      "Epochs 129: source train acc: 0.976133; source test acc: 0.990400; target test acc: 0.209837\n"
     ]
    },
    {
     "name": "stderr",
     "output_type": "stream",
     "text": [
      "100%|██████████| 150/150 [00:09<00:00, 15.98it/s]\n",
      "100%|██████████| 334/334 [00:23<00:00, 14.41it/s]\n"
     ]
    },
    {
     "name": "stdout",
     "output_type": "stream",
     "text": [
      "Epochs 130: source train acc: 0.976667; source test acc: 0.991000; target test acc: 0.211939\n",
      "Epochs 130: source train acc: 0.976667; source test acc: 0.991000; target test acc: 0.211939\n",
      "Epochs 130: source train acc: 0.976667; source test acc: 0.991000; target test acc: 0.211939\n"
     ]
    },
    {
     "name": "stderr",
     "output_type": "stream",
     "text": [
      "100%|██████████| 150/150 [00:08<00:00, 17.15it/s]\n",
      "100%|██████████| 334/334 [00:22<00:00, 14.85it/s]\n"
     ]
    },
    {
     "name": "stdout",
     "output_type": "stream",
     "text": [
      "Epochs 131: source train acc: 0.976667; source test acc: 0.990800; target test acc: 0.215351\n",
      "Epochs 131: source train acc: 0.976667; source test acc: 0.990800; target test acc: 0.215351\n",
      "Epochs 131: source train acc: 0.976667; source test acc: 0.990800; target test acc: 0.215351\n"
     ]
    },
    {
     "name": "stderr",
     "output_type": "stream",
     "text": [
      "100%|██████████| 150/150 [00:08<00:00, 17.45it/s]\n",
      "100%|██████████| 334/334 [00:22<00:00, 14.82it/s]\n"
     ]
    },
    {
     "name": "stdout",
     "output_type": "stream",
     "text": [
      "Epochs 132: source train acc: 0.977083; source test acc: 0.991600; target test acc: 0.215665\n",
      "Epochs 132: source train acc: 0.977083; source test acc: 0.991600; target test acc: 0.215665\n",
      "Epochs 132: source train acc: 0.977083; source test acc: 0.991600; target test acc: 0.215665\n"
     ]
    },
    {
     "name": "stderr",
     "output_type": "stream",
     "text": [
      "100%|██████████| 150/150 [00:08<00:00, 17.47it/s]\n",
      "100%|██████████| 334/334 [00:22<00:00, 14.84it/s]\n"
     ]
    },
    {
     "name": "stdout",
     "output_type": "stream",
     "text": [
      "Epochs 133: source train acc: 0.976467; source test acc: 0.990700; target test acc: 0.219842\n",
      "Epochs 133: source train acc: 0.976467; source test acc: 0.990700; target test acc: 0.219842\n",
      "Epochs 133: source train acc: 0.976467; source test acc: 0.990700; target test acc: 0.219842\n"
     ]
    },
    {
     "name": "stderr",
     "output_type": "stream",
     "text": [
      "100%|██████████| 150/150 [00:08<00:00, 17.15it/s]\n",
      "100%|██████████| 334/334 [00:22<00:00, 14.79it/s]\n"
     ]
    },
    {
     "name": "stdout",
     "output_type": "stream",
     "text": [
      "Epochs 134: source train acc: 0.977900; source test acc: 0.990900; target test acc: 0.221399\n",
      "Epochs 134: source train acc: 0.977900; source test acc: 0.990900; target test acc: 0.221399\n",
      "Epochs 134: source train acc: 0.977900; source test acc: 0.990900; target test acc: 0.221399\n"
     ]
    },
    {
     "name": "stderr",
     "output_type": "stream",
     "text": [
      "100%|██████████| 150/150 [00:08<00:00, 17.55it/s]\n",
      "100%|██████████| 334/334 [00:22<00:00, 14.66it/s]\n"
     ]
    },
    {
     "name": "stdout",
     "output_type": "stream",
     "text": [
      "Epochs 135: source train acc: 0.976200; source test acc: 0.991500; target test acc: 0.214287\n",
      "Epochs 135: source train acc: 0.976200; source test acc: 0.991500; target test acc: 0.214287\n",
      "Epochs 135: source train acc: 0.976200; source test acc: 0.991500; target test acc: 0.214287\n"
     ]
    },
    {
     "name": "stderr",
     "output_type": "stream",
     "text": [
      "100%|██████████| 150/150 [00:08<00:00, 17.20it/s]\n",
      "100%|██████████| 334/334 [00:22<00:00, 14.78it/s]\n"
     ]
    },
    {
     "name": "stdout",
     "output_type": "stream",
     "text": [
      "Epochs 136: source train acc: 0.976300; source test acc: 0.989900; target test acc: 0.216962\n",
      "Epochs 136: source train acc: 0.976300; source test acc: 0.989900; target test acc: 0.216962\n",
      "Epochs 136: source train acc: 0.976300; source test acc: 0.989900; target test acc: 0.216962\n"
     ]
    },
    {
     "name": "stderr",
     "output_type": "stream",
     "text": [
      "100%|██████████| 150/150 [00:08<00:00, 17.39it/s]\n",
      "100%|██████████| 334/334 [00:22<00:00, 14.63it/s]\n"
     ]
    },
    {
     "name": "stdout",
     "output_type": "stream",
     "text": [
      "Epochs 137: source train acc: 0.977217; source test acc: 0.990600; target test acc: 0.219064\n",
      "Epochs 137: source train acc: 0.977217; source test acc: 0.990600; target test acc: 0.219064\n",
      "Epochs 137: source train acc: 0.977217; source test acc: 0.990600; target test acc: 0.219064\n"
     ]
    },
    {
     "name": "stderr",
     "output_type": "stream",
     "text": [
      "100%|██████████| 150/150 [00:08<00:00, 17.13it/s]\n",
      "100%|██████████| 334/334 [00:22<00:00, 14.71it/s]\n"
     ]
    },
    {
     "name": "stdout",
     "output_type": "stream",
     "text": [
      "Epochs 138: source train acc: 0.976567; source test acc: 0.990900; target test acc: 0.216676\n",
      "Epochs 138: source train acc: 0.976567; source test acc: 0.990900; target test acc: 0.216676\n",
      "Epochs 138: source train acc: 0.976567; source test acc: 0.990900; target test acc: 0.216676\n"
     ]
    },
    {
     "name": "stderr",
     "output_type": "stream",
     "text": [
      "100%|██████████| 150/150 [00:08<00:00, 17.25it/s]\n",
      "100%|██████████| 334/334 [00:22<00:00, 14.67it/s]\n"
     ]
    },
    {
     "name": "stdout",
     "output_type": "stream",
     "text": [
      "Epochs 139: source train acc: 0.976950; source test acc: 0.991100; target test acc: 0.215843\n",
      "Epochs 139: source train acc: 0.976950; source test acc: 0.991100; target test acc: 0.215843\n",
      "Epochs 139: source train acc: 0.976950; source test acc: 0.991100; target test acc: 0.215843\n"
     ]
    },
    {
     "name": "stderr",
     "output_type": "stream",
     "text": [
      "100%|██████████| 150/150 [00:08<00:00, 17.18it/s]\n",
      "100%|██████████| 334/334 [00:22<00:00, 14.72it/s]\n"
     ]
    },
    {
     "name": "stdout",
     "output_type": "stream",
     "text": [
      "Epochs 140: source train acc: 0.976533; source test acc: 0.991600; target test acc: 0.213413\n",
      "Epochs 140: source train acc: 0.976533; source test acc: 0.991600; target test acc: 0.213413\n",
      "Epochs 140: source train acc: 0.976533; source test acc: 0.991600; target test acc: 0.213413\n"
     ]
    },
    {
     "name": "stderr",
     "output_type": "stream",
     "text": [
      "100%|██████████| 150/150 [00:08<00:00, 16.72it/s]\n",
      "100%|██████████| 334/334 [00:23<00:00, 14.49it/s]\n"
     ]
    },
    {
     "name": "stdout",
     "output_type": "stream",
     "text": [
      "Epochs 141: source train acc: 0.976633; source test acc: 0.990400; target test acc: 0.206752\n",
      "Epochs 141: source train acc: 0.976633; source test acc: 0.990400; target test acc: 0.206752\n",
      "Epochs 141: source train acc: 0.976633; source test acc: 0.990400; target test acc: 0.206752\n"
     ]
    },
    {
     "name": "stderr",
     "output_type": "stream",
     "text": [
      "100%|██████████| 150/150 [00:08<00:00, 17.20it/s]\n",
      "100%|██████████| 334/334 [00:22<00:00, 14.59it/s]\n"
     ]
    },
    {
     "name": "stdout",
     "output_type": "stream",
     "text": [
      "Epochs 142: source train acc: 0.976117; source test acc: 0.991200; target test acc: 0.210314\n",
      "Epochs 142: source train acc: 0.976117; source test acc: 0.991200; target test acc: 0.210314\n",
      "Epochs 142: source train acc: 0.976117; source test acc: 0.991200; target test acc: 0.210314\n"
     ]
    },
    {
     "name": "stderr",
     "output_type": "stream",
     "text": [
      "100%|██████████| 150/150 [00:08<00:00, 17.35it/s]\n",
      "100%|██████████| 334/334 [00:22<00:00, 14.64it/s]\n"
     ]
    },
    {
     "name": "stdout",
     "output_type": "stream",
     "text": [
      "Epochs 143: source train acc: 0.977250; source test acc: 0.992400; target test acc: 0.214191\n",
      "Epochs 143: source train acc: 0.977250; source test acc: 0.992400; target test acc: 0.214191\n",
      "Epochs 143: source train acc: 0.977250; source test acc: 0.992400; target test acc: 0.214191\n"
     ]
    },
    {
     "name": "stderr",
     "output_type": "stream",
     "text": [
      "100%|██████████| 150/150 [00:08<00:00, 17.21it/s]\n",
      "100%|██████████| 334/334 [00:22<00:00, 14.59it/s]\n"
     ]
    },
    {
     "name": "stdout",
     "output_type": "stream",
     "text": [
      "Epochs 144: source train acc: 0.977067; source test acc: 0.991500; target test acc: 0.215420\n",
      "Epochs 144: source train acc: 0.977067; source test acc: 0.991500; target test acc: 0.215420\n",
      "Epochs 144: source train acc: 0.977067; source test acc: 0.991500; target test acc: 0.215420\n"
     ]
    },
    {
     "name": "stderr",
     "output_type": "stream",
     "text": [
      "100%|██████████| 150/150 [00:08<00:00, 17.15it/s]\n",
      "100%|██████████| 334/334 [00:22<00:00, 14.75it/s]\n"
     ]
    },
    {
     "name": "stdout",
     "output_type": "stream",
     "text": [
      "Epochs 145: source train acc: 0.977483; source test acc: 0.990800; target test acc: 0.208199\n",
      "Epochs 145: source train acc: 0.977483; source test acc: 0.990800; target test acc: 0.208199\n",
      "Epochs 145: source train acc: 0.977483; source test acc: 0.990800; target test acc: 0.208199\n"
     ]
    },
    {
     "name": "stderr",
     "output_type": "stream",
     "text": [
      "100%|██████████| 150/150 [00:08<00:00, 17.45it/s]\n",
      "100%|██████████| 334/334 [00:23<00:00, 14.46it/s]\n"
     ]
    },
    {
     "name": "stdout",
     "output_type": "stream",
     "text": [
      "Epochs 146: source train acc: 0.976817; source test acc: 0.991600; target test acc: 0.212908\n",
      "Epochs 146: source train acc: 0.976817; source test acc: 0.991600; target test acc: 0.212908\n",
      "Epochs 146: source train acc: 0.976817; source test acc: 0.991600; target test acc: 0.212908\n"
     ]
    },
    {
     "name": "stderr",
     "output_type": "stream",
     "text": [
      "100%|██████████| 150/150 [00:08<00:00, 17.24it/s]\n",
      "100%|██████████| 334/334 [00:22<00:00, 14.91it/s]\n"
     ]
    },
    {
     "name": "stdout",
     "output_type": "stream",
     "text": [
      "Epochs 147: source train acc: 0.976833; source test acc: 0.989700; target test acc: 0.209059\n",
      "Epochs 147: source train acc: 0.976833; source test acc: 0.989700; target test acc: 0.209059\n",
      "Epochs 147: source train acc: 0.976833; source test acc: 0.989700; target test acc: 0.209059\n"
     ]
    },
    {
     "name": "stderr",
     "output_type": "stream",
     "text": [
      "100%|██████████| 150/150 [00:07<00:00, 18.86it/s]\n",
      "100%|██████████| 334/334 [00:21<00:00, 15.52it/s]\n"
     ]
    },
    {
     "name": "stdout",
     "output_type": "stream",
     "text": [
      "Epochs 148: source train acc: 0.975733; source test acc: 0.992000; target test acc: 0.214328\n",
      "Epochs 148: source train acc: 0.975733; source test acc: 0.992000; target test acc: 0.214328\n",
      "Epochs 148: source train acc: 0.975733; source test acc: 0.992000; target test acc: 0.214328\n"
     ]
    },
    {
     "name": "stderr",
     "output_type": "stream",
     "text": [
      "100%|██████████| 150/150 [00:08<00:00, 18.67it/s]\n",
      "100%|██████████| 334/334 [00:21<00:00, 15.55it/s]\n"
     ]
    },
    {
     "name": "stdout",
     "output_type": "stream",
     "text": [
      "Epochs 149: source train acc: 0.976767; source test acc: 0.992100; target test acc: 0.214915\n",
      "Epochs 149: source train acc: 0.976767; source test acc: 0.992100; target test acc: 0.214915\n",
      "Epochs 149: source train acc: 0.976767; source test acc: 0.992100; target test acc: 0.214915\n"
     ]
    },
    {
     "name": "stderr",
     "output_type": "stream",
     "text": [
      "100%|██████████| 150/150 [00:07<00:00, 18.97it/s]\n",
      "100%|██████████| 334/334 [00:21<00:00, 15.71it/s]\n"
     ]
    },
    {
     "name": "stdout",
     "output_type": "stream",
     "text": [
      "Epochs 150: source train acc: 0.977800; source test acc: 0.991100; target test acc: 0.220948\n",
      "Epochs 150: source train acc: 0.977800; source test acc: 0.991100; target test acc: 0.220948\n",
      "Epochs 150: source train acc: 0.977800; source test acc: 0.991100; target test acc: 0.220948\n"
     ]
    },
    {
     "name": "stderr",
     "output_type": "stream",
     "text": [
      "100%|██████████| 150/150 [00:07<00:00, 18.80it/s]\n",
      "100%|██████████| 334/334 [00:21<00:00, 15.64it/s]\n"
     ]
    },
    {
     "name": "stdout",
     "output_type": "stream",
     "text": [
      "Epochs 151: source train acc: 0.976783; source test acc: 0.991800; target test acc: 0.216716\n",
      "Epochs 151: source train acc: 0.976783; source test acc: 0.991800; target test acc: 0.216716\n",
      "Epochs 151: source train acc: 0.976783; source test acc: 0.991800; target test acc: 0.216716\n"
     ]
    },
    {
     "name": "stderr",
     "output_type": "stream",
     "text": [
      "100%|██████████| 150/150 [00:07<00:00, 18.87it/s]\n",
      "100%|██████████| 334/334 [00:21<00:00, 15.63it/s]\n"
     ]
    },
    {
     "name": "stdout",
     "output_type": "stream",
     "text": [
      "Epochs 152: source train acc: 0.977100; source test acc: 0.991500; target test acc: 0.210751\n",
      "Epochs 152: source train acc: 0.977100; source test acc: 0.991500; target test acc: 0.210751\n",
      "Epochs 152: source train acc: 0.977100; source test acc: 0.991500; target test acc: 0.210751\n"
     ]
    },
    {
     "name": "stderr",
     "output_type": "stream",
     "text": [
      "100%|██████████| 150/150 [00:07<00:00, 18.82it/s]\n",
      "100%|██████████| 334/334 [00:21<00:00, 15.65it/s]\n"
     ]
    },
    {
     "name": "stdout",
     "output_type": "stream",
     "text": [
      "Epochs 153: source train acc: 0.977967; source test acc: 0.991500; target test acc: 0.210451\n",
      "Epochs 153: source train acc: 0.977967; source test acc: 0.991500; target test acc: 0.210451\n",
      "Epochs 153: source train acc: 0.977967; source test acc: 0.991500; target test acc: 0.210451\n"
     ]
    },
    {
     "name": "stderr",
     "output_type": "stream",
     "text": [
      "100%|██████████| 150/150 [00:07<00:00, 18.84it/s]\n",
      "100%|██████████| 334/334 [00:21<00:00, 15.65it/s]\n"
     ]
    },
    {
     "name": "stdout",
     "output_type": "stream",
     "text": [
      "Epochs 154: source train acc: 0.977500; source test acc: 0.991300; target test acc: 0.212007\n",
      "Epochs 154: source train acc: 0.977500; source test acc: 0.991300; target test acc: 0.212007\n",
      "Epochs 154: source train acc: 0.977500; source test acc: 0.991300; target test acc: 0.212007\n"
     ]
    },
    {
     "name": "stderr",
     "output_type": "stream",
     "text": [
      "100%|██████████| 150/150 [00:07<00:00, 18.77it/s]\n",
      "100%|██████████| 334/334 [00:21<00:00, 15.36it/s]\n"
     ]
    },
    {
     "name": "stdout",
     "output_type": "stream",
     "text": [
      "Epochs 155: source train acc: 0.977600; source test acc: 0.991700; target test acc: 0.211570\n",
      "Epochs 155: source train acc: 0.977600; source test acc: 0.991700; target test acc: 0.211570\n",
      "Epochs 155: source train acc: 0.977600; source test acc: 0.991700; target test acc: 0.211570\n"
     ]
    },
    {
     "name": "stderr",
     "output_type": "stream",
     "text": [
      "100%|██████████| 150/150 [00:08<00:00, 18.49it/s]\n",
      "100%|██████████| 334/334 [00:21<00:00, 15.65it/s]\n"
     ]
    },
    {
     "name": "stdout",
     "output_type": "stream",
     "text": [
      "Epochs 156: source train acc: 0.977533; source test acc: 0.991200; target test acc: 0.210355\n",
      "Epochs 156: source train acc: 0.977533; source test acc: 0.991200; target test acc: 0.210355\n",
      "Epochs 156: source train acc: 0.977533; source test acc: 0.991200; target test acc: 0.210355\n"
     ]
    },
    {
     "name": "stderr",
     "output_type": "stream",
     "text": [
      "100%|██████████| 150/150 [00:07<00:00, 18.92it/s]\n",
      "100%|██████████| 334/334 [00:21<00:00, 15.66it/s]\n"
     ]
    },
    {
     "name": "stdout",
     "output_type": "stream",
     "text": [
      "Epochs 157: source train acc: 0.977583; source test acc: 0.991500; target test acc: 0.211557\n",
      "Epochs 157: source train acc: 0.977583; source test acc: 0.991500; target test acc: 0.211557\n",
      "Epochs 157: source train acc: 0.977583; source test acc: 0.991500; target test acc: 0.211557\n"
     ]
    },
    {
     "name": "stderr",
     "output_type": "stream",
     "text": [
      "100%|██████████| 150/150 [00:07<00:00, 18.75it/s]\n",
      "100%|██████████| 334/334 [00:21<00:00, 15.54it/s]\n"
     ]
    },
    {
     "name": "stdout",
     "output_type": "stream",
     "text": [
      "Epochs 158: source train acc: 0.976583; source test acc: 0.991300; target test acc: 0.215160\n",
      "Epochs 158: source train acc: 0.976583; source test acc: 0.991300; target test acc: 0.215160\n",
      "Epochs 158: source train acc: 0.976583; source test acc: 0.991300; target test acc: 0.215160\n"
     ]
    },
    {
     "name": "stderr",
     "output_type": "stream",
     "text": [
      "100%|██████████| 150/150 [00:07<00:00, 19.02it/s]\n",
      "100%|██████████| 334/334 [00:21<00:00, 15.64it/s]\n"
     ]
    },
    {
     "name": "stdout",
     "output_type": "stream",
     "text": [
      "Epochs 159: source train acc: 0.977650; source test acc: 0.991800; target test acc: 0.210342\n",
      "Epochs 159: source train acc: 0.977650; source test acc: 0.991800; target test acc: 0.210342\n",
      "Epochs 159: source train acc: 0.977650; source test acc: 0.991800; target test acc: 0.210342\n"
     ]
    },
    {
     "name": "stderr",
     "output_type": "stream",
     "text": [
      "100%|██████████| 150/150 [00:07<00:00, 19.00it/s]\n",
      "100%|██████████| 334/334 [00:21<00:00, 15.55it/s]\n"
     ]
    },
    {
     "name": "stdout",
     "output_type": "stream",
     "text": [
      "Epochs 160: source train acc: 0.977083; source test acc: 0.991200; target test acc: 0.210028\n",
      "Epochs 160: source train acc: 0.977083; source test acc: 0.991200; target test acc: 0.210028\n",
      "Epochs 160: source train acc: 0.977083; source test acc: 0.991200; target test acc: 0.210028\n"
     ]
    },
    {
     "name": "stderr",
     "output_type": "stream",
     "text": [
      "100%|██████████| 150/150 [00:07<00:00, 18.92it/s]\n",
      "100%|██████████| 334/334 [00:21<00:00, 15.67it/s]\n"
     ]
    },
    {
     "name": "stdout",
     "output_type": "stream",
     "text": [
      "Epochs 161: source train acc: 0.976917; source test acc: 0.991100; target test acc: 0.212444\n",
      "Epochs 161: source train acc: 0.976917; source test acc: 0.991100; target test acc: 0.212444\n",
      "Epochs 161: source train acc: 0.976917; source test acc: 0.991100; target test acc: 0.212444\n"
     ]
    },
    {
     "name": "stderr",
     "output_type": "stream",
     "text": [
      "100%|██████████| 150/150 [00:07<00:00, 19.06it/s]\n",
      "100%|██████████| 334/334 [00:21<00:00, 15.57it/s]\n"
     ]
    },
    {
     "name": "stdout",
     "output_type": "stream",
     "text": [
      "Epochs 162: source train acc: 0.977017; source test acc: 0.990800; target test acc: 0.212471\n",
      "Epochs 162: source train acc: 0.977017; source test acc: 0.990800; target test acc: 0.212471\n",
      "Epochs 162: source train acc: 0.977017; source test acc: 0.990800; target test acc: 0.212471\n"
     ]
    },
    {
     "name": "stderr",
     "output_type": "stream",
     "text": [
      "100%|██████████| 150/150 [00:07<00:00, 18.92it/s]\n",
      "100%|██████████| 334/334 [00:21<00:00, 15.68it/s]\n"
     ]
    },
    {
     "name": "stdout",
     "output_type": "stream",
     "text": [
      "Epochs 163: source train acc: 0.977083; source test acc: 0.991600; target test acc: 0.214519\n",
      "Epochs 163: source train acc: 0.977083; source test acc: 0.991600; target test acc: 0.214519\n",
      "Epochs 163: source train acc: 0.977083; source test acc: 0.991600; target test acc: 0.214519\n"
     ]
    },
    {
     "name": "stderr",
     "output_type": "stream",
     "text": [
      "100%|██████████| 150/150 [00:07<00:00, 19.08it/s]\n",
      "100%|██████████| 334/334 [00:21<00:00, 15.66it/s]\n"
     ]
    },
    {
     "name": "stdout",
     "output_type": "stream",
     "text": [
      "Epochs 164: source train acc: 0.977400; source test acc: 0.991600; target test acc: 0.211092\n",
      "Epochs 164: source train acc: 0.977400; source test acc: 0.991600; target test acc: 0.211092\n",
      "Epochs 164: source train acc: 0.977400; source test acc: 0.991600; target test acc: 0.211092\n"
     ]
    },
    {
     "name": "stderr",
     "output_type": "stream",
     "text": [
      "100%|██████████| 150/150 [00:07<00:00, 18.95it/s]\n",
      "100%|██████████| 334/334 [00:21<00:00, 15.59it/s]\n"
     ]
    },
    {
     "name": "stdout",
     "output_type": "stream",
     "text": [
      "Epochs 165: source train acc: 0.977450; source test acc: 0.991200; target test acc: 0.209140\n",
      "Epochs 165: source train acc: 0.977450; source test acc: 0.991200; target test acc: 0.209140\n",
      "Epochs 165: source train acc: 0.977450; source test acc: 0.991200; target test acc: 0.209140\n"
     ]
    },
    {
     "name": "stderr",
     "output_type": "stream",
     "text": [
      "100%|██████████| 150/150 [00:07<00:00, 19.10it/s]\n",
      "100%|██████████| 334/334 [00:21<00:00, 15.55it/s]\n"
     ]
    },
    {
     "name": "stdout",
     "output_type": "stream",
     "text": [
      "Epochs 166: source train acc: 0.977450; source test acc: 0.991900; target test acc: 0.212171\n",
      "Epochs 166: source train acc: 0.977450; source test acc: 0.991900; target test acc: 0.212171\n",
      "Epochs 166: source train acc: 0.977450; source test acc: 0.991900; target test acc: 0.212171\n"
     ]
    },
    {
     "name": "stderr",
     "output_type": "stream",
     "text": [
      "100%|██████████| 150/150 [00:07<00:00, 19.04it/s]\n",
      "100%|██████████| 334/334 [00:21<00:00, 15.53it/s]\n"
     ]
    },
    {
     "name": "stdout",
     "output_type": "stream",
     "text": [
      "Epochs 167: source train acc: 0.977167; source test acc: 0.991100; target test acc: 0.213795\n",
      "Epochs 167: source train acc: 0.977167; source test acc: 0.991100; target test acc: 0.213795\n",
      "Epochs 167: source train acc: 0.977167; source test acc: 0.991100; target test acc: 0.213795\n"
     ]
    },
    {
     "name": "stderr",
     "output_type": "stream",
     "text": [
      "100%|██████████| 150/150 [00:07<00:00, 19.17it/s]\n",
      "100%|██████████| 334/334 [00:21<00:00, 15.67it/s]\n"
     ]
    },
    {
     "name": "stdout",
     "output_type": "stream",
     "text": [
      "Epochs 168: source train acc: 0.977350; source test acc: 0.990600; target test acc: 0.208867\n",
      "Epochs 168: source train acc: 0.977350; source test acc: 0.990600; target test acc: 0.208867\n",
      "Epochs 168: source train acc: 0.977350; source test acc: 0.990600; target test acc: 0.208867\n"
     ]
    },
    {
     "name": "stderr",
     "output_type": "stream",
     "text": [
      "100%|██████████| 150/150 [00:07<00:00, 19.11it/s]\n",
      "100%|██████████| 334/334 [00:21<00:00, 15.63it/s]\n"
     ]
    },
    {
     "name": "stdout",
     "output_type": "stream",
     "text": [
      "Epochs 169: source train acc: 0.977883; source test acc: 0.991600; target test acc: 0.208185\n",
      "Epochs 169: source train acc: 0.977883; source test acc: 0.991600; target test acc: 0.208185\n",
      "Epochs 169: source train acc: 0.977883; source test acc: 0.991600; target test acc: 0.208185\n"
     ]
    },
    {
     "name": "stderr",
     "output_type": "stream",
     "text": [
      "100%|██████████| 150/150 [00:07<00:00, 19.08it/s]\n",
      "100%|██████████| 334/334 [00:21<00:00, 15.58it/s]\n"
     ]
    },
    {
     "name": "stdout",
     "output_type": "stream",
     "text": [
      "Epochs 170: source train acc: 0.977150; source test acc: 0.992600; target test acc: 0.210151\n",
      "Epochs 170: source train acc: 0.977150; source test acc: 0.992600; target test acc: 0.210151\n",
      "Epochs 170: source train acc: 0.977150; source test acc: 0.992600; target test acc: 0.210151\n"
     ]
    },
    {
     "name": "stderr",
     "output_type": "stream",
     "text": [
      "100%|██████████| 150/150 [00:07<00:00, 19.21it/s]\n",
      "100%|██████████| 334/334 [00:21<00:00, 15.71it/s]\n"
     ]
    },
    {
     "name": "stdout",
     "output_type": "stream",
     "text": [
      "Epochs 171: source train acc: 0.977833; source test acc: 0.992100; target test acc: 0.207079\n",
      "Epochs 171: source train acc: 0.977833; source test acc: 0.992100; target test acc: 0.207079\n",
      "Epochs 171: source train acc: 0.977833; source test acc: 0.992100; target test acc: 0.207079\n"
     ]
    },
    {
     "name": "stderr",
     "output_type": "stream",
     "text": [
      "100%|██████████| 150/150 [00:07<00:00, 19.24it/s]\n",
      "100%|██████████| 334/334 [00:20<00:00, 15.94it/s]\n"
     ]
    },
    {
     "name": "stdout",
     "output_type": "stream",
     "text": [
      "Epochs 172: source train acc: 0.977233; source test acc: 0.992300; target test acc: 0.210505\n",
      "Epochs 172: source train acc: 0.977233; source test acc: 0.992300; target test acc: 0.210505\n",
      "Epochs 172: source train acc: 0.977233; source test acc: 0.992300; target test acc: 0.210505\n"
     ]
    },
    {
     "name": "stderr",
     "output_type": "stream",
     "text": [
      "100%|██████████| 150/150 [00:07<00:00, 19.31it/s]\n",
      "100%|██████████| 334/334 [00:20<00:00, 16.41it/s]\n"
     ]
    },
    {
     "name": "stdout",
     "output_type": "stream",
     "text": [
      "Epochs 173: source train acc: 0.978517; source test acc: 0.991300; target test acc: 0.209618\n",
      "Epochs 173: source train acc: 0.978517; source test acc: 0.991300; target test acc: 0.209618\n",
      "Epochs 173: source train acc: 0.978517; source test acc: 0.991300; target test acc: 0.209618\n"
     ]
    },
    {
     "name": "stderr",
     "output_type": "stream",
     "text": [
      "100%|██████████| 150/150 [00:07<00:00, 19.77it/s]\n",
      "100%|██████████| 334/334 [00:20<00:00, 16.38it/s]\n"
     ]
    },
    {
     "name": "stdout",
     "output_type": "stream",
     "text": [
      "Epochs 174: source train acc: 0.977567; source test acc: 0.992200; target test acc: 0.212567\n",
      "Epochs 174: source train acc: 0.977567; source test acc: 0.992200; target test acc: 0.212567\n",
      "Epochs 174: source train acc: 0.977567; source test acc: 0.992200; target test acc: 0.212567\n"
     ]
    },
    {
     "name": "stderr",
     "output_type": "stream",
     "text": [
      "100%|██████████| 150/150 [00:07<00:00, 19.78it/s]\n",
      "100%|██████████| 334/334 [00:20<00:00, 16.50it/s]\n"
     ]
    },
    {
     "name": "stdout",
     "output_type": "stream",
     "text": [
      "Epochs 175: source train acc: 0.978400; source test acc: 0.991500; target test acc: 0.209850\n",
      "Epochs 175: source train acc: 0.978400; source test acc: 0.991500; target test acc: 0.209850\n",
      "Epochs 175: source train acc: 0.978400; source test acc: 0.991500; target test acc: 0.209850\n"
     ]
    },
    {
     "name": "stderr",
     "output_type": "stream",
     "text": [
      "100%|██████████| 150/150 [00:07<00:00, 19.62it/s]\n",
      "100%|██████████| 334/334 [00:20<00:00, 16.03it/s]\n"
     ]
    },
    {
     "name": "stdout",
     "output_type": "stream",
     "text": [
      "Epochs 176: source train acc: 0.978867; source test acc: 0.991100; target test acc: 0.211966\n",
      "Epochs 176: source train acc: 0.978867; source test acc: 0.991100; target test acc: 0.211966\n",
      "Epochs 176: source train acc: 0.978867; source test acc: 0.991100; target test acc: 0.211966\n"
     ]
    },
    {
     "name": "stderr",
     "output_type": "stream",
     "text": [
      "100%|██████████| 150/150 [00:07<00:00, 18.82it/s]\n",
      "100%|██████████| 334/334 [00:20<00:00, 16.14it/s]\n"
     ]
    },
    {
     "name": "stdout",
     "output_type": "stream",
     "text": [
      "Epochs 177: source train acc: 0.977517; source test acc: 0.992700; target test acc: 0.213358\n",
      "Epochs 177: source train acc: 0.977517; source test acc: 0.992700; target test acc: 0.213358\n",
      "Epochs 177: source train acc: 0.977517; source test acc: 0.992700; target test acc: 0.213358\n"
     ]
    },
    {
     "name": "stderr",
     "output_type": "stream",
     "text": [
      "100%|██████████| 150/150 [00:07<00:00, 18.86it/s]\n",
      "100%|██████████| 334/334 [00:20<00:00, 16.04it/s]\n"
     ]
    },
    {
     "name": "stdout",
     "output_type": "stream",
     "text": [
      "Epochs 178: source train acc: 0.978483; source test acc: 0.992400; target test acc: 0.218491\n",
      "Epochs 178: source train acc: 0.978483; source test acc: 0.992400; target test acc: 0.218491\n",
      "Epochs 178: source train acc: 0.978483; source test acc: 0.992400; target test acc: 0.218491\n"
     ]
    },
    {
     "name": "stderr",
     "output_type": "stream",
     "text": [
      "100%|██████████| 150/150 [00:07<00:00, 19.28it/s]\n",
      "100%|██████████| 334/334 [00:20<00:00, 16.04it/s]\n"
     ]
    },
    {
     "name": "stdout",
     "output_type": "stream",
     "text": [
      "Epochs 179: source train acc: 0.978017; source test acc: 0.991400; target test acc: 0.209468\n",
      "Epochs 179: source train acc: 0.978017; source test acc: 0.991400; target test acc: 0.209468\n",
      "Epochs 179: source train acc: 0.978017; source test acc: 0.991400; target test acc: 0.209468\n"
     ]
    },
    {
     "name": "stderr",
     "output_type": "stream",
     "text": [
      "100%|██████████| 150/150 [00:07<00:00, 18.76it/s]\n",
      "100%|██████████| 334/334 [00:20<00:00, 16.08it/s]\n"
     ]
    },
    {
     "name": "stdout",
     "output_type": "stream",
     "text": [
      "Epochs 180: source train acc: 0.977700; source test acc: 0.991800; target test acc: 0.212417\n",
      "Epochs 180: source train acc: 0.977700; source test acc: 0.991800; target test acc: 0.212417\n",
      "Epochs 180: source train acc: 0.977700; source test acc: 0.991800; target test acc: 0.212417\n"
     ]
    },
    {
     "name": "stderr",
     "output_type": "stream",
     "text": [
      "100%|██████████| 150/150 [00:08<00:00, 18.62it/s]\n",
      "100%|██████████| 334/334 [00:20<00:00, 16.09it/s]\n"
     ]
    },
    {
     "name": "stdout",
     "output_type": "stream",
     "text": [
      "Epochs 181: source train acc: 0.977833; source test acc: 0.991900; target test acc: 0.211434\n",
      "Epochs 181: source train acc: 0.977833; source test acc: 0.991900; target test acc: 0.211434\n",
      "Epochs 181: source train acc: 0.977833; source test acc: 0.991900; target test acc: 0.211434\n"
     ]
    },
    {
     "name": "stderr",
     "output_type": "stream",
     "text": [
      "100%|██████████| 150/150 [00:07<00:00, 19.11it/s]\n",
      "100%|██████████| 334/334 [00:20<00:00, 15.94it/s]\n"
     ]
    },
    {
     "name": "stdout",
     "output_type": "stream",
     "text": [
      "Epochs 182: source train acc: 0.978117; source test acc: 0.991600; target test acc: 0.211406\n",
      "Epochs 182: source train acc: 0.978117; source test acc: 0.991600; target test acc: 0.211406\n",
      "Epochs 182: source train acc: 0.978117; source test acc: 0.991600; target test acc: 0.211406\n"
     ]
    },
    {
     "name": "stderr",
     "output_type": "stream",
     "text": [
      "100%|██████████| 150/150 [00:07<00:00, 18.87it/s]\n",
      "100%|██████████| 334/334 [00:20<00:00, 16.09it/s]\n"
     ]
    },
    {
     "name": "stdout",
     "output_type": "stream",
     "text": [
      "Epochs 183: source train acc: 0.977883; source test acc: 0.991500; target test acc: 0.214751\n",
      "Epochs 183: source train acc: 0.977883; source test acc: 0.991500; target test acc: 0.214751\n",
      "Epochs 183: source train acc: 0.977883; source test acc: 0.991500; target test acc: 0.214751\n"
     ]
    },
    {
     "name": "stderr",
     "output_type": "stream",
     "text": [
      "100%|██████████| 150/150 [00:07<00:00, 19.02it/s]\n",
      "100%|██████████| 334/334 [00:20<00:00, 16.00it/s]\n"
     ]
    },
    {
     "name": "stdout",
     "output_type": "stream",
     "text": [
      "Epochs 184: source train acc: 0.977817; source test acc: 0.991100; target test acc: 0.210123\n",
      "Epochs 184: source train acc: 0.977817; source test acc: 0.991100; target test acc: 0.210123\n",
      "Epochs 184: source train acc: 0.977817; source test acc: 0.991100; target test acc: 0.210123\n"
     ]
    },
    {
     "name": "stderr",
     "output_type": "stream",
     "text": [
      "100%|██████████| 150/150 [00:07<00:00, 18.96it/s]\n",
      "100%|██████████| 334/334 [00:20<00:00, 16.01it/s]\n"
     ]
    },
    {
     "name": "stdout",
     "output_type": "stream",
     "text": [
      "Epochs 185: source train acc: 0.978767; source test acc: 0.992300; target test acc: 0.208485\n",
      "Epochs 185: source train acc: 0.978767; source test acc: 0.992300; target test acc: 0.208485\n",
      "Epochs 185: source train acc: 0.978767; source test acc: 0.992300; target test acc: 0.208485\n"
     ]
    },
    {
     "name": "stderr",
     "output_type": "stream",
     "text": [
      "100%|██████████| 150/150 [00:07<00:00, 18.97it/s]\n",
      "100%|██████████| 334/334 [00:20<00:00, 16.08it/s]\n"
     ]
    },
    {
     "name": "stdout",
     "output_type": "stream",
     "text": [
      "Epochs 186: source train acc: 0.978900; source test acc: 0.991300; target test acc: 0.214874\n",
      "Epochs 186: source train acc: 0.978900; source test acc: 0.991300; target test acc: 0.214874\n",
      "Epochs 186: source train acc: 0.978900; source test acc: 0.991300; target test acc: 0.214874\n"
     ]
    },
    {
     "name": "stderr",
     "output_type": "stream",
     "text": [
      "100%|██████████| 150/150 [00:07<00:00, 18.98it/s]\n",
      "100%|██████████| 334/334 [00:20<00:00, 16.05it/s]\n"
     ]
    },
    {
     "name": "stdout",
     "output_type": "stream",
     "text": [
      "Epochs 187: source train acc: 0.977800; source test acc: 0.991600; target test acc: 0.205741\n",
      "Epochs 187: source train acc: 0.977800; source test acc: 0.991600; target test acc: 0.205741\n",
      "Epochs 187: source train acc: 0.977800; source test acc: 0.991600; target test acc: 0.205741\n"
     ]
    },
    {
     "name": "stderr",
     "output_type": "stream",
     "text": [
      "100%|██████████| 150/150 [00:07<00:00, 19.01it/s]\n",
      "100%|██████████| 334/334 [00:20<00:00, 15.99it/s]\n"
     ]
    },
    {
     "name": "stdout",
     "output_type": "stream",
     "text": [
      "Epochs 188: source train acc: 0.978250; source test acc: 0.990900; target test acc: 0.208908\n",
      "Epochs 188: source train acc: 0.978250; source test acc: 0.990900; target test acc: 0.208908\n",
      "Epochs 188: source train acc: 0.978250; source test acc: 0.990900; target test acc: 0.208908\n"
     ]
    },
    {
     "name": "stderr",
     "output_type": "stream",
     "text": [
      "100%|██████████| 150/150 [00:07<00:00, 18.97it/s]\n",
      "100%|██████████| 334/334 [00:20<00:00, 16.09it/s]\n"
     ]
    },
    {
     "name": "stdout",
     "output_type": "stream",
     "text": [
      "Epochs 189: source train acc: 0.978350; source test acc: 0.991000; target test acc: 0.218477\n",
      "Epochs 189: source train acc: 0.978350; source test acc: 0.991000; target test acc: 0.218477\n",
      "Epochs 189: source train acc: 0.978350; source test acc: 0.991000; target test acc: 0.218477\n"
     ]
    },
    {
     "name": "stderr",
     "output_type": "stream",
     "text": [
      "100%|██████████| 150/150 [00:07<00:00, 18.98it/s]\n",
      "100%|██████████| 334/334 [00:20<00:00, 16.01it/s]\n"
     ]
    },
    {
     "name": "stdout",
     "output_type": "stream",
     "text": [
      "Epochs 190: source train acc: 0.978433; source test acc: 0.991100; target test acc: 0.212089\n",
      "Epochs 190: source train acc: 0.978433; source test acc: 0.991100; target test acc: 0.212089\n",
      "Epochs 190: source train acc: 0.978433; source test acc: 0.991100; target test acc: 0.212089\n"
     ]
    },
    {
     "name": "stderr",
     "output_type": "stream",
     "text": [
      "100%|██████████| 150/150 [00:07<00:00, 19.00it/s]\n",
      "100%|██████████| 334/334 [00:20<00:00, 16.02it/s]\n"
     ]
    },
    {
     "name": "stdout",
     "output_type": "stream",
     "text": [
      "Epochs 191: source train acc: 0.978033; source test acc: 0.991800; target test acc: 0.208512\n",
      "Epochs 191: source train acc: 0.978033; source test acc: 0.991800; target test acc: 0.208512\n",
      "Epochs 191: source train acc: 0.978033; source test acc: 0.991800; target test acc: 0.208512\n"
     ]
    },
    {
     "name": "stderr",
     "output_type": "stream",
     "text": [
      "100%|██████████| 150/150 [00:07<00:00, 18.88it/s]\n",
      "100%|██████████| 334/334 [00:20<00:00, 16.08it/s]\n"
     ]
    },
    {
     "name": "stdout",
     "output_type": "stream",
     "text": [
      "Epochs 192: source train acc: 0.977683; source test acc: 0.990900; target test acc: 0.208608\n",
      "Epochs 192: source train acc: 0.977683; source test acc: 0.990900; target test acc: 0.208608\n",
      "Epochs 192: source train acc: 0.977683; source test acc: 0.990900; target test acc: 0.208608\n"
     ]
    },
    {
     "name": "stderr",
     "output_type": "stream",
     "text": [
      "100%|██████████| 150/150 [00:07<00:00, 18.97it/s]\n",
      "100%|██████████| 334/334 [00:20<00:00, 15.98it/s]\n"
     ]
    },
    {
     "name": "stdout",
     "output_type": "stream",
     "text": [
      "Epochs 193: source train acc: 0.978350; source test acc: 0.992200; target test acc: 0.207461\n",
      "Epochs 193: source train acc: 0.978350; source test acc: 0.992200; target test acc: 0.207461\n",
      "Epochs 193: source train acc: 0.978350; source test acc: 0.992200; target test acc: 0.207461\n"
     ]
    },
    {
     "name": "stderr",
     "output_type": "stream",
     "text": [
      "100%|██████████| 150/150 [00:07<00:00, 19.09it/s]\n",
      "100%|██████████| 334/334 [00:20<00:00, 15.96it/s]\n"
     ]
    },
    {
     "name": "stdout",
     "output_type": "stream",
     "text": [
      "Epochs 194: source train acc: 0.978050; source test acc: 0.990700; target test acc: 0.210328\n",
      "Epochs 194: source train acc: 0.978050; source test acc: 0.990700; target test acc: 0.210328\n",
      "Epochs 194: source train acc: 0.978050; source test acc: 0.990700; target test acc: 0.210328\n"
     ]
    },
    {
     "name": "stderr",
     "output_type": "stream",
     "text": [
      "100%|██████████| 150/150 [00:07<00:00, 18.90it/s]\n",
      "100%|██████████| 334/334 [00:20<00:00, 16.08it/s]\n"
     ]
    },
    {
     "name": "stdout",
     "output_type": "stream",
     "text": [
      "Epochs 195: source train acc: 0.978367; source test acc: 0.992000; target test acc: 0.213481\n",
      "Epochs 195: source train acc: 0.978367; source test acc: 0.992000; target test acc: 0.213481\n",
      "Epochs 195: source train acc: 0.978367; source test acc: 0.992000; target test acc: 0.213481\n"
     ]
    },
    {
     "name": "stderr",
     "output_type": "stream",
     "text": [
      "100%|██████████| 150/150 [00:07<00:00, 18.82it/s]\n",
      "100%|██████████| 334/334 [00:20<00:00, 16.10it/s]\n"
     ]
    },
    {
     "name": "stdout",
     "output_type": "stream",
     "text": [
      "Epochs 196: source train acc: 0.977867; source test acc: 0.991200; target test acc: 0.209318\n",
      "Epochs 196: source train acc: 0.977867; source test acc: 0.991200; target test acc: 0.209318\n",
      "Epochs 196: source train acc: 0.977867; source test acc: 0.991200; target test acc: 0.209318\n"
     ]
    },
    {
     "name": "stderr",
     "output_type": "stream",
     "text": [
      "100%|██████████| 150/150 [00:07<00:00, 19.00it/s]\n",
      "100%|██████████| 334/334 [00:20<00:00, 16.07it/s]\n"
     ]
    },
    {
     "name": "stdout",
     "output_type": "stream",
     "text": [
      "Epochs 197: source train acc: 0.977917; source test acc: 0.991900; target test acc: 0.207147\n",
      "Epochs 197: source train acc: 0.977917; source test acc: 0.991900; target test acc: 0.207147\n",
      "Epochs 197: source train acc: 0.977917; source test acc: 0.991900; target test acc: 0.207147\n"
     ]
    },
    {
     "name": "stderr",
     "output_type": "stream",
     "text": [
      "100%|██████████| 150/150 [00:07<00:00, 18.98it/s]\n",
      "100%|██████████| 334/334 [00:20<00:00, 16.12it/s]\n"
     ]
    },
    {
     "name": "stdout",
     "output_type": "stream",
     "text": [
      "Epochs 198: source train acc: 0.977783; source test acc: 0.992300; target test acc: 0.207461\n",
      "Epochs 198: source train acc: 0.977783; source test acc: 0.992300; target test acc: 0.207461\n",
      "Epochs 198: source train acc: 0.977783; source test acc: 0.992300; target test acc: 0.207461\n"
     ]
    },
    {
     "name": "stderr",
     "output_type": "stream",
     "text": [
      "100%|██████████| 150/150 [00:07<00:00, 19.03it/s]\n",
      "100%|██████████| 334/334 [00:20<00:00, 16.09it/s]\n"
     ]
    },
    {
     "name": "stdout",
     "output_type": "stream",
     "text": [
      "Epochs 199: source train acc: 0.977783; source test acc: 0.991400; target test acc: 0.209987\n",
      "Epochs 199: source train acc: 0.977783; source test acc: 0.991400; target test acc: 0.209987\n",
      "Epochs 199: source train acc: 0.977783; source test acc: 0.991400; target test acc: 0.209987\n"
     ]
    },
    {
     "name": "stderr",
     "output_type": "stream",
     "text": [
      "100%|██████████| 150/150 [00:07<00:00, 19.16it/s]\n",
      "100%|██████████| 334/334 [00:20<00:00, 16.03it/s]\n"
     ]
    },
    {
     "name": "stdout",
     "output_type": "stream",
     "text": [
      "Epochs 200: source train acc: 0.978850; source test acc: 0.991300; target test acc: 0.211775\n",
      "Epochs 200: source train acc: 0.978850; source test acc: 0.991300; target test acc: 0.211775\n",
      "Epochs 200: source train acc: 0.978850; source test acc: 0.991300; target test acc: 0.211775\n"
     ]
    }
   ],
   "source": [
    "target_acc_label_ = []\n",
    "source_acc_ = []\n",
    "source_test_acc_ = []\n",
    "target_test_acc_ = []\n",
    "\n",
    "logger.info('Started Training')\n",
    "\n",
    "\n",
    "for epoch in range(args.epochs):\n",
    "    # update classifier\n",
    "    # on source domain mnist\n",
    "    CNet.train()\n",
    "    encoder.train()\n",
    "    source_acc = 0.0\n",
    "    num_datas = 0.0\n",
    "    for batch_id, (source_x, source_y) in tqdm(enumerate(train_mnist_loader), total=len(train_mnist_loader)):\n",
    "        optimizerCNet.zero_grad()\n",
    "        optimizerEncoder.zero_grad()\n",
    "        source_x = source_x.to(device).float()\n",
    "        source_y = source_y.to(device)\n",
    "        num_datas += source_x.size(0)\n",
    "        source_x_embedding = encoder(source_x)\n",
    "        pred = CNet(source_x_embedding)\n",
    "        source_acc += (pred.argmax(-1) == source_y).sum().item()\n",
    "        loss = criterion_classifier(pred, source_y)\n",
    "        loss.backward()\n",
    "        optimizerCNet.step()\n",
    "        optimizerEncoder.step()\n",
    "        \n",
    "        \n",
    "    source_acc = source_acc / num_datas\n",
    "    source_acc_.append(source_acc)\n",
    "    \n",
    "    \n",
    "    \n",
    "    # on target domain svhn\n",
    "#     target_acc = 0.0\n",
    "#     num_datas = 0.0\n",
    "#     CNet.train()\n",
    "#     encoder.train()\n",
    "\n",
    "#     for batch_id, (target_x, target_y) in tqdm(enumerate(train_svhn_loader), total=len(train_svhn_loader)):\n",
    "#         optimizerCNet.zero_grad()\n",
    "#         optimizerEncoder.zero_grad()\n",
    "#         target_x = target_x.to(device).float()\n",
    "#         target_y = target_y.to(device)\n",
    "#         num_datas += target_x.size(0)\n",
    "#         target_x_embedding = encoder(target_x)\n",
    "#         pred = CNet(target_x_embedding)\n",
    "#         target_acc += (pred.argmax(-1) == target_y).sum().item()\n",
    "#         loss = criterion_classifier(pred, target_y)\n",
    "#         loss.backward()\n",
    "#         optimizerCNet.step()\n",
    "#         optimizerEncoder.step()\n",
    "        \n",
    "    \n",
    "#     target_acc = target_acc / num_datas\n",
    "#     target_acc_label_.append(target_acc)\n",
    "    \n",
    "    \n",
    "    # DANN\n",
    "    DomainCNet.train()\n",
    "    encoder.train()\n",
    "    num_datas = 0.0\n",
    "    for batch_id, (adv_x, adv_y) in tqdm(enumerate(adverial_loader), total=len(adverial_loader)):\n",
    "        optimizerCNet.zero_grad()\n",
    "        optimizerEncoder.zero_grad()\n",
    "        adv_x = adv_x.to(device).float()\n",
    "        adv_y = adv_y.to(device)\n",
    "        num_datas += adv_x.size(0)\n",
    "        adv_x_embedding = encoder(adv_x)\n",
    "        pred = DomainCNet(adv_x_embedding)\n",
    "        # adv_acc += (pred.argmax(-1) == adv_y).sum().item()\n",
    "        loss = args.dann_weight * criterion_classifier(pred, adv_y)\n",
    "        loss.backward()\n",
    "        optimizerEncoder.step()\n",
    "        optimizerDomainCNet.step()\n",
    "    \n",
    "    \n",
    "    \n",
    "    \n",
    "    \n",
    "    # eval on source   \n",
    "    source_test_acc = 0.0\n",
    "    num_datas = 0.0\n",
    "    CNet.eval()\n",
    "    encoder.eval()\n",
    "    \n",
    "    for batch_id, (source_x, source_y) in enumerate(test_mnist_loader):\n",
    "        optimizerCNet.zero_grad()\n",
    "        optimizerEncoder.zero_grad()\n",
    "        source_x = source_x.to(device).float()\n",
    "        source_y = source_y.to(device)\n",
    "        num_datas += source_x.size(0)\n",
    "        source_x_embedding = encoder(source_x)\n",
    "        pred = CNet(source_x_embedding)\n",
    "        source_test_acc += (pred.argmax(-1) == source_y).sum().item()\n",
    "        \n",
    "    source_test_acc = source_test_acc / num_datas\n",
    "    source_test_acc_.append(source_test_acc)\n",
    "    \n",
    "    # eval on target \n",
    "    num_datas = 0.0\n",
    "    target_test_acc = 0.0\n",
    "    for batch_id, (target_x, target_y) in enumerate(test_svhn_loader):\n",
    "        optimizerCNet.zero_grad()\n",
    "        optimizerEncoder.zero_grad()\n",
    "        target_x = target_x.to(device).float()\n",
    "        target_y = target_y.to(device)\n",
    "        num_datas += target_x.size(0)\n",
    "        target_x_embedding = encoder(target_x)\n",
    "        pred = CNet(target_x_embedding)\n",
    "        target_test_acc += (pred.argmax(-1) == target_y).sum().item()\n",
    "    \n",
    "    target_test_acc = target_test_acc / num_datas\n",
    "    target_test_acc_.append(source_test_acc)\n",
    "    \n",
    "    if epoch % args.model_save_period == 0:\n",
    "        torch.save(DomainCNet.state_dict(), args.save_path+model_sub_folder+ '/DomainCNet_%i.t7'%(epoch+1))\n",
    "        torch.save(encoder.state_dict(), args.save_path+model_sub_folder+ '/encoder_%i.t7'%(epoch+1))\n",
    "        torch.save(CNet.state_dict(), args.save_path+model_sub_folder+ '/CNet_%i.t7'%(epoch+1))\n",
    "\n",
    "    \n",
    "    logger.info('Epochs %i: source train acc: %f; source test acc: %f; target test acc: %f'%(epoch+1, source_acc, source_test_acc, target_test_acc))\n",
    "    "
   ]
  },
  {
   "cell_type": "markdown",
   "metadata": {},
   "source": [
    "# Evalualtion"
   ]
  },
  {
   "cell_type": "code",
   "execution_count": 98,
   "metadata": {},
   "outputs": [],
   "source": [
    "from sklearn.manifold import TSNE\n",
    "import seaborn as sns"
   ]
  },
  {
   "cell_type": "code",
   "execution_count": 92,
   "metadata": {},
   "outputs": [
    {
     "name": "stderr",
     "output_type": "stream",
     "text": [
      "  6%|▌         | 9/150 [00:00<00:07, 20.10it/s]\n"
     ]
    }
   ],
   "source": [
    "source_x_all = torch.empty(0,).to(device)\n",
    "source_y_all = torch.empty(0,).to(device).long()\n",
    "round_ = 0\n",
    "total_round = 10\n",
    "for batch_id, (source_x, source_y) in tqdm(enumerate(train_mnist_loader), total=len(train_mnist_loader)):\n",
    "    optimizerCNet.zero_grad()\n",
    "    optimizerEncoder.zero_grad()\n",
    "    source_x = source_x.to(device).float()\n",
    "    source_y = source_y.to(device)\n",
    "    source_x_all = torch.cat([source_x_all, source_x], dim=0)\n",
    "    source_y_all = torch.cat([source_y_all, source_y], dim=0)\n",
    "    round_ += 1\n",
    "    if round_ >= total_round:\n",
    "        break"
   ]
  },
  {
   "cell_type": "code",
   "execution_count": 106,
   "metadata": {},
   "outputs": [
    {
     "data": {
      "text/plain": [
       "Text(0.5, 1.0, 'tSNE for source training data')"
      ]
     },
     "execution_count": 106,
     "metadata": {},
     "output_type": "execute_result"
    },
    {
     "data": {
      "image/png": "[encoded data removed]",
      "text/plain": [
       "<Figure size 842.4x595.44 with 1 Axes>"
      ]
     },
     "metadata": {},
     "output_type": "display_data"
    }
   ],
   "source": [
    "CNet.eval()\n",
    "encoder.eval()\n",
    "CNet.to(device)\n",
    "encoder.to(device)\n",
    "source_x_embedding_all = encoder(source_x_all)\n",
    "last_layer = CNet(source_x_embedding_all)\n",
    "source_x_embedding_all.shape\n",
    "\n",
    "\n",
    "tsne = TSNE()\n",
    "tsne_res = tsne.fit_transform(source_x_embedding_all.to('cpu').detach())\n",
    "\n",
    "# plot\n",
    "# linear unlabeled\n",
    "sns.set(rc={'figure.figsize':(11.7,8.27)})\n",
    "palette = sns.color_palette(\"bright\", 10)\n",
    "\n",
    "g = sns.scatterplot(tsne_res[:,0], tsne_res[:,1], hue=source_y_all.to('cpu'), legend=False, palette=palette)\n",
    "\n",
    "plt.title('tSNE for source training data')"
   ]
  },
  {
   "cell_type": "code",
   "execution_count": 107,
   "metadata": {},
   "outputs": [
    {
     "name": "stderr",
     "output_type": "stream",
     "text": [
      "  5%|▍         | 9/184 [00:01<00:36,  4.77it/s]\n"
     ]
    }
   ],
   "source": [
    "target_x_all = torch.empty(0,).to(device)\n",
    "target_y_all = torch.empty(0,).to(device).long()\n",
    "round_ = 0\n",
    "total_round = 10\n",
    "for batch_id, (target_x, target_y) in tqdm(enumerate(test_svhn_loader), total=len(test_svhn_loader)):\n",
    "    optimizerCNet.zero_grad()\n",
    "    optimizerEncoder.zero_grad()\n",
    "    target_x = target_x.to(device).float()\n",
    "    target_y = target_y.to(device)\n",
    "    target_x_all = torch.cat([target_x_all, target_x], dim=0)\n",
    "    target_y_all = torch.cat([target_y_all, target_y], dim=0)\n",
    "    round_ += 1\n",
    "    if round_ >= total_round:\n",
    "        break"
   ]
  },
  {
   "cell_type": "code",
   "execution_count": 114,
   "metadata": {},
   "outputs": [
    {
     "data": {
      "text/plain": [
       "Text(0.5, 1.0, 'tSNE for target testing data')"
      ]
     },
     "execution_count": 114,
     "metadata": {},
     "output_type": "execute_result"
    },
    {
     "data": {
      "image/png": "[encoded data removed]",
      "text/plain": [
       "<Figure size 842.4x595.44 with 1 Axes>"
      ]
     },
     "metadata": {},
     "output_type": "display_data"
    }
   ],
   "source": [
    "CNet.load_state_dict(torch.load(args.save_path + model_sub_folder+r'\\acc25_CNet_13.t7', map_location=device))\n",
    "encoder.load_state_dict(torch.load(args.save_path + model_sub_folder+r'\\acc25_encoder_13.t7', map_location=device))\n",
    "CNet.eval()\n",
    "encoder.eval()\n",
    "CNet.to(device)\n",
    "encoder.to(device)\n",
    "target_x_embedding_all = encoder(target_x_all)\n",
    "last_layer = CNet(target_x_embedding_all)\n",
    "target_x_embedding_all.shape\n",
    "\n",
    "\n",
    "target_tsne = TSNE()\n",
    "target_tsne_res = target_tsne.fit_transform(last_layer.to('cpu').detach())\n",
    "\n",
    "# plot\n",
    "# linear unlabeled\n",
    "sns.set(rc={'figure.figsize':(11.7,8.27)})\n",
    "palette = sns.color_palette(\"bright\", 10)\n",
    "\n",
    "g = sns.scatterplot(target_tsne_res[:,0], target_tsne_res[:,1], hue=target_y_all.to('cpu'), legend=False, palette=palette)\n",
    "\n",
    "plt.title('tSNE for target testing data')"
   ]
  },
  {
   "cell_type": "code",
   "execution_count": 111,
   "metadata": {},
   "outputs": [
    {
     "data": {
      "text/plain": [
       "'\\\\dann_source_only_shffle\\\\wtarget_0.700000_dann_weight_1.000000_learningrate_0.001000'"
      ]
     },
     "execution_count": 111,
     "metadata": {},
     "output_type": "execute_result"
    }
   ],
   "source": [
    "model_sub_folder"
   ]
  },
  {
   "cell_type": "code",
   "execution_count": 113,
   "metadata": {},
   "outputs": [
    {
     "data": {
      "text/plain": [
       "<All keys matched successfully>"
      ]
     },
     "execution_count": 113,
     "metadata": {},
     "output_type": "execute_result"
    }
   ],
   "source": []
  },
  {
   "cell_type": "code",
   "execution_count": null,
   "metadata": {},
   "outputs": [],
   "source": []
  }
 ],
 "metadata": {
  "kernelspec": {
   "display_name": "Python 3",
   "language": "python",
   "name": "python3"
  },
  "language_info": {
   "codemirror_mode": {
    "name": "ipython",
    "version": 3
   },
   "file_extension": ".py",
   "mimetype": "text/x-python",
   "name": "python",
   "nbconvert_exporter": "python",
   "pygments_lexer": "ipython3",
   "version": "3.7.7"
  }
 },
 "nbformat": 4,
 "nbformat_minor": 4
}
